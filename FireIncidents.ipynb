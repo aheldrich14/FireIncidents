{
 "cells": [
  {
   "cell_type": "code",
   "execution_count": 561,
   "source": [
    "import pandas as pd\n",
    "import numpy as np\n",
    "import sklearn\n",
    "from sklearn.cluster import DBSCAN\n",
    "from sklearn import metrics\n",
    "from sklearn.cluster import KMeans\n",
    "from sklearn.linear_model import LinearRegression,LogisticRegression\n",
    "from sklearn.preprocessing import StandardScaler, OneHotEncoder\n",
    "from sklearn.model_selection import train_test_split, GridSearchCV\n",
    "from sklearn.dummy import DummyClassifier\n",
    "from datetime import datetime\n",
    "import matplotlib.pyplot as plt\n",
    "import matplotlib.cm as cm\n",
    "import seaborn as sns\n",
    "import os\n",
    "from shapely.geometry import MultiPoint\n",
    "from shapely.geometry import Polygon\n",
    "import sys\n",
    "import plotly.express as px\n",
    "import geopandas as gpd\n",
    "import plotly\n",
    "import plotly.graph_objects as go\n",
    "from scipy.spatial import distance\n",
    "import statsmodels.api as sm\n",
    "import xgboost as xgb\n",
    "from urllib.request import urlopen\n",
    "import json\n",
    "import pickle\n",
    "from joblib import dump, load"
   ],
   "outputs": [],
   "metadata": {
    "scrolled": true
   }
  },
  {
   "cell_type": "code",
   "execution_count": 45,
   "source": [
    "# load data\n",
    "RANDOM_STATE = 123\n",
    "fire_df = pd.read_csv(r\"Fire_Incidents.csv\")\n",
    "green_light = pd.read_csv(r\"Project_Green_Light_Locations.csv\")\n",
    "green_light['live_date'] = pd.to_datetime(green_light['live_date'])\n",
    "dfd_locations = pd.read_csv(r\"DFD_Fire_Station_Locations.csv\")"
   ],
   "outputs": [],
   "metadata": {}
  },
  {
   "cell_type": "code",
   "execution_count": 3,
   "source": [
    "fire_df.head()"
   ],
   "outputs": [
    {
     "output_type": "execute_result",
     "data": {
      "text/plain": [
       "  exposure   incident_address incident_number  \\\n",
       "0       No   2409 TOWNSEND ST      16-0030216   \n",
       "1       No  7874 FRONTENAC ST      16-0030244   \n",
       "2       No  1881 E GRAND BLVD      16-0030266   \n",
       "3       No    1265 MELDRUM ST      16-0030301   \n",
       "4       No    17154 LAMONT ST      16-0031935   \n",
       "\n",
       "                                  incident_type_desc property_use engine_area  \\\n",
       "0  Building fire                                 ...          NaN         E09   \n",
       "1  Flood assessment                              ...          NaN         E09   \n",
       "2  Gas leak (natural gas or LPG)                 ...          NaN         E09   \n",
       "3  Swift water rescue                            ...          NaN         E09   \n",
       "4  Building fire                                 ...          NaN         E44   \n",
       "\n",
       "            call_datetime       dispatch_datetime        arrival_datetime  \\\n",
       "0  2016/09/29 11:46:41+00  2016/09/29 11:49:17+00  2016/09/29 11:55:11+00   \n",
       "1  2016/09/29 13:59:31+00  2016/09/29 14:06:17+00  2016/09/29 14:18:54+00   \n",
       "2  2016/09/29 16:19:25+00  2016/09/29 16:21:32+00  2016/09/29 16:30:24+00   \n",
       "3  2016/09/29 20:57:20+00  2016/09/29 21:00:09+00  2016/09/29 21:04:30+00   \n",
       "4  2016/10/12 00:00:14+00  2016/10/12 00:03:20+00  2016/10/12 00:07:08+00   \n",
       "\n",
       "         cleared_datetime  civilian_injury  civilian_fatality  fire_injury  \\\n",
       "0  2016/09/29 12:54:39+00                0                  0            0   \n",
       "1  2016/09/29 14:26:22+00                0                  0            0   \n",
       "2  2016/09/29 16:35:53+00                0                  0            0   \n",
       "3  2016/09/29 21:17:44+00                0                  0            0   \n",
       "4  2016/10/12 02:21:52+00                0                  0            0   \n",
       "\n",
       "   fire_fatality structure_status          x          y  oid  geom  \n",
       "0              0              NaN -83.005263  42.359048    1   NaN  \n",
       "1              0              NaN -83.028054  42.387677    2   NaN  \n",
       "2              0              NaN -83.038307  42.374396    3   NaN  \n",
       "3              0              NaN -83.011810  42.348770    4   NaN  \n",
       "4              0              NaN -83.053816  42.419416    5   NaN  "
      ],
      "text/html": [
       "<div>\n",
       "<style scoped>\n",
       "    .dataframe tbody tr th:only-of-type {\n",
       "        vertical-align: middle;\n",
       "    }\n",
       "\n",
       "    .dataframe tbody tr th {\n",
       "        vertical-align: top;\n",
       "    }\n",
       "\n",
       "    .dataframe thead th {\n",
       "        text-align: right;\n",
       "    }\n",
       "</style>\n",
       "<table border=\"1\" class=\"dataframe\">\n",
       "  <thead>\n",
       "    <tr style=\"text-align: right;\">\n",
       "      <th></th>\n",
       "      <th>exposure</th>\n",
       "      <th>incident_address</th>\n",
       "      <th>incident_number</th>\n",
       "      <th>incident_type_desc</th>\n",
       "      <th>property_use</th>\n",
       "      <th>engine_area</th>\n",
       "      <th>call_datetime</th>\n",
       "      <th>dispatch_datetime</th>\n",
       "      <th>arrival_datetime</th>\n",
       "      <th>cleared_datetime</th>\n",
       "      <th>civilian_injury</th>\n",
       "      <th>civilian_fatality</th>\n",
       "      <th>fire_injury</th>\n",
       "      <th>fire_fatality</th>\n",
       "      <th>structure_status</th>\n",
       "      <th>x</th>\n",
       "      <th>y</th>\n",
       "      <th>oid</th>\n",
       "      <th>geom</th>\n",
       "    </tr>\n",
       "  </thead>\n",
       "  <tbody>\n",
       "    <tr>\n",
       "      <th>0</th>\n",
       "      <td>No</td>\n",
       "      <td>2409 TOWNSEND ST</td>\n",
       "      <td>16-0030216</td>\n",
       "      <td>Building fire                                 ...</td>\n",
       "      <td>NaN</td>\n",
       "      <td>E09</td>\n",
       "      <td>2016/09/29 11:46:41+00</td>\n",
       "      <td>2016/09/29 11:49:17+00</td>\n",
       "      <td>2016/09/29 11:55:11+00</td>\n",
       "      <td>2016/09/29 12:54:39+00</td>\n",
       "      <td>0</td>\n",
       "      <td>0</td>\n",
       "      <td>0</td>\n",
       "      <td>0</td>\n",
       "      <td>NaN</td>\n",
       "      <td>-83.005263</td>\n",
       "      <td>42.359048</td>\n",
       "      <td>1</td>\n",
       "      <td>NaN</td>\n",
       "    </tr>\n",
       "    <tr>\n",
       "      <th>1</th>\n",
       "      <td>No</td>\n",
       "      <td>7874 FRONTENAC ST</td>\n",
       "      <td>16-0030244</td>\n",
       "      <td>Flood assessment                              ...</td>\n",
       "      <td>NaN</td>\n",
       "      <td>E09</td>\n",
       "      <td>2016/09/29 13:59:31+00</td>\n",
       "      <td>2016/09/29 14:06:17+00</td>\n",
       "      <td>2016/09/29 14:18:54+00</td>\n",
       "      <td>2016/09/29 14:26:22+00</td>\n",
       "      <td>0</td>\n",
       "      <td>0</td>\n",
       "      <td>0</td>\n",
       "      <td>0</td>\n",
       "      <td>NaN</td>\n",
       "      <td>-83.028054</td>\n",
       "      <td>42.387677</td>\n",
       "      <td>2</td>\n",
       "      <td>NaN</td>\n",
       "    </tr>\n",
       "    <tr>\n",
       "      <th>2</th>\n",
       "      <td>No</td>\n",
       "      <td>1881 E GRAND BLVD</td>\n",
       "      <td>16-0030266</td>\n",
       "      <td>Gas leak (natural gas or LPG)                 ...</td>\n",
       "      <td>NaN</td>\n",
       "      <td>E09</td>\n",
       "      <td>2016/09/29 16:19:25+00</td>\n",
       "      <td>2016/09/29 16:21:32+00</td>\n",
       "      <td>2016/09/29 16:30:24+00</td>\n",
       "      <td>2016/09/29 16:35:53+00</td>\n",
       "      <td>0</td>\n",
       "      <td>0</td>\n",
       "      <td>0</td>\n",
       "      <td>0</td>\n",
       "      <td>NaN</td>\n",
       "      <td>-83.038307</td>\n",
       "      <td>42.374396</td>\n",
       "      <td>3</td>\n",
       "      <td>NaN</td>\n",
       "    </tr>\n",
       "    <tr>\n",
       "      <th>3</th>\n",
       "      <td>No</td>\n",
       "      <td>1265 MELDRUM ST</td>\n",
       "      <td>16-0030301</td>\n",
       "      <td>Swift water rescue                            ...</td>\n",
       "      <td>NaN</td>\n",
       "      <td>E09</td>\n",
       "      <td>2016/09/29 20:57:20+00</td>\n",
       "      <td>2016/09/29 21:00:09+00</td>\n",
       "      <td>2016/09/29 21:04:30+00</td>\n",
       "      <td>2016/09/29 21:17:44+00</td>\n",
       "      <td>0</td>\n",
       "      <td>0</td>\n",
       "      <td>0</td>\n",
       "      <td>0</td>\n",
       "      <td>NaN</td>\n",
       "      <td>-83.011810</td>\n",
       "      <td>42.348770</td>\n",
       "      <td>4</td>\n",
       "      <td>NaN</td>\n",
       "    </tr>\n",
       "    <tr>\n",
       "      <th>4</th>\n",
       "      <td>No</td>\n",
       "      <td>17154 LAMONT ST</td>\n",
       "      <td>16-0031935</td>\n",
       "      <td>Building fire                                 ...</td>\n",
       "      <td>NaN</td>\n",
       "      <td>E44</td>\n",
       "      <td>2016/10/12 00:00:14+00</td>\n",
       "      <td>2016/10/12 00:03:20+00</td>\n",
       "      <td>2016/10/12 00:07:08+00</td>\n",
       "      <td>2016/10/12 02:21:52+00</td>\n",
       "      <td>0</td>\n",
       "      <td>0</td>\n",
       "      <td>0</td>\n",
       "      <td>0</td>\n",
       "      <td>NaN</td>\n",
       "      <td>-83.053816</td>\n",
       "      <td>42.419416</td>\n",
       "      <td>5</td>\n",
       "      <td>NaN</td>\n",
       "    </tr>\n",
       "  </tbody>\n",
       "</table>\n",
       "</div>"
      ]
     },
     "metadata": {},
     "execution_count": 3
    }
   ],
   "metadata": {}
  },
  {
   "cell_type": "code",
   "execution_count": 38,
   "source": [
    "# clean/transform data\n",
    "# long = x, lat = y\n",
    "fire_inc = fire_df.copy()\n",
    "fire_inc['call_datetime'] = pd.to_datetime(fire_inc['call_datetime'])\n",
    "fire_inc['injury_or_fatality'] = fire_inc.apply(\n",
    "                                    lambda x: 1 if (x['civilian_injury'] > 0) | \n",
    "                                    (x['civilian_fatality'] > 0) | (x['fire_injury'] > 0) |\n",
    "                                    (x['fire_fatality'] > 0) else 0, axis=1)\n",
    "\n",
    "fire_inc.dropna(subset=['x', 'y'], inplace=True)\n",
    "\n",
    "cols = ['injury_or_fatality','call_datetime', 'x', 'y']\n",
    "fire_inc = fire_inc[cols]"
   ],
   "outputs": [],
   "metadata": {}
  },
  {
   "cell_type": "code",
   "execution_count": null,
   "source": [
    "#update feature columns\n",
    "fire_inc['hour'] = fire_inc['call_datetime'].dt.hour\n",
    "fire_inc['day'] = fire_inc['call_datetime'].dt.day\n",
    "fire_inc['DoY'] = fire_inc['call_datetime'].dt.dayofyear\n",
    "fire_inc['DoW'] = fire_inc['call_datetime'].dt.dayofweek\n",
    "fire_inc['week'] = fire_inc['call_datetime'].dt.isocalendar().week\n",
    "fire_inc['month'] = fire_inc['call_datetime'].dt.month\n",
    "fire_inc['year'] = fire_inc['call_datetime'].dt.year\n",
    "fire_inc['yearMonth'] = fire_inc['year']*100 + fire_inc['month']\n",
    "fire_inc['weekend'] = fire_inc['DoW'].apply(lambda x: 1 if (x == 0) | (x == 6) else 0)\n",
    "\n",
    "#filter to full years\n",
    "START = 2017\n",
    "END = 2019\n",
    "fire_inc = fire_inc[(fire_inc['year'] >= START) & (fire_inc['year'] <= END)]\n",
    "\n",
    "#use sin/cos functions to capture periodicity\n",
    "numPeriods = {'hour': 24, 'day': 31, 'DoY': 365, 'DoW': 7, 'week': 53, 'month': 12}\n",
    "for colName in ['hour','day','DoY','DoW','week','month']:\n",
    "    fire_inc[colName + 'x'] = np.sin(2 * np.pi * fire_inc[colName] / numPeriods[colName])\n",
    "    fire_inc[colName + 'y'] = np.cos(2 * np.pi * fire_inc[colName] / numPeriods[colName])\n",
    "\n",
    "fatal = fire_inc[fire_inc['injury_or_fatality'] == 1]\n",
    "dfs = {'fatal': fatal, 'all': fire_inc}"
   ],
   "outputs": [],
   "metadata": {}
  },
  {
   "cell_type": "code",
   "execution_count": 564,
   "source": [
    "datetime.date('2018-02-02')"
   ],
   "outputs": [
    {
     "output_type": "error",
     "ename": "TypeError",
     "evalue": "descriptor 'date' for 'datetime.datetime' objects doesn't apply to a 'str' object",
     "traceback": [
      "\u001b[0;31m---------------------------------------------------------------------------\u001b[0m",
      "\u001b[0;31mTypeError\u001b[0m                                 Traceback (most recent call last)",
      "\u001b[0;32m<ipython-input-564-c2a9a4cd95ad>\u001b[0m in \u001b[0;36m<module>\u001b[0;34m\u001b[0m\n\u001b[0;32m----> 1\u001b[0;31m \u001b[0mdatetime\u001b[0m\u001b[0;34m.\u001b[0m\u001b[0mdate\u001b[0m\u001b[0;34m(\u001b[0m\u001b[0;34m'2018-02-02'\u001b[0m\u001b[0;34m)\u001b[0m\u001b[0;34m\u001b[0m\u001b[0;34m\u001b[0m\u001b[0m\n\u001b[0m",
      "\u001b[0;31mTypeError\u001b[0m: descriptor 'date' for 'datetime.datetime' objects doesn't apply to a 'str' object"
     ]
    }
   ],
   "metadata": {}
  },
  {
   "cell_type": "code",
   "execution_count": 40,
   "source": [
    "##add closest fire station\n",
    "dfd_coords = np.array(list(zip(dfd_locations['X'], dfd_locations['Y'])))\n",
    "fire_inc['closest_stn'] = fire_inc.apply(lambda x: distance.cdist(np.array([(x['x'], x['y'])]), dfd_coords).min(axis=1)[0], axis=1)"
   ],
   "outputs": [],
   "metadata": {}
  },
  {
   "cell_type": "code",
   "execution_count": 46,
   "source": [
    "green_light.head()"
   ],
   "outputs": [
    {
     "output_type": "execute_result",
     "data": {
      "text/plain": [
       "           X          Y                address business_name business_type  \\\n",
       "0 -83.199179  42.401723       15510 Fenkell St         Mobil        Retail   \n",
       "1 -83.159842  42.417175    8930 W McNichols Rd      Marathon        Retail   \n",
       "2 -83.197639  42.386789  15439 Schoolcraft Ave         Citgo        Retail   \n",
       "3 -83.004221  42.434677      11603 E 7 Mile Rd        Sunoco        Retail   \n",
       "4 -82.959684  42.405842       10601 E Outer Dr            BP        Retail   \n",
       "\n",
       "   precinct                 live_date  ObjectId  \n",
       "0         8 2016-01-01 05:00:00+00:00         1  \n",
       "1        12 2016-01-01 05:00:00+00:00         2  \n",
       "2         2 2016-01-01 05:00:00+00:00         3  \n",
       "3         9 2016-01-01 05:00:00+00:00         4  \n",
       "4         9 2016-01-01 05:00:00+00:00         5  "
      ],
      "text/html": [
       "<div>\n",
       "<style scoped>\n",
       "    .dataframe tbody tr th:only-of-type {\n",
       "        vertical-align: middle;\n",
       "    }\n",
       "\n",
       "    .dataframe tbody tr th {\n",
       "        vertical-align: top;\n",
       "    }\n",
       "\n",
       "    .dataframe thead th {\n",
       "        text-align: right;\n",
       "    }\n",
       "</style>\n",
       "<table border=\"1\" class=\"dataframe\">\n",
       "  <thead>\n",
       "    <tr style=\"text-align: right;\">\n",
       "      <th></th>\n",
       "      <th>X</th>\n",
       "      <th>Y</th>\n",
       "      <th>address</th>\n",
       "      <th>business_name</th>\n",
       "      <th>business_type</th>\n",
       "      <th>precinct</th>\n",
       "      <th>live_date</th>\n",
       "      <th>ObjectId</th>\n",
       "    </tr>\n",
       "  </thead>\n",
       "  <tbody>\n",
       "    <tr>\n",
       "      <th>0</th>\n",
       "      <td>-83.199179</td>\n",
       "      <td>42.401723</td>\n",
       "      <td>15510 Fenkell St</td>\n",
       "      <td>Mobil</td>\n",
       "      <td>Retail</td>\n",
       "      <td>8</td>\n",
       "      <td>2016-01-01 05:00:00+00:00</td>\n",
       "      <td>1</td>\n",
       "    </tr>\n",
       "    <tr>\n",
       "      <th>1</th>\n",
       "      <td>-83.159842</td>\n",
       "      <td>42.417175</td>\n",
       "      <td>8930 W McNichols Rd</td>\n",
       "      <td>Marathon</td>\n",
       "      <td>Retail</td>\n",
       "      <td>12</td>\n",
       "      <td>2016-01-01 05:00:00+00:00</td>\n",
       "      <td>2</td>\n",
       "    </tr>\n",
       "    <tr>\n",
       "      <th>2</th>\n",
       "      <td>-83.197639</td>\n",
       "      <td>42.386789</td>\n",
       "      <td>15439 Schoolcraft Ave</td>\n",
       "      <td>Citgo</td>\n",
       "      <td>Retail</td>\n",
       "      <td>2</td>\n",
       "      <td>2016-01-01 05:00:00+00:00</td>\n",
       "      <td>3</td>\n",
       "    </tr>\n",
       "    <tr>\n",
       "      <th>3</th>\n",
       "      <td>-83.004221</td>\n",
       "      <td>42.434677</td>\n",
       "      <td>11603 E 7 Mile Rd</td>\n",
       "      <td>Sunoco</td>\n",
       "      <td>Retail</td>\n",
       "      <td>9</td>\n",
       "      <td>2016-01-01 05:00:00+00:00</td>\n",
       "      <td>4</td>\n",
       "    </tr>\n",
       "    <tr>\n",
       "      <th>4</th>\n",
       "      <td>-82.959684</td>\n",
       "      <td>42.405842</td>\n",
       "      <td>10601 E Outer Dr</td>\n",
       "      <td>BP</td>\n",
       "      <td>Retail</td>\n",
       "      <td>9</td>\n",
       "      <td>2016-01-01 05:00:00+00:00</td>\n",
       "      <td>5</td>\n",
       "    </tr>\n",
       "  </tbody>\n",
       "</table>\n",
       "</div>"
      ]
     },
     "metadata": {},
     "execution_count": 46
    }
   ],
   "metadata": {}
  },
  {
   "cell_type": "code",
   "execution_count": 47,
   "source": [
    "##use function to find nearest greenlight - we nned to filter lights to those that were live before incident\n",
    "def find_closest_green_light(inc_df, green_light_df):\n",
    "    live_lights = green_light_df[green_light_df['live_date'] < inc_df['call_datetime']]\n",
    "    light_coords = np.array(list(zip(live_lights['X'], live_lights['Y'])))\n",
    "    inc_coords = np.array([(inc_df['x'], inc_df['y'])])\n",
    "    min_dist = distance.cdist(inc_coords, light_coords).min(axis=1)[0]\n",
    "    return min_dist\n",
    "fire_inc['closest_light'] = fire_inc.apply(lambda x: find_closest_green_light(x, green_light), axis=1)"
   ],
   "outputs": [],
   "metadata": {}
  },
  {
   "cell_type": "code",
   "execution_count": 49,
   "source": [
    "fire_inc.head()"
   ],
   "outputs": [
    {
     "output_type": "execute_result",
     "data": {
      "text/plain": [
       "    injury_or_fatality             call_datetime          x          y  hour  \\\n",
       "6                    0 2017-01-04 00:10:07+00:00 -83.088720  42.426064     0   \n",
       "7                    1 2017-01-10 09:23:12+00:00 -83.082236  42.418395     9   \n",
       "8                    0 2017-01-14 08:03:22+00:00 -83.099447  42.443401     8   \n",
       "9                    0 2017-03-02 16:32:33+00:00 -83.135443  42.380273    16   \n",
       "10                   0 2017-03-06 20:32:38+00:00 -83.045696  42.407905    20   \n",
       "\n",
       "    day  DoY  DoW  week  month  ...      DoYx      DoYy      DoWx      DoWy  \\\n",
       "6     4    4    2     1      1  ...  0.068802  0.997630  0.974928 -0.222521   \n",
       "7    10   10    1     2      1  ...  0.171293  0.985220  0.781831  0.623490   \n",
       "8    14   14    5     2      1  ...  0.238673  0.971100 -0.974928 -0.222521   \n",
       "9     2   61    3     9      3  ...  0.867456  0.497513  0.433884 -0.900969   \n",
       "10    6   65    0    10      3  ...  0.899631  0.436651  0.000000  1.000000   \n",
       "\n",
       "       weekx     weeky  monthx        monthy  closest_stn  closest_light  \n",
       "6   0.118273  0.992981     0.5  8.660254e-01     0.015584       0.015269  \n",
       "7   0.234886  0.972023     0.5  8.660254e-01     0.022253       0.016398  \n",
       "8   0.234886  0.972023     0.5  8.660254e-01     0.011979       0.020578  \n",
       "9   0.875735  0.482792     1.0  6.123234e-17     0.013263       0.011673  \n",
       "10  0.926690  0.375828     1.0  6.123234e-17     0.016332       0.035715  \n",
       "\n",
       "[5 rows x 27 columns]"
      ],
      "text/html": [
       "<div>\n",
       "<style scoped>\n",
       "    .dataframe tbody tr th:only-of-type {\n",
       "        vertical-align: middle;\n",
       "    }\n",
       "\n",
       "    .dataframe tbody tr th {\n",
       "        vertical-align: top;\n",
       "    }\n",
       "\n",
       "    .dataframe thead th {\n",
       "        text-align: right;\n",
       "    }\n",
       "</style>\n",
       "<table border=\"1\" class=\"dataframe\">\n",
       "  <thead>\n",
       "    <tr style=\"text-align: right;\">\n",
       "      <th></th>\n",
       "      <th>injury_or_fatality</th>\n",
       "      <th>call_datetime</th>\n",
       "      <th>x</th>\n",
       "      <th>y</th>\n",
       "      <th>hour</th>\n",
       "      <th>day</th>\n",
       "      <th>DoY</th>\n",
       "      <th>DoW</th>\n",
       "      <th>week</th>\n",
       "      <th>month</th>\n",
       "      <th>...</th>\n",
       "      <th>DoYx</th>\n",
       "      <th>DoYy</th>\n",
       "      <th>DoWx</th>\n",
       "      <th>DoWy</th>\n",
       "      <th>weekx</th>\n",
       "      <th>weeky</th>\n",
       "      <th>monthx</th>\n",
       "      <th>monthy</th>\n",
       "      <th>closest_stn</th>\n",
       "      <th>closest_light</th>\n",
       "    </tr>\n",
       "  </thead>\n",
       "  <tbody>\n",
       "    <tr>\n",
       "      <th>6</th>\n",
       "      <td>0</td>\n",
       "      <td>2017-01-04 00:10:07+00:00</td>\n",
       "      <td>-83.088720</td>\n",
       "      <td>42.426064</td>\n",
       "      <td>0</td>\n",
       "      <td>4</td>\n",
       "      <td>4</td>\n",
       "      <td>2</td>\n",
       "      <td>1</td>\n",
       "      <td>1</td>\n",
       "      <td>...</td>\n",
       "      <td>0.068802</td>\n",
       "      <td>0.997630</td>\n",
       "      <td>0.974928</td>\n",
       "      <td>-0.222521</td>\n",
       "      <td>0.118273</td>\n",
       "      <td>0.992981</td>\n",
       "      <td>0.5</td>\n",
       "      <td>8.660254e-01</td>\n",
       "      <td>0.015584</td>\n",
       "      <td>0.015269</td>\n",
       "    </tr>\n",
       "    <tr>\n",
       "      <th>7</th>\n",
       "      <td>1</td>\n",
       "      <td>2017-01-10 09:23:12+00:00</td>\n",
       "      <td>-83.082236</td>\n",
       "      <td>42.418395</td>\n",
       "      <td>9</td>\n",
       "      <td>10</td>\n",
       "      <td>10</td>\n",
       "      <td>1</td>\n",
       "      <td>2</td>\n",
       "      <td>1</td>\n",
       "      <td>...</td>\n",
       "      <td>0.171293</td>\n",
       "      <td>0.985220</td>\n",
       "      <td>0.781831</td>\n",
       "      <td>0.623490</td>\n",
       "      <td>0.234886</td>\n",
       "      <td>0.972023</td>\n",
       "      <td>0.5</td>\n",
       "      <td>8.660254e-01</td>\n",
       "      <td>0.022253</td>\n",
       "      <td>0.016398</td>\n",
       "    </tr>\n",
       "    <tr>\n",
       "      <th>8</th>\n",
       "      <td>0</td>\n",
       "      <td>2017-01-14 08:03:22+00:00</td>\n",
       "      <td>-83.099447</td>\n",
       "      <td>42.443401</td>\n",
       "      <td>8</td>\n",
       "      <td>14</td>\n",
       "      <td>14</td>\n",
       "      <td>5</td>\n",
       "      <td>2</td>\n",
       "      <td>1</td>\n",
       "      <td>...</td>\n",
       "      <td>0.238673</td>\n",
       "      <td>0.971100</td>\n",
       "      <td>-0.974928</td>\n",
       "      <td>-0.222521</td>\n",
       "      <td>0.234886</td>\n",
       "      <td>0.972023</td>\n",
       "      <td>0.5</td>\n",
       "      <td>8.660254e-01</td>\n",
       "      <td>0.011979</td>\n",
       "      <td>0.020578</td>\n",
       "    </tr>\n",
       "    <tr>\n",
       "      <th>9</th>\n",
       "      <td>0</td>\n",
       "      <td>2017-03-02 16:32:33+00:00</td>\n",
       "      <td>-83.135443</td>\n",
       "      <td>42.380273</td>\n",
       "      <td>16</td>\n",
       "      <td>2</td>\n",
       "      <td>61</td>\n",
       "      <td>3</td>\n",
       "      <td>9</td>\n",
       "      <td>3</td>\n",
       "      <td>...</td>\n",
       "      <td>0.867456</td>\n",
       "      <td>0.497513</td>\n",
       "      <td>0.433884</td>\n",
       "      <td>-0.900969</td>\n",
       "      <td>0.875735</td>\n",
       "      <td>0.482792</td>\n",
       "      <td>1.0</td>\n",
       "      <td>6.123234e-17</td>\n",
       "      <td>0.013263</td>\n",
       "      <td>0.011673</td>\n",
       "    </tr>\n",
       "    <tr>\n",
       "      <th>10</th>\n",
       "      <td>0</td>\n",
       "      <td>2017-03-06 20:32:38+00:00</td>\n",
       "      <td>-83.045696</td>\n",
       "      <td>42.407905</td>\n",
       "      <td>20</td>\n",
       "      <td>6</td>\n",
       "      <td>65</td>\n",
       "      <td>0</td>\n",
       "      <td>10</td>\n",
       "      <td>3</td>\n",
       "      <td>...</td>\n",
       "      <td>0.899631</td>\n",
       "      <td>0.436651</td>\n",
       "      <td>0.000000</td>\n",
       "      <td>1.000000</td>\n",
       "      <td>0.926690</td>\n",
       "      <td>0.375828</td>\n",
       "      <td>1.0</td>\n",
       "      <td>6.123234e-17</td>\n",
       "      <td>0.016332</td>\n",
       "      <td>0.035715</td>\n",
       "    </tr>\n",
       "  </tbody>\n",
       "</table>\n",
       "<p>5 rows × 27 columns</p>\n",
       "</div>"
      ]
     },
     "metadata": {},
     "execution_count": 49
    }
   ],
   "metadata": {}
  },
  {
   "cell_type": "code",
   "execution_count": 530,
   "source": [
    "#Kmeans clustering on incidents\n",
    "CLUSTERS = 20 # num of fire stations in city\n",
    "clustering = KMeans(CLUSTERS)\n",
    "clustering.fit(fire_inc[['y', 'x']])\n",
    "fire_inc['cluster'] = clustering.labels_\n",
    "\n",
    "#one-hot encode cluster\n",
    "#fire_inc = pd.get_dummies(data=fire_inc, columns=['cluster'], prefix='cluster')\n",
    "\n"
   ],
   "outputs": [],
   "metadata": {}
  },
  {
   "cell_type": "code",
   "execution_count": 551,
   "source": [
    "#Kmeans clustering on injuries\n",
    "CLUSTERS = 20\n",
    "clustering = KMeans(CLUSTERS)\n",
    "clustering.fit(fire_inc[fire_inc['injury_or_fatality'] == 1][['y', 'x']])\n",
    "fire_inc['cluster'] = clustering.predict(fire_inc[['y', 'x']])"
   ],
   "outputs": [],
   "metadata": {}
  },
  {
   "cell_type": "code",
   "execution_count": 371,
   "source": [
    "clustering = DBSCAN(eps=.0015, min_samples=6).fit(fire_inc[['y', 'x']])\n",
    "fire_inc['cluster'] = clustering.labels_\n"
   ],
   "outputs": [],
   "metadata": {}
  },
  {
   "cell_type": "code",
   "execution_count": 562,
   "source": [
    "dump(clustering, \"cluster_model.joblib\")"
   ],
   "outputs": [
    {
     "output_type": "execute_result",
     "data": {
      "text/plain": [
       "['cluster_model.joblib']"
      ]
     },
     "metadata": {},
     "execution_count": 562
    }
   ],
   "metadata": {}
  },
  {
   "cell_type": "code",
   "execution_count": 580,
   "source": [
    "clustering.predict([[42.4347, -83.0042]])[0]   # long = x, lat = y"
   ],
   "outputs": [
    {
     "output_type": "execute_result",
     "data": {
      "text/plain": [
       "17"
      ]
     },
     "metadata": {},
     "execution_count": 580
    }
   ],
   "metadata": {}
  },
  {
   "cell_type": "code",
   "execution_count": 552,
   "source": [
    "#create polygon around each cluster so we an visualize it\n",
    "clusters = {'cluster': [], 'geometry': [], 'incident_count': [], 'inj/inc': [], 'inj': []}\n",
    "for cluster in fire_inc['cluster'].unique():\n",
    "    if cluster == -1:\n",
    "        continue\n",
    "    points = fire_inc[fire_inc['cluster'] == cluster]\n",
    "    clusterPoints = MultiPoint(list(zip(points['x'], points['y'])))\n",
    "    clusterPoly = clusterPoints.convex_hull\n",
    "    clusters['cluster'].append(cluster)\n",
    "    clusters['geometry'].append(clusterPoly)\n",
    "    clusters['incident_count'].append(len(points))\n",
    "    clusters['inj/inc'].append(\n",
    "                            len(points[points['injury_or_fatality'] == 1])/len(points))\n",
    "    clusters['inj'].append(len(points[points['injury_or_fatality'] == 1]))\n",
    "\n",
    "geoDf = gpd.GeoDataFrame(clusters, crs='EPSG:4326')\n",
    "geoDf"
   ],
   "outputs": [
    {
     "output_type": "execute_result",
     "data": {
      "text/plain": [
       "    cluster                                           geometry  \\\n",
       "0         4  POLYGON ((-83.06640 42.38398, -83.07272 42.386...   \n",
       "1        15  POLYGON ((-83.14123 42.36964, -83.14409 42.369...   \n",
       "2        10  POLYGON ((-83.04159 42.39389, -83.04161 42.393...   \n",
       "3         9  POLYGON ((-83.10891 42.34184, -83.11273 42.342...   \n",
       "4        11  POLYGON ((-83.19605 42.33463, -83.21077 42.336...   \n",
       "5         7  POLYGON ((-83.17556 42.39579, -83.18863 42.395...   \n",
       "6         0  POLYGON ((-82.96654 42.40492, -82.96654 42.409...   \n",
       "7         8  POLYGON ((-83.14213 42.31369, -83.14228 42.313...   \n",
       "8        18  POLYGON ((-83.03270 42.33103, -83.03527 42.331...   \n",
       "9        13  POLYGON ((-83.23221 42.39263, -83.23349 42.392...   \n",
       "10        6  POLYGON ((-82.97884 42.37339, -82.98536 42.373...   \n",
       "11        3  POLYGON ((-83.08272 42.31257, -83.08766 42.313...   \n",
       "12       12  POLYGON ((-82.96715 42.35625, -82.97066 42.359...   \n",
       "13       16  POLYGON ((-83.12678 42.28922, -83.13264 42.293...   \n",
       "14       14  POLYGON ((-83.18509 42.25126, -83.16702 42.289...   \n",
       "15        1                        POINT (-127.91418 32.02636)   \n",
       "16       19  POLYGON ((-83.22047 42.32873, -83.22519 42.328...   \n",
       "17        2  POLYGON ((-83.18571 42.35108, -83.19034 42.351...   \n",
       "18       17  POLYGON ((-82.97302 42.40144, -82.97652 42.403...   \n",
       "19        5  POLYGON ((-83.26114 42.37880, -83.27331 42.378...   \n",
       "\n",
       "    incident_count   inj/inc  inj  \n",
       "0             3536  0.011312   40  \n",
       "1             3923  0.011216   44  \n",
       "2             2363  0.013965   33  \n",
       "3             4357  0.011705   51  \n",
       "4             2949  0.006782   20  \n",
       "5             4623  0.007571   35  \n",
       "6             2987  0.009709   29  \n",
       "7             2306  0.010841   25  \n",
       "8             4367  0.007099   31  \n",
       "9             4373  0.009604   42  \n",
       "10            2591  0.012736   33  \n",
       "11            7702  0.006232   48  \n",
       "12            2833  0.013413   38  \n",
       "13            2774  0.014059   39  \n",
       "14             905  0.013260   12  \n",
       "15             606  0.011551    7  \n",
       "16            2825  0.009912   28  \n",
       "17            2788  0.013630   38  \n",
       "18            3138  0.015934   50  \n",
       "19            3451  0.015648   54  "
      ],
      "text/html": [
       "<div>\n",
       "<style scoped>\n",
       "    .dataframe tbody tr th:only-of-type {\n",
       "        vertical-align: middle;\n",
       "    }\n",
       "\n",
       "    .dataframe tbody tr th {\n",
       "        vertical-align: top;\n",
       "    }\n",
       "\n",
       "    .dataframe thead th {\n",
       "        text-align: right;\n",
       "    }\n",
       "</style>\n",
       "<table border=\"1\" class=\"dataframe\">\n",
       "  <thead>\n",
       "    <tr style=\"text-align: right;\">\n",
       "      <th></th>\n",
       "      <th>cluster</th>\n",
       "      <th>geometry</th>\n",
       "      <th>incident_count</th>\n",
       "      <th>inj/inc</th>\n",
       "      <th>inj</th>\n",
       "    </tr>\n",
       "  </thead>\n",
       "  <tbody>\n",
       "    <tr>\n",
       "      <th>0</th>\n",
       "      <td>4</td>\n",
       "      <td>POLYGON ((-83.06640 42.38398, -83.07272 42.386...</td>\n",
       "      <td>3536</td>\n",
       "      <td>0.011312</td>\n",
       "      <td>40</td>\n",
       "    </tr>\n",
       "    <tr>\n",
       "      <th>1</th>\n",
       "      <td>15</td>\n",
       "      <td>POLYGON ((-83.14123 42.36964, -83.14409 42.369...</td>\n",
       "      <td>3923</td>\n",
       "      <td>0.011216</td>\n",
       "      <td>44</td>\n",
       "    </tr>\n",
       "    <tr>\n",
       "      <th>2</th>\n",
       "      <td>10</td>\n",
       "      <td>POLYGON ((-83.04159 42.39389, -83.04161 42.393...</td>\n",
       "      <td>2363</td>\n",
       "      <td>0.013965</td>\n",
       "      <td>33</td>\n",
       "    </tr>\n",
       "    <tr>\n",
       "      <th>3</th>\n",
       "      <td>9</td>\n",
       "      <td>POLYGON ((-83.10891 42.34184, -83.11273 42.342...</td>\n",
       "      <td>4357</td>\n",
       "      <td>0.011705</td>\n",
       "      <td>51</td>\n",
       "    </tr>\n",
       "    <tr>\n",
       "      <th>4</th>\n",
       "      <td>11</td>\n",
       "      <td>POLYGON ((-83.19605 42.33463, -83.21077 42.336...</td>\n",
       "      <td>2949</td>\n",
       "      <td>0.006782</td>\n",
       "      <td>20</td>\n",
       "    </tr>\n",
       "    <tr>\n",
       "      <th>5</th>\n",
       "      <td>7</td>\n",
       "      <td>POLYGON ((-83.17556 42.39579, -83.18863 42.395...</td>\n",
       "      <td>4623</td>\n",
       "      <td>0.007571</td>\n",
       "      <td>35</td>\n",
       "    </tr>\n",
       "    <tr>\n",
       "      <th>6</th>\n",
       "      <td>0</td>\n",
       "      <td>POLYGON ((-82.96654 42.40492, -82.96654 42.409...</td>\n",
       "      <td>2987</td>\n",
       "      <td>0.009709</td>\n",
       "      <td>29</td>\n",
       "    </tr>\n",
       "    <tr>\n",
       "      <th>7</th>\n",
       "      <td>8</td>\n",
       "      <td>POLYGON ((-83.14213 42.31369, -83.14228 42.313...</td>\n",
       "      <td>2306</td>\n",
       "      <td>0.010841</td>\n",
       "      <td>25</td>\n",
       "    </tr>\n",
       "    <tr>\n",
       "      <th>8</th>\n",
       "      <td>18</td>\n",
       "      <td>POLYGON ((-83.03270 42.33103, -83.03527 42.331...</td>\n",
       "      <td>4367</td>\n",
       "      <td>0.007099</td>\n",
       "      <td>31</td>\n",
       "    </tr>\n",
       "    <tr>\n",
       "      <th>9</th>\n",
       "      <td>13</td>\n",
       "      <td>POLYGON ((-83.23221 42.39263, -83.23349 42.392...</td>\n",
       "      <td>4373</td>\n",
       "      <td>0.009604</td>\n",
       "      <td>42</td>\n",
       "    </tr>\n",
       "    <tr>\n",
       "      <th>10</th>\n",
       "      <td>6</td>\n",
       "      <td>POLYGON ((-82.97884 42.37339, -82.98536 42.373...</td>\n",
       "      <td>2591</td>\n",
       "      <td>0.012736</td>\n",
       "      <td>33</td>\n",
       "    </tr>\n",
       "    <tr>\n",
       "      <th>11</th>\n",
       "      <td>3</td>\n",
       "      <td>POLYGON ((-83.08272 42.31257, -83.08766 42.313...</td>\n",
       "      <td>7702</td>\n",
       "      <td>0.006232</td>\n",
       "      <td>48</td>\n",
       "    </tr>\n",
       "    <tr>\n",
       "      <th>12</th>\n",
       "      <td>12</td>\n",
       "      <td>POLYGON ((-82.96715 42.35625, -82.97066 42.359...</td>\n",
       "      <td>2833</td>\n",
       "      <td>0.013413</td>\n",
       "      <td>38</td>\n",
       "    </tr>\n",
       "    <tr>\n",
       "      <th>13</th>\n",
       "      <td>16</td>\n",
       "      <td>POLYGON ((-83.12678 42.28922, -83.13264 42.293...</td>\n",
       "      <td>2774</td>\n",
       "      <td>0.014059</td>\n",
       "      <td>39</td>\n",
       "    </tr>\n",
       "    <tr>\n",
       "      <th>14</th>\n",
       "      <td>14</td>\n",
       "      <td>POLYGON ((-83.18509 42.25126, -83.16702 42.289...</td>\n",
       "      <td>905</td>\n",
       "      <td>0.013260</td>\n",
       "      <td>12</td>\n",
       "    </tr>\n",
       "    <tr>\n",
       "      <th>15</th>\n",
       "      <td>1</td>\n",
       "      <td>POINT (-127.91418 32.02636)</td>\n",
       "      <td>606</td>\n",
       "      <td>0.011551</td>\n",
       "      <td>7</td>\n",
       "    </tr>\n",
       "    <tr>\n",
       "      <th>16</th>\n",
       "      <td>19</td>\n",
       "      <td>POLYGON ((-83.22047 42.32873, -83.22519 42.328...</td>\n",
       "      <td>2825</td>\n",
       "      <td>0.009912</td>\n",
       "      <td>28</td>\n",
       "    </tr>\n",
       "    <tr>\n",
       "      <th>17</th>\n",
       "      <td>2</td>\n",
       "      <td>POLYGON ((-83.18571 42.35108, -83.19034 42.351...</td>\n",
       "      <td>2788</td>\n",
       "      <td>0.013630</td>\n",
       "      <td>38</td>\n",
       "    </tr>\n",
       "    <tr>\n",
       "      <th>18</th>\n",
       "      <td>17</td>\n",
       "      <td>POLYGON ((-82.97302 42.40144, -82.97652 42.403...</td>\n",
       "      <td>3138</td>\n",
       "      <td>0.015934</td>\n",
       "      <td>50</td>\n",
       "    </tr>\n",
       "    <tr>\n",
       "      <th>19</th>\n",
       "      <td>5</td>\n",
       "      <td>POLYGON ((-83.26114 42.37880, -83.27331 42.378...</td>\n",
       "      <td>3451</td>\n",
       "      <td>0.015648</td>\n",
       "      <td>54</td>\n",
       "    </tr>\n",
       "  </tbody>\n",
       "</table>\n",
       "</div>"
      ]
     },
     "metadata": {},
     "execution_count": 552
    }
   ],
   "metadata": {
    "tags": []
   }
  },
  {
   "cell_type": "code",
   "execution_count": 554,
   "source": [
    "fig = go.Figure()\n",
    "\n",
    "\n",
    "fig.add_trace(\n",
    "    go.Choroplethmapbox(\n",
    "        geojson=geoDf.__geo_interface__,\n",
    "        locations=geoDf.cluster,\n",
    "        featureidkey=\"properties.cluster\",\n",
    "        ids=geoDf.index,\n",
    "        z=geoDf.incident_count,\n",
    "        colorscale=[(0,\"white\"), (1,\"red\")],\n",
    "        marker={'opacity':.6},\n",
    "        name='Incident Cluster'\n",
    "    )\n",
    ")\n",
    "fig.add_trace(\n",
    "    go.Scattermapbox(\n",
    "        lat=dfd_locations['Y'],\n",
    "        lon=dfd_locations['X'],\n",
    "        marker={'size':5, 'color':'black'},\n",
    "        name='DFD Location'\n",
    "    )\n",
    ")\n",
    "fig.update_layout(\n",
    "    mapbox=dict(\n",
    "        bearing=0,\n",
    "        center = {\"lat\": 42.33, \"lon\": -83.05},\n",
    "        pitch=0,\n",
    "        zoom=10,\n",
    "        style='light'\n",
    "    ),\n",
    "    mapbox_style=\"open-street-map\"\n",
    ")\n",
    "#fig = px.scatter_mapbox(dfd_locations, lat=\"Y\", lon=\"X\", mapbox_style=\"open-street-map\")\n",
    "fig.show()"
   ],
   "outputs": [
    {
     "output_type": "display_data",
     "data": {
      "text/html": [
       "<div>                            <div id=\"194e869d-6be5-42b0-bbcf-3f4a994d4881\" class=\"plotly-graph-div\" style=\"height:525px; width:100%;\"></div>            <script type=\"text/javascript\">                require([\"plotly\"], function(Plotly) {                    window.PLOTLYENV=window.PLOTLYENV || {};                                    if (document.getElementById(\"194e869d-6be5-42b0-bbcf-3f4a994d4881\")) {                    Plotly.newPlot(                        \"194e869d-6be5-42b0-bbcf-3f4a994d4881\",                        [{\"colorscale\": [[0, \"white\"], [1, \"red\"]], \"featureidkey\": \"properties.cluster\", \"geojson\": {\"bbox\": [-127.914179208738, 32.0263641962111, -82.91056883033009, 42.4682900842991], \"features\": [{\"bbox\": [-83.1261045671323, 42.3839770790694, -83.05522009598259, 42.453521661839204], \"geometry\": {\"coordinates\": [[[-83.0663965452747, 42.3839770790694], [-83.07271619299479, 42.3860939448916], [-83.07788154107759, 42.3885527630684], [-83.0824749000034, 42.390760539501], [-83.0837681575418, 42.391424320686205], [-83.0868725882488, 42.3933178931908], [-83.11285670924009, 42.4176136233325], [-83.11398066532209, 42.4197427234543], [-83.12123189293992, 42.4350122671098], [-83.1261045671323, 42.4454033356543], [-83.1250303244999, 42.446502235355794], [-83.0696749394366, 42.453521661839204], [-83.0616775012392, 42.447318387786005], [-83.0585860310401, 42.4427717853205], [-83.0581490669343, 42.4404634949445], [-83.0573363033555, 42.433467780708604], [-83.0559966400255, 42.41964741537179], [-83.0553109065747, 42.4115662360495], [-83.05522009598259, 42.4093675837722], [-83.055387720474, 42.406854603363], [-83.0577059251445, 42.384262827959795], [-83.0663965452747, 42.3839770790694]]], \"type\": \"Polygon\"}, \"id\": \"0\", \"properties\": {\"cluster\": 4, \"incident_count\": 3536, \"inj\": 40, \"inj/inc\": 0.011312217194570135}, \"type\": \"Feature\"}, {\"bbox\": [-83.1636312900294, 42.36964329043111, -83.10761048570009, 42.4463909701824], \"geometry\": {\"coordinates\": [[[-83.1412334259967, 42.36964329043111], [-83.1440919545882, 42.3697623683787], [-83.1446824693237, 42.3698463372242], [-83.1478577502062, 42.372319463337895], [-83.15047404965641, 42.375379820937795], [-83.1516106343729, 42.3768866379454], [-83.1636096893983, 42.3951774902921], [-83.1636312900294, 42.3965536965972], [-83.1474614531712, 42.4314582140035], [-83.1448583551924, 42.437066292933295], [-83.14404324597429, 42.4387676914655], [-83.14298271842421, 42.4407002642695], [-83.13989633092791, 42.4461596106135], [-83.129149405446, 42.4463909701824], [-83.1262565597293, 42.4453999446806], [-83.122327535479, 42.4371048502111], [-83.1149785859609, 42.4209574979941], [-83.10761048570009, 42.4044791179381], [-83.11208719087979, 42.3978647126091], [-83.11318150064331, 42.396289595719], [-83.1239067637422, 42.3857484537209], [-83.1387648930366, 42.3713354875482], [-83.1412334259967, 42.36964329043111]]], \"type\": \"Polygon\"}, \"id\": \"1\", \"properties\": {\"cluster\": 15, \"incident_count\": 3923, \"inj\": 44, \"inj/inc\": 0.011215906194239103}, \"type\": \"Feature\"}, {\"bbox\": [-83.057067678877, 42.3938852047603, -83.0043202626239, 42.4682900842991], \"geometry\": {\"coordinates\": [[[-83.0415945135366, 42.3938852047603], [-83.0416130248917, 42.3938852560645], [-83.0496698239408, 42.3979112231354], [-83.05422137841359, 42.4047334918937], [-83.0545690064414, 42.4054599797492], [-83.054865158084, 42.4061693230719], [-83.0569408175169, 42.4358931409562], [-83.05704457061691, 42.4381859344469], [-83.057067678877, 42.4392026821076], [-83.0540584042748, 42.447507685509], [-83.03138299172142, 42.4682900842991], [-83.00518517984399, 42.4488191940215], [-83.0043202626239, 42.426330723141604], [-83.0053337146716, 42.4221594387346], [-83.0360997247831, 42.3975454202986], [-83.0391404790745, 42.3952438622241], [-83.0415945135366, 42.3938852047603]]], \"type\": \"Polygon\"}, \"id\": \"2\", \"properties\": {\"cluster\": 10, \"incident_count\": 2363, \"inj\": 33, \"inj/inc\": 0.01396529834955565}, \"type\": \"Feature\"}, {\"bbox\": [-83.1392577471382, 42.341838038948204, -83.0680363680506, 42.398603895095796], \"geometry\": {\"coordinates\": [[[-83.1089139902395, 42.341838038948204], [-83.112734802247, 42.342237616728895], [-83.1148273503523, 42.3426716119735], [-83.11491493570959, 42.3427315005154], [-83.1150276398986, 42.3428301700577], [-83.1176252637628, 42.3453880067923], [-83.12000524478809, 42.34792437242329], [-83.13599154619659, 42.3652026925881], [-83.1388397062736, 42.3686608419765], [-83.1392577471382, 42.369233890931795], [-83.1387820565991, 42.3706510566932], [-83.1377137878652, 42.3720873033441], [-83.1341088700202, 42.37564955866971], [-83.1238961673352, 42.3857228697253], [-83.11312296474041, 42.3962544799705], [-83.1120829145596, 42.397156608904204], [-83.110061750753, 42.398603895095796], [-83.0874807861205, 42.3930884780836], [-83.0697045724918, 42.384225296923205], [-83.0680363680506, 42.3832707935359], [-83.0721742124129, 42.3783124807762], [-83.07587044015929, 42.3740946918891], [-83.07868288429401, 42.3708918071453], [-83.0823533553218, 42.3668037197061], [-83.1035470940673, 42.3438068232772], [-83.10568702790658, 42.3418935612316], [-83.106035626082, 42.341851053728], [-83.1089139902395, 42.341838038948204]]], \"type\": \"Polygon\"}, \"id\": \"3\", \"properties\": {\"cluster\": 9, \"incident_count\": 4357, \"inj\": 51, \"inj/inc\": 0.011705301813174203}, \"type\": \"Feature\"}, {\"bbox\": [-83.233467915067, 42.3346272325247, -83.19130907216851, 42.396650921128], \"geometry\": {\"coordinates\": [[[-83.1960536942515, 42.3346272325247], [-83.2107673232782, 42.3362523172456], [-83.21678009617241, 42.350612451996604], [-83.2214023130738, 42.36184666647421], [-83.23344873970629, 42.3911284227168], [-83.233467915067, 42.3921112557381], [-83.2322744538954, 42.392388266649796], [-83.22986753921221, 42.3928185552741], [-83.2013848143735, 42.3966301626779], [-83.1999663502737, 42.396650921128], [-83.19849110286309, 42.3949581004283], [-83.19841188323309, 42.39483875650271], [-83.195352435674, 42.380110477186996], [-83.1943963528039, 42.374846436769], [-83.1915997341674, 42.3582488368079], [-83.1914897043067, 42.356230832799795], [-83.1914762695054, 42.355961663112105], [-83.19130907216851, 42.3522635122918], [-83.1960536942515, 42.3346272325247]]], \"type\": \"Polygon\"}, \"id\": \"4\", \"properties\": {\"cluster\": 11, \"incident_count\": 2949, \"inj\": 20, \"inj/inc\": 0.00678195998643608}, \"type\": \"Feature\"}, {\"bbox\": [-83.1991462964454, 42.395785857437, -83.1409417200865, 42.461394504401795], \"geometry\": {\"coordinates\": [[[-83.175560794026, 42.395785857437], [-83.1886341479402, 42.395796841978395], [-83.19852909815191, 42.3966863156607], [-83.1985708252315, 42.396830741599494], [-83.1991462964454, 42.3993191826777], [-83.19905408465091, 42.4014767868188], [-83.1961616959685, 42.430517708421895], [-83.19527250740009, 42.4393983047731], [-83.19497959203049, 42.4413815175308], [-83.1943571318753, 42.44492819719721], [-83.1526431349748, 42.461394504401795], [-83.1409417200865, 42.4461377083134], [-83.1419162923871, 42.44368435811], [-83.1438978553469, 42.439191095535705], [-83.15145806889291, 42.422938461670704], [-83.159809729323, 42.4050035039837], [-83.16170355803, 42.4010878918254], [-83.16372803233841, 42.3978734783424], [-83.175560794026, 42.395785857437]]], \"type\": \"Polygon\"}, \"id\": \"5\", \"properties\": {\"cluster\": 7, \"incident_count\": 4623, \"inj\": 35, \"inj/inc\": 0.007570841444949167}, \"type\": \"Feature\"}, {\"bbox\": [-82.9665436259816, 42.40492427666371, -82.91056883033009, 42.450229319855794], \"geometry\": {\"coordinates\": [[[-82.96654120764521, 42.40492427666371], [-82.9665436259816, 42.4094369983216], [-82.96426835903141, 42.423170768249506], [-82.9619881006181, 42.4364236588531], [-82.9603406237684, 42.445567100141204], [-82.9597443608832, 42.4481794909906], [-82.9586468313228, 42.450012002792], [-82.9488407120581, 42.4501902822696], [-82.9412834860098, 42.450229319855794], [-82.94074255301099, 42.4502236610294], [-82.9107594559215, 42.417151444160204], [-82.91056883033009, 42.4169079235699], [-82.9118718999343, 42.4142389502519], [-82.91352883252729, 42.4130685177711], [-82.9150292378697, 42.412733054179704], [-82.92153594126809, 42.411324014365], [-82.9436649388454, 42.4080778916528], [-82.95664012472609, 42.406178659415204], [-82.96233204881959, 42.4053566086882], [-82.96519073561741, 42.4050359274519], [-82.96654120764521, 42.40492427666371]]], \"type\": \"Polygon\"}, \"id\": \"6\", \"properties\": {\"cluster\": 0, \"incident_count\": 2987, \"inj\": 29, \"inj/inc\": 0.009708737864077669}, \"type\": \"Feature\"}, {\"bbox\": [-83.16522404361429, 42.3136945081526, -83.1163770351096, 42.36943340601871], \"geometry\": {\"coordinates\": [[[-83.142127332839, 42.3136945081526], [-83.1422845161649, 42.3137872090294], [-83.1565930894494, 42.3277983458704], [-83.16522404361429, 42.3515208531501], [-83.1650109579442, 42.352019282448296], [-83.15793537830871, 42.359159716359], [-83.15057950490059, 42.366357045159894], [-83.1437282998883, 42.36943340601871], [-83.14004371607221, 42.369164417304795], [-83.119999433807, 42.347844803212396], [-83.11887551958542, 42.346508798123004], [-83.1177776319499, 42.344613703141206], [-83.1163770351096, 42.340657149831], [-83.11822251859108, 42.338644385468704], [-83.1251974094305, 42.3311009673099], [-83.1265305164038, 42.3297177127689], [-83.142127332839, 42.3136945081526]]], \"type\": \"Polygon\"}, \"id\": \"7\", \"properties\": {\"cluster\": 8, \"incident_count\": 2306, \"inj\": 25, \"inj/inc\": 0.010841283607979185}, \"type\": \"Feature\"}, {\"bbox\": [-83.05353072704129, 42.3310272997651, -82.9701123818183, 42.3859837410565], \"geometry\": {\"coordinates\": [[[-83.03269713102159, 42.3310272997651], [-83.0352719517864, 42.3318725615405], [-83.036292230322, 42.3324215075713], [-83.036313950386, 42.3324437178108], [-83.0383036670474, 42.33541299947029], [-83.04011832049571, 42.338970198077504], [-83.04867846187629, 42.3628053921279], [-83.0528948701526, 42.3746984862011], [-83.05353072704129, 42.3775504493185], [-83.039167158239, 42.3859837410565], [-83.02364796249151, 42.3827289330008], [-83.0117132806236, 42.379997757088105], [-82.9764979556726, 42.371569459004704], [-82.97473982172751, 42.3687502526062], [-82.97369147666441, 42.365475500133], [-82.97236978898592, 42.3601945136045], [-82.9719931682286, 42.358003552473], [-82.9701123818183, 42.3391871856802], [-82.9931811214287, 42.3336372245911], [-83.03269713102159, 42.3310272997651]]], \"type\": \"Polygon\"}, \"id\": \"8\", \"properties\": {\"cluster\": 18, \"incident_count\": 4367, \"inj\": 31, \"inj/inc\": 0.007098694756125487}, \"type\": \"Feature\"}, {\"bbox\": [-83.2454521431736, 42.392634868662, -83.19488335269, 42.4449269354189], \"geometry\": {\"coordinates\": [[[-83.2322107344999, 42.392634868662], [-83.2334910822825, 42.392670401044704], [-83.23356820157821, 42.3927050357345], [-83.2362887946099, 42.4027530484137], [-83.2378530831739, 42.4085963879775], [-83.2391294825463, 42.4133765950731], [-83.24160066238379, 42.422771297388294], [-83.2443114932487, 42.4330946273084], [-83.2453304901307, 42.438852184933204], [-83.24534867297591, 42.43928330799171], [-83.2454023393705, 42.44062581950929], [-83.2454521431736, 42.441977211907], [-83.2448686443174, 42.4433118998599], [-83.2445626158872, 42.443639736789706], [-83.2192870845331, 42.4445288138879], [-83.1956911065961, 42.4449269354189], [-83.19488335269, 42.4449254723084], [-83.1962103979965, 42.430488790468296], [-83.19878154306579, 42.4051570858859], [-83.2000344818864, 42.3973636186787], [-83.20277452326759, 42.396761458874394], [-83.20932954831659, 42.395682066317704], [-83.2310285602433, 42.3926976730646], [-83.2322107344999, 42.392634868662]]], \"type\": \"Polygon\"}, \"id\": \"9\", \"properties\": {\"cluster\": 13, \"incident_count\": 4373, \"inj\": 42, \"inj/inc\": 0.009604390578550195}, \"type\": \"Feature\"}, {\"bbox\": [-83.04303169467191, 42.3733905141976, -82.9725467796378, 42.4227562430636], \"geometry\": {\"coordinates\": [[[-82.9788410492667, 42.3733905141976], [-82.9853641988083, 42.373827613185895], [-82.9990333148986, 42.377033352043206], [-83.02522825301479, 42.3832640080008], [-83.0266240265497, 42.3836009846367], [-83.0344793924826, 42.3855104817544], [-83.03886688294949, 42.386873107345096], [-83.04303169467191, 42.3891432692714], [-83.0422686322205, 42.391255907727], [-83.04197043759629, 42.3920481529588], [-83.0386047067867, 42.395192150700105], [-83.0232613823993, 42.4077403764326], [-83.00529670818041, 42.4221578152413], [-83.0041723782052, 42.4227562430636], [-83.0029220121159, 42.4220024898037], [-82.9975042703955, 42.4182224333396], [-82.9725467796378, 42.4006605790847], [-82.97276134714359, 42.396525832102604], [-82.97394038548221, 42.3899851148975], [-82.9788410492667, 42.3733905141976]]], \"type\": \"Polygon\"}, \"id\": \"10\", \"properties\": {\"cluster\": 6, \"incident_count\": 2591, \"inj\": 33, \"inj/inc\": 0.01273639521420301}, \"type\": \"Feature\"}, {\"bbox\": [-83.1054496928037, 42.3125733332168, -83.03696537405891, 42.3823999140317], \"geometry\": {\"coordinates\": [[[-83.0827174018811, 42.3125733332168], [-83.0876598649546, 42.3133586117726], [-83.10513531613391, 42.3408197710282], [-83.1054496928037, 42.3413725044899], [-83.1035184261181, 42.343760946949395], [-83.0936933398668, 42.3544335632358], [-83.082002630202, 42.3671218092932], [-83.07387561738629, 42.3758734638498], [-83.07230452649559, 42.3773833315372], [-83.0690007191467, 42.3805100560671], [-83.0636530587262, 42.3823999140317], [-83.0564880959357, 42.3823183490771], [-83.05232063409359, 42.3720867664626], [-83.0438156535064, 42.3486660019245], [-83.03932902697349, 42.3360749105643], [-83.03696537405891, 42.3291223412443], [-83.0386076052964, 42.3282511136009], [-83.04073467189642, 42.3273623669381], [-83.0789311218968, 42.3134651892584], [-83.0827174018811, 42.3125733332168]]], \"type\": \"Polygon\"}, \"id\": \"11\", \"properties\": {\"cluster\": 3, \"incident_count\": 7702, \"inj\": 48, \"inj/inc\": 0.006232147494157362}, \"type\": \"Feature\"}, {\"bbox\": [-82.9751559401582, 42.35625451175461, -82.91271253847499, 42.41233728352461], \"geometry\": {\"coordinates\": [[[-82.96715152821159, 42.35625451175461], [-82.9706611220578, 42.3596540375968], [-82.97283749237221, 42.365931908687], [-82.9751559401582, 42.373991650761496], [-82.9735728021203, 42.3883738800805], [-82.9720117710708, 42.39991212436821], [-82.9706395651749, 42.4014970265795], [-82.96820358873879, 42.403618375715396], [-82.96799079656559, 42.4036948516164], [-82.9664363416041, 42.4041516756174], [-82.96446810686909, 42.4047287943901], [-82.96264959671691, 42.405233354749704], [-82.92254030974141, 42.4111342144797], [-82.91271253847499, 42.41233728352461], [-82.91271254231191, 42.4123371189032], [-82.91311768762691, 42.4110035048292], [-82.92996119190009, 42.3603651629863], [-82.9321134157328, 42.359303667012], [-82.93257450744541, 42.359206684430596], [-82.94294228777709, 42.357629518797204], [-82.96715152821159, 42.35625451175461]]], \"type\": \"Polygon\"}, \"id\": \"12\", \"properties\": {\"cluster\": 12, \"incident_count\": 2833, \"inj\": 38, \"inj/inc\": 0.013413342746205436}, \"type\": \"Feature\"}, {\"bbox\": [-83.14190613938041, 42.289215090923, -83.0869871032851, 42.341660710309704], \"geometry\": {\"coordinates\": [[[-83.12677594794441, 42.289215090923], [-83.1326415351117, 42.293350834766], [-83.13388000081221, 42.2946552706732], [-83.14190613938041, 42.3132832053095], [-83.1267213850987, 42.3294186008374], [-83.119434578269, 42.336670079111], [-83.11661647189071, 42.339414156789296], [-83.1146861936975, 42.3403014671863], [-83.11046388852701, 42.341660710309704], [-83.10839579456591, 42.341117732430895], [-83.1053484412744, 42.3392422100356], [-83.1041891839265, 42.3376646745334], [-83.1023121963233, 42.334999534260895], [-83.0941112982949, 42.3230315567241], [-83.0925555705173, 42.3206134978366], [-83.08940022245959, 42.3146861030617], [-83.0869871032851, 42.3075704778796], [-83.0917018139606, 42.3037356126744], [-83.10159482334359, 42.2975488198365], [-83.1150010612109, 42.2906257697596], [-83.11877221593001, 42.290024953260705], [-83.12677594794441, 42.289215090923]]], \"type\": \"Polygon\"}, \"id\": \"13\", \"properties\": {\"cluster\": 16, \"incident_count\": 2774, \"inj\": 39, \"inj/inc\": 0.014059120403749098}, \"type\": \"Feature\"}, {\"bbox\": [-83.1850914735016, 42.2512619364321, -83.12412055912841, 42.2959518284631], \"geometry\": {\"coordinates\": [[[-83.1850914735016, 42.2512619364321], [-83.1670230959307, 42.289459133285206], [-83.1513024768947, 42.2959518284631], [-83.13640541430371, 42.2936822005945], [-83.1311111313573, 42.291858094332], [-83.13011648150659, 42.2909401453418], [-83.12412055912841, 42.2848275821559], [-83.12709958635429, 42.2822144790721], [-83.16120222830409, 42.2554994465495], [-83.1850914735016, 42.2512619364321]]], \"type\": \"Polygon\"}, \"id\": \"14\", \"properties\": {\"cluster\": 14, \"incident_count\": 905, \"inj\": 12, \"inj/inc\": 0.013259668508287293}, \"type\": \"Feature\"}, {\"bbox\": [-127.914179208738, 32.0263641962111, -127.914179208738, 32.0263641962111], \"geometry\": {\"coordinates\": [-127.914179208738, 32.0263641962111], \"type\": \"Point\"}, \"id\": \"15\", \"properties\": {\"cluster\": 1, \"incident_count\": 606, \"inj\": 7, \"inj/inc\": 0.01155115511551155}, \"type\": \"Feature\"}, {\"bbox\": [-83.26585914260109, 42.328729877434505, -83.2119553784667, 42.3914821524231], \"geometry\": {\"coordinates\": [[[-83.2204671771338, 42.328729877434505], [-83.22518679043779, 42.3289151155841], [-83.2622375130118, 42.3417293785849], [-83.26379947517691, 42.3437746936135], [-83.2653497617802, 42.359075023407996], [-83.2653605555359, 42.3593022220425], [-83.26585914260109, 42.3715294836175], [-83.26576473169709, 42.3726857176935], [-83.26456504430791, 42.3739737968248], [-83.26184547307649, 42.376647904684795], [-83.2465794945797, 42.38499282372229], [-83.2346936677049, 42.3914821524231], [-83.2334593252936, 42.390341586173705], [-83.23198158839021, 42.3869118172756], [-83.2239493625382, 42.3678508022816], [-83.2139205047623, 42.343377440507005], [-83.2120853112137, 42.3377905850212], [-83.2119553784667, 42.3362150971921], [-83.2153555648693, 42.32894501167821], [-83.2204671771338, 42.328729877434505]]], \"type\": \"Polygon\"}, \"id\": \"16\", \"properties\": {\"cluster\": 19, \"incident_count\": 2825, \"inj\": 28, \"inj/inc\": 0.00991150442477876}, \"type\": \"Feature\"}, {\"bbox\": [-83.1972991134249, 42.351075493683794, -83.1507076565181, 42.3957728280988], \"geometry\": {\"coordinates\": [[[-83.1857113534667, 42.351075493683794], [-83.1903378494226, 42.3513792862075], [-83.19291113202229, 42.3662394898634], [-83.1943450027993, 42.3748215366038], [-83.19707839568991, 42.392105613474996], [-83.1972991134249, 42.3941571312198], [-83.1972426961547, 42.3953895661689], [-83.1960601803567, 42.3954655611536], [-83.18971943507759, 42.3957728280988], [-83.1755506105252, 42.3955434772162], [-83.16456903836, 42.3951564443649], [-83.163844103135, 42.395117456047295], [-83.1538333459212, 42.3798384971806], [-83.15158721776609, 42.3759979742524], [-83.1507076565181, 42.3734579855399], [-83.15109430400621, 42.3663370082702], [-83.1532602811298, 42.3639996499239], [-83.1650901090477, 42.352136070570396], [-83.1685030307062, 42.3514749679465], [-83.1697023449088, 42.3514462919517], [-83.1824764045621, 42.3511426435051], [-83.1839384366711, 42.3511116730165], [-83.1857113534667, 42.351075493683794]]], \"type\": \"Polygon\"}, \"id\": \"17\", \"properties\": {\"cluster\": 2, \"incident_count\": 2788, \"inj\": 38, \"inj/inc\": 0.013629842180774749}, \"type\": \"Feature\"}, {\"bbox\": [-83.0048662032474, 42.401439949136794, -82.95986713584259, 42.4499645920919], \"geometry\": {\"coordinates\": [[[-82.9730181597231, 42.401439949136794], [-82.97651963168092, 42.403670201946795], [-82.9983403192255, 42.41894557096111], [-83.0010092872343, 42.4210497489902], [-83.00417854340759, 42.4238306073801], [-83.0043219679655, 42.4264222437827], [-83.00440967978159, 42.4290210060194], [-83.00479899200751, 42.4417298405095], [-83.0048662032474, 42.4488320045621], [-82.9856649101441, 42.4495745556406], [-82.9647267343622, 42.449911418902005], [-82.95986713584259, 42.4499645920919], [-82.9601509089269, 42.4482276653132], [-82.9638882201553, 42.4255789942142], [-82.9665839107238, 42.4094572001757], [-82.9671690990442, 42.4068139306802], [-82.9682222309477, 42.4052648805153], [-82.97116298848009, 42.4019355214347], [-82.9730181597231, 42.401439949136794]]], \"type\": \"Polygon\"}, \"id\": \"18\", \"properties\": {\"cluster\": 17, \"incident_count\": 3138, \"inj\": 50, \"inj/inc\": 0.015933715742511154}, \"type\": \"Feature\"}, {\"bbox\": [-83.28777091537759, 42.378797385718705, -83.2347527858512, 42.4435615700315], \"geometry\": {\"coordinates\": [[[-83.26114116522871, 42.378797385718705], [-83.2733060589425, 42.3788987883266], [-83.2741959421806, 42.3794455719252], [-83.2743598400512, 42.379598086947496], [-83.2864786422048, 42.409321702599705], [-83.28660317458909, 42.4117543585524], [-83.28747886390708, 42.4319950410045], [-83.28777091537759, 42.4425234958539], [-83.2868586497122, 42.4425685944192], [-83.24753197405029, 42.4435615700315], [-83.24349197911309, 42.4294351848678], [-83.2377435744535, 42.4078946408031], [-83.2361400956482, 42.4009459527288], [-83.23481788385979, 42.3944314245226], [-83.2347527858512, 42.393529778715504], [-83.2369740107324, 42.3902675135606], [-83.24008438549771, 42.3885952686745], [-83.246585610839, 42.385270831206], [-83.2610667435681, 42.37881954890079], [-83.26114116522871, 42.378797385718705]]], \"type\": \"Polygon\"}, \"id\": \"19\", \"properties\": {\"cluster\": 5, \"incident_count\": 3451, \"inj\": 54, \"inj/inc\": 0.015647638365691104}, \"type\": \"Feature\"}], \"type\": \"FeatureCollection\"}, \"ids\": [0, 1, 2, 3, 4, 5, 6, 7, 8, 9, 10, 11, 12, 13, 14, 15, 16, 17, 18, 19], \"locations\": [4, 15, 10, 9, 11, 7, 0, 8, 18, 13, 6, 3, 12, 16, 14, 1, 19, 2, 17, 5], \"marker\": {\"opacity\": 0.6}, \"name\": \"Incident Cluster\", \"type\": \"choroplethmapbox\", \"z\": [3536, 3923, 2363, 4357, 2949, 4623, 2987, 2306, 4367, 4373, 2591, 7702, 2833, 2774, 905, 606, 2825, 2788, 3138, 3451]}, {\"lat\": [42.3378751764982, 42.364789486845396, 42.375531734901706, 42.3113641428409, 42.294197030168796, 42.4127136868872, 42.348401053066205, 42.3682129288836, 42.3004775733814, 42.3464585624128, 42.385357634947, 42.3175579356503, 42.3722415148341, 42.39343800935671, 42.3799308748101, 42.366806532195795, 42.4320009917524, 42.3991119103864, 42.2730148753363, 42.420673926260704, 42.4250386014504, 42.396976221075796, 42.401108129236796, 42.4134980189185, 42.358146935932396, 42.4299596934851, 42.3870282146804, 42.4173136777841, 42.423077794304795, 42.3501900852043, 42.440256909329, 42.3471456813282, 42.314236545979796, 42.3627485114347, 42.389480642517704, 42.3488943464969, 42.33856901245, 42.422687730454506, 42.4043742618628], \"lon\": [-83.05408150955401, -83.07358852239241, -83.0363566328523, -83.09335267748409, -83.1097865962744, -83.1702425090845, -83.1109409885357, -82.9667407266032, -83.1268514452379, -83.13205960986309, -83.08086739581358, -83.127579864619, -83.1004851367796, -83.13383378789891, -83.00324378487271, -83.1393568924066, -83.10312797447641, -83.003699562185, -83.1588196109362, -82.9858926538229, -83.14079049628441, -82.9563244261313, -83.1991160905351, -83.2493135069128, -83.2173874573652, -83.06322332589579, -83.24628164857921, -82.954673994809, -83.218200224161, -83.04198398047629, -83.0052543362186, -83.0131382384389, -83.079991758313, -82.99229655254379, -82.9940131730694, -83.06360846595791, -83.1337574210681, -83.03875464001459, -83.0178914774097], \"marker\": {\"color\": \"black\", \"size\": 5}, \"name\": \"DFD Location\", \"type\": \"scattermapbox\"}],                        {\"mapbox\": {\"bearing\": 0, \"center\": {\"lat\": 42.33, \"lon\": -83.05}, \"pitch\": 0, \"style\": \"open-street-map\", \"zoom\": 10}, \"template\": {\"data\": {\"bar\": [{\"error_x\": {\"color\": \"#2a3f5f\"}, \"error_y\": {\"color\": \"#2a3f5f\"}, \"marker\": {\"line\": {\"color\": \"#E5ECF6\", \"width\": 0.5}}, \"type\": \"bar\"}], \"barpolar\": [{\"marker\": {\"line\": {\"color\": \"#E5ECF6\", \"width\": 0.5}}, \"type\": \"barpolar\"}], \"carpet\": [{\"aaxis\": {\"endlinecolor\": \"#2a3f5f\", \"gridcolor\": \"white\", \"linecolor\": \"white\", \"minorgridcolor\": \"white\", \"startlinecolor\": \"#2a3f5f\"}, \"baxis\": {\"endlinecolor\": \"#2a3f5f\", \"gridcolor\": \"white\", \"linecolor\": \"white\", \"minorgridcolor\": \"white\", \"startlinecolor\": \"#2a3f5f\"}, \"type\": \"carpet\"}], \"choropleth\": [{\"colorbar\": {\"outlinewidth\": 0, \"ticks\": \"\"}, \"type\": \"choropleth\"}], \"contour\": [{\"colorbar\": {\"outlinewidth\": 0, \"ticks\": \"\"}, \"colorscale\": [[0.0, \"#0d0887\"], [0.1111111111111111, \"#46039f\"], [0.2222222222222222, \"#7201a8\"], [0.3333333333333333, \"#9c179e\"], [0.4444444444444444, \"#bd3786\"], [0.5555555555555556, \"#d8576b\"], [0.6666666666666666, \"#ed7953\"], [0.7777777777777778, \"#fb9f3a\"], [0.8888888888888888, \"#fdca26\"], [1.0, \"#f0f921\"]], \"type\": \"contour\"}], \"contourcarpet\": [{\"colorbar\": {\"outlinewidth\": 0, \"ticks\": \"\"}, \"type\": \"contourcarpet\"}], \"heatmap\": [{\"colorbar\": {\"outlinewidth\": 0, \"ticks\": \"\"}, \"colorscale\": [[0.0, \"#0d0887\"], [0.1111111111111111, \"#46039f\"], [0.2222222222222222, \"#7201a8\"], [0.3333333333333333, \"#9c179e\"], [0.4444444444444444, \"#bd3786\"], [0.5555555555555556, \"#d8576b\"], [0.6666666666666666, \"#ed7953\"], [0.7777777777777778, \"#fb9f3a\"], [0.8888888888888888, \"#fdca26\"], [1.0, \"#f0f921\"]], \"type\": \"heatmap\"}], \"heatmapgl\": [{\"colorbar\": {\"outlinewidth\": 0, \"ticks\": \"\"}, \"colorscale\": [[0.0, \"#0d0887\"], [0.1111111111111111, \"#46039f\"], [0.2222222222222222, \"#7201a8\"], [0.3333333333333333, \"#9c179e\"], [0.4444444444444444, \"#bd3786\"], [0.5555555555555556, \"#d8576b\"], [0.6666666666666666, \"#ed7953\"], [0.7777777777777778, \"#fb9f3a\"], [0.8888888888888888, \"#fdca26\"], [1.0, \"#f0f921\"]], \"type\": \"heatmapgl\"}], \"histogram\": [{\"marker\": {\"colorbar\": {\"outlinewidth\": 0, \"ticks\": \"\"}}, \"type\": \"histogram\"}], \"histogram2d\": [{\"colorbar\": {\"outlinewidth\": 0, \"ticks\": \"\"}, \"colorscale\": [[0.0, \"#0d0887\"], [0.1111111111111111, \"#46039f\"], [0.2222222222222222, \"#7201a8\"], [0.3333333333333333, \"#9c179e\"], [0.4444444444444444, \"#bd3786\"], [0.5555555555555556, \"#d8576b\"], [0.6666666666666666, \"#ed7953\"], [0.7777777777777778, \"#fb9f3a\"], [0.8888888888888888, \"#fdca26\"], [1.0, \"#f0f921\"]], \"type\": \"histogram2d\"}], \"histogram2dcontour\": [{\"colorbar\": {\"outlinewidth\": 0, \"ticks\": \"\"}, \"colorscale\": [[0.0, \"#0d0887\"], [0.1111111111111111, \"#46039f\"], [0.2222222222222222, \"#7201a8\"], [0.3333333333333333, \"#9c179e\"], [0.4444444444444444, \"#bd3786\"], [0.5555555555555556, \"#d8576b\"], [0.6666666666666666, \"#ed7953\"], [0.7777777777777778, \"#fb9f3a\"], [0.8888888888888888, \"#fdca26\"], [1.0, \"#f0f921\"]], \"type\": \"histogram2dcontour\"}], \"mesh3d\": [{\"colorbar\": {\"outlinewidth\": 0, \"ticks\": \"\"}, \"type\": \"mesh3d\"}], \"parcoords\": [{\"line\": {\"colorbar\": {\"outlinewidth\": 0, \"ticks\": \"\"}}, \"type\": \"parcoords\"}], \"pie\": [{\"automargin\": true, \"type\": \"pie\"}], \"scatter\": [{\"marker\": {\"colorbar\": {\"outlinewidth\": 0, \"ticks\": \"\"}}, \"type\": \"scatter\"}], \"scatter3d\": [{\"line\": {\"colorbar\": {\"outlinewidth\": 0, \"ticks\": \"\"}}, \"marker\": {\"colorbar\": {\"outlinewidth\": 0, \"ticks\": \"\"}}, \"type\": \"scatter3d\"}], \"scattercarpet\": [{\"marker\": {\"colorbar\": {\"outlinewidth\": 0, \"ticks\": \"\"}}, \"type\": \"scattercarpet\"}], \"scattergeo\": [{\"marker\": {\"colorbar\": {\"outlinewidth\": 0, \"ticks\": \"\"}}, \"type\": \"scattergeo\"}], \"scattergl\": [{\"marker\": {\"colorbar\": {\"outlinewidth\": 0, \"ticks\": \"\"}}, \"type\": \"scattergl\"}], \"scattermapbox\": [{\"marker\": {\"colorbar\": {\"outlinewidth\": 0, \"ticks\": \"\"}}, \"type\": \"scattermapbox\"}], \"scatterpolar\": [{\"marker\": {\"colorbar\": {\"outlinewidth\": 0, \"ticks\": \"\"}}, \"type\": \"scatterpolar\"}], \"scatterpolargl\": [{\"marker\": {\"colorbar\": {\"outlinewidth\": 0, \"ticks\": \"\"}}, \"type\": \"scatterpolargl\"}], \"scatterternary\": [{\"marker\": {\"colorbar\": {\"outlinewidth\": 0, \"ticks\": \"\"}}, \"type\": \"scatterternary\"}], \"surface\": [{\"colorbar\": {\"outlinewidth\": 0, \"ticks\": \"\"}, \"colorscale\": [[0.0, \"#0d0887\"], [0.1111111111111111, \"#46039f\"], [0.2222222222222222, \"#7201a8\"], [0.3333333333333333, \"#9c179e\"], [0.4444444444444444, \"#bd3786\"], [0.5555555555555556, \"#d8576b\"], [0.6666666666666666, \"#ed7953\"], [0.7777777777777778, \"#fb9f3a\"], [0.8888888888888888, \"#fdca26\"], [1.0, \"#f0f921\"]], \"type\": \"surface\"}], \"table\": [{\"cells\": {\"fill\": {\"color\": \"#EBF0F8\"}, \"line\": {\"color\": \"white\"}}, \"header\": {\"fill\": {\"color\": \"#C8D4E3\"}, \"line\": {\"color\": \"white\"}}, \"type\": \"table\"}]}, \"layout\": {\"annotationdefaults\": {\"arrowcolor\": \"#2a3f5f\", \"arrowhead\": 0, \"arrowwidth\": 1}, \"autotypenumbers\": \"strict\", \"coloraxis\": {\"colorbar\": {\"outlinewidth\": 0, \"ticks\": \"\"}}, \"colorscale\": {\"diverging\": [[0, \"#8e0152\"], [0.1, \"#c51b7d\"], [0.2, \"#de77ae\"], [0.3, \"#f1b6da\"], [0.4, \"#fde0ef\"], [0.5, \"#f7f7f7\"], [0.6, \"#e6f5d0\"], [0.7, \"#b8e186\"], [0.8, \"#7fbc41\"], [0.9, \"#4d9221\"], [1, \"#276419\"]], \"sequential\": [[0.0, \"#0d0887\"], [0.1111111111111111, \"#46039f\"], [0.2222222222222222, \"#7201a8\"], [0.3333333333333333, \"#9c179e\"], [0.4444444444444444, \"#bd3786\"], [0.5555555555555556, \"#d8576b\"], [0.6666666666666666, \"#ed7953\"], [0.7777777777777778, \"#fb9f3a\"], [0.8888888888888888, \"#fdca26\"], [1.0, \"#f0f921\"]], \"sequentialminus\": [[0.0, \"#0d0887\"], [0.1111111111111111, \"#46039f\"], [0.2222222222222222, \"#7201a8\"], [0.3333333333333333, \"#9c179e\"], [0.4444444444444444, \"#bd3786\"], [0.5555555555555556, \"#d8576b\"], [0.6666666666666666, \"#ed7953\"], [0.7777777777777778, \"#fb9f3a\"], [0.8888888888888888, \"#fdca26\"], [1.0, \"#f0f921\"]]}, \"colorway\": [\"#636efa\", \"#EF553B\", \"#00cc96\", \"#ab63fa\", \"#FFA15A\", \"#19d3f3\", \"#FF6692\", \"#B6E880\", \"#FF97FF\", \"#FECB52\"], \"font\": {\"color\": \"#2a3f5f\"}, \"geo\": {\"bgcolor\": \"white\", \"lakecolor\": \"white\", \"landcolor\": \"#E5ECF6\", \"showlakes\": true, \"showland\": true, \"subunitcolor\": \"white\"}, \"hoverlabel\": {\"align\": \"left\"}, \"hovermode\": \"closest\", \"mapbox\": {\"style\": \"light\"}, \"paper_bgcolor\": \"white\", \"plot_bgcolor\": \"#E5ECF6\", \"polar\": {\"angularaxis\": {\"gridcolor\": \"white\", \"linecolor\": \"white\", \"ticks\": \"\"}, \"bgcolor\": \"#E5ECF6\", \"radialaxis\": {\"gridcolor\": \"white\", \"linecolor\": \"white\", \"ticks\": \"\"}}, \"scene\": {\"xaxis\": {\"backgroundcolor\": \"#E5ECF6\", \"gridcolor\": \"white\", \"gridwidth\": 2, \"linecolor\": \"white\", \"showbackground\": true, \"ticks\": \"\", \"zerolinecolor\": \"white\"}, \"yaxis\": {\"backgroundcolor\": \"#E5ECF6\", \"gridcolor\": \"white\", \"gridwidth\": 2, \"linecolor\": \"white\", \"showbackground\": true, \"ticks\": \"\", \"zerolinecolor\": \"white\"}, \"zaxis\": {\"backgroundcolor\": \"#E5ECF6\", \"gridcolor\": \"white\", \"gridwidth\": 2, \"linecolor\": \"white\", \"showbackground\": true, \"ticks\": \"\", \"zerolinecolor\": \"white\"}}, \"shapedefaults\": {\"line\": {\"color\": \"#2a3f5f\"}}, \"ternary\": {\"aaxis\": {\"gridcolor\": \"white\", \"linecolor\": \"white\", \"ticks\": \"\"}, \"baxis\": {\"gridcolor\": \"white\", \"linecolor\": \"white\", \"ticks\": \"\"}, \"bgcolor\": \"#E5ECF6\", \"caxis\": {\"gridcolor\": \"white\", \"linecolor\": \"white\", \"ticks\": \"\"}}, \"title\": {\"x\": 0.05}, \"xaxis\": {\"automargin\": true, \"gridcolor\": \"white\", \"linecolor\": \"white\", \"ticks\": \"\", \"title\": {\"standoff\": 15}, \"zerolinecolor\": \"white\", \"zerolinewidth\": 2}, \"yaxis\": {\"automargin\": true, \"gridcolor\": \"white\", \"linecolor\": \"white\", \"ticks\": \"\", \"title\": {\"standoff\": 15}, \"zerolinecolor\": \"white\", \"zerolinewidth\": 2}}}},                        {\"responsive\": true}                    ).then(function(){\n",
       "                            \n",
       "var gd = document.getElementById('194e869d-6be5-42b0-bbcf-3f4a994d4881');\n",
       "var x = new MutationObserver(function (mutations, observer) {{\n",
       "        var display = window.getComputedStyle(gd).display;\n",
       "        if (!display || display === 'none') {{\n",
       "            console.log([gd, 'removed!']);\n",
       "            Plotly.purge(gd);\n",
       "            observer.disconnect();\n",
       "        }}\n",
       "}});\n",
       "\n",
       "// Listen for the removal of the full notebook cells\n",
       "var notebookContainer = gd.closest('#notebook-container');\n",
       "if (notebookContainer) {{\n",
       "    x.observe(notebookContainer, {childList: true});\n",
       "}}\n",
       "\n",
       "// Listen for the clearing of the current output cell\n",
       "var outputEl = gd.closest('.output');\n",
       "if (outputEl) {{\n",
       "    x.observe(outputEl, {childList: true});\n",
       "}}\n",
       "\n",
       "                        })                };                });            </script>        </div>"
      ],
      "application/vnd.plotly.v1+json": {
       "config": {
        "plotlyServerURL": "https://plot.ly"
       },
       "data": [
        {
         "colorscale": [
          [
           0,
           "white"
          ],
          [
           1,
           "red"
          ]
         ],
         "featureidkey": "properties.cluster",
         "geojson": {
          "bbox": [
           -127.914179208738,
           32.0263641962111,
           -82.91056883033009,
           42.4682900842991
          ],
          "features": [
           {
            "bbox": [
             -83.1261045671323,
             42.3839770790694,
             -83.05522009598259,
             42.453521661839204
            ],
            "geometry": {
             "coordinates": [
              [
               [
                -83.0663965452747,
                42.3839770790694
               ],
               [
                -83.07271619299479,
                42.3860939448916
               ],
               [
                -83.07788154107759,
                42.3885527630684
               ],
               [
                -83.0824749000034,
                42.390760539501
               ],
               [
                -83.0837681575418,
                42.391424320686205
               ],
               [
                -83.0868725882488,
                42.3933178931908
               ],
               [
                -83.11285670924009,
                42.4176136233325
               ],
               [
                -83.11398066532209,
                42.4197427234543
               ],
               [
                -83.12123189293992,
                42.4350122671098
               ],
               [
                -83.1261045671323,
                42.4454033356543
               ],
               [
                -83.1250303244999,
                42.446502235355794
               ],
               [
                -83.0696749394366,
                42.453521661839204
               ],
               [
                -83.0616775012392,
                42.447318387786005
               ],
               [
                -83.0585860310401,
                42.4427717853205
               ],
               [
                -83.0581490669343,
                42.4404634949445
               ],
               [
                -83.0573363033555,
                42.433467780708604
               ],
               [
                -83.0559966400255,
                42.41964741537179
               ],
               [
                -83.0553109065747,
                42.4115662360495
               ],
               [
                -83.05522009598259,
                42.4093675837722
               ],
               [
                -83.055387720474,
                42.406854603363
               ],
               [
                -83.0577059251445,
                42.384262827959795
               ],
               [
                -83.0663965452747,
                42.3839770790694
               ]
              ]
             ],
             "type": "Polygon"
            },
            "id": "0",
            "properties": {
             "cluster": 4,
             "incident_count": 3536,
             "inj": 40,
             "inj/inc": 0.011312217194570135
            },
            "type": "Feature"
           },
           {
            "bbox": [
             -83.1636312900294,
             42.36964329043111,
             -83.10761048570009,
             42.4463909701824
            ],
            "geometry": {
             "coordinates": [
              [
               [
                -83.1412334259967,
                42.36964329043111
               ],
               [
                -83.1440919545882,
                42.3697623683787
               ],
               [
                -83.1446824693237,
                42.3698463372242
               ],
               [
                -83.1478577502062,
                42.372319463337895
               ],
               [
                -83.15047404965641,
                42.375379820937795
               ],
               [
                -83.1516106343729,
                42.3768866379454
               ],
               [
                -83.1636096893983,
                42.3951774902921
               ],
               [
                -83.1636312900294,
                42.3965536965972
               ],
               [
                -83.1474614531712,
                42.4314582140035
               ],
               [
                -83.1448583551924,
                42.437066292933295
               ],
               [
                -83.14404324597429,
                42.4387676914655
               ],
               [
                -83.14298271842421,
                42.4407002642695
               ],
               [
                -83.13989633092791,
                42.4461596106135
               ],
               [
                -83.129149405446,
                42.4463909701824
               ],
               [
                -83.1262565597293,
                42.4453999446806
               ],
               [
                -83.122327535479,
                42.4371048502111
               ],
               [
                -83.1149785859609,
                42.4209574979941
               ],
               [
                -83.10761048570009,
                42.4044791179381
               ],
               [
                -83.11208719087979,
                42.3978647126091
               ],
               [
                -83.11318150064331,
                42.396289595719
               ],
               [
                -83.1239067637422,
                42.3857484537209
               ],
               [
                -83.1387648930366,
                42.3713354875482
               ],
               [
                -83.1412334259967,
                42.36964329043111
               ]
              ]
             ],
             "type": "Polygon"
            },
            "id": "1",
            "properties": {
             "cluster": 15,
             "incident_count": 3923,
             "inj": 44,
             "inj/inc": 0.011215906194239103
            },
            "type": "Feature"
           },
           {
            "bbox": [
             -83.057067678877,
             42.3938852047603,
             -83.0043202626239,
             42.4682900842991
            ],
            "geometry": {
             "coordinates": [
              [
               [
                -83.0415945135366,
                42.3938852047603
               ],
               [
                -83.0416130248917,
                42.3938852560645
               ],
               [
                -83.0496698239408,
                42.3979112231354
               ],
               [
                -83.05422137841359,
                42.4047334918937
               ],
               [
                -83.0545690064414,
                42.4054599797492
               ],
               [
                -83.054865158084,
                42.4061693230719
               ],
               [
                -83.0569408175169,
                42.4358931409562
               ],
               [
                -83.05704457061691,
                42.4381859344469
               ],
               [
                -83.057067678877,
                42.4392026821076
               ],
               [
                -83.0540584042748,
                42.447507685509
               ],
               [
                -83.03138299172142,
                42.4682900842991
               ],
               [
                -83.00518517984399,
                42.4488191940215
               ],
               [
                -83.0043202626239,
                42.426330723141604
               ],
               [
                -83.0053337146716,
                42.4221594387346
               ],
               [
                -83.0360997247831,
                42.3975454202986
               ],
               [
                -83.0391404790745,
                42.3952438622241
               ],
               [
                -83.0415945135366,
                42.3938852047603
               ]
              ]
             ],
             "type": "Polygon"
            },
            "id": "2",
            "properties": {
             "cluster": 10,
             "incident_count": 2363,
             "inj": 33,
             "inj/inc": 0.01396529834955565
            },
            "type": "Feature"
           },
           {
            "bbox": [
             -83.1392577471382,
             42.341838038948204,
             -83.0680363680506,
             42.398603895095796
            ],
            "geometry": {
             "coordinates": [
              [
               [
                -83.1089139902395,
                42.341838038948204
               ],
               [
                -83.112734802247,
                42.342237616728895
               ],
               [
                -83.1148273503523,
                42.3426716119735
               ],
               [
                -83.11491493570959,
                42.3427315005154
               ],
               [
                -83.1150276398986,
                42.3428301700577
               ],
               [
                -83.1176252637628,
                42.3453880067923
               ],
               [
                -83.12000524478809,
                42.34792437242329
               ],
               [
                -83.13599154619659,
                42.3652026925881
               ],
               [
                -83.1388397062736,
                42.3686608419765
               ],
               [
                -83.1392577471382,
                42.369233890931795
               ],
               [
                -83.1387820565991,
                42.3706510566932
               ],
               [
                -83.1377137878652,
                42.3720873033441
               ],
               [
                -83.1341088700202,
                42.37564955866971
               ],
               [
                -83.1238961673352,
                42.3857228697253
               ],
               [
                -83.11312296474041,
                42.3962544799705
               ],
               [
                -83.1120829145596,
                42.397156608904204
               ],
               [
                -83.110061750753,
                42.398603895095796
               ],
               [
                -83.0874807861205,
                42.3930884780836
               ],
               [
                -83.0697045724918,
                42.384225296923205
               ],
               [
                -83.0680363680506,
                42.3832707935359
               ],
               [
                -83.0721742124129,
                42.3783124807762
               ],
               [
                -83.07587044015929,
                42.3740946918891
               ],
               [
                -83.07868288429401,
                42.3708918071453
               ],
               [
                -83.0823533553218,
                42.3668037197061
               ],
               [
                -83.1035470940673,
                42.3438068232772
               ],
               [
                -83.10568702790658,
                42.3418935612316
               ],
               [
                -83.106035626082,
                42.341851053728
               ],
               [
                -83.1089139902395,
                42.341838038948204
               ]
              ]
             ],
             "type": "Polygon"
            },
            "id": "3",
            "properties": {
             "cluster": 9,
             "incident_count": 4357,
             "inj": 51,
             "inj/inc": 0.011705301813174203
            },
            "type": "Feature"
           },
           {
            "bbox": [
             -83.233467915067,
             42.3346272325247,
             -83.19130907216851,
             42.396650921128
            ],
            "geometry": {
             "coordinates": [
              [
               [
                -83.1960536942515,
                42.3346272325247
               ],
               [
                -83.2107673232782,
                42.3362523172456
               ],
               [
                -83.21678009617241,
                42.350612451996604
               ],
               [
                -83.2214023130738,
                42.36184666647421
               ],
               [
                -83.23344873970629,
                42.3911284227168
               ],
               [
                -83.233467915067,
                42.3921112557381
               ],
               [
                -83.2322744538954,
                42.392388266649796
               ],
               [
                -83.22986753921221,
                42.3928185552741
               ],
               [
                -83.2013848143735,
                42.3966301626779
               ],
               [
                -83.1999663502737,
                42.396650921128
               ],
               [
                -83.19849110286309,
                42.3949581004283
               ],
               [
                -83.19841188323309,
                42.39483875650271
               ],
               [
                -83.195352435674,
                42.380110477186996
               ],
               [
                -83.1943963528039,
                42.374846436769
               ],
               [
                -83.1915997341674,
                42.3582488368079
               ],
               [
                -83.1914897043067,
                42.356230832799795
               ],
               [
                -83.1914762695054,
                42.355961663112105
               ],
               [
                -83.19130907216851,
                42.3522635122918
               ],
               [
                -83.1960536942515,
                42.3346272325247
               ]
              ]
             ],
             "type": "Polygon"
            },
            "id": "4",
            "properties": {
             "cluster": 11,
             "incident_count": 2949,
             "inj": 20,
             "inj/inc": 0.00678195998643608
            },
            "type": "Feature"
           },
           {
            "bbox": [
             -83.1991462964454,
             42.395785857437,
             -83.1409417200865,
             42.461394504401795
            ],
            "geometry": {
             "coordinates": [
              [
               [
                -83.175560794026,
                42.395785857437
               ],
               [
                -83.1886341479402,
                42.395796841978395
               ],
               [
                -83.19852909815191,
                42.3966863156607
               ],
               [
                -83.1985708252315,
                42.396830741599494
               ],
               [
                -83.1991462964454,
                42.3993191826777
               ],
               [
                -83.19905408465091,
                42.4014767868188
               ],
               [
                -83.1961616959685,
                42.430517708421895
               ],
               [
                -83.19527250740009,
                42.4393983047731
               ],
               [
                -83.19497959203049,
                42.4413815175308
               ],
               [
                -83.1943571318753,
                42.44492819719721
               ],
               [
                -83.1526431349748,
                42.461394504401795
               ],
               [
                -83.1409417200865,
                42.4461377083134
               ],
               [
                -83.1419162923871,
                42.44368435811
               ],
               [
                -83.1438978553469,
                42.439191095535705
               ],
               [
                -83.15145806889291,
                42.422938461670704
               ],
               [
                -83.159809729323,
                42.4050035039837
               ],
               [
                -83.16170355803,
                42.4010878918254
               ],
               [
                -83.16372803233841,
                42.3978734783424
               ],
               [
                -83.175560794026,
                42.395785857437
               ]
              ]
             ],
             "type": "Polygon"
            },
            "id": "5",
            "properties": {
             "cluster": 7,
             "incident_count": 4623,
             "inj": 35,
             "inj/inc": 0.007570841444949167
            },
            "type": "Feature"
           },
           {
            "bbox": [
             -82.9665436259816,
             42.40492427666371,
             -82.91056883033009,
             42.450229319855794
            ],
            "geometry": {
             "coordinates": [
              [
               [
                -82.96654120764521,
                42.40492427666371
               ],
               [
                -82.9665436259816,
                42.4094369983216
               ],
               [
                -82.96426835903141,
                42.423170768249506
               ],
               [
                -82.9619881006181,
                42.4364236588531
               ],
               [
                -82.9603406237684,
                42.445567100141204
               ],
               [
                -82.9597443608832,
                42.4481794909906
               ],
               [
                -82.9586468313228,
                42.450012002792
               ],
               [
                -82.9488407120581,
                42.4501902822696
               ],
               [
                -82.9412834860098,
                42.450229319855794
               ],
               [
                -82.94074255301099,
                42.4502236610294
               ],
               [
                -82.9107594559215,
                42.417151444160204
               ],
               [
                -82.91056883033009,
                42.4169079235699
               ],
               [
                -82.9118718999343,
                42.4142389502519
               ],
               [
                -82.91352883252729,
                42.4130685177711
               ],
               [
                -82.9150292378697,
                42.412733054179704
               ],
               [
                -82.92153594126809,
                42.411324014365
               ],
               [
                -82.9436649388454,
                42.4080778916528
               ],
               [
                -82.95664012472609,
                42.406178659415204
               ],
               [
                -82.96233204881959,
                42.4053566086882
               ],
               [
                -82.96519073561741,
                42.4050359274519
               ],
               [
                -82.96654120764521,
                42.40492427666371
               ]
              ]
             ],
             "type": "Polygon"
            },
            "id": "6",
            "properties": {
             "cluster": 0,
             "incident_count": 2987,
             "inj": 29,
             "inj/inc": 0.009708737864077669
            },
            "type": "Feature"
           },
           {
            "bbox": [
             -83.16522404361429,
             42.3136945081526,
             -83.1163770351096,
             42.36943340601871
            ],
            "geometry": {
             "coordinates": [
              [
               [
                -83.142127332839,
                42.3136945081526
               ],
               [
                -83.1422845161649,
                42.3137872090294
               ],
               [
                -83.1565930894494,
                42.3277983458704
               ],
               [
                -83.16522404361429,
                42.3515208531501
               ],
               [
                -83.1650109579442,
                42.352019282448296
               ],
               [
                -83.15793537830871,
                42.359159716359
               ],
               [
                -83.15057950490059,
                42.366357045159894
               ],
               [
                -83.1437282998883,
                42.36943340601871
               ],
               [
                -83.14004371607221,
                42.369164417304795
               ],
               [
                -83.119999433807,
                42.347844803212396
               ],
               [
                -83.11887551958542,
                42.346508798123004
               ],
               [
                -83.1177776319499,
                42.344613703141206
               ],
               [
                -83.1163770351096,
                42.340657149831
               ],
               [
                -83.11822251859108,
                42.338644385468704
               ],
               [
                -83.1251974094305,
                42.3311009673099
               ],
               [
                -83.1265305164038,
                42.3297177127689
               ],
               [
                -83.142127332839,
                42.3136945081526
               ]
              ]
             ],
             "type": "Polygon"
            },
            "id": "7",
            "properties": {
             "cluster": 8,
             "incident_count": 2306,
             "inj": 25,
             "inj/inc": 0.010841283607979185
            },
            "type": "Feature"
           },
           {
            "bbox": [
             -83.05353072704129,
             42.3310272997651,
             -82.9701123818183,
             42.3859837410565
            ],
            "geometry": {
             "coordinates": [
              [
               [
                -83.03269713102159,
                42.3310272997651
               ],
               [
                -83.0352719517864,
                42.3318725615405
               ],
               [
                -83.036292230322,
                42.3324215075713
               ],
               [
                -83.036313950386,
                42.3324437178108
               ],
               [
                -83.0383036670474,
                42.33541299947029
               ],
               [
                -83.04011832049571,
                42.338970198077504
               ],
               [
                -83.04867846187629,
                42.3628053921279
               ],
               [
                -83.0528948701526,
                42.3746984862011
               ],
               [
                -83.05353072704129,
                42.3775504493185
               ],
               [
                -83.039167158239,
                42.3859837410565
               ],
               [
                -83.02364796249151,
                42.3827289330008
               ],
               [
                -83.0117132806236,
                42.379997757088105
               ],
               [
                -82.9764979556726,
                42.371569459004704
               ],
               [
                -82.97473982172751,
                42.3687502526062
               ],
               [
                -82.97369147666441,
                42.365475500133
               ],
               [
                -82.97236978898592,
                42.3601945136045
               ],
               [
                -82.9719931682286,
                42.358003552473
               ],
               [
                -82.9701123818183,
                42.3391871856802
               ],
               [
                -82.9931811214287,
                42.3336372245911
               ],
               [
                -83.03269713102159,
                42.3310272997651
               ]
              ]
             ],
             "type": "Polygon"
            },
            "id": "8",
            "properties": {
             "cluster": 18,
             "incident_count": 4367,
             "inj": 31,
             "inj/inc": 0.007098694756125487
            },
            "type": "Feature"
           },
           {
            "bbox": [
             -83.2454521431736,
             42.392634868662,
             -83.19488335269,
             42.4449269354189
            ],
            "geometry": {
             "coordinates": [
              [
               [
                -83.2322107344999,
                42.392634868662
               ],
               [
                -83.2334910822825,
                42.392670401044704
               ],
               [
                -83.23356820157821,
                42.3927050357345
               ],
               [
                -83.2362887946099,
                42.4027530484137
               ],
               [
                -83.2378530831739,
                42.4085963879775
               ],
               [
                -83.2391294825463,
                42.4133765950731
               ],
               [
                -83.24160066238379,
                42.422771297388294
               ],
               [
                -83.2443114932487,
                42.4330946273084
               ],
               [
                -83.2453304901307,
                42.438852184933204
               ],
               [
                -83.24534867297591,
                42.43928330799171
               ],
               [
                -83.2454023393705,
                42.44062581950929
               ],
               [
                -83.2454521431736,
                42.441977211907
               ],
               [
                -83.2448686443174,
                42.4433118998599
               ],
               [
                -83.2445626158872,
                42.443639736789706
               ],
               [
                -83.2192870845331,
                42.4445288138879
               ],
               [
                -83.1956911065961,
                42.4449269354189
               ],
               [
                -83.19488335269,
                42.4449254723084
               ],
               [
                -83.1962103979965,
                42.430488790468296
               ],
               [
                -83.19878154306579,
                42.4051570858859
               ],
               [
                -83.2000344818864,
                42.3973636186787
               ],
               [
                -83.20277452326759,
                42.396761458874394
               ],
               [
                -83.20932954831659,
                42.395682066317704
               ],
               [
                -83.2310285602433,
                42.3926976730646
               ],
               [
                -83.2322107344999,
                42.392634868662
               ]
              ]
             ],
             "type": "Polygon"
            },
            "id": "9",
            "properties": {
             "cluster": 13,
             "incident_count": 4373,
             "inj": 42,
             "inj/inc": 0.009604390578550195
            },
            "type": "Feature"
           },
           {
            "bbox": [
             -83.04303169467191,
             42.3733905141976,
             -82.9725467796378,
             42.4227562430636
            ],
            "geometry": {
             "coordinates": [
              [
               [
                -82.9788410492667,
                42.3733905141976
               ],
               [
                -82.9853641988083,
                42.373827613185895
               ],
               [
                -82.9990333148986,
                42.377033352043206
               ],
               [
                -83.02522825301479,
                42.3832640080008
               ],
               [
                -83.0266240265497,
                42.3836009846367
               ],
               [
                -83.0344793924826,
                42.3855104817544
               ],
               [
                -83.03886688294949,
                42.386873107345096
               ],
               [
                -83.04303169467191,
                42.3891432692714
               ],
               [
                -83.0422686322205,
                42.391255907727
               ],
               [
                -83.04197043759629,
                42.3920481529588
               ],
               [
                -83.0386047067867,
                42.395192150700105
               ],
               [
                -83.0232613823993,
                42.4077403764326
               ],
               [
                -83.00529670818041,
                42.4221578152413
               ],
               [
                -83.0041723782052,
                42.4227562430636
               ],
               [
                -83.0029220121159,
                42.4220024898037
               ],
               [
                -82.9975042703955,
                42.4182224333396
               ],
               [
                -82.9725467796378,
                42.4006605790847
               ],
               [
                -82.97276134714359,
                42.396525832102604
               ],
               [
                -82.97394038548221,
                42.3899851148975
               ],
               [
                -82.9788410492667,
                42.3733905141976
               ]
              ]
             ],
             "type": "Polygon"
            },
            "id": "10",
            "properties": {
             "cluster": 6,
             "incident_count": 2591,
             "inj": 33,
             "inj/inc": 0.01273639521420301
            },
            "type": "Feature"
           },
           {
            "bbox": [
             -83.1054496928037,
             42.3125733332168,
             -83.03696537405891,
             42.3823999140317
            ],
            "geometry": {
             "coordinates": [
              [
               [
                -83.0827174018811,
                42.3125733332168
               ],
               [
                -83.0876598649546,
                42.3133586117726
               ],
               [
                -83.10513531613391,
                42.3408197710282
               ],
               [
                -83.1054496928037,
                42.3413725044899
               ],
               [
                -83.1035184261181,
                42.343760946949395
               ],
               [
                -83.0936933398668,
                42.3544335632358
               ],
               [
                -83.082002630202,
                42.3671218092932
               ],
               [
                -83.07387561738629,
                42.3758734638498
               ],
               [
                -83.07230452649559,
                42.3773833315372
               ],
               [
                -83.0690007191467,
                42.3805100560671
               ],
               [
                -83.0636530587262,
                42.3823999140317
               ],
               [
                -83.0564880959357,
                42.3823183490771
               ],
               [
                -83.05232063409359,
                42.3720867664626
               ],
               [
                -83.0438156535064,
                42.3486660019245
               ],
               [
                -83.03932902697349,
                42.3360749105643
               ],
               [
                -83.03696537405891,
                42.3291223412443
               ],
               [
                -83.0386076052964,
                42.3282511136009
               ],
               [
                -83.04073467189642,
                42.3273623669381
               ],
               [
                -83.0789311218968,
                42.3134651892584
               ],
               [
                -83.0827174018811,
                42.3125733332168
               ]
              ]
             ],
             "type": "Polygon"
            },
            "id": "11",
            "properties": {
             "cluster": 3,
             "incident_count": 7702,
             "inj": 48,
             "inj/inc": 0.006232147494157362
            },
            "type": "Feature"
           },
           {
            "bbox": [
             -82.9751559401582,
             42.35625451175461,
             -82.91271253847499,
             42.41233728352461
            ],
            "geometry": {
             "coordinates": [
              [
               [
                -82.96715152821159,
                42.35625451175461
               ],
               [
                -82.9706611220578,
                42.3596540375968
               ],
               [
                -82.97283749237221,
                42.365931908687
               ],
               [
                -82.9751559401582,
                42.373991650761496
               ],
               [
                -82.9735728021203,
                42.3883738800805
               ],
               [
                -82.9720117710708,
                42.39991212436821
               ],
               [
                -82.9706395651749,
                42.4014970265795
               ],
               [
                -82.96820358873879,
                42.403618375715396
               ],
               [
                -82.96799079656559,
                42.4036948516164
               ],
               [
                -82.9664363416041,
                42.4041516756174
               ],
               [
                -82.96446810686909,
                42.4047287943901
               ],
               [
                -82.96264959671691,
                42.405233354749704
               ],
               [
                -82.92254030974141,
                42.4111342144797
               ],
               [
                -82.91271253847499,
                42.41233728352461
               ],
               [
                -82.91271254231191,
                42.4123371189032
               ],
               [
                -82.91311768762691,
                42.4110035048292
               ],
               [
                -82.92996119190009,
                42.3603651629863
               ],
               [
                -82.9321134157328,
                42.359303667012
               ],
               [
                -82.93257450744541,
                42.359206684430596
               ],
               [
                -82.94294228777709,
                42.357629518797204
               ],
               [
                -82.96715152821159,
                42.35625451175461
               ]
              ]
             ],
             "type": "Polygon"
            },
            "id": "12",
            "properties": {
             "cluster": 12,
             "incident_count": 2833,
             "inj": 38,
             "inj/inc": 0.013413342746205436
            },
            "type": "Feature"
           },
           {
            "bbox": [
             -83.14190613938041,
             42.289215090923,
             -83.0869871032851,
             42.341660710309704
            ],
            "geometry": {
             "coordinates": [
              [
               [
                -83.12677594794441,
                42.289215090923
               ],
               [
                -83.1326415351117,
                42.293350834766
               ],
               [
                -83.13388000081221,
                42.2946552706732
               ],
               [
                -83.14190613938041,
                42.3132832053095
               ],
               [
                -83.1267213850987,
                42.3294186008374
               ],
               [
                -83.119434578269,
                42.336670079111
               ],
               [
                -83.11661647189071,
                42.339414156789296
               ],
               [
                -83.1146861936975,
                42.3403014671863
               ],
               [
                -83.11046388852701,
                42.341660710309704
               ],
               [
                -83.10839579456591,
                42.341117732430895
               ],
               [
                -83.1053484412744,
                42.3392422100356
               ],
               [
                -83.1041891839265,
                42.3376646745334
               ],
               [
                -83.1023121963233,
                42.334999534260895
               ],
               [
                -83.0941112982949,
                42.3230315567241
               ],
               [
                -83.0925555705173,
                42.3206134978366
               ],
               [
                -83.08940022245959,
                42.3146861030617
               ],
               [
                -83.0869871032851,
                42.3075704778796
               ],
               [
                -83.0917018139606,
                42.3037356126744
               ],
               [
                -83.10159482334359,
                42.2975488198365
               ],
               [
                -83.1150010612109,
                42.2906257697596
               ],
               [
                -83.11877221593001,
                42.290024953260705
               ],
               [
                -83.12677594794441,
                42.289215090923
               ]
              ]
             ],
             "type": "Polygon"
            },
            "id": "13",
            "properties": {
             "cluster": 16,
             "incident_count": 2774,
             "inj": 39,
             "inj/inc": 0.014059120403749098
            },
            "type": "Feature"
           },
           {
            "bbox": [
             -83.1850914735016,
             42.2512619364321,
             -83.12412055912841,
             42.2959518284631
            ],
            "geometry": {
             "coordinates": [
              [
               [
                -83.1850914735016,
                42.2512619364321
               ],
               [
                -83.1670230959307,
                42.289459133285206
               ],
               [
                -83.1513024768947,
                42.2959518284631
               ],
               [
                -83.13640541430371,
                42.2936822005945
               ],
               [
                -83.1311111313573,
                42.291858094332
               ],
               [
                -83.13011648150659,
                42.2909401453418
               ],
               [
                -83.12412055912841,
                42.2848275821559
               ],
               [
                -83.12709958635429,
                42.2822144790721
               ],
               [
                -83.16120222830409,
                42.2554994465495
               ],
               [
                -83.1850914735016,
                42.2512619364321
               ]
              ]
             ],
             "type": "Polygon"
            },
            "id": "14",
            "properties": {
             "cluster": 14,
             "incident_count": 905,
             "inj": 12,
             "inj/inc": 0.013259668508287293
            },
            "type": "Feature"
           },
           {
            "bbox": [
             -127.914179208738,
             32.0263641962111,
             -127.914179208738,
             32.0263641962111
            ],
            "geometry": {
             "coordinates": [
              -127.914179208738,
              32.0263641962111
             ],
             "type": "Point"
            },
            "id": "15",
            "properties": {
             "cluster": 1,
             "incident_count": 606,
             "inj": 7,
             "inj/inc": 0.01155115511551155
            },
            "type": "Feature"
           },
           {
            "bbox": [
             -83.26585914260109,
             42.328729877434505,
             -83.2119553784667,
             42.3914821524231
            ],
            "geometry": {
             "coordinates": [
              [
               [
                -83.2204671771338,
                42.328729877434505
               ],
               [
                -83.22518679043779,
                42.3289151155841
               ],
               [
                -83.2622375130118,
                42.3417293785849
               ],
               [
                -83.26379947517691,
                42.3437746936135
               ],
               [
                -83.2653497617802,
                42.359075023407996
               ],
               [
                -83.2653605555359,
                42.3593022220425
               ],
               [
                -83.26585914260109,
                42.3715294836175
               ],
               [
                -83.26576473169709,
                42.3726857176935
               ],
               [
                -83.26456504430791,
                42.3739737968248
               ],
               [
                -83.26184547307649,
                42.376647904684795
               ],
               [
                -83.2465794945797,
                42.38499282372229
               ],
               [
                -83.2346936677049,
                42.3914821524231
               ],
               [
                -83.2334593252936,
                42.390341586173705
               ],
               [
                -83.23198158839021,
                42.3869118172756
               ],
               [
                -83.2239493625382,
                42.3678508022816
               ],
               [
                -83.2139205047623,
                42.343377440507005
               ],
               [
                -83.2120853112137,
                42.3377905850212
               ],
               [
                -83.2119553784667,
                42.3362150971921
               ],
               [
                -83.2153555648693,
                42.32894501167821
               ],
               [
                -83.2204671771338,
                42.328729877434505
               ]
              ]
             ],
             "type": "Polygon"
            },
            "id": "16",
            "properties": {
             "cluster": 19,
             "incident_count": 2825,
             "inj": 28,
             "inj/inc": 0.00991150442477876
            },
            "type": "Feature"
           },
           {
            "bbox": [
             -83.1972991134249,
             42.351075493683794,
             -83.1507076565181,
             42.3957728280988
            ],
            "geometry": {
             "coordinates": [
              [
               [
                -83.1857113534667,
                42.351075493683794
               ],
               [
                -83.1903378494226,
                42.3513792862075
               ],
               [
                -83.19291113202229,
                42.3662394898634
               ],
               [
                -83.1943450027993,
                42.3748215366038
               ],
               [
                -83.19707839568991,
                42.392105613474996
               ],
               [
                -83.1972991134249,
                42.3941571312198
               ],
               [
                -83.1972426961547,
                42.3953895661689
               ],
               [
                -83.1960601803567,
                42.3954655611536
               ],
               [
                -83.18971943507759,
                42.3957728280988
               ],
               [
                -83.1755506105252,
                42.3955434772162
               ],
               [
                -83.16456903836,
                42.3951564443649
               ],
               [
                -83.163844103135,
                42.395117456047295
               ],
               [
                -83.1538333459212,
                42.3798384971806
               ],
               [
                -83.15158721776609,
                42.3759979742524
               ],
               [
                -83.1507076565181,
                42.3734579855399
               ],
               [
                -83.15109430400621,
                42.3663370082702
               ],
               [
                -83.1532602811298,
                42.3639996499239
               ],
               [
                -83.1650901090477,
                42.352136070570396
               ],
               [
                -83.1685030307062,
                42.3514749679465
               ],
               [
                -83.1697023449088,
                42.3514462919517
               ],
               [
                -83.1824764045621,
                42.3511426435051
               ],
               [
                -83.1839384366711,
                42.3511116730165
               ],
               [
                -83.1857113534667,
                42.351075493683794
               ]
              ]
             ],
             "type": "Polygon"
            },
            "id": "17",
            "properties": {
             "cluster": 2,
             "incident_count": 2788,
             "inj": 38,
             "inj/inc": 0.013629842180774749
            },
            "type": "Feature"
           },
           {
            "bbox": [
             -83.0048662032474,
             42.401439949136794,
             -82.95986713584259,
             42.4499645920919
            ],
            "geometry": {
             "coordinates": [
              [
               [
                -82.9730181597231,
                42.401439949136794
               ],
               [
                -82.97651963168092,
                42.403670201946795
               ],
               [
                -82.9983403192255,
                42.41894557096111
               ],
               [
                -83.0010092872343,
                42.4210497489902
               ],
               [
                -83.00417854340759,
                42.4238306073801
               ],
               [
                -83.0043219679655,
                42.4264222437827
               ],
               [
                -83.00440967978159,
                42.4290210060194
               ],
               [
                -83.00479899200751,
                42.4417298405095
               ],
               [
                -83.0048662032474,
                42.4488320045621
               ],
               [
                -82.9856649101441,
                42.4495745556406
               ],
               [
                -82.9647267343622,
                42.449911418902005
               ],
               [
                -82.95986713584259,
                42.4499645920919
               ],
               [
                -82.9601509089269,
                42.4482276653132
               ],
               [
                -82.9638882201553,
                42.4255789942142
               ],
               [
                -82.9665839107238,
                42.4094572001757
               ],
               [
                -82.9671690990442,
                42.4068139306802
               ],
               [
                -82.9682222309477,
                42.4052648805153
               ],
               [
                -82.97116298848009,
                42.4019355214347
               ],
               [
                -82.9730181597231,
                42.401439949136794
               ]
              ]
             ],
             "type": "Polygon"
            },
            "id": "18",
            "properties": {
             "cluster": 17,
             "incident_count": 3138,
             "inj": 50,
             "inj/inc": 0.015933715742511154
            },
            "type": "Feature"
           },
           {
            "bbox": [
             -83.28777091537759,
             42.378797385718705,
             -83.2347527858512,
             42.4435615700315
            ],
            "geometry": {
             "coordinates": [
              [
               [
                -83.26114116522871,
                42.378797385718705
               ],
               [
                -83.2733060589425,
                42.3788987883266
               ],
               [
                -83.2741959421806,
                42.3794455719252
               ],
               [
                -83.2743598400512,
                42.379598086947496
               ],
               [
                -83.2864786422048,
                42.409321702599705
               ],
               [
                -83.28660317458909,
                42.4117543585524
               ],
               [
                -83.28747886390708,
                42.4319950410045
               ],
               [
                -83.28777091537759,
                42.4425234958539
               ],
               [
                -83.2868586497122,
                42.4425685944192
               ],
               [
                -83.24753197405029,
                42.4435615700315
               ],
               [
                -83.24349197911309,
                42.4294351848678
               ],
               [
                -83.2377435744535,
                42.4078946408031
               ],
               [
                -83.2361400956482,
                42.4009459527288
               ],
               [
                -83.23481788385979,
                42.3944314245226
               ],
               [
                -83.2347527858512,
                42.393529778715504
               ],
               [
                -83.2369740107324,
                42.3902675135606
               ],
               [
                -83.24008438549771,
                42.3885952686745
               ],
               [
                -83.246585610839,
                42.385270831206
               ],
               [
                -83.2610667435681,
                42.37881954890079
               ],
               [
                -83.26114116522871,
                42.378797385718705
               ]
              ]
             ],
             "type": "Polygon"
            },
            "id": "19",
            "properties": {
             "cluster": 5,
             "incident_count": 3451,
             "inj": 54,
             "inj/inc": 0.015647638365691104
            },
            "type": "Feature"
           }
          ],
          "type": "FeatureCollection"
         },
         "ids": [
          0,
          1,
          2,
          3,
          4,
          5,
          6,
          7,
          8,
          9,
          10,
          11,
          12,
          13,
          14,
          15,
          16,
          17,
          18,
          19
         ],
         "locations": [
          4,
          15,
          10,
          9,
          11,
          7,
          0,
          8,
          18,
          13,
          6,
          3,
          12,
          16,
          14,
          1,
          19,
          2,
          17,
          5
         ],
         "marker": {
          "opacity": 0.6
         },
         "name": "Incident Cluster",
         "type": "choroplethmapbox",
         "z": [
          3536,
          3923,
          2363,
          4357,
          2949,
          4623,
          2987,
          2306,
          4367,
          4373,
          2591,
          7702,
          2833,
          2774,
          905,
          606,
          2825,
          2788,
          3138,
          3451
         ]
        },
        {
         "lat": [
          42.3378751764982,
          42.364789486845396,
          42.375531734901706,
          42.3113641428409,
          42.294197030168796,
          42.4127136868872,
          42.348401053066205,
          42.3682129288836,
          42.3004775733814,
          42.3464585624128,
          42.385357634947,
          42.3175579356503,
          42.3722415148341,
          42.39343800935671,
          42.3799308748101,
          42.366806532195795,
          42.4320009917524,
          42.3991119103864,
          42.2730148753363,
          42.420673926260704,
          42.4250386014504,
          42.396976221075796,
          42.401108129236796,
          42.4134980189185,
          42.358146935932396,
          42.4299596934851,
          42.3870282146804,
          42.4173136777841,
          42.423077794304795,
          42.3501900852043,
          42.440256909329,
          42.3471456813282,
          42.314236545979796,
          42.3627485114347,
          42.389480642517704,
          42.3488943464969,
          42.33856901245,
          42.422687730454506,
          42.4043742618628
         ],
         "lon": [
          -83.05408150955401,
          -83.07358852239241,
          -83.0363566328523,
          -83.09335267748409,
          -83.1097865962744,
          -83.1702425090845,
          -83.1109409885357,
          -82.9667407266032,
          -83.1268514452379,
          -83.13205960986309,
          -83.08086739581358,
          -83.127579864619,
          -83.1004851367796,
          -83.13383378789891,
          -83.00324378487271,
          -83.1393568924066,
          -83.10312797447641,
          -83.003699562185,
          -83.1588196109362,
          -82.9858926538229,
          -83.14079049628441,
          -82.9563244261313,
          -83.1991160905351,
          -83.2493135069128,
          -83.2173874573652,
          -83.06322332589579,
          -83.24628164857921,
          -82.954673994809,
          -83.218200224161,
          -83.04198398047629,
          -83.0052543362186,
          -83.0131382384389,
          -83.079991758313,
          -82.99229655254379,
          -82.9940131730694,
          -83.06360846595791,
          -83.1337574210681,
          -83.03875464001459,
          -83.0178914774097
         ],
         "marker": {
          "color": "black",
          "size": 5
         },
         "name": "DFD Location",
         "type": "scattermapbox"
        }
       ],
       "layout": {
        "mapbox": {
         "bearing": 0,
         "center": {
          "lat": 42.33,
          "lon": -83.05
         },
         "pitch": 0,
         "style": "open-street-map",
         "zoom": 10
        },
        "template": {
         "data": {
          "bar": [
           {
            "error_x": {
             "color": "#2a3f5f"
            },
            "error_y": {
             "color": "#2a3f5f"
            },
            "marker": {
             "line": {
              "color": "#E5ECF6",
              "width": 0.5
             }
            },
            "type": "bar"
           }
          ],
          "barpolar": [
           {
            "marker": {
             "line": {
              "color": "#E5ECF6",
              "width": 0.5
             }
            },
            "type": "barpolar"
           }
          ],
          "carpet": [
           {
            "aaxis": {
             "endlinecolor": "#2a3f5f",
             "gridcolor": "white",
             "linecolor": "white",
             "minorgridcolor": "white",
             "startlinecolor": "#2a3f5f"
            },
            "baxis": {
             "endlinecolor": "#2a3f5f",
             "gridcolor": "white",
             "linecolor": "white",
             "minorgridcolor": "white",
             "startlinecolor": "#2a3f5f"
            },
            "type": "carpet"
           }
          ],
          "choropleth": [
           {
            "colorbar": {
             "outlinewidth": 0,
             "ticks": ""
            },
            "type": "choropleth"
           }
          ],
          "contour": [
           {
            "colorbar": {
             "outlinewidth": 0,
             "ticks": ""
            },
            "colorscale": [
             [
              0,
              "#0d0887"
             ],
             [
              0.1111111111111111,
              "#46039f"
             ],
             [
              0.2222222222222222,
              "#7201a8"
             ],
             [
              0.3333333333333333,
              "#9c179e"
             ],
             [
              0.4444444444444444,
              "#bd3786"
             ],
             [
              0.5555555555555556,
              "#d8576b"
             ],
             [
              0.6666666666666666,
              "#ed7953"
             ],
             [
              0.7777777777777778,
              "#fb9f3a"
             ],
             [
              0.8888888888888888,
              "#fdca26"
             ],
             [
              1,
              "#f0f921"
             ]
            ],
            "type": "contour"
           }
          ],
          "contourcarpet": [
           {
            "colorbar": {
             "outlinewidth": 0,
             "ticks": ""
            },
            "type": "contourcarpet"
           }
          ],
          "heatmap": [
           {
            "colorbar": {
             "outlinewidth": 0,
             "ticks": ""
            },
            "colorscale": [
             [
              0,
              "#0d0887"
             ],
             [
              0.1111111111111111,
              "#46039f"
             ],
             [
              0.2222222222222222,
              "#7201a8"
             ],
             [
              0.3333333333333333,
              "#9c179e"
             ],
             [
              0.4444444444444444,
              "#bd3786"
             ],
             [
              0.5555555555555556,
              "#d8576b"
             ],
             [
              0.6666666666666666,
              "#ed7953"
             ],
             [
              0.7777777777777778,
              "#fb9f3a"
             ],
             [
              0.8888888888888888,
              "#fdca26"
             ],
             [
              1,
              "#f0f921"
             ]
            ],
            "type": "heatmap"
           }
          ],
          "heatmapgl": [
           {
            "colorbar": {
             "outlinewidth": 0,
             "ticks": ""
            },
            "colorscale": [
             [
              0,
              "#0d0887"
             ],
             [
              0.1111111111111111,
              "#46039f"
             ],
             [
              0.2222222222222222,
              "#7201a8"
             ],
             [
              0.3333333333333333,
              "#9c179e"
             ],
             [
              0.4444444444444444,
              "#bd3786"
             ],
             [
              0.5555555555555556,
              "#d8576b"
             ],
             [
              0.6666666666666666,
              "#ed7953"
             ],
             [
              0.7777777777777778,
              "#fb9f3a"
             ],
             [
              0.8888888888888888,
              "#fdca26"
             ],
             [
              1,
              "#f0f921"
             ]
            ],
            "type": "heatmapgl"
           }
          ],
          "histogram": [
           {
            "marker": {
             "colorbar": {
              "outlinewidth": 0,
              "ticks": ""
             }
            },
            "type": "histogram"
           }
          ],
          "histogram2d": [
           {
            "colorbar": {
             "outlinewidth": 0,
             "ticks": ""
            },
            "colorscale": [
             [
              0,
              "#0d0887"
             ],
             [
              0.1111111111111111,
              "#46039f"
             ],
             [
              0.2222222222222222,
              "#7201a8"
             ],
             [
              0.3333333333333333,
              "#9c179e"
             ],
             [
              0.4444444444444444,
              "#bd3786"
             ],
             [
              0.5555555555555556,
              "#d8576b"
             ],
             [
              0.6666666666666666,
              "#ed7953"
             ],
             [
              0.7777777777777778,
              "#fb9f3a"
             ],
             [
              0.8888888888888888,
              "#fdca26"
             ],
             [
              1,
              "#f0f921"
             ]
            ],
            "type": "histogram2d"
           }
          ],
          "histogram2dcontour": [
           {
            "colorbar": {
             "outlinewidth": 0,
             "ticks": ""
            },
            "colorscale": [
             [
              0,
              "#0d0887"
             ],
             [
              0.1111111111111111,
              "#46039f"
             ],
             [
              0.2222222222222222,
              "#7201a8"
             ],
             [
              0.3333333333333333,
              "#9c179e"
             ],
             [
              0.4444444444444444,
              "#bd3786"
             ],
             [
              0.5555555555555556,
              "#d8576b"
             ],
             [
              0.6666666666666666,
              "#ed7953"
             ],
             [
              0.7777777777777778,
              "#fb9f3a"
             ],
             [
              0.8888888888888888,
              "#fdca26"
             ],
             [
              1,
              "#f0f921"
             ]
            ],
            "type": "histogram2dcontour"
           }
          ],
          "mesh3d": [
           {
            "colorbar": {
             "outlinewidth": 0,
             "ticks": ""
            },
            "type": "mesh3d"
           }
          ],
          "parcoords": [
           {
            "line": {
             "colorbar": {
              "outlinewidth": 0,
              "ticks": ""
             }
            },
            "type": "parcoords"
           }
          ],
          "pie": [
           {
            "automargin": true,
            "type": "pie"
           }
          ],
          "scatter": [
           {
            "marker": {
             "colorbar": {
              "outlinewidth": 0,
              "ticks": ""
             }
            },
            "type": "scatter"
           }
          ],
          "scatter3d": [
           {
            "line": {
             "colorbar": {
              "outlinewidth": 0,
              "ticks": ""
             }
            },
            "marker": {
             "colorbar": {
              "outlinewidth": 0,
              "ticks": ""
             }
            },
            "type": "scatter3d"
           }
          ],
          "scattercarpet": [
           {
            "marker": {
             "colorbar": {
              "outlinewidth": 0,
              "ticks": ""
             }
            },
            "type": "scattercarpet"
           }
          ],
          "scattergeo": [
           {
            "marker": {
             "colorbar": {
              "outlinewidth": 0,
              "ticks": ""
             }
            },
            "type": "scattergeo"
           }
          ],
          "scattergl": [
           {
            "marker": {
             "colorbar": {
              "outlinewidth": 0,
              "ticks": ""
             }
            },
            "type": "scattergl"
           }
          ],
          "scattermapbox": [
           {
            "marker": {
             "colorbar": {
              "outlinewidth": 0,
              "ticks": ""
             }
            },
            "type": "scattermapbox"
           }
          ],
          "scatterpolar": [
           {
            "marker": {
             "colorbar": {
              "outlinewidth": 0,
              "ticks": ""
             }
            },
            "type": "scatterpolar"
           }
          ],
          "scatterpolargl": [
           {
            "marker": {
             "colorbar": {
              "outlinewidth": 0,
              "ticks": ""
             }
            },
            "type": "scatterpolargl"
           }
          ],
          "scatterternary": [
           {
            "marker": {
             "colorbar": {
              "outlinewidth": 0,
              "ticks": ""
             }
            },
            "type": "scatterternary"
           }
          ],
          "surface": [
           {
            "colorbar": {
             "outlinewidth": 0,
             "ticks": ""
            },
            "colorscale": [
             [
              0,
              "#0d0887"
             ],
             [
              0.1111111111111111,
              "#46039f"
             ],
             [
              0.2222222222222222,
              "#7201a8"
             ],
             [
              0.3333333333333333,
              "#9c179e"
             ],
             [
              0.4444444444444444,
              "#bd3786"
             ],
             [
              0.5555555555555556,
              "#d8576b"
             ],
             [
              0.6666666666666666,
              "#ed7953"
             ],
             [
              0.7777777777777778,
              "#fb9f3a"
             ],
             [
              0.8888888888888888,
              "#fdca26"
             ],
             [
              1,
              "#f0f921"
             ]
            ],
            "type": "surface"
           }
          ],
          "table": [
           {
            "cells": {
             "fill": {
              "color": "#EBF0F8"
             },
             "line": {
              "color": "white"
             }
            },
            "header": {
             "fill": {
              "color": "#C8D4E3"
             },
             "line": {
              "color": "white"
             }
            },
            "type": "table"
           }
          ]
         },
         "layout": {
          "annotationdefaults": {
           "arrowcolor": "#2a3f5f",
           "arrowhead": 0,
           "arrowwidth": 1
          },
          "autotypenumbers": "strict",
          "coloraxis": {
           "colorbar": {
            "outlinewidth": 0,
            "ticks": ""
           }
          },
          "colorscale": {
           "diverging": [
            [
             0,
             "#8e0152"
            ],
            [
             0.1,
             "#c51b7d"
            ],
            [
             0.2,
             "#de77ae"
            ],
            [
             0.3,
             "#f1b6da"
            ],
            [
             0.4,
             "#fde0ef"
            ],
            [
             0.5,
             "#f7f7f7"
            ],
            [
             0.6,
             "#e6f5d0"
            ],
            [
             0.7,
             "#b8e186"
            ],
            [
             0.8,
             "#7fbc41"
            ],
            [
             0.9,
             "#4d9221"
            ],
            [
             1,
             "#276419"
            ]
           ],
           "sequential": [
            [
             0,
             "#0d0887"
            ],
            [
             0.1111111111111111,
             "#46039f"
            ],
            [
             0.2222222222222222,
             "#7201a8"
            ],
            [
             0.3333333333333333,
             "#9c179e"
            ],
            [
             0.4444444444444444,
             "#bd3786"
            ],
            [
             0.5555555555555556,
             "#d8576b"
            ],
            [
             0.6666666666666666,
             "#ed7953"
            ],
            [
             0.7777777777777778,
             "#fb9f3a"
            ],
            [
             0.8888888888888888,
             "#fdca26"
            ],
            [
             1,
             "#f0f921"
            ]
           ],
           "sequentialminus": [
            [
             0,
             "#0d0887"
            ],
            [
             0.1111111111111111,
             "#46039f"
            ],
            [
             0.2222222222222222,
             "#7201a8"
            ],
            [
             0.3333333333333333,
             "#9c179e"
            ],
            [
             0.4444444444444444,
             "#bd3786"
            ],
            [
             0.5555555555555556,
             "#d8576b"
            ],
            [
             0.6666666666666666,
             "#ed7953"
            ],
            [
             0.7777777777777778,
             "#fb9f3a"
            ],
            [
             0.8888888888888888,
             "#fdca26"
            ],
            [
             1,
             "#f0f921"
            ]
           ]
          },
          "colorway": [
           "#636efa",
           "#EF553B",
           "#00cc96",
           "#ab63fa",
           "#FFA15A",
           "#19d3f3",
           "#FF6692",
           "#B6E880",
           "#FF97FF",
           "#FECB52"
          ],
          "font": {
           "color": "#2a3f5f"
          },
          "geo": {
           "bgcolor": "white",
           "lakecolor": "white",
           "landcolor": "#E5ECF6",
           "showlakes": true,
           "showland": true,
           "subunitcolor": "white"
          },
          "hoverlabel": {
           "align": "left"
          },
          "hovermode": "closest",
          "mapbox": {
           "style": "light"
          },
          "paper_bgcolor": "white",
          "plot_bgcolor": "#E5ECF6",
          "polar": {
           "angularaxis": {
            "gridcolor": "white",
            "linecolor": "white",
            "ticks": ""
           },
           "bgcolor": "#E5ECF6",
           "radialaxis": {
            "gridcolor": "white",
            "linecolor": "white",
            "ticks": ""
           }
          },
          "scene": {
           "xaxis": {
            "backgroundcolor": "#E5ECF6",
            "gridcolor": "white",
            "gridwidth": 2,
            "linecolor": "white",
            "showbackground": true,
            "ticks": "",
            "zerolinecolor": "white"
           },
           "yaxis": {
            "backgroundcolor": "#E5ECF6",
            "gridcolor": "white",
            "gridwidth": 2,
            "linecolor": "white",
            "showbackground": true,
            "ticks": "",
            "zerolinecolor": "white"
           },
           "zaxis": {
            "backgroundcolor": "#E5ECF6",
            "gridcolor": "white",
            "gridwidth": 2,
            "linecolor": "white",
            "showbackground": true,
            "ticks": "",
            "zerolinecolor": "white"
           }
          },
          "shapedefaults": {
           "line": {
            "color": "#2a3f5f"
           }
          },
          "ternary": {
           "aaxis": {
            "gridcolor": "white",
            "linecolor": "white",
            "ticks": ""
           },
           "baxis": {
            "gridcolor": "white",
            "linecolor": "white",
            "ticks": ""
           },
           "bgcolor": "#E5ECF6",
           "caxis": {
            "gridcolor": "white",
            "linecolor": "white",
            "ticks": ""
           }
          },
          "title": {
           "x": 0.05
          },
          "xaxis": {
           "automargin": true,
           "gridcolor": "white",
           "linecolor": "white",
           "ticks": "",
           "title": {
            "standoff": 15
           },
           "zerolinecolor": "white",
           "zerolinewidth": 2
          },
          "yaxis": {
           "automargin": true,
           "gridcolor": "white",
           "linecolor": "white",
           "ticks": "",
           "title": {
            "standoff": 15
           },
           "zerolinecolor": "white",
           "zerolinewidth": 2
          }
         }
        }
       }
      }
     },
     "metadata": {}
    }
   ],
   "metadata": {}
  },
  {
   "cell_type": "code",
   "execution_count": 379,
   "source": [
    "center = {\"lat\": 42.33, \"lon\": -83.05}\n",
    "fig = px.choropleth_mapbox(geoDf,\n",
    "                           geojson=geoDf.geometry,\n",
    "                           locations=geoDf.index,\n",
    "                           color=\"inj/inc\",\n",
    "                           \n",
    "                           mapbox_style=\"open-street-map\",\n",
    "                           color_continuous_scale=[(0,\"white\"), (1,\"red\")],\n",
    "                           center=center,\n",
    "                           opacity=.6,\n",
    "                           zoom=9)\n",
    "fig.show()"
   ],
   "outputs": [
    {
     "output_type": "display_data",
     "data": {
      "text/html": [
       "<div>                            <div id=\"711d37df-b3c8-4de3-afa1-a018305cef34\" class=\"plotly-graph-div\" style=\"height:525px; width:100%;\"></div>            <script type=\"text/javascript\">                require([\"plotly\"], function(Plotly) {                    window.PLOTLYENV=window.PLOTLYENV || {};                                    if (document.getElementById(\"711d37df-b3c8-4de3-afa1-a018305cef34\")) {                    Plotly.newPlot(                        \"711d37df-b3c8-4de3-afa1-a018305cef34\",                        [{\"coloraxis\": \"coloraxis\", \"geojson\": {\"bbox\": [-127.914179208738, 32.0263641962111, -82.91056883033009, 42.4501902822696], \"features\": [{\"bbox\": [-83.1061940474266, 42.4166195125974, -83.03872387218571, 42.4477008958908], \"geometry\": {\"coordinates\": [[[-83.0756423643687, 42.4166195125974], [-83.0884794886938, 42.4180793950898], [-83.095690019033, 42.424306391167995], [-83.1055581977073, 42.4396934817262], [-83.10617357538399, 42.4424270652163], [-83.1061940474266, 42.442880722591795], [-83.1040075958298, 42.444724955437], [-83.1006917757427, 42.4468867820732], [-83.04617976976671, 42.4477008958908], [-83.0403661941075, 42.4365218679237], [-83.0389483522591, 42.4336821371248], [-83.03872387218571, 42.429261297614296], [-83.0401332849993, 42.4286603425399], [-83.0756423643687, 42.4166195125974]]], \"type\": \"Polygon\"}, \"id\": \"0\", \"properties\": {}, \"type\": \"Feature\"}, {\"bbox\": [-83.1475824077508, 42.3218462436171, -83.034934207119, 42.403663684345204], \"geometry\": {\"coordinates\": [[[-83.0610070076362, 42.3218462436171], [-83.06141221639379, 42.3219225362919], [-83.06469088090309, 42.3232437831397], [-83.08253211227691, 42.3350833240847], [-83.0879551157953, 42.3390433452115], [-83.1361884858615, 42.3749258864827], [-83.147497579603, 42.3862129362955], [-83.1475713397114, 42.386795785543605], [-83.1475824077508, 42.3871767706191], [-83.147566174085, 42.3893344542206], [-83.1462678856073, 42.39287185935321], [-83.1418749057336, 42.3954250449633], [-83.1164697564145, 42.403663684345204], [-83.11223181400601, 42.403010888536], [-83.0623184987347, 42.368143739525706], [-83.05897720978241, 42.364224864923294], [-83.034934207119, 42.335916903724204], [-83.03696537405891, 42.3291223412443], [-83.0610070076362, 42.3218462436171]]], \"type\": \"Polygon\"}, \"id\": \"1\", \"properties\": {}, \"type\": \"Feature\"}, {\"bbox\": [-83.05224999203179, 42.40446010909071, -83.03800344594171, 42.4171661429595], \"geometry\": {\"coordinates\": [[[-83.0472578760084, 42.40446010909071], [-83.05224999203179, 42.4054994481254], [-83.0506782022564, 42.4154091592489], [-83.0477076743647, 42.4171661429595], [-83.0405596258267, 42.414358834643004], [-83.0393546807753, 42.4130246058418], [-83.03811480901291, 42.4105503261196], [-83.03800344594171, 42.4093452295868], [-83.0384102706656, 42.408675293635795], [-83.0386755364568, 42.4083920124955], [-83.04265227985691, 42.4061543443265], [-83.0472578760084, 42.40446010909071]]], \"type\": \"Polygon\"}, \"id\": \"2\", \"properties\": {}, \"type\": \"Feature\"}, {\"bbox\": [-83.1820155872695, 42.3202442081764, -83.0927165884653, 42.3930602272217], \"geometry\": {\"coordinates\": [[[-83.1109832602336, 42.3202442081764], [-83.1402300831494, 42.3246383890962], [-83.1565930894494, 42.3277983458704], [-83.1783539735424, 42.3515726325994], [-83.18180477200158, 42.365675411531], [-83.1820155872695, 42.3869402476051], [-83.173210247655, 42.391304508058], [-83.160389185762, 42.392844994285], [-83.1582703385799, 42.392901974865296], [-83.1520324919679, 42.3930602272217], [-83.1499000758956, 42.3930526605971], [-83.1210947361131, 42.3815947033521], [-83.09326939685941, 42.3525421859908], [-83.0927165884653, 42.350077067143296], [-83.0934213660295, 42.3474481127898], [-83.0938973442613, 42.3460588490288], [-83.1015085423809, 42.331578145543205], [-83.1109832602336, 42.3202442081764]]], \"type\": \"Polygon\"}, \"id\": \"3\", \"properties\": {}, \"type\": \"Feature\"}, {\"bbox\": [-83.2472609735448, 42.3429698958367, -83.18249281585571, 42.3766398155773], \"geometry\": {\"coordinates\": [[[-83.22828522347541, 42.3429698958367], [-83.24250487392, 42.34300530144429], [-83.2426921407008, 42.3434941957165], [-83.2468491754767, 42.3555198489921], [-83.2469678481161, 42.3573618716814], [-83.24725403266291, 42.3636892844707], [-83.2472609735448, 42.3645405389191], [-83.2472609627215, 42.3645411425683], [-83.24634299871529, 42.376307824387005], [-83.2463075106055, 42.37642907613839], [-83.2389639759144, 42.3766398155773], [-83.23522940257541, 42.3766354308953], [-83.1839665918548, 42.3683787946351], [-83.1838928227299, 42.3683656764404], [-83.18249281585571, 42.3584717482847], [-83.18451133418309, 42.352901319566605], [-83.1856849276794, 42.351103348540796], [-83.1857113534667, 42.351075493683794], [-83.196276612921, 42.3436552658278], [-83.196406448252, 42.3436362690002], [-83.2164904166418, 42.3430386258758], [-83.22828522347541, 42.3429698958367]]], \"type\": \"Polygon\"}, \"id\": \"4\", \"properties\": {}, \"type\": \"Feature\"}, {\"bbox\": [-83.07098868991291, 42.404676982291605, -83.0510771078571, 42.416304939658296], \"geometry\": {\"coordinates\": [[[-83.0687869207219, 42.404676982291605], [-83.07098868991291, 42.4079628505048], [-83.07024681863301, 42.415149746039205], [-83.06940301618441, 42.415474769574104], [-83.0689476219142, 42.4156447729695], [-83.05974845455479, 42.416304939658296], [-83.05159816033309, 42.411652060729295], [-83.05122021569021, 42.4109582284294], [-83.05114055939809, 42.410169379001005], [-83.0510771078571, 42.409490274954], [-83.0687869207219, 42.404676982291605]]], \"type\": \"Polygon\"}, \"id\": \"5\", \"properties\": {}, \"type\": \"Feature\"}, {\"bbox\": [-83.2728607250123, 42.374104527433, -83.1168473027982, 42.446277338093], \"geometry\": {\"coordinates\": [[[-83.2084193721417, 42.374104527433], [-83.2172185208471, 42.3744313350623], [-83.23791698707, 42.386233011090106], [-83.26027266806071, 42.411715568202894], [-83.26234343974879, 42.4146125471656], [-83.2728112205068, 42.4392407314449], [-83.2728607250123, 42.44022052126721], [-83.2726962305335, 42.4407267211484], [-83.271813727734, 42.441398707507204], [-83.26846947093391, 42.442996165245106], [-83.2192870845331, 42.4445288138879], [-83.1696074939883, 42.4457568580475], [-83.1592942486682, 42.4459932990143], [-83.1338280518389, 42.446277338093], [-83.12082525849479, 42.41753474867561], [-83.1186844644655, 42.412720025555394], [-83.118127278309, 42.4111371629972], [-83.1168473027982, 42.404596050639206], [-83.13043321868759, 42.3990218824829], [-83.2012168679096, 42.3746965802485], [-83.2084193721417, 42.374104527433]]], \"type\": \"Polygon\"}, \"id\": \"6\", \"properties\": {}, \"type\": \"Feature\"}, {\"bbox\": [-83.022376926332, 42.385343671847295, -82.91056883033009, 42.4501902822696], \"geometry\": {\"coordinates\": [[[-82.9664140725245, 42.385343671847295], [-82.9695438724498, 42.385934547924705], [-82.96968356221859, 42.3859787235418], [-82.9907377808313, 42.3941802409194], [-83.0076849928643, 42.4130193177012], [-83.0113327190495, 42.4172979154576], [-83.0114549303722, 42.417469200072496], [-83.022376926332, 42.440366117343295], [-83.0204253809575, 42.4416868373171], [-82.9978658517293, 42.4490068652072], [-82.9856649101441, 42.4495745556406], [-82.9488407120581, 42.4501902822696], [-82.94765494053131, 42.4501851745168], [-82.9107594559215, 42.417151444160204], [-82.91056883033009, 42.4169079235699], [-82.91311768762691, 42.4110035048292], [-82.9176593949489, 42.401548627920604], [-82.9190625168007, 42.3988494580586], [-82.92026878251541, 42.3971298866346], [-82.9222221154688, 42.394965207091495], [-82.92239929269479, 42.3948289726166], [-82.92322916519191, 42.3944879517279], [-82.9314495332725, 42.3912430713114], [-82.93439932198001, 42.3901588543254], [-82.9346343910562, 42.390079483787204], [-82.93635394548299, 42.3895220650305], [-82.9394181376786, 42.388770201604096], [-82.94274201985209, 42.3881538249275], [-82.944474238984, 42.3878473176349], [-82.9664140725245, 42.385343671847295]]], \"type\": \"Polygon\"}, \"id\": \"7\", \"properties\": {}, \"type\": \"Feature\"}, {\"bbox\": [-83.06770376228229, 42.416468703647794, -83.0454834689977, 42.421462687737204], \"geometry\": {\"coordinates\": [[[-83.055470817343, 42.416468703647794], [-83.06533885498109, 42.4169499937511], [-83.0653534681898, 42.4169596842847], [-83.06770376228229, 42.418639491532105], [-83.06490309421059, 42.4206152331511], [-83.0625555222759, 42.421462687737204], [-83.04631609966809, 42.4213148259602], [-83.0454856843848, 42.4204731974266], [-83.0454834689977, 42.4204029141004], [-83.04672460269829, 42.418989656138294], [-83.055470817343, 42.416468703647794]]], \"type\": \"Polygon\"}, \"id\": \"8\", \"properties\": {}, \"type\": \"Feature\"}, {\"bbox\": [-83.109642780429, 42.386178760873605, -83.10211532127221, 42.3960164626867], \"geometry\": {\"coordinates\": [[[-83.10405186415571, 42.386178760873605], [-83.109642780429, 42.394036793621396], [-83.1094510957921, 42.3960164626867], [-83.10825803614101, 42.395874126005], [-83.1056281516589, 42.3953771730791], [-83.1025426244403, 42.3895934988156], [-83.10211532127221, 42.387842967317205], [-83.10285101468351, 42.3866137573238], [-83.1036379123391, 42.3863285307007], [-83.10405186415571, 42.386178760873605]]], \"type\": \"Polygon\"}, \"id\": \"9\", \"properties\": {}, \"type\": \"Feature\"}, {\"bbox\": [-83.11967916169941, 42.417579356477106, -83.094384742868, 42.429861883875105], \"geometry\": {\"coordinates\": [[[-83.11643901704471, 42.417579356477106], [-83.1169386840153, 42.4175969289433], [-83.1195053369583, 42.422048609289604], [-83.11967916169941, 42.422432592293205], [-83.1091603511929, 42.429735642429], [-83.1037305950008, 42.429861883875105], [-83.10228223871991, 42.429855191784604], [-83.100330763738, 42.4290839922804], [-83.094384742868, 42.4203787746555], [-83.098416195225, 42.4179380132841], [-83.1017635509015, 42.4178021560429], [-83.1053279119277, 42.4177407600979], [-83.11285670924009, 42.4176136233325], [-83.1138088300653, 42.4176020886911], [-83.11643901704471, 42.417579356477106]]], \"type\": \"Polygon\"}, \"id\": \"10\", \"properties\": {}, \"type\": \"Feature\"}, {\"bbox\": [-83.0029180086494, 42.3468946477004, -82.99120999161059, 42.354913281361604], \"geometry\": {\"coordinates\": [[[-83.0019094929235, 42.3468946477004], [-83.00205590315741, 42.3471362194898], [-83.0029180086494, 42.3486580130236], [-82.99384794375979, 42.35479693629], [-82.9920729840276, 42.354913281361604], [-82.99120999161059, 42.353775700686995], [-82.99121001034649, 42.3537748501287], [-82.99144399424621, 42.3535671297706], [-82.9939363703943, 42.3519528711439], [-82.99851905276441, 42.348988936828], [-83.0015881100017, 42.3470413162755], [-83.0019094929235, 42.3468946477004]]], \"type\": \"Polygon\"}, \"id\": \"11\", \"properties\": {}, \"type\": \"Feature\"}, {\"bbox\": [-83.1201896983896, 42.4384285221723, -83.1171140086972, 42.439350458443705], \"geometry\": {\"coordinates\": [[[-83.1171140086972, 42.4384285221723], [-83.11998578862229, 42.4387820861077], [-83.1201896983896, 42.439146335991204], [-83.1198389629332, 42.4392690605667], [-83.119207936796, 42.4393267395897], [-83.1188780737826, 42.4393320379848], [-83.1177217025569, 42.439350458443705], [-83.1171440846367, 42.4393313208683], [-83.1171140086972, 42.4384285221723]]], \"type\": \"Polygon\"}, \"id\": \"12\", \"properties\": {}, \"type\": \"Feature\"}, {\"bbox\": [-82.94673037787051, 42.357629518797204, -82.9339644806521, 42.371307858799796], \"geometry\": {\"coordinates\": [[[-82.94294228777709, 42.357629518797204], [-82.9432721319207, 42.3580942092521], [-82.94673037787051, 42.3666284621745], [-82.94496396158002, 42.3712256933694], [-82.9371303042356, 42.371307858799796], [-82.9356883038092, 42.369144428025606], [-82.934161150907, 42.366825360355705], [-82.9339644806521, 42.3665254570677], [-82.9373709453219, 42.359666396474], [-82.94294228777709, 42.357629518797204]]], \"type\": \"Polygon\"}, \"id\": \"13\", \"properties\": {}, \"type\": \"Feature\"}, {\"bbox\": [-83.0353031680492, 42.3411214569185, -83.031838450787, 42.3438623437146], \"geometry\": {\"coordinates\": [[[-83.03425722701999, 42.3411214569185], [-83.0353031680492, 42.3423821816986], [-83.0352767701513, 42.3424057212311], [-83.03513349350459, 42.342532260706896], [-83.0344353290333, 42.342830758521295], [-83.0326846833386, 42.343560881778004], [-83.031838450787, 42.3438623437146], [-83.032789050806, 42.3417921868742], [-83.03425722701999, 42.3411214569185]]], \"type\": \"Polygon\"}, \"id\": \"14\", \"properties\": {}, \"type\": \"Feature\"}, {\"bbox\": [-83.13756987148959, 42.2956899435921, -83.0794486686044, 42.327471799537705], \"geometry\": {\"coordinates\": [[[-83.1308727303895, 42.2956899435921], [-83.1309090359269, 42.2957233543657], [-83.132242580901, 42.2976422446695], [-83.13567921477679, 42.3025892461291], [-83.13610341760379, 42.3032009652568], [-83.1368140168636, 42.304664987406504], [-83.13756987148959, 42.3096570871186], [-83.137253542235, 42.310888719455], [-83.1348777723576, 42.3171783233884], [-83.1064097123285, 42.324229037936895], [-83.09337695608279, 42.3264001579969], [-83.0794486686044, 42.327471799537705], [-83.0841383881904, 42.3204466074381], [-83.0933011337372, 42.307983908550895], [-83.1308727303895, 42.2956899435921]]], \"type\": \"Polygon\"}, \"id\": \"15\", \"properties\": {}, \"type\": \"Feature\"}, {\"bbox\": [-83.04202450889609, 42.359229003587, -83.0390891073463, 42.3628721882866], \"geometry\": {\"coordinates\": [[[-83.0409201422567, 42.359229003587], [-83.04202450889609, 42.360896026782704], [-83.0414200820522, 42.3628721882866], [-83.0397705815508, 42.360910265293896], [-83.0390891073463, 42.359893137942294], [-83.04057759909621, 42.3593280287459], [-83.0408719465789, 42.359233243453104], [-83.0409201422567, 42.359229003587]]], \"type\": \"Polygon\"}, \"id\": \"16\", \"properties\": {}, \"type\": \"Feature\"}, {\"bbox\": [-83.1695704992181, 42.2577751993996, -83.1411969582143, 42.2831068996339], \"geometry\": {\"coordinates\": [[[-83.1637591860315, 42.2577751993996], [-83.1654378747963, 42.2588535441419], [-83.16643438579659, 42.2596746277981], [-83.16664259880359, 42.259990735034705], [-83.1695704992181, 42.2647179378395], [-83.1579075565734, 42.2785977966648], [-83.1482924562554, 42.2831068996339], [-83.1412811176707, 42.2799165305724], [-83.1412591984133, 42.279903532215], [-83.1411969582143, 42.2796850917629], [-83.14196223084251, 42.2785393439296], [-83.1438190523518, 42.2758106317131], [-83.15293660685549, 42.265102314079996], [-83.15879868159621, 42.2582967009817], [-83.1637591860315, 42.2577751993996]]], \"type\": \"Polygon\"}, \"id\": \"17\", \"properties\": {}, \"type\": \"Feature\"}, {\"bbox\": [-83.03740454205149, 42.40472280148921, -83.0362116134449, 42.4048011710262], \"geometry\": {\"coordinates\": [[[-83.03689466155281, 42.40472280148921], [-83.0373723620445, 42.404722986069004], [-83.03740454205149, 42.4047768792533], [-83.0373934242994, 42.4047772705982], [-83.0362116134449, 42.4048011710262], [-83.03689466155281, 42.40472280148921]]], \"type\": \"Polygon\"}, \"id\": \"18\", \"properties\": {}, \"type\": \"Feature\"}, {\"bbox\": [-83.0261897409781, 42.3358740249813, -83.0061078375689, 42.345878706572], \"geometry\": {\"coordinates\": [[[-83.01710564606259, 42.3358740249813], [-83.0227901725857, 42.3381525886689], [-83.0261621876629, 42.340642582676104], [-83.0261897409781, 42.341427135047205], [-83.0251998956812, 42.3416975128095], [-83.0097599449237, 42.345719826332996], [-83.0082507288167, 42.345878706572], [-83.0061078375689, 42.345744877002794], [-83.00623148300551, 42.3453337569735], [-83.0074720584154, 42.343068908155], [-83.0086102437943, 42.341595723477], [-83.01465274750579, 42.3362350312806], [-83.01710564606259, 42.3358740249813]]], \"type\": \"Polygon\"}, \"id\": \"19\", \"properties\": {}, \"type\": \"Feature\"}, {\"bbox\": [-83.06080639662129, 42.3790788951486, -83.0600943663258, 42.380452889975295], \"geometry\": {\"coordinates\": [[[-83.0606278531706, 42.3790788951486], [-83.060656388123, 42.3791304070085], [-83.06080639662129, 42.380452889975295], [-83.0600943663258, 42.379277547171796], [-83.06009811528959, 42.3792752849874], [-83.060516245742, 42.3791056320186], [-83.0606278531706, 42.3790788951486]]], \"type\": \"Polygon\"}, \"id\": \"20\", \"properties\": {}, \"type\": \"Feature\"}, {\"bbox\": [-127.914179208738, 32.0263641962111, -127.914179208738, 32.0263641962111], \"geometry\": {\"coordinates\": [-127.914179208738, 32.0263641962111], \"type\": \"Point\"}, \"id\": \"21\", \"properties\": {}, \"type\": \"Feature\"}, {\"bbox\": [-83.04297312513009, 42.338970198077504, -83.0342886380348, 42.3490262126014], \"geometry\": {\"coordinates\": [[[-83.04011832049571, 42.338970198077504], [-83.0416907015822, 42.3396579659018], [-83.0419820998705, 42.3400466054396], [-83.04297312513009, 42.347395710970105], [-83.0422133969113, 42.3490262126014], [-83.0368648430682, 42.348786652424], [-83.0342886380348, 42.3455449133942], [-83.04011832049571, 42.338970198077504]]], \"type\": \"Polygon\"}, \"id\": \"22\", \"properties\": {}, \"type\": \"Feature\"}, {\"bbox\": [-83.2377876988502, 42.328729877434505, -83.1961344893235, 42.3416029976225], \"geometry\": {\"coordinates\": [[[-83.2204671771338, 42.328729877434505], [-83.22518679043779, 42.3289151155841], [-83.23255906820829, 42.3323160527327], [-83.2375331989225, 42.3358300741149], [-83.2377876988502, 42.3405775050879], [-83.2328575624278, 42.341139054408295], [-83.2073174566165, 42.3415647612594], [-83.1998848842466, 42.3416029976225], [-83.19864641766621, 42.341560508354895], [-83.1962062547612, 42.3406980595906], [-83.1961407197088, 42.3400498224445], [-83.1961344893235, 42.3364346289802], [-83.1961344908661, 42.336434546665004], [-83.2193523691378, 42.3290159609336], [-83.2204671771338, 42.328729877434505]]], \"type\": \"Polygon\"}, \"id\": \"23\", \"properties\": {}, \"type\": \"Feature\"}, {\"bbox\": [-83.1358926377042, 42.356891672498, -83.1358926258057, 42.3568922761361], \"geometry\": {\"coordinates\": [[-83.1358926377042, 42.356891672498], [-83.1358926258057, 42.3568922761361]], \"type\": \"LineString\"}, \"id\": \"24\", \"properties\": {}, \"type\": \"Feature\"}, {\"bbox\": [-83.02670944846999, 42.3532216640819, -82.9872366175714, 42.4027860823524], \"geometry\": {\"coordinates\": [[[-83.01623490260309, 42.3532216640819], [-83.0200383329165, 42.354091891599104], [-83.02183707414291, 42.356818837141496], [-83.02670944846999, 42.365655681776], [-83.0263026500021, 42.3684000498312], [-83.0255787407823, 42.3721211261181], [-83.0176244081423, 42.400913467906896], [-82.9988539405495, 42.4027860823524], [-82.9872366175714, 42.3884202186188], [-82.9873970271721, 42.386187592667206], [-82.9945211236456, 42.3689527209014], [-83.0044105429125, 42.3596134697763], [-83.0119523763732, 42.3539736303398], [-83.0132652075472, 42.3534946861819], [-83.01623490260309, 42.3532216640819]]], \"type\": \"Polygon\"}, \"id\": \"25\", \"properties\": {}, \"type\": \"Feature\"}, {\"bbox\": [-83.2161413881871, 42.32893435240229, -83.2153555648693, 42.3306581086261], \"geometry\": {\"coordinates\": [[[-83.2159956065036, 42.32893435240229], [-83.21605465440621, 42.329342927762205], [-83.21608078549359, 42.3297314373342], [-83.2161413881871, 42.3306581086261], [-83.21536371573991, 42.3291047887015], [-83.2153555648693, 42.32894501167821], [-83.2159956065036, 42.32893435240229]]], \"type\": \"Polygon\"}, \"id\": \"26\", \"properties\": {}, \"type\": \"Feature\"}, {\"bbox\": [-83.0887120223278, 42.3740946918891, -83.0684868688648, 42.393843991094705], \"geometry\": {\"coordinates\": [[[-83.07587044015929, 42.3740946918891], [-83.0774220102504, 42.3747762242365], [-83.0869442035538, 42.389103548980295], [-83.08853659036829, 42.3916122047355], [-83.0887120223278, 42.392627472482204], [-83.0884951781169, 42.3929110553996], [-83.0853993285065, 42.393843991094705], [-83.08279309320929, 42.3927499168423], [-83.0690007191467, 42.3805100560671], [-83.0689898164131, 42.3805003259729], [-83.0685829699986, 42.379950110950105], [-83.0684868688648, 42.379765327746], [-83.0694787089023, 42.3763907257311], [-83.0706133757321, 42.3748668865329], [-83.0718449052608, 42.3743806013357], [-83.07587044015929, 42.3740946918891]]], \"type\": \"Polygon\"}, \"id\": \"27\", \"properties\": {}, \"type\": \"Feature\"}, {\"bbox\": [-83.1015572488839, 42.3553549569183, -83.091625645851, 42.362586101462], \"geometry\": {\"coordinates\": [[[-83.0969825058117, 42.3553549569183], [-83.0980417975859, 42.3560320473975], [-83.1015572488839, 42.3611329411056], [-83.1001187261683, 42.361814584571], [-83.09368624249569, 42.362586101462], [-83.091625645851, 42.3603804776727], [-83.0934289429448, 42.358327065260895], [-83.0969825058117, 42.3553549569183]]], \"type\": \"Polygon\"}, \"id\": \"28\", \"properties\": {}, \"type\": \"Feature\"}, {\"bbox\": [-83.0707992424682, 42.3207766439204, -83.06614391226691, 42.3242416886109], \"geometry\": {\"coordinates\": [[[-83.0705261845478, 42.3207766439204], [-83.0707992424682, 42.3229452823472], [-83.06771012311842, 42.3242416886109], [-83.06614391226691, 42.3216638769556], [-83.0705261845478, 42.3207766439204]]], \"type\": \"Polygon\"}, \"id\": \"29\", \"properties\": {}, \"type\": \"Feature\"}, {\"bbox\": [-83.0916508735109, 42.345585492536294, -83.08522428741371, 42.36157319748921], \"geometry\": {\"coordinates\": [[[-83.08882005264671, 42.345585492536294], [-83.0915563856093, 42.349638653540104], [-83.0916508735109, 42.3580578588481], [-83.0916508471772, 42.358059148428396], [-83.090042217264, 42.3601813022379], [-83.0879633229194, 42.3614088366313], [-83.08687939852679, 42.36157319748921], [-83.08684006587809, 42.3615062018705], [-83.08522428741371, 42.3470161494869], [-83.0864418831053, 42.346455182114795], [-83.08882005264671, 42.345585492536294]]], \"type\": \"Polygon\"}, \"id\": \"30\", \"properties\": {}, \"type\": \"Feature\"}, {\"bbox\": [-83.28648162620391, 42.4070477890792, -83.27349457791459, 42.4199103563531], \"geometry\": {\"coordinates\": [[[-83.2849219678599, 42.4070477890792], [-83.28493574316391, 42.4071076093408], [-83.28648162620391, 42.414282702028295], [-83.2860270087235, 42.41914705783], [-83.28258964797709, 42.4197980079934], [-83.28008387083791, 42.4199103563531], [-83.2776399180936, 42.41987537772071], [-83.27349457791459, 42.414631279073], [-83.27463288217629, 42.4084211042847], [-83.2755304397456, 42.407706844721396], [-83.27738634595191, 42.4072469773541], [-83.2849219678599, 42.4070477890792]]], \"type\": \"Polygon\"}, \"id\": \"31\", \"properties\": {}, \"type\": \"Feature\"}, {\"bbox\": [-83.0345212090822, 42.42279696667121, -83.01806060335859, 42.4484544691346], \"geometry\": {\"coordinates\": [[[-83.0238742574815, 42.42279696667121], [-83.02790381221159, 42.4235167390962], [-83.03327937743491, 42.4288559714776], [-83.0338452327007, 42.430460286083104], [-83.0340285590487, 42.4324566291907], [-83.034177450043, 42.436411906356795], [-83.03450844169741, 42.4467597441049], [-83.0345203560169, 42.447936479601104], [-83.0345212090822, 42.4482434276408], [-83.02475578721929, 42.4484544691346], [-83.0235979416877, 42.4481872082626], [-83.0224945057413, 42.4478030617409], [-83.02144210181929, 42.447115313915404], [-83.01926274263958, 42.4431912615673], [-83.01806060335859, 42.433327700408505], [-83.01959390719699, 42.430435205727], [-83.0238742574815, 42.42279696667121]]], \"type\": \"Polygon\"}, \"id\": \"32\", \"properties\": {}, \"type\": \"Feature\"}, {\"bbox\": [-83.2521161632612, 42.3792354391022, -83.2430146938312, 42.3837837802433], \"geometry\": {\"coordinates\": [[[-83.250950625317, 42.3792354391022], [-83.2521161632612, 42.38008871227979], [-83.2511391018408, 42.3813233203419], [-83.2482866185924, 42.3835143384899], [-83.2476154740798, 42.3837837802433], [-83.2430146938312, 42.3816994649161], [-83.2430478689825, 42.3815015965389], [-83.24641910763341, 42.379285393235], [-83.250950625317, 42.3792354391022]]], \"type\": \"Polygon\"}, \"id\": \"33\", \"properties\": {}, \"type\": \"Feature\"}, {\"bbox\": [-83.1265839693783, 42.37009680363779, -83.1194511657139, 42.382309075429795], \"geometry\": {\"coordinates\": [[[-83.12610957162501, 42.37009680363779], [-83.1265839693783, 42.372671595168796], [-83.1261677625644, 42.3805783838709], [-83.1258705407993, 42.382309075429795], [-83.1223850448923, 42.3772178899681], [-83.1205081727301, 42.3744487878657], [-83.11984775867391, 42.373416338481995], [-83.1194511657139, 42.3727034875306], [-83.12610957162501, 42.37009680363779]]], \"type\": \"Polygon\"}, \"id\": \"34\", \"properties\": {}, \"type\": \"Feature\"}, {\"bbox\": [-83.285688452535, 42.4215155932565, -83.2694510676227, 42.4395632518776], \"geometry\": {\"coordinates\": [[[-83.2696217917908, 42.4215155932565], [-83.2812765209769, 42.42161327568179], [-83.28399354558759, 42.421711152796604], [-83.285688452535, 42.4275695987513], [-83.28499128921821, 42.432098234482005], [-83.2808706113653, 42.439399322927706], [-83.2800044802643, 42.4395632518776], [-83.273019514201, 42.4343355478249], [-83.2694510676227, 42.425956934387706], [-83.2696217917908, 42.4215155932565]]], \"type\": \"Polygon\"}, \"id\": \"35\", \"properties\": {}, \"type\": \"Feature\"}, {\"bbox\": [-83.1839384366711, 42.3511116730165, -83.1824764045621, 42.3511426435051], \"geometry\": {\"coordinates\": [[[-83.1839384366711, 42.3511116730165], [-83.1826318606591, 42.3511393803712], [-83.1824764045621, 42.3511426435051], [-83.1839384366711, 42.3511116730165]]], \"type\": \"Polygon\"}, \"id\": \"36\", \"properties\": {}, \"type\": \"Feature\"}, {\"bbox\": [-83.0801165380898, 42.3313106645065, -83.06852843098241, 42.3394332018741], \"geometry\": {\"coordinates\": [[[-83.07980601419679, 42.3313106645065], [-83.0801165380898, 42.33131898874971], [-83.0746406922219, 42.3385534268116], [-83.0714744396291, 42.3394332018741], [-83.06852843098241, 42.3368314384299], [-83.06866244306491, 42.3344767964298], [-83.069134244066, 42.3317079039199], [-83.0695431913166, 42.3314295743221], [-83.07054678917841, 42.331370209640795], [-83.07980601419679, 42.3313106645065]]], \"type\": \"Polygon\"}, \"id\": \"37\", \"properties\": {}, \"type\": \"Feature\"}, {\"bbox\": [-82.9661581555866, 42.3819632684678, -82.9630677264305, 42.3843680392432], \"geometry\": {\"coordinates\": [[[-82.9642058793003, 42.3819632684678], [-82.9661581555866, 42.3830552964628], [-82.9658780197768, 42.3838261415141], [-82.9630819687205, 42.3843680392432], [-82.9630677264305, 42.38434288841211], [-82.9635077999322, 42.3830461525241], [-82.9642058793003, 42.3819632684678]]], \"type\": \"Polygon\"}, \"id\": \"38\", \"properties\": {}, \"type\": \"Feature\"}, {\"bbox\": [-83.1180625709938, 42.4350998041973, -83.11701624739209, 42.4365750612404], \"geometry\": {\"coordinates\": [[[-83.1174252294427, 42.4350998041973], [-83.1180625709938, 42.4365750612404], [-83.11701624739209, 42.4360963274979], [-83.1174252294427, 42.4350998041973]]], \"type\": \"Polygon\"}, \"id\": \"39\", \"properties\": {}, \"type\": \"Feature\"}, {\"bbox\": [-83.272533641645, 42.3819484158316, -83.24920180965071, 42.4172913799025], \"geometry\": {\"coordinates\": [[[-83.25574018066591, 42.3819484158316], [-83.2562287295792, 42.382160309659], [-83.2648510153184, 42.386080276013], [-83.272533641645, 42.3999474042554], [-83.2722688472873, 42.40216699367979], [-83.2653700985008, 42.4168729040582], [-83.2650664115997, 42.4172913799025], [-83.263537774778, 42.4168155829245], [-83.253562702957, 42.4079450021883], [-83.25348295761991, 42.4078483335836], [-83.2522588323859, 42.405891280962], [-83.25221923451049, 42.405827690349], [-83.2492073139467, 42.398665476206396], [-83.24920180965071, 42.398559325798004], [-83.25135133840891, 42.383739493052104], [-83.25574018066591, 42.3819484158316]]], \"type\": \"Polygon\"}, \"id\": \"40\", \"properties\": {}, \"type\": \"Feature\"}, {\"bbox\": [-83.2342240476265, 42.4224445168219, -83.23310574233271, 42.422487891890896], \"geometry\": {\"coordinates\": [[[-83.23310574233271, 42.4224445168219], [-83.2342240476265, 42.4224621990675], [-83.23314569876209, 42.422487891890896], [-83.23310574233271, 42.4224445168219]]], \"type\": \"Polygon\"}, \"id\": \"41\", \"properties\": {}, \"type\": \"Feature\"}, {\"bbox\": [-82.9739255900853, 42.3559341811879, -82.9738969346977, 42.3559766330996], \"geometry\": {\"coordinates\": [[-82.9738969346977, 42.3559341811879], [-82.9739255900853, 42.3559766330996]], \"type\": \"LineString\"}, \"id\": \"42\", \"properties\": {}, \"type\": \"Feature\"}, {\"bbox\": [-82.98865869512629, 42.3519096920383, -82.9873031547157, 42.3535262393622], \"geometry\": {\"coordinates\": [[[-82.9873031547157, 42.3519096920383], [-82.9880627063125, 42.3527003811511], [-82.98865869512629, 42.3535262393622], [-82.9873031547157, 42.3519096920383]]], \"type\": \"Polygon\"}, \"id\": \"43\", \"properties\": {}, \"type\": \"Feature\"}, {\"bbox\": [-83.0459724619534, 42.3260906742624, -83.0440446920598, 42.3268467354304], \"geometry\": {\"coordinates\": [[[-83.04571761351309, 42.3260906742624], [-83.0459724619534, 42.326107034138495], [-83.04509503789942, 42.3264986028205], [-83.0440446920598, 42.3268467354304], [-83.04571761351309, 42.3260906742624]]], \"type\": \"Polygon\"}, \"id\": \"44\", \"properties\": {}, \"type\": \"Feature\"}, {\"bbox\": [-83.0618879400317, 42.3304438664006, -83.05648112219191, 42.3337277233907], \"geometry\": {\"coordinates\": [[[-83.0612859411188, 42.3304438664006], [-83.0618081732004, 42.3311179784199], [-83.0618879400317, 42.3315490032977], [-83.0584912158477, 42.3337277233907], [-83.05648112219191, 42.33274518560079], [-83.0574065631859, 42.3316516720219], [-83.0575543876902, 42.3314812467373], [-83.0612859411188, 42.3304438664006]]], \"type\": \"Polygon\"}, \"id\": \"45\", \"properties\": {}, \"type\": \"Feature\"}, {\"bbox\": [-83.0566998945317, 42.3241803098804, -83.0563611814275, 42.3249590031273], \"geometry\": {\"coordinates\": [[[-83.0563611814275, 42.3241803098804], [-83.0566285920265, 42.32430280852479], [-83.0566998945317, 42.3249590031273], [-83.0566962275264, 42.3249575062343], [-83.0565085572108, 42.324559618886205], [-83.0563611814275, 42.3241803098804]]], \"type\": \"Polygon\"}, \"id\": \"46\", \"properties\": {}, \"type\": \"Feature\"}, {\"bbox\": [-83.2518512252193, 42.3837555736062, -83.2400547945593, 42.396110781613395], \"geometry\": {\"coordinates\": [[[-83.24653876856871, 42.3837555736062], [-83.25012312144091, 42.3872144398285], [-83.25183814504841, 42.3956545226766], [-83.2518512252193, 42.3959585868214], [-83.2518501325736, 42.3960197474562], [-83.248034943522, 42.396110781613395], [-83.2435475620056, 42.3956973011468], [-83.2425198828595, 42.3945804773251], [-83.24006006300901, 42.38891724112379], [-83.2400547945593, 42.3887989349668], [-83.24008438549771, 42.3885952686745], [-83.2409490871941, 42.385193663586996], [-83.24195165236871, 42.3837909453587], [-83.24653876856871, 42.3837555736062]]], \"type\": \"Polygon\"}, \"id\": \"47\", \"properties\": {}, \"type\": \"Feature\"}, {\"bbox\": [-83.2875782447606, 42.4332189726524, -83.2813338628763, 42.4381547886764], \"geometry\": {\"coordinates\": [[[-83.2813338628763, 42.4332189726524], [-83.2871503464602, 42.4349225006619], [-83.2875523773143, 42.435882303235104], [-83.2875782447606, 42.4378130970406], [-83.2839562875194, 42.4381547886764], [-83.2827202662193, 42.437858970060795], [-83.28144210139091, 42.4350888914995], [-83.2813867348439, 42.434651329085], [-83.2813338628763, 42.4332189726524]]], \"type\": \"Polygon\"}, \"id\": \"48\", \"properties\": {}, \"type\": \"Feature\"}, {\"bbox\": [-82.9833516437346, 42.3539667493073, -82.98034210885841, 42.3560304201931], \"geometry\": {\"coordinates\": [[[-82.98034210885841, 42.3539667493073], [-82.9833516437346, 42.354576102898704], [-82.9818319091269, 42.3560304201931], [-82.9814345765946, 42.355593234747296], [-82.9806089011909, 42.3544496869389], [-82.98058021577121, 42.3544084165176], [-82.98034210885841, 42.3539667493073]]], \"type\": \"Polygon\"}, \"id\": \"49\", \"properties\": {}, \"type\": \"Feature\"}, {\"bbox\": [-82.98855494921621, 42.3557641287598, -82.9744354470113, 42.3651716914868], \"geometry\": {\"coordinates\": [[[-82.9884501949718, 42.3557641287598], [-82.98855494921621, 42.3594005338766], [-82.98670453824721, 42.361752212928295], [-82.98533117373059, 42.36227359023471], [-82.9761297029653, 42.3651716914868], [-82.9744354470113, 42.3651391518183], [-82.9834413794114, 42.356538479322204], [-82.9855813999569, 42.3561479000626], [-82.9884501949718, 42.3557641287598]]], \"type\": \"Polygon\"}, \"id\": \"50\", \"properties\": {}, \"type\": \"Feature\"}, {\"bbox\": [-83.0154927412463, 42.4483938125664, -83.0143692696307, 42.44845278660821], \"geometry\": {\"coordinates\": [[[-83.0154927412463, 42.4483938125664], [-83.01534693902799, 42.44845278660821], [-83.0143692696307, 42.4484229095455], [-83.0147437622689, 42.448413120328], [-83.0154556636199, 42.4483947440631], [-83.0154927412463, 42.4483938125664]]], \"type\": \"Polygon\"}, \"id\": \"51\", \"properties\": {}, \"type\": \"Feature\"}, {\"bbox\": [-83.03305690508779, 42.349856932030605, -83.02362259803391, 42.359215100537604], \"geometry\": {\"coordinates\": [[[-83.0302969561466, 42.349856932030605], [-83.0303115628965, 42.349865941146], [-83.0323412682077, 42.352881269914796], [-83.03305690508779, 42.3540226160406], [-83.0281273501023, 42.358901276435205], [-83.0277618218983, 42.3590358894942], [-83.0251861705238, 42.359215100537604], [-83.024632627171, 42.3586277491609], [-83.02362259803391, 42.3553506738152], [-83.0274319091306, 42.3511267742568], [-83.0285194113151, 42.350622190307796], [-83.0289937815697, 42.350413111476], [-83.029501720255, 42.3501913077322], [-83.0302969561466, 42.349856932030605]]], \"type\": \"Polygon\"}, \"id\": \"52\", \"properties\": {}, \"type\": \"Feature\"}, {\"bbox\": [-83.0148843821642, 42.3507569836994, -83.01460102615971, 42.3511699691037], \"geometry\": {\"coordinates\": [[[-83.01460102615971, 42.3507569836994], [-83.0146156124394, 42.3507668453966], [-83.0148843821642, 42.3511699691037], [-83.01460102615971, 42.3507569836994]]], \"type\": \"Polygon\"}, \"id\": \"53\", \"properties\": {}, \"type\": \"Feature\"}, {\"bbox\": [-83.22572161438829, 42.3675332629992, -83.1835516381831, 42.3773883305538], \"geometry\": {\"coordinates\": [[[-83.21786734152471, 42.3675332629992], [-83.2201670318248, 42.3684599250758], [-83.2227515351586, 42.370408745812504], [-83.2232581983103, 42.3708331321519], [-83.2252876775575, 42.372582249000004], [-83.22572161438829, 42.374557605374605], [-83.22550464427009, 42.37569567646379], [-83.1934084565823, 42.3773883305538], [-83.1879269366765, 42.3771778736251], [-83.1835516381831, 42.3728942886493], [-83.18403743030709, 42.3705002466418], [-83.2168928797052, 42.3675956022663], [-83.21786734152471, 42.3675332629992]]], \"type\": \"Polygon\"}, \"id\": \"54\", \"properties\": {}, \"type\": \"Feature\"}, {\"bbox\": [-83.0251502358242, 42.413950089433996, -83.0194862550759, 42.419989952713706], \"geometry\": {\"coordinates\": [[[-83.0223832130358, 42.413950089433996], [-83.0251502358242, 42.4154831580172], [-83.0237680029592, 42.419989952713706], [-83.0205936241804, 42.418617105955796], [-83.0197084714716, 42.4177549856982], [-83.0194862550759, 42.4168966041381], [-83.0223832130358, 42.413950089433996]]], \"type\": \"Polygon\"}, \"id\": \"55\", \"properties\": {}, \"type\": \"Feature\"}, {\"bbox\": [-83.03168330748801, 42.3704739587119, -83.02765714009699, 42.3740041311479], \"geometry\": {\"coordinates\": [[[-83.02765714009699, 42.3704739587119], [-83.03168330748801, 42.3729267980088], [-83.0300131810269, 42.3740041311479], [-83.0286090076571, 42.371996164798496], [-83.0282829329547, 42.371495493832], [-83.02765714009699, 42.3704739587119]]], \"type\": \"Polygon\"}, \"id\": \"56\", \"properties\": {}, \"type\": \"Feature\"}, {\"bbox\": [-82.9951064872794, 42.3752349098891, -82.98112006938041, 42.3846399912761], \"geometry\": {\"coordinates\": [[[-82.9934946868774, 42.3752349098891], [-82.9951064872794, 42.3776850554935], [-82.9923723478732, 42.381828305845], [-82.9914586467481, 42.382471030833294], [-82.98374405666429, 42.3846399912761], [-82.98112006938041, 42.3831068610207], [-82.992314985956, 42.375691504467895], [-82.9934946868774, 42.3752349098891]]], \"type\": \"Polygon\"}, \"id\": \"57\", \"properties\": {}, \"type\": \"Feature\"}, {\"bbox\": [-83.07330915749709, 42.4104861324306, -83.0724644654702, 42.411979148748294], \"geometry\": {\"coordinates\": [[[-83.0726769074827, 42.4104861324306], [-83.07330915749709, 42.411608144205296], [-83.07330914327609, 42.4116088301491], [-83.0724644654702, 42.411979148748294], [-83.0726769074827, 42.4104861324306]]], \"type\": \"Polygon\"}, \"id\": \"58\", \"properties\": {}, \"type\": \"Feature\"}, {\"bbox\": [-83.02733225886459, 42.392682375136296, -83.02603655625309, 42.394069282652296], \"geometry\": {\"coordinates\": [[[-83.02603655625309, 42.392682375136296], [-83.0272191041662, 42.3934761903715], [-83.0272753400396, 42.3936161343119], [-83.02733225886459, 42.394069282652296], [-83.0273213584935, 42.39405963087471], [-83.02603655625309, 42.392682375136296]]], \"type\": \"Polygon\"}, \"id\": \"59\", \"properties\": {}, \"type\": \"Feature\"}, {\"bbox\": [-82.9528137204677, 42.3700298941395, -82.93795441890191, 42.3769933510916], \"geometry\": {\"coordinates\": [[[-82.94936964601841, 42.3700298941395], [-82.9528137204677, 42.372555557117295], [-82.9408904325111, 42.3769933510916], [-82.9397634710554, 42.3752860321454], [-82.93795441890191, 42.372494853449396], [-82.93865776472659, 42.3721668975658], [-82.94936964601841, 42.3700298941395]]], \"type\": \"Polygon\"}, \"id\": \"60\", \"properties\": {}, \"type\": \"Feature\"}, {\"bbox\": [-83.1109675684946, 42.4448179175071, -83.10723402591229, 42.4468806930981], \"geometry\": {\"coordinates\": [[[-83.11019014077971, 42.4448179175071], [-83.1102010368586, 42.4448288508919], [-83.1109675684946, 42.445773656090005], [-83.11089529587609, 42.4467863100111], [-83.1097082261063, 42.446849950746795], [-83.1085625790112, 42.4468806930981], [-83.10723402591229, 42.4464269590256], [-83.1074979948722, 42.4458332228516], [-83.1096035904931, 42.444871809161], [-83.11019014077971, 42.4448179175071]]], \"type\": \"Polygon\"}, \"id\": \"61\", \"properties\": {}, \"type\": \"Feature\"}, {\"bbox\": [-83.11542146872141, 42.428096303406896, -83.1023442163865, 42.4369557291079], \"geometry\": {\"coordinates\": [[[-83.1122495946999, 42.428096303406896], [-83.1132432751514, 42.4289740598485], [-83.11542146872141, 42.432116388988106], [-83.1154214566104, 42.432116992622795], [-83.1122016420261, 42.4341638935314], [-83.1112012511865, 42.4347202518324], [-83.10636567927321, 42.4369557291079], [-83.1053326981627, 42.4363708812809], [-83.1023442163865, 42.4322801529619], [-83.10513748579851, 42.4306365032638], [-83.1122495946999, 42.428096303406896]]], \"type\": \"Polygon\"}, \"id\": \"62\", \"properties\": {}, \"type\": \"Feature\"}, {\"bbox\": [-83.0269465210257, 42.38579298030871, -83.01231592172441, 42.4009549834123], \"geometry\": {\"coordinates\": [[[-83.01981336742, 42.38579298030871], [-83.0240142655306, 42.388071741562705], [-83.0269465210257, 42.395652917701], [-83.0262363864942, 42.3980303974822], [-83.02600323790159, 42.3987139498844], [-83.0230371842791, 42.4009549834123], [-83.0198946116535, 42.4008989941031], [-83.01231592172441, 42.392826112487995], [-83.0125255739382, 42.3915250783314], [-83.0125604179156, 42.3914549063877], [-83.0190671293486, 42.38606312825421], [-83.01981336742, 42.38579298030871]]], \"type\": \"Polygon\"}, \"id\": \"63\", \"properties\": {}, \"type\": \"Feature\"}, {\"bbox\": [-83.03485678814451, 42.3485687717613, -83.0316935777152, 42.3511734778515], \"geometry\": {\"coordinates\": [[[-83.03485678814451, 42.3485687717613], [-83.034856775271, 42.3485693753884], [-83.03434176731591, 42.349297470126295], [-83.03295495458441, 42.3511734778515], [-83.03170715220121, 42.349312480572706], [-83.0316935777152, 42.3492551814963], [-83.0326158913271, 42.3488596013449], [-83.032999875596, 42.348723708340295], [-83.0333268254527, 42.3486597346362], [-83.03485678814451, 42.3485687717613]]], \"type\": \"Polygon\"}, \"id\": \"64\", \"properties\": {}, \"type\": \"Feature\"}, {\"bbox\": [-83.2474289331996, 42.397732430897705, -83.2458580349082, 42.3983245078405], \"geometry\": {\"coordinates\": [[[-83.247017282101, 42.397732430897705], [-83.2474289331996, 42.3979018346337], [-83.2470770080778, 42.3983245078405], [-83.24700308248299, 42.3983174397116], [-83.2458580349082, 42.3979573680425], [-83.247017282101, 42.397732430897705]]], \"type\": \"Polygon\"}, \"id\": \"65\", \"properties\": {}, \"type\": \"Feature\"}, {\"bbox\": [-83.07600134879509, 42.319097273688705, -83.0744328681952, 42.321936564849295], \"geometry\": {\"coordinates\": [[[-83.0744328681952, 42.319097273688705], [-83.0755997383038, 42.320253695950896], [-83.07600134879509, 42.321936564849295], [-83.07594756275199, 42.32185491000261], [-83.0752126203707, 42.320554277625796], [-83.0752019290473, 42.3205347802606], [-83.0744328681952, 42.319097273688705]]], \"type\": \"Polygon\"}, \"id\": \"66\", \"properties\": {}, \"type\": \"Feature\"}, {\"bbox\": [-83.0275613478027, 42.3603507914918, -83.02406601511359, 42.362959560011504], \"geometry\": {\"coordinates\": [[[-83.0241145243226, 42.3603507914918], [-83.0275613478027, 42.360791591635106], [-83.02754243630909, 42.3625359876832], [-83.0251501224327, 42.362959560011504], [-83.0245590448274, 42.3620509387899], [-83.02406601511359, 42.3603695112418], [-83.0241145243226, 42.3603507914918]]], \"type\": \"Polygon\"}, \"id\": \"67\", \"properties\": {}, \"type\": \"Feature\"}, {\"bbox\": [-83.04292464479241, 42.3716714595512, -83.03121119293729, 42.379279271672395], \"geometry\": {\"coordinates\": [[[-83.0386239503089, 42.3716714595512], [-83.0429029339645, 42.3726984526393], [-83.04292464479241, 42.372721868856296], [-83.04262511544229, 42.3756755938395], [-83.0416764126927, 42.3762525233256], [-83.03387576387709, 42.379279271672395], [-83.03375542961079, 42.3791940712384], [-83.03204560924041, 42.377966842381], [-83.03121119293729, 42.3770020463344], [-83.03212934732059, 42.374569680492705], [-83.0337121583556, 42.3734203474956], [-83.0386239503089, 42.3716714595512]]], \"type\": \"Polygon\"}, \"id\": \"68\", \"properties\": {}, \"type\": \"Feature\"}, {\"bbox\": [-83.0369200516748, 42.358504579458796, -83.0357257714051, 42.3601014037721], \"geometry\": {\"coordinates\": [[[-83.0360251022844, 42.358504579458796], [-83.0361089254032, 42.3585649244132], [-83.036530669889, 42.35926445889729], [-83.0369200516748, 42.3599202229139], [-83.0363315156502, 42.3601014037721], [-83.0357257714051, 42.35952732803], [-83.0360251022844, 42.358504579458796]]], \"type\": \"Polygon\"}, \"id\": \"69\", \"properties\": {}, \"type\": \"Feature\"}, {\"bbox\": [-82.9525040548379, 42.377135613159, -82.94578875912559, 42.3796258362604], \"geometry\": {\"coordinates\": [[[-82.9521547425204, 42.377135613159], [-82.9523279394872, 42.37733323321039], [-82.9525040548379, 42.3777288493027], [-82.947334247979, 42.3796240742059], [-82.9472490685639, 42.3796258362604], [-82.94578875912559, 42.379543844839795], [-82.94579766945009, 42.379477649406], [-82.95015472972341, 42.3778396159209], [-82.9521547425204, 42.377135613159]]], \"type\": \"Polygon\"}, \"id\": \"70\", \"properties\": {}, \"type\": \"Feature\"}, {\"bbox\": [-83.1540279823263, 42.3517599353391, -83.15263177671459, 42.352271370964], \"geometry\": {\"coordinates\": [[[-83.15399020653409, 42.3517599353391], [-83.1540279823263, 42.3521009997664], [-83.1539765745065, 42.352271370964], [-83.1526864808058, 42.3520199430649], [-83.15263177671459, 42.3517887470057], [-83.15375331601979, 42.3517648687787], [-83.15399020653409, 42.3517599353391]]], \"type\": \"Polygon\"}, \"id\": \"71\", \"properties\": {}, \"type\": \"Feature\"}, {\"bbox\": [-83.0048773869285, 42.3527218768722, -82.9962290593656, 42.3620946454905], \"geometry\": {\"coordinates\": [[[-83.00367657169942, 42.3527218768722], [-83.0036801528226, 42.3527273264683], [-83.0047211503448, 42.3543652303768], [-83.0048773869285, 42.354666525778796], [-83.00487737196879, 42.3546672117147], [-83.00285423429409, 42.3608957393321], [-83.0019782227006, 42.3611876234614], [-82.9991052090716, 42.3620946454905], [-82.9989796146687, 42.361915345932395], [-82.9962290593656, 42.3555540375093], [-82.99742671848621, 42.354934767086], [-82.998199686931, 42.3546142318806], [-83.00367657169942, 42.3527218768722]]], \"type\": \"Polygon\"}, \"id\": \"72\", \"properties\": {}, \"type\": \"Feature\"}, {\"bbox\": [-83.1154169663617, 42.3479187569281, -83.1132389754934, 42.3487036696368], \"geometry\": {\"coordinates\": [[[-83.11430039936741, 42.3479187569281], [-83.1154169663617, 42.348509977632], [-83.1132524247692, 42.3487036696368], [-83.11324952106409, 42.34866400833], [-83.1132389754934, 42.348267764144104], [-83.1132638291012, 42.34795114194171], [-83.11430039936741, 42.3479187569281]]], \"type\": \"Polygon\"}, \"id\": \"73\", \"properties\": {}, \"type\": \"Feature\"}, {\"bbox\": [-82.99466891916892, 42.360597734593796, -82.9785578514818, 42.3805888287225], \"geometry\": {\"coordinates\": [[[-82.9897497059538, 42.360597734593796], [-82.9942882372064, 42.3606907073009], [-82.99466891916892, 42.3612175262764], [-82.9946688757575, 42.3612195017678], [-82.99242315723271, 42.3709463397085], [-82.991382063477, 42.3743547124065], [-82.99080164848641, 42.375498463317], [-82.99000094955059, 42.376391523203296], [-82.98602988899471, 42.3783708655429], [-82.9831263657008, 42.379772775987206], [-82.9810093885381, 42.3805888287225], [-82.9785724405277, 42.379144781549705], [-82.9785578514818, 42.3791349975384], [-82.9785578569735, 42.3791347506029], [-82.9809523473263, 42.3721536798322], [-82.987752904449, 42.3632108495335], [-82.9890411188551, 42.3615170424397], [-82.9897497059538, 42.360597734593796]]], \"type\": \"Polygon\"}, \"id\": \"74\", \"properties\": {}, \"type\": \"Feature\"}, {\"bbox\": [-83.1200032085172, 42.290024953260705, -83.1134511226811, 42.2962664617077], \"geometry\": {\"coordinates\": [[[-83.11877221593001, 42.290024953260705], [-83.1200032085172, 42.2948370034189], [-83.1167129162801, 42.2961481210454], [-83.1163371873033, 42.2962664617077], [-83.11511369596559, 42.295892157654], [-83.1134511226811, 42.2923438014019], [-83.1134511452366, 42.2923426764441], [-83.11435488085749, 42.2909609996436], [-83.1150010612109, 42.2906257697596], [-83.11877221593001, 42.290024953260705]]], \"type\": \"Polygon\"}, \"id\": \"75\", \"properties\": {}, \"type\": \"Feature\"}, {\"bbox\": [-82.9754945767369, 42.368263604419205, -82.9715300195822, 42.3696227882152], \"geometry\": {\"coordinates\": [[[-82.9754945767369, 42.368263604419205], [-82.9747863126682, 42.368823029801], [-82.9715300195822, 42.3696227882152], [-82.9723544721528, 42.36833711127721], [-82.9754945767369, 42.368263604419205]]], \"type\": \"Polygon\"}, \"id\": \"76\", \"properties\": {}, \"type\": \"Feature\"}, {\"bbox\": [-83.17021383847741, 42.3914159175404, -83.1688286857452, 42.3950630215913], \"geometry\": {\"coordinates\": [[[-83.16887647613271, 42.3914159175404], [-83.17021383847741, 42.3950407370541], [-83.1688286857452, 42.3950630215913], [-83.16887647613271, 42.3914159175404]]], \"type\": \"Polygon\"}, \"id\": \"77\", \"properties\": {}, \"type\": \"Feature\"}, {\"bbox\": [-83.04428109345821, 42.446919192097, -83.0372968251077, 42.4478943622184], \"geometry\": {\"coordinates\": [[[-83.04195707754609, 42.446919192097], [-83.0442701700198, 42.447756227076], [-83.04428109345821, 42.4477653558951], [-83.04194160102558, 42.447822013225796], [-83.03941692455349, 42.447873688512004], [-83.0372968251077, 42.4478943622184], [-83.04195707754609, 42.446919192097]]], \"type\": \"Polygon\"}, \"id\": \"78\", \"properties\": {}, \"type\": \"Feature\"}, {\"bbox\": [-83.27625651602808, 42.3833905333636, -83.27102444872492, 42.3890682163674], \"geometry\": {\"coordinates\": [[[-83.27468214941959, 42.3833905333636], [-83.2747191517449, 42.383391383154795], [-83.276248950725, 42.3852417113604], [-83.27625651602808, 42.385444343092296], [-83.27613766858241, 42.3890682163674], [-83.2734088669812, 42.388878939783396], [-83.27329862520679, 42.3888321579175], [-83.2711276435043, 42.3859699181646], [-83.27102444872492, 42.3840459955631], [-83.2710419283906, 42.3834719947399], [-83.27468214941959, 42.3833905333636]]], \"type\": \"Polygon\"}, \"id\": \"79\", \"properties\": {}, \"type\": \"Feature\"}, {\"bbox\": [-83.03682176957709, 42.3318725615405, -83.02411979201179, 42.3379487013216], \"geometry\": {\"coordinates\": [[[-83.0352719517864, 42.3318725615405], [-83.036292230322, 42.3324215075713], [-83.036313950386, 42.3324437178108], [-83.03682176957709, 42.333261834718], [-83.0255504526515, 42.3379487013216], [-83.02421656855809, 42.337533692985204], [-83.02411979201179, 42.336701061313796], [-83.02686831440609, 42.3330757986021], [-83.027557157246, 42.332863688348496], [-83.02802233886949, 42.3327320373646], [-83.0352719517864, 42.3318725615405]]], \"type\": \"Polygon\"}, \"id\": \"80\", \"properties\": {}, \"type\": \"Feature\"}, {\"bbox\": [-83.08732349253759, 42.3432129228116, -83.0843743434095, 42.3455577932413], \"geometry\": {\"coordinates\": [[[-83.087174247688, 42.3432129228116], [-83.08729852464829, 42.34328636496421], [-83.08732349253759, 42.3433316823731], [-83.08463637942342, 42.3455577932413], [-83.0843743434095, 42.3451664971653], [-83.08590712340309, 42.343306100694605], [-83.087174247688, 42.3432129228116]]], \"type\": \"Polygon\"}, \"id\": \"81\", \"properties\": {}, \"type\": \"Feature\"}, {\"bbox\": [-83.074839326035, 42.364490816170296, -83.07411132040392, 42.365614025712205], \"geometry\": {\"coordinates\": [[[-83.07411132040392, 42.364490816170296], [-83.0746929083238, 42.365357210244206], [-83.074839326035, 42.365614025712205], [-83.07461861782309, 42.365370498529394], [-83.07411132040392, 42.364490816170296]]], \"type\": \"Polygon\"}, \"id\": \"82\", \"properties\": {}, \"type\": \"Feature\"}, {\"bbox\": [-83.0325146245778, 42.3431193463194, -83.021545426256, 42.3482417048933], \"geometry\": {\"coordinates\": [[[-83.0260535334555, 42.3431193463194], [-83.030415202553, 42.3446768052281], [-83.0325146245778, 42.3454602634055], [-83.0290826993831, 42.34781653819479], [-83.0290454025117, 42.3478305069706], [-83.02839359742799, 42.3480332946238], [-83.0239715774925, 42.3482417048933], [-83.02166011815349, 42.347683969213904], [-83.021545426256, 42.347340404027], [-83.0218561471247, 42.346484057120705], [-83.0259377403368, 42.3431710011358], [-83.0260535334555, 42.3431193463194]]], \"type\": \"Polygon\"}, \"id\": \"83\", \"properties\": {}, \"type\": \"Feature\"}, {\"bbox\": [-83.09684079743201, 42.3294435406593, -83.08203240565071, 42.3348927824705], \"geometry\": {\"coordinates\": [[[-83.0917873854184, 42.3294435406593], [-83.0967951628532, 42.331271467811604], [-83.09684079743201, 42.333939221147], [-83.0965698828994, 42.3348927824705], [-83.08406174128041, 42.334627980517], [-83.0836451486541, 42.334380307001204], [-83.08203240565071, 42.3313232148974], [-83.08305747086351, 42.3303983919459], [-83.0836360215728, 42.3303227403967], [-83.0917873854184, 42.3294435406593]]], \"type\": \"Polygon\"}, \"id\": \"84\", \"properties\": {}, \"type\": \"Feature\"}, {\"bbox\": [-82.97603972840571, 42.3892873509796, -82.97467756614459, 42.390464144458605], \"geometry\": {\"coordinates\": [[[-82.97602922503908, 42.3892873509796], [-82.97603972840571, 42.389314430342395], [-82.9757740097371, 42.389774882800296], [-82.97467756614459, 42.390464144458605], [-82.976006629277, 42.3893045017029], [-82.97602922503908, 42.3892873509796]]], \"type\": \"Polygon\"}, \"id\": \"85\", \"properties\": {}, \"type\": \"Feature\"}, {\"bbox\": [-83.027258659313, 42.404402150533706, -83.0197076322254, 42.4083129755057], \"geometry\": {\"coordinates\": [[[-83.0230999636622, 42.404402150533706], [-83.0260834562827, 42.404976244570705], [-83.027258659313, 42.405605577315704], [-83.02633002611871, 42.408150802144704], [-83.02164920167259, 42.4083129755057], [-83.0197076322254, 42.4081881792224], [-83.0204201160131, 42.406920098773206], [-83.0230999636622, 42.404402150533706]]], \"type\": \"Polygon\"}, \"id\": \"86\", \"properties\": {}, \"type\": \"Feature\"}, {\"bbox\": [-82.9589044335081, 42.3689082785875, -82.95582557479341, 42.3703067838889], \"geometry\": {\"coordinates\": [[[-82.95873291076241, 42.3689082785875], [-82.9589044335081, 42.3700006525682], [-82.9589044217521, 42.370001173874705], [-82.9579844241238, 42.37009498580729], [-82.9569235191745, 42.370200351468], [-82.95582557479341, 42.3703067838889], [-82.95582559401629, 42.370305933336795], [-82.95873291076241, 42.3689082785875]]], \"type\": \"Polygon\"}, \"id\": \"87\", \"properties\": {}, \"type\": \"Feature\"}, {\"bbox\": [-82.9832158615105, 42.39271725726471, -82.9828393725755, 42.3929383274642], \"geometry\": {\"coordinates\": [[[-82.9828393725755, 42.39271725726471], [-82.9832158615105, 42.392936681226104], [-82.9832158250139, 42.3929383274642], [-82.982853957558, 42.392727397407604], [-82.9828393725755, 42.39271725726471]]], \"type\": \"Polygon\"}, \"id\": \"88\", \"properties\": {}, \"type\": \"Feature\"}, {\"bbox\": [-83.0441039950405, 42.358260536691105, -83.0434384596701, 42.359359508205706], \"geometry\": {\"coordinates\": [[[-83.0434384596701, 42.358260536691105], [-83.0440897362942, 42.3593081879053], [-83.0441039950405, 42.3593338224539], [-83.0441002571562, 42.3593355902335], [-83.0440331425943, 42.359359508205706], [-83.0434384596701, 42.358260536691105]]], \"type\": \"Polygon\"}, \"id\": \"89\", \"properties\": {}, \"type\": \"Feature\"}, {\"bbox\": [-83.0369345951448, 42.3592458746071, -83.0280926703125, 42.371175701026004], \"geometry\": {\"coordinates\": [[[-83.0339962648453, 42.3592458746071], [-83.03507998839271, 42.3608311602396], [-83.0369345951448, 42.3637549039827], [-83.0346877216069, 42.36881075441671], [-83.0332641343484, 42.371175701026004], [-83.0310212057598, 42.3710042375244], [-83.0304399236893, 42.3703220987969], [-83.0290920795565, 42.368624813341896], [-83.0280926703125, 42.366387450546206], [-83.03217685935691, 42.3600548593539], [-83.0339962648453, 42.3592458746071]]], \"type\": \"Polygon\"}, \"id\": \"90\", \"properties\": {}, \"type\": \"Feature\"}, {\"bbox\": [-82.97369147666441, 42.365475500133, -82.9705738261472, 42.3670334460932], \"geometry\": {\"coordinates\": [[[-82.97369147666441, 42.365475500133], [-82.9728292558579, 42.365969297132295], [-82.9705738261472, 42.3670334460932], [-82.9706119758744, 42.3669824562525], [-82.9710767010473, 42.36672264185621], [-82.97369147666441, 42.365475500133]]], \"type\": \"Polygon\"}, \"id\": \"91\", \"properties\": {}, \"type\": \"Feature\"}, {\"bbox\": [-83.05517493774, 42.3509894922645, -83.04478057899291, 42.363290479571496], \"geometry\": {\"coordinates\": [[[-83.04854675805491, 42.3509894922645], [-83.0509634757704, 42.35271436483121], [-83.05517493774, 42.3609554115233], [-83.0545781878626, 42.363290479571496], [-83.050578855188, 42.3623610782736], [-83.04899182699721, 42.3600562757998], [-83.04478057899291, 42.352720218369], [-83.0455190094646, 42.3513957864555], [-83.04854675805491, 42.3509894922645]]], \"type\": \"Polygon\"}, \"id\": \"92\", \"properties\": {}, \"type\": \"Feature\"}, {\"bbox\": [-82.9758411123066, 42.401358128994104, -82.9749925554808, 42.402204262913706], \"geometry\": {\"coordinates\": [[[-82.9758231431203, 42.401358128994104], [-82.9758411123066, 42.4013826101746], [-82.9757524390905, 42.402204262913706], [-82.9749925554808, 42.401574374794], [-82.9758231431203, 42.401358128994104]]], \"type\": \"Polygon\"}, \"id\": \"93\", \"properties\": {}, \"type\": \"Feature\"}, {\"bbox\": [-83.100863156061, 42.29813919789979, -83.09884144707, 42.3002479945073], \"geometry\": {\"coordinates\": [[[-83.1008250338506, 42.29813919789979], [-83.100863156061, 42.2999074650714], [-83.09884144707, 42.3002479945073], [-83.1008250338506, 42.29813919789979]]], \"type\": \"Polygon\"}, \"id\": \"94\", \"properties\": {}, \"type\": \"Feature\"}, {\"bbox\": [-83.01303689130451, 42.3468462151031, -83.00709697826899, 42.350190248771604], \"geometry\": {\"coordinates\": [[[-83.0122993776245, 42.3468462151031], [-83.01303689130451, 42.3483238205045], [-83.0091496905595, 42.349795845102], [-83.0078720434609, 42.350190248771604], [-83.0074323734013, 42.3496517902298], [-83.00733561770001, 42.3495074803426], [-83.0072532411716, 42.3493824989371], [-83.00709697826899, 42.3490824963435], [-83.00709698006109, 42.3490824140311], [-83.0083447977514, 42.3485277151477], [-83.010619667495, 42.3475294246338], [-83.0118445421317, 42.3470061398035], [-83.0122993776245, 42.3468462151031]]], \"type\": \"Polygon\"}, \"id\": \"95\", \"properties\": {}, \"type\": \"Feature\"}, {\"bbox\": [-83.1208638756882, 42.4465449740566, -83.1179246085943, 42.4466100008504], \"geometry\": {\"coordinates\": [[[-83.11939331424671, 42.4465449740566], [-83.1208638756882, 42.446572352471705], [-83.1179246085943, 42.4466100008504], [-83.11828072693571, 42.44659083206], [-83.11939331424671, 42.4465449740566]]], \"type\": \"Polygon\"}, \"id\": \"96\", \"properties\": {}, \"type\": \"Feature\"}, {\"bbox\": [-82.9687398151987, 42.383696398255, -82.9678429550608, 42.3839828511639], \"geometry\": {\"coordinates\": [[[-82.96784295875041, 42.383696398255], [-82.9687398151987, 42.3839828511639], [-82.9680339670246, 42.3839281895496], [-82.9678429550608, 42.3836965628783], [-82.96784295875041, 42.383696398255]]], \"type\": \"Polygon\"}, \"id\": \"97\", \"properties\": {}, \"type\": \"Feature\"}, {\"bbox\": [-83.0422686322205, 42.3874479567753, -83.0352130557111, 42.3920991311275], \"geometry\": {\"coordinates\": [[[-83.036092878538, 42.3874479567753], [-83.04155855887409, 42.3891271328469], [-83.04208626305291, 42.390603183839104], [-83.0422686322205, 42.391255907727], [-83.04197043759629, 42.3920481529588], [-83.039547996626, 42.3920991311275], [-83.0373066323999, 42.391296844312], [-83.0353720846436, 42.390345875327796], [-83.0352130557111, 42.3889497236834], [-83.0355483291692, 42.388331708108296], [-83.036092878538, 42.3874479567753]]], \"type\": \"Polygon\"}, \"id\": \"98\", \"properties\": {}, \"type\": \"Feature\"}, {\"bbox\": [-82.9799002930391, 42.3890224296743, -82.97782527627959, 42.3908353315416], \"geometry\": {\"coordinates\": [[[-82.9780121278885, 42.3890224296743], [-82.9792710746557, 42.389846832843496], [-82.9799002930391, 42.390354368915894], [-82.9798525815141, 42.3908353315416], [-82.9787778938248, 42.3902146589596], [-82.97782527627959, 42.389100585258795], [-82.9780121278885, 42.3890224296743]]], \"type\": \"Polygon\"}, \"id\": \"99\", \"properties\": {}, \"type\": \"Feature\"}, {\"bbox\": [-83.2491544997356, 42.4429635700958, -83.24753197405029, 42.4435615700315], \"geometry\": {\"coordinates\": [[[-83.2491544997356, 42.4429635700958], [-83.24913394851409, 42.443490033882796], [-83.24753197405029, 42.4435615700315], [-83.2491544997356, 42.4429635700958]]], \"type\": \"Polygon\"}, \"id\": \"100\", \"properties\": {}, \"type\": \"Feature\"}, {\"bbox\": [-83.2645500726947, 42.3416946750394, -83.25362271297679, 42.352810254096205], \"geometry\": {\"coordinates\": [[[-83.25897538272329, 42.3416946750394], [-83.2600179309716, 42.3417309177284], [-83.26368894603509, 42.3450059097878], [-83.26432817008859, 42.3507091196602], [-83.2645500726947, 42.352810254096205], [-83.26208051950829, 42.352697825069], [-83.25712462307649, 42.35008756196871], [-83.2562449974754, 42.349411837398], [-83.25515619523841, 42.3484335245367], [-83.25425767842042, 42.347366969381106], [-83.25414535823279, 42.3466110644151], [-83.25362271297679, 42.3418934090831], [-83.2548598570035, 42.3418042426625], [-83.2551818553157, 42.341795129673706], [-83.25897538272329, 42.3416946750394]]], \"type\": \"Polygon\"}, \"id\": \"101\", \"properties\": {}, \"type\": \"Feature\"}, {\"bbox\": [-83.0270822879792, 42.3777236859923, -83.0190176807465, 42.381618331259205], \"geometry\": {\"coordinates\": [[[-83.0190176807465, 42.3777236859923], [-83.0216660537218, 42.377813407984796], [-83.0249281739152, 42.377936476921896], [-83.0266525771152, 42.378650417942794], [-83.0270822879792, 42.3796700836554], [-83.0270748241213, 42.3796729047161], [-83.02169521610429, 42.3816135290484], [-83.0216580948695, 42.381618331259205], [-83.01967744919091, 42.3787114491136], [-83.0190176807465, 42.3777236859923]]], \"type\": \"Polygon\"}, \"id\": \"102\", \"properties\": {}, \"type\": \"Feature\"}, {\"bbox\": [-83.0137181914809, 42.419428878353706, -83.0135458723032, 42.419681937861704], \"geometry\": {\"coordinates\": [[[-83.0135458723032, 42.419428878353706], [-83.0137181914809, 42.4196812519257], [-83.0137181766028, 42.419681937861704], [-83.0135458723032, 42.419428878353706]]], \"type\": \"Polygon\"}, \"id\": \"103\", \"properties\": {}, \"type\": \"Feature\"}, {\"bbox\": [-82.9857931620327, 42.3886142275014, -82.98468150275109, 42.390952864063294], \"geometry\": {\"coordinates\": [[[-82.98468150275109, 42.3886142275014], [-82.9851784757736, 42.3892436257376], [-82.9857931620327, 42.3902424589966], [-82.98524736334709, 42.3908146300058], [-82.98502957729809, 42.3909523877841], [-82.98502586439841, 42.390952864063294], [-82.98468150275109, 42.3886142275014]]], \"type\": \"Polygon\"}, \"id\": \"104\", \"properties\": {}, \"type\": \"Feature\"}, {\"bbox\": [-83.0674494863212, 42.3707270305565, -83.0589363763825, 42.3788490335992], \"geometry\": {\"coordinates\": [[[-83.05895573671191, 42.3707270305565], [-83.063982286642, 42.3723015265425], [-83.0658676033842, 42.3731219637601], [-83.066949163958, 42.3746834978529], [-83.06734398637042, 42.3752755715079], [-83.0674494863212, 42.3782092828347], [-83.06685377599871, 42.378375611032794], [-83.06299797449691, 42.3788490335992], [-83.06220891665609, 42.378524499115294], [-83.05952737340169, 42.3750663041056], [-83.0589363763825, 42.374124662526], [-83.05895573671191, 42.3707270305565]]], \"type\": \"Polygon\"}, \"id\": \"105\", \"properties\": {}, \"type\": \"Feature\"}, {\"bbox\": [-83.0217660321145, 42.335115510022995, -83.02064825504459, 42.3371666106624], \"geometry\": {\"coordinates\": [[[-83.0209320268056, 42.335115510022995], [-83.0217660321145, 42.33692507375021], [-83.0217660208893, 42.33692559506329], [-83.0211282972384, 42.33716572163971], [-83.0211245789452, 42.3371666106624], [-83.0211099983603, 42.3371565851749], [-83.02064825504459, 42.3352383066492], [-83.0209320268056, 42.335115510022995]]], \"type\": \"Polygon\"}, \"id\": \"106\", \"properties\": {}, \"type\": \"Feature\"}, {\"bbox\": [-82.9539506424979, 42.368557050893, -82.9530275816442, 42.370508166648996], \"geometry\": {\"coordinates\": [[[-82.95351865354391, 42.368557050893], [-82.9539506424979, 42.3690933760699], [-82.95373726778159, 42.370508166648996], [-82.9530275816442, 42.3694861217132], [-82.9530275996624, 42.36948532603579], [-82.95351865354391, 42.368557050893]]], \"type\": \"Polygon\"}, \"id\": \"107\", \"properties\": {}, \"type\": \"Feature\"}, {\"bbox\": [-83.19823804666109, 42.378883286887, -83.19802203565341, 42.37959411272929], \"geometry\": {\"coordinates\": [[[-83.19802203565341, 42.378883286887], [-83.1982254745185, 42.3788909515568], [-83.19823804666109, 42.3794057592817], [-83.1980494438108, 42.37959411272929], [-83.19802203565341, 42.378883286887]]], \"type\": \"Polygon\"}, \"id\": \"108\", \"properties\": {}, \"type\": \"Feature\"}, {\"bbox\": [-83.0718541088795, 42.3823172738083, -83.0674836189196, 42.3883115157065], \"geometry\": {\"coordinates\": [[[-83.0696479748065, 42.3823172738083], [-83.0706455991556, 42.3829415222402], [-83.0711591362735, 42.3837038283449], [-83.0718541088795, 42.3864275286849], [-83.0713302551274, 42.3872309954943], [-83.0697899511726, 42.3883115157065], [-83.0677221865015, 42.3868053712161], [-83.0674836189196, 42.385639114574296], [-83.0696479748065, 42.3823172738083]]], \"type\": \"Polygon\"}, \"id\": \"109\", \"properties\": {}, \"type\": \"Feature\"}, {\"bbox\": [-83.0730509201792, 42.36583722844011, -83.0724132623987, 42.366389220244706], \"geometry\": {\"coordinates\": [[[-83.0730509201792, 42.36583722844011], [-83.0726323902543, 42.366389220244706], [-83.0724132623987, 42.3660697410004], [-83.0729615072198, 42.3658658767804], [-83.0730509201792, 42.36583722844011]]], \"type\": \"Polygon\"}, \"id\": \"110\", \"properties\": {}, \"type\": \"Feature\"}, {\"bbox\": [-83.07341771639629, 42.3624196127781, -83.0728260497314, 42.363000236223], \"geometry\": {\"coordinates\": [[[-83.0731994449342, 42.3624196127781], [-83.07341771639629, 42.362422703423206], [-83.0733354412673, 42.363000236223], [-83.0728260497314, 42.362580544562], [-83.073009186276, 42.3624933555606], [-83.0731994449342, 42.3624196127781]]], \"type\": \"Polygon\"}, \"id\": \"111\", \"properties\": {}, \"type\": \"Feature\"}, {\"bbox\": [-83.0706792582147, 42.3589218053586, -83.06833557825979, 42.3599321790046], \"geometry\": {\"coordinates\": [[[-83.06833557825979, 42.3589218053586], [-83.0706792582147, 42.359570886989204], [-83.0689510467185, 42.3599321790046], [-83.06881967617309, 42.3598433767844], [-83.06833557825979, 42.3589218053586]]], \"type\": \"Polygon\"}, \"id\": \"112\", \"properties\": {}, \"type\": \"Feature\"}, {\"bbox\": [-83.0505159238295, 42.36961279427629, -83.0477982318942, 42.373772487964004], \"geometry\": {\"coordinates\": [[[-83.0477982318942, 42.36961279427629], [-83.04933631181999, 42.371615730962795], [-83.0505159238295, 42.373772487964004], [-83.0494227740932, 42.3731310325792], [-83.0477982318942, 42.36961279427629]]], \"type\": \"Polygon\"}, \"id\": \"113\", \"properties\": {}, \"type\": \"Feature\"}, {\"bbox\": [-83.0747344419016, 42.3266966554513, -83.07255519972921, 42.328298407705795], \"geometry\": {\"coordinates\": [[[-83.0738651373693, 42.3266966554513], [-83.0747344419016, 42.328298407705795], [-83.07255519972921, 42.327086249668], [-83.0738651373693, 42.3266966554513]]], \"type\": \"Polygon\"}, \"id\": \"114\", \"properties\": {}, \"type\": \"Feature\"}, {\"bbox\": [-82.9963341108813, 42.3626949505343, -82.9949114507729, 42.3636532349755], \"geometry\": {\"coordinates\": [[[-82.9957725583522, 42.3626949505343], [-82.9958564072222, 42.362752636336396], [-82.9963341108813, 42.363412629771396], [-82.9949114507729, 42.3636532349755], [-82.9957725583522, 42.3626949505343]]], \"type\": \"Polygon\"}, \"id\": \"115\", \"properties\": {}, \"type\": \"Feature\"}, {\"bbox\": [-83.15533601273971, 42.3794375217761, -83.1547850343667, 42.380801271258605], \"geometry\": {\"coordinates\": [[[-83.1547850343667, 42.3794375217761], [-83.15533601273971, 42.3808011855889], [-83.155328607802, 42.380801271258605], [-83.1547850343667, 42.3794375217761]]], \"type\": \"Polygon\"}, \"id\": \"116\", \"properties\": {}, \"type\": \"Feature\"}, {\"bbox\": [-82.95786787330991, 42.3601962494247, -82.9497208020923, 42.3687918244625], \"geometry\": {\"coordinates\": [[[-82.9541963635556, 42.3601962494247], [-82.956311829674, 42.362217438921704], [-82.95786787330991, 42.3642713862019], [-82.9566370527463, 42.367971783492706], [-82.95165540465091, 42.3687918244625], [-82.950291815613, 42.368372834887204], [-82.94984526542301, 42.3671751108927], [-82.9497208020923, 42.3645058299982], [-82.9501442284679, 42.361502301697996], [-82.9527571698777, 42.3605088507069], [-82.9541963635556, 42.3601962494247]]], \"type\": \"Polygon\"}, \"id\": \"117\", \"properties\": {}, \"type\": \"Feature\"}, {\"bbox\": [-83.04005992340291, 42.3503524179905, -83.0370830935685, 42.3514725973396], \"geometry\": {\"coordinates\": [[[-83.0370830935685, 42.3503524179905], [-83.0393024671652, 42.350379356612], [-83.04005992340291, 42.3514725973396], [-83.03821296426091, 42.3508084648273], [-83.0370830935685, 42.3503524179905]]], \"type\": \"Polygon\"}, \"id\": \"118\", \"properties\": {}, \"type\": \"Feature\"}, {\"bbox\": [-83.2655501722181, 42.364264741632105, -83.2607451207359, 42.3652338882416], \"geometry\": {\"coordinates\": [[[-83.265483951973, 42.364264741632105], [-83.2655236836315, 42.3643200137652], [-83.26552867887591, 42.3644564283234], [-83.2655501722181, 42.365126172692], [-83.2631133044016, 42.3652305613088], [-83.26194013962329, 42.3652338882416], [-83.2607451207359, 42.3643817992305], [-83.2607493081925, 42.3643543143031], [-83.2643662103588, 42.3642739825101], [-83.265483951973, 42.364264741632105]]], \"type\": \"Polygon\"}, \"id\": \"119\", \"properties\": {}, \"type\": \"Feature\"}, {\"bbox\": [-83.0337141480188, 42.423370416889796, -83.0312801361243, 42.427229700205004], \"geometry\": {\"coordinates\": [[[-83.0334040548558, 42.423370416889796], [-83.0336147058231, 42.423393389366296], [-83.0337141480188, 42.42515349617911], [-83.03352921208808, 42.426526785973], [-83.0331696711576, 42.427229700205004], [-83.0312801361243, 42.4265494484459], [-83.0321292098469, 42.42339774310079], [-83.0334040548558, 42.423370416889796]]], \"type\": \"Polygon\"}, \"id\": \"120\", \"properties\": {}, \"type\": \"Feature\"}, {\"bbox\": [-83.08242534399551, 42.3895844842821, -83.0750946838117, 42.3951128499318], \"geometry\": {\"coordinates\": [[[-83.0750946838117, 42.3895844842821], [-83.0788906858235, 42.3897039417504], [-83.08080165522159, 42.392548396220896], [-83.08132971285158, 42.3933345574819], [-83.08242534399551, 42.3949676961946], [-83.0819595399212, 42.3951128499318], [-83.0786168623946, 42.3943608646642], [-83.07544466522329, 42.391815234330004], [-83.0750946838117, 42.3895844842821]]], \"type\": \"Polygon\"}, \"id\": \"121\", \"properties\": {}, \"type\": \"Feature\"}, {\"bbox\": [-83.08940022245959, 42.3146861030617, -83.08940022245959, 42.3146861030617], \"geometry\": {\"coordinates\": [-83.08940022245959, 42.3146861030617], \"type\": \"Point\"}, \"id\": \"122\", \"properties\": {}, \"type\": \"Feature\"}, {\"bbox\": [-83.0952946172995, 42.385840827588396, -83.0920248274221, 42.3913990863744], \"geometry\": {\"coordinates\": [[[-83.0930453307173, 42.385840827588396], [-83.0952946172995, 42.3891862786586], [-83.0949980334739, 42.390296503944505], [-83.0920248274221, 42.3913990863744], [-83.092081463745, 42.386994688422796], [-83.0930453307173, 42.385840827588396]]], \"type\": \"Polygon\"}, \"id\": \"123\", \"properties\": {}, \"type\": \"Feature\"}, {\"bbox\": [-82.9558067180313, 42.386036940158796, -82.9466449165773, 42.391489950494396], \"geometry\": {\"coordinates\": [[[-82.9556217607553, 42.386036940158796], [-82.9558067180313, 42.3863709642974], [-82.9556525183763, 42.3881151455483], [-82.9539101267202, 42.391489950494396], [-82.9470985123375, 42.3881985956978], [-82.9467259634663, 42.387650007387], [-82.9466449165773, 42.387469668909], [-82.9466449396764, 42.3874686537361], [-82.9483462012515, 42.3864048800677], [-82.9556217607553, 42.386036940158796]]], \"type\": \"Polygon\"}, \"id\": \"124\", \"properties\": {}, \"type\": \"Feature\"}, {\"bbox\": [-82.98624527937571, 42.3669216939216, -82.9789729386643, 42.3705145108687], \"geometry\": {\"coordinates\": [[[-82.9860721389774, 42.3669216939216], [-82.98624527937571, 42.3672927660756], [-82.981233282713, 42.370168654988], [-82.9798191714301, 42.3705145108687], [-82.97936111673509, 42.3699749495554], [-82.97911366714851, 42.369618299945294], [-82.9789729386643, 42.3692892189179], [-82.98603495760159, 42.3669294751581], [-82.9860721389774, 42.3669216939216]]], \"type\": \"Polygon\"}, \"id\": \"125\", \"properties\": {}, \"type\": \"Feature\"}, {\"bbox\": [-82.99895428355259, 42.364473311012, -82.9965001211212, 42.366168937336504], \"geometry\": {\"coordinates\": [[[-82.998912474843, 42.364473311012], [-82.99895428355259, 42.3645920188217], [-82.99775379446609, 42.3655013905848], [-82.99676952733371, 42.366168937336504], [-82.9965001211212, 42.365797159213294], [-82.9974677009518, 42.3650466404919], [-82.998912474843, 42.364473311012]]], \"type\": \"Polygon\"}, \"id\": \"126\", \"properties\": {}, \"type\": \"Feature\"}, {\"bbox\": [-83.0308831995919, 42.3935297113451, -83.03006846160629, 42.3935484282789], \"geometry\": {\"coordinates\": [[[-83.03086859722079, 42.3935297113451], [-83.0308831995919, 42.3935394063178], [-83.03006846160629, 42.3935484282789], [-83.03086859722079, 42.3935297113451]]], \"type\": \"Polygon\"}, \"id\": \"127\", \"properties\": {}, \"type\": \"Feature\"}, {\"bbox\": [-83.07020130260209, 42.3246108704431, -83.0681129654073, 42.3278965522901], \"geometry\": {\"coordinates\": [[[-83.0681129654073, 42.3246108704431], [-83.07020130260209, 42.3253834074854], [-83.06999380556009, 42.3278965522901], [-83.0681725581166, 42.3251245139414], [-83.0681129654073, 42.3246108704431]]], \"type\": \"Polygon\"}, \"id\": \"128\", \"properties\": {}, \"type\": \"Feature\"}, {\"bbox\": [-83.05380170426601, 42.3518202970988, -83.0529557312625, 42.3533402025513], \"geometry\": {\"coordinates\": [[[-83.05380170426601, 42.3518202970988], [-83.0538015940849, 42.351825537698005], [-83.0536052366137, 42.352189730818296], [-83.0529557312625, 42.3533402025513], [-83.05380170426601, 42.3518202970988]]], \"type\": \"Polygon\"}, \"id\": \"129\", \"properties\": {}, \"type\": \"Feature\"}, {\"bbox\": [-83.07076593191009, 42.3289741321258, -83.07044116263191, 42.329543194394], \"geometry\": {\"coordinates\": [[[-83.07044116263191, 42.3289741321258], [-83.07076593191009, 42.329543194394], [-83.0707513576633, 42.3295325716546], [-83.07044116263191, 42.3289741321258]]], \"type\": \"Polygon\"}, \"id\": \"130\", \"properties\": {}, \"type\": \"Feature\"}, {\"bbox\": [-83.0879648912239, 42.3133586117726, -83.0815625728634, 42.322518148267996], \"geometry\": {\"coordinates\": [[[-83.0876598649546, 42.3133586117726], [-83.08785193583259, 42.314633502280394], [-83.0879648912239, 42.316341530603104], [-83.0815625728634, 42.322518148267996], [-83.08210294388259, 42.3192597770785], [-83.08346962404691, 42.315196182407206], [-83.0876598649546, 42.3133586117726]]], \"type\": \"Polygon\"}, \"id\": \"131\", \"properties\": {}, \"type\": \"Feature\"}, {\"bbox\": [-83.2628493183204, 42.4431615887395, -83.2609222261939, 42.443183872830296], \"geometry\": {\"coordinates\": [[[-83.2625455317436, 42.4431615887395], [-83.2628493183204, 42.4431641824441], [-83.2625564741481, 42.4431713825211], [-83.2623488900378, 42.4431763914441], [-83.2609222261939, 42.443183872830296], [-83.2625455317436, 42.4431615887395]]], \"type\": \"Polygon\"}, \"id\": \"132\", \"properties\": {}, \"type\": \"Feature\"}, {\"bbox\": [-83.0093439016888, 42.3498786097583, -83.00382444708191, 42.35696668956071], \"geometry\": {\"coordinates\": [[[-83.005233392869, 42.3498786097583], [-83.0086895451254, 42.3532610665302], [-83.0093439016888, 42.356180655354294], [-83.0064775654591, 42.35696668956071], [-83.00591035132959, 42.356166577088295], [-83.00382444708191, 42.350015224973504], [-83.005233392869, 42.3498786097583]]], \"type\": \"Polygon\"}, \"id\": \"133\", \"properties\": {}, \"type\": \"Feature\"}, {\"bbox\": [-83.0680363680506, 42.3832707935359, -83.0680363680506, 42.3832707935359], \"geometry\": {\"coordinates\": [-83.0680363680506, 42.3832707935359], \"type\": \"Point\"}, \"id\": \"134\", \"properties\": {}, \"type\": \"Feature\"}, {\"bbox\": [-83.1077882833868, 42.3577367268769, -83.105384142794, 42.359773444514396], \"geometry\": {\"coordinates\": [[[-83.1073023264305, 42.3577367268769], [-83.1077882833868, 42.359695176341795], [-83.10774600067359, 42.359773444514396], [-83.10624935001721, 42.359306752735705], [-83.105384142794, 42.358173745344295], [-83.1073023264305, 42.3577367268769]]], \"type\": \"Polygon\"}, \"id\": \"135\", \"properties\": {}, \"type\": \"Feature\"}, {\"bbox\": [-83.26910554812659, 42.4291701569441, -83.2653864401925, 42.4338300022015], \"geometry\": {\"coordinates\": [[[-83.2678571966318, 42.4291701569441], [-83.26910554812659, 42.4291726976689], [-83.268011101926, 42.4336817605861], [-83.26552632961429, 42.4338300022015], [-83.26541993124721, 42.43125360796021], [-83.2653864401925, 42.4304229308825], [-83.2658706352192, 42.4300652878684], [-83.2678571966318, 42.4291701569441]]], \"type\": \"Polygon\"}, \"id\": \"136\", \"properties\": {}, \"type\": \"Feature\"}, {\"bbox\": [-82.96503443575679, 42.3777065981745, -82.96213114564979, 42.379088859513104], \"geometry\": {\"coordinates\": [[[-82.96503443575679, 42.3777065981745], [-82.96444530775891, 42.3785560966416], [-82.963527851566, 42.379025651098104], [-82.9623270904087, 42.379088859513104], [-82.96213114564979, 42.3789135334443], [-82.964094524036, 42.3780231219193], [-82.96503443575679, 42.3777065981745]]], \"type\": \"Polygon\"}, \"id\": \"137\", \"properties\": {}, \"type\": \"Feature\"}, {\"bbox\": [-83.2664240852997, 42.418325784162896, -83.26131996023591, 42.4218316455714], \"geometry\": {\"coordinates\": [[[-83.26614076458421, 42.418325784162896], [-83.2664240852997, 42.420111822862395], [-83.2664240838478, 42.4201119051784], [-83.26640654335999, 42.4204763748066], [-83.2640972658502, 42.4218316455714], [-83.261338385995, 42.4205433260147], [-83.26131996023591, 42.4203290063279], [-83.26133794006779, 42.420150442708994], [-83.262531681027, 42.418415280156005], [-83.26614076458421, 42.418325784162896]]], \"type\": \"Polygon\"}, \"id\": \"138\", \"properties\": {}, \"type\": \"Feature\"}, {\"bbox\": [-83.11878107823459, 42.4319592451388, -83.1176100480251, 42.433086349003794], \"geometry\": {\"coordinates\": [[[-83.11878107823459, 42.4319592451388], [-83.1184845679637, 42.4323361704488], [-83.1176100480251, 42.433086349003794], [-83.1187773727041, 42.4319592867818], [-83.11878107823459, 42.4319592451388]]], \"type\": \"Polygon\"}, \"id\": \"139\", \"properties\": {}, \"type\": \"Feature\"}, {\"bbox\": [-83.0925916208775, 42.3112293656906, -83.09012516299592, 42.315136235828206], \"geometry\": {\"coordinates\": [[[-83.0925916208775, 42.3112293656906], [-83.09212738486879, 42.315136235828206], [-83.09212375788991, 42.315132764552104], [-83.09012516299592, 42.31232445786571], [-83.0915955744331, 42.3116605457405], [-83.09234168903379, 42.3113370208099], [-83.0925916208775, 42.3112293656906]]], \"type\": \"Polygon\"}, \"id\": \"140\", \"properties\": {}, \"type\": \"Feature\"}, {\"bbox\": [-83.2277186082346, 42.3696615171659, -83.2263361996142, 42.3720293522271], \"geometry\": {\"coordinates\": [[[-83.22645135793721, 42.3696615171659], [-83.2277186082346, 42.3712004268161], [-83.2276960824008, 42.3720293522271], [-83.22640189909079, 42.37115359207171], [-83.2263361996142, 42.3711032868577], [-83.22645135793721, 42.3696615171659]]], \"type\": \"Polygon\"}, \"id\": \"141\", \"properties\": {}, \"type\": \"Feature\"}, {\"bbox\": [-83.0407810420963, 42.406206728537505, -83.0402756075937, 42.406291229906394], \"geometry\": {\"coordinates\": [[-83.0407810420963, 42.406206728537505], [-83.0402756075937, 42.406291229906394]], \"type\": \"LineString\"}, \"id\": \"142\", \"properties\": {}, \"type\": \"Feature\"}, {\"bbox\": [-83.04575573813929, 42.422471748223295, -83.0374313552799, 42.4268750733628], \"geometry\": {\"coordinates\": [[[-83.04320972881209, 42.422471748223295], [-83.04570487108491, 42.426214525755796], [-83.04575573813929, 42.426436400894], [-83.04460449025841, 42.426746938407504], [-83.03861909200809, 42.4268750733628], [-83.0374313552799, 42.426462144518], [-83.03856685488509, 42.4255009533863], [-83.0412553910737, 42.4234483829594], [-83.04246234885879, 42.4227799409019], [-83.0427355844658, 42.422646671424204], [-83.04320972881209, 42.422471748223295]]], \"type\": \"Polygon\"}, \"id\": \"143\", \"properties\": {}, \"type\": \"Feature\"}, {\"bbox\": [-83.10998645888971, 42.361923209469204, -83.1086766062376, 42.36368150329329], \"geometry\": {\"coordinates\": [[[-83.1090570540485, 42.361923209469204], [-83.10998645888971, 42.363365836197204], [-83.1097764044512, 42.363505863117794], [-83.10973910246821, 42.363520544349605], [-83.1093028856825, 42.36368150329329], [-83.1086766062376, 42.3629899995104], [-83.1090570540485, 42.361923209469204]]], \"type\": \"Polygon\"}, \"id\": \"144\", \"properties\": {}, \"type\": \"Feature\"}, {\"bbox\": [-83.0407940234092, 42.4219760981144, -83.03704928868841, 42.4236259497225], \"geometry\": {\"coordinates\": [[[-83.0407940234092, 42.4219760981144], [-83.039929198793, 42.4236259497225], [-83.03717750947659, 42.423425278771205], [-83.0371355447339, 42.4233086430527], [-83.03704928868841, 42.4221419327487], [-83.03704933021521, 42.422139984682005], [-83.0407940234092, 42.4219760981144]]], \"type\": \"Polygon\"}, \"id\": \"145\", \"properties\": {}, \"type\": \"Feature\"}, {\"bbox\": [-83.0417599198997, 42.440677063074496, -83.0371793760174, 42.4410128058881], \"geometry\": {\"coordinates\": [[[-83.0417599198997, 42.440677063074496], [-83.04048598638579, 42.4409935966808], [-83.0391998428341, 42.4410128058881], [-83.0371793760174, 42.440889869154795], [-83.0417599198997, 42.440677063074496]]], \"type\": \"Polygon\"}, \"id\": \"146\", \"properties\": {}, \"type\": \"Feature\"}, {\"bbox\": [-82.99069644577109, 42.354622299256796, -82.9899591771033, 42.35558760465229], \"geometry\": {\"coordinates\": [[[-82.9899591771033, 42.354622299256796], [-82.990218987967, 42.3549218530052], [-82.9904631534982, 42.3552598311155], [-82.99069644577109, 42.35558760465229], [-82.9902271498169, 42.3550551685322], [-82.9899591771033, 42.354622299256796]]], \"type\": \"Polygon\"}, \"id\": \"147\", \"properties\": {}, \"type\": \"Feature\"}, {\"bbox\": [-83.105097681123, 42.2989198885216, -83.1019467170992, 42.301350409254205], \"geometry\": {\"coordinates\": [[[-83.1043470804282, 42.2989198885216], [-83.105097681123, 42.300011487999704], [-83.1050976705995, 42.300012009320895], [-83.10378132673091, 42.300573355278296], [-83.10296094898729, 42.3009222801097], [-83.1019467170992, 42.301350409254205], [-83.1043470804282, 42.2989198885216]]], \"type\": \"Polygon\"}, \"id\": \"148\", \"properties\": {}, \"type\": \"Feature\"}, {\"bbox\": [-83.03370884184991, 42.38166830276089, -83.02302305658651, 42.389941048253895], \"geometry\": {\"coordinates\": [[[-83.0274021745438, 42.38166830276089], [-83.0289524045837, 42.382051669941504], [-83.0316148654328, 42.38356851793179], [-83.0317079850859, 42.3837148213346], [-83.0318253712176, 42.3839381446223], [-83.03370884184991, 42.3890021712294], [-83.0336739789452, 42.389941048253895], [-83.0281396823095, 42.3871519803838], [-83.02302305658651, 42.3837279030481], [-83.02364796249151, 42.3827289330008], [-83.0263397250516, 42.381842554140896], [-83.0274021745438, 42.38166830276089]]], \"type\": \"Polygon\"}, \"id\": \"149\", \"properties\": {}, \"type\": \"Feature\"}, {\"bbox\": [-83.0760302198869, 42.413809024278706, -83.069841817738, 42.421325849355], \"geometry\": {\"coordinates\": [[[-83.074893132919, 42.413809024278706], [-83.0760302198869, 42.413984801384004], [-83.0709852115114, 42.421325849355], [-83.06985625231499, 42.420931495135], [-83.069841817738, 42.4209131348601], [-83.0700529268652, 42.417350455206794], [-83.072882201509, 42.4141589443138], [-83.07382544149341, 42.4138592327386], [-83.074893132919, 42.413809024278706]]], \"type\": \"Polygon\"}, \"id\": \"150\", \"properties\": {}, \"type\": \"Feature\"}, {\"bbox\": [-82.94579727523158, 42.381921849346206, -82.9444057679773, 42.3827647574349], \"geometry\": {\"coordinates\": [[[-82.94529410253759, 42.381921849346206], [-82.9456354523965, 42.38237536760229], [-82.94579727523158, 42.3827471305748], [-82.9447936594953, 42.3827647574349], [-82.9444057679773, 42.3822419590107], [-82.9444057798567, 42.3822414377059], [-82.94529410253759, 42.381921849346206]]], \"type\": \"Polygon\"}, \"id\": \"151\", \"properties\": {}, \"type\": \"Feature\"}, {\"bbox\": [-83.01311522804491, 42.340612993175505, -83.01311522804491, 42.340612993175505], \"geometry\": {\"coordinates\": [-83.01311522804491, 42.340612993175505], \"type\": \"Point\"}, \"id\": \"152\", \"properties\": {}, \"type\": \"Feature\"}, {\"bbox\": [-83.125063925993, 42.4328021024495, -83.1195688552746, 42.4371949726654], \"geometry\": {\"coordinates\": [[[-83.1227912717401, 42.4328021024495], [-83.125063925993, 42.4358828383864], [-83.123774394286, 42.4371949726654], [-83.1232853975686, 42.437191764713795], [-83.12199445948659, 42.4370861088726], [-83.1215597306833, 42.4369628441045], [-83.1195688552746, 42.4361012304391], [-83.120250429712, 42.433327507311795], [-83.1227912717401, 42.4328021024495]]], \"type\": \"Polygon\"}, \"id\": \"153\", \"properties\": {}, \"type\": \"Feature\"}, {\"bbox\": [-83.094079522108, 42.3285661498334, -83.0933660937549, 42.3298565654589], \"geometry\": {\"coordinates\": [[[-83.0933660937549, 42.3285661498334], [-83.0934054948737, 42.328629109846204], [-83.094079522108, 42.3298565654589], [-83.0933660937549, 42.3285661498334]]], \"type\": \"Polygon\"}, \"id\": \"154\", \"properties\": {}, \"type\": \"Feature\"}, {\"bbox\": [-83.258298373617, 42.4264877107846, -83.2569409098837, 42.4274648202986], \"geometry\": {\"coordinates\": [[[-83.25822145670209, 42.4264877107846], [-83.258298373617, 42.4271621953836], [-83.2569409098837, 42.4274648202986], [-83.2570000864248, 42.4268454252257], [-83.25822145670209, 42.4264877107846]]], \"type\": \"Polygon\"}, \"id\": \"155\", \"properties\": {}, \"type\": \"Feature\"}, {\"bbox\": [-83.0397113147537, 42.366439363301296, -83.03729869094191, 42.367877631332796], \"geometry\": {\"coordinates\": [[[-83.03875005415999, 42.366439363301296], [-83.03882664765621, 42.3664922389656], [-83.0397113147537, 42.367877631332796], [-83.03729869094191, 42.3678590936919], [-83.03875005415999, 42.366439363301296]]], \"type\": \"Polygon\"}, \"id\": \"156\", \"properties\": {}, \"type\": \"Feature\"}, {\"bbox\": [-83.131396957517, 42.445303988347504, -83.1266977072172, 42.4463909701824], \"geometry\": {\"coordinates\": [[[-83.1311793509025, 42.445303988347504], [-83.131396957517, 42.4453553132706], [-83.130899388888, 42.4463422768608], [-83.12994652653809, 42.4463693748485], [-83.1297166569802, 42.446375710623705], [-83.129149405446, 42.4463909701824], [-83.1266977072172, 42.4453901850875], [-83.128877612738, 42.4453358932736], [-83.1311793509025, 42.445303988347504]]], \"type\": \"Polygon\"}, \"id\": \"157\", \"properties\": {}, \"type\": \"Feature\"}, {\"bbox\": [-83.02741281446909, 42.3888660812906, -83.0259667476213, 42.3912326163884], \"geometry\": {\"coordinates\": [[[-83.0259667476213, 42.3888660812906], [-83.02741281446909, 42.389625763939904], [-83.02668969463879, 42.3912326163884], [-83.0259790546344, 42.3889825363219], [-83.0259667476213, 42.3888660812906]]], \"type\": \"Polygon\"}, \"id\": \"158\", \"properties\": {}, \"type\": \"Feature\"}, {\"bbox\": [-83.07692389837409, 42.4051581978994, -83.07140822110641, 42.4091214650115], \"geometry\": {\"coordinates\": [[[-83.07193568714492, 42.4051581978994], [-83.0738512896565, 42.4052847425011], [-83.07692389837409, 42.4087367216266], [-83.07692389440359, 42.4087369136911], [-83.07452356765721, 42.4091214650115], [-83.0735850599623, 42.4086604539449], [-83.0726075714272, 42.4074012967691], [-83.07140822110641, 42.405414634048796], [-83.07193568714492, 42.4051581978994]]], \"type\": \"Polygon\"}, \"id\": \"159\", \"properties\": {}, \"type\": \"Feature\"}, {\"bbox\": [-83.09226952329792, 42.303453747199, -83.08986266862341, 42.305265436683506], \"geometry\": {\"coordinates\": [[[-83.09226952329792, 42.303453747199], [-83.0901517180352, 42.3050517715225], [-83.08986266862341, 42.305265436683506], [-83.0898626792749, 42.3052649153638], [-83.0917018139606, 42.3037356126744], [-83.09226952329792, 42.303453747199]]], \"type\": \"Polygon\"}, \"id\": \"160\", \"properties\": {}, \"type\": \"Feature\"}, {\"bbox\": [-83.23436140510141, 42.3834999233349, -83.2296307852402, 42.38473011979389], \"geometry\": {\"coordinates\": [[[-83.2319066517835, 42.3834999233349], [-83.23436140510141, 42.384288920044206], [-83.2342894692583, 42.3843772019961], [-83.2331280975212, 42.38473011979389], [-83.2296492011492, 42.38468521405], [-83.2296307852402, 42.3842737062688], [-83.22963152554921, 42.384233069836505], [-83.2319066517835, 42.3834999233349]]], \"type\": \"Polygon\"}, \"id\": \"161\", \"properties\": {}, \"type\": \"Feature\"}, {\"bbox\": [-83.021717384021, 42.3426200064121, -83.0205190777663, 42.3431222320763], \"geometry\": {\"coordinates\": [[[-83.021717384021, 42.3426200064121], [-83.02055232626341, 42.3431222320763], [-83.0205190777663, 42.3431200537838], [-83.0208673885118, 42.3429224676506], [-83.0211362345258, 42.342807205019895], [-83.021717384021, 42.3426200064121]]], \"type\": \"Polygon\"}, \"id\": \"162\", \"properties\": {}, \"type\": \"Feature\"}, {\"bbox\": [-82.9835859904013, 42.418102787855794, -82.981592657066, 42.420528853427], \"geometry\": {\"coordinates\": [[[-82.9831799699629, 42.418102787855794], [-82.9835859904013, 42.4188348506721], [-82.981592657066, 42.420528853427], [-82.9820688614713, 42.4184328329411], [-82.9831799699629, 42.418102787855794]]], \"type\": \"Polygon\"}, \"id\": \"163\", \"properties\": {}, \"type\": \"Feature\"}, {\"bbox\": [-83.2218391706019, 42.3743651723264, -83.21816223192471, 42.3758469847075], \"geometry\": {\"coordinates\": [[[-83.2205064196093, 42.3743651723264], [-83.2205833891896, 42.3744063462041], [-83.2218391706019, 42.3753571455712], [-83.2193540147572, 42.3758469847075], [-83.21816223192471, 42.3746379572016], [-83.219329050697, 42.374385966349], [-83.2205064196093, 42.3743651723264]]], \"type\": \"Polygon\"}, \"id\": \"164\", \"properties\": {}, \"type\": \"Feature\"}, {\"bbox\": [-83.2746293518988, 42.3788987883266, -83.26205312686349, 42.3822747002338], \"geometry\": {\"coordinates\": [[[-83.2733060589425, 42.3788987883266], [-83.2741959421806, 42.3794455719252], [-83.2743598400512, 42.379598086947496], [-83.2746293518988, 42.3813304867065], [-83.2733560685849, 42.3815380281804], [-83.2662174769715, 42.3822747002338], [-83.2631389121003, 42.3815778684861], [-83.26205312686349, 42.3812279742655], [-83.2620589357803, 42.381108899078995], [-83.2622010570165, 42.380817158800795], [-83.2636500597051, 42.3794648926649], [-83.2672964030691, 42.379023343539], [-83.2733060589425, 42.3788987883266]]], \"type\": \"Polygon\"}, \"id\": \"165\", \"properties\": {}, \"type\": \"Feature\"}, {\"bbox\": [-82.9533007072124, 42.389951783312505, -82.9490466371452, 42.394604411657205], \"geometry\": {\"coordinates\": [[[-82.9506758002336, 42.389951783312505], [-82.9519038820088, 42.39179620800871], [-82.9530030658101, 42.3934498914572], [-82.9532607827599, 42.393841279313705], [-82.9533007072124, 42.394040230033205], [-82.9502999337689, 42.394604411657205], [-82.9496839596645, 42.3936852285245], [-82.9490466371452, 42.3927286972734], [-82.9494605191969, 42.3899922823655], [-82.9506758002336, 42.389951783312505]]], \"type\": \"Polygon\"}, \"id\": \"166\", \"properties\": {}, \"type\": \"Feature\"}, {\"bbox\": [-83.2509763118317, 42.4136406847037, -83.2504241837278, 42.4156688608821], \"geometry\": {\"coordinates\": [[[-83.2504241837278, 42.4136406847037], [-83.250961675466, 42.4138209159284], [-83.2509763118317, 42.4138308569526], [-83.2508878846971, 42.4156688608821], [-83.2504241837278, 42.4136406847037]]], \"type\": \"Polygon\"}, \"id\": \"167\", \"properties\": {}, \"type\": \"Feature\"}, {\"bbox\": [-83.14527730201971, 42.3232240498159, -83.1428205757058, 42.3257193101419], \"geometry\": {\"coordinates\": [[[-83.1448066766455, 42.3232240498159], [-83.14527730201971, 42.3239321211685], [-83.1450516784287, 42.32506836774861], [-83.1443917327361, 42.3257193101419], [-83.1428205757058, 42.3236092508536], [-83.1448066766455, 42.3232240498159]]], \"type\": \"Polygon\"}, \"id\": \"168\", \"properties\": {}, \"type\": \"Feature\"}, {\"bbox\": [-83.0903820913864, 42.386946401927794, -83.0890838784865, 42.389897637364996], \"geometry\": {\"coordinates\": [[[-83.0900500279162, 42.386946401927794], [-83.09020430375399, 42.387910575499795], [-83.0903820913864, 42.389897637364996], [-83.0898153396023, 42.389189107798295], [-83.0892039111263, 42.388312608385796], [-83.0890838784865, 42.387303974770106], [-83.0900500279162, 42.386946401927794]]], \"type\": \"Polygon\"}, \"id\": \"169\", \"properties\": {}, \"type\": \"Feature\"}, {\"bbox\": [-83.1766312143244, 42.3683712181241, -83.1717226734884, 42.368655822414], \"geometry\": {\"coordinates\": [[[-83.17290108612059, 42.3683712181241], [-83.1766312143244, 42.3683904824729], [-83.1765622860878, 42.368511774904206], [-83.1754252305108, 42.3685579207585], [-83.174140275346, 42.368596820931295], [-83.17173355916799, 42.368655822414], [-83.1717226734884, 42.3686444833308], [-83.17290108612059, 42.3683712181241]]], \"type\": \"Polygon\"}, \"id\": \"170\", \"properties\": {}, \"type\": \"Feature\"}, {\"bbox\": [-83.1326415351117, 42.289215090923, -83.1205877088317, 42.294649455084894], \"geometry\": {\"coordinates\": [[[-83.12677594794441, 42.289215090923], [-83.13011648150659, 42.2909401453418], [-83.1311111313573, 42.291858094332], [-83.1326415351117, 42.293350834766], [-83.13070360588121, 42.294147970863904], [-83.1243171346094, 42.294649455084894], [-83.1205877088317, 42.291662745717], [-83.1227009239765, 42.2907900933861], [-83.1245934820639, 42.290044109513104], [-83.12527149649071, 42.289777698247], [-83.1255769711333, 42.2896577912054], [-83.12677594794441, 42.289215090923]]], \"type\": \"Polygon\"}, \"id\": \"171\", \"properties\": {}, \"type\": \"Feature\"}, {\"bbox\": [-82.96172875690151, 42.3628727922412, -82.9614185384154, 42.364364439177606], \"geometry\": {\"coordinates\": [[[-82.96167415517141, 42.3628727922412], [-82.96172875690151, 42.36291318072279], [-82.9614185384154, 42.364364439177606], [-82.96154731394641, 42.3629179882765], [-82.96167415517141, 42.3628727922412]]], \"type\": \"Polygon\"}, \"id\": \"172\", \"properties\": {}, \"type\": \"Feature\"}, {\"bbox\": [-83.0759052441598, 42.350394837919396, -83.0742259601363, 42.3509532642906], \"geometry\": {\"coordinates\": [[[-83.0759052441598, 42.350394837919396], [-83.0751256411437, 42.3507007271718], [-83.0743175351426, 42.3509532642906], [-83.0742259601363, 42.350908667473796], [-83.0759052441598, 42.350394837919396]]], \"type\": \"Polygon\"}, \"id\": \"173\", \"properties\": {}, \"type\": \"Feature\"}, {\"bbox\": [-83.1144970745025, 42.4362003518307, -83.11030034012059, 42.4394081234801], \"geometry\": {\"coordinates\": [[[-83.1130276348919, 42.4362003518307], [-83.1144970745025, 42.4394081234801], [-83.110375329666, 42.438569233026705], [-83.11030034012059, 42.4362226264174], [-83.1130276348919, 42.4362003518307]]], \"type\": \"Polygon\"}, \"id\": \"174\", \"properties\": {}, \"type\": \"Feature\"}, {\"bbox\": [-83.13566122800471, 42.4332821806415, -83.1318299916605, 42.43469477708221], \"geometry\": {\"coordinates\": [[[-83.1339923289966, 42.4332821806415], [-83.13522268825609, 42.4336383208653], [-83.1352774013657, 42.433681808524], [-83.13566122800471, 42.43469477708221], [-83.1329905743882, 42.4344800505254], [-83.1318299916605, 42.4341547503416], [-83.1339923289966, 42.4332821806415]]], \"type\": \"Polygon\"}, \"id\": \"175\", \"properties\": {}, \"type\": \"Feature\"}, {\"bbox\": [-82.9443364918292, 42.380274955724104, -82.9430118034298, 42.380957584270895], \"geometry\": {\"coordinates\": [[[-82.9437509593175, 42.380274955724104], [-82.9443364918292, 42.380408620770396], [-82.94427991645131, 42.380454650797894], [-82.94359472872041, 42.380957584270895], [-82.9430118034298, 42.3805471659402], [-82.9431995590632, 42.380430216698606], [-82.9437509593175, 42.380274955724104]]], \"type\": \"Polygon\"}, \"id\": \"176\", \"properties\": {}, \"type\": \"Feature\"}, {\"bbox\": [-82.99506261947991, 42.3561476071196, -82.99349587249691, 42.3588018517417], \"geometry\": {\"coordinates\": [[[-82.99472481720001, 42.3561476071196], [-82.99506261947991, 42.356603950350106], [-82.9948737196072, 42.3588018517417], [-82.9947382901526, 42.3587341830882], [-82.9936825862265, 42.3572687443597], [-82.99349587249691, 42.3570093565351], [-82.99472481720001, 42.3561476071196]]], \"type\": \"Polygon\"}, \"id\": \"177\", \"properties\": {}, \"type\": \"Feature\"}, {\"bbox\": [-83.2388991872173, 42.3826793096066, -83.2367320918735, 42.3844994050837], \"geometry\": {\"coordinates\": [[[-83.23752594554409, 42.3826793096066], [-83.237814016132, 42.3829205751575], [-83.2388991872173, 42.38391339478579], [-83.238829187031, 42.3843046472796], [-83.23788589789609, 42.3844723676622], [-83.23683779761909, 42.3844994050837], [-83.2367320918735, 42.3837950317577], [-83.23752594554409, 42.3826793096066]]], \"type\": \"Polygon\"}, \"id\": \"178\", \"properties\": {}, \"type\": \"Feature\"}, {\"bbox\": [-83.19553428500659, 42.3785551615589, -83.1812418595665, 42.3850449676695], \"geometry\": {\"coordinates\": [[[-83.1932976886061, 42.3785551615589], [-83.194442044409, 42.3789174917818], [-83.195352435674, 42.380110477186996], [-83.19553428500659, 42.383833631942004], [-83.1955307057893, 42.3848134985914], [-83.1955301765066, 42.384841705221895], [-83.1923994530827, 42.3849829563489], [-83.1884002696731, 42.3850449676695], [-83.1837730157885, 42.3844546018745], [-83.1812418595665, 42.3834326863396], [-83.1822777126766, 42.382101139833004], [-83.18797047187559, 42.379184707385505], [-83.1932976886061, 42.3785551615589]]], \"type\": \"Polygon\"}, \"id\": \"179\", \"properties\": {}, \"type\": \"Feature\"}, {\"bbox\": [-82.9526678181703, 42.3793039971546, -82.947350268187, 42.3818123893371], \"geometry\": {\"coordinates\": [[[-82.9523721228049, 42.3793039971546], [-82.95255930980031, 42.3795379633732], [-82.9526678181703, 42.3798135988617], [-82.95082168137309, 42.381074081949], [-82.9487837291239, 42.3818123893371], [-82.948698708209, 42.38180704626421], [-82.947350268187, 42.3815241486081], [-82.9523721228049, 42.3793039971546]]], \"type\": \"Polygon\"}, \"id\": \"180\", \"properties\": {}, \"type\": \"Feature\"}, {\"bbox\": [-83.1271839254618, 42.2822144790721, -83.12540221832592, 42.2837532737153], \"geometry\": {\"coordinates\": [[[-83.12709958635429, 42.2822144790721], [-83.1271839254618, 42.282248004652], [-83.1263757542835, 42.282931962830794], [-83.12540221832592, 42.2837532737153], [-83.12709958635429, 42.2822144790721]]], \"type\": \"Polygon\"}, \"id\": \"181\", \"properties\": {}, \"type\": \"Feature\"}, {\"bbox\": [-83.2506248126662, 42.4042702903572, -83.2505881210657, 42.4062468531354], \"geometry\": {\"coordinates\": [[[-83.2505881210657, 42.4042702903572], [-83.2506248126662, 42.4049102469089], [-83.2506083099382, 42.4062468531354], [-83.2506054836199, 42.4061978388875], [-83.2505881210657, 42.4042702903572]]], \"type\": \"Polygon\"}, \"id\": \"182\", \"properties\": {}, \"type\": \"Feature\"}, {\"bbox\": [-82.9921362868917, 42.357226479722705, -82.990777140436, 42.35781533670271], \"geometry\": {\"coordinates\": [[[-82.99187774495279, 42.357226479722705], [-82.9921362868917, 42.3575845804136], [-82.990795367768, 42.35781533670271], [-82.990777140436, 42.3578028754289], [-82.99187774495279, 42.357226479722705]]], \"type\": \"Polygon\"}, \"id\": \"183\", \"properties\": {}, \"type\": \"Feature\"}, {\"bbox\": [-83.0417460640222, 42.415552428739794, -83.0393712663283, 42.4173430373746], \"geometry\": {\"coordinates\": [[[-83.0393712663283, 42.415552428739794], [-83.0417460640222, 42.4172643545389], [-83.04174581401291, 42.4172761252642], [-83.0417457452457, 42.417279362899606], [-83.0405670796189, 42.41731852479629], [-83.0394628016093, 42.4173430373746], [-83.0393810915673, 42.417005449896294], [-83.0393712663283, 42.415552428739794]]], \"type\": \"Polygon\"}, \"id\": \"184\", \"properties\": {}, \"type\": \"Feature\"}, {\"bbox\": [-83.26585914260109, 42.3715056690105, -83.2608580447088, 42.372460566932396], \"geometry\": {\"coordinates\": [[[-83.2657041197162, 42.3715056690105], [-83.26585914260109, 42.3715294836175], [-83.2633667034009, 42.372460566932396], [-83.2621810870966, 42.372323239127496], [-83.2608726489327, 42.3715981552489], [-83.2608580447088, 42.3715868709946], [-83.26087686111909, 42.3715692983879], [-83.2637127740845, 42.371516803606504], [-83.2657041197162, 42.3715056690105]]], \"type\": \"Polygon\"}, \"id\": \"185\", \"properties\": {}, \"type\": \"Feature\"}, {\"bbox\": [-82.99611668953521, 42.3915935303655, -82.9940381059638, 42.392703218452894], \"geometry\": {\"coordinates\": [[[-82.9940381059638, 42.3915935303655], [-82.9956473441098, 42.3919897287101], [-82.9957203949585, 42.392035125770605], [-82.99611668953521, 42.392703218452894], [-82.9952206536785, 42.3923682256242], [-82.9940381059638, 42.3915935303655]]], \"type\": \"Polygon\"}, \"id\": \"186\", \"properties\": {}, \"type\": \"Feature\"}, {\"bbox\": [-82.9613637586418, 42.3736913150159, -82.9552874136823, 42.3786405133752], \"geometry\": {\"coordinates\": [[[-82.96134922174559, 42.3736913150159], [-82.9613637586418, 42.3737032413402], [-82.9584491494965, 42.3772216761273], [-82.9567921163867, 42.3786405133752], [-82.9553496175805, 42.3782625436487], [-82.9552874136823, 42.378230538196], [-82.9560745011278, 42.3756699425459], [-82.958184354834, 42.3748490222878], [-82.96074872414759, 42.3738946845025], [-82.96134922174559, 42.3736913150159]]], \"type\": \"Polygon\"}, \"id\": \"187\", \"properties\": {}, \"type\": \"Feature\"}, {\"bbox\": [-83.11316624217991, 42.2929783497894, -83.1067577084904, 42.2986724095249], \"geometry\": {\"coordinates\": [[[-83.11198568941029, 42.2929783497894], [-83.11316624217991, 42.297517456437504], [-83.1131662300733, 42.2975180600734], [-83.11033009775471, 42.2986581805424], [-83.1079084055833, 42.2986724095249], [-83.1067577084904, 42.297071138471395], [-83.10855811609441, 42.2944946684748], [-83.10947245815541, 42.294062849661294], [-83.10975219139391, 42.293938857110895], [-83.11198568941029, 42.2929783497894]]], \"type\": \"Polygon\"}, \"id\": \"188\", \"properties\": {}, \"type\": \"Feature\"}, {\"bbox\": [-82.9559537017335, 42.3810149489728, -82.94593378612821, 42.3857903635706], \"geometry\": {\"coordinates\": [[[-82.9559537017335, 42.3810149489728], [-82.95569238985449, 42.3825854183265], [-82.9466905304257, 42.3857903635706], [-82.9460855501831, 42.3848822469617], [-82.9460466019652, 42.3848043101572], [-82.94593378612821, 42.3845561689239], [-82.945933792374, 42.384555894552896], [-82.9496141168618, 42.3832280163694], [-82.9559537017335, 42.3810149489728]]], \"type\": \"Polygon\"}, \"id\": \"189\", \"properties\": {}, \"type\": \"Feature\"}, {\"bbox\": [-82.99382706155359, 42.3893974532448, -82.9895243342931, 42.3933220661014], \"geometry\": {\"coordinates\": [[[-82.99381244176381, 42.3893974532448], [-82.99382706155359, 42.38940605548721], [-82.9938270482748, 42.3894066591091], [-82.9923487740231, 42.3933220661014], [-82.9908598553428, 42.3923379319625], [-82.99072599088299, 42.3921961777453], [-82.9900884516479, 42.3912218779655], [-82.9898941204095, 42.3908003871897], [-82.9895243342931, 42.389437913540704], [-82.99381244176381, 42.3893974532448]]], \"type\": \"Polygon\"}, \"id\": \"190\", \"properties\": {}, \"type\": \"Feature\"}, {\"bbox\": [-82.9669104724728, 42.399310437279, -82.96394927517609, 42.4000298835903], \"geometry\": {\"coordinates\": [[[-82.96394927517609, 42.399310437279], [-82.9669104724728, 42.39935923641129], [-82.9644255880891, 42.4000298835903], [-82.9643680981279, 42.399951724595], [-82.96394927517609, 42.399310437279]]], \"type\": \"Polygon\"}, \"id\": \"191\", \"properties\": {}, \"type\": \"Feature\"}, {\"bbox\": [-83.24909177072009, 42.4148866493304, -83.2489461077753, 42.4164871065116], \"geometry\": {\"coordinates\": [[[-83.2489537805109, 42.4148866493304], [-83.2490225616496, 42.4153886895361], [-83.24909177072009, 42.4164871065116], [-83.2489547808067, 42.415657654215], [-83.2489461077753, 42.415314883086204], [-83.2489537805109, 42.4148866493304]]], \"type\": \"Polygon\"}, \"id\": \"192\", \"properties\": {}, \"type\": \"Feature\"}, {\"bbox\": [-83.2494511864252, 42.4189402358794, -83.2491881253412, 42.4201115583795], \"geometry\": {\"coordinates\": [[[-83.249199678045, 42.4189402358794], [-83.2494511864252, 42.4189599436146], [-83.2492830975312, 42.4198660635315], [-83.2492342529607, 42.4201115583795], [-83.2491881253412, 42.419378365933795], [-83.249199678045, 42.4189402358794]]], \"type\": \"Polygon\"}, \"id\": \"193\", \"properties\": {}, \"type\": \"Feature\"}, {\"bbox\": [-83.14049804744, 42.4348026038369, -83.1369256288525, 42.4375633831891], \"geometry\": {\"coordinates\": [[[-83.13720772879842, 42.4348026038369], [-83.1390313181604, 42.4349500953728], [-83.14049804744, 42.4370429093718], [-83.1400827734862, 42.437435678533504], [-83.1388279659137, 42.4375633831891], [-83.13742491037421, 42.437505239931504], [-83.1369256288525, 42.43576892501721], [-83.13720772879842, 42.4348026038369]]], \"type\": \"Polygon\"}, \"id\": \"194\", \"properties\": {}, \"type\": \"Feature\"}, {\"bbox\": [-82.9347304296667, 42.361452684258396, -82.93202721909971, 42.3649110060312], \"geometry\": {\"coordinates\": [[[-82.9339032574109, 42.361452684258396], [-82.9342504500822, 42.3616430881618], [-82.9346045862665, 42.3620148802052], [-82.9347304296667, 42.362498045030996], [-82.93467814433708, 42.3642935779303], [-82.93293198513699, 42.3649110060312], [-82.93202721909971, 42.3620886851515], [-82.93383986095921, 42.3614738400525], [-82.9339032574109, 42.361452684258396]]], \"type\": \"Polygon\"}, \"id\": \"195\", \"properties\": {}, \"type\": \"Feature\"}, {\"bbox\": [-83.0004208903175, 42.3517362037843, -82.9950738996772, 42.354305329904], \"geometry\": {\"coordinates\": [[[-83.00038287043641, 42.3517362037843], [-83.0004208903175, 42.3518587077864], [-82.9952722190345, 42.354305329904], [-82.9950738996772, 42.3539005946629], [-82.9970012702729, 42.351894940681795], [-82.99708710791191, 42.351861341363794], [-83.00038287043641, 42.3517362037843]]], \"type\": \"Polygon\"}, \"id\": \"196\", \"properties\": {}, \"type\": \"Feature\"}, {\"bbox\": [-83.2321611688159, 42.3521946425465, -83.2320536801424, 42.353002268311], \"geometry\": {\"coordinates\": [[[-83.23209074416329, 42.3521946425465], [-83.2321550898352, 42.3529295645526], [-83.2321611688159, 42.353002268311], [-83.2320744173486, 42.352685965340704], [-83.2320536801424, 42.3521982239085], [-83.23209074416329, 42.3521946425465]]], \"type\": \"Polygon\"}, \"id\": \"197\", \"properties\": {}, \"type\": \"Feature\"}, {\"bbox\": [-83.26448792911809, 42.368914037381295, -83.26089058545979, 42.3699611107529], \"geometry\": {\"coordinates\": [[[-83.26089058545979, 42.368914037381295], [-83.2631734729091, 42.3691544241596], [-83.2632471368927, 42.3691744328189], [-83.264486496481, 42.3696183751857], [-83.26448792911809, 42.3697468515174], [-83.2632739424717, 42.3699611107529], [-83.2620902157859, 42.369719679702], [-83.26089058545979, 42.368914037381295]]], \"type\": \"Polygon\"}, \"id\": \"198\", \"properties\": {}, \"type\": \"Feature\"}, {\"bbox\": [-83.2046373426724, 42.367733266851, -83.2033533118618, 42.367984045122796], \"geometry\": {\"coordinates\": [[[-83.20462949968271, 42.367733266851], [-83.2046373426724, 42.3679083826335], [-83.2046372961965, 42.3679108795286], [-83.2033591419745, 42.367984045122796], [-83.2033533118618, 42.367899705961705], [-83.20462949968271, 42.367733266851]]], \"type\": \"Polygon\"}, \"id\": \"199\", \"properties\": {}, \"type\": \"Feature\"}, {\"bbox\": [-82.9455056841373, 42.3750160432323, -82.9436253722393, 42.3760976391057], \"geometry\": {\"coordinates\": [[[-82.9454735631936, 42.3750160432323], [-82.9455056841373, 42.3750683985417], [-82.94368702120559, 42.3760976391057], [-82.9436253722393, 42.3758792829944], [-82.9454735631936, 42.3750160432323]]], \"type\": \"Polygon\"}, \"id\": \"200\", \"properties\": {}, \"type\": \"Feature\"}, {\"bbox\": [-83.15038773145851, 42.323055560949896, -83.1489482819104, 42.3251018511754], \"geometry\": {\"coordinates\": [[[-83.1489482819104, 42.323055560949896], [-83.1489962401549, 42.3230616468281], [-83.1491799189438, 42.323314647579295], [-83.15038773145851, 42.3251018511754], [-83.14907318398859, 42.3232882811281], [-83.1489482819104, 42.323055560949896]]], \"type\": \"Polygon\"}, \"id\": \"201\", \"properties\": {}, \"type\": \"Feature\"}, {\"bbox\": [-83.28777091537759, 42.44118890795, -83.28530785521559, 42.4425685944192], \"geometry\": {\"coordinates\": [[[-83.28530785521559, 42.44118890795], [-83.2865221761654, 42.441458585029004], [-83.28777091537759, 42.4425234958539], [-83.2868586497122, 42.4425685944192], [-83.2853097549306, 42.441293018174704], [-83.28530785521559, 42.44118890795]]], \"type\": \"Polygon\"}, \"id\": \"202\", \"properties\": {}, \"type\": \"Feature\"}, {\"bbox\": [-82.9610077054967, 42.3791595063793, -82.9572146816416, 42.381459028045604], \"geometry\": {\"coordinates\": [[[-82.9610077054967, 42.3791595063793], [-82.96089797348259, 42.380908881670706], [-82.958534857276, 42.3812982998012], [-82.95744289847642, 42.381459028045604], [-82.9572146816416, 42.3812377344385], [-82.95795532008358, 42.3804053287867], [-82.95887259093121, 42.379946794239004], [-82.9610077054967, 42.3791595063793]]], \"type\": \"Polygon\"}, \"id\": \"203\", \"properties\": {}, \"type\": \"Feature\"}, {\"bbox\": [-83.2643877918428, 42.366760833501104, -83.2608500603032, 42.367858965820105], \"geometry\": {\"coordinates\": [[[-83.26431119952929, 42.366760833501104], [-83.2643877918428, 42.3668244499566], [-83.2643877618065, 42.3668261511542], [-83.26438722405929, 42.366856608077896], [-83.2608500603032, 42.367858965820105], [-83.2620271719368, 42.3667987610423], [-83.26431119952929, 42.366760833501104]]], \"type\": \"Polygon\"}, \"id\": \"204\", \"properties\": {}, \"type\": \"Feature\"}, {\"bbox\": [-82.9618773726895, 42.382403623491996, -82.9604671104556, 42.3828309447816], \"geometry\": {\"coordinates\": [[[-82.9605200329789, 42.382403623491996], [-82.9618773726895, 42.382458928776], [-82.9618137581145, 42.382489264204295], [-82.96071771139201, 42.3828309447816], [-82.9604671104556, 42.3824522865048], [-82.9605200329789, 42.382403623491996]]], \"type\": \"Polygon\"}, \"id\": \"205\", \"properties\": {}, \"type\": \"Feature\"}, {\"bbox\": [-83.1001091177385, 42.4232420339133, -83.0976870520499, 42.4255593314589], \"geometry\": {\"coordinates\": [[[-83.0993788589307, 42.4232420339133], [-83.1001091177385, 42.4246751278295], [-83.0999523319318, 42.425464099113], [-83.0976870520499, 42.4255593314589], [-83.0982629027296, 42.424019533095496], [-83.0993788589307, 42.4232420339133]]], \"type\": \"Polygon\"}, \"id\": \"206\", \"properties\": {}, \"type\": \"Feature\"}, {\"bbox\": [-83.17140357010571, 42.3881949994093, -83.1644704525598, 42.3904250192484], \"geometry\": {\"coordinates\": [[[-83.17094111217659, 42.3881949994093], [-83.17140357010571, 42.3882106805056], [-83.17091703300208, 42.3884856499124], [-83.16991588032191, 42.3889546843358], [-83.1667408141138, 42.3904250192484], [-83.165583746094, 42.3901432352859], [-83.1645202262772, 42.3886572349549], [-83.1644704525598, 42.3883583390037], [-83.16447045573109, 42.3883581743745], [-83.16872257055701, 42.388247281365], [-83.17094111217659, 42.3881949994093]]], \"type\": \"Polygon\"}, \"id\": \"207\", \"properties\": {}, \"type\": \"Feature\"}, {\"bbox\": [-83.03002716942709, 42.406549096155, -83.02874968875341, 42.4081232496414], \"geometry\": {\"coordinates\": [[[-83.0287752520446, 42.406549096155], [-83.0296262527508, 42.4072751414748], [-83.03002716942709, 42.408094548086], [-83.0299450809845, 42.4081232496414], [-83.02874968875341, 42.408086535599104], [-83.0287752520446, 42.406549096155]]], \"type\": \"Polygon\"}, \"id\": \"208\", \"properties\": {}, \"type\": \"Feature\"}, {\"bbox\": [-83.14697947014359, 42.3694018571846, -83.14332181131941, 42.372413464092], \"geometry\": {\"coordinates\": [[[-83.14332181131941, 42.3694018571846], [-83.1437282998883, 42.36943340601871], [-83.1446824693237, 42.3698463372242], [-83.14697947014359, 42.3719974181881], [-83.14564633096779, 42.372413464092], [-83.1442889438142, 42.371420729606], [-83.14332181131941, 42.3694018571846]]], \"type\": \"Polygon\"}, \"id\": \"209\", \"properties\": {}, \"type\": \"Feature\"}, {\"bbox\": [-83.0016415281258, 42.393415751373, -82.9955367758451, 42.395505425067796], \"geometry\": {\"coordinates\": [[[-83.000151565927, 42.393415751373], [-83.0016415281258, 42.393682893436896], [-82.9955367758451, 42.395505425067796], [-82.9991343933438, 42.393707457360705], [-83.000151565927, 42.393415751373]]], \"type\": \"Polygon\"}, \"id\": \"210\", \"properties\": {}, \"type\": \"Feature\"}, {\"bbox\": [-82.9836467031042, 42.4204265167495, -82.9818646546189, 42.422125333302], \"geometry\": {\"coordinates\": [[[-82.98359144262571, 42.4204265167495], [-82.9836093534323, 42.420454014787005], [-82.9836467031042, 42.4221106738054], [-82.9818646546189, 42.422125333302], [-82.9823508285761, 42.4215830497951], [-82.98359144262571, 42.4204265167495]]], \"type\": \"Polygon\"}, \"id\": \"211\", \"properties\": {}, \"type\": \"Feature\"}, {\"bbox\": [-83.0194105229185, 42.434085314969, -83.0167019007825, 42.43569216086], \"geometry\": {\"coordinates\": [[[-83.01809608802691, 42.434085314969], [-83.0190854211322, 42.4349366869075], [-83.0194105229185, 42.4356658440631], [-83.0180057643376, 42.43569216086], [-83.0167019007825, 42.4341383343958], [-83.01809608802691, 42.434085314969]]], \"type\": \"Polygon\"}, \"id\": \"212\", \"properties\": {}, \"type\": \"Feature\"}, {\"bbox\": [-83.0398236827472, 42.385483243684895, -83.03836379933809, 42.387491333624396], \"geometry\": {\"coordinates\": [[[-83.038707650999, 42.385483243684895], [-83.039167158239, 42.3859837410565], [-83.0398236827472, 42.387491333624396], [-83.03836379933809, 42.3868543800111], [-83.0386813529207, 42.3855012964721], [-83.038707650999, 42.385483243684895]]], \"type\": \"Polygon\"}, \"id\": \"213\", \"properties\": {}, \"type\": \"Feature\"}, {\"bbox\": [-82.9598757959877, 42.388121383546796, -82.9563260609777, 42.390246418755396], \"geometry\": {\"coordinates\": [[[-82.95815136737559, 42.388121383546796], [-82.9598757959877, 42.388813784861], [-82.95813666231541, 42.3899211441438], [-82.9570482393929, 42.390246418755396], [-82.9563260609777, 42.3892733695849], [-82.9571694634732, 42.388321569041], [-82.95815136737559, 42.388121383546796]]], \"type\": \"Polygon\"}, \"id\": \"214\", \"properties\": {}, \"type\": \"Feature\"}, {\"bbox\": [-83.0346477193211, 42.4189762972014, -83.03093481857309, 42.421896588261106], \"geometry\": {\"coordinates\": [[[-83.03093481857309, 42.4189762972014], [-83.0346477193211, 42.4192525596933], [-83.0316316334877, 42.421896588261106], [-83.03093481857309, 42.4189762972014]]], \"type\": \"Polygon\"}, \"id\": \"215\", \"properties\": {}, \"type\": \"Feature\"}, {\"bbox\": [-83.27361462605141, 42.44284572878129, -83.2715312139328, 42.4429279521968], \"geometry\": {\"coordinates\": [[[-83.27238857081541, 42.44284572878129], [-83.27361462605141, 42.442867542299105], [-83.2715312139328, 42.4429279521968], [-83.27238857081541, 42.44284572878129]]], \"type\": \"Polygon\"}, \"id\": \"216\", \"properties\": {}, \"type\": \"Feature\"}, {\"bbox\": [-83.2529176626711, 42.3931280023928, -83.2516816651338, 42.394084647654], \"geometry\": {\"coordinates\": [[[-83.251905494081, 42.3931280023928], [-83.2529176626711, 42.394084647654], [-83.25176846721641, 42.3937520103898], [-83.2516816651338, 42.3934298233769], [-83.251905494081, 42.3931280023928]]], \"type\": \"Polygon\"}, \"id\": \"217\", \"properties\": {}, \"type\": \"Feature\"}, {\"bbox\": [-83.24206503668529, 42.380142060767795, -83.23969283151399, 42.3829546928394], \"geometry\": {\"coordinates\": [[[-83.23969283151399, 42.380142060767795], [-83.2420619719624, 42.38157177962189], [-83.24206503668529, 42.382018013214], [-83.2408969267319, 42.3829546928394], [-83.239737106498, 42.380970085531104], [-83.23969283151399, 42.380142060767795]]], \"type\": \"Polygon\"}, \"id\": \"218\", \"properties\": {}, \"type\": \"Feature\"}, {\"bbox\": [-83.2473420473068, 42.350110720824, -83.2441696071689, 42.3523461497944], \"geometry\": {\"coordinates\": [[[-83.2473420473068, 42.350110720824], [-83.24669889460141, 42.3523461497944], [-83.2454319196195, 42.352229794856], [-83.2441889712096, 42.351188708717295], [-83.2441696071689, 42.3504135136778], [-83.2441997859562, 42.350175383293795], [-83.2453767960264, 42.3501484320857], [-83.2466388737549, 42.3501229119455], [-83.2473420473068, 42.350110720824]]], \"type\": \"Polygon\"}, \"id\": \"219\", \"properties\": {}, \"type\": \"Feature\"}, {\"bbox\": [-83.09500789065909, 42.3540205815192, -83.09243089157229, 42.3561503739811], \"geometry\": {\"coordinates\": [[[-83.09500789065909, 42.3540205815192], [-83.09472030117242, 42.3561503739811], [-83.09243089157229, 42.3548309502386], [-83.0936933398668, 42.3544335632358], [-83.09500789065909, 42.3540205815192]]], \"type\": \"Polygon\"}, \"id\": \"220\", \"properties\": {}, \"type\": \"Feature\"}, {\"bbox\": [-83.0947157844456, 42.3343279633207, -83.087603738665, 42.3371634559697], \"geometry\": {\"coordinates\": [[[-83.0912956063117, 42.3343279633207], [-83.0947157844456, 42.335482975531896], [-83.0942450696667, 42.3371634559697], [-83.0881617184306, 42.336359654689396], [-83.087603738665, 42.3354283321613], [-83.0912956063117, 42.3343279633207]]], \"type\": \"Polygon\"}, \"id\": \"221\", \"properties\": {}, \"type\": \"Feature\"}, {\"bbox\": [-83.06873596424751, 42.3708868754041, -83.0667092337826, 42.373230796409004], \"geometry\": {\"coordinates\": [[[-83.0679941998263, 42.3708868754041], [-83.06873596424751, 42.372058720884496], [-83.0680194609757, 42.373230796409004], [-83.06708116965241, 42.3724319975334], [-83.0667092337826, 42.3712750793592], [-83.067459523973, 42.3709693482806], [-83.0679941998263, 42.3708868754041]]], \"type\": \"Polygon\"}, \"id\": \"222\", \"properties\": {}, \"type\": \"Feature\"}, {\"bbox\": [-83.0265598696265, 42.4162429350246, -83.0260124983483, 42.4179293068703], \"geometry\": {\"coordinates\": [[[-83.0265598696265, 42.4162429350246], [-83.02641947164001, 42.41708870906329], [-83.02628049722101, 42.4178680566986], [-83.0260124983483, 42.4179293068703], [-83.0262671145078, 42.41625004766829], [-83.0265598696265, 42.4162429350246]]], \"type\": \"Polygon\"}, \"id\": \"223\", \"properties\": {}, \"type\": \"Feature\"}, {\"bbox\": [-82.9819475048395, 42.399555042252494, -82.9773060353565, 42.4009491545225], \"geometry\": {\"coordinates\": [[[-82.9800660928944, 42.399555042252494], [-82.9816522054362, 42.3996639735721], [-82.9819475048395, 42.4003733147722], [-82.9804119438523, 42.4008215836985], [-82.9773060353565, 42.4009491545225], [-82.9800660928944, 42.399555042252494]]], \"type\": \"Polygon\"}, \"id\": \"224\", \"properties\": {}, \"type\": \"Feature\"}, {\"bbox\": [-83.120230094043, 42.33660802791079, -83.1142219352279, 42.3426012359055], \"geometry\": {\"coordinates\": [[[-83.1156849878732, 42.33660802791079], [-83.119434578269, 42.336670079111], [-83.120230094043, 42.3377711754746], [-83.11846531981759, 42.342043422129706], [-83.1176957949335, 42.3426012359055], [-83.1146861936975, 42.3403014671863], [-83.1142219352279, 42.3396558544717], [-83.1156849878732, 42.33660802791079]]], \"type\": \"Polygon\"}, \"id\": \"225\", \"properties\": {}, \"type\": \"Feature\"}, {\"bbox\": [-83.08403081921041, 42.372468757528, -83.0830343254581, 42.375306501295206], \"geometry\": {\"coordinates\": [[[-83.08367656574559, 42.372468757528], [-83.08403081921041, 42.375042223631795], [-83.08308524376899, 42.375306501295206], [-83.0830343254581, 42.375262701026294], [-83.0832243460612, 42.3726815808555], [-83.0832626204293, 42.3726201817135], [-83.08367656574559, 42.372468757528]]], \"type\": \"Polygon\"}, \"id\": \"226\", \"properties\": {}, \"type\": \"Feature\"}, {\"bbox\": [-82.94800830680559, 42.3910210280129, -82.945471259158, 42.391898976387], \"geometry\": {\"coordinates\": [[[-82.94663074771859, 42.3910210280129], [-82.94800830680559, 42.3911719560512], [-82.9472179693471, 42.391898976387], [-82.945471259158, 42.3912117570786], [-82.94663074771859, 42.3910210280129]]], \"type\": \"Polygon\"}, \"id\": \"227\", \"properties\": {}, \"type\": \"Feature\"}, {\"bbox\": [-83.2059394496289, 42.3702121201726, -83.20352597880121, 42.3709200909482], \"geometry\": {\"coordinates\": [[[-83.2046462742012, 42.3702121201726], [-83.20593031601841, 42.370222757786706], [-83.2059394496289, 42.3705277224291], [-83.2046738070908, 42.3709200909482], [-83.20352597880121, 42.370550280309], [-83.2046462742012, 42.3702121201726]]], \"type\": \"Polygon\"}, \"id\": \"228\", \"properties\": {}, \"type\": \"Feature\"}, {\"bbox\": [-82.99580843979841, 42.4135981500296, -82.99413600190341, 42.414993543704206], \"geometry\": {\"coordinates\": [[[-82.99453540442799, 42.4135981500296], [-82.9953284474326, 42.4142514665444], [-82.99580843979841, 42.414993543704206], [-82.99464233117091, 42.414461971317], [-82.99413600190341, 42.4137393858525], [-82.99453540442799, 42.4135981500296]]], \"type\": \"Polygon\"}, \"id\": \"229\", \"properties\": {}, \"type\": \"Feature\"}, {\"bbox\": [-83.272483181602, 42.404128667084706, -83.2723825571262, 42.406175798068205], \"geometry\": {\"coordinates\": [[[-83.2723825571262, 42.404128667084706], [-83.2724648763751, 42.404291101170394], [-83.2724697215764, 42.404437118831204], [-83.272483181602, 42.405569971266], [-83.2724762600665, 42.406175798068205], [-83.2724038568565, 42.404603284849294], [-83.2723825571262, 42.404128667084706]]], \"type\": \"Polygon\"}, \"id\": \"230\", \"properties\": {}, \"type\": \"Feature\"}, {\"bbox\": [-83.09716343357199, 42.363152761780796, -83.0935748962824, 42.365426133918604], \"geometry\": {\"coordinates\": [[[-83.0965056707591, 42.363152761780796], [-83.09716343357199, 42.3644734041393], [-83.0943203769668, 42.365426133918604], [-83.09425906704008, 42.3653474779029], [-83.0935748962824, 42.3642355367274], [-83.0965056707591, 42.363152761780796]]], \"type\": \"Polygon\"}, \"id\": \"231\", \"properties\": {}, \"type\": \"Feature\"}, {\"bbox\": [-83.26529057693651, 42.388934083207104, -83.2652291674229, 42.389071667043204], \"geometry\": {\"coordinates\": [[[-83.26527819677179, 42.388934083207104], [-83.26529057693651, 42.389071667043204], [-83.2652291674229, 42.38898522866229], [-83.26527819677179, 42.388934083207104]]], \"type\": \"Polygon\"}, \"id\": \"232\", \"properties\": {}, \"type\": \"Feature\"}, {\"bbox\": [-83.163339774687, 42.3903415471292, -83.1630795165977, 42.3931807908566], \"geometry\": {\"coordinates\": [[[-83.1631549899216, 42.3903415471292], [-83.16326536128, 42.3911455304895], [-83.1633075798016, 42.392220046214106], [-83.163339774687, 42.393046445979294], [-83.1632705415265, 42.3931807908566], [-83.1630795165977, 42.39271919262271], [-83.1631549899216, 42.3903415471292]]], \"type\": \"Polygon\"}, \"id\": \"233\", \"properties\": {}, \"type\": \"Feature\"}, {\"bbox\": [-82.9854382044061, 42.3641243703112, -82.9816577235624, 42.3665522265884], \"geometry\": {\"coordinates\": [[[-82.98536423940041, 42.3641243703112], [-82.9854382044061, 42.3641266425292], [-82.983921915028, 42.3659184097204], [-82.9816577235624, 42.3665522265884], [-82.98322419437442, 42.365004672195894], [-82.98536423940041, 42.3641243703112]]], \"type\": \"Polygon\"}, \"id\": \"234\", \"properties\": {}, \"type\": \"Feature\"}, {\"bbox\": [-83.04564518037371, 42.414001383416704, -83.04464762898479, 42.415510071216396], \"geometry\": {\"coordinates\": [[[-83.04560423157349, 42.414001383416704], [-83.04564518037371, 42.4141664434273], [-83.04564067138679, 42.4154287495099], [-83.04560561532129, 42.415510071216396], [-83.04464762898479, 42.4154491988465], [-83.0446476313107, 42.4154490890961], [-83.04560423157349, 42.414001383416704]]], \"type\": \"Polygon\"}, \"id\": \"235\", \"properties\": {}, \"type\": \"Feature\"}, {\"bbox\": [-83.0392166901847, 42.393120506639704, -83.0356797125233, 42.3960125928222], \"geometry\": {\"coordinates\": [[[-83.03740107128671, 42.393120506639704], [-83.0391404790745, 42.3952438622241], [-83.0392166901847, 42.3960125928222], [-83.0356797125233, 42.395884831487706], [-83.03740107128671, 42.393120506639704]]], \"type\": \"Polygon\"}, \"id\": \"236\", \"properties\": {}, \"type\": \"Feature\"}, {\"bbox\": [-83.023363924939, 42.4103737622571, -83.0199408290731, 42.4160214966319], \"geometry\": {\"coordinates\": [[[-83.023363924939, 42.4103737622571], [-83.022484064619, 42.413910555085394], [-83.0200014658457, 42.4160214966319], [-83.0199408290731, 42.4148843012155], [-83.0210825919527, 42.4112317665717], [-83.023363924939, 42.4103737622571]]], \"type\": \"Polygon\"}, \"id\": \"237\", \"properties\": {}, \"type\": \"Feature\"}, {\"bbox\": [-83.1295715921169, 42.431818738828504, -83.1258788620945, 42.4322645971123], \"geometry\": {\"coordinates\": [[[-83.1259302300422, 42.431818738828504], [-83.12701569334709, 42.4318191951524], [-83.12778618397941, 42.4318233982306], [-83.12831508173471, 42.431867309776294], [-83.1295715921169, 42.4322094710731], [-83.1293741490602, 42.4322645971123], [-83.1258788620945, 42.4319799326483], [-83.1259302300422, 42.431818738828504]]], \"type\": \"Polygon\"}, \"id\": \"238\", \"properties\": {}, \"type\": \"Feature\"}, {\"bbox\": [-83.08201076950941, 42.414397743702104, -83.0809563903495, 42.4162487272504], \"geometry\": {\"coordinates\": [[[-83.08185497362341, 42.414397743702104], [-83.0819520378985, 42.4145402612122], [-83.08201076950941, 42.416184502509395], [-83.0819724089793, 42.4162487272504], [-83.0819543904868, 42.4162244275157], [-83.081943613981, 42.4162081684805], [-83.0809563903495, 42.4146886959319], [-83.08185497362341, 42.414397743702104]]], \"type\": \"Polygon\"}, \"id\": \"239\", \"properties\": {}, \"type\": \"Feature\"}, {\"bbox\": [-82.99915590011159, 42.408641485527895, -82.9980270378011, 42.409283388575204], \"geometry\": {\"coordinates\": [[[-82.9987181563411, 42.408641485527895], [-82.99915590011159, 42.409283388575204], [-82.9980270378011, 42.4089145508368], [-82.9982896083099, 42.4087626518317], [-82.9987181563411, 42.408641485527895]]], \"type\": \"Polygon\"}, \"id\": \"240\", \"properties\": {}, \"type\": \"Feature\"}, {\"bbox\": [-83.0241502578209, 42.352493437638, -83.0218616155143, 42.3538123447562], \"geometry\": {\"coordinates\": [[[-83.0241502578209, 42.352493437638], [-83.02295636157241, 42.3538123447562], [-83.0218616155143, 42.3534459209644], [-83.0223665063716, 42.353196173929], [-83.02256451781591, 42.3531075953048], [-83.0241502578209, 42.352493437638]]], \"type\": \"Polygon\"}, \"id\": \"241\", \"properties\": {}, \"type\": \"Feature\"}, {\"bbox\": [-83.07788154107759, 42.3875324753134, -83.07646163038409, 42.38882417348721], \"geometry\": {\"coordinates\": [[[-83.07736951011971, 42.3875324753134], [-83.07788154107759, 42.3885527630684], [-83.07703184271979, 42.38882417348721], [-83.07646163038409, 42.3879326203404], [-83.07736951011971, 42.3875324753134]]], \"type\": \"Polygon\"}, \"id\": \"242\", \"properties\": {}, \"type\": \"Feature\"}, {\"bbox\": [-83.0319179792917, 42.340384450620206, -83.03184614285999, 42.3404874433636], \"geometry\": {\"coordinates\": [[[-83.0318461938771, 42.340384450620206], [-83.0319179792917, 42.3404874433636], [-83.03184614285999, 42.34038683769], [-83.0318461938771, 42.340384450620206]]], \"type\": \"Polygon\"}, \"id\": \"243\", \"properties\": {}, \"type\": \"Feature\"}, {\"bbox\": [-83.26678083094359, 42.4147267540279, -83.2663190678116, 42.41584424430889], \"geometry\": {\"coordinates\": [[[-83.2663190678116, 42.4147267540279], [-83.2665630391873, 42.4147531295097], [-83.26675101616, 42.4156447171105], [-83.26678083094359, 42.41584424430889], [-83.26647774609908, 42.4151794041679], [-83.2663190678116, 42.4147267540279]]], \"type\": \"Polygon\"}, \"id\": \"244\", \"properties\": {}, \"type\": \"Feature\"}, {\"bbox\": [-83.0875788801916, 42.3075704778796, -83.0869871032851, 42.308644403494796], \"geometry\": {\"coordinates\": [[[-83.0869871032851, 42.3075704778796], [-83.08700168022649, 42.3075808515934], [-83.08757531899221, 42.3086377492802], [-83.0875788801916, 42.308644403494796], [-83.0869871032851, 42.3075704778796]]], \"type\": \"Polygon\"}, \"id\": \"245\", \"properties\": {}, \"type\": \"Feature\"}, {\"bbox\": [-83.28558117039731, 42.4215138531047, -83.28550146039471, 42.423295621531295], \"geometry\": {\"coordinates\": [[[-83.2855748638458, 42.4215138531047], [-83.28558117039731, 42.4224322463704], [-83.28554768581921, 42.423295621531295], [-83.28550146039471, 42.4216885444715], [-83.2855033703831, 42.4215783505756], [-83.2855748638458, 42.4215138531047]]], \"type\": \"Polygon\"}, \"id\": \"246\", \"properties\": {}, \"type\": \"Feature\"}, {\"bbox\": [-83.1292507263723, 42.298076349956496, -83.1287970601004, 42.298854011065295], \"geometry\": {\"coordinates\": [[[-83.1292507263723, 42.298076349956496], [-83.1292464196313, 42.298854011065295], [-83.1289432319751, 42.298483199716394], [-83.1287970601004, 42.2982107593642], [-83.1289875951518, 42.2981097593768], [-83.1292507263723, 42.298076349956496]]], \"type\": \"Polygon\"}, \"id\": \"247\", \"properties\": {}, \"type\": \"Feature\"}, {\"bbox\": [-83.08159576116071, 42.3238432003561, -83.07882445307371, 42.325303955466], \"geometry\": {\"coordinates\": [[[-83.07882445307371, 42.3238432003561], [-83.08159576116071, 42.3241409174825], [-83.0796449713765, 42.325303955466], [-83.07882445307371, 42.3238432003561]]], \"type\": \"Polygon\"}, \"id\": \"248\", \"properties\": {}, \"type\": \"Feature\"}, {\"bbox\": [-83.206583422612, 42.352584566234796, -83.2040274894814, 42.3529620674516], \"geometry\": {\"coordinates\": [[[-83.2052591963442, 42.352584566234796], [-83.2065754394498, 42.352634801598], [-83.206583422612, 42.3528025637921], [-83.2040274894814, 42.3529620674516], [-83.2052591963442, 42.352584566234796]]], \"type\": \"Polygon\"}, \"id\": \"249\", \"properties\": {}, \"type\": \"Feature\"}, {\"bbox\": [-83.0555749858309, 42.4047334918937, -83.053007686711, 42.406854603363], \"geometry\": {\"coordinates\": [[[-83.05422137841359, 42.4047334918937], [-83.0555749858309, 42.4067545347376], [-83.055387720474, 42.406854603363], [-83.053007686711, 42.40521680892879], [-83.05422137841359, 42.4047334918937]]], \"type\": \"Polygon\"}, \"id\": \"250\", \"properties\": {}, \"type\": \"Feature\"}, {\"bbox\": [-83.1441122010099, 42.320159835666, -83.1416731667921, 42.3223465224821], \"geometry\": {\"coordinates\": [[[-83.1441122010099, 42.320159835666], [-83.1436026308137, 42.3216321986416], [-83.1427698603937, 42.32204492083989], [-83.1419503517685, 42.3223465224821], [-83.1416731667921, 42.3219601927868], [-83.1427059328964, 42.3204000649252], [-83.1441122010099, 42.320159835666]]], \"type\": \"Polygon\"}, \"id\": \"251\", \"properties\": {}, \"type\": \"Feature\"}, {\"bbox\": [-82.9653224988262, 42.3604242796263, -82.96435076316291, 42.3641106921665], \"geometry\": {\"coordinates\": [[[-82.9653224988262, 42.3604242796263], [-82.96508432044371, 42.3641106921665], [-82.96435076316291, 42.362993136103], [-82.96470006126721, 42.3617757989081], [-82.96513596882059, 42.3604911925556], [-82.9653224988262, 42.3604242796263]]], \"type\": \"Polygon\"}, \"id\": \"252\", \"properties\": {}, \"type\": \"Feature\"}, {\"bbox\": [-83.12976394293429, 42.3244458614029, -83.12976394293429, 42.3244458614029], \"geometry\": {\"coordinates\": [-83.12976394293429, 42.3244458614029], \"type\": \"Point\"}, \"id\": \"253\", \"properties\": {}, \"type\": \"Feature\"}, {\"bbox\": [-83.0326735705377, 42.3565797160134, -83.02900543997379, 42.360232201592005], \"geometry\": {\"coordinates\": [[[-83.0322363308226, 42.3565797160134], [-83.0326735705377, 42.3572441266475], [-83.0326735429864, 42.3572454162139], [-83.0306501360542, 42.35963519556989], [-83.030295167919, 42.35979516254], [-83.02900543997379, 42.360232201592005], [-83.0307379792355, 42.3579509736724], [-83.0322363308226, 42.3565797160134]]], \"type\": \"Polygon\"}, \"id\": \"254\", \"properties\": {}, \"type\": \"Feature\"}, {\"bbox\": [-83.0943680882672, 42.4180913930347, -83.0934303660082, 42.419046732015204], \"geometry\": {\"coordinates\": [[[-83.0942943528517, 42.4180913930347], [-83.0943558111808, 42.418710095363394], [-83.0943680882672, 42.419016152421605], [-83.0934303660082, 42.419046732015204], [-83.09343105146999, 42.41810584539439], [-83.0942943528517, 42.4180913930347]]], \"type\": \"Polygon\"}, \"id\": \"255\", \"properties\": {}, \"type\": \"Feature\"}, {\"bbox\": [-83.0382780797148, 42.398964471354795, -83.03760525889271, 42.4016343268261], \"geometry\": {\"coordinates\": [[[-83.0381356233822, 42.398964471354795], [-83.0382780797148, 42.3997518986085], [-83.0378899250732, 42.4016343268261], [-83.0377036022381, 42.4004725380191], [-83.03763406477199, 42.399738793736205], [-83.03760525889271, 42.3990050868804], [-83.0381356233822, 42.398964471354795]]], \"type\": \"Polygon\"}, \"id\": \"256\", \"properties\": {}, \"type\": \"Feature\"}, {\"bbox\": [-82.9608214837441, 42.3765660036266, -82.9595749627789, 42.3777771866828], \"geometry\": {\"coordinates\": [[[-82.9605960176118, 42.3765660036266], [-82.9608214837441, 42.3769091939], [-82.960413266704, 42.3777771866828], [-82.9595749627789, 42.3770335570632], [-82.9605960176118, 42.3765660036266]]], \"type\": \"Polygon\"}, \"id\": \"257\", \"properties\": {}, \"type\": \"Feature\"}, {\"bbox\": [-83.05584567612571, 42.375287634858, -83.0555883089787, 42.376867369942396], \"geometry\": {\"coordinates\": [[[-83.0557917527544, 42.375287634858], [-83.05584567612571, 42.3767737648098], [-83.0555883089787, 42.376867369942396], [-83.0557917527544, 42.375287634858]]], \"type\": \"Polygon\"}, \"id\": \"258\", \"properties\": {}, \"type\": \"Feature\"}, {\"bbox\": [-83.0402309043822, 42.430582803034206, -83.03887058926959, 42.4318190844314], \"geometry\": {\"coordinates\": [[[-83.040225761693, 42.430582803034206], [-83.0402309043822, 42.430689374693706], [-83.03939553786809, 42.4318190844314], [-83.0388757057183, 42.431003924082106], [-83.03887058926959, 42.4308962274226], [-83.040225761693, 42.430582803034206]]], \"type\": \"Polygon\"}, \"id\": \"259\", \"properties\": {}, \"type\": \"Feature\"}, {\"bbox\": [-83.03650808946779, 42.3706032208131, -83.0356162206082, 42.3727072119664], \"geometry\": {\"coordinates\": [[[-83.0359152560457, 42.3706032208131], [-83.03650808946779, 42.3716146347755], [-83.03587427265471, 42.3726993041064], [-83.03567793851191, 42.3727072119664], [-83.0356162206082, 42.3714357281177], [-83.0359152560457, 42.3706032208131]]], \"type\": \"Polygon\"}, \"id\": \"260\", \"properties\": {}, \"type\": \"Feature\"}, {\"bbox\": [-83.1380030653552, 42.2899578849817, -83.1351500512593, 42.292138812554995], \"geometry\": {\"coordinates\": [[[-83.1364454498575, 42.2899578849817], [-83.1364672749776, 42.2899757956916], [-83.1380030653552, 42.292138812554995], [-83.1351500512593, 42.2917328404319], [-83.1351500550435, 42.291732648365205], [-83.1354702388772, 42.290490169131296], [-83.1364454498575, 42.2899578849817]]], \"type\": \"Polygon\"}, \"id\": \"261\", \"properties\": {}, \"type\": \"Feature\"}, {\"bbox\": [-83.0938199808431, 42.3054621492233, -83.0917911602947, 42.306875120152], \"geometry\": {\"coordinates\": [[[-83.09294952251459, 42.3054621492233], [-83.0938199808431, 42.3061090382013], [-83.0925177165301, 42.306875120152], [-83.09201908438591, 42.3063066645731], [-83.0917911602947, 42.30588017246521], [-83.09294952251459, 42.3054621492233]]], \"type\": \"Polygon\"}, \"id\": \"262\", \"properties\": {}, \"type\": \"Feature\"}, {\"bbox\": [-83.02559500301341, 42.350609325426, -83.024675455936, 42.3522470022627], \"geometry\": {\"coordinates\": [[[-83.024675455936, 42.350609325426], [-83.0255270129787, 42.3517886097004], [-83.02559144948859, 42.351889351444704], [-83.02559500301341, 42.3518961722267], [-83.02557216569029, 42.351925844342205], [-83.0247364611373, 42.3522470022627], [-83.024714434045, 42.352238947584205], [-83.024675455936, 42.350609325426]]], \"type\": \"Polygon\"}, \"id\": \"263\", \"properties\": {}, \"type\": \"Feature\"}, {\"bbox\": [-83.1465407961664, 42.2916957044961, -83.1455733292886, 42.2928933215692], \"geometry\": {\"coordinates\": [[[-83.14650972836, 42.2916957044961], [-83.1465407961664, 42.292565818906], [-83.1455733292886, 42.2928933215692], [-83.14592238217101, 42.291865709899504], [-83.14650972836, 42.2916957044961]]], \"type\": \"Polygon\"}, \"id\": \"264\", \"properties\": {}, \"type\": \"Feature\"}, {\"bbox\": [-83.1002751913336, 42.3312545096455, -83.0982700432848, 42.337005768694404], \"geometry\": {\"coordinates\": [[[-83.098522818684, 42.3312545096455], [-83.0985374119799, 42.331264442869], [-83.1002751913336, 42.334214474682604], [-83.1000269577007, 42.335693769754], [-83.0996045498687, 42.337005768694404], [-83.0982700432848, 42.335688305146206], [-83.098522818684, 42.3312545096455]]], \"type\": \"Polygon\"}, \"id\": \"265\", \"properties\": {}, \"type\": \"Feature\"}, {\"bbox\": [-83.0803991717853, 42.4085567147054, -83.0784848096642, 42.4115074492841], \"geometry\": {\"coordinates\": [[[-83.07947181048391, 42.4085567147054], [-83.07996805613121, 42.40855676530229], [-83.0803991717853, 42.4100992085349], [-83.0798923837247, 42.4115074492841], [-83.0784848096642, 42.4109810354235], [-83.0791532253601, 42.4087409325594], [-83.0792039197315, 42.4086173220813], [-83.07947181048391, 42.4085567147054]]], \"type\": \"Polygon\"}, \"id\": \"266\", \"properties\": {}, \"type\": \"Feature\"}, {\"bbox\": [-83.1248468961812, 42.4030048928569, -83.12116413733621, 42.403617585129105], \"geometry\": {\"coordinates\": [[[-83.1244924961169, 42.4030048928569], [-83.1248468961812, 42.403617585129105], [-83.12116413733621, 42.4035305277258], [-83.1211770838866, 42.40306746983521], [-83.1244924961169, 42.4030048928569]]], \"type\": \"Polygon\"}, \"id\": \"267\", \"properties\": {}, \"type\": \"Feature\"}, {\"bbox\": [-83.04033305158642, 42.368749670658495, -83.0375611599612, 42.3702581566534], \"geometry\": {\"coordinates\": [[[-83.04033305158642, 42.368749670658495], [-83.0389315985276, 42.3702581566534], [-83.0375611599612, 42.37013294726471], [-83.0382955906534, 42.3693612700973], [-83.04033305158642, 42.368749670658495]]], \"type\": \"Polygon\"}, \"id\": \"268\", \"properties\": {}, \"type\": \"Feature\"}, {\"bbox\": [-83.07790389856551, 42.3222139474257, -83.07579112742592, 42.3244272533285], \"geometry\": {\"coordinates\": [[[-83.07790389856551, 42.3222139474257], [-83.07626055274841, 42.3244272533285], [-83.07579112742592, 42.32351951816371], [-83.07790389856551, 42.3222139474257]]], \"type\": \"Polygon\"}, \"id\": \"269\", \"properties\": {}, \"type\": \"Feature\"}, {\"bbox\": [-83.10206670607191, 42.339582488854, -83.0994782914703, 42.3407695248508], \"geometry\": {\"coordinates\": [[[-83.0994782914703, 42.339582488854], [-83.10206670607191, 42.339634170207], [-83.1003161443918, 42.3407695248508], [-83.0994782914703, 42.339582488854]]], \"type\": \"Polygon\"}, \"id\": \"270\", \"properties\": {}, \"type\": \"Feature\"}, {\"bbox\": [-83.06471645854279, 42.4142953421781, -83.064087244205, 42.4156284986521], \"geometry\": {\"coordinates\": [[[-83.06471645854279, 42.4142953421781], [-83.06448863090779, 42.4156284986521], [-83.0641088058862, 42.4151941203961], [-83.064087244205, 42.415162476945895], [-83.06471645854279, 42.4142953421781]]], \"type\": \"Polygon\"}, \"id\": \"271\", \"properties\": {}, \"type\": \"Feature\"}, {\"bbox\": [-83.13348700086571, 42.2891469760791, -83.13123330043891, 42.2904548454358], \"geometry\": {\"coordinates\": [[[-83.13326048010671, 42.2891469760791], [-83.13348700086571, 42.2900304740408], [-83.1322440636798, 42.2904548454358], [-83.13123330043891, 42.29016544514371], [-83.13326048010671, 42.2891469760791]]], \"type\": \"Polygon\"}, \"id\": \"272\", \"properties\": {}, \"type\": \"Feature\"}, {\"bbox\": [-83.1769676473969, 42.3867164482796, -83.1768000531025, 42.3882173189525], \"geometry\": {\"coordinates\": [[[-83.1768000531025, 42.3867164482796], [-83.1768918547269, 42.3871440506419], [-83.17696214083091, 42.3881177776763], [-83.1769676473969, 42.3882173189525], [-83.1768492630965, 42.387630483983], [-83.17681746803929, 42.3871622349213], [-83.1768000531025, 42.3867164482796]]], \"type\": \"Polygon\"}, \"id\": \"273\", \"properties\": {}, \"type\": \"Feature\"}, {\"bbox\": [-83.1250303244999, 42.4463528562465, -83.1247441854501, 42.4465069053469], \"geometry\": {\"coordinates\": [[[-83.1249221327682, 42.4463528562465], [-83.1250303244999, 42.446502235355794], [-83.1248523647401, 42.4465069053469], [-83.1247441854501, 42.44635692243279], [-83.1249221327682, 42.4463528562465]]], \"type\": \"Polygon\"}, \"id\": \"274\", \"properties\": {}, \"type\": \"Feature\"}, {\"bbox\": [-83.2501969805667, 42.3849515278946, -83.2494009051636, 42.3859828739443], \"geometry\": {\"coordinates\": [[[-83.25008586590559, 42.3849515278946], [-83.2501969805667, 42.3859828739443], [-83.2494907759657, 42.385728251901604], [-83.249476147409, 42.3857182558009], [-83.2494009051636, 42.385371975372706], [-83.25008586590559, 42.3849515278946]]], \"type\": \"Polygon\"}, \"id\": \"275\", \"properties\": {}, \"type\": \"Feature\"}, {\"bbox\": [-83.1165379305775, 42.3511349974502, -83.1143838928298, 42.3518530348505], \"geometry\": {\"coordinates\": [[[-83.1143838928298, 42.3511349974502], [-83.11550953240109, 42.3512763164444], [-83.1165379305775, 42.3518396307242], [-83.1165379031124, 42.3518410026244], [-83.1159012713917, 42.3518530348505], [-83.1143838928298, 42.3511349974502]]], \"type\": \"Polygon\"}, \"id\": \"276\", \"properties\": {}, \"type\": \"Feature\"}, {\"bbox\": [-83.03074254352791, 42.337746406248705, -83.0280145600279, 42.340192216705205], \"geometry\": {\"coordinates\": [[[-83.0305264818246, 42.337746406248705], [-83.03074254352791, 42.338886441865604], [-83.0280289107218, 42.340192216705205], [-83.0280145600279, 42.340171381705105], [-83.0282717701689, 42.3397347822132], [-83.0288349879495, 42.3390007516356], [-83.0305264818246, 42.337746406248705]]], \"type\": \"Polygon\"}, \"id\": \"277\", \"properties\": {}, \"type\": \"Feature\"}, {\"bbox\": [-83.1837186209673, 42.3611431372323, -83.1836444720705, 42.361160316686295], \"geometry\": {\"coordinates\": [[[-83.1837077053068, 42.3611431372323], [-83.1837186209673, 42.361152938622105], [-83.1836444720705, 42.361160316686295], [-83.1837077053068, 42.3611431372323]]], \"type\": \"Polygon\"}, \"id\": \"278\", \"properties\": {}, \"type\": \"Feature\"}, {\"bbox\": [-83.1732800108394, 42.391546098495105, -83.171065718706, 42.3930772300372], \"geometry\": {\"coordinates\": [[[-83.171065718706, 42.391546098495105], [-83.1732248890836, 42.3917004558784], [-83.1732800108394, 42.3930772300372], [-83.1711108578349, 42.3924751886356], [-83.171065718706, 42.391546098495105]]], \"type\": \"Polygon\"}, \"id\": \"279\", \"properties\": {}, \"type\": \"Feature\"}, {\"bbox\": [-82.985121320864, 42.3868083107535, -82.9838487549431, 42.3872662432188], \"geometry\": {\"coordinates\": [[[-82.985121320864, 42.3868083107535], [-82.9838487549431, 42.3872662432188], [-82.983848777437, 42.387265228038395], [-82.985121320864, 42.3868083107535]]], \"type\": \"Polygon\"}, \"id\": \"280\", \"properties\": {}, \"type\": \"Feature\"}, {\"bbox\": [-83.25031378670779, 42.3573078593764, -83.250313769538, 42.3573088197279], \"geometry\": {\"coordinates\": [[-83.250313769538, 42.3573088197279], [-83.25031378670779, 42.3573078593764]], \"type\": \"LineString\"}, \"id\": \"281\", \"properties\": {}, \"type\": \"Feature\"}, {\"bbox\": [-83.0764371919855, 42.31756363136579, -83.07524485424659, 42.3186192857882], \"geometry\": {\"coordinates\": [[[-83.07524485424659, 42.31756363136579], [-83.0764371919855, 42.3182024344939], [-83.07643717272059, 42.3182033673796], [-83.07554476028521, 42.3186192857882], [-83.07524485424659, 42.31756363136579]]], \"type\": \"Polygon\"}, \"id\": \"282\", \"properties\": {}, \"type\": \"Feature\"}, {\"bbox\": [-83.04648767640741, 42.369872258006296, -83.0431179377754, 42.374881293832296], \"geometry\": {\"coordinates\": [[[-83.0435624363992, 42.369872258006296], [-83.0449432233884, 42.3719561948439], [-83.04573822953292, 42.373215951138604], [-83.04636693073279, 42.3742901647049], [-83.04639724577, 42.3744318558426], [-83.04648767640741, 42.374881293832296], [-83.0431179377754, 42.3700643198571], [-83.0435624363992, 42.369872258006296]]], \"type\": \"Polygon\"}, \"id\": \"283\", \"properties\": {}, \"type\": \"Feature\"}, {\"bbox\": [-83.09261600384941, 42.3410593650217, -83.0913103514545, 42.343945074628294], \"geometry\": {\"coordinates\": [[[-83.0918869145922, 42.3410593650217], [-83.09261600384941, 42.343945074628294], [-83.09241221358059, 42.3435980328352], [-83.0919404409528, 42.3427868088306], [-83.0913103514545, 42.3415768235068], [-83.0918869145922, 42.3410593650217]]], \"type\": \"Polygon\"}, \"id\": \"284\", \"properties\": {}, \"type\": \"Feature\"}, {\"bbox\": [-83.18156910198529, 42.3699024710206, -83.1794393864578, 42.3710200014532], \"geometry\": {\"coordinates\": [[[-83.18156910198529, 42.3699024710206], [-83.1811636753133, 42.3709833088991], [-83.1802599243412, 42.3710200014532], [-83.1794393864578, 42.3699894737709], [-83.18156910198529, 42.3699024710206]]], \"type\": \"Polygon\"}, \"id\": \"285\", \"properties\": {}, \"type\": \"Feature\"}, {\"bbox\": [-83.25935001502191, 42.4428233054197, -83.25883913102, 42.443249964533], \"geometry\": {\"coordinates\": [[[-83.2588573821854, 42.4428233054197], [-83.25935001502191, 42.443249964533], [-83.2588500728535, 42.4432347195444], [-83.25883913102, 42.443224925406], [-83.2588573821854, 42.4428233054197]]], \"type\": \"Polygon\"}, \"id\": \"286\", \"properties\": {}, \"type\": \"Feature\"}, {\"bbox\": [-83.26114116522871, 42.378797385718705, -83.2610667435681, 42.378948664935], \"geometry\": {\"coordinates\": [[[-83.26114116522871, 42.378797385718705], [-83.26107185951109, 42.378948664935], [-83.2610667435681, 42.37881954890079], [-83.26114116522871, 42.378797385718705]]], \"type\": \"Polygon\"}, \"id\": \"287\", \"properties\": {}, \"type\": \"Feature\"}, {\"bbox\": [-83.0478652991533, 42.365901675896296, -83.04765646438631, 42.3659877194755], \"geometry\": {\"coordinates\": [[[-83.0478544260269, 42.365901675896296], [-83.0478652991533, 42.365912532966], [-83.04765646438631, 42.3659877194755], [-83.0478544260269, 42.365901675896296]]], \"type\": \"Polygon\"}, \"id\": \"288\", \"properties\": {}, \"type\": \"Feature\"}, {\"bbox\": [-83.08662466954429, 42.3693048677529, -83.08635269375141, 42.3699341425862], \"geometry\": {\"coordinates\": [[-83.08662466954429, 42.3693048677529], [-83.08635269375141, 42.3699341425862]], \"type\": \"LineString\"}, \"id\": \"289\", \"properties\": {}, \"type\": \"Feature\"}, {\"bbox\": [-83.0479030568997, 42.371411647142104, -83.0471236287934, 42.3727097387257], \"geometry\": {\"coordinates\": [[[-83.0471236287934, 42.371411647142104], [-83.0479030568997, 42.3727097387257], [-83.0475408163375, 42.372336732902205], [-83.0471236287934, 42.371411647142104]]], \"type\": \"Polygon\"}, \"id\": \"290\", \"properties\": {}, \"type\": \"Feature\"}, {\"bbox\": [-83.0336430233374, 42.3374867704094, -83.0329700610682, 42.3385129156617], \"geometry\": {\"coordinates\": [[[-83.0336430233374, 42.3374867704094], [-83.0329700610682, 42.3385129156617], [-83.0333480668438, 42.3376143523448], [-83.0334800894688, 42.3374947911014], [-83.0336430233374, 42.3374867704094]]], \"type\": \"Polygon\"}, \"id\": \"291\", \"properties\": {}, \"type\": \"Feature\"}, {\"bbox\": [-83.08002423789179, 42.3569516386591, -83.0787812428472, 42.358066822826], \"geometry\": {\"coordinates\": [[[-83.07939596958241, 42.3569516386591], [-83.07974261896591, 42.357188241626396], [-83.0800107749165, 42.3580018743926], [-83.08002423789179, 42.358066822826], [-83.0787812428472, 42.357333769869896], [-83.07939596958241, 42.3569516386591]]], \"type\": \"Polygon\"}, \"id\": \"292\", \"properties\": {}, \"type\": \"Feature\"}, {\"bbox\": [-83.0538786013047, 42.374385774374396, -83.0528948701526, 42.3746984862011], \"geometry\": {\"coordinates\": [[[-83.0538786013047, 42.374385774374396], [-83.0538783202865, 42.374399136525504], [-83.0528948701526, 42.3746984862011], [-83.05358869154641, 42.3744431288508], [-83.0538786013047, 42.374385774374396]]], \"type\": \"Polygon\"}, \"id\": \"293\", \"properties\": {}, \"type\": \"Feature\"}, {\"bbox\": [-83.11186738779641, 42.3007124304697, -83.110693579005, 42.3008061940816], \"geometry\": {\"coordinates\": [[-83.110693579005, 42.3008061940816], [-83.11186738779641, 42.3007124304697]], \"type\": \"LineString\"}, \"id\": \"294\", \"properties\": {}, \"type\": \"Feature\"}, {\"bbox\": [-83.05865914667241, 42.364936315448, -83.05616989087841, 42.3690357747454], \"geometry\": {\"coordinates\": [[[-83.0562459489795, 42.364936315448], [-83.05865914667241, 42.368278049471996], [-83.0584508182362, 42.3690357747454], [-83.05785130425409, 42.368856926095], [-83.05616989087841, 42.366620355688205], [-83.0561698943342, 42.366620191062005], [-83.0562459489795, 42.364936315448]]], \"type\": \"Polygon\"}, \"id\": \"295\", \"properties\": {}, \"type\": \"Feature\"}, {\"bbox\": [-83.1483078280495, 42.4459582233998, -83.147689281162, 42.4459855091416], \"geometry\": {\"coordinates\": [[[-83.147689281162, 42.4459582233998], [-83.1483078280495, 42.445972209808005], [-83.1480483319905, 42.4459778534083], [-83.1476924532292, 42.4459855091416], [-83.147689281162, 42.4459582233998]]], \"type\": \"Polygon\"}, \"id\": \"296\", \"properties\": {}, \"type\": \"Feature\"}, {\"bbox\": [-83.2531481898578, 42.443411587583206, -83.2518136529595, 42.443446861450795], \"geometry\": {\"coordinates\": [[-83.2518136529595, 42.443446861450795], [-83.2531481898578, 42.443411587583206]], \"type\": \"LineString\"}, \"id\": \"297\", \"properties\": {}, \"type\": \"Feature\"}, {\"bbox\": [-83.10097564436741, 42.3255951629581, -83.0996029849992, 42.3273933384989], \"geometry\": {\"coordinates\": [[[-83.0996029849992, 42.3255951629581], [-83.10097564436741, 42.3273933384989], [-83.10044814697021, 42.326777396757706], [-83.0998439371012, 42.325932507621204], [-83.0996029849992, 42.3255951629581]]], \"type\": \"Polygon\"}, \"id\": \"298\", \"properties\": {}, \"type\": \"Feature\"}, {\"bbox\": [-83.0032313088013, 42.4488615601646, -83.0026967905891, 42.448902050503996], \"geometry\": {\"coordinates\": [[[-83.0032313088013, 42.4488615601646], [-83.0026967905891, 42.448902050503996], [-83.00269680739609, 42.448901282258205], [-83.0032313088013, 42.4488615601646]]], \"type\": \"Polygon\"}, \"id\": \"299\", \"properties\": {}, \"type\": \"Feature\"}, {\"bbox\": [-83.1061142573075, 42.3055094917113, -83.1050125680842, 42.3059304980481], \"geometry\": {\"coordinates\": [[[-83.1050125680842, 42.3055094917113], [-83.1061142573075, 42.305513426297004], [-83.10526694216449, 42.305912154501], [-83.1051593520728, 42.3059304980481], [-83.1050125680842, 42.3055094917113]]], \"type\": \"Polygon\"}, \"id\": \"300\", \"properties\": {}, \"type\": \"Feature\"}, {\"bbox\": [-83.0827174018811, 42.3125733332168, -83.0826769551289, 42.3138218622029], \"geometry\": {\"coordinates\": [[-83.0827174018811, 42.3125733332168], [-83.0826769551289, 42.3138218622029]], \"type\": \"LineString\"}, \"id\": \"301\", \"properties\": {}, \"type\": \"Feature\"}, {\"bbox\": [-83.23175615584151, 42.3820047242177, -83.23175614935559, 42.382005080918496], \"geometry\": {\"coordinates\": [[-83.23175615584151, 42.3820047242177], [-83.23175614935559, 42.382005080918496]], \"type\": \"LineString\"}, \"id\": \"302\", \"properties\": {}, \"type\": \"Feature\"}, {\"bbox\": [-83.1321584888024, 42.3218550492345, -83.1309283832917, 42.3234308080339], \"geometry\": {\"coordinates\": [[[-83.1309283832917, 42.3218550492345], [-83.1321584888024, 42.3234222106969], [-83.1321213363819, 42.3234308080339], [-83.1309283832917, 42.3218550492345]]], \"type\": \"Polygon\"}, \"id\": \"303\", \"properties\": {}, \"type\": \"Feature\"}, {\"bbox\": [-83.1806824684769, 42.358519234404, -83.1796941445109, 42.3585373082556], \"geometry\": {\"coordinates\": [[[-83.1806824684769, 42.358519234404], [-83.1806787657833, 42.3585193603802], [-83.1796941445109, 42.3585373082556], [-83.1806824684769, 42.358519234404]]], \"type\": \"Polygon\"}, \"id\": \"304\", \"properties\": {}, \"type\": \"Feature\"}, {\"bbox\": [-83.0052453476689, 42.4474823019554, -83.0048662032474, 42.4488320045621], \"geometry\": {\"coordinates\": [[[-83.0052069618071, 42.4474823019554], [-83.0052453476689, 42.4487791046081], [-83.00518517984399, 42.4488191940215], [-83.0048662032474, 42.4488320045621], [-83.0052069618071, 42.4474823019554]]], \"type\": \"Polygon\"}, \"id\": \"305\", \"properties\": {}, \"type\": \"Feature\"}, {\"bbox\": [-83.031771947301, 42.4153403069566, -83.030966789992, 42.4169643095864], \"geometry\": {\"coordinates\": [[[-83.031771947301, 42.4153403069566], [-83.030966789992, 42.4169643095864], [-83.0309670173584, 42.4169536912613], [-83.0314947428828, 42.415832421725], [-83.031771947301, 42.4153403069566]]], \"type\": \"Polygon\"}, \"id\": \"306\", \"properties\": {}, \"type\": \"Feature\"}, {\"bbox\": [-83.0354635109433, 42.42337526959321, -83.03523743462979, 42.4233807717721], \"geometry\": {\"coordinates\": [[-83.03523743462979, 42.4233807717721], [-83.0354635109433, 42.42337526959321]], \"type\": \"LineString\"}, \"id\": \"307\", \"properties\": {}, \"type\": \"Feature\"}, {\"bbox\": [-83.0571280541159, 42.3685311224296, -83.05514161913321, 42.3714011564132], \"geometry\": {\"coordinates\": [[[-83.05514161913321, 42.3685311224296], [-83.05626004916591, 42.3693776594527], [-83.0571280541159, 42.3714011564132], [-83.0560898621295, 42.3699036692727], [-83.05514161913321, 42.3685311224296]]], \"type\": \"Polygon\"}, \"id\": \"308\", \"properties\": {}, \"type\": \"Feature\"}, {\"bbox\": [-83.0322464405834, 42.380519644085204, -83.0316288038734, 42.3813593476346], \"geometry\": {\"coordinates\": [[[-83.0322464405834, 42.380519644085204], [-83.0320266964702, 42.3811018206257], [-83.0316288038734, 42.3813593476346], [-83.0318945821883, 42.380875031015], [-83.0322464405834, 42.380519644085204]]], \"type\": \"Polygon\"}, \"id\": \"309\", \"properties\": {}, \"type\": \"Feature\"}, {\"bbox\": [-83.102876021732, 42.4469881775791, -83.1028760183951, 42.446988342206296], \"geometry\": {\"coordinates\": [[-83.102876021732, 42.4469881775791], [-83.1028760183951, 42.446988342206296]], \"type\": \"LineString\"}, \"id\": \"310\", \"properties\": {}, \"type\": \"Feature\"}, {\"bbox\": [-83.2764636935655, 42.4000743006547, -83.2742419794357, 42.400105653360896], \"geometry\": {\"coordinates\": [[[-83.2764636935655, 42.4000743006547], [-83.2752190351615, 42.400105653360896], [-83.2742419794357, 42.400079383211896], [-83.2764636935655, 42.4000743006547]]], \"type\": \"Polygon\"}, \"id\": \"311\", \"properties\": {}, \"type\": \"Feature\"}, {\"bbox\": [-83.043026470143, 42.4190633550994, -83.0383386859487, 42.420026645725], \"geometry\": {\"coordinates\": [[[-83.043026470143, 42.4190633550994], [-83.0417096148205, 42.420026645725], [-83.0383386859487, 42.419168757750896], [-83.0383387099045, 42.4191676328105], [-83.0390730215195, 42.4191243453179], [-83.043026470143, 42.4190633550994]]], \"type\": \"Polygon\"}, \"id\": \"312\", \"properties\": {}, \"type\": \"Feature\"}, {\"bbox\": [-83.16599088180209, 42.2883549827524, -83.16534181948141, 42.289625206294495], \"geometry\": {\"coordinates\": [[-83.16599088180209, 42.2883549827524], [-83.16534181948141, 42.289625206294495]], \"type\": \"LineString\"}, \"id\": \"313\", \"properties\": {}, \"type\": \"Feature\"}, {\"bbox\": [-83.03758592878, 42.3974788685349, -83.0342819309445, 42.39757605394979], \"geometry\": {\"coordinates\": [[[-83.03758592878, 42.3974788685349], [-83.0360997247831, 42.3975454202986], [-83.0349808525118, 42.39757605394979], [-83.0342928329991, 42.3975439712566], [-83.0342819309445, 42.3975343201478], [-83.03758592878, 42.3974788685349]]], \"type\": \"Polygon\"}, \"id\": \"314\", \"properties\": {}, \"type\": \"Feature\"}, {\"bbox\": [-82.96270425984909, 42.3594590150135, -82.9621247260258, 42.360346120988396], \"geometry\": {\"coordinates\": [[-82.9621247260258, 42.3594590150135], [-82.96270425984909, 42.360346120988396]], \"type\": \"LineString\"}, \"id\": \"315\", \"properties\": {}, \"type\": \"Feature\"}, {\"bbox\": [-83.1568053510277, 42.333448107470495, -83.1568017390562, 42.3334525918908], \"geometry\": {\"coordinates\": [[-83.1568053510277, 42.3334525918908], [-83.1568017390562, 42.333448107470495]], \"type\": \"LineString\"}, \"id\": \"316\", \"properties\": {}, \"type\": \"Feature\"}, {\"bbox\": [-82.9706611220578, 42.3596540375968, -82.969997752761, 42.359863185194605], \"geometry\": {\"coordinates\": [[-82.969997752761, 42.359863185194605], [-82.9706611220578, 42.3596540375968]], \"type\": \"LineString\"}, \"id\": \"317\", \"properties\": {}, \"type\": \"Feature\"}, {\"bbox\": [-83.04867846187629, 42.3628053921279, -83.046586310584, 42.363566430958706], \"geometry\": {\"coordinates\": [[[-83.04867846187629, 42.3628053921279], [-83.04774509489671, 42.3631938674018], [-83.046586310584, 42.363566430958706], [-83.04867846187629, 42.3628053921279]]], \"type\": \"Polygon\"}, \"id\": \"318\", \"properties\": {}, \"type\": \"Feature\"}, {\"bbox\": [-83.2269802488107, 42.3818340253618, -83.2269582153016, 42.3818439694866], \"geometry\": {\"coordinates\": [[[-83.2269582153016, 42.3818340253618], [-83.2269802488107, 42.3818436870757], [-83.2269728403433, 42.3818439694866], [-83.2269582153016, 42.3818340253618]]], \"type\": \"Polygon\"}, \"id\": \"319\", \"properties\": {}, \"type\": \"Feature\"}, {\"bbox\": [-83.03450510026491, 42.3855104817544, -83.0325164951238, 42.385549709024794], \"geometry\": {\"coordinates\": [[[-83.0344793924826, 42.3855104817544], [-83.03450510026491, 42.385520141892], [-83.0336974353875, 42.3855496079636], [-83.0325164951238, 42.385549709024794], [-83.0344793924826, 42.3855104817544]]], \"type\": \"Polygon\"}, \"id\": \"320\", \"properties\": {}, \"type\": \"Feature\"}, {\"bbox\": [-83.10705561808341, 42.302009960394294, -83.1065731094588, 42.302649471607296], \"geometry\": {\"coordinates\": [[-83.10705561808341, 42.302649471607296], [-83.1065731094588, 42.302009960394294]], \"type\": \"LineString\"}, \"id\": \"321\", \"properties\": {}, \"type\": \"Feature\"}, {\"bbox\": [-83.1066896127642, 42.295314562610294, -83.105253716819, 42.296963489739596], \"geometry\": {\"coordinates\": [[[-83.1066896127642, 42.295314562610294], [-83.1065935268717, 42.296963489739596], [-83.105253716819, 42.295943947244396], [-83.1066896127642, 42.295314562610294]]], \"type\": \"Polygon\"}, \"id\": \"322\", \"properties\": {}, \"type\": \"Feature\"}, {\"bbox\": [-83.23669031801579, 42.3785172193986, -83.234088557758, 42.3813002566685], \"geometry\": {\"coordinates\": [[[-83.234088557758, 42.3785172193986], [-83.2365910914413, 42.3787022583262], [-83.23669031801579, 42.381195224125904], [-83.2366551019622, 42.3813002566685], [-83.2341719591227, 42.3790207063508], [-83.234088557758, 42.3785172193986]]], \"type\": \"Polygon\"}, \"id\": \"323\", \"properties\": {}, \"type\": \"Feature\"}, {\"bbox\": [-83.0094900059444, 42.409212626154996, -83.00949000415379, 42.4092127084673], \"geometry\": {\"coordinates\": [[-83.00949000415379, 42.4092127084673], [-83.0094900059444, 42.409212626154996]], \"type\": \"LineString\"}, \"id\": \"324\", \"properties\": {}, \"type\": \"Feature\"}, {\"bbox\": [-83.04277939999692, 42.35234173609879, -83.0407519404353, 42.354264762522504], \"geometry\": {\"coordinates\": [[[-83.042372475172, 42.35234173609879], [-83.04277939999692, 42.3533925274417], [-83.04076653166109, 42.354264762522504], [-83.0407519404353, 42.354254904186796], [-83.042372475172, 42.35234173609879]]], \"type\": \"Polygon\"}, \"id\": \"325\", \"properties\": {}, \"type\": \"Feature\"}, {\"bbox\": [-83.1786392888317, 42.3879929099331, -83.178493211793, 42.3898619579118], \"geometry\": {\"coordinates\": [[[-83.17851938216991, 42.3879929099331], [-83.1785303085022, 42.3880023551187], [-83.1786392888317, 42.3898619579118], [-83.178493211793, 42.3880063580006], [-83.17851938216991, 42.3879929099331]]], \"type\": \"Polygon\"}, \"id\": \"326\", \"properties\": {}, \"type\": \"Feature\"}, {\"bbox\": [-83.1411219030207, 42.291798757380796, -83.1411073137849, 42.2918092887658], \"geometry\": {\"coordinates\": [[[-83.1411073137849, 42.291798757380796], [-83.1411219030207, 42.291808767441296], [-83.14112189279899, 42.2918092887658], [-83.1411073137849, 42.291798757380796]]], \"type\": \"Polygon\"}, \"id\": \"327\", \"properties\": {}, \"type\": \"Feature\"}, {\"bbox\": [-83.05353072704129, 42.3764479114581, -83.0526729770063, 42.3775504493185], \"geometry\": {\"coordinates\": [[[-83.0526729770063, 42.3764479114581], [-83.05353072704129, 42.3775504493185], [-83.05282153446059, 42.377127588543], [-83.0526729770063, 42.3764479114581]]], \"type\": \"Polygon\"}, \"id\": \"328\", \"properties\": {}, \"type\": \"Feature\"}, {\"bbox\": [-83.0393012362955, 42.44460464676521, -83.0393012362955, 42.44460464676521], \"geometry\": {\"coordinates\": [-83.0393012362955, 42.44460464676521], \"type\": \"Point\"}, \"id\": \"329\", \"properties\": {}, \"type\": \"Feature\"}, {\"bbox\": [-83.136978400166, 42.2934927951825, -83.13640541430371, 42.2936822005945], \"geometry\": {\"coordinates\": [[[-83.136978400166, 42.2934927951825], [-83.13640541430371, 42.2936822005945], [-83.1364054159239, 42.2936821182801], [-83.136978400166, 42.2934927951825]]], \"type\": \"Polygon\"}, \"id\": \"330\", \"properties\": {}, \"type\": \"Feature\"}, {\"bbox\": [-83.0362665563737, 42.419243670369895, -83.03559209425491, 42.4192593457328], \"geometry\": {\"coordinates\": [[-83.0362665563737, 42.419243670369895], [-83.03559209425491, 42.4192593457328]], \"type\": \"LineString\"}, \"id\": \"331\", \"properties\": {}, \"type\": \"Feature\"}, {\"bbox\": [-83.1478933661833, 42.372319463337895, -83.1478577502062, 42.3736697349007], \"geometry\": {\"coordinates\": [[[-83.1478577502062, 42.372319463337895], [-83.1478933661833, 42.3733387825651], [-83.147868398458, 42.3736697349007], [-83.14786598696591, 42.373603679006], [-83.1478577502062, 42.372319463337895]]], \"type\": \"Polygon\"}, \"id\": \"332\", \"properties\": {}, \"type\": \"Feature\"}, {\"bbox\": [-83.1218893382519, 42.3233767155825, -83.11986433401009, 42.325172597796396], \"geometry\": {\"coordinates\": [[[-83.1218893382519, 42.3233767155825], [-83.1209141701339, 42.325172597796396], [-83.11986433401009, 42.323665117658294], [-83.1218893382519, 42.3233767155825]]], \"type\": \"Polygon\"}, \"id\": \"333\", \"properties\": {}, \"type\": \"Feature\"}, {\"bbox\": [-83.0126607938505, 42.411924309479396, -83.01206055515429, 42.4125949366607], \"geometry\": {\"coordinates\": [[[-83.01206055515429, 42.411924309479396], [-83.0120751595034, 42.411933979427296], [-83.0126607938505, 42.4125949366607], [-83.01206055515429, 42.411924309479396]]], \"type\": \"Polygon\"}, \"id\": \"334\", \"properties\": {}, \"type\": \"Feature\"}, {\"bbox\": [-83.04435181177558, 42.3644062133663, -83.04435181177558, 42.3644062133663], \"geometry\": {\"coordinates\": [-83.04435181177558, 42.3644062133663], \"type\": \"Point\"}, \"id\": \"335\", \"properties\": {}, \"type\": \"Feature\"}, {\"bbox\": [-83.12579980827441, 42.2976106795595, -83.1245548991803, 42.2981239757392], \"geometry\": {\"coordinates\": [[[-83.12579980827441, 42.2976106795595], [-83.1248156791449, 42.2980229836455], [-83.1245548991803, 42.2981239757392], [-83.12579980827441, 42.2976106795595]]], \"type\": \"Polygon\"}, \"id\": \"336\", \"properties\": {}, \"type\": \"Feature\"}, {\"bbox\": [-83.27853766364609, 42.4427261870102, -83.27830029543671, 42.442739529647206], \"geometry\": {\"coordinates\": [[[-83.27853766364609, 42.4427261870102], [-83.27830029543671, 42.442739529647206], [-83.2783003026206, 42.4427391180672], [-83.27853766364609, 42.4427261870102]]], \"type\": \"Polygon\"}, \"id\": \"337\", \"properties\": {}, \"type\": \"Feature\"}, {\"bbox\": [-83.13768110187951, 42.3211091203103, -83.13768108352821, 42.321110053206205], \"geometry\": {\"coordinates\": [[-83.13768110187951, 42.3211091203103], [-83.13768108352821, 42.321110053206205]], \"type\": \"LineString\"}, \"id\": \"338\", \"properties\": {}, \"type\": \"Feature\"}, {\"bbox\": [-83.0547366665304, 42.370873123231505, -83.05471490116359, 42.370894122673896], \"geometry\": {\"coordinates\": [[-83.05471490116359, 42.370873123231505], [-83.0547366665304, 42.370894122673896]], \"type\": \"LineString\"}, \"id\": \"339\", \"properties\": {}, \"type\": \"Feature\"}, {\"bbox\": [-83.14374759460529, 42.2898689955067, -83.14263056930791, 42.2912146828078], \"geometry\": {\"coordinates\": [[[-83.14364012638141, 42.2898689955067], [-83.14374759460529, 42.2907994884901], [-83.1437475881635, 42.290799817747796], [-83.1437475811848, 42.2908001744437], [-83.14263056930791, 42.2912146828078], [-83.14364012638141, 42.2898689955067]]], \"type\": \"Polygon\"}, \"id\": \"340\", \"properties\": {}, \"type\": \"Feature\"}], \"type\": \"FeatureCollection\"}, \"hovertemplate\": \"index=%{location}<br>inj/inc=%{z}<extra></extra>\", \"locations\": [0, 1, 2, 3, 4, 5, 6, 7, 8, 9, 10, 11, 12, 13, 14, 15, 16, 17, 18, 19, 20, 21, 22, 23, 24, 25, 26, 27, 28, 29, 30, 31, 32, 33, 34, 35, 36, 37, 38, 39, 40, 41, 42, 43, 44, 45, 46, 47, 48, 49, 50, 51, 52, 53, 54, 55, 56, 57, 58, 59, 60, 61, 62, 63, 64, 65, 66, 67, 68, 69, 70, 71, 72, 73, 74, 75, 76, 77, 78, 79, 80, 81, 82, 83, 84, 85, 86, 87, 88, 89, 90, 91, 92, 93, 94, 95, 96, 97, 98, 99, 100, 101, 102, 103, 104, 105, 106, 107, 108, 109, 110, 111, 112, 113, 114, 115, 116, 117, 118, 119, 120, 121, 122, 123, 124, 125, 126, 127, 128, 129, 130, 131, 132, 133, 134, 135, 136, 137, 138, 139, 140, 141, 142, 143, 144, 145, 146, 147, 148, 149, 150, 151, 152, 153, 154, 155, 156, 157, 158, 159, 160, 161, 162, 163, 164, 165, 166, 167, 168, 169, 170, 171, 172, 173, 174, 175, 176, 177, 178, 179, 180, 181, 182, 183, 184, 185, 186, 187, 188, 189, 190, 191, 192, 193, 194, 195, 196, 197, 198, 199, 200, 201, 202, 203, 204, 205, 206, 207, 208, 209, 210, 211, 212, 213, 214, 215, 216, 217, 218, 219, 220, 221, 222, 223, 224, 225, 226, 227, 228, 229, 230, 231, 232, 233, 234, 235, 236, 237, 238, 239, 240, 241, 242, 243, 244, 245, 246, 247, 248, 249, 250, 251, 252, 253, 254, 255, 256, 257, 258, 259, 260, 261, 262, 263, 264, 265, 266, 267, 268, 269, 270, 271, 272, 273, 274, 275, 276, 277, 278, 279, 280, 281, 282, 283, 284, 285, 286, 287, 288, 289, 290, 291, 292, 293, 294, 295, 296, 297, 298, 299, 300, 301, 302, 303, 304, 305, 306, 307, 308, 309, 310, 311, 312, 313, 314, 315, 316, 317, 318, 319, 320, 321, 322, 323, 324, 325, 326, 327, 328, 329, 330, 331, 332, 333, 334, 335, 336, 337, 338, 339, 340], \"marker\": {\"opacity\": 0.6}, \"name\": \"\", \"subplot\": \"mapbox\", \"type\": \"choroplethmapbox\", \"z\": [0.011266511266511266, 0.007749207467418105, 0.021164021164021163, 0.013105952944891837, 0.009689922480620155, 0.02112676056338028, 0.009357811272233731, 0.012848671205798374, 0.009433962264150943, 0.022058823529411766, 0.011876484560570071, 0.006224066390041493, 0.0, 0.025157232704402517, 0.0, 0.013039117352056168, 0.0, 0.012178619756427604, 0.0, 0.0, 0.0, 0.01155115511551155, 0.0, 0.005847953216374269, 0.0, 0.01588271227855834, 0.017543859649122806, 0.010917030567685589, 0.006289308176100629, 0.014084507042253521, 0.01639344262295082, 0.015873015873015872, 0.008517887563884156, 0.0, 0.01098901098901099, 0.002881844380403458, 0.0, 0.0, 0.023255813953488372, 0.0, 0.017830609212481426, 0.0, 0.0, 0.0, 0.0, 0.0, 0.0, 0.007633587786259542, 0.0, 0.0, 0.003003003003003003, 0.1111111111111111, 0.010309278350515464, 0.0, 0.015555555555555555, 0.023255813953488372, 0.0, 0.0, 0.0, 0.0, 0.0, 0.0, 0.008771929824561403, 0.006622516556291391, 0.041666666666666664, 0.0, 0.006711409395973154, 0.0, 0.005988023952095809, 0.0, 0.014084507042253521, 0.0, 0.0, 0.14285714285714285, 0.0196078431372549, 0.014084507042253521, 0.0, 0.0, 0.0, 0.0125, 0.0, 0.08333333333333333, 0.0, 0.0, 0.03773584905660377, 0.0, 0.04081632653061224, 0.0, 0.0, 0.0, 0.013333333333333334, 0.0, 0.0033112582781456954, 0.0, 0.0, 0.0, 0.0, 0.0, 0.0, 0.0, 0.0, 0.0, 0.0, 0.07142857142857142, 0.0, 0.0, 0.0, 0.0, 0.0, 0.0273972602739726, 0.0, 0.0, 0.0, 0.0, 0.0, 0.0, 0.0, 0.022727272727272728, 0.0, 0.0, 0.02631578947368421, 0.0, 0.0, 0.0, 0.011363636363636364, 0.0, 0.0, 0.0, 0.0, 0.0, 0.0, 0.013888888888888888, 0.0, 0.010309278350515464, 0.0, 0.0, 0.0, 0.0, 0.03225806451612903, 0.0, 0.0, 0.0, 0.0, 0.0, 0.0, 0.05263157894736842, 0.0, 0.0, 0.0, 0.0273972602739726, 0.02040816326530612, 0.0, 0.0, 0.0, 0.0, 0.125, 0.0, 0.06666666666666667, 0.0, 0.06896551724137931, 0.0, 0.047619047619047616, 0.0, 0.0, 0.0, 0.0297029702970297, 0.03225806451612903, 0.0, 0.0, 0.0, 0.0, 0.0, 0.0, 0.0, 0.05263157894736842, 0.0, 0.0, 0.0, 0.06666666666666667, 0.011235955056179775, 0.047619047619047616, 0.034482758620689655, 0.0, 0.0, 0.0, 0.041666666666666664, 0.0, 0.0, 0.0, 0.09523809523809523, 0.0, 0.0, 0.0, 0.0, 0.0, 0.0, 0.0, 0.0, 0.0, 0.0, 0.0, 0.0, 0.0, 0.0, 0.0, 0.0, 0.0, 0.03571428571428571, 0.0, 0.041666666666666664, 0.0, 0.0, 0.0, 0.0, 0.0, 0.0, 0.0, 0.0, 0.0, 0.0, 0.0, 0.02127659574468085, 0.0, 0.0, 0.05555555555555555, 0.021739130434782608, 0.0, 0.0, 0.0, 0.0, 0.0, 0.06666666666666667, 0.0, 0.0, 0.0, 0.0, 0.0, 0.0, 0.0, 0.0, 0.0, 0.0, 0.0, 0.0, 0.0, 0.0, 0.0, 0.0, 0.0, 0.0, 0.0, 0.0, 0.0, 0.0, 0.0, 0.0, 0.0, 0.0, 0.0, 0.0, 0.0, 0.07692307692307693, 0.14285714285714285, 0.0, 0.0, 0.0, 0.0, 0.0, 0.0, 0.0, 0.0, 0.0, 0.1, 0.0, 0.0, 0.0, 0.0, 0.0, 0.0, 0.0, 0.0, 0.0, 0.0, 0.0, 0.09090909090909091, 0.06666666666666667, 0.0, 0.06666666666666667, 0.0, 0.0, 0.16666666666666666, 0.0, 0.0, 0.0, 0.0, 0.0, 0.0, 0.0, 0.0, 0.0, 0.0, 0.0, 0.0, 0.0, 0.0, 0.0, 0.0, 0.0, 0.0, 0.0, 0.0, 0.0, 0.14285714285714285, 0.0, 0.0625, 0.0, 0.0, 0.0, 0.0, 0.0, 0.0, 0.0, 0.0, 0.0, 0.0, 0.0, 0.0, 0.0, 0.0, 0.0, 0.0, 0.0, 0.0, 0.0, 0.0, 0.0, 0.0, 0.0, 0.0, 0.0, 0.0]}],                        {\"coloraxis\": {\"colorbar\": {\"title\": {\"text\": \"inj/inc\"}}, \"colorscale\": [[0, \"white\"], [1, \"red\"]]}, \"legend\": {\"tracegroupgap\": 0}, \"mapbox\": {\"center\": {\"lat\": 42.33, \"lon\": -83.05}, \"domain\": {\"x\": [0.0, 1.0], \"y\": [0.0, 1.0]}, \"style\": \"open-street-map\", \"zoom\": 9}, \"margin\": {\"t\": 60}, \"template\": {\"data\": {\"bar\": [{\"error_x\": {\"color\": \"#2a3f5f\"}, \"error_y\": {\"color\": \"#2a3f5f\"}, \"marker\": {\"line\": {\"color\": \"#E5ECF6\", \"width\": 0.5}}, \"type\": \"bar\"}], \"barpolar\": [{\"marker\": {\"line\": {\"color\": \"#E5ECF6\", \"width\": 0.5}}, \"type\": \"barpolar\"}], \"carpet\": [{\"aaxis\": {\"endlinecolor\": \"#2a3f5f\", \"gridcolor\": \"white\", \"linecolor\": \"white\", \"minorgridcolor\": \"white\", \"startlinecolor\": \"#2a3f5f\"}, \"baxis\": {\"endlinecolor\": \"#2a3f5f\", \"gridcolor\": \"white\", \"linecolor\": \"white\", \"minorgridcolor\": \"white\", \"startlinecolor\": \"#2a3f5f\"}, \"type\": \"carpet\"}], \"choropleth\": [{\"colorbar\": {\"outlinewidth\": 0, \"ticks\": \"\"}, \"type\": \"choropleth\"}], \"contour\": [{\"colorbar\": {\"outlinewidth\": 0, \"ticks\": \"\"}, \"colorscale\": [[0.0, \"#0d0887\"], [0.1111111111111111, \"#46039f\"], [0.2222222222222222, \"#7201a8\"], [0.3333333333333333, \"#9c179e\"], [0.4444444444444444, \"#bd3786\"], [0.5555555555555556, \"#d8576b\"], [0.6666666666666666, \"#ed7953\"], [0.7777777777777778, \"#fb9f3a\"], [0.8888888888888888, \"#fdca26\"], [1.0, \"#f0f921\"]], \"type\": \"contour\"}], \"contourcarpet\": [{\"colorbar\": {\"outlinewidth\": 0, \"ticks\": \"\"}, \"type\": \"contourcarpet\"}], \"heatmap\": [{\"colorbar\": {\"outlinewidth\": 0, \"ticks\": \"\"}, \"colorscale\": [[0.0, \"#0d0887\"], [0.1111111111111111, \"#46039f\"], [0.2222222222222222, \"#7201a8\"], [0.3333333333333333, \"#9c179e\"], [0.4444444444444444, \"#bd3786\"], [0.5555555555555556, \"#d8576b\"], [0.6666666666666666, \"#ed7953\"], [0.7777777777777778, \"#fb9f3a\"], [0.8888888888888888, \"#fdca26\"], [1.0, \"#f0f921\"]], \"type\": \"heatmap\"}], \"heatmapgl\": [{\"colorbar\": {\"outlinewidth\": 0, \"ticks\": \"\"}, \"colorscale\": [[0.0, \"#0d0887\"], [0.1111111111111111, \"#46039f\"], [0.2222222222222222, \"#7201a8\"], [0.3333333333333333, \"#9c179e\"], [0.4444444444444444, \"#bd3786\"], [0.5555555555555556, \"#d8576b\"], [0.6666666666666666, \"#ed7953\"], [0.7777777777777778, \"#fb9f3a\"], [0.8888888888888888, \"#fdca26\"], [1.0, \"#f0f921\"]], \"type\": \"heatmapgl\"}], \"histogram\": [{\"marker\": {\"colorbar\": {\"outlinewidth\": 0, \"ticks\": \"\"}}, \"type\": \"histogram\"}], \"histogram2d\": [{\"colorbar\": {\"outlinewidth\": 0, \"ticks\": \"\"}, \"colorscale\": [[0.0, \"#0d0887\"], [0.1111111111111111, \"#46039f\"], [0.2222222222222222, \"#7201a8\"], [0.3333333333333333, \"#9c179e\"], [0.4444444444444444, \"#bd3786\"], [0.5555555555555556, \"#d8576b\"], [0.6666666666666666, \"#ed7953\"], [0.7777777777777778, \"#fb9f3a\"], [0.8888888888888888, \"#fdca26\"], [1.0, \"#f0f921\"]], \"type\": \"histogram2d\"}], \"histogram2dcontour\": [{\"colorbar\": {\"outlinewidth\": 0, \"ticks\": \"\"}, \"colorscale\": [[0.0, \"#0d0887\"], [0.1111111111111111, \"#46039f\"], [0.2222222222222222, \"#7201a8\"], [0.3333333333333333, \"#9c179e\"], [0.4444444444444444, \"#bd3786\"], [0.5555555555555556, \"#d8576b\"], [0.6666666666666666, \"#ed7953\"], [0.7777777777777778, \"#fb9f3a\"], [0.8888888888888888, \"#fdca26\"], [1.0, \"#f0f921\"]], \"type\": \"histogram2dcontour\"}], \"mesh3d\": [{\"colorbar\": {\"outlinewidth\": 0, \"ticks\": \"\"}, \"type\": \"mesh3d\"}], \"parcoords\": [{\"line\": {\"colorbar\": {\"outlinewidth\": 0, \"ticks\": \"\"}}, \"type\": \"parcoords\"}], \"pie\": [{\"automargin\": true, \"type\": \"pie\"}], \"scatter\": [{\"marker\": {\"colorbar\": {\"outlinewidth\": 0, \"ticks\": \"\"}}, \"type\": \"scatter\"}], \"scatter3d\": [{\"line\": {\"colorbar\": {\"outlinewidth\": 0, \"ticks\": \"\"}}, \"marker\": {\"colorbar\": {\"outlinewidth\": 0, \"ticks\": \"\"}}, \"type\": \"scatter3d\"}], \"scattercarpet\": [{\"marker\": {\"colorbar\": {\"outlinewidth\": 0, \"ticks\": \"\"}}, \"type\": \"scattercarpet\"}], \"scattergeo\": [{\"marker\": {\"colorbar\": {\"outlinewidth\": 0, \"ticks\": \"\"}}, \"type\": \"scattergeo\"}], \"scattergl\": [{\"marker\": {\"colorbar\": {\"outlinewidth\": 0, \"ticks\": \"\"}}, \"type\": \"scattergl\"}], \"scattermapbox\": [{\"marker\": {\"colorbar\": {\"outlinewidth\": 0, \"ticks\": \"\"}}, \"type\": \"scattermapbox\"}], \"scatterpolar\": [{\"marker\": {\"colorbar\": {\"outlinewidth\": 0, \"ticks\": \"\"}}, \"type\": \"scatterpolar\"}], \"scatterpolargl\": [{\"marker\": {\"colorbar\": {\"outlinewidth\": 0, \"ticks\": \"\"}}, \"type\": \"scatterpolargl\"}], \"scatterternary\": [{\"marker\": {\"colorbar\": {\"outlinewidth\": 0, \"ticks\": \"\"}}, \"type\": \"scatterternary\"}], \"surface\": [{\"colorbar\": {\"outlinewidth\": 0, \"ticks\": \"\"}, \"colorscale\": [[0.0, \"#0d0887\"], [0.1111111111111111, \"#46039f\"], [0.2222222222222222, \"#7201a8\"], [0.3333333333333333, \"#9c179e\"], [0.4444444444444444, \"#bd3786\"], [0.5555555555555556, \"#d8576b\"], [0.6666666666666666, \"#ed7953\"], [0.7777777777777778, \"#fb9f3a\"], [0.8888888888888888, \"#fdca26\"], [1.0, \"#f0f921\"]], \"type\": \"surface\"}], \"table\": [{\"cells\": {\"fill\": {\"color\": \"#EBF0F8\"}, \"line\": {\"color\": \"white\"}}, \"header\": {\"fill\": {\"color\": \"#C8D4E3\"}, \"line\": {\"color\": \"white\"}}, \"type\": \"table\"}]}, \"layout\": {\"annotationdefaults\": {\"arrowcolor\": \"#2a3f5f\", \"arrowhead\": 0, \"arrowwidth\": 1}, \"autotypenumbers\": \"strict\", \"coloraxis\": {\"colorbar\": {\"outlinewidth\": 0, \"ticks\": \"\"}}, \"colorscale\": {\"diverging\": [[0, \"#8e0152\"], [0.1, \"#c51b7d\"], [0.2, \"#de77ae\"], [0.3, \"#f1b6da\"], [0.4, \"#fde0ef\"], [0.5, \"#f7f7f7\"], [0.6, \"#e6f5d0\"], [0.7, \"#b8e186\"], [0.8, \"#7fbc41\"], [0.9, \"#4d9221\"], [1, \"#276419\"]], \"sequential\": [[0.0, \"#0d0887\"], [0.1111111111111111, \"#46039f\"], [0.2222222222222222, \"#7201a8\"], [0.3333333333333333, \"#9c179e\"], [0.4444444444444444, \"#bd3786\"], [0.5555555555555556, \"#d8576b\"], [0.6666666666666666, \"#ed7953\"], [0.7777777777777778, \"#fb9f3a\"], [0.8888888888888888, \"#fdca26\"], [1.0, \"#f0f921\"]], \"sequentialminus\": [[0.0, \"#0d0887\"], [0.1111111111111111, \"#46039f\"], [0.2222222222222222, \"#7201a8\"], [0.3333333333333333, \"#9c179e\"], [0.4444444444444444, \"#bd3786\"], [0.5555555555555556, \"#d8576b\"], [0.6666666666666666, \"#ed7953\"], [0.7777777777777778, \"#fb9f3a\"], [0.8888888888888888, \"#fdca26\"], [1.0, \"#f0f921\"]]}, \"colorway\": [\"#636efa\", \"#EF553B\", \"#00cc96\", \"#ab63fa\", \"#FFA15A\", \"#19d3f3\", \"#FF6692\", \"#B6E880\", \"#FF97FF\", \"#FECB52\"], \"font\": {\"color\": \"#2a3f5f\"}, \"geo\": {\"bgcolor\": \"white\", \"lakecolor\": \"white\", \"landcolor\": \"#E5ECF6\", \"showlakes\": true, \"showland\": true, \"subunitcolor\": \"white\"}, \"hoverlabel\": {\"align\": \"left\"}, \"hovermode\": \"closest\", \"mapbox\": {\"style\": \"light\"}, \"paper_bgcolor\": \"white\", \"plot_bgcolor\": \"#E5ECF6\", \"polar\": {\"angularaxis\": {\"gridcolor\": \"white\", \"linecolor\": \"white\", \"ticks\": \"\"}, \"bgcolor\": \"#E5ECF6\", \"radialaxis\": {\"gridcolor\": \"white\", \"linecolor\": \"white\", \"ticks\": \"\"}}, \"scene\": {\"xaxis\": {\"backgroundcolor\": \"#E5ECF6\", \"gridcolor\": \"white\", \"gridwidth\": 2, \"linecolor\": \"white\", \"showbackground\": true, \"ticks\": \"\", \"zerolinecolor\": \"white\"}, \"yaxis\": {\"backgroundcolor\": \"#E5ECF6\", \"gridcolor\": \"white\", \"gridwidth\": 2, \"linecolor\": \"white\", \"showbackground\": true, \"ticks\": \"\", \"zerolinecolor\": \"white\"}, \"zaxis\": {\"backgroundcolor\": \"#E5ECF6\", \"gridcolor\": \"white\", \"gridwidth\": 2, \"linecolor\": \"white\", \"showbackground\": true, \"ticks\": \"\", \"zerolinecolor\": \"white\"}}, \"shapedefaults\": {\"line\": {\"color\": \"#2a3f5f\"}}, \"ternary\": {\"aaxis\": {\"gridcolor\": \"white\", \"linecolor\": \"white\", \"ticks\": \"\"}, \"baxis\": {\"gridcolor\": \"white\", \"linecolor\": \"white\", \"ticks\": \"\"}, \"bgcolor\": \"#E5ECF6\", \"caxis\": {\"gridcolor\": \"white\", \"linecolor\": \"white\", \"ticks\": \"\"}}, \"title\": {\"x\": 0.05}, \"xaxis\": {\"automargin\": true, \"gridcolor\": \"white\", \"linecolor\": \"white\", \"ticks\": \"\", \"title\": {\"standoff\": 15}, \"zerolinecolor\": \"white\", \"zerolinewidth\": 2}, \"yaxis\": {\"automargin\": true, \"gridcolor\": \"white\", \"linecolor\": \"white\", \"ticks\": \"\", \"title\": {\"standoff\": 15}, \"zerolinecolor\": \"white\", \"zerolinewidth\": 2}}}},                        {\"responsive\": true}                    ).then(function(){\n",
       "                            \n",
       "var gd = document.getElementById('711d37df-b3c8-4de3-afa1-a018305cef34');\n",
       "var x = new MutationObserver(function (mutations, observer) {{\n",
       "        var display = window.getComputedStyle(gd).display;\n",
       "        if (!display || display === 'none') {{\n",
       "            console.log([gd, 'removed!']);\n",
       "            Plotly.purge(gd);\n",
       "            observer.disconnect();\n",
       "        }}\n",
       "}});\n",
       "\n",
       "// Listen for the removal of the full notebook cells\n",
       "var notebookContainer = gd.closest('#notebook-container');\n",
       "if (notebookContainer) {{\n",
       "    x.observe(notebookContainer, {childList: true});\n",
       "}}\n",
       "\n",
       "// Listen for the clearing of the current output cell\n",
       "var outputEl = gd.closest('.output');\n",
       "if (outputEl) {{\n",
       "    x.observe(outputEl, {childList: true});\n",
       "}}\n",
       "\n",
       "                        })                };                });            </script>        </div>"
      ],
      "application/vnd.plotly.v1+json": {
       "config": {
        "plotlyServerURL": "https://plot.ly"
       },
       "data": [
        {
         "coloraxis": "coloraxis",
         "geojson": {
          "bbox": [
           -127.914179208738,
           32.0263641962111,
           -82.91056883033009,
           42.4501902822696
          ],
          "features": [
           {
            "bbox": [
             -83.1061940474266,
             42.4166195125974,
             -83.03872387218571,
             42.4477008958908
            ],
            "geometry": {
             "coordinates": [
              [
               [
                -83.0756423643687,
                42.4166195125974
               ],
               [
                -83.0884794886938,
                42.4180793950898
               ],
               [
                -83.095690019033,
                42.424306391167995
               ],
               [
                -83.1055581977073,
                42.4396934817262
               ],
               [
                -83.10617357538399,
                42.4424270652163
               ],
               [
                -83.1061940474266,
                42.442880722591795
               ],
               [
                -83.1040075958298,
                42.444724955437
               ],
               [
                -83.1006917757427,
                42.4468867820732
               ],
               [
                -83.04617976976671,
                42.4477008958908
               ],
               [
                -83.0403661941075,
                42.4365218679237
               ],
               [
                -83.0389483522591,
                42.4336821371248
               ],
               [
                -83.03872387218571,
                42.429261297614296
               ],
               [
                -83.0401332849993,
                42.4286603425399
               ],
               [
                -83.0756423643687,
                42.4166195125974
               ]
              ]
             ],
             "type": "Polygon"
            },
            "id": "0",
            "properties": {},
            "type": "Feature"
           },
           {
            "bbox": [
             -83.1475824077508,
             42.3218462436171,
             -83.034934207119,
             42.403663684345204
            ],
            "geometry": {
             "coordinates": [
              [
               [
                -83.0610070076362,
                42.3218462436171
               ],
               [
                -83.06141221639379,
                42.3219225362919
               ],
               [
                -83.06469088090309,
                42.3232437831397
               ],
               [
                -83.08253211227691,
                42.3350833240847
               ],
               [
                -83.0879551157953,
                42.3390433452115
               ],
               [
                -83.1361884858615,
                42.3749258864827
               ],
               [
                -83.147497579603,
                42.3862129362955
               ],
               [
                -83.1475713397114,
                42.386795785543605
               ],
               [
                -83.1475824077508,
                42.3871767706191
               ],
               [
                -83.147566174085,
                42.3893344542206
               ],
               [
                -83.1462678856073,
                42.39287185935321
               ],
               [
                -83.1418749057336,
                42.3954250449633
               ],
               [
                -83.1164697564145,
                42.403663684345204
               ],
               [
                -83.11223181400601,
                42.403010888536
               ],
               [
                -83.0623184987347,
                42.368143739525706
               ],
               [
                -83.05897720978241,
                42.364224864923294
               ],
               [
                -83.034934207119,
                42.335916903724204
               ],
               [
                -83.03696537405891,
                42.3291223412443
               ],
               [
                -83.0610070076362,
                42.3218462436171
               ]
              ]
             ],
             "type": "Polygon"
            },
            "id": "1",
            "properties": {},
            "type": "Feature"
           },
           {
            "bbox": [
             -83.05224999203179,
             42.40446010909071,
             -83.03800344594171,
             42.4171661429595
            ],
            "geometry": {
             "coordinates": [
              [
               [
                -83.0472578760084,
                42.40446010909071
               ],
               [
                -83.05224999203179,
                42.4054994481254
               ],
               [
                -83.0506782022564,
                42.4154091592489
               ],
               [
                -83.0477076743647,
                42.4171661429595
               ],
               [
                -83.0405596258267,
                42.414358834643004
               ],
               [
                -83.0393546807753,
                42.4130246058418
               ],
               [
                -83.03811480901291,
                42.4105503261196
               ],
               [
                -83.03800344594171,
                42.4093452295868
               ],
               [
                -83.0384102706656,
                42.408675293635795
               ],
               [
                -83.0386755364568,
                42.4083920124955
               ],
               [
                -83.04265227985691,
                42.4061543443265
               ],
               [
                -83.0472578760084,
                42.40446010909071
               ]
              ]
             ],
             "type": "Polygon"
            },
            "id": "2",
            "properties": {},
            "type": "Feature"
           },
           {
            "bbox": [
             -83.1820155872695,
             42.3202442081764,
             -83.0927165884653,
             42.3930602272217
            ],
            "geometry": {
             "coordinates": [
              [
               [
                -83.1109832602336,
                42.3202442081764
               ],
               [
                -83.1402300831494,
                42.3246383890962
               ],
               [
                -83.1565930894494,
                42.3277983458704
               ],
               [
                -83.1783539735424,
                42.3515726325994
               ],
               [
                -83.18180477200158,
                42.365675411531
               ],
               [
                -83.1820155872695,
                42.3869402476051
               ],
               [
                -83.173210247655,
                42.391304508058
               ],
               [
                -83.160389185762,
                42.392844994285
               ],
               [
                -83.1582703385799,
                42.392901974865296
               ],
               [
                -83.1520324919679,
                42.3930602272217
               ],
               [
                -83.1499000758956,
                42.3930526605971
               ],
               [
                -83.1210947361131,
                42.3815947033521
               ],
               [
                -83.09326939685941,
                42.3525421859908
               ],
               [
                -83.0927165884653,
                42.350077067143296
               ],
               [
                -83.0934213660295,
                42.3474481127898
               ],
               [
                -83.0938973442613,
                42.3460588490288
               ],
               [
                -83.1015085423809,
                42.331578145543205
               ],
               [
                -83.1109832602336,
                42.3202442081764
               ]
              ]
             ],
             "type": "Polygon"
            },
            "id": "3",
            "properties": {},
            "type": "Feature"
           },
           {
            "bbox": [
             -83.2472609735448,
             42.3429698958367,
             -83.18249281585571,
             42.3766398155773
            ],
            "geometry": {
             "coordinates": [
              [
               [
                -83.22828522347541,
                42.3429698958367
               ],
               [
                -83.24250487392,
                42.34300530144429
               ],
               [
                -83.2426921407008,
                42.3434941957165
               ],
               [
                -83.2468491754767,
                42.3555198489921
               ],
               [
                -83.2469678481161,
                42.3573618716814
               ],
               [
                -83.24725403266291,
                42.3636892844707
               ],
               [
                -83.2472609735448,
                42.3645405389191
               ],
               [
                -83.2472609627215,
                42.3645411425683
               ],
               [
                -83.24634299871529,
                42.376307824387005
               ],
               [
                -83.2463075106055,
                42.37642907613839
               ],
               [
                -83.2389639759144,
                42.3766398155773
               ],
               [
                -83.23522940257541,
                42.3766354308953
               ],
               [
                -83.1839665918548,
                42.3683787946351
               ],
               [
                -83.1838928227299,
                42.3683656764404
               ],
               [
                -83.18249281585571,
                42.3584717482847
               ],
               [
                -83.18451133418309,
                42.352901319566605
               ],
               [
                -83.1856849276794,
                42.351103348540796
               ],
               [
                -83.1857113534667,
                42.351075493683794
               ],
               [
                -83.196276612921,
                42.3436552658278
               ],
               [
                -83.196406448252,
                42.3436362690002
               ],
               [
                -83.2164904166418,
                42.3430386258758
               ],
               [
                -83.22828522347541,
                42.3429698958367
               ]
              ]
             ],
             "type": "Polygon"
            },
            "id": "4",
            "properties": {},
            "type": "Feature"
           },
           {
            "bbox": [
             -83.07098868991291,
             42.404676982291605,
             -83.0510771078571,
             42.416304939658296
            ],
            "geometry": {
             "coordinates": [
              [
               [
                -83.0687869207219,
                42.404676982291605
               ],
               [
                -83.07098868991291,
                42.4079628505048
               ],
               [
                -83.07024681863301,
                42.415149746039205
               ],
               [
                -83.06940301618441,
                42.415474769574104
               ],
               [
                -83.0689476219142,
                42.4156447729695
               ],
               [
                -83.05974845455479,
                42.416304939658296
               ],
               [
                -83.05159816033309,
                42.411652060729295
               ],
               [
                -83.05122021569021,
                42.4109582284294
               ],
               [
                -83.05114055939809,
                42.410169379001005
               ],
               [
                -83.0510771078571,
                42.409490274954
               ],
               [
                -83.0687869207219,
                42.404676982291605
               ]
              ]
             ],
             "type": "Polygon"
            },
            "id": "5",
            "properties": {},
            "type": "Feature"
           },
           {
            "bbox": [
             -83.2728607250123,
             42.374104527433,
             -83.1168473027982,
             42.446277338093
            ],
            "geometry": {
             "coordinates": [
              [
               [
                -83.2084193721417,
                42.374104527433
               ],
               [
                -83.2172185208471,
                42.3744313350623
               ],
               [
                -83.23791698707,
                42.386233011090106
               ],
               [
                -83.26027266806071,
                42.411715568202894
               ],
               [
                -83.26234343974879,
                42.4146125471656
               ],
               [
                -83.2728112205068,
                42.4392407314449
               ],
               [
                -83.2728607250123,
                42.44022052126721
               ],
               [
                -83.2726962305335,
                42.4407267211484
               ],
               [
                -83.271813727734,
                42.441398707507204
               ],
               [
                -83.26846947093391,
                42.442996165245106
               ],
               [
                -83.2192870845331,
                42.4445288138879
               ],
               [
                -83.1696074939883,
                42.4457568580475
               ],
               [
                -83.1592942486682,
                42.4459932990143
               ],
               [
                -83.1338280518389,
                42.446277338093
               ],
               [
                -83.12082525849479,
                42.41753474867561
               ],
               [
                -83.1186844644655,
                42.412720025555394
               ],
               [
                -83.118127278309,
                42.4111371629972
               ],
               [
                -83.1168473027982,
                42.404596050639206
               ],
               [
                -83.13043321868759,
                42.3990218824829
               ],
               [
                -83.2012168679096,
                42.3746965802485
               ],
               [
                -83.2084193721417,
                42.374104527433
               ]
              ]
             ],
             "type": "Polygon"
            },
            "id": "6",
            "properties": {},
            "type": "Feature"
           },
           {
            "bbox": [
             -83.022376926332,
             42.385343671847295,
             -82.91056883033009,
             42.4501902822696
            ],
            "geometry": {
             "coordinates": [
              [
               [
                -82.9664140725245,
                42.385343671847295
               ],
               [
                -82.9695438724498,
                42.385934547924705
               ],
               [
                -82.96968356221859,
                42.3859787235418
               ],
               [
                -82.9907377808313,
                42.3941802409194
               ],
               [
                -83.0076849928643,
                42.4130193177012
               ],
               [
                -83.0113327190495,
                42.4172979154576
               ],
               [
                -83.0114549303722,
                42.417469200072496
               ],
               [
                -83.022376926332,
                42.440366117343295
               ],
               [
                -83.0204253809575,
                42.4416868373171
               ],
               [
                -82.9978658517293,
                42.4490068652072
               ],
               [
                -82.9856649101441,
                42.4495745556406
               ],
               [
                -82.9488407120581,
                42.4501902822696
               ],
               [
                -82.94765494053131,
                42.4501851745168
               ],
               [
                -82.9107594559215,
                42.417151444160204
               ],
               [
                -82.91056883033009,
                42.4169079235699
               ],
               [
                -82.91311768762691,
                42.4110035048292
               ],
               [
                -82.9176593949489,
                42.401548627920604
               ],
               [
                -82.9190625168007,
                42.3988494580586
               ],
               [
                -82.92026878251541,
                42.3971298866346
               ],
               [
                -82.9222221154688,
                42.394965207091495
               ],
               [
                -82.92239929269479,
                42.3948289726166
               ],
               [
                -82.92322916519191,
                42.3944879517279
               ],
               [
                -82.9314495332725,
                42.3912430713114
               ],
               [
                -82.93439932198001,
                42.3901588543254
               ],
               [
                -82.9346343910562,
                42.390079483787204
               ],
               [
                -82.93635394548299,
                42.3895220650305
               ],
               [
                -82.9394181376786,
                42.388770201604096
               ],
               [
                -82.94274201985209,
                42.3881538249275
               ],
               [
                -82.944474238984,
                42.3878473176349
               ],
               [
                -82.9664140725245,
                42.385343671847295
               ]
              ]
             ],
             "type": "Polygon"
            },
            "id": "7",
            "properties": {},
            "type": "Feature"
           },
           {
            "bbox": [
             -83.06770376228229,
             42.416468703647794,
             -83.0454834689977,
             42.421462687737204
            ],
            "geometry": {
             "coordinates": [
              [
               [
                -83.055470817343,
                42.416468703647794
               ],
               [
                -83.06533885498109,
                42.4169499937511
               ],
               [
                -83.0653534681898,
                42.4169596842847
               ],
               [
                -83.06770376228229,
                42.418639491532105
               ],
               [
                -83.06490309421059,
                42.4206152331511
               ],
               [
                -83.0625555222759,
                42.421462687737204
               ],
               [
                -83.04631609966809,
                42.4213148259602
               ],
               [
                -83.0454856843848,
                42.4204731974266
               ],
               [
                -83.0454834689977,
                42.4204029141004
               ],
               [
                -83.04672460269829,
                42.418989656138294
               ],
               [
                -83.055470817343,
                42.416468703647794
               ]
              ]
             ],
             "type": "Polygon"
            },
            "id": "8",
            "properties": {},
            "type": "Feature"
           },
           {
            "bbox": [
             -83.109642780429,
             42.386178760873605,
             -83.10211532127221,
             42.3960164626867
            ],
            "geometry": {
             "coordinates": [
              [
               [
                -83.10405186415571,
                42.386178760873605
               ],
               [
                -83.109642780429,
                42.394036793621396
               ],
               [
                -83.1094510957921,
                42.3960164626867
               ],
               [
                -83.10825803614101,
                42.395874126005
               ],
               [
                -83.1056281516589,
                42.3953771730791
               ],
               [
                -83.1025426244403,
                42.3895934988156
               ],
               [
                -83.10211532127221,
                42.387842967317205
               ],
               [
                -83.10285101468351,
                42.3866137573238
               ],
               [
                -83.1036379123391,
                42.3863285307007
               ],
               [
                -83.10405186415571,
                42.386178760873605
               ]
              ]
             ],
             "type": "Polygon"
            },
            "id": "9",
            "properties": {},
            "type": "Feature"
           },
           {
            "bbox": [
             -83.11967916169941,
             42.417579356477106,
             -83.094384742868,
             42.429861883875105
            ],
            "geometry": {
             "coordinates": [
              [
               [
                -83.11643901704471,
                42.417579356477106
               ],
               [
                -83.1169386840153,
                42.4175969289433
               ],
               [
                -83.1195053369583,
                42.422048609289604
               ],
               [
                -83.11967916169941,
                42.422432592293205
               ],
               [
                -83.1091603511929,
                42.429735642429
               ],
               [
                -83.1037305950008,
                42.429861883875105
               ],
               [
                -83.10228223871991,
                42.429855191784604
               ],
               [
                -83.100330763738,
                42.4290839922804
               ],
               [
                -83.094384742868,
                42.4203787746555
               ],
               [
                -83.098416195225,
                42.4179380132841
               ],
               [
                -83.1017635509015,
                42.4178021560429
               ],
               [
                -83.1053279119277,
                42.4177407600979
               ],
               [
                -83.11285670924009,
                42.4176136233325
               ],
               [
                -83.1138088300653,
                42.4176020886911
               ],
               [
                -83.11643901704471,
                42.417579356477106
               ]
              ]
             ],
             "type": "Polygon"
            },
            "id": "10",
            "properties": {},
            "type": "Feature"
           },
           {
            "bbox": [
             -83.0029180086494,
             42.3468946477004,
             -82.99120999161059,
             42.354913281361604
            ],
            "geometry": {
             "coordinates": [
              [
               [
                -83.0019094929235,
                42.3468946477004
               ],
               [
                -83.00205590315741,
                42.3471362194898
               ],
               [
                -83.0029180086494,
                42.3486580130236
               ],
               [
                -82.99384794375979,
                42.35479693629
               ],
               [
                -82.9920729840276,
                42.354913281361604
               ],
               [
                -82.99120999161059,
                42.353775700686995
               ],
               [
                -82.99121001034649,
                42.3537748501287
               ],
               [
                -82.99144399424621,
                42.3535671297706
               ],
               [
                -82.9939363703943,
                42.3519528711439
               ],
               [
                -82.99851905276441,
                42.348988936828
               ],
               [
                -83.0015881100017,
                42.3470413162755
               ],
               [
                -83.0019094929235,
                42.3468946477004
               ]
              ]
             ],
             "type": "Polygon"
            },
            "id": "11",
            "properties": {},
            "type": "Feature"
           },
           {
            "bbox": [
             -83.1201896983896,
             42.4384285221723,
             -83.1171140086972,
             42.439350458443705
            ],
            "geometry": {
             "coordinates": [
              [
               [
                -83.1171140086972,
                42.4384285221723
               ],
               [
                -83.11998578862229,
                42.4387820861077
               ],
               [
                -83.1201896983896,
                42.439146335991204
               ],
               [
                -83.1198389629332,
                42.4392690605667
               ],
               [
                -83.119207936796,
                42.4393267395897
               ],
               [
                -83.1188780737826,
                42.4393320379848
               ],
               [
                -83.1177217025569,
                42.439350458443705
               ],
               [
                -83.1171440846367,
                42.4393313208683
               ],
               [
                -83.1171140086972,
                42.4384285221723
               ]
              ]
             ],
             "type": "Polygon"
            },
            "id": "12",
            "properties": {},
            "type": "Feature"
           },
           {
            "bbox": [
             -82.94673037787051,
             42.357629518797204,
             -82.9339644806521,
             42.371307858799796
            ],
            "geometry": {
             "coordinates": [
              [
               [
                -82.94294228777709,
                42.357629518797204
               ],
               [
                -82.9432721319207,
                42.3580942092521
               ],
               [
                -82.94673037787051,
                42.3666284621745
               ],
               [
                -82.94496396158002,
                42.3712256933694
               ],
               [
                -82.9371303042356,
                42.371307858799796
               ],
               [
                -82.9356883038092,
                42.369144428025606
               ],
               [
                -82.934161150907,
                42.366825360355705
               ],
               [
                -82.9339644806521,
                42.3665254570677
               ],
               [
                -82.9373709453219,
                42.359666396474
               ],
               [
                -82.94294228777709,
                42.357629518797204
               ]
              ]
             ],
             "type": "Polygon"
            },
            "id": "13",
            "properties": {},
            "type": "Feature"
           },
           {
            "bbox": [
             -83.0353031680492,
             42.3411214569185,
             -83.031838450787,
             42.3438623437146
            ],
            "geometry": {
             "coordinates": [
              [
               [
                -83.03425722701999,
                42.3411214569185
               ],
               [
                -83.0353031680492,
                42.3423821816986
               ],
               [
                -83.0352767701513,
                42.3424057212311
               ],
               [
                -83.03513349350459,
                42.342532260706896
               ],
               [
                -83.0344353290333,
                42.342830758521295
               ],
               [
                -83.0326846833386,
                42.343560881778004
               ],
               [
                -83.031838450787,
                42.3438623437146
               ],
               [
                -83.032789050806,
                42.3417921868742
               ],
               [
                -83.03425722701999,
                42.3411214569185
               ]
              ]
             ],
             "type": "Polygon"
            },
            "id": "14",
            "properties": {},
            "type": "Feature"
           },
           {
            "bbox": [
             -83.13756987148959,
             42.2956899435921,
             -83.0794486686044,
             42.327471799537705
            ],
            "geometry": {
             "coordinates": [
              [
               [
                -83.1308727303895,
                42.2956899435921
               ],
               [
                -83.1309090359269,
                42.2957233543657
               ],
               [
                -83.132242580901,
                42.2976422446695
               ],
               [
                -83.13567921477679,
                42.3025892461291
               ],
               [
                -83.13610341760379,
                42.3032009652568
               ],
               [
                -83.1368140168636,
                42.304664987406504
               ],
               [
                -83.13756987148959,
                42.3096570871186
               ],
               [
                -83.137253542235,
                42.310888719455
               ],
               [
                -83.1348777723576,
                42.3171783233884
               ],
               [
                -83.1064097123285,
                42.324229037936895
               ],
               [
                -83.09337695608279,
                42.3264001579969
               ],
               [
                -83.0794486686044,
                42.327471799537705
               ],
               [
                -83.0841383881904,
                42.3204466074381
               ],
               [
                -83.0933011337372,
                42.307983908550895
               ],
               [
                -83.1308727303895,
                42.2956899435921
               ]
              ]
             ],
             "type": "Polygon"
            },
            "id": "15",
            "properties": {},
            "type": "Feature"
           },
           {
            "bbox": [
             -83.04202450889609,
             42.359229003587,
             -83.0390891073463,
             42.3628721882866
            ],
            "geometry": {
             "coordinates": [
              [
               [
                -83.0409201422567,
                42.359229003587
               ],
               [
                -83.04202450889609,
                42.360896026782704
               ],
               [
                -83.0414200820522,
                42.3628721882866
               ],
               [
                -83.0397705815508,
                42.360910265293896
               ],
               [
                -83.0390891073463,
                42.359893137942294
               ],
               [
                -83.04057759909621,
                42.3593280287459
               ],
               [
                -83.0408719465789,
                42.359233243453104
               ],
               [
                -83.0409201422567,
                42.359229003587
               ]
              ]
             ],
             "type": "Polygon"
            },
            "id": "16",
            "properties": {},
            "type": "Feature"
           },
           {
            "bbox": [
             -83.1695704992181,
             42.2577751993996,
             -83.1411969582143,
             42.2831068996339
            ],
            "geometry": {
             "coordinates": [
              [
               [
                -83.1637591860315,
                42.2577751993996
               ],
               [
                -83.1654378747963,
                42.2588535441419
               ],
               [
                -83.16643438579659,
                42.2596746277981
               ],
               [
                -83.16664259880359,
                42.259990735034705
               ],
               [
                -83.1695704992181,
                42.2647179378395
               ],
               [
                -83.1579075565734,
                42.2785977966648
               ],
               [
                -83.1482924562554,
                42.2831068996339
               ],
               [
                -83.1412811176707,
                42.2799165305724
               ],
               [
                -83.1412591984133,
                42.279903532215
               ],
               [
                -83.1411969582143,
                42.2796850917629
               ],
               [
                -83.14196223084251,
                42.2785393439296
               ],
               [
                -83.1438190523518,
                42.2758106317131
               ],
               [
                -83.15293660685549,
                42.265102314079996
               ],
               [
                -83.15879868159621,
                42.2582967009817
               ],
               [
                -83.1637591860315,
                42.2577751993996
               ]
              ]
             ],
             "type": "Polygon"
            },
            "id": "17",
            "properties": {},
            "type": "Feature"
           },
           {
            "bbox": [
             -83.03740454205149,
             42.40472280148921,
             -83.0362116134449,
             42.4048011710262
            ],
            "geometry": {
             "coordinates": [
              [
               [
                -83.03689466155281,
                42.40472280148921
               ],
               [
                -83.0373723620445,
                42.404722986069004
               ],
               [
                -83.03740454205149,
                42.4047768792533
               ],
               [
                -83.0373934242994,
                42.4047772705982
               ],
               [
                -83.0362116134449,
                42.4048011710262
               ],
               [
                -83.03689466155281,
                42.40472280148921
               ]
              ]
             ],
             "type": "Polygon"
            },
            "id": "18",
            "properties": {},
            "type": "Feature"
           },
           {
            "bbox": [
             -83.0261897409781,
             42.3358740249813,
             -83.0061078375689,
             42.345878706572
            ],
            "geometry": {
             "coordinates": [
              [
               [
                -83.01710564606259,
                42.3358740249813
               ],
               [
                -83.0227901725857,
                42.3381525886689
               ],
               [
                -83.0261621876629,
                42.340642582676104
               ],
               [
                -83.0261897409781,
                42.341427135047205
               ],
               [
                -83.0251998956812,
                42.3416975128095
               ],
               [
                -83.0097599449237,
                42.345719826332996
               ],
               [
                -83.0082507288167,
                42.345878706572
               ],
               [
                -83.0061078375689,
                42.345744877002794
               ],
               [
                -83.00623148300551,
                42.3453337569735
               ],
               [
                -83.0074720584154,
                42.343068908155
               ],
               [
                -83.0086102437943,
                42.341595723477
               ],
               [
                -83.01465274750579,
                42.3362350312806
               ],
               [
                -83.01710564606259,
                42.3358740249813
               ]
              ]
             ],
             "type": "Polygon"
            },
            "id": "19",
            "properties": {},
            "type": "Feature"
           },
           {
            "bbox": [
             -83.06080639662129,
             42.3790788951486,
             -83.0600943663258,
             42.380452889975295
            ],
            "geometry": {
             "coordinates": [
              [
               [
                -83.0606278531706,
                42.3790788951486
               ],
               [
                -83.060656388123,
                42.3791304070085
               ],
               [
                -83.06080639662129,
                42.380452889975295
               ],
               [
                -83.0600943663258,
                42.379277547171796
               ],
               [
                -83.06009811528959,
                42.3792752849874
               ],
               [
                -83.060516245742,
                42.3791056320186
               ],
               [
                -83.0606278531706,
                42.3790788951486
               ]
              ]
             ],
             "type": "Polygon"
            },
            "id": "20",
            "properties": {},
            "type": "Feature"
           },
           {
            "bbox": [
             -127.914179208738,
             32.0263641962111,
             -127.914179208738,
             32.0263641962111
            ],
            "geometry": {
             "coordinates": [
              -127.914179208738,
              32.0263641962111
             ],
             "type": "Point"
            },
            "id": "21",
            "properties": {},
            "type": "Feature"
           },
           {
            "bbox": [
             -83.04297312513009,
             42.338970198077504,
             -83.0342886380348,
             42.3490262126014
            ],
            "geometry": {
             "coordinates": [
              [
               [
                -83.04011832049571,
                42.338970198077504
               ],
               [
                -83.0416907015822,
                42.3396579659018
               ],
               [
                -83.0419820998705,
                42.3400466054396
               ],
               [
                -83.04297312513009,
                42.347395710970105
               ],
               [
                -83.0422133969113,
                42.3490262126014
               ],
               [
                -83.0368648430682,
                42.348786652424
               ],
               [
                -83.0342886380348,
                42.3455449133942
               ],
               [
                -83.04011832049571,
                42.338970198077504
               ]
              ]
             ],
             "type": "Polygon"
            },
            "id": "22",
            "properties": {},
            "type": "Feature"
           },
           {
            "bbox": [
             -83.2377876988502,
             42.328729877434505,
             -83.1961344893235,
             42.3416029976225
            ],
            "geometry": {
             "coordinates": [
              [
               [
                -83.2204671771338,
                42.328729877434505
               ],
               [
                -83.22518679043779,
                42.3289151155841
               ],
               [
                -83.23255906820829,
                42.3323160527327
               ],
               [
                -83.2375331989225,
                42.3358300741149
               ],
               [
                -83.2377876988502,
                42.3405775050879
               ],
               [
                -83.2328575624278,
                42.341139054408295
               ],
               [
                -83.2073174566165,
                42.3415647612594
               ],
               [
                -83.1998848842466,
                42.3416029976225
               ],
               [
                -83.19864641766621,
                42.341560508354895
               ],
               [
                -83.1962062547612,
                42.3406980595906
               ],
               [
                -83.1961407197088,
                42.3400498224445
               ],
               [
                -83.1961344893235,
                42.3364346289802
               ],
               [
                -83.1961344908661,
                42.336434546665004
               ],
               [
                -83.2193523691378,
                42.3290159609336
               ],
               [
                -83.2204671771338,
                42.328729877434505
               ]
              ]
             ],
             "type": "Polygon"
            },
            "id": "23",
            "properties": {},
            "type": "Feature"
           },
           {
            "bbox": [
             -83.1358926377042,
             42.356891672498,
             -83.1358926258057,
             42.3568922761361
            ],
            "geometry": {
             "coordinates": [
              [
               -83.1358926377042,
               42.356891672498
              ],
              [
               -83.1358926258057,
               42.3568922761361
              ]
             ],
             "type": "LineString"
            },
            "id": "24",
            "properties": {},
            "type": "Feature"
           },
           {
            "bbox": [
             -83.02670944846999,
             42.3532216640819,
             -82.9872366175714,
             42.4027860823524
            ],
            "geometry": {
             "coordinates": [
              [
               [
                -83.01623490260309,
                42.3532216640819
               ],
               [
                -83.0200383329165,
                42.354091891599104
               ],
               [
                -83.02183707414291,
                42.356818837141496
               ],
               [
                -83.02670944846999,
                42.365655681776
               ],
               [
                -83.0263026500021,
                42.3684000498312
               ],
               [
                -83.0255787407823,
                42.3721211261181
               ],
               [
                -83.0176244081423,
                42.400913467906896
               ],
               [
                -82.9988539405495,
                42.4027860823524
               ],
               [
                -82.9872366175714,
                42.3884202186188
               ],
               [
                -82.9873970271721,
                42.386187592667206
               ],
               [
                -82.9945211236456,
                42.3689527209014
               ],
               [
                -83.0044105429125,
                42.3596134697763
               ],
               [
                -83.0119523763732,
                42.3539736303398
               ],
               [
                -83.0132652075472,
                42.3534946861819
               ],
               [
                -83.01623490260309,
                42.3532216640819
               ]
              ]
             ],
             "type": "Polygon"
            },
            "id": "25",
            "properties": {},
            "type": "Feature"
           },
           {
            "bbox": [
             -83.2161413881871,
             42.32893435240229,
             -83.2153555648693,
             42.3306581086261
            ],
            "geometry": {
             "coordinates": [
              [
               [
                -83.2159956065036,
                42.32893435240229
               ],
               [
                -83.21605465440621,
                42.329342927762205
               ],
               [
                -83.21608078549359,
                42.3297314373342
               ],
               [
                -83.2161413881871,
                42.3306581086261
               ],
               [
                -83.21536371573991,
                42.3291047887015
               ],
               [
                -83.2153555648693,
                42.32894501167821
               ],
               [
                -83.2159956065036,
                42.32893435240229
               ]
              ]
             ],
             "type": "Polygon"
            },
            "id": "26",
            "properties": {},
            "type": "Feature"
           },
           {
            "bbox": [
             -83.0887120223278,
             42.3740946918891,
             -83.0684868688648,
             42.393843991094705
            ],
            "geometry": {
             "coordinates": [
              [
               [
                -83.07587044015929,
                42.3740946918891
               ],
               [
                -83.0774220102504,
                42.3747762242365
               ],
               [
                -83.0869442035538,
                42.389103548980295
               ],
               [
                -83.08853659036829,
                42.3916122047355
               ],
               [
                -83.0887120223278,
                42.392627472482204
               ],
               [
                -83.0884951781169,
                42.3929110553996
               ],
               [
                -83.0853993285065,
                42.393843991094705
               ],
               [
                -83.08279309320929,
                42.3927499168423
               ],
               [
                -83.0690007191467,
                42.3805100560671
               ],
               [
                -83.0689898164131,
                42.3805003259729
               ],
               [
                -83.0685829699986,
                42.379950110950105
               ],
               [
                -83.0684868688648,
                42.379765327746
               ],
               [
                -83.0694787089023,
                42.3763907257311
               ],
               [
                -83.0706133757321,
                42.3748668865329
               ],
               [
                -83.0718449052608,
                42.3743806013357
               ],
               [
                -83.07587044015929,
                42.3740946918891
               ]
              ]
             ],
             "type": "Polygon"
            },
            "id": "27",
            "properties": {},
            "type": "Feature"
           },
           {
            "bbox": [
             -83.1015572488839,
             42.3553549569183,
             -83.091625645851,
             42.362586101462
            ],
            "geometry": {
             "coordinates": [
              [
               [
                -83.0969825058117,
                42.3553549569183
               ],
               [
                -83.0980417975859,
                42.3560320473975
               ],
               [
                -83.1015572488839,
                42.3611329411056
               ],
               [
                -83.1001187261683,
                42.361814584571
               ],
               [
                -83.09368624249569,
                42.362586101462
               ],
               [
                -83.091625645851,
                42.3603804776727
               ],
               [
                -83.0934289429448,
                42.358327065260895
               ],
               [
                -83.0969825058117,
                42.3553549569183
               ]
              ]
             ],
             "type": "Polygon"
            },
            "id": "28",
            "properties": {},
            "type": "Feature"
           },
           {
            "bbox": [
             -83.0707992424682,
             42.3207766439204,
             -83.06614391226691,
             42.3242416886109
            ],
            "geometry": {
             "coordinates": [
              [
               [
                -83.0705261845478,
                42.3207766439204
               ],
               [
                -83.0707992424682,
                42.3229452823472
               ],
               [
                -83.06771012311842,
                42.3242416886109
               ],
               [
                -83.06614391226691,
                42.3216638769556
               ],
               [
                -83.0705261845478,
                42.3207766439204
               ]
              ]
             ],
             "type": "Polygon"
            },
            "id": "29",
            "properties": {},
            "type": "Feature"
           },
           {
            "bbox": [
             -83.0916508735109,
             42.345585492536294,
             -83.08522428741371,
             42.36157319748921
            ],
            "geometry": {
             "coordinates": [
              [
               [
                -83.08882005264671,
                42.345585492536294
               ],
               [
                -83.0915563856093,
                42.349638653540104
               ],
               [
                -83.0916508735109,
                42.3580578588481
               ],
               [
                -83.0916508471772,
                42.358059148428396
               ],
               [
                -83.090042217264,
                42.3601813022379
               ],
               [
                -83.0879633229194,
                42.3614088366313
               ],
               [
                -83.08687939852679,
                42.36157319748921
               ],
               [
                -83.08684006587809,
                42.3615062018705
               ],
               [
                -83.08522428741371,
                42.3470161494869
               ],
               [
                -83.0864418831053,
                42.346455182114795
               ],
               [
                -83.08882005264671,
                42.345585492536294
               ]
              ]
             ],
             "type": "Polygon"
            },
            "id": "30",
            "properties": {},
            "type": "Feature"
           },
           {
            "bbox": [
             -83.28648162620391,
             42.4070477890792,
             -83.27349457791459,
             42.4199103563531
            ],
            "geometry": {
             "coordinates": [
              [
               [
                -83.2849219678599,
                42.4070477890792
               ],
               [
                -83.28493574316391,
                42.4071076093408
               ],
               [
                -83.28648162620391,
                42.414282702028295
               ],
               [
                -83.2860270087235,
                42.41914705783
               ],
               [
                -83.28258964797709,
                42.4197980079934
               ],
               [
                -83.28008387083791,
                42.4199103563531
               ],
               [
                -83.2776399180936,
                42.41987537772071
               ],
               [
                -83.27349457791459,
                42.414631279073
               ],
               [
                -83.27463288217629,
                42.4084211042847
               ],
               [
                -83.2755304397456,
                42.407706844721396
               ],
               [
                -83.27738634595191,
                42.4072469773541
               ],
               [
                -83.2849219678599,
                42.4070477890792
               ]
              ]
             ],
             "type": "Polygon"
            },
            "id": "31",
            "properties": {},
            "type": "Feature"
           },
           {
            "bbox": [
             -83.0345212090822,
             42.42279696667121,
             -83.01806060335859,
             42.4484544691346
            ],
            "geometry": {
             "coordinates": [
              [
               [
                -83.0238742574815,
                42.42279696667121
               ],
               [
                -83.02790381221159,
                42.4235167390962
               ],
               [
                -83.03327937743491,
                42.4288559714776
               ],
               [
                -83.0338452327007,
                42.430460286083104
               ],
               [
                -83.0340285590487,
                42.4324566291907
               ],
               [
                -83.034177450043,
                42.436411906356795
               ],
               [
                -83.03450844169741,
                42.4467597441049
               ],
               [
                -83.0345203560169,
                42.447936479601104
               ],
               [
                -83.0345212090822,
                42.4482434276408
               ],
               [
                -83.02475578721929,
                42.4484544691346
               ],
               [
                -83.0235979416877,
                42.4481872082626
               ],
               [
                -83.0224945057413,
                42.4478030617409
               ],
               [
                -83.02144210181929,
                42.447115313915404
               ],
               [
                -83.01926274263958,
                42.4431912615673
               ],
               [
                -83.01806060335859,
                42.433327700408505
               ],
               [
                -83.01959390719699,
                42.430435205727
               ],
               [
                -83.0238742574815,
                42.42279696667121
               ]
              ]
             ],
             "type": "Polygon"
            },
            "id": "32",
            "properties": {},
            "type": "Feature"
           },
           {
            "bbox": [
             -83.2521161632612,
             42.3792354391022,
             -83.2430146938312,
             42.3837837802433
            ],
            "geometry": {
             "coordinates": [
              [
               [
                -83.250950625317,
                42.3792354391022
               ],
               [
                -83.2521161632612,
                42.38008871227979
               ],
               [
                -83.2511391018408,
                42.3813233203419
               ],
               [
                -83.2482866185924,
                42.3835143384899
               ],
               [
                -83.2476154740798,
                42.3837837802433
               ],
               [
                -83.2430146938312,
                42.3816994649161
               ],
               [
                -83.2430478689825,
                42.3815015965389
               ],
               [
                -83.24641910763341,
                42.379285393235
               ],
               [
                -83.250950625317,
                42.3792354391022
               ]
              ]
             ],
             "type": "Polygon"
            },
            "id": "33",
            "properties": {},
            "type": "Feature"
           },
           {
            "bbox": [
             -83.1265839693783,
             42.37009680363779,
             -83.1194511657139,
             42.382309075429795
            ],
            "geometry": {
             "coordinates": [
              [
               [
                -83.12610957162501,
                42.37009680363779
               ],
               [
                -83.1265839693783,
                42.372671595168796
               ],
               [
                -83.1261677625644,
                42.3805783838709
               ],
               [
                -83.1258705407993,
                42.382309075429795
               ],
               [
                -83.1223850448923,
                42.3772178899681
               ],
               [
                -83.1205081727301,
                42.3744487878657
               ],
               [
                -83.11984775867391,
                42.373416338481995
               ],
               [
                -83.1194511657139,
                42.3727034875306
               ],
               [
                -83.12610957162501,
                42.37009680363779
               ]
              ]
             ],
             "type": "Polygon"
            },
            "id": "34",
            "properties": {},
            "type": "Feature"
           },
           {
            "bbox": [
             -83.285688452535,
             42.4215155932565,
             -83.2694510676227,
             42.4395632518776
            ],
            "geometry": {
             "coordinates": [
              [
               [
                -83.2696217917908,
                42.4215155932565
               ],
               [
                -83.2812765209769,
                42.42161327568179
               ],
               [
                -83.28399354558759,
                42.421711152796604
               ],
               [
                -83.285688452535,
                42.4275695987513
               ],
               [
                -83.28499128921821,
                42.432098234482005
               ],
               [
                -83.2808706113653,
                42.439399322927706
               ],
               [
                -83.2800044802643,
                42.4395632518776
               ],
               [
                -83.273019514201,
                42.4343355478249
               ],
               [
                -83.2694510676227,
                42.425956934387706
               ],
               [
                -83.2696217917908,
                42.4215155932565
               ]
              ]
             ],
             "type": "Polygon"
            },
            "id": "35",
            "properties": {},
            "type": "Feature"
           },
           {
            "bbox": [
             -83.1839384366711,
             42.3511116730165,
             -83.1824764045621,
             42.3511426435051
            ],
            "geometry": {
             "coordinates": [
              [
               [
                -83.1839384366711,
                42.3511116730165
               ],
               [
                -83.1826318606591,
                42.3511393803712
               ],
               [
                -83.1824764045621,
                42.3511426435051
               ],
               [
                -83.1839384366711,
                42.3511116730165
               ]
              ]
             ],
             "type": "Polygon"
            },
            "id": "36",
            "properties": {},
            "type": "Feature"
           },
           {
            "bbox": [
             -83.0801165380898,
             42.3313106645065,
             -83.06852843098241,
             42.3394332018741
            ],
            "geometry": {
             "coordinates": [
              [
               [
                -83.07980601419679,
                42.3313106645065
               ],
               [
                -83.0801165380898,
                42.33131898874971
               ],
               [
                -83.0746406922219,
                42.3385534268116
               ],
               [
                -83.0714744396291,
                42.3394332018741
               ],
               [
                -83.06852843098241,
                42.3368314384299
               ],
               [
                -83.06866244306491,
                42.3344767964298
               ],
               [
                -83.069134244066,
                42.3317079039199
               ],
               [
                -83.0695431913166,
                42.3314295743221
               ],
               [
                -83.07054678917841,
                42.331370209640795
               ],
               [
                -83.07980601419679,
                42.3313106645065
               ]
              ]
             ],
             "type": "Polygon"
            },
            "id": "37",
            "properties": {},
            "type": "Feature"
           },
           {
            "bbox": [
             -82.9661581555866,
             42.3819632684678,
             -82.9630677264305,
             42.3843680392432
            ],
            "geometry": {
             "coordinates": [
              [
               [
                -82.9642058793003,
                42.3819632684678
               ],
               [
                -82.9661581555866,
                42.3830552964628
               ],
               [
                -82.9658780197768,
                42.3838261415141
               ],
               [
                -82.9630819687205,
                42.3843680392432
               ],
               [
                -82.9630677264305,
                42.38434288841211
               ],
               [
                -82.9635077999322,
                42.3830461525241
               ],
               [
                -82.9642058793003,
                42.3819632684678
               ]
              ]
             ],
             "type": "Polygon"
            },
            "id": "38",
            "properties": {},
            "type": "Feature"
           },
           {
            "bbox": [
             -83.1180625709938,
             42.4350998041973,
             -83.11701624739209,
             42.4365750612404
            ],
            "geometry": {
             "coordinates": [
              [
               [
                -83.1174252294427,
                42.4350998041973
               ],
               [
                -83.1180625709938,
                42.4365750612404
               ],
               [
                -83.11701624739209,
                42.4360963274979
               ],
               [
                -83.1174252294427,
                42.4350998041973
               ]
              ]
             ],
             "type": "Polygon"
            },
            "id": "39",
            "properties": {},
            "type": "Feature"
           },
           {
            "bbox": [
             -83.272533641645,
             42.3819484158316,
             -83.24920180965071,
             42.4172913799025
            ],
            "geometry": {
             "coordinates": [
              [
               [
                -83.25574018066591,
                42.3819484158316
               ],
               [
                -83.2562287295792,
                42.382160309659
               ],
               [
                -83.2648510153184,
                42.386080276013
               ],
               [
                -83.272533641645,
                42.3999474042554
               ],
               [
                -83.2722688472873,
                42.40216699367979
               ],
               [
                -83.2653700985008,
                42.4168729040582
               ],
               [
                -83.2650664115997,
                42.4172913799025
               ],
               [
                -83.263537774778,
                42.4168155829245
               ],
               [
                -83.253562702957,
                42.4079450021883
               ],
               [
                -83.25348295761991,
                42.4078483335836
               ],
               [
                -83.2522588323859,
                42.405891280962
               ],
               [
                -83.25221923451049,
                42.405827690349
               ],
               [
                -83.2492073139467,
                42.398665476206396
               ],
               [
                -83.24920180965071,
                42.398559325798004
               ],
               [
                -83.25135133840891,
                42.383739493052104
               ],
               [
                -83.25574018066591,
                42.3819484158316
               ]
              ]
             ],
             "type": "Polygon"
            },
            "id": "40",
            "properties": {},
            "type": "Feature"
           },
           {
            "bbox": [
             -83.2342240476265,
             42.4224445168219,
             -83.23310574233271,
             42.422487891890896
            ],
            "geometry": {
             "coordinates": [
              [
               [
                -83.23310574233271,
                42.4224445168219
               ],
               [
                -83.2342240476265,
                42.4224621990675
               ],
               [
                -83.23314569876209,
                42.422487891890896
               ],
               [
                -83.23310574233271,
                42.4224445168219
               ]
              ]
             ],
             "type": "Polygon"
            },
            "id": "41",
            "properties": {},
            "type": "Feature"
           },
           {
            "bbox": [
             -82.9739255900853,
             42.3559341811879,
             -82.9738969346977,
             42.3559766330996
            ],
            "geometry": {
             "coordinates": [
              [
               -82.9738969346977,
               42.3559341811879
              ],
              [
               -82.9739255900853,
               42.3559766330996
              ]
             ],
             "type": "LineString"
            },
            "id": "42",
            "properties": {},
            "type": "Feature"
           },
           {
            "bbox": [
             -82.98865869512629,
             42.3519096920383,
             -82.9873031547157,
             42.3535262393622
            ],
            "geometry": {
             "coordinates": [
              [
               [
                -82.9873031547157,
                42.3519096920383
               ],
               [
                -82.9880627063125,
                42.3527003811511
               ],
               [
                -82.98865869512629,
                42.3535262393622
               ],
               [
                -82.9873031547157,
                42.3519096920383
               ]
              ]
             ],
             "type": "Polygon"
            },
            "id": "43",
            "properties": {},
            "type": "Feature"
           },
           {
            "bbox": [
             -83.0459724619534,
             42.3260906742624,
             -83.0440446920598,
             42.3268467354304
            ],
            "geometry": {
             "coordinates": [
              [
               [
                -83.04571761351309,
                42.3260906742624
               ],
               [
                -83.0459724619534,
                42.326107034138495
               ],
               [
                -83.04509503789942,
                42.3264986028205
               ],
               [
                -83.0440446920598,
                42.3268467354304
               ],
               [
                -83.04571761351309,
                42.3260906742624
               ]
              ]
             ],
             "type": "Polygon"
            },
            "id": "44",
            "properties": {},
            "type": "Feature"
           },
           {
            "bbox": [
             -83.0618879400317,
             42.3304438664006,
             -83.05648112219191,
             42.3337277233907
            ],
            "geometry": {
             "coordinates": [
              [
               [
                -83.0612859411188,
                42.3304438664006
               ],
               [
                -83.0618081732004,
                42.3311179784199
               ],
               [
                -83.0618879400317,
                42.3315490032977
               ],
               [
                -83.0584912158477,
                42.3337277233907
               ],
               [
                -83.05648112219191,
                42.33274518560079
               ],
               [
                -83.0574065631859,
                42.3316516720219
               ],
               [
                -83.0575543876902,
                42.3314812467373
               ],
               [
                -83.0612859411188,
                42.3304438664006
               ]
              ]
             ],
             "type": "Polygon"
            },
            "id": "45",
            "properties": {},
            "type": "Feature"
           },
           {
            "bbox": [
             -83.0566998945317,
             42.3241803098804,
             -83.0563611814275,
             42.3249590031273
            ],
            "geometry": {
             "coordinates": [
              [
               [
                -83.0563611814275,
                42.3241803098804
               ],
               [
                -83.0566285920265,
                42.32430280852479
               ],
               [
                -83.0566998945317,
                42.3249590031273
               ],
               [
                -83.0566962275264,
                42.3249575062343
               ],
               [
                -83.0565085572108,
                42.324559618886205
               ],
               [
                -83.0563611814275,
                42.3241803098804
               ]
              ]
             ],
             "type": "Polygon"
            },
            "id": "46",
            "properties": {},
            "type": "Feature"
           },
           {
            "bbox": [
             -83.2518512252193,
             42.3837555736062,
             -83.2400547945593,
             42.396110781613395
            ],
            "geometry": {
             "coordinates": [
              [
               [
                -83.24653876856871,
                42.3837555736062
               ],
               [
                -83.25012312144091,
                42.3872144398285
               ],
               [
                -83.25183814504841,
                42.3956545226766
               ],
               [
                -83.2518512252193,
                42.3959585868214
               ],
               [
                -83.2518501325736,
                42.3960197474562
               ],
               [
                -83.248034943522,
                42.396110781613395
               ],
               [
                -83.2435475620056,
                42.3956973011468
               ],
               [
                -83.2425198828595,
                42.3945804773251
               ],
               [
                -83.24006006300901,
                42.38891724112379
               ],
               [
                -83.2400547945593,
                42.3887989349668
               ],
               [
                -83.24008438549771,
                42.3885952686745
               ],
               [
                -83.2409490871941,
                42.385193663586996
               ],
               [
                -83.24195165236871,
                42.3837909453587
               ],
               [
                -83.24653876856871,
                42.3837555736062
               ]
              ]
             ],
             "type": "Polygon"
            },
            "id": "47",
            "properties": {},
            "type": "Feature"
           },
           {
            "bbox": [
             -83.2875782447606,
             42.4332189726524,
             -83.2813338628763,
             42.4381547886764
            ],
            "geometry": {
             "coordinates": [
              [
               [
                -83.2813338628763,
                42.4332189726524
               ],
               [
                -83.2871503464602,
                42.4349225006619
               ],
               [
                -83.2875523773143,
                42.435882303235104
               ],
               [
                -83.2875782447606,
                42.4378130970406
               ],
               [
                -83.2839562875194,
                42.4381547886764
               ],
               [
                -83.2827202662193,
                42.437858970060795
               ],
               [
                -83.28144210139091,
                42.4350888914995
               ],
               [
                -83.2813867348439,
                42.434651329085
               ],
               [
                -83.2813338628763,
                42.4332189726524
               ]
              ]
             ],
             "type": "Polygon"
            },
            "id": "48",
            "properties": {},
            "type": "Feature"
           },
           {
            "bbox": [
             -82.9833516437346,
             42.3539667493073,
             -82.98034210885841,
             42.3560304201931
            ],
            "geometry": {
             "coordinates": [
              [
               [
                -82.98034210885841,
                42.3539667493073
               ],
               [
                -82.9833516437346,
                42.354576102898704
               ],
               [
                -82.9818319091269,
                42.3560304201931
               ],
               [
                -82.9814345765946,
                42.355593234747296
               ],
               [
                -82.9806089011909,
                42.3544496869389
               ],
               [
                -82.98058021577121,
                42.3544084165176
               ],
               [
                -82.98034210885841,
                42.3539667493073
               ]
              ]
             ],
             "type": "Polygon"
            },
            "id": "49",
            "properties": {},
            "type": "Feature"
           },
           {
            "bbox": [
             -82.98855494921621,
             42.3557641287598,
             -82.9744354470113,
             42.3651716914868
            ],
            "geometry": {
             "coordinates": [
              [
               [
                -82.9884501949718,
                42.3557641287598
               ],
               [
                -82.98855494921621,
                42.3594005338766
               ],
               [
                -82.98670453824721,
                42.361752212928295
               ],
               [
                -82.98533117373059,
                42.36227359023471
               ],
               [
                -82.9761297029653,
                42.3651716914868
               ],
               [
                -82.9744354470113,
                42.3651391518183
               ],
               [
                -82.9834413794114,
                42.356538479322204
               ],
               [
                -82.9855813999569,
                42.3561479000626
               ],
               [
                -82.9884501949718,
                42.3557641287598
               ]
              ]
             ],
             "type": "Polygon"
            },
            "id": "50",
            "properties": {},
            "type": "Feature"
           },
           {
            "bbox": [
             -83.0154927412463,
             42.4483938125664,
             -83.0143692696307,
             42.44845278660821
            ],
            "geometry": {
             "coordinates": [
              [
               [
                -83.0154927412463,
                42.4483938125664
               ],
               [
                -83.01534693902799,
                42.44845278660821
               ],
               [
                -83.0143692696307,
                42.4484229095455
               ],
               [
                -83.0147437622689,
                42.448413120328
               ],
               [
                -83.0154556636199,
                42.4483947440631
               ],
               [
                -83.0154927412463,
                42.4483938125664
               ]
              ]
             ],
             "type": "Polygon"
            },
            "id": "51",
            "properties": {},
            "type": "Feature"
           },
           {
            "bbox": [
             -83.03305690508779,
             42.349856932030605,
             -83.02362259803391,
             42.359215100537604
            ],
            "geometry": {
             "coordinates": [
              [
               [
                -83.0302969561466,
                42.349856932030605
               ],
               [
                -83.0303115628965,
                42.349865941146
               ],
               [
                -83.0323412682077,
                42.352881269914796
               ],
               [
                -83.03305690508779,
                42.3540226160406
               ],
               [
                -83.0281273501023,
                42.358901276435205
               ],
               [
                -83.0277618218983,
                42.3590358894942
               ],
               [
                -83.0251861705238,
                42.359215100537604
               ],
               [
                -83.024632627171,
                42.3586277491609
               ],
               [
                -83.02362259803391,
                42.3553506738152
               ],
               [
                -83.0274319091306,
                42.3511267742568
               ],
               [
                -83.0285194113151,
                42.350622190307796
               ],
               [
                -83.0289937815697,
                42.350413111476
               ],
               [
                -83.029501720255,
                42.3501913077322
               ],
               [
                -83.0302969561466,
                42.349856932030605
               ]
              ]
             ],
             "type": "Polygon"
            },
            "id": "52",
            "properties": {},
            "type": "Feature"
           },
           {
            "bbox": [
             -83.0148843821642,
             42.3507569836994,
             -83.01460102615971,
             42.3511699691037
            ],
            "geometry": {
             "coordinates": [
              [
               [
                -83.01460102615971,
                42.3507569836994
               ],
               [
                -83.0146156124394,
                42.3507668453966
               ],
               [
                -83.0148843821642,
                42.3511699691037
               ],
               [
                -83.01460102615971,
                42.3507569836994
               ]
              ]
             ],
             "type": "Polygon"
            },
            "id": "53",
            "properties": {},
            "type": "Feature"
           },
           {
            "bbox": [
             -83.22572161438829,
             42.3675332629992,
             -83.1835516381831,
             42.3773883305538
            ],
            "geometry": {
             "coordinates": [
              [
               [
                -83.21786734152471,
                42.3675332629992
               ],
               [
                -83.2201670318248,
                42.3684599250758
               ],
               [
                -83.2227515351586,
                42.370408745812504
               ],
               [
                -83.2232581983103,
                42.3708331321519
               ],
               [
                -83.2252876775575,
                42.372582249000004
               ],
               [
                -83.22572161438829,
                42.374557605374605
               ],
               [
                -83.22550464427009,
                42.37569567646379
               ],
               [
                -83.1934084565823,
                42.3773883305538
               ],
               [
                -83.1879269366765,
                42.3771778736251
               ],
               [
                -83.1835516381831,
                42.3728942886493
               ],
               [
                -83.18403743030709,
                42.3705002466418
               ],
               [
                -83.2168928797052,
                42.3675956022663
               ],
               [
                -83.21786734152471,
                42.3675332629992
               ]
              ]
             ],
             "type": "Polygon"
            },
            "id": "54",
            "properties": {},
            "type": "Feature"
           },
           {
            "bbox": [
             -83.0251502358242,
             42.413950089433996,
             -83.0194862550759,
             42.419989952713706
            ],
            "geometry": {
             "coordinates": [
              [
               [
                -83.0223832130358,
                42.413950089433996
               ],
               [
                -83.0251502358242,
                42.4154831580172
               ],
               [
                -83.0237680029592,
                42.419989952713706
               ],
               [
                -83.0205936241804,
                42.418617105955796
               ],
               [
                -83.0197084714716,
                42.4177549856982
               ],
               [
                -83.0194862550759,
                42.4168966041381
               ],
               [
                -83.0223832130358,
                42.413950089433996
               ]
              ]
             ],
             "type": "Polygon"
            },
            "id": "55",
            "properties": {},
            "type": "Feature"
           },
           {
            "bbox": [
             -83.03168330748801,
             42.3704739587119,
             -83.02765714009699,
             42.3740041311479
            ],
            "geometry": {
             "coordinates": [
              [
               [
                -83.02765714009699,
                42.3704739587119
               ],
               [
                -83.03168330748801,
                42.3729267980088
               ],
               [
                -83.0300131810269,
                42.3740041311479
               ],
               [
                -83.0286090076571,
                42.371996164798496
               ],
               [
                -83.0282829329547,
                42.371495493832
               ],
               [
                -83.02765714009699,
                42.3704739587119
               ]
              ]
             ],
             "type": "Polygon"
            },
            "id": "56",
            "properties": {},
            "type": "Feature"
           },
           {
            "bbox": [
             -82.9951064872794,
             42.3752349098891,
             -82.98112006938041,
             42.3846399912761
            ],
            "geometry": {
             "coordinates": [
              [
               [
                -82.9934946868774,
                42.3752349098891
               ],
               [
                -82.9951064872794,
                42.3776850554935
               ],
               [
                -82.9923723478732,
                42.381828305845
               ],
               [
                -82.9914586467481,
                42.382471030833294
               ],
               [
                -82.98374405666429,
                42.3846399912761
               ],
               [
                -82.98112006938041,
                42.3831068610207
               ],
               [
                -82.992314985956,
                42.375691504467895
               ],
               [
                -82.9934946868774,
                42.3752349098891
               ]
              ]
             ],
             "type": "Polygon"
            },
            "id": "57",
            "properties": {},
            "type": "Feature"
           },
           {
            "bbox": [
             -83.07330915749709,
             42.4104861324306,
             -83.0724644654702,
             42.411979148748294
            ],
            "geometry": {
             "coordinates": [
              [
               [
                -83.0726769074827,
                42.4104861324306
               ],
               [
                -83.07330915749709,
                42.411608144205296
               ],
               [
                -83.07330914327609,
                42.4116088301491
               ],
               [
                -83.0724644654702,
                42.411979148748294
               ],
               [
                -83.0726769074827,
                42.4104861324306
               ]
              ]
             ],
             "type": "Polygon"
            },
            "id": "58",
            "properties": {},
            "type": "Feature"
           },
           {
            "bbox": [
             -83.02733225886459,
             42.392682375136296,
             -83.02603655625309,
             42.394069282652296
            ],
            "geometry": {
             "coordinates": [
              [
               [
                -83.02603655625309,
                42.392682375136296
               ],
               [
                -83.0272191041662,
                42.3934761903715
               ],
               [
                -83.0272753400396,
                42.3936161343119
               ],
               [
                -83.02733225886459,
                42.394069282652296
               ],
               [
                -83.0273213584935,
                42.39405963087471
               ],
               [
                -83.02603655625309,
                42.392682375136296
               ]
              ]
             ],
             "type": "Polygon"
            },
            "id": "59",
            "properties": {},
            "type": "Feature"
           },
           {
            "bbox": [
             -82.9528137204677,
             42.3700298941395,
             -82.93795441890191,
             42.3769933510916
            ],
            "geometry": {
             "coordinates": [
              [
               [
                -82.94936964601841,
                42.3700298941395
               ],
               [
                -82.9528137204677,
                42.372555557117295
               ],
               [
                -82.9408904325111,
                42.3769933510916
               ],
               [
                -82.9397634710554,
                42.3752860321454
               ],
               [
                -82.93795441890191,
                42.372494853449396
               ],
               [
                -82.93865776472659,
                42.3721668975658
               ],
               [
                -82.94936964601841,
                42.3700298941395
               ]
              ]
             ],
             "type": "Polygon"
            },
            "id": "60",
            "properties": {},
            "type": "Feature"
           },
           {
            "bbox": [
             -83.1109675684946,
             42.4448179175071,
             -83.10723402591229,
             42.4468806930981
            ],
            "geometry": {
             "coordinates": [
              [
               [
                -83.11019014077971,
                42.4448179175071
               ],
               [
                -83.1102010368586,
                42.4448288508919
               ],
               [
                -83.1109675684946,
                42.445773656090005
               ],
               [
                -83.11089529587609,
                42.4467863100111
               ],
               [
                -83.1097082261063,
                42.446849950746795
               ],
               [
                -83.1085625790112,
                42.4468806930981
               ],
               [
                -83.10723402591229,
                42.4464269590256
               ],
               [
                -83.1074979948722,
                42.4458332228516
               ],
               [
                -83.1096035904931,
                42.444871809161
               ],
               [
                -83.11019014077971,
                42.4448179175071
               ]
              ]
             ],
             "type": "Polygon"
            },
            "id": "61",
            "properties": {},
            "type": "Feature"
           },
           {
            "bbox": [
             -83.11542146872141,
             42.428096303406896,
             -83.1023442163865,
             42.4369557291079
            ],
            "geometry": {
             "coordinates": [
              [
               [
                -83.1122495946999,
                42.428096303406896
               ],
               [
                -83.1132432751514,
                42.4289740598485
               ],
               [
                -83.11542146872141,
                42.432116388988106
               ],
               [
                -83.1154214566104,
                42.432116992622795
               ],
               [
                -83.1122016420261,
                42.4341638935314
               ],
               [
                -83.1112012511865,
                42.4347202518324
               ],
               [
                -83.10636567927321,
                42.4369557291079
               ],
               [
                -83.1053326981627,
                42.4363708812809
               ],
               [
                -83.1023442163865,
                42.4322801529619
               ],
               [
                -83.10513748579851,
                42.4306365032638
               ],
               [
                -83.1122495946999,
                42.428096303406896
               ]
              ]
             ],
             "type": "Polygon"
            },
            "id": "62",
            "properties": {},
            "type": "Feature"
           },
           {
            "bbox": [
             -83.0269465210257,
             42.38579298030871,
             -83.01231592172441,
             42.4009549834123
            ],
            "geometry": {
             "coordinates": [
              [
               [
                -83.01981336742,
                42.38579298030871
               ],
               [
                -83.0240142655306,
                42.388071741562705
               ],
               [
                -83.0269465210257,
                42.395652917701
               ],
               [
                -83.0262363864942,
                42.3980303974822
               ],
               [
                -83.02600323790159,
                42.3987139498844
               ],
               [
                -83.0230371842791,
                42.4009549834123
               ],
               [
                -83.0198946116535,
                42.4008989941031
               ],
               [
                -83.01231592172441,
                42.392826112487995
               ],
               [
                -83.0125255739382,
                42.3915250783314
               ],
               [
                -83.0125604179156,
                42.3914549063877
               ],
               [
                -83.0190671293486,
                42.38606312825421
               ],
               [
                -83.01981336742,
                42.38579298030871
               ]
              ]
             ],
             "type": "Polygon"
            },
            "id": "63",
            "properties": {},
            "type": "Feature"
           },
           {
            "bbox": [
             -83.03485678814451,
             42.3485687717613,
             -83.0316935777152,
             42.3511734778515
            ],
            "geometry": {
             "coordinates": [
              [
               [
                -83.03485678814451,
                42.3485687717613
               ],
               [
                -83.034856775271,
                42.3485693753884
               ],
               [
                -83.03434176731591,
                42.349297470126295
               ],
               [
                -83.03295495458441,
                42.3511734778515
               ],
               [
                -83.03170715220121,
                42.349312480572706
               ],
               [
                -83.0316935777152,
                42.3492551814963
               ],
               [
                -83.0326158913271,
                42.3488596013449
               ],
               [
                -83.032999875596,
                42.348723708340295
               ],
               [
                -83.0333268254527,
                42.3486597346362
               ],
               [
                -83.03485678814451,
                42.3485687717613
               ]
              ]
             ],
             "type": "Polygon"
            },
            "id": "64",
            "properties": {},
            "type": "Feature"
           },
           {
            "bbox": [
             -83.2474289331996,
             42.397732430897705,
             -83.2458580349082,
             42.3983245078405
            ],
            "geometry": {
             "coordinates": [
              [
               [
                -83.247017282101,
                42.397732430897705
               ],
               [
                -83.2474289331996,
                42.3979018346337
               ],
               [
                -83.2470770080778,
                42.3983245078405
               ],
               [
                -83.24700308248299,
                42.3983174397116
               ],
               [
                -83.2458580349082,
                42.3979573680425
               ],
               [
                -83.247017282101,
                42.397732430897705
               ]
              ]
             ],
             "type": "Polygon"
            },
            "id": "65",
            "properties": {},
            "type": "Feature"
           },
           {
            "bbox": [
             -83.07600134879509,
             42.319097273688705,
             -83.0744328681952,
             42.321936564849295
            ],
            "geometry": {
             "coordinates": [
              [
               [
                -83.0744328681952,
                42.319097273688705
               ],
               [
                -83.0755997383038,
                42.320253695950896
               ],
               [
                -83.07600134879509,
                42.321936564849295
               ],
               [
                -83.07594756275199,
                42.32185491000261
               ],
               [
                -83.0752126203707,
                42.320554277625796
               ],
               [
                -83.0752019290473,
                42.3205347802606
               ],
               [
                -83.0744328681952,
                42.319097273688705
               ]
              ]
             ],
             "type": "Polygon"
            },
            "id": "66",
            "properties": {},
            "type": "Feature"
           },
           {
            "bbox": [
             -83.0275613478027,
             42.3603507914918,
             -83.02406601511359,
             42.362959560011504
            ],
            "geometry": {
             "coordinates": [
              [
               [
                -83.0241145243226,
                42.3603507914918
               ],
               [
                -83.0275613478027,
                42.360791591635106
               ],
               [
                -83.02754243630909,
                42.3625359876832
               ],
               [
                -83.0251501224327,
                42.362959560011504
               ],
               [
                -83.0245590448274,
                42.3620509387899
               ],
               [
                -83.02406601511359,
                42.3603695112418
               ],
               [
                -83.0241145243226,
                42.3603507914918
               ]
              ]
             ],
             "type": "Polygon"
            },
            "id": "67",
            "properties": {},
            "type": "Feature"
           },
           {
            "bbox": [
             -83.04292464479241,
             42.3716714595512,
             -83.03121119293729,
             42.379279271672395
            ],
            "geometry": {
             "coordinates": [
              [
               [
                -83.0386239503089,
                42.3716714595512
               ],
               [
                -83.0429029339645,
                42.3726984526393
               ],
               [
                -83.04292464479241,
                42.372721868856296
               ],
               [
                -83.04262511544229,
                42.3756755938395
               ],
               [
                -83.0416764126927,
                42.3762525233256
               ],
               [
                -83.03387576387709,
                42.379279271672395
               ],
               [
                -83.03375542961079,
                42.3791940712384
               ],
               [
                -83.03204560924041,
                42.377966842381
               ],
               [
                -83.03121119293729,
                42.3770020463344
               ],
               [
                -83.03212934732059,
                42.374569680492705
               ],
               [
                -83.0337121583556,
                42.3734203474956
               ],
               [
                -83.0386239503089,
                42.3716714595512
               ]
              ]
             ],
             "type": "Polygon"
            },
            "id": "68",
            "properties": {},
            "type": "Feature"
           },
           {
            "bbox": [
             -83.0369200516748,
             42.358504579458796,
             -83.0357257714051,
             42.3601014037721
            ],
            "geometry": {
             "coordinates": [
              [
               [
                -83.0360251022844,
                42.358504579458796
               ],
               [
                -83.0361089254032,
                42.3585649244132
               ],
               [
                -83.036530669889,
                42.35926445889729
               ],
               [
                -83.0369200516748,
                42.3599202229139
               ],
               [
                -83.0363315156502,
                42.3601014037721
               ],
               [
                -83.0357257714051,
                42.35952732803
               ],
               [
                -83.0360251022844,
                42.358504579458796
               ]
              ]
             ],
             "type": "Polygon"
            },
            "id": "69",
            "properties": {},
            "type": "Feature"
           },
           {
            "bbox": [
             -82.9525040548379,
             42.377135613159,
             -82.94578875912559,
             42.3796258362604
            ],
            "geometry": {
             "coordinates": [
              [
               [
                -82.9521547425204,
                42.377135613159
               ],
               [
                -82.9523279394872,
                42.37733323321039
               ],
               [
                -82.9525040548379,
                42.3777288493027
               ],
               [
                -82.947334247979,
                42.3796240742059
               ],
               [
                -82.9472490685639,
                42.3796258362604
               ],
               [
                -82.94578875912559,
                42.379543844839795
               ],
               [
                -82.94579766945009,
                42.379477649406
               ],
               [
                -82.95015472972341,
                42.3778396159209
               ],
               [
                -82.9521547425204,
                42.377135613159
               ]
              ]
             ],
             "type": "Polygon"
            },
            "id": "70",
            "properties": {},
            "type": "Feature"
           },
           {
            "bbox": [
             -83.1540279823263,
             42.3517599353391,
             -83.15263177671459,
             42.352271370964
            ],
            "geometry": {
             "coordinates": [
              [
               [
                -83.15399020653409,
                42.3517599353391
               ],
               [
                -83.1540279823263,
                42.3521009997664
               ],
               [
                -83.1539765745065,
                42.352271370964
               ],
               [
                -83.1526864808058,
                42.3520199430649
               ],
               [
                -83.15263177671459,
                42.3517887470057
               ],
               [
                -83.15375331601979,
                42.3517648687787
               ],
               [
                -83.15399020653409,
                42.3517599353391
               ]
              ]
             ],
             "type": "Polygon"
            },
            "id": "71",
            "properties": {},
            "type": "Feature"
           },
           {
            "bbox": [
             -83.0048773869285,
             42.3527218768722,
             -82.9962290593656,
             42.3620946454905
            ],
            "geometry": {
             "coordinates": [
              [
               [
                -83.00367657169942,
                42.3527218768722
               ],
               [
                -83.0036801528226,
                42.3527273264683
               ],
               [
                -83.0047211503448,
                42.3543652303768
               ],
               [
                -83.0048773869285,
                42.354666525778796
               ],
               [
                -83.00487737196879,
                42.3546672117147
               ],
               [
                -83.00285423429409,
                42.3608957393321
               ],
               [
                -83.0019782227006,
                42.3611876234614
               ],
               [
                -82.9991052090716,
                42.3620946454905
               ],
               [
                -82.9989796146687,
                42.361915345932395
               ],
               [
                -82.9962290593656,
                42.3555540375093
               ],
               [
                -82.99742671848621,
                42.354934767086
               ],
               [
                -82.998199686931,
                42.3546142318806
               ],
               [
                -83.00367657169942,
                42.3527218768722
               ]
              ]
             ],
             "type": "Polygon"
            },
            "id": "72",
            "properties": {},
            "type": "Feature"
           },
           {
            "bbox": [
             -83.1154169663617,
             42.3479187569281,
             -83.1132389754934,
             42.3487036696368
            ],
            "geometry": {
             "coordinates": [
              [
               [
                -83.11430039936741,
                42.3479187569281
               ],
               [
                -83.1154169663617,
                42.348509977632
               ],
               [
                -83.1132524247692,
                42.3487036696368
               ],
               [
                -83.11324952106409,
                42.34866400833
               ],
               [
                -83.1132389754934,
                42.348267764144104
               ],
               [
                -83.1132638291012,
                42.34795114194171
               ],
               [
                -83.11430039936741,
                42.3479187569281
               ]
              ]
             ],
             "type": "Polygon"
            },
            "id": "73",
            "properties": {},
            "type": "Feature"
           },
           {
            "bbox": [
             -82.99466891916892,
             42.360597734593796,
             -82.9785578514818,
             42.3805888287225
            ],
            "geometry": {
             "coordinates": [
              [
               [
                -82.9897497059538,
                42.360597734593796
               ],
               [
                -82.9942882372064,
                42.3606907073009
               ],
               [
                -82.99466891916892,
                42.3612175262764
               ],
               [
                -82.9946688757575,
                42.3612195017678
               ],
               [
                -82.99242315723271,
                42.3709463397085
               ],
               [
                -82.991382063477,
                42.3743547124065
               ],
               [
                -82.99080164848641,
                42.375498463317
               ],
               [
                -82.99000094955059,
                42.376391523203296
               ],
               [
                -82.98602988899471,
                42.3783708655429
               ],
               [
                -82.9831263657008,
                42.379772775987206
               ],
               [
                -82.9810093885381,
                42.3805888287225
               ],
               [
                -82.9785724405277,
                42.379144781549705
               ],
               [
                -82.9785578514818,
                42.3791349975384
               ],
               [
                -82.9785578569735,
                42.3791347506029
               ],
               [
                -82.9809523473263,
                42.3721536798322
               ],
               [
                -82.987752904449,
                42.3632108495335
               ],
               [
                -82.9890411188551,
                42.3615170424397
               ],
               [
                -82.9897497059538,
                42.360597734593796
               ]
              ]
             ],
             "type": "Polygon"
            },
            "id": "74",
            "properties": {},
            "type": "Feature"
           },
           {
            "bbox": [
             -83.1200032085172,
             42.290024953260705,
             -83.1134511226811,
             42.2962664617077
            ],
            "geometry": {
             "coordinates": [
              [
               [
                -83.11877221593001,
                42.290024953260705
               ],
               [
                -83.1200032085172,
                42.2948370034189
               ],
               [
                -83.1167129162801,
                42.2961481210454
               ],
               [
                -83.1163371873033,
                42.2962664617077
               ],
               [
                -83.11511369596559,
                42.295892157654
               ],
               [
                -83.1134511226811,
                42.2923438014019
               ],
               [
                -83.1134511452366,
                42.2923426764441
               ],
               [
                -83.11435488085749,
                42.2909609996436
               ],
               [
                -83.1150010612109,
                42.2906257697596
               ],
               [
                -83.11877221593001,
                42.290024953260705
               ]
              ]
             ],
             "type": "Polygon"
            },
            "id": "75",
            "properties": {},
            "type": "Feature"
           },
           {
            "bbox": [
             -82.9754945767369,
             42.368263604419205,
             -82.9715300195822,
             42.3696227882152
            ],
            "geometry": {
             "coordinates": [
              [
               [
                -82.9754945767369,
                42.368263604419205
               ],
               [
                -82.9747863126682,
                42.368823029801
               ],
               [
                -82.9715300195822,
                42.3696227882152
               ],
               [
                -82.9723544721528,
                42.36833711127721
               ],
               [
                -82.9754945767369,
                42.368263604419205
               ]
              ]
             ],
             "type": "Polygon"
            },
            "id": "76",
            "properties": {},
            "type": "Feature"
           },
           {
            "bbox": [
             -83.17021383847741,
             42.3914159175404,
             -83.1688286857452,
             42.3950630215913
            ],
            "geometry": {
             "coordinates": [
              [
               [
                -83.16887647613271,
                42.3914159175404
               ],
               [
                -83.17021383847741,
                42.3950407370541
               ],
               [
                -83.1688286857452,
                42.3950630215913
               ],
               [
                -83.16887647613271,
                42.3914159175404
               ]
              ]
             ],
             "type": "Polygon"
            },
            "id": "77",
            "properties": {},
            "type": "Feature"
           },
           {
            "bbox": [
             -83.04428109345821,
             42.446919192097,
             -83.0372968251077,
             42.4478943622184
            ],
            "geometry": {
             "coordinates": [
              [
               [
                -83.04195707754609,
                42.446919192097
               ],
               [
                -83.0442701700198,
                42.447756227076
               ],
               [
                -83.04428109345821,
                42.4477653558951
               ],
               [
                -83.04194160102558,
                42.447822013225796
               ],
               [
                -83.03941692455349,
                42.447873688512004
               ],
               [
                -83.0372968251077,
                42.4478943622184
               ],
               [
                -83.04195707754609,
                42.446919192097
               ]
              ]
             ],
             "type": "Polygon"
            },
            "id": "78",
            "properties": {},
            "type": "Feature"
           },
           {
            "bbox": [
             -83.27625651602808,
             42.3833905333636,
             -83.27102444872492,
             42.3890682163674
            ],
            "geometry": {
             "coordinates": [
              [
               [
                -83.27468214941959,
                42.3833905333636
               ],
               [
                -83.2747191517449,
                42.383391383154795
               ],
               [
                -83.276248950725,
                42.3852417113604
               ],
               [
                -83.27625651602808,
                42.385444343092296
               ],
               [
                -83.27613766858241,
                42.3890682163674
               ],
               [
                -83.2734088669812,
                42.388878939783396
               ],
               [
                -83.27329862520679,
                42.3888321579175
               ],
               [
                -83.2711276435043,
                42.3859699181646
               ],
               [
                -83.27102444872492,
                42.3840459955631
               ],
               [
                -83.2710419283906,
                42.3834719947399
               ],
               [
                -83.27468214941959,
                42.3833905333636
               ]
              ]
             ],
             "type": "Polygon"
            },
            "id": "79",
            "properties": {},
            "type": "Feature"
           },
           {
            "bbox": [
             -83.03682176957709,
             42.3318725615405,
             -83.02411979201179,
             42.3379487013216
            ],
            "geometry": {
             "coordinates": [
              [
               [
                -83.0352719517864,
                42.3318725615405
               ],
               [
                -83.036292230322,
                42.3324215075713
               ],
               [
                -83.036313950386,
                42.3324437178108
               ],
               [
                -83.03682176957709,
                42.333261834718
               ],
               [
                -83.0255504526515,
                42.3379487013216
               ],
               [
                -83.02421656855809,
                42.337533692985204
               ],
               [
                -83.02411979201179,
                42.336701061313796
               ],
               [
                -83.02686831440609,
                42.3330757986021
               ],
               [
                -83.027557157246,
                42.332863688348496
               ],
               [
                -83.02802233886949,
                42.3327320373646
               ],
               [
                -83.0352719517864,
                42.3318725615405
               ]
              ]
             ],
             "type": "Polygon"
            },
            "id": "80",
            "properties": {},
            "type": "Feature"
           },
           {
            "bbox": [
             -83.08732349253759,
             42.3432129228116,
             -83.0843743434095,
             42.3455577932413
            ],
            "geometry": {
             "coordinates": [
              [
               [
                -83.087174247688,
                42.3432129228116
               ],
               [
                -83.08729852464829,
                42.34328636496421
               ],
               [
                -83.08732349253759,
                42.3433316823731
               ],
               [
                -83.08463637942342,
                42.3455577932413
               ],
               [
                -83.0843743434095,
                42.3451664971653
               ],
               [
                -83.08590712340309,
                42.343306100694605
               ],
               [
                -83.087174247688,
                42.3432129228116
               ]
              ]
             ],
             "type": "Polygon"
            },
            "id": "81",
            "properties": {},
            "type": "Feature"
           },
           {
            "bbox": [
             -83.074839326035,
             42.364490816170296,
             -83.07411132040392,
             42.365614025712205
            ],
            "geometry": {
             "coordinates": [
              [
               [
                -83.07411132040392,
                42.364490816170296
               ],
               [
                -83.0746929083238,
                42.365357210244206
               ],
               [
                -83.074839326035,
                42.365614025712205
               ],
               [
                -83.07461861782309,
                42.365370498529394
               ],
               [
                -83.07411132040392,
                42.364490816170296
               ]
              ]
             ],
             "type": "Polygon"
            },
            "id": "82",
            "properties": {},
            "type": "Feature"
           },
           {
            "bbox": [
             -83.0325146245778,
             42.3431193463194,
             -83.021545426256,
             42.3482417048933
            ],
            "geometry": {
             "coordinates": [
              [
               [
                -83.0260535334555,
                42.3431193463194
               ],
               [
                -83.030415202553,
                42.3446768052281
               ],
               [
                -83.0325146245778,
                42.3454602634055
               ],
               [
                -83.0290826993831,
                42.34781653819479
               ],
               [
                -83.0290454025117,
                42.3478305069706
               ],
               [
                -83.02839359742799,
                42.3480332946238
               ],
               [
                -83.0239715774925,
                42.3482417048933
               ],
               [
                -83.02166011815349,
                42.347683969213904
               ],
               [
                -83.021545426256,
                42.347340404027
               ],
               [
                -83.0218561471247,
                42.346484057120705
               ],
               [
                -83.0259377403368,
                42.3431710011358
               ],
               [
                -83.0260535334555,
                42.3431193463194
               ]
              ]
             ],
             "type": "Polygon"
            },
            "id": "83",
            "properties": {},
            "type": "Feature"
           },
           {
            "bbox": [
             -83.09684079743201,
             42.3294435406593,
             -83.08203240565071,
             42.3348927824705
            ],
            "geometry": {
             "coordinates": [
              [
               [
                -83.0917873854184,
                42.3294435406593
               ],
               [
                -83.0967951628532,
                42.331271467811604
               ],
               [
                -83.09684079743201,
                42.333939221147
               ],
               [
                -83.0965698828994,
                42.3348927824705
               ],
               [
                -83.08406174128041,
                42.334627980517
               ],
               [
                -83.0836451486541,
                42.334380307001204
               ],
               [
                -83.08203240565071,
                42.3313232148974
               ],
               [
                -83.08305747086351,
                42.3303983919459
               ],
               [
                -83.0836360215728,
                42.3303227403967
               ],
               [
                -83.0917873854184,
                42.3294435406593
               ]
              ]
             ],
             "type": "Polygon"
            },
            "id": "84",
            "properties": {},
            "type": "Feature"
           },
           {
            "bbox": [
             -82.97603972840571,
             42.3892873509796,
             -82.97467756614459,
             42.390464144458605
            ],
            "geometry": {
             "coordinates": [
              [
               [
                -82.97602922503908,
                42.3892873509796
               ],
               [
                -82.97603972840571,
                42.389314430342395
               ],
               [
                -82.9757740097371,
                42.389774882800296
               ],
               [
                -82.97467756614459,
                42.390464144458605
               ],
               [
                -82.976006629277,
                42.3893045017029
               ],
               [
                -82.97602922503908,
                42.3892873509796
               ]
              ]
             ],
             "type": "Polygon"
            },
            "id": "85",
            "properties": {},
            "type": "Feature"
           },
           {
            "bbox": [
             -83.027258659313,
             42.404402150533706,
             -83.0197076322254,
             42.4083129755057
            ],
            "geometry": {
             "coordinates": [
              [
               [
                -83.0230999636622,
                42.404402150533706
               ],
               [
                -83.0260834562827,
                42.404976244570705
               ],
               [
                -83.027258659313,
                42.405605577315704
               ],
               [
                -83.02633002611871,
                42.408150802144704
               ],
               [
                -83.02164920167259,
                42.4083129755057
               ],
               [
                -83.0197076322254,
                42.4081881792224
               ],
               [
                -83.0204201160131,
                42.406920098773206
               ],
               [
                -83.0230999636622,
                42.404402150533706
               ]
              ]
             ],
             "type": "Polygon"
            },
            "id": "86",
            "properties": {},
            "type": "Feature"
           },
           {
            "bbox": [
             -82.9589044335081,
             42.3689082785875,
             -82.95582557479341,
             42.3703067838889
            ],
            "geometry": {
             "coordinates": [
              [
               [
                -82.95873291076241,
                42.3689082785875
               ],
               [
                -82.9589044335081,
                42.3700006525682
               ],
               [
                -82.9589044217521,
                42.370001173874705
               ],
               [
                -82.9579844241238,
                42.37009498580729
               ],
               [
                -82.9569235191745,
                42.370200351468
               ],
               [
                -82.95582557479341,
                42.3703067838889
               ],
               [
                -82.95582559401629,
                42.370305933336795
               ],
               [
                -82.95873291076241,
                42.3689082785875
               ]
              ]
             ],
             "type": "Polygon"
            },
            "id": "87",
            "properties": {},
            "type": "Feature"
           },
           {
            "bbox": [
             -82.9832158615105,
             42.39271725726471,
             -82.9828393725755,
             42.3929383274642
            ],
            "geometry": {
             "coordinates": [
              [
               [
                -82.9828393725755,
                42.39271725726471
               ],
               [
                -82.9832158615105,
                42.392936681226104
               ],
               [
                -82.9832158250139,
                42.3929383274642
               ],
               [
                -82.982853957558,
                42.392727397407604
               ],
               [
                -82.9828393725755,
                42.39271725726471
               ]
              ]
             ],
             "type": "Polygon"
            },
            "id": "88",
            "properties": {},
            "type": "Feature"
           },
           {
            "bbox": [
             -83.0441039950405,
             42.358260536691105,
             -83.0434384596701,
             42.359359508205706
            ],
            "geometry": {
             "coordinates": [
              [
               [
                -83.0434384596701,
                42.358260536691105
               ],
               [
                -83.0440897362942,
                42.3593081879053
               ],
               [
                -83.0441039950405,
                42.3593338224539
               ],
               [
                -83.0441002571562,
                42.3593355902335
               ],
               [
                -83.0440331425943,
                42.359359508205706
               ],
               [
                -83.0434384596701,
                42.358260536691105
               ]
              ]
             ],
             "type": "Polygon"
            },
            "id": "89",
            "properties": {},
            "type": "Feature"
           },
           {
            "bbox": [
             -83.0369345951448,
             42.3592458746071,
             -83.0280926703125,
             42.371175701026004
            ],
            "geometry": {
             "coordinates": [
              [
               [
                -83.0339962648453,
                42.3592458746071
               ],
               [
                -83.03507998839271,
                42.3608311602396
               ],
               [
                -83.0369345951448,
                42.3637549039827
               ],
               [
                -83.0346877216069,
                42.36881075441671
               ],
               [
                -83.0332641343484,
                42.371175701026004
               ],
               [
                -83.0310212057598,
                42.3710042375244
               ],
               [
                -83.0304399236893,
                42.3703220987969
               ],
               [
                -83.0290920795565,
                42.368624813341896
               ],
               [
                -83.0280926703125,
                42.366387450546206
               ],
               [
                -83.03217685935691,
                42.3600548593539
               ],
               [
                -83.0339962648453,
                42.3592458746071
               ]
              ]
             ],
             "type": "Polygon"
            },
            "id": "90",
            "properties": {},
            "type": "Feature"
           },
           {
            "bbox": [
             -82.97369147666441,
             42.365475500133,
             -82.9705738261472,
             42.3670334460932
            ],
            "geometry": {
             "coordinates": [
              [
               [
                -82.97369147666441,
                42.365475500133
               ],
               [
                -82.9728292558579,
                42.365969297132295
               ],
               [
                -82.9705738261472,
                42.3670334460932
               ],
               [
                -82.9706119758744,
                42.3669824562525
               ],
               [
                -82.9710767010473,
                42.36672264185621
               ],
               [
                -82.97369147666441,
                42.365475500133
               ]
              ]
             ],
             "type": "Polygon"
            },
            "id": "91",
            "properties": {},
            "type": "Feature"
           },
           {
            "bbox": [
             -83.05517493774,
             42.3509894922645,
             -83.04478057899291,
             42.363290479571496
            ],
            "geometry": {
             "coordinates": [
              [
               [
                -83.04854675805491,
                42.3509894922645
               ],
               [
                -83.0509634757704,
                42.35271436483121
               ],
               [
                -83.05517493774,
                42.3609554115233
               ],
               [
                -83.0545781878626,
                42.363290479571496
               ],
               [
                -83.050578855188,
                42.3623610782736
               ],
               [
                -83.04899182699721,
                42.3600562757998
               ],
               [
                -83.04478057899291,
                42.352720218369
               ],
               [
                -83.0455190094646,
                42.3513957864555
               ],
               [
                -83.04854675805491,
                42.3509894922645
               ]
              ]
             ],
             "type": "Polygon"
            },
            "id": "92",
            "properties": {},
            "type": "Feature"
           },
           {
            "bbox": [
             -82.9758411123066,
             42.401358128994104,
             -82.9749925554808,
             42.402204262913706
            ],
            "geometry": {
             "coordinates": [
              [
               [
                -82.9758231431203,
                42.401358128994104
               ],
               [
                -82.9758411123066,
                42.4013826101746
               ],
               [
                -82.9757524390905,
                42.402204262913706
               ],
               [
                -82.9749925554808,
                42.401574374794
               ],
               [
                -82.9758231431203,
                42.401358128994104
               ]
              ]
             ],
             "type": "Polygon"
            },
            "id": "93",
            "properties": {},
            "type": "Feature"
           },
           {
            "bbox": [
             -83.100863156061,
             42.29813919789979,
             -83.09884144707,
             42.3002479945073
            ],
            "geometry": {
             "coordinates": [
              [
               [
                -83.1008250338506,
                42.29813919789979
               ],
               [
                -83.100863156061,
                42.2999074650714
               ],
               [
                -83.09884144707,
                42.3002479945073
               ],
               [
                -83.1008250338506,
                42.29813919789979
               ]
              ]
             ],
             "type": "Polygon"
            },
            "id": "94",
            "properties": {},
            "type": "Feature"
           },
           {
            "bbox": [
             -83.01303689130451,
             42.3468462151031,
             -83.00709697826899,
             42.350190248771604
            ],
            "geometry": {
             "coordinates": [
              [
               [
                -83.0122993776245,
                42.3468462151031
               ],
               [
                -83.01303689130451,
                42.3483238205045
               ],
               [
                -83.0091496905595,
                42.349795845102
               ],
               [
                -83.0078720434609,
                42.350190248771604
               ],
               [
                -83.0074323734013,
                42.3496517902298
               ],
               [
                -83.00733561770001,
                42.3495074803426
               ],
               [
                -83.0072532411716,
                42.3493824989371
               ],
               [
                -83.00709697826899,
                42.3490824963435
               ],
               [
                -83.00709698006109,
                42.3490824140311
               ],
               [
                -83.0083447977514,
                42.3485277151477
               ],
               [
                -83.010619667495,
                42.3475294246338
               ],
               [
                -83.0118445421317,
                42.3470061398035
               ],
               [
                -83.0122993776245,
                42.3468462151031
               ]
              ]
             ],
             "type": "Polygon"
            },
            "id": "95",
            "properties": {},
            "type": "Feature"
           },
           {
            "bbox": [
             -83.1208638756882,
             42.4465449740566,
             -83.1179246085943,
             42.4466100008504
            ],
            "geometry": {
             "coordinates": [
              [
               [
                -83.11939331424671,
                42.4465449740566
               ],
               [
                -83.1208638756882,
                42.446572352471705
               ],
               [
                -83.1179246085943,
                42.4466100008504
               ],
               [
                -83.11828072693571,
                42.44659083206
               ],
               [
                -83.11939331424671,
                42.4465449740566
               ]
              ]
             ],
             "type": "Polygon"
            },
            "id": "96",
            "properties": {},
            "type": "Feature"
           },
           {
            "bbox": [
             -82.9687398151987,
             42.383696398255,
             -82.9678429550608,
             42.3839828511639
            ],
            "geometry": {
             "coordinates": [
              [
               [
                -82.96784295875041,
                42.383696398255
               ],
               [
                -82.9687398151987,
                42.3839828511639
               ],
               [
                -82.9680339670246,
                42.3839281895496
               ],
               [
                -82.9678429550608,
                42.3836965628783
               ],
               [
                -82.96784295875041,
                42.383696398255
               ]
              ]
             ],
             "type": "Polygon"
            },
            "id": "97",
            "properties": {},
            "type": "Feature"
           },
           {
            "bbox": [
             -83.0422686322205,
             42.3874479567753,
             -83.0352130557111,
             42.3920991311275
            ],
            "geometry": {
             "coordinates": [
              [
               [
                -83.036092878538,
                42.3874479567753
               ],
               [
                -83.04155855887409,
                42.3891271328469
               ],
               [
                -83.04208626305291,
                42.390603183839104
               ],
               [
                -83.0422686322205,
                42.391255907727
               ],
               [
                -83.04197043759629,
                42.3920481529588
               ],
               [
                -83.039547996626,
                42.3920991311275
               ],
               [
                -83.0373066323999,
                42.391296844312
               ],
               [
                -83.0353720846436,
                42.390345875327796
               ],
               [
                -83.0352130557111,
                42.3889497236834
               ],
               [
                -83.0355483291692,
                42.388331708108296
               ],
               [
                -83.036092878538,
                42.3874479567753
               ]
              ]
             ],
             "type": "Polygon"
            },
            "id": "98",
            "properties": {},
            "type": "Feature"
           },
           {
            "bbox": [
             -82.9799002930391,
             42.3890224296743,
             -82.97782527627959,
             42.3908353315416
            ],
            "geometry": {
             "coordinates": [
              [
               [
                -82.9780121278885,
                42.3890224296743
               ],
               [
                -82.9792710746557,
                42.389846832843496
               ],
               [
                -82.9799002930391,
                42.390354368915894
               ],
               [
                -82.9798525815141,
                42.3908353315416
               ],
               [
                -82.9787778938248,
                42.3902146589596
               ],
               [
                -82.97782527627959,
                42.389100585258795
               ],
               [
                -82.9780121278885,
                42.3890224296743
               ]
              ]
             ],
             "type": "Polygon"
            },
            "id": "99",
            "properties": {},
            "type": "Feature"
           },
           {
            "bbox": [
             -83.2491544997356,
             42.4429635700958,
             -83.24753197405029,
             42.4435615700315
            ],
            "geometry": {
             "coordinates": [
              [
               [
                -83.2491544997356,
                42.4429635700958
               ],
               [
                -83.24913394851409,
                42.443490033882796
               ],
               [
                -83.24753197405029,
                42.4435615700315
               ],
               [
                -83.2491544997356,
                42.4429635700958
               ]
              ]
             ],
             "type": "Polygon"
            },
            "id": "100",
            "properties": {},
            "type": "Feature"
           },
           {
            "bbox": [
             -83.2645500726947,
             42.3416946750394,
             -83.25362271297679,
             42.352810254096205
            ],
            "geometry": {
             "coordinates": [
              [
               [
                -83.25897538272329,
                42.3416946750394
               ],
               [
                -83.2600179309716,
                42.3417309177284
               ],
               [
                -83.26368894603509,
                42.3450059097878
               ],
               [
                -83.26432817008859,
                42.3507091196602
               ],
               [
                -83.2645500726947,
                42.352810254096205
               ],
               [
                -83.26208051950829,
                42.352697825069
               ],
               [
                -83.25712462307649,
                42.35008756196871
               ],
               [
                -83.2562449974754,
                42.349411837398
               ],
               [
                -83.25515619523841,
                42.3484335245367
               ],
               [
                -83.25425767842042,
                42.347366969381106
               ],
               [
                -83.25414535823279,
                42.3466110644151
               ],
               [
                -83.25362271297679,
                42.3418934090831
               ],
               [
                -83.2548598570035,
                42.3418042426625
               ],
               [
                -83.2551818553157,
                42.341795129673706
               ],
               [
                -83.25897538272329,
                42.3416946750394
               ]
              ]
             ],
             "type": "Polygon"
            },
            "id": "101",
            "properties": {},
            "type": "Feature"
           },
           {
            "bbox": [
             -83.0270822879792,
             42.3777236859923,
             -83.0190176807465,
             42.381618331259205
            ],
            "geometry": {
             "coordinates": [
              [
               [
                -83.0190176807465,
                42.3777236859923
               ],
               [
                -83.0216660537218,
                42.377813407984796
               ],
               [
                -83.0249281739152,
                42.377936476921896
               ],
               [
                -83.0266525771152,
                42.378650417942794
               ],
               [
                -83.0270822879792,
                42.3796700836554
               ],
               [
                -83.0270748241213,
                42.3796729047161
               ],
               [
                -83.02169521610429,
                42.3816135290484
               ],
               [
                -83.0216580948695,
                42.381618331259205
               ],
               [
                -83.01967744919091,
                42.3787114491136
               ],
               [
                -83.0190176807465,
                42.3777236859923
               ]
              ]
             ],
             "type": "Polygon"
            },
            "id": "102",
            "properties": {},
            "type": "Feature"
           },
           {
            "bbox": [
             -83.0137181914809,
             42.419428878353706,
             -83.0135458723032,
             42.419681937861704
            ],
            "geometry": {
             "coordinates": [
              [
               [
                -83.0135458723032,
                42.419428878353706
               ],
               [
                -83.0137181914809,
                42.4196812519257
               ],
               [
                -83.0137181766028,
                42.419681937861704
               ],
               [
                -83.0135458723032,
                42.419428878353706
               ]
              ]
             ],
             "type": "Polygon"
            },
            "id": "103",
            "properties": {},
            "type": "Feature"
           },
           {
            "bbox": [
             -82.9857931620327,
             42.3886142275014,
             -82.98468150275109,
             42.390952864063294
            ],
            "geometry": {
             "coordinates": [
              [
               [
                -82.98468150275109,
                42.3886142275014
               ],
               [
                -82.9851784757736,
                42.3892436257376
               ],
               [
                -82.9857931620327,
                42.3902424589966
               ],
               [
                -82.98524736334709,
                42.3908146300058
               ],
               [
                -82.98502957729809,
                42.3909523877841
               ],
               [
                -82.98502586439841,
                42.390952864063294
               ],
               [
                -82.98468150275109,
                42.3886142275014
               ]
              ]
             ],
             "type": "Polygon"
            },
            "id": "104",
            "properties": {},
            "type": "Feature"
           },
           {
            "bbox": [
             -83.0674494863212,
             42.3707270305565,
             -83.0589363763825,
             42.3788490335992
            ],
            "geometry": {
             "coordinates": [
              [
               [
                -83.05895573671191,
                42.3707270305565
               ],
               [
                -83.063982286642,
                42.3723015265425
               ],
               [
                -83.0658676033842,
                42.3731219637601
               ],
               [
                -83.066949163958,
                42.3746834978529
               ],
               [
                -83.06734398637042,
                42.3752755715079
               ],
               [
                -83.0674494863212,
                42.3782092828347
               ],
               [
                -83.06685377599871,
                42.378375611032794
               ],
               [
                -83.06299797449691,
                42.3788490335992
               ],
               [
                -83.06220891665609,
                42.378524499115294
               ],
               [
                -83.05952737340169,
                42.3750663041056
               ],
               [
                -83.0589363763825,
                42.374124662526
               ],
               [
                -83.05895573671191,
                42.3707270305565
               ]
              ]
             ],
             "type": "Polygon"
            },
            "id": "105",
            "properties": {},
            "type": "Feature"
           },
           {
            "bbox": [
             -83.0217660321145,
             42.335115510022995,
             -83.02064825504459,
             42.3371666106624
            ],
            "geometry": {
             "coordinates": [
              [
               [
                -83.0209320268056,
                42.335115510022995
               ],
               [
                -83.0217660321145,
                42.33692507375021
               ],
               [
                -83.0217660208893,
                42.33692559506329
               ],
               [
                -83.0211282972384,
                42.33716572163971
               ],
               [
                -83.0211245789452,
                42.3371666106624
               ],
               [
                -83.0211099983603,
                42.3371565851749
               ],
               [
                -83.02064825504459,
                42.3352383066492
               ],
               [
                -83.0209320268056,
                42.335115510022995
               ]
              ]
             ],
             "type": "Polygon"
            },
            "id": "106",
            "properties": {},
            "type": "Feature"
           },
           {
            "bbox": [
             -82.9539506424979,
             42.368557050893,
             -82.9530275816442,
             42.370508166648996
            ],
            "geometry": {
             "coordinates": [
              [
               [
                -82.95351865354391,
                42.368557050893
               ],
               [
                -82.9539506424979,
                42.3690933760699
               ],
               [
                -82.95373726778159,
                42.370508166648996
               ],
               [
                -82.9530275816442,
                42.3694861217132
               ],
               [
                -82.9530275996624,
                42.36948532603579
               ],
               [
                -82.95351865354391,
                42.368557050893
               ]
              ]
             ],
             "type": "Polygon"
            },
            "id": "107",
            "properties": {},
            "type": "Feature"
           },
           {
            "bbox": [
             -83.19823804666109,
             42.378883286887,
             -83.19802203565341,
             42.37959411272929
            ],
            "geometry": {
             "coordinates": [
              [
               [
                -83.19802203565341,
                42.378883286887
               ],
               [
                -83.1982254745185,
                42.3788909515568
               ],
               [
                -83.19823804666109,
                42.3794057592817
               ],
               [
                -83.1980494438108,
                42.37959411272929
               ],
               [
                -83.19802203565341,
                42.378883286887
               ]
              ]
             ],
             "type": "Polygon"
            },
            "id": "108",
            "properties": {},
            "type": "Feature"
           },
           {
            "bbox": [
             -83.0718541088795,
             42.3823172738083,
             -83.0674836189196,
             42.3883115157065
            ],
            "geometry": {
             "coordinates": [
              [
               [
                -83.0696479748065,
                42.3823172738083
               ],
               [
                -83.0706455991556,
                42.3829415222402
               ],
               [
                -83.0711591362735,
                42.3837038283449
               ],
               [
                -83.0718541088795,
                42.3864275286849
               ],
               [
                -83.0713302551274,
                42.3872309954943
               ],
               [
                -83.0697899511726,
                42.3883115157065
               ],
               [
                -83.0677221865015,
                42.3868053712161
               ],
               [
                -83.0674836189196,
                42.385639114574296
               ],
               [
                -83.0696479748065,
                42.3823172738083
               ]
              ]
             ],
             "type": "Polygon"
            },
            "id": "109",
            "properties": {},
            "type": "Feature"
           },
           {
            "bbox": [
             -83.0730509201792,
             42.36583722844011,
             -83.0724132623987,
             42.366389220244706
            ],
            "geometry": {
             "coordinates": [
              [
               [
                -83.0730509201792,
                42.36583722844011
               ],
               [
                -83.0726323902543,
                42.366389220244706
               ],
               [
                -83.0724132623987,
                42.3660697410004
               ],
               [
                -83.0729615072198,
                42.3658658767804
               ],
               [
                -83.0730509201792,
                42.36583722844011
               ]
              ]
             ],
             "type": "Polygon"
            },
            "id": "110",
            "properties": {},
            "type": "Feature"
           },
           {
            "bbox": [
             -83.07341771639629,
             42.3624196127781,
             -83.0728260497314,
             42.363000236223
            ],
            "geometry": {
             "coordinates": [
              [
               [
                -83.0731994449342,
                42.3624196127781
               ],
               [
                -83.07341771639629,
                42.362422703423206
               ],
               [
                -83.0733354412673,
                42.363000236223
               ],
               [
                -83.0728260497314,
                42.362580544562
               ],
               [
                -83.073009186276,
                42.3624933555606
               ],
               [
                -83.0731994449342,
                42.3624196127781
               ]
              ]
             ],
             "type": "Polygon"
            },
            "id": "111",
            "properties": {},
            "type": "Feature"
           },
           {
            "bbox": [
             -83.0706792582147,
             42.3589218053586,
             -83.06833557825979,
             42.3599321790046
            ],
            "geometry": {
             "coordinates": [
              [
               [
                -83.06833557825979,
                42.3589218053586
               ],
               [
                -83.0706792582147,
                42.359570886989204
               ],
               [
                -83.0689510467185,
                42.3599321790046
               ],
               [
                -83.06881967617309,
                42.3598433767844
               ],
               [
                -83.06833557825979,
                42.3589218053586
               ]
              ]
             ],
             "type": "Polygon"
            },
            "id": "112",
            "properties": {},
            "type": "Feature"
           },
           {
            "bbox": [
             -83.0505159238295,
             42.36961279427629,
             -83.0477982318942,
             42.373772487964004
            ],
            "geometry": {
             "coordinates": [
              [
               [
                -83.0477982318942,
                42.36961279427629
               ],
               [
                -83.04933631181999,
                42.371615730962795
               ],
               [
                -83.0505159238295,
                42.373772487964004
               ],
               [
                -83.0494227740932,
                42.3731310325792
               ],
               [
                -83.0477982318942,
                42.36961279427629
               ]
              ]
             ],
             "type": "Polygon"
            },
            "id": "113",
            "properties": {},
            "type": "Feature"
           },
           {
            "bbox": [
             -83.0747344419016,
             42.3266966554513,
             -83.07255519972921,
             42.328298407705795
            ],
            "geometry": {
             "coordinates": [
              [
               [
                -83.0738651373693,
                42.3266966554513
               ],
               [
                -83.0747344419016,
                42.328298407705795
               ],
               [
                -83.07255519972921,
                42.327086249668
               ],
               [
                -83.0738651373693,
                42.3266966554513
               ]
              ]
             ],
             "type": "Polygon"
            },
            "id": "114",
            "properties": {},
            "type": "Feature"
           },
           {
            "bbox": [
             -82.9963341108813,
             42.3626949505343,
             -82.9949114507729,
             42.3636532349755
            ],
            "geometry": {
             "coordinates": [
              [
               [
                -82.9957725583522,
                42.3626949505343
               ],
               [
                -82.9958564072222,
                42.362752636336396
               ],
               [
                -82.9963341108813,
                42.363412629771396
               ],
               [
                -82.9949114507729,
                42.3636532349755
               ],
               [
                -82.9957725583522,
                42.3626949505343
               ]
              ]
             ],
             "type": "Polygon"
            },
            "id": "115",
            "properties": {},
            "type": "Feature"
           },
           {
            "bbox": [
             -83.15533601273971,
             42.3794375217761,
             -83.1547850343667,
             42.380801271258605
            ],
            "geometry": {
             "coordinates": [
              [
               [
                -83.1547850343667,
                42.3794375217761
               ],
               [
                -83.15533601273971,
                42.3808011855889
               ],
               [
                -83.155328607802,
                42.380801271258605
               ],
               [
                -83.1547850343667,
                42.3794375217761
               ]
              ]
             ],
             "type": "Polygon"
            },
            "id": "116",
            "properties": {},
            "type": "Feature"
           },
           {
            "bbox": [
             -82.95786787330991,
             42.3601962494247,
             -82.9497208020923,
             42.3687918244625
            ],
            "geometry": {
             "coordinates": [
              [
               [
                -82.9541963635556,
                42.3601962494247
               ],
               [
                -82.956311829674,
                42.362217438921704
               ],
               [
                -82.95786787330991,
                42.3642713862019
               ],
               [
                -82.9566370527463,
                42.367971783492706
               ],
               [
                -82.95165540465091,
                42.3687918244625
               ],
               [
                -82.950291815613,
                42.368372834887204
               ],
               [
                -82.94984526542301,
                42.3671751108927
               ],
               [
                -82.9497208020923,
                42.3645058299982
               ],
               [
                -82.9501442284679,
                42.361502301697996
               ],
               [
                -82.9527571698777,
                42.3605088507069
               ],
               [
                -82.9541963635556,
                42.3601962494247
               ]
              ]
             ],
             "type": "Polygon"
            },
            "id": "117",
            "properties": {},
            "type": "Feature"
           },
           {
            "bbox": [
             -83.04005992340291,
             42.3503524179905,
             -83.0370830935685,
             42.3514725973396
            ],
            "geometry": {
             "coordinates": [
              [
               [
                -83.0370830935685,
                42.3503524179905
               ],
               [
                -83.0393024671652,
                42.350379356612
               ],
               [
                -83.04005992340291,
                42.3514725973396
               ],
               [
                -83.03821296426091,
                42.3508084648273
               ],
               [
                -83.0370830935685,
                42.3503524179905
               ]
              ]
             ],
             "type": "Polygon"
            },
            "id": "118",
            "properties": {},
            "type": "Feature"
           },
           {
            "bbox": [
             -83.2655501722181,
             42.364264741632105,
             -83.2607451207359,
             42.3652338882416
            ],
            "geometry": {
             "coordinates": [
              [
               [
                -83.265483951973,
                42.364264741632105
               ],
               [
                -83.2655236836315,
                42.3643200137652
               ],
               [
                -83.26552867887591,
                42.3644564283234
               ],
               [
                -83.2655501722181,
                42.365126172692
               ],
               [
                -83.2631133044016,
                42.3652305613088
               ],
               [
                -83.26194013962329,
                42.3652338882416
               ],
               [
                -83.2607451207359,
                42.3643817992305
               ],
               [
                -83.2607493081925,
                42.3643543143031
               ],
               [
                -83.2643662103588,
                42.3642739825101
               ],
               [
                -83.265483951973,
                42.364264741632105
               ]
              ]
             ],
             "type": "Polygon"
            },
            "id": "119",
            "properties": {},
            "type": "Feature"
           },
           {
            "bbox": [
             -83.0337141480188,
             42.423370416889796,
             -83.0312801361243,
             42.427229700205004
            ],
            "geometry": {
             "coordinates": [
              [
               [
                -83.0334040548558,
                42.423370416889796
               ],
               [
                -83.0336147058231,
                42.423393389366296
               ],
               [
                -83.0337141480188,
                42.42515349617911
               ],
               [
                -83.03352921208808,
                42.426526785973
               ],
               [
                -83.0331696711576,
                42.427229700205004
               ],
               [
                -83.0312801361243,
                42.4265494484459
               ],
               [
                -83.0321292098469,
                42.42339774310079
               ],
               [
                -83.0334040548558,
                42.423370416889796
               ]
              ]
             ],
             "type": "Polygon"
            },
            "id": "120",
            "properties": {},
            "type": "Feature"
           },
           {
            "bbox": [
             -83.08242534399551,
             42.3895844842821,
             -83.0750946838117,
             42.3951128499318
            ],
            "geometry": {
             "coordinates": [
              [
               [
                -83.0750946838117,
                42.3895844842821
               ],
               [
                -83.0788906858235,
                42.3897039417504
               ],
               [
                -83.08080165522159,
                42.392548396220896
               ],
               [
                -83.08132971285158,
                42.3933345574819
               ],
               [
                -83.08242534399551,
                42.3949676961946
               ],
               [
                -83.0819595399212,
                42.3951128499318
               ],
               [
                -83.0786168623946,
                42.3943608646642
               ],
               [
                -83.07544466522329,
                42.391815234330004
               ],
               [
                -83.0750946838117,
                42.3895844842821
               ]
              ]
             ],
             "type": "Polygon"
            },
            "id": "121",
            "properties": {},
            "type": "Feature"
           },
           {
            "bbox": [
             -83.08940022245959,
             42.3146861030617,
             -83.08940022245959,
             42.3146861030617
            ],
            "geometry": {
             "coordinates": [
              -83.08940022245959,
              42.3146861030617
             ],
             "type": "Point"
            },
            "id": "122",
            "properties": {},
            "type": "Feature"
           },
           {
            "bbox": [
             -83.0952946172995,
             42.385840827588396,
             -83.0920248274221,
             42.3913990863744
            ],
            "geometry": {
             "coordinates": [
              [
               [
                -83.0930453307173,
                42.385840827588396
               ],
               [
                -83.0952946172995,
                42.3891862786586
               ],
               [
                -83.0949980334739,
                42.390296503944505
               ],
               [
                -83.0920248274221,
                42.3913990863744
               ],
               [
                -83.092081463745,
                42.386994688422796
               ],
               [
                -83.0930453307173,
                42.385840827588396
               ]
              ]
             ],
             "type": "Polygon"
            },
            "id": "123",
            "properties": {},
            "type": "Feature"
           },
           {
            "bbox": [
             -82.9558067180313,
             42.386036940158796,
             -82.9466449165773,
             42.391489950494396
            ],
            "geometry": {
             "coordinates": [
              [
               [
                -82.9556217607553,
                42.386036940158796
               ],
               [
                -82.9558067180313,
                42.3863709642974
               ],
               [
                -82.9556525183763,
                42.3881151455483
               ],
               [
                -82.9539101267202,
                42.391489950494396
               ],
               [
                -82.9470985123375,
                42.3881985956978
               ],
               [
                -82.9467259634663,
                42.387650007387
               ],
               [
                -82.9466449165773,
                42.387469668909
               ],
               [
                -82.9466449396764,
                42.3874686537361
               ],
               [
                -82.9483462012515,
                42.3864048800677
               ],
               [
                -82.9556217607553,
                42.386036940158796
               ]
              ]
             ],
             "type": "Polygon"
            },
            "id": "124",
            "properties": {},
            "type": "Feature"
           },
           {
            "bbox": [
             -82.98624527937571,
             42.3669216939216,
             -82.9789729386643,
             42.3705145108687
            ],
            "geometry": {
             "coordinates": [
              [
               [
                -82.9860721389774,
                42.3669216939216
               ],
               [
                -82.98624527937571,
                42.3672927660756
               ],
               [
                -82.981233282713,
                42.370168654988
               ],
               [
                -82.9798191714301,
                42.3705145108687
               ],
               [
                -82.97936111673509,
                42.3699749495554
               ],
               [
                -82.97911366714851,
                42.369618299945294
               ],
               [
                -82.9789729386643,
                42.3692892189179
               ],
               [
                -82.98603495760159,
                42.3669294751581
               ],
               [
                -82.9860721389774,
                42.3669216939216
               ]
              ]
             ],
             "type": "Polygon"
            },
            "id": "125",
            "properties": {},
            "type": "Feature"
           },
           {
            "bbox": [
             -82.99895428355259,
             42.364473311012,
             -82.9965001211212,
             42.366168937336504
            ],
            "geometry": {
             "coordinates": [
              [
               [
                -82.998912474843,
                42.364473311012
               ],
               [
                -82.99895428355259,
                42.3645920188217
               ],
               [
                -82.99775379446609,
                42.3655013905848
               ],
               [
                -82.99676952733371,
                42.366168937336504
               ],
               [
                -82.9965001211212,
                42.365797159213294
               ],
               [
                -82.9974677009518,
                42.3650466404919
               ],
               [
                -82.998912474843,
                42.364473311012
               ]
              ]
             ],
             "type": "Polygon"
            },
            "id": "126",
            "properties": {},
            "type": "Feature"
           },
           {
            "bbox": [
             -83.0308831995919,
             42.3935297113451,
             -83.03006846160629,
             42.3935484282789
            ],
            "geometry": {
             "coordinates": [
              [
               [
                -83.03086859722079,
                42.3935297113451
               ],
               [
                -83.0308831995919,
                42.3935394063178
               ],
               [
                -83.03006846160629,
                42.3935484282789
               ],
               [
                -83.03086859722079,
                42.3935297113451
               ]
              ]
             ],
             "type": "Polygon"
            },
            "id": "127",
            "properties": {},
            "type": "Feature"
           },
           {
            "bbox": [
             -83.07020130260209,
             42.3246108704431,
             -83.0681129654073,
             42.3278965522901
            ],
            "geometry": {
             "coordinates": [
              [
               [
                -83.0681129654073,
                42.3246108704431
               ],
               [
                -83.07020130260209,
                42.3253834074854
               ],
               [
                -83.06999380556009,
                42.3278965522901
               ],
               [
                -83.0681725581166,
                42.3251245139414
               ],
               [
                -83.0681129654073,
                42.3246108704431
               ]
              ]
             ],
             "type": "Polygon"
            },
            "id": "128",
            "properties": {},
            "type": "Feature"
           },
           {
            "bbox": [
             -83.05380170426601,
             42.3518202970988,
             -83.0529557312625,
             42.3533402025513
            ],
            "geometry": {
             "coordinates": [
              [
               [
                -83.05380170426601,
                42.3518202970988
               ],
               [
                -83.0538015940849,
                42.351825537698005
               ],
               [
                -83.0536052366137,
                42.352189730818296
               ],
               [
                -83.0529557312625,
                42.3533402025513
               ],
               [
                -83.05380170426601,
                42.3518202970988
               ]
              ]
             ],
             "type": "Polygon"
            },
            "id": "129",
            "properties": {},
            "type": "Feature"
           },
           {
            "bbox": [
             -83.07076593191009,
             42.3289741321258,
             -83.07044116263191,
             42.329543194394
            ],
            "geometry": {
             "coordinates": [
              [
               [
                -83.07044116263191,
                42.3289741321258
               ],
               [
                -83.07076593191009,
                42.329543194394
               ],
               [
                -83.0707513576633,
                42.3295325716546
               ],
               [
                -83.07044116263191,
                42.3289741321258
               ]
              ]
             ],
             "type": "Polygon"
            },
            "id": "130",
            "properties": {},
            "type": "Feature"
           },
           {
            "bbox": [
             -83.0879648912239,
             42.3133586117726,
             -83.0815625728634,
             42.322518148267996
            ],
            "geometry": {
             "coordinates": [
              [
               [
                -83.0876598649546,
                42.3133586117726
               ],
               [
                -83.08785193583259,
                42.314633502280394
               ],
               [
                -83.0879648912239,
                42.316341530603104
               ],
               [
                -83.0815625728634,
                42.322518148267996
               ],
               [
                -83.08210294388259,
                42.3192597770785
               ],
               [
                -83.08346962404691,
                42.315196182407206
               ],
               [
                -83.0876598649546,
                42.3133586117726
               ]
              ]
             ],
             "type": "Polygon"
            },
            "id": "131",
            "properties": {},
            "type": "Feature"
           },
           {
            "bbox": [
             -83.2628493183204,
             42.4431615887395,
             -83.2609222261939,
             42.443183872830296
            ],
            "geometry": {
             "coordinates": [
              [
               [
                -83.2625455317436,
                42.4431615887395
               ],
               [
                -83.2628493183204,
                42.4431641824441
               ],
               [
                -83.2625564741481,
                42.4431713825211
               ],
               [
                -83.2623488900378,
                42.4431763914441
               ],
               [
                -83.2609222261939,
                42.443183872830296
               ],
               [
                -83.2625455317436,
                42.4431615887395
               ]
              ]
             ],
             "type": "Polygon"
            },
            "id": "132",
            "properties": {},
            "type": "Feature"
           },
           {
            "bbox": [
             -83.0093439016888,
             42.3498786097583,
             -83.00382444708191,
             42.35696668956071
            ],
            "geometry": {
             "coordinates": [
              [
               [
                -83.005233392869,
                42.3498786097583
               ],
               [
                -83.0086895451254,
                42.3532610665302
               ],
               [
                -83.0093439016888,
                42.356180655354294
               ],
               [
                -83.0064775654591,
                42.35696668956071
               ],
               [
                -83.00591035132959,
                42.356166577088295
               ],
               [
                -83.00382444708191,
                42.350015224973504
               ],
               [
                -83.005233392869,
                42.3498786097583
               ]
              ]
             ],
             "type": "Polygon"
            },
            "id": "133",
            "properties": {},
            "type": "Feature"
           },
           {
            "bbox": [
             -83.0680363680506,
             42.3832707935359,
             -83.0680363680506,
             42.3832707935359
            ],
            "geometry": {
             "coordinates": [
              -83.0680363680506,
              42.3832707935359
             ],
             "type": "Point"
            },
            "id": "134",
            "properties": {},
            "type": "Feature"
           },
           {
            "bbox": [
             -83.1077882833868,
             42.3577367268769,
             -83.105384142794,
             42.359773444514396
            ],
            "geometry": {
             "coordinates": [
              [
               [
                -83.1073023264305,
                42.3577367268769
               ],
               [
                -83.1077882833868,
                42.359695176341795
               ],
               [
                -83.10774600067359,
                42.359773444514396
               ],
               [
                -83.10624935001721,
                42.359306752735705
               ],
               [
                -83.105384142794,
                42.358173745344295
               ],
               [
                -83.1073023264305,
                42.3577367268769
               ]
              ]
             ],
             "type": "Polygon"
            },
            "id": "135",
            "properties": {},
            "type": "Feature"
           },
           {
            "bbox": [
             -83.26910554812659,
             42.4291701569441,
             -83.2653864401925,
             42.4338300022015
            ],
            "geometry": {
             "coordinates": [
              [
               [
                -83.2678571966318,
                42.4291701569441
               ],
               [
                -83.26910554812659,
                42.4291726976689
               ],
               [
                -83.268011101926,
                42.4336817605861
               ],
               [
                -83.26552632961429,
                42.4338300022015
               ],
               [
                -83.26541993124721,
                42.43125360796021
               ],
               [
                -83.2653864401925,
                42.4304229308825
               ],
               [
                -83.2658706352192,
                42.4300652878684
               ],
               [
                -83.2678571966318,
                42.4291701569441
               ]
              ]
             ],
             "type": "Polygon"
            },
            "id": "136",
            "properties": {},
            "type": "Feature"
           },
           {
            "bbox": [
             -82.96503443575679,
             42.3777065981745,
             -82.96213114564979,
             42.379088859513104
            ],
            "geometry": {
             "coordinates": [
              [
               [
                -82.96503443575679,
                42.3777065981745
               ],
               [
                -82.96444530775891,
                42.3785560966416
               ],
               [
                -82.963527851566,
                42.379025651098104
               ],
               [
                -82.9623270904087,
                42.379088859513104
               ],
               [
                -82.96213114564979,
                42.3789135334443
               ],
               [
                -82.964094524036,
                42.3780231219193
               ],
               [
                -82.96503443575679,
                42.3777065981745
               ]
              ]
             ],
             "type": "Polygon"
            },
            "id": "137",
            "properties": {},
            "type": "Feature"
           },
           {
            "bbox": [
             -83.2664240852997,
             42.418325784162896,
             -83.26131996023591,
             42.4218316455714
            ],
            "geometry": {
             "coordinates": [
              [
               [
                -83.26614076458421,
                42.418325784162896
               ],
               [
                -83.2664240852997,
                42.420111822862395
               ],
               [
                -83.2664240838478,
                42.4201119051784
               ],
               [
                -83.26640654335999,
                42.4204763748066
               ],
               [
                -83.2640972658502,
                42.4218316455714
               ],
               [
                -83.261338385995,
                42.4205433260147
               ],
               [
                -83.26131996023591,
                42.4203290063279
               ],
               [
                -83.26133794006779,
                42.420150442708994
               ],
               [
                -83.262531681027,
                42.418415280156005
               ],
               [
                -83.26614076458421,
                42.418325784162896
               ]
              ]
             ],
             "type": "Polygon"
            },
            "id": "138",
            "properties": {},
            "type": "Feature"
           },
           {
            "bbox": [
             -83.11878107823459,
             42.4319592451388,
             -83.1176100480251,
             42.433086349003794
            ],
            "geometry": {
             "coordinates": [
              [
               [
                -83.11878107823459,
                42.4319592451388
               ],
               [
                -83.1184845679637,
                42.4323361704488
               ],
               [
                -83.1176100480251,
                42.433086349003794
               ],
               [
                -83.1187773727041,
                42.4319592867818
               ],
               [
                -83.11878107823459,
                42.4319592451388
               ]
              ]
             ],
             "type": "Polygon"
            },
            "id": "139",
            "properties": {},
            "type": "Feature"
           },
           {
            "bbox": [
             -83.0925916208775,
             42.3112293656906,
             -83.09012516299592,
             42.315136235828206
            ],
            "geometry": {
             "coordinates": [
              [
               [
                -83.0925916208775,
                42.3112293656906
               ],
               [
                -83.09212738486879,
                42.315136235828206
               ],
               [
                -83.09212375788991,
                42.315132764552104
               ],
               [
                -83.09012516299592,
                42.31232445786571
               ],
               [
                -83.0915955744331,
                42.3116605457405
               ],
               [
                -83.09234168903379,
                42.3113370208099
               ],
               [
                -83.0925916208775,
                42.3112293656906
               ]
              ]
             ],
             "type": "Polygon"
            },
            "id": "140",
            "properties": {},
            "type": "Feature"
           },
           {
            "bbox": [
             -83.2277186082346,
             42.3696615171659,
             -83.2263361996142,
             42.3720293522271
            ],
            "geometry": {
             "coordinates": [
              [
               [
                -83.22645135793721,
                42.3696615171659
               ],
               [
                -83.2277186082346,
                42.3712004268161
               ],
               [
                -83.2276960824008,
                42.3720293522271
               ],
               [
                -83.22640189909079,
                42.37115359207171
               ],
               [
                -83.2263361996142,
                42.3711032868577
               ],
               [
                -83.22645135793721,
                42.3696615171659
               ]
              ]
             ],
             "type": "Polygon"
            },
            "id": "141",
            "properties": {},
            "type": "Feature"
           },
           {
            "bbox": [
             -83.0407810420963,
             42.406206728537505,
             -83.0402756075937,
             42.406291229906394
            ],
            "geometry": {
             "coordinates": [
              [
               -83.0407810420963,
               42.406206728537505
              ],
              [
               -83.0402756075937,
               42.406291229906394
              ]
             ],
             "type": "LineString"
            },
            "id": "142",
            "properties": {},
            "type": "Feature"
           },
           {
            "bbox": [
             -83.04575573813929,
             42.422471748223295,
             -83.0374313552799,
             42.4268750733628
            ],
            "geometry": {
             "coordinates": [
              [
               [
                -83.04320972881209,
                42.422471748223295
               ],
               [
                -83.04570487108491,
                42.426214525755796
               ],
               [
                -83.04575573813929,
                42.426436400894
               ],
               [
                -83.04460449025841,
                42.426746938407504
               ],
               [
                -83.03861909200809,
                42.4268750733628
               ],
               [
                -83.0374313552799,
                42.426462144518
               ],
               [
                -83.03856685488509,
                42.4255009533863
               ],
               [
                -83.0412553910737,
                42.4234483829594
               ],
               [
                -83.04246234885879,
                42.4227799409019
               ],
               [
                -83.0427355844658,
                42.422646671424204
               ],
               [
                -83.04320972881209,
                42.422471748223295
               ]
              ]
             ],
             "type": "Polygon"
            },
            "id": "143",
            "properties": {},
            "type": "Feature"
           },
           {
            "bbox": [
             -83.10998645888971,
             42.361923209469204,
             -83.1086766062376,
             42.36368150329329
            ],
            "geometry": {
             "coordinates": [
              [
               [
                -83.1090570540485,
                42.361923209469204
               ],
               [
                -83.10998645888971,
                42.363365836197204
               ],
               [
                -83.1097764044512,
                42.363505863117794
               ],
               [
                -83.10973910246821,
                42.363520544349605
               ],
               [
                -83.1093028856825,
                42.36368150329329
               ],
               [
                -83.1086766062376,
                42.3629899995104
               ],
               [
                -83.1090570540485,
                42.361923209469204
               ]
              ]
             ],
             "type": "Polygon"
            },
            "id": "144",
            "properties": {},
            "type": "Feature"
           },
           {
            "bbox": [
             -83.0407940234092,
             42.4219760981144,
             -83.03704928868841,
             42.4236259497225
            ],
            "geometry": {
             "coordinates": [
              [
               [
                -83.0407940234092,
                42.4219760981144
               ],
               [
                -83.039929198793,
                42.4236259497225
               ],
               [
                -83.03717750947659,
                42.423425278771205
               ],
               [
                -83.0371355447339,
                42.4233086430527
               ],
               [
                -83.03704928868841,
                42.4221419327487
               ],
               [
                -83.03704933021521,
                42.422139984682005
               ],
               [
                -83.0407940234092,
                42.4219760981144
               ]
              ]
             ],
             "type": "Polygon"
            },
            "id": "145",
            "properties": {},
            "type": "Feature"
           },
           {
            "bbox": [
             -83.0417599198997,
             42.440677063074496,
             -83.0371793760174,
             42.4410128058881
            ],
            "geometry": {
             "coordinates": [
              [
               [
                -83.0417599198997,
                42.440677063074496
               ],
               [
                -83.04048598638579,
                42.4409935966808
               ],
               [
                -83.0391998428341,
                42.4410128058881
               ],
               [
                -83.0371793760174,
                42.440889869154795
               ],
               [
                -83.0417599198997,
                42.440677063074496
               ]
              ]
             ],
             "type": "Polygon"
            },
            "id": "146",
            "properties": {},
            "type": "Feature"
           },
           {
            "bbox": [
             -82.99069644577109,
             42.354622299256796,
             -82.9899591771033,
             42.35558760465229
            ],
            "geometry": {
             "coordinates": [
              [
               [
                -82.9899591771033,
                42.354622299256796
               ],
               [
                -82.990218987967,
                42.3549218530052
               ],
               [
                -82.9904631534982,
                42.3552598311155
               ],
               [
                -82.99069644577109,
                42.35558760465229
               ],
               [
                -82.9902271498169,
                42.3550551685322
               ],
               [
                -82.9899591771033,
                42.354622299256796
               ]
              ]
             ],
             "type": "Polygon"
            },
            "id": "147",
            "properties": {},
            "type": "Feature"
           },
           {
            "bbox": [
             -83.105097681123,
             42.2989198885216,
             -83.1019467170992,
             42.301350409254205
            ],
            "geometry": {
             "coordinates": [
              [
               [
                -83.1043470804282,
                42.2989198885216
               ],
               [
                -83.105097681123,
                42.300011487999704
               ],
               [
                -83.1050976705995,
                42.300012009320895
               ],
               [
                -83.10378132673091,
                42.300573355278296
               ],
               [
                -83.10296094898729,
                42.3009222801097
               ],
               [
                -83.1019467170992,
                42.301350409254205
               ],
               [
                -83.1043470804282,
                42.2989198885216
               ]
              ]
             ],
             "type": "Polygon"
            },
            "id": "148",
            "properties": {},
            "type": "Feature"
           },
           {
            "bbox": [
             -83.03370884184991,
             42.38166830276089,
             -83.02302305658651,
             42.389941048253895
            ],
            "geometry": {
             "coordinates": [
              [
               [
                -83.0274021745438,
                42.38166830276089
               ],
               [
                -83.0289524045837,
                42.382051669941504
               ],
               [
                -83.0316148654328,
                42.38356851793179
               ],
               [
                -83.0317079850859,
                42.3837148213346
               ],
               [
                -83.0318253712176,
                42.3839381446223
               ],
               [
                -83.03370884184991,
                42.3890021712294
               ],
               [
                -83.0336739789452,
                42.389941048253895
               ],
               [
                -83.0281396823095,
                42.3871519803838
               ],
               [
                -83.02302305658651,
                42.3837279030481
               ],
               [
                -83.02364796249151,
                42.3827289330008
               ],
               [
                -83.0263397250516,
                42.381842554140896
               ],
               [
                -83.0274021745438,
                42.38166830276089
               ]
              ]
             ],
             "type": "Polygon"
            },
            "id": "149",
            "properties": {},
            "type": "Feature"
           },
           {
            "bbox": [
             -83.0760302198869,
             42.413809024278706,
             -83.069841817738,
             42.421325849355
            ],
            "geometry": {
             "coordinates": [
              [
               [
                -83.074893132919,
                42.413809024278706
               ],
               [
                -83.0760302198869,
                42.413984801384004
               ],
               [
                -83.0709852115114,
                42.421325849355
               ],
               [
                -83.06985625231499,
                42.420931495135
               ],
               [
                -83.069841817738,
                42.4209131348601
               ],
               [
                -83.0700529268652,
                42.417350455206794
               ],
               [
                -83.072882201509,
                42.4141589443138
               ],
               [
                -83.07382544149341,
                42.4138592327386
               ],
               [
                -83.074893132919,
                42.413809024278706
               ]
              ]
             ],
             "type": "Polygon"
            },
            "id": "150",
            "properties": {},
            "type": "Feature"
           },
           {
            "bbox": [
             -82.94579727523158,
             42.381921849346206,
             -82.9444057679773,
             42.3827647574349
            ],
            "geometry": {
             "coordinates": [
              [
               [
                -82.94529410253759,
                42.381921849346206
               ],
               [
                -82.9456354523965,
                42.38237536760229
               ],
               [
                -82.94579727523158,
                42.3827471305748
               ],
               [
                -82.9447936594953,
                42.3827647574349
               ],
               [
                -82.9444057679773,
                42.3822419590107
               ],
               [
                -82.9444057798567,
                42.3822414377059
               ],
               [
                -82.94529410253759,
                42.381921849346206
               ]
              ]
             ],
             "type": "Polygon"
            },
            "id": "151",
            "properties": {},
            "type": "Feature"
           },
           {
            "bbox": [
             -83.01311522804491,
             42.340612993175505,
             -83.01311522804491,
             42.340612993175505
            ],
            "geometry": {
             "coordinates": [
              -83.01311522804491,
              42.340612993175505
             ],
             "type": "Point"
            },
            "id": "152",
            "properties": {},
            "type": "Feature"
           },
           {
            "bbox": [
             -83.125063925993,
             42.4328021024495,
             -83.1195688552746,
             42.4371949726654
            ],
            "geometry": {
             "coordinates": [
              [
               [
                -83.1227912717401,
                42.4328021024495
               ],
               [
                -83.125063925993,
                42.4358828383864
               ],
               [
                -83.123774394286,
                42.4371949726654
               ],
               [
                -83.1232853975686,
                42.437191764713795
               ],
               [
                -83.12199445948659,
                42.4370861088726
               ],
               [
                -83.1215597306833,
                42.4369628441045
               ],
               [
                -83.1195688552746,
                42.4361012304391
               ],
               [
                -83.120250429712,
                42.433327507311795
               ],
               [
                -83.1227912717401,
                42.4328021024495
               ]
              ]
             ],
             "type": "Polygon"
            },
            "id": "153",
            "properties": {},
            "type": "Feature"
           },
           {
            "bbox": [
             -83.094079522108,
             42.3285661498334,
             -83.0933660937549,
             42.3298565654589
            ],
            "geometry": {
             "coordinates": [
              [
               [
                -83.0933660937549,
                42.3285661498334
               ],
               [
                -83.0934054948737,
                42.328629109846204
               ],
               [
                -83.094079522108,
                42.3298565654589
               ],
               [
                -83.0933660937549,
                42.3285661498334
               ]
              ]
             ],
             "type": "Polygon"
            },
            "id": "154",
            "properties": {},
            "type": "Feature"
           },
           {
            "bbox": [
             -83.258298373617,
             42.4264877107846,
             -83.2569409098837,
             42.4274648202986
            ],
            "geometry": {
             "coordinates": [
              [
               [
                -83.25822145670209,
                42.4264877107846
               ],
               [
                -83.258298373617,
                42.4271621953836
               ],
               [
                -83.2569409098837,
                42.4274648202986
               ],
               [
                -83.2570000864248,
                42.4268454252257
               ],
               [
                -83.25822145670209,
                42.4264877107846
               ]
              ]
             ],
             "type": "Polygon"
            },
            "id": "155",
            "properties": {},
            "type": "Feature"
           },
           {
            "bbox": [
             -83.0397113147537,
             42.366439363301296,
             -83.03729869094191,
             42.367877631332796
            ],
            "geometry": {
             "coordinates": [
              [
               [
                -83.03875005415999,
                42.366439363301296
               ],
               [
                -83.03882664765621,
                42.3664922389656
               ],
               [
                -83.0397113147537,
                42.367877631332796
               ],
               [
                -83.03729869094191,
                42.3678590936919
               ],
               [
                -83.03875005415999,
                42.366439363301296
               ]
              ]
             ],
             "type": "Polygon"
            },
            "id": "156",
            "properties": {},
            "type": "Feature"
           },
           {
            "bbox": [
             -83.131396957517,
             42.445303988347504,
             -83.1266977072172,
             42.4463909701824
            ],
            "geometry": {
             "coordinates": [
              [
               [
                -83.1311793509025,
                42.445303988347504
               ],
               [
                -83.131396957517,
                42.4453553132706
               ],
               [
                -83.130899388888,
                42.4463422768608
               ],
               [
                -83.12994652653809,
                42.4463693748485
               ],
               [
                -83.1297166569802,
                42.446375710623705
               ],
               [
                -83.129149405446,
                42.4463909701824
               ],
               [
                -83.1266977072172,
                42.4453901850875
               ],
               [
                -83.128877612738,
                42.4453358932736
               ],
               [
                -83.1311793509025,
                42.445303988347504
               ]
              ]
             ],
             "type": "Polygon"
            },
            "id": "157",
            "properties": {},
            "type": "Feature"
           },
           {
            "bbox": [
             -83.02741281446909,
             42.3888660812906,
             -83.0259667476213,
             42.3912326163884
            ],
            "geometry": {
             "coordinates": [
              [
               [
                -83.0259667476213,
                42.3888660812906
               ],
               [
                -83.02741281446909,
                42.389625763939904
               ],
               [
                -83.02668969463879,
                42.3912326163884
               ],
               [
                -83.0259790546344,
                42.3889825363219
               ],
               [
                -83.0259667476213,
                42.3888660812906
               ]
              ]
             ],
             "type": "Polygon"
            },
            "id": "158",
            "properties": {},
            "type": "Feature"
           },
           {
            "bbox": [
             -83.07692389837409,
             42.4051581978994,
             -83.07140822110641,
             42.4091214650115
            ],
            "geometry": {
             "coordinates": [
              [
               [
                -83.07193568714492,
                42.4051581978994
               ],
               [
                -83.0738512896565,
                42.4052847425011
               ],
               [
                -83.07692389837409,
                42.4087367216266
               ],
               [
                -83.07692389440359,
                42.4087369136911
               ],
               [
                -83.07452356765721,
                42.4091214650115
               ],
               [
                -83.0735850599623,
                42.4086604539449
               ],
               [
                -83.0726075714272,
                42.4074012967691
               ],
               [
                -83.07140822110641,
                42.405414634048796
               ],
               [
                -83.07193568714492,
                42.4051581978994
               ]
              ]
             ],
             "type": "Polygon"
            },
            "id": "159",
            "properties": {},
            "type": "Feature"
           },
           {
            "bbox": [
             -83.09226952329792,
             42.303453747199,
             -83.08986266862341,
             42.305265436683506
            ],
            "geometry": {
             "coordinates": [
              [
               [
                -83.09226952329792,
                42.303453747199
               ],
               [
                -83.0901517180352,
                42.3050517715225
               ],
               [
                -83.08986266862341,
                42.305265436683506
               ],
               [
                -83.0898626792749,
                42.3052649153638
               ],
               [
                -83.0917018139606,
                42.3037356126744
               ],
               [
                -83.09226952329792,
                42.303453747199
               ]
              ]
             ],
             "type": "Polygon"
            },
            "id": "160",
            "properties": {},
            "type": "Feature"
           },
           {
            "bbox": [
             -83.23436140510141,
             42.3834999233349,
             -83.2296307852402,
             42.38473011979389
            ],
            "geometry": {
             "coordinates": [
              [
               [
                -83.2319066517835,
                42.3834999233349
               ],
               [
                -83.23436140510141,
                42.384288920044206
               ],
               [
                -83.2342894692583,
                42.3843772019961
               ],
               [
                -83.2331280975212,
                42.38473011979389
               ],
               [
                -83.2296492011492,
                42.38468521405
               ],
               [
                -83.2296307852402,
                42.3842737062688
               ],
               [
                -83.22963152554921,
                42.384233069836505
               ],
               [
                -83.2319066517835,
                42.3834999233349
               ]
              ]
             ],
             "type": "Polygon"
            },
            "id": "161",
            "properties": {},
            "type": "Feature"
           },
           {
            "bbox": [
             -83.021717384021,
             42.3426200064121,
             -83.0205190777663,
             42.3431222320763
            ],
            "geometry": {
             "coordinates": [
              [
               [
                -83.021717384021,
                42.3426200064121
               ],
               [
                -83.02055232626341,
                42.3431222320763
               ],
               [
                -83.0205190777663,
                42.3431200537838
               ],
               [
                -83.0208673885118,
                42.3429224676506
               ],
               [
                -83.0211362345258,
                42.342807205019895
               ],
               [
                -83.021717384021,
                42.3426200064121
               ]
              ]
             ],
             "type": "Polygon"
            },
            "id": "162",
            "properties": {},
            "type": "Feature"
           },
           {
            "bbox": [
             -82.9835859904013,
             42.418102787855794,
             -82.981592657066,
             42.420528853427
            ],
            "geometry": {
             "coordinates": [
              [
               [
                -82.9831799699629,
                42.418102787855794
               ],
               [
                -82.9835859904013,
                42.4188348506721
               ],
               [
                -82.981592657066,
                42.420528853427
               ],
               [
                -82.9820688614713,
                42.4184328329411
               ],
               [
                -82.9831799699629,
                42.418102787855794
               ]
              ]
             ],
             "type": "Polygon"
            },
            "id": "163",
            "properties": {},
            "type": "Feature"
           },
           {
            "bbox": [
             -83.2218391706019,
             42.3743651723264,
             -83.21816223192471,
             42.3758469847075
            ],
            "geometry": {
             "coordinates": [
              [
               [
                -83.2205064196093,
                42.3743651723264
               ],
               [
                -83.2205833891896,
                42.3744063462041
               ],
               [
                -83.2218391706019,
                42.3753571455712
               ],
               [
                -83.2193540147572,
                42.3758469847075
               ],
               [
                -83.21816223192471,
                42.3746379572016
               ],
               [
                -83.219329050697,
                42.374385966349
               ],
               [
                -83.2205064196093,
                42.3743651723264
               ]
              ]
             ],
             "type": "Polygon"
            },
            "id": "164",
            "properties": {},
            "type": "Feature"
           },
           {
            "bbox": [
             -83.2746293518988,
             42.3788987883266,
             -83.26205312686349,
             42.3822747002338
            ],
            "geometry": {
             "coordinates": [
              [
               [
                -83.2733060589425,
                42.3788987883266
               ],
               [
                -83.2741959421806,
                42.3794455719252
               ],
               [
                -83.2743598400512,
                42.379598086947496
               ],
               [
                -83.2746293518988,
                42.3813304867065
               ],
               [
                -83.2733560685849,
                42.3815380281804
               ],
               [
                -83.2662174769715,
                42.3822747002338
               ],
               [
                -83.2631389121003,
                42.3815778684861
               ],
               [
                -83.26205312686349,
                42.3812279742655
               ],
               [
                -83.2620589357803,
                42.381108899078995
               ],
               [
                -83.2622010570165,
                42.380817158800795
               ],
               [
                -83.2636500597051,
                42.3794648926649
               ],
               [
                -83.2672964030691,
                42.379023343539
               ],
               [
                -83.2733060589425,
                42.3788987883266
               ]
              ]
             ],
             "type": "Polygon"
            },
            "id": "165",
            "properties": {},
            "type": "Feature"
           },
           {
            "bbox": [
             -82.9533007072124,
             42.389951783312505,
             -82.9490466371452,
             42.394604411657205
            ],
            "geometry": {
             "coordinates": [
              [
               [
                -82.9506758002336,
                42.389951783312505
               ],
               [
                -82.9519038820088,
                42.39179620800871
               ],
               [
                -82.9530030658101,
                42.3934498914572
               ],
               [
                -82.9532607827599,
                42.393841279313705
               ],
               [
                -82.9533007072124,
                42.394040230033205
               ],
               [
                -82.9502999337689,
                42.394604411657205
               ],
               [
                -82.9496839596645,
                42.3936852285245
               ],
               [
                -82.9490466371452,
                42.3927286972734
               ],
               [
                -82.9494605191969,
                42.3899922823655
               ],
               [
                -82.9506758002336,
                42.389951783312505
               ]
              ]
             ],
             "type": "Polygon"
            },
            "id": "166",
            "properties": {},
            "type": "Feature"
           },
           {
            "bbox": [
             -83.2509763118317,
             42.4136406847037,
             -83.2504241837278,
             42.4156688608821
            ],
            "geometry": {
             "coordinates": [
              [
               [
                -83.2504241837278,
                42.4136406847037
               ],
               [
                -83.250961675466,
                42.4138209159284
               ],
               [
                -83.2509763118317,
                42.4138308569526
               ],
               [
                -83.2508878846971,
                42.4156688608821
               ],
               [
                -83.2504241837278,
                42.4136406847037
               ]
              ]
             ],
             "type": "Polygon"
            },
            "id": "167",
            "properties": {},
            "type": "Feature"
           },
           {
            "bbox": [
             -83.14527730201971,
             42.3232240498159,
             -83.1428205757058,
             42.3257193101419
            ],
            "geometry": {
             "coordinates": [
              [
               [
                -83.1448066766455,
                42.3232240498159
               ],
               [
                -83.14527730201971,
                42.3239321211685
               ],
               [
                -83.1450516784287,
                42.32506836774861
               ],
               [
                -83.1443917327361,
                42.3257193101419
               ],
               [
                -83.1428205757058,
                42.3236092508536
               ],
               [
                -83.1448066766455,
                42.3232240498159
               ]
              ]
             ],
             "type": "Polygon"
            },
            "id": "168",
            "properties": {},
            "type": "Feature"
           },
           {
            "bbox": [
             -83.0903820913864,
             42.386946401927794,
             -83.0890838784865,
             42.389897637364996
            ],
            "geometry": {
             "coordinates": [
              [
               [
                -83.0900500279162,
                42.386946401927794
               ],
               [
                -83.09020430375399,
                42.387910575499795
               ],
               [
                -83.0903820913864,
                42.389897637364996
               ],
               [
                -83.0898153396023,
                42.389189107798295
               ],
               [
                -83.0892039111263,
                42.388312608385796
               ],
               [
                -83.0890838784865,
                42.387303974770106
               ],
               [
                -83.0900500279162,
                42.386946401927794
               ]
              ]
             ],
             "type": "Polygon"
            },
            "id": "169",
            "properties": {},
            "type": "Feature"
           },
           {
            "bbox": [
             -83.1766312143244,
             42.3683712181241,
             -83.1717226734884,
             42.368655822414
            ],
            "geometry": {
             "coordinates": [
              [
               [
                -83.17290108612059,
                42.3683712181241
               ],
               [
                -83.1766312143244,
                42.3683904824729
               ],
               [
                -83.1765622860878,
                42.368511774904206
               ],
               [
                -83.1754252305108,
                42.3685579207585
               ],
               [
                -83.174140275346,
                42.368596820931295
               ],
               [
                -83.17173355916799,
                42.368655822414
               ],
               [
                -83.1717226734884,
                42.3686444833308
               ],
               [
                -83.17290108612059,
                42.3683712181241
               ]
              ]
             ],
             "type": "Polygon"
            },
            "id": "170",
            "properties": {},
            "type": "Feature"
           },
           {
            "bbox": [
             -83.1326415351117,
             42.289215090923,
             -83.1205877088317,
             42.294649455084894
            ],
            "geometry": {
             "coordinates": [
              [
               [
                -83.12677594794441,
                42.289215090923
               ],
               [
                -83.13011648150659,
                42.2909401453418
               ],
               [
                -83.1311111313573,
                42.291858094332
               ],
               [
                -83.1326415351117,
                42.293350834766
               ],
               [
                -83.13070360588121,
                42.294147970863904
               ],
               [
                -83.1243171346094,
                42.294649455084894
               ],
               [
                -83.1205877088317,
                42.291662745717
               ],
               [
                -83.1227009239765,
                42.2907900933861
               ],
               [
                -83.1245934820639,
                42.290044109513104
               ],
               [
                -83.12527149649071,
                42.289777698247
               ],
               [
                -83.1255769711333,
                42.2896577912054
               ],
               [
                -83.12677594794441,
                42.289215090923
               ]
              ]
             ],
             "type": "Polygon"
            },
            "id": "171",
            "properties": {},
            "type": "Feature"
           },
           {
            "bbox": [
             -82.96172875690151,
             42.3628727922412,
             -82.9614185384154,
             42.364364439177606
            ],
            "geometry": {
             "coordinates": [
              [
               [
                -82.96167415517141,
                42.3628727922412
               ],
               [
                -82.96172875690151,
                42.36291318072279
               ],
               [
                -82.9614185384154,
                42.364364439177606
               ],
               [
                -82.96154731394641,
                42.3629179882765
               ],
               [
                -82.96167415517141,
                42.3628727922412
               ]
              ]
             ],
             "type": "Polygon"
            },
            "id": "172",
            "properties": {},
            "type": "Feature"
           },
           {
            "bbox": [
             -83.0759052441598,
             42.350394837919396,
             -83.0742259601363,
             42.3509532642906
            ],
            "geometry": {
             "coordinates": [
              [
               [
                -83.0759052441598,
                42.350394837919396
               ],
               [
                -83.0751256411437,
                42.3507007271718
               ],
               [
                -83.0743175351426,
                42.3509532642906
               ],
               [
                -83.0742259601363,
                42.350908667473796
               ],
               [
                -83.0759052441598,
                42.350394837919396
               ]
              ]
             ],
             "type": "Polygon"
            },
            "id": "173",
            "properties": {},
            "type": "Feature"
           },
           {
            "bbox": [
             -83.1144970745025,
             42.4362003518307,
             -83.11030034012059,
             42.4394081234801
            ],
            "geometry": {
             "coordinates": [
              [
               [
                -83.1130276348919,
                42.4362003518307
               ],
               [
                -83.1144970745025,
                42.4394081234801
               ],
               [
                -83.110375329666,
                42.438569233026705
               ],
               [
                -83.11030034012059,
                42.4362226264174
               ],
               [
                -83.1130276348919,
                42.4362003518307
               ]
              ]
             ],
             "type": "Polygon"
            },
            "id": "174",
            "properties": {},
            "type": "Feature"
           },
           {
            "bbox": [
             -83.13566122800471,
             42.4332821806415,
             -83.1318299916605,
             42.43469477708221
            ],
            "geometry": {
             "coordinates": [
              [
               [
                -83.1339923289966,
                42.4332821806415
               ],
               [
                -83.13522268825609,
                42.4336383208653
               ],
               [
                -83.1352774013657,
                42.433681808524
               ],
               [
                -83.13566122800471,
                42.43469477708221
               ],
               [
                -83.1329905743882,
                42.4344800505254
               ],
               [
                -83.1318299916605,
                42.4341547503416
               ],
               [
                -83.1339923289966,
                42.4332821806415
               ]
              ]
             ],
             "type": "Polygon"
            },
            "id": "175",
            "properties": {},
            "type": "Feature"
           },
           {
            "bbox": [
             -82.9443364918292,
             42.380274955724104,
             -82.9430118034298,
             42.380957584270895
            ],
            "geometry": {
             "coordinates": [
              [
               [
                -82.9437509593175,
                42.380274955724104
               ],
               [
                -82.9443364918292,
                42.380408620770396
               ],
               [
                -82.94427991645131,
                42.380454650797894
               ],
               [
                -82.94359472872041,
                42.380957584270895
               ],
               [
                -82.9430118034298,
                42.3805471659402
               ],
               [
                -82.9431995590632,
                42.380430216698606
               ],
               [
                -82.9437509593175,
                42.380274955724104
               ]
              ]
             ],
             "type": "Polygon"
            },
            "id": "176",
            "properties": {},
            "type": "Feature"
           },
           {
            "bbox": [
             -82.99506261947991,
             42.3561476071196,
             -82.99349587249691,
             42.3588018517417
            ],
            "geometry": {
             "coordinates": [
              [
               [
                -82.99472481720001,
                42.3561476071196
               ],
               [
                -82.99506261947991,
                42.356603950350106
               ],
               [
                -82.9948737196072,
                42.3588018517417
               ],
               [
                -82.9947382901526,
                42.3587341830882
               ],
               [
                -82.9936825862265,
                42.3572687443597
               ],
               [
                -82.99349587249691,
                42.3570093565351
               ],
               [
                -82.99472481720001,
                42.3561476071196
               ]
              ]
             ],
             "type": "Polygon"
            },
            "id": "177",
            "properties": {},
            "type": "Feature"
           },
           {
            "bbox": [
             -83.2388991872173,
             42.3826793096066,
             -83.2367320918735,
             42.3844994050837
            ],
            "geometry": {
             "coordinates": [
              [
               [
                -83.23752594554409,
                42.3826793096066
               ],
               [
                -83.237814016132,
                42.3829205751575
               ],
               [
                -83.2388991872173,
                42.38391339478579
               ],
               [
                -83.238829187031,
                42.3843046472796
               ],
               [
                -83.23788589789609,
                42.3844723676622
               ],
               [
                -83.23683779761909,
                42.3844994050837
               ],
               [
                -83.2367320918735,
                42.3837950317577
               ],
               [
                -83.23752594554409,
                42.3826793096066
               ]
              ]
             ],
             "type": "Polygon"
            },
            "id": "178",
            "properties": {},
            "type": "Feature"
           },
           {
            "bbox": [
             -83.19553428500659,
             42.3785551615589,
             -83.1812418595665,
             42.3850449676695
            ],
            "geometry": {
             "coordinates": [
              [
               [
                -83.1932976886061,
                42.3785551615589
               ],
               [
                -83.194442044409,
                42.3789174917818
               ],
               [
                -83.195352435674,
                42.380110477186996
               ],
               [
                -83.19553428500659,
                42.383833631942004
               ],
               [
                -83.1955307057893,
                42.3848134985914
               ],
               [
                -83.1955301765066,
                42.384841705221895
               ],
               [
                -83.1923994530827,
                42.3849829563489
               ],
               [
                -83.1884002696731,
                42.3850449676695
               ],
               [
                -83.1837730157885,
                42.3844546018745
               ],
               [
                -83.1812418595665,
                42.3834326863396
               ],
               [
                -83.1822777126766,
                42.382101139833004
               ],
               [
                -83.18797047187559,
                42.379184707385505
               ],
               [
                -83.1932976886061,
                42.3785551615589
               ]
              ]
             ],
             "type": "Polygon"
            },
            "id": "179",
            "properties": {},
            "type": "Feature"
           },
           {
            "bbox": [
             -82.9526678181703,
             42.3793039971546,
             -82.947350268187,
             42.3818123893371
            ],
            "geometry": {
             "coordinates": [
              [
               [
                -82.9523721228049,
                42.3793039971546
               ],
               [
                -82.95255930980031,
                42.3795379633732
               ],
               [
                -82.9526678181703,
                42.3798135988617
               ],
               [
                -82.95082168137309,
                42.381074081949
               ],
               [
                -82.9487837291239,
                42.3818123893371
               ],
               [
                -82.948698708209,
                42.38180704626421
               ],
               [
                -82.947350268187,
                42.3815241486081
               ],
               [
                -82.9523721228049,
                42.3793039971546
               ]
              ]
             ],
             "type": "Polygon"
            },
            "id": "180",
            "properties": {},
            "type": "Feature"
           },
           {
            "bbox": [
             -83.1271839254618,
             42.2822144790721,
             -83.12540221832592,
             42.2837532737153
            ],
            "geometry": {
             "coordinates": [
              [
               [
                -83.12709958635429,
                42.2822144790721
               ],
               [
                -83.1271839254618,
                42.282248004652
               ],
               [
                -83.1263757542835,
                42.282931962830794
               ],
               [
                -83.12540221832592,
                42.2837532737153
               ],
               [
                -83.12709958635429,
                42.2822144790721
               ]
              ]
             ],
             "type": "Polygon"
            },
            "id": "181",
            "properties": {},
            "type": "Feature"
           },
           {
            "bbox": [
             -83.2506248126662,
             42.4042702903572,
             -83.2505881210657,
             42.4062468531354
            ],
            "geometry": {
             "coordinates": [
              [
               [
                -83.2505881210657,
                42.4042702903572
               ],
               [
                -83.2506248126662,
                42.4049102469089
               ],
               [
                -83.2506083099382,
                42.4062468531354
               ],
               [
                -83.2506054836199,
                42.4061978388875
               ],
               [
                -83.2505881210657,
                42.4042702903572
               ]
              ]
             ],
             "type": "Polygon"
            },
            "id": "182",
            "properties": {},
            "type": "Feature"
           },
           {
            "bbox": [
             -82.9921362868917,
             42.357226479722705,
             -82.990777140436,
             42.35781533670271
            ],
            "geometry": {
             "coordinates": [
              [
               [
                -82.99187774495279,
                42.357226479722705
               ],
               [
                -82.9921362868917,
                42.3575845804136
               ],
               [
                -82.990795367768,
                42.35781533670271
               ],
               [
                -82.990777140436,
                42.3578028754289
               ],
               [
                -82.99187774495279,
                42.357226479722705
               ]
              ]
             ],
             "type": "Polygon"
            },
            "id": "183",
            "properties": {},
            "type": "Feature"
           },
           {
            "bbox": [
             -83.0417460640222,
             42.415552428739794,
             -83.0393712663283,
             42.4173430373746
            ],
            "geometry": {
             "coordinates": [
              [
               [
                -83.0393712663283,
                42.415552428739794
               ],
               [
                -83.0417460640222,
                42.4172643545389
               ],
               [
                -83.04174581401291,
                42.4172761252642
               ],
               [
                -83.0417457452457,
                42.417279362899606
               ],
               [
                -83.0405670796189,
                42.41731852479629
               ],
               [
                -83.0394628016093,
                42.4173430373746
               ],
               [
                -83.0393810915673,
                42.417005449896294
               ],
               [
                -83.0393712663283,
                42.415552428739794
               ]
              ]
             ],
             "type": "Polygon"
            },
            "id": "184",
            "properties": {},
            "type": "Feature"
           },
           {
            "bbox": [
             -83.26585914260109,
             42.3715056690105,
             -83.2608580447088,
             42.372460566932396
            ],
            "geometry": {
             "coordinates": [
              [
               [
                -83.2657041197162,
                42.3715056690105
               ],
               [
                -83.26585914260109,
                42.3715294836175
               ],
               [
                -83.2633667034009,
                42.372460566932396
               ],
               [
                -83.2621810870966,
                42.372323239127496
               ],
               [
                -83.2608726489327,
                42.3715981552489
               ],
               [
                -83.2608580447088,
                42.3715868709946
               ],
               [
                -83.26087686111909,
                42.3715692983879
               ],
               [
                -83.2637127740845,
                42.371516803606504
               ],
               [
                -83.2657041197162,
                42.3715056690105
               ]
              ]
             ],
             "type": "Polygon"
            },
            "id": "185",
            "properties": {},
            "type": "Feature"
           },
           {
            "bbox": [
             -82.99611668953521,
             42.3915935303655,
             -82.9940381059638,
             42.392703218452894
            ],
            "geometry": {
             "coordinates": [
              [
               [
                -82.9940381059638,
                42.3915935303655
               ],
               [
                -82.9956473441098,
                42.3919897287101
               ],
               [
                -82.9957203949585,
                42.392035125770605
               ],
               [
                -82.99611668953521,
                42.392703218452894
               ],
               [
                -82.9952206536785,
                42.3923682256242
               ],
               [
                -82.9940381059638,
                42.3915935303655
               ]
              ]
             ],
             "type": "Polygon"
            },
            "id": "186",
            "properties": {},
            "type": "Feature"
           },
           {
            "bbox": [
             -82.9613637586418,
             42.3736913150159,
             -82.9552874136823,
             42.3786405133752
            ],
            "geometry": {
             "coordinates": [
              [
               [
                -82.96134922174559,
                42.3736913150159
               ],
               [
                -82.9613637586418,
                42.3737032413402
               ],
               [
                -82.9584491494965,
                42.3772216761273
               ],
               [
                -82.9567921163867,
                42.3786405133752
               ],
               [
                -82.9553496175805,
                42.3782625436487
               ],
               [
                -82.9552874136823,
                42.378230538196
               ],
               [
                -82.9560745011278,
                42.3756699425459
               ],
               [
                -82.958184354834,
                42.3748490222878
               ],
               [
                -82.96074872414759,
                42.3738946845025
               ],
               [
                -82.96134922174559,
                42.3736913150159
               ]
              ]
             ],
             "type": "Polygon"
            },
            "id": "187",
            "properties": {},
            "type": "Feature"
           },
           {
            "bbox": [
             -83.11316624217991,
             42.2929783497894,
             -83.1067577084904,
             42.2986724095249
            ],
            "geometry": {
             "coordinates": [
              [
               [
                -83.11198568941029,
                42.2929783497894
               ],
               [
                -83.11316624217991,
                42.297517456437504
               ],
               [
                -83.1131662300733,
                42.2975180600734
               ],
               [
                -83.11033009775471,
                42.2986581805424
               ],
               [
                -83.1079084055833,
                42.2986724095249
               ],
               [
                -83.1067577084904,
                42.297071138471395
               ],
               [
                -83.10855811609441,
                42.2944946684748
               ],
               [
                -83.10947245815541,
                42.294062849661294
               ],
               [
                -83.10975219139391,
                42.293938857110895
               ],
               [
                -83.11198568941029,
                42.2929783497894
               ]
              ]
             ],
             "type": "Polygon"
            },
            "id": "188",
            "properties": {},
            "type": "Feature"
           },
           {
            "bbox": [
             -82.9559537017335,
             42.3810149489728,
             -82.94593378612821,
             42.3857903635706
            ],
            "geometry": {
             "coordinates": [
              [
               [
                -82.9559537017335,
                42.3810149489728
               ],
               [
                -82.95569238985449,
                42.3825854183265
               ],
               [
                -82.9466905304257,
                42.3857903635706
               ],
               [
                -82.9460855501831,
                42.3848822469617
               ],
               [
                -82.9460466019652,
                42.3848043101572
               ],
               [
                -82.94593378612821,
                42.3845561689239
               ],
               [
                -82.945933792374,
                42.384555894552896
               ],
               [
                -82.9496141168618,
                42.3832280163694
               ],
               [
                -82.9559537017335,
                42.3810149489728
               ]
              ]
             ],
             "type": "Polygon"
            },
            "id": "189",
            "properties": {},
            "type": "Feature"
           },
           {
            "bbox": [
             -82.99382706155359,
             42.3893974532448,
             -82.9895243342931,
             42.3933220661014
            ],
            "geometry": {
             "coordinates": [
              [
               [
                -82.99381244176381,
                42.3893974532448
               ],
               [
                -82.99382706155359,
                42.38940605548721
               ],
               [
                -82.9938270482748,
                42.3894066591091
               ],
               [
                -82.9923487740231,
                42.3933220661014
               ],
               [
                -82.9908598553428,
                42.3923379319625
               ],
               [
                -82.99072599088299,
                42.3921961777453
               ],
               [
                -82.9900884516479,
                42.3912218779655
               ],
               [
                -82.9898941204095,
                42.3908003871897
               ],
               [
                -82.9895243342931,
                42.389437913540704
               ],
               [
                -82.99381244176381,
                42.3893974532448
               ]
              ]
             ],
             "type": "Polygon"
            },
            "id": "190",
            "properties": {},
            "type": "Feature"
           },
           {
            "bbox": [
             -82.9669104724728,
             42.399310437279,
             -82.96394927517609,
             42.4000298835903
            ],
            "geometry": {
             "coordinates": [
              [
               [
                -82.96394927517609,
                42.399310437279
               ],
               [
                -82.9669104724728,
                42.39935923641129
               ],
               [
                -82.9644255880891,
                42.4000298835903
               ],
               [
                -82.9643680981279,
                42.399951724595
               ],
               [
                -82.96394927517609,
                42.399310437279
               ]
              ]
             ],
             "type": "Polygon"
            },
            "id": "191",
            "properties": {},
            "type": "Feature"
           },
           {
            "bbox": [
             -83.24909177072009,
             42.4148866493304,
             -83.2489461077753,
             42.4164871065116
            ],
            "geometry": {
             "coordinates": [
              [
               [
                -83.2489537805109,
                42.4148866493304
               ],
               [
                -83.2490225616496,
                42.4153886895361
               ],
               [
                -83.24909177072009,
                42.4164871065116
               ],
               [
                -83.2489547808067,
                42.415657654215
               ],
               [
                -83.2489461077753,
                42.415314883086204
               ],
               [
                -83.2489537805109,
                42.4148866493304
               ]
              ]
             ],
             "type": "Polygon"
            },
            "id": "192",
            "properties": {},
            "type": "Feature"
           },
           {
            "bbox": [
             -83.2494511864252,
             42.4189402358794,
             -83.2491881253412,
             42.4201115583795
            ],
            "geometry": {
             "coordinates": [
              [
               [
                -83.249199678045,
                42.4189402358794
               ],
               [
                -83.2494511864252,
                42.4189599436146
               ],
               [
                -83.2492830975312,
                42.4198660635315
               ],
               [
                -83.2492342529607,
                42.4201115583795
               ],
               [
                -83.2491881253412,
                42.419378365933795
               ],
               [
                -83.249199678045,
                42.4189402358794
               ]
              ]
             ],
             "type": "Polygon"
            },
            "id": "193",
            "properties": {},
            "type": "Feature"
           },
           {
            "bbox": [
             -83.14049804744,
             42.4348026038369,
             -83.1369256288525,
             42.4375633831891
            ],
            "geometry": {
             "coordinates": [
              [
               [
                -83.13720772879842,
                42.4348026038369
               ],
               [
                -83.1390313181604,
                42.4349500953728
               ],
               [
                -83.14049804744,
                42.4370429093718
               ],
               [
                -83.1400827734862,
                42.437435678533504
               ],
               [
                -83.1388279659137,
                42.4375633831891
               ],
               [
                -83.13742491037421,
                42.437505239931504
               ],
               [
                -83.1369256288525,
                42.43576892501721
               ],
               [
                -83.13720772879842,
                42.4348026038369
               ]
              ]
             ],
             "type": "Polygon"
            },
            "id": "194",
            "properties": {},
            "type": "Feature"
           },
           {
            "bbox": [
             -82.9347304296667,
             42.361452684258396,
             -82.93202721909971,
             42.3649110060312
            ],
            "geometry": {
             "coordinates": [
              [
               [
                -82.9339032574109,
                42.361452684258396
               ],
               [
                -82.9342504500822,
                42.3616430881618
               ],
               [
                -82.9346045862665,
                42.3620148802052
               ],
               [
                -82.9347304296667,
                42.362498045030996
               ],
               [
                -82.93467814433708,
                42.3642935779303
               ],
               [
                -82.93293198513699,
                42.3649110060312
               ],
               [
                -82.93202721909971,
                42.3620886851515
               ],
               [
                -82.93383986095921,
                42.3614738400525
               ],
               [
                -82.9339032574109,
                42.361452684258396
               ]
              ]
             ],
             "type": "Polygon"
            },
            "id": "195",
            "properties": {},
            "type": "Feature"
           },
           {
            "bbox": [
             -83.0004208903175,
             42.3517362037843,
             -82.9950738996772,
             42.354305329904
            ],
            "geometry": {
             "coordinates": [
              [
               [
                -83.00038287043641,
                42.3517362037843
               ],
               [
                -83.0004208903175,
                42.3518587077864
               ],
               [
                -82.9952722190345,
                42.354305329904
               ],
               [
                -82.9950738996772,
                42.3539005946629
               ],
               [
                -82.9970012702729,
                42.351894940681795
               ],
               [
                -82.99708710791191,
                42.351861341363794
               ],
               [
                -83.00038287043641,
                42.3517362037843
               ]
              ]
             ],
             "type": "Polygon"
            },
            "id": "196",
            "properties": {},
            "type": "Feature"
           },
           {
            "bbox": [
             -83.2321611688159,
             42.3521946425465,
             -83.2320536801424,
             42.353002268311
            ],
            "geometry": {
             "coordinates": [
              [
               [
                -83.23209074416329,
                42.3521946425465
               ],
               [
                -83.2321550898352,
                42.3529295645526
               ],
               [
                -83.2321611688159,
                42.353002268311
               ],
               [
                -83.2320744173486,
                42.352685965340704
               ],
               [
                -83.2320536801424,
                42.3521982239085
               ],
               [
                -83.23209074416329,
                42.3521946425465
               ]
              ]
             ],
             "type": "Polygon"
            },
            "id": "197",
            "properties": {},
            "type": "Feature"
           },
           {
            "bbox": [
             -83.26448792911809,
             42.368914037381295,
             -83.26089058545979,
             42.3699611107529
            ],
            "geometry": {
             "coordinates": [
              [
               [
                -83.26089058545979,
                42.368914037381295
               ],
               [
                -83.2631734729091,
                42.3691544241596
               ],
               [
                -83.2632471368927,
                42.3691744328189
               ],
               [
                -83.264486496481,
                42.3696183751857
               ],
               [
                -83.26448792911809,
                42.3697468515174
               ],
               [
                -83.2632739424717,
                42.3699611107529
               ],
               [
                -83.2620902157859,
                42.369719679702
               ],
               [
                -83.26089058545979,
                42.368914037381295
               ]
              ]
             ],
             "type": "Polygon"
            },
            "id": "198",
            "properties": {},
            "type": "Feature"
           },
           {
            "bbox": [
             -83.2046373426724,
             42.367733266851,
             -83.2033533118618,
             42.367984045122796
            ],
            "geometry": {
             "coordinates": [
              [
               [
                -83.20462949968271,
                42.367733266851
               ],
               [
                -83.2046373426724,
                42.3679083826335
               ],
               [
                -83.2046372961965,
                42.3679108795286
               ],
               [
                -83.2033591419745,
                42.367984045122796
               ],
               [
                -83.2033533118618,
                42.367899705961705
               ],
               [
                -83.20462949968271,
                42.367733266851
               ]
              ]
             ],
             "type": "Polygon"
            },
            "id": "199",
            "properties": {},
            "type": "Feature"
           },
           {
            "bbox": [
             -82.9455056841373,
             42.3750160432323,
             -82.9436253722393,
             42.3760976391057
            ],
            "geometry": {
             "coordinates": [
              [
               [
                -82.9454735631936,
                42.3750160432323
               ],
               [
                -82.9455056841373,
                42.3750683985417
               ],
               [
                -82.94368702120559,
                42.3760976391057
               ],
               [
                -82.9436253722393,
                42.3758792829944
               ],
               [
                -82.9454735631936,
                42.3750160432323
               ]
              ]
             ],
             "type": "Polygon"
            },
            "id": "200",
            "properties": {},
            "type": "Feature"
           },
           {
            "bbox": [
             -83.15038773145851,
             42.323055560949896,
             -83.1489482819104,
             42.3251018511754
            ],
            "geometry": {
             "coordinates": [
              [
               [
                -83.1489482819104,
                42.323055560949896
               ],
               [
                -83.1489962401549,
                42.3230616468281
               ],
               [
                -83.1491799189438,
                42.323314647579295
               ],
               [
                -83.15038773145851,
                42.3251018511754
               ],
               [
                -83.14907318398859,
                42.3232882811281
               ],
               [
                -83.1489482819104,
                42.323055560949896
               ]
              ]
             ],
             "type": "Polygon"
            },
            "id": "201",
            "properties": {},
            "type": "Feature"
           },
           {
            "bbox": [
             -83.28777091537759,
             42.44118890795,
             -83.28530785521559,
             42.4425685944192
            ],
            "geometry": {
             "coordinates": [
              [
               [
                -83.28530785521559,
                42.44118890795
               ],
               [
                -83.2865221761654,
                42.441458585029004
               ],
               [
                -83.28777091537759,
                42.4425234958539
               ],
               [
                -83.2868586497122,
                42.4425685944192
               ],
               [
                -83.2853097549306,
                42.441293018174704
               ],
               [
                -83.28530785521559,
                42.44118890795
               ]
              ]
             ],
             "type": "Polygon"
            },
            "id": "202",
            "properties": {},
            "type": "Feature"
           },
           {
            "bbox": [
             -82.9610077054967,
             42.3791595063793,
             -82.9572146816416,
             42.381459028045604
            ],
            "geometry": {
             "coordinates": [
              [
               [
                -82.9610077054967,
                42.3791595063793
               ],
               [
                -82.96089797348259,
                42.380908881670706
               ],
               [
                -82.958534857276,
                42.3812982998012
               ],
               [
                -82.95744289847642,
                42.381459028045604
               ],
               [
                -82.9572146816416,
                42.3812377344385
               ],
               [
                -82.95795532008358,
                42.3804053287867
               ],
               [
                -82.95887259093121,
                42.379946794239004
               ],
               [
                -82.9610077054967,
                42.3791595063793
               ]
              ]
             ],
             "type": "Polygon"
            },
            "id": "203",
            "properties": {},
            "type": "Feature"
           },
           {
            "bbox": [
             -83.2643877918428,
             42.366760833501104,
             -83.2608500603032,
             42.367858965820105
            ],
            "geometry": {
             "coordinates": [
              [
               [
                -83.26431119952929,
                42.366760833501104
               ],
               [
                -83.2643877918428,
                42.3668244499566
               ],
               [
                -83.2643877618065,
                42.3668261511542
               ],
               [
                -83.26438722405929,
                42.366856608077896
               ],
               [
                -83.2608500603032,
                42.367858965820105
               ],
               [
                -83.2620271719368,
                42.3667987610423
               ],
               [
                -83.26431119952929,
                42.366760833501104
               ]
              ]
             ],
             "type": "Polygon"
            },
            "id": "204",
            "properties": {},
            "type": "Feature"
           },
           {
            "bbox": [
             -82.9618773726895,
             42.382403623491996,
             -82.9604671104556,
             42.3828309447816
            ],
            "geometry": {
             "coordinates": [
              [
               [
                -82.9605200329789,
                42.382403623491996
               ],
               [
                -82.9618773726895,
                42.382458928776
               ],
               [
                -82.9618137581145,
                42.382489264204295
               ],
               [
                -82.96071771139201,
                42.3828309447816
               ],
               [
                -82.9604671104556,
                42.3824522865048
               ],
               [
                -82.9605200329789,
                42.382403623491996
               ]
              ]
             ],
             "type": "Polygon"
            },
            "id": "205",
            "properties": {},
            "type": "Feature"
           },
           {
            "bbox": [
             -83.1001091177385,
             42.4232420339133,
             -83.0976870520499,
             42.4255593314589
            ],
            "geometry": {
             "coordinates": [
              [
               [
                -83.0993788589307,
                42.4232420339133
               ],
               [
                -83.1001091177385,
                42.4246751278295
               ],
               [
                -83.0999523319318,
                42.425464099113
               ],
               [
                -83.0976870520499,
                42.4255593314589
               ],
               [
                -83.0982629027296,
                42.424019533095496
               ],
               [
                -83.0993788589307,
                42.4232420339133
               ]
              ]
             ],
             "type": "Polygon"
            },
            "id": "206",
            "properties": {},
            "type": "Feature"
           },
           {
            "bbox": [
             -83.17140357010571,
             42.3881949994093,
             -83.1644704525598,
             42.3904250192484
            ],
            "geometry": {
             "coordinates": [
              [
               [
                -83.17094111217659,
                42.3881949994093
               ],
               [
                -83.17140357010571,
                42.3882106805056
               ],
               [
                -83.17091703300208,
                42.3884856499124
               ],
               [
                -83.16991588032191,
                42.3889546843358
               ],
               [
                -83.1667408141138,
                42.3904250192484
               ],
               [
                -83.165583746094,
                42.3901432352859
               ],
               [
                -83.1645202262772,
                42.3886572349549
               ],
               [
                -83.1644704525598,
                42.3883583390037
               ],
               [
                -83.16447045573109,
                42.3883581743745
               ],
               [
                -83.16872257055701,
                42.388247281365
               ],
               [
                -83.17094111217659,
                42.3881949994093
               ]
              ]
             ],
             "type": "Polygon"
            },
            "id": "207",
            "properties": {},
            "type": "Feature"
           },
           {
            "bbox": [
             -83.03002716942709,
             42.406549096155,
             -83.02874968875341,
             42.4081232496414
            ],
            "geometry": {
             "coordinates": [
              [
               [
                -83.0287752520446,
                42.406549096155
               ],
               [
                -83.0296262527508,
                42.4072751414748
               ],
               [
                -83.03002716942709,
                42.408094548086
               ],
               [
                -83.0299450809845,
                42.4081232496414
               ],
               [
                -83.02874968875341,
                42.408086535599104
               ],
               [
                -83.0287752520446,
                42.406549096155
               ]
              ]
             ],
             "type": "Polygon"
            },
            "id": "208",
            "properties": {},
            "type": "Feature"
           },
           {
            "bbox": [
             -83.14697947014359,
             42.3694018571846,
             -83.14332181131941,
             42.372413464092
            ],
            "geometry": {
             "coordinates": [
              [
               [
                -83.14332181131941,
                42.3694018571846
               ],
               [
                -83.1437282998883,
                42.36943340601871
               ],
               [
                -83.1446824693237,
                42.3698463372242
               ],
               [
                -83.14697947014359,
                42.3719974181881
               ],
               [
                -83.14564633096779,
                42.372413464092
               ],
               [
                -83.1442889438142,
                42.371420729606
               ],
               [
                -83.14332181131941,
                42.3694018571846
               ]
              ]
             ],
             "type": "Polygon"
            },
            "id": "209",
            "properties": {},
            "type": "Feature"
           },
           {
            "bbox": [
             -83.0016415281258,
             42.393415751373,
             -82.9955367758451,
             42.395505425067796
            ],
            "geometry": {
             "coordinates": [
              [
               [
                -83.000151565927,
                42.393415751373
               ],
               [
                -83.0016415281258,
                42.393682893436896
               ],
               [
                -82.9955367758451,
                42.395505425067796
               ],
               [
                -82.9991343933438,
                42.393707457360705
               ],
               [
                -83.000151565927,
                42.393415751373
               ]
              ]
             ],
             "type": "Polygon"
            },
            "id": "210",
            "properties": {},
            "type": "Feature"
           },
           {
            "bbox": [
             -82.9836467031042,
             42.4204265167495,
             -82.9818646546189,
             42.422125333302
            ],
            "geometry": {
             "coordinates": [
              [
               [
                -82.98359144262571,
                42.4204265167495
               ],
               [
                -82.9836093534323,
                42.420454014787005
               ],
               [
                -82.9836467031042,
                42.4221106738054
               ],
               [
                -82.9818646546189,
                42.422125333302
               ],
               [
                -82.9823508285761,
                42.4215830497951
               ],
               [
                -82.98359144262571,
                42.4204265167495
               ]
              ]
             ],
             "type": "Polygon"
            },
            "id": "211",
            "properties": {},
            "type": "Feature"
           },
           {
            "bbox": [
             -83.0194105229185,
             42.434085314969,
             -83.0167019007825,
             42.43569216086
            ],
            "geometry": {
             "coordinates": [
              [
               [
                -83.01809608802691,
                42.434085314969
               ],
               [
                -83.0190854211322,
                42.4349366869075
               ],
               [
                -83.0194105229185,
                42.4356658440631
               ],
               [
                -83.0180057643376,
                42.43569216086
               ],
               [
                -83.0167019007825,
                42.4341383343958
               ],
               [
                -83.01809608802691,
                42.434085314969
               ]
              ]
             ],
             "type": "Polygon"
            },
            "id": "212",
            "properties": {},
            "type": "Feature"
           },
           {
            "bbox": [
             -83.0398236827472,
             42.385483243684895,
             -83.03836379933809,
             42.387491333624396
            ],
            "geometry": {
             "coordinates": [
              [
               [
                -83.038707650999,
                42.385483243684895
               ],
               [
                -83.039167158239,
                42.3859837410565
               ],
               [
                -83.0398236827472,
                42.387491333624396
               ],
               [
                -83.03836379933809,
                42.3868543800111
               ],
               [
                -83.0386813529207,
                42.3855012964721
               ],
               [
                -83.038707650999,
                42.385483243684895
               ]
              ]
             ],
             "type": "Polygon"
            },
            "id": "213",
            "properties": {},
            "type": "Feature"
           },
           {
            "bbox": [
             -82.9598757959877,
             42.388121383546796,
             -82.9563260609777,
             42.390246418755396
            ],
            "geometry": {
             "coordinates": [
              [
               [
                -82.95815136737559,
                42.388121383546796
               ],
               [
                -82.9598757959877,
                42.388813784861
               ],
               [
                -82.95813666231541,
                42.3899211441438
               ],
               [
                -82.9570482393929,
                42.390246418755396
               ],
               [
                -82.9563260609777,
                42.3892733695849
               ],
               [
                -82.9571694634732,
                42.388321569041
               ],
               [
                -82.95815136737559,
                42.388121383546796
               ]
              ]
             ],
             "type": "Polygon"
            },
            "id": "214",
            "properties": {},
            "type": "Feature"
           },
           {
            "bbox": [
             -83.0346477193211,
             42.4189762972014,
             -83.03093481857309,
             42.421896588261106
            ],
            "geometry": {
             "coordinates": [
              [
               [
                -83.03093481857309,
                42.4189762972014
               ],
               [
                -83.0346477193211,
                42.4192525596933
               ],
               [
                -83.0316316334877,
                42.421896588261106
               ],
               [
                -83.03093481857309,
                42.4189762972014
               ]
              ]
             ],
             "type": "Polygon"
            },
            "id": "215",
            "properties": {},
            "type": "Feature"
           },
           {
            "bbox": [
             -83.27361462605141,
             42.44284572878129,
             -83.2715312139328,
             42.4429279521968
            ],
            "geometry": {
             "coordinates": [
              [
               [
                -83.27238857081541,
                42.44284572878129
               ],
               [
                -83.27361462605141,
                42.442867542299105
               ],
               [
                -83.2715312139328,
                42.4429279521968
               ],
               [
                -83.27238857081541,
                42.44284572878129
               ]
              ]
             ],
             "type": "Polygon"
            },
            "id": "216",
            "properties": {},
            "type": "Feature"
           },
           {
            "bbox": [
             -83.2529176626711,
             42.3931280023928,
             -83.2516816651338,
             42.394084647654
            ],
            "geometry": {
             "coordinates": [
              [
               [
                -83.251905494081,
                42.3931280023928
               ],
               [
                -83.2529176626711,
                42.394084647654
               ],
               [
                -83.25176846721641,
                42.3937520103898
               ],
               [
                -83.2516816651338,
                42.3934298233769
               ],
               [
                -83.251905494081,
                42.3931280023928
               ]
              ]
             ],
             "type": "Polygon"
            },
            "id": "217",
            "properties": {},
            "type": "Feature"
           },
           {
            "bbox": [
             -83.24206503668529,
             42.380142060767795,
             -83.23969283151399,
             42.3829546928394
            ],
            "geometry": {
             "coordinates": [
              [
               [
                -83.23969283151399,
                42.380142060767795
               ],
               [
                -83.2420619719624,
                42.38157177962189
               ],
               [
                -83.24206503668529,
                42.382018013214
               ],
               [
                -83.2408969267319,
                42.3829546928394
               ],
               [
                -83.239737106498,
                42.380970085531104
               ],
               [
                -83.23969283151399,
                42.380142060767795
               ]
              ]
             ],
             "type": "Polygon"
            },
            "id": "218",
            "properties": {},
            "type": "Feature"
           },
           {
            "bbox": [
             -83.2473420473068,
             42.350110720824,
             -83.2441696071689,
             42.3523461497944
            ],
            "geometry": {
             "coordinates": [
              [
               [
                -83.2473420473068,
                42.350110720824
               ],
               [
                -83.24669889460141,
                42.3523461497944
               ],
               [
                -83.2454319196195,
                42.352229794856
               ],
               [
                -83.2441889712096,
                42.351188708717295
               ],
               [
                -83.2441696071689,
                42.3504135136778
               ],
               [
                -83.2441997859562,
                42.350175383293795
               ],
               [
                -83.2453767960264,
                42.3501484320857
               ],
               [
                -83.2466388737549,
                42.3501229119455
               ],
               [
                -83.2473420473068,
                42.350110720824
               ]
              ]
             ],
             "type": "Polygon"
            },
            "id": "219",
            "properties": {},
            "type": "Feature"
           },
           {
            "bbox": [
             -83.09500789065909,
             42.3540205815192,
             -83.09243089157229,
             42.3561503739811
            ],
            "geometry": {
             "coordinates": [
              [
               [
                -83.09500789065909,
                42.3540205815192
               ],
               [
                -83.09472030117242,
                42.3561503739811
               ],
               [
                -83.09243089157229,
                42.3548309502386
               ],
               [
                -83.0936933398668,
                42.3544335632358
               ],
               [
                -83.09500789065909,
                42.3540205815192
               ]
              ]
             ],
             "type": "Polygon"
            },
            "id": "220",
            "properties": {},
            "type": "Feature"
           },
           {
            "bbox": [
             -83.0947157844456,
             42.3343279633207,
             -83.087603738665,
             42.3371634559697
            ],
            "geometry": {
             "coordinates": [
              [
               [
                -83.0912956063117,
                42.3343279633207
               ],
               [
                -83.0947157844456,
                42.335482975531896
               ],
               [
                -83.0942450696667,
                42.3371634559697
               ],
               [
                -83.0881617184306,
                42.336359654689396
               ],
               [
                -83.087603738665,
                42.3354283321613
               ],
               [
                -83.0912956063117,
                42.3343279633207
               ]
              ]
             ],
             "type": "Polygon"
            },
            "id": "221",
            "properties": {},
            "type": "Feature"
           },
           {
            "bbox": [
             -83.06873596424751,
             42.3708868754041,
             -83.0667092337826,
             42.373230796409004
            ],
            "geometry": {
             "coordinates": [
              [
               [
                -83.0679941998263,
                42.3708868754041
               ],
               [
                -83.06873596424751,
                42.372058720884496
               ],
               [
                -83.0680194609757,
                42.373230796409004
               ],
               [
                -83.06708116965241,
                42.3724319975334
               ],
               [
                -83.0667092337826,
                42.3712750793592
               ],
               [
                -83.067459523973,
                42.3709693482806
               ],
               [
                -83.0679941998263,
                42.3708868754041
               ]
              ]
             ],
             "type": "Polygon"
            },
            "id": "222",
            "properties": {},
            "type": "Feature"
           },
           {
            "bbox": [
             -83.0265598696265,
             42.4162429350246,
             -83.0260124983483,
             42.4179293068703
            ],
            "geometry": {
             "coordinates": [
              [
               [
                -83.0265598696265,
                42.4162429350246
               ],
               [
                -83.02641947164001,
                42.41708870906329
               ],
               [
                -83.02628049722101,
                42.4178680566986
               ],
               [
                -83.0260124983483,
                42.4179293068703
               ],
               [
                -83.0262671145078,
                42.41625004766829
               ],
               [
                -83.0265598696265,
                42.4162429350246
               ]
              ]
             ],
             "type": "Polygon"
            },
            "id": "223",
            "properties": {},
            "type": "Feature"
           },
           {
            "bbox": [
             -82.9819475048395,
             42.399555042252494,
             -82.9773060353565,
             42.4009491545225
            ],
            "geometry": {
             "coordinates": [
              [
               [
                -82.9800660928944,
                42.399555042252494
               ],
               [
                -82.9816522054362,
                42.3996639735721
               ],
               [
                -82.9819475048395,
                42.4003733147722
               ],
               [
                -82.9804119438523,
                42.4008215836985
               ],
               [
                -82.9773060353565,
                42.4009491545225
               ],
               [
                -82.9800660928944,
                42.399555042252494
               ]
              ]
             ],
             "type": "Polygon"
            },
            "id": "224",
            "properties": {},
            "type": "Feature"
           },
           {
            "bbox": [
             -83.120230094043,
             42.33660802791079,
             -83.1142219352279,
             42.3426012359055
            ],
            "geometry": {
             "coordinates": [
              [
               [
                -83.1156849878732,
                42.33660802791079
               ],
               [
                -83.119434578269,
                42.336670079111
               ],
               [
                -83.120230094043,
                42.3377711754746
               ],
               [
                -83.11846531981759,
                42.342043422129706
               ],
               [
                -83.1176957949335,
                42.3426012359055
               ],
               [
                -83.1146861936975,
                42.3403014671863
               ],
               [
                -83.1142219352279,
                42.3396558544717
               ],
               [
                -83.1156849878732,
                42.33660802791079
               ]
              ]
             ],
             "type": "Polygon"
            },
            "id": "225",
            "properties": {},
            "type": "Feature"
           },
           {
            "bbox": [
             -83.08403081921041,
             42.372468757528,
             -83.0830343254581,
             42.375306501295206
            ],
            "geometry": {
             "coordinates": [
              [
               [
                -83.08367656574559,
                42.372468757528
               ],
               [
                -83.08403081921041,
                42.375042223631795
               ],
               [
                -83.08308524376899,
                42.375306501295206
               ],
               [
                -83.0830343254581,
                42.375262701026294
               ],
               [
                -83.0832243460612,
                42.3726815808555
               ],
               [
                -83.0832626204293,
                42.3726201817135
               ],
               [
                -83.08367656574559,
                42.372468757528
               ]
              ]
             ],
             "type": "Polygon"
            },
            "id": "226",
            "properties": {},
            "type": "Feature"
           },
           {
            "bbox": [
             -82.94800830680559,
             42.3910210280129,
             -82.945471259158,
             42.391898976387
            ],
            "geometry": {
             "coordinates": [
              [
               [
                -82.94663074771859,
                42.3910210280129
               ],
               [
                -82.94800830680559,
                42.3911719560512
               ],
               [
                -82.9472179693471,
                42.391898976387
               ],
               [
                -82.945471259158,
                42.3912117570786
               ],
               [
                -82.94663074771859,
                42.3910210280129
               ]
              ]
             ],
             "type": "Polygon"
            },
            "id": "227",
            "properties": {},
            "type": "Feature"
           },
           {
            "bbox": [
             -83.2059394496289,
             42.3702121201726,
             -83.20352597880121,
             42.3709200909482
            ],
            "geometry": {
             "coordinates": [
              [
               [
                -83.2046462742012,
                42.3702121201726
               ],
               [
                -83.20593031601841,
                42.370222757786706
               ],
               [
                -83.2059394496289,
                42.3705277224291
               ],
               [
                -83.2046738070908,
                42.3709200909482
               ],
               [
                -83.20352597880121,
                42.370550280309
               ],
               [
                -83.2046462742012,
                42.3702121201726
               ]
              ]
             ],
             "type": "Polygon"
            },
            "id": "228",
            "properties": {},
            "type": "Feature"
           },
           {
            "bbox": [
             -82.99580843979841,
             42.4135981500296,
             -82.99413600190341,
             42.414993543704206
            ],
            "geometry": {
             "coordinates": [
              [
               [
                -82.99453540442799,
                42.4135981500296
               ],
               [
                -82.9953284474326,
                42.4142514665444
               ],
               [
                -82.99580843979841,
                42.414993543704206
               ],
               [
                -82.99464233117091,
                42.414461971317
               ],
               [
                -82.99413600190341,
                42.4137393858525
               ],
               [
                -82.99453540442799,
                42.4135981500296
               ]
              ]
             ],
             "type": "Polygon"
            },
            "id": "229",
            "properties": {},
            "type": "Feature"
           },
           {
            "bbox": [
             -83.272483181602,
             42.404128667084706,
             -83.2723825571262,
             42.406175798068205
            ],
            "geometry": {
             "coordinates": [
              [
               [
                -83.2723825571262,
                42.404128667084706
               ],
               [
                -83.2724648763751,
                42.404291101170394
               ],
               [
                -83.2724697215764,
                42.404437118831204
               ],
               [
                -83.272483181602,
                42.405569971266
               ],
               [
                -83.2724762600665,
                42.406175798068205
               ],
               [
                -83.2724038568565,
                42.404603284849294
               ],
               [
                -83.2723825571262,
                42.404128667084706
               ]
              ]
             ],
             "type": "Polygon"
            },
            "id": "230",
            "properties": {},
            "type": "Feature"
           },
           {
            "bbox": [
             -83.09716343357199,
             42.363152761780796,
             -83.0935748962824,
             42.365426133918604
            ],
            "geometry": {
             "coordinates": [
              [
               [
                -83.0965056707591,
                42.363152761780796
               ],
               [
                -83.09716343357199,
                42.3644734041393
               ],
               [
                -83.0943203769668,
                42.365426133918604
               ],
               [
                -83.09425906704008,
                42.3653474779029
               ],
               [
                -83.0935748962824,
                42.3642355367274
               ],
               [
                -83.0965056707591,
                42.363152761780796
               ]
              ]
             ],
             "type": "Polygon"
            },
            "id": "231",
            "properties": {},
            "type": "Feature"
           },
           {
            "bbox": [
             -83.26529057693651,
             42.388934083207104,
             -83.2652291674229,
             42.389071667043204
            ],
            "geometry": {
             "coordinates": [
              [
               [
                -83.26527819677179,
                42.388934083207104
               ],
               [
                -83.26529057693651,
                42.389071667043204
               ],
               [
                -83.2652291674229,
                42.38898522866229
               ],
               [
                -83.26527819677179,
                42.388934083207104
               ]
              ]
             ],
             "type": "Polygon"
            },
            "id": "232",
            "properties": {},
            "type": "Feature"
           },
           {
            "bbox": [
             -83.163339774687,
             42.3903415471292,
             -83.1630795165977,
             42.3931807908566
            ],
            "geometry": {
             "coordinates": [
              [
               [
                -83.1631549899216,
                42.3903415471292
               ],
               [
                -83.16326536128,
                42.3911455304895
               ],
               [
                -83.1633075798016,
                42.392220046214106
               ],
               [
                -83.163339774687,
                42.393046445979294
               ],
               [
                -83.1632705415265,
                42.3931807908566
               ],
               [
                -83.1630795165977,
                42.39271919262271
               ],
               [
                -83.1631549899216,
                42.3903415471292
               ]
              ]
             ],
             "type": "Polygon"
            },
            "id": "233",
            "properties": {},
            "type": "Feature"
           },
           {
            "bbox": [
             -82.9854382044061,
             42.3641243703112,
             -82.9816577235624,
             42.3665522265884
            ],
            "geometry": {
             "coordinates": [
              [
               [
                -82.98536423940041,
                42.3641243703112
               ],
               [
                -82.9854382044061,
                42.3641266425292
               ],
               [
                -82.983921915028,
                42.3659184097204
               ],
               [
                -82.9816577235624,
                42.3665522265884
               ],
               [
                -82.98322419437442,
                42.365004672195894
               ],
               [
                -82.98536423940041,
                42.3641243703112
               ]
              ]
             ],
             "type": "Polygon"
            },
            "id": "234",
            "properties": {},
            "type": "Feature"
           },
           {
            "bbox": [
             -83.04564518037371,
             42.414001383416704,
             -83.04464762898479,
             42.415510071216396
            ],
            "geometry": {
             "coordinates": [
              [
               [
                -83.04560423157349,
                42.414001383416704
               ],
               [
                -83.04564518037371,
                42.4141664434273
               ],
               [
                -83.04564067138679,
                42.4154287495099
               ],
               [
                -83.04560561532129,
                42.415510071216396
               ],
               [
                -83.04464762898479,
                42.4154491988465
               ],
               [
                -83.0446476313107,
                42.4154490890961
               ],
               [
                -83.04560423157349,
                42.414001383416704
               ]
              ]
             ],
             "type": "Polygon"
            },
            "id": "235",
            "properties": {},
            "type": "Feature"
           },
           {
            "bbox": [
             -83.0392166901847,
             42.393120506639704,
             -83.0356797125233,
             42.3960125928222
            ],
            "geometry": {
             "coordinates": [
              [
               [
                -83.03740107128671,
                42.393120506639704
               ],
               [
                -83.0391404790745,
                42.3952438622241
               ],
               [
                -83.0392166901847,
                42.3960125928222
               ],
               [
                -83.0356797125233,
                42.395884831487706
               ],
               [
                -83.03740107128671,
                42.393120506639704
               ]
              ]
             ],
             "type": "Polygon"
            },
            "id": "236",
            "properties": {},
            "type": "Feature"
           },
           {
            "bbox": [
             -83.023363924939,
             42.4103737622571,
             -83.0199408290731,
             42.4160214966319
            ],
            "geometry": {
             "coordinates": [
              [
               [
                -83.023363924939,
                42.4103737622571
               ],
               [
                -83.022484064619,
                42.413910555085394
               ],
               [
                -83.0200014658457,
                42.4160214966319
               ],
               [
                -83.0199408290731,
                42.4148843012155
               ],
               [
                -83.0210825919527,
                42.4112317665717
               ],
               [
                -83.023363924939,
                42.4103737622571
               ]
              ]
             ],
             "type": "Polygon"
            },
            "id": "237",
            "properties": {},
            "type": "Feature"
           },
           {
            "bbox": [
             -83.1295715921169,
             42.431818738828504,
             -83.1258788620945,
             42.4322645971123
            ],
            "geometry": {
             "coordinates": [
              [
               [
                -83.1259302300422,
                42.431818738828504
               ],
               [
                -83.12701569334709,
                42.4318191951524
               ],
               [
                -83.12778618397941,
                42.4318233982306
               ],
               [
                -83.12831508173471,
                42.431867309776294
               ],
               [
                -83.1295715921169,
                42.4322094710731
               ],
               [
                -83.1293741490602,
                42.4322645971123
               ],
               [
                -83.1258788620945,
                42.4319799326483
               ],
               [
                -83.1259302300422,
                42.431818738828504
               ]
              ]
             ],
             "type": "Polygon"
            },
            "id": "238",
            "properties": {},
            "type": "Feature"
           },
           {
            "bbox": [
             -83.08201076950941,
             42.414397743702104,
             -83.0809563903495,
             42.4162487272504
            ],
            "geometry": {
             "coordinates": [
              [
               [
                -83.08185497362341,
                42.414397743702104
               ],
               [
                -83.0819520378985,
                42.4145402612122
               ],
               [
                -83.08201076950941,
                42.416184502509395
               ],
               [
                -83.0819724089793,
                42.4162487272504
               ],
               [
                -83.0819543904868,
                42.4162244275157
               ],
               [
                -83.081943613981,
                42.4162081684805
               ],
               [
                -83.0809563903495,
                42.4146886959319
               ],
               [
                -83.08185497362341,
                42.414397743702104
               ]
              ]
             ],
             "type": "Polygon"
            },
            "id": "239",
            "properties": {},
            "type": "Feature"
           },
           {
            "bbox": [
             -82.99915590011159,
             42.408641485527895,
             -82.9980270378011,
             42.409283388575204
            ],
            "geometry": {
             "coordinates": [
              [
               [
                -82.9987181563411,
                42.408641485527895
               ],
               [
                -82.99915590011159,
                42.409283388575204
               ],
               [
                -82.9980270378011,
                42.4089145508368
               ],
               [
                -82.9982896083099,
                42.4087626518317
               ],
               [
                -82.9987181563411,
                42.408641485527895
               ]
              ]
             ],
             "type": "Polygon"
            },
            "id": "240",
            "properties": {},
            "type": "Feature"
           },
           {
            "bbox": [
             -83.0241502578209,
             42.352493437638,
             -83.0218616155143,
             42.3538123447562
            ],
            "geometry": {
             "coordinates": [
              [
               [
                -83.0241502578209,
                42.352493437638
               ],
               [
                -83.02295636157241,
                42.3538123447562
               ],
               [
                -83.0218616155143,
                42.3534459209644
               ],
               [
                -83.0223665063716,
                42.353196173929
               ],
               [
                -83.02256451781591,
                42.3531075953048
               ],
               [
                -83.0241502578209,
                42.352493437638
               ]
              ]
             ],
             "type": "Polygon"
            },
            "id": "241",
            "properties": {},
            "type": "Feature"
           },
           {
            "bbox": [
             -83.07788154107759,
             42.3875324753134,
             -83.07646163038409,
             42.38882417348721
            ],
            "geometry": {
             "coordinates": [
              [
               [
                -83.07736951011971,
                42.3875324753134
               ],
               [
                -83.07788154107759,
                42.3885527630684
               ],
               [
                -83.07703184271979,
                42.38882417348721
               ],
               [
                -83.07646163038409,
                42.3879326203404
               ],
               [
                -83.07736951011971,
                42.3875324753134
               ]
              ]
             ],
             "type": "Polygon"
            },
            "id": "242",
            "properties": {},
            "type": "Feature"
           },
           {
            "bbox": [
             -83.0319179792917,
             42.340384450620206,
             -83.03184614285999,
             42.3404874433636
            ],
            "geometry": {
             "coordinates": [
              [
               [
                -83.0318461938771,
                42.340384450620206
               ],
               [
                -83.0319179792917,
                42.3404874433636
               ],
               [
                -83.03184614285999,
                42.34038683769
               ],
               [
                -83.0318461938771,
                42.340384450620206
               ]
              ]
             ],
             "type": "Polygon"
            },
            "id": "243",
            "properties": {},
            "type": "Feature"
           },
           {
            "bbox": [
             -83.26678083094359,
             42.4147267540279,
             -83.2663190678116,
             42.41584424430889
            ],
            "geometry": {
             "coordinates": [
              [
               [
                -83.2663190678116,
                42.4147267540279
               ],
               [
                -83.2665630391873,
                42.4147531295097
               ],
               [
                -83.26675101616,
                42.4156447171105
               ],
               [
                -83.26678083094359,
                42.41584424430889
               ],
               [
                -83.26647774609908,
                42.4151794041679
               ],
               [
                -83.2663190678116,
                42.4147267540279
               ]
              ]
             ],
             "type": "Polygon"
            },
            "id": "244",
            "properties": {},
            "type": "Feature"
           },
           {
            "bbox": [
             -83.0875788801916,
             42.3075704778796,
             -83.0869871032851,
             42.308644403494796
            ],
            "geometry": {
             "coordinates": [
              [
               [
                -83.0869871032851,
                42.3075704778796
               ],
               [
                -83.08700168022649,
                42.3075808515934
               ],
               [
                -83.08757531899221,
                42.3086377492802
               ],
               [
                -83.0875788801916,
                42.308644403494796
               ],
               [
                -83.0869871032851,
                42.3075704778796
               ]
              ]
             ],
             "type": "Polygon"
            },
            "id": "245",
            "properties": {},
            "type": "Feature"
           },
           {
            "bbox": [
             -83.28558117039731,
             42.4215138531047,
             -83.28550146039471,
             42.423295621531295
            ],
            "geometry": {
             "coordinates": [
              [
               [
                -83.2855748638458,
                42.4215138531047
               ],
               [
                -83.28558117039731,
                42.4224322463704
               ],
               [
                -83.28554768581921,
                42.423295621531295
               ],
               [
                -83.28550146039471,
                42.4216885444715
               ],
               [
                -83.2855033703831,
                42.4215783505756
               ],
               [
                -83.2855748638458,
                42.4215138531047
               ]
              ]
             ],
             "type": "Polygon"
            },
            "id": "246",
            "properties": {},
            "type": "Feature"
           },
           {
            "bbox": [
             -83.1292507263723,
             42.298076349956496,
             -83.1287970601004,
             42.298854011065295
            ],
            "geometry": {
             "coordinates": [
              [
               [
                -83.1292507263723,
                42.298076349956496
               ],
               [
                -83.1292464196313,
                42.298854011065295
               ],
               [
                -83.1289432319751,
                42.298483199716394
               ],
               [
                -83.1287970601004,
                42.2982107593642
               ],
               [
                -83.1289875951518,
                42.2981097593768
               ],
               [
                -83.1292507263723,
                42.298076349956496
               ]
              ]
             ],
             "type": "Polygon"
            },
            "id": "247",
            "properties": {},
            "type": "Feature"
           },
           {
            "bbox": [
             -83.08159576116071,
             42.3238432003561,
             -83.07882445307371,
             42.325303955466
            ],
            "geometry": {
             "coordinates": [
              [
               [
                -83.07882445307371,
                42.3238432003561
               ],
               [
                -83.08159576116071,
                42.3241409174825
               ],
               [
                -83.0796449713765,
                42.325303955466
               ],
               [
                -83.07882445307371,
                42.3238432003561
               ]
              ]
             ],
             "type": "Polygon"
            },
            "id": "248",
            "properties": {},
            "type": "Feature"
           },
           {
            "bbox": [
             -83.206583422612,
             42.352584566234796,
             -83.2040274894814,
             42.3529620674516
            ],
            "geometry": {
             "coordinates": [
              [
               [
                -83.2052591963442,
                42.352584566234796
               ],
               [
                -83.2065754394498,
                42.352634801598
               ],
               [
                -83.206583422612,
                42.3528025637921
               ],
               [
                -83.2040274894814,
                42.3529620674516
               ],
               [
                -83.2052591963442,
                42.352584566234796
               ]
              ]
             ],
             "type": "Polygon"
            },
            "id": "249",
            "properties": {},
            "type": "Feature"
           },
           {
            "bbox": [
             -83.0555749858309,
             42.4047334918937,
             -83.053007686711,
             42.406854603363
            ],
            "geometry": {
             "coordinates": [
              [
               [
                -83.05422137841359,
                42.4047334918937
               ],
               [
                -83.0555749858309,
                42.4067545347376
               ],
               [
                -83.055387720474,
                42.406854603363
               ],
               [
                -83.053007686711,
                42.40521680892879
               ],
               [
                -83.05422137841359,
                42.4047334918937
               ]
              ]
             ],
             "type": "Polygon"
            },
            "id": "250",
            "properties": {},
            "type": "Feature"
           },
           {
            "bbox": [
             -83.1441122010099,
             42.320159835666,
             -83.1416731667921,
             42.3223465224821
            ],
            "geometry": {
             "coordinates": [
              [
               [
                -83.1441122010099,
                42.320159835666
               ],
               [
                -83.1436026308137,
                42.3216321986416
               ],
               [
                -83.1427698603937,
                42.32204492083989
               ],
               [
                -83.1419503517685,
                42.3223465224821
               ],
               [
                -83.1416731667921,
                42.3219601927868
               ],
               [
                -83.1427059328964,
                42.3204000649252
               ],
               [
                -83.1441122010099,
                42.320159835666
               ]
              ]
             ],
             "type": "Polygon"
            },
            "id": "251",
            "properties": {},
            "type": "Feature"
           },
           {
            "bbox": [
             -82.9653224988262,
             42.3604242796263,
             -82.96435076316291,
             42.3641106921665
            ],
            "geometry": {
             "coordinates": [
              [
               [
                -82.9653224988262,
                42.3604242796263
               ],
               [
                -82.96508432044371,
                42.3641106921665
               ],
               [
                -82.96435076316291,
                42.362993136103
               ],
               [
                -82.96470006126721,
                42.3617757989081
               ],
               [
                -82.96513596882059,
                42.3604911925556
               ],
               [
                -82.9653224988262,
                42.3604242796263
               ]
              ]
             ],
             "type": "Polygon"
            },
            "id": "252",
            "properties": {},
            "type": "Feature"
           },
           {
            "bbox": [
             -83.12976394293429,
             42.3244458614029,
             -83.12976394293429,
             42.3244458614029
            ],
            "geometry": {
             "coordinates": [
              -83.12976394293429,
              42.3244458614029
             ],
             "type": "Point"
            },
            "id": "253",
            "properties": {},
            "type": "Feature"
           },
           {
            "bbox": [
             -83.0326735705377,
             42.3565797160134,
             -83.02900543997379,
             42.360232201592005
            ],
            "geometry": {
             "coordinates": [
              [
               [
                -83.0322363308226,
                42.3565797160134
               ],
               [
                -83.0326735705377,
                42.3572441266475
               ],
               [
                -83.0326735429864,
                42.3572454162139
               ],
               [
                -83.0306501360542,
                42.35963519556989
               ],
               [
                -83.030295167919,
                42.35979516254
               ],
               [
                -83.02900543997379,
                42.360232201592005
               ],
               [
                -83.0307379792355,
                42.3579509736724
               ],
               [
                -83.0322363308226,
                42.3565797160134
               ]
              ]
             ],
             "type": "Polygon"
            },
            "id": "254",
            "properties": {},
            "type": "Feature"
           },
           {
            "bbox": [
             -83.0943680882672,
             42.4180913930347,
             -83.0934303660082,
             42.419046732015204
            ],
            "geometry": {
             "coordinates": [
              [
               [
                -83.0942943528517,
                42.4180913930347
               ],
               [
                -83.0943558111808,
                42.418710095363394
               ],
               [
                -83.0943680882672,
                42.419016152421605
               ],
               [
                -83.0934303660082,
                42.419046732015204
               ],
               [
                -83.09343105146999,
                42.41810584539439
               ],
               [
                -83.0942943528517,
                42.4180913930347
               ]
              ]
             ],
             "type": "Polygon"
            },
            "id": "255",
            "properties": {},
            "type": "Feature"
           },
           {
            "bbox": [
             -83.0382780797148,
             42.398964471354795,
             -83.03760525889271,
             42.4016343268261
            ],
            "geometry": {
             "coordinates": [
              [
               [
                -83.0381356233822,
                42.398964471354795
               ],
               [
                -83.0382780797148,
                42.3997518986085
               ],
               [
                -83.0378899250732,
                42.4016343268261
               ],
               [
                -83.0377036022381,
                42.4004725380191
               ],
               [
                -83.03763406477199,
                42.399738793736205
               ],
               [
                -83.03760525889271,
                42.3990050868804
               ],
               [
                -83.0381356233822,
                42.398964471354795
               ]
              ]
             ],
             "type": "Polygon"
            },
            "id": "256",
            "properties": {},
            "type": "Feature"
           },
           {
            "bbox": [
             -82.9608214837441,
             42.3765660036266,
             -82.9595749627789,
             42.3777771866828
            ],
            "geometry": {
             "coordinates": [
              [
               [
                -82.9605960176118,
                42.3765660036266
               ],
               [
                -82.9608214837441,
                42.3769091939
               ],
               [
                -82.960413266704,
                42.3777771866828
               ],
               [
                -82.9595749627789,
                42.3770335570632
               ],
               [
                -82.9605960176118,
                42.3765660036266
               ]
              ]
             ],
             "type": "Polygon"
            },
            "id": "257",
            "properties": {},
            "type": "Feature"
           },
           {
            "bbox": [
             -83.05584567612571,
             42.375287634858,
             -83.0555883089787,
             42.376867369942396
            ],
            "geometry": {
             "coordinates": [
              [
               [
                -83.0557917527544,
                42.375287634858
               ],
               [
                -83.05584567612571,
                42.3767737648098
               ],
               [
                -83.0555883089787,
                42.376867369942396
               ],
               [
                -83.0557917527544,
                42.375287634858
               ]
              ]
             ],
             "type": "Polygon"
            },
            "id": "258",
            "properties": {},
            "type": "Feature"
           },
           {
            "bbox": [
             -83.0402309043822,
             42.430582803034206,
             -83.03887058926959,
             42.4318190844314
            ],
            "geometry": {
             "coordinates": [
              [
               [
                -83.040225761693,
                42.430582803034206
               ],
               [
                -83.0402309043822,
                42.430689374693706
               ],
               [
                -83.03939553786809,
                42.4318190844314
               ],
               [
                -83.0388757057183,
                42.431003924082106
               ],
               [
                -83.03887058926959,
                42.4308962274226
               ],
               [
                -83.040225761693,
                42.430582803034206
               ]
              ]
             ],
             "type": "Polygon"
            },
            "id": "259",
            "properties": {},
            "type": "Feature"
           },
           {
            "bbox": [
             -83.03650808946779,
             42.3706032208131,
             -83.0356162206082,
             42.3727072119664
            ],
            "geometry": {
             "coordinates": [
              [
               [
                -83.0359152560457,
                42.3706032208131
               ],
               [
                -83.03650808946779,
                42.3716146347755
               ],
               [
                -83.03587427265471,
                42.3726993041064
               ],
               [
                -83.03567793851191,
                42.3727072119664
               ],
               [
                -83.0356162206082,
                42.3714357281177
               ],
               [
                -83.0359152560457,
                42.3706032208131
               ]
              ]
             ],
             "type": "Polygon"
            },
            "id": "260",
            "properties": {},
            "type": "Feature"
           },
           {
            "bbox": [
             -83.1380030653552,
             42.2899578849817,
             -83.1351500512593,
             42.292138812554995
            ],
            "geometry": {
             "coordinates": [
              [
               [
                -83.1364454498575,
                42.2899578849817
               ],
               [
                -83.1364672749776,
                42.2899757956916
               ],
               [
                -83.1380030653552,
                42.292138812554995
               ],
               [
                -83.1351500512593,
                42.2917328404319
               ],
               [
                -83.1351500550435,
                42.291732648365205
               ],
               [
                -83.1354702388772,
                42.290490169131296
               ],
               [
                -83.1364454498575,
                42.2899578849817
               ]
              ]
             ],
             "type": "Polygon"
            },
            "id": "261",
            "properties": {},
            "type": "Feature"
           },
           {
            "bbox": [
             -83.0938199808431,
             42.3054621492233,
             -83.0917911602947,
             42.306875120152
            ],
            "geometry": {
             "coordinates": [
              [
               [
                -83.09294952251459,
                42.3054621492233
               ],
               [
                -83.0938199808431,
                42.3061090382013
               ],
               [
                -83.0925177165301,
                42.306875120152
               ],
               [
                -83.09201908438591,
                42.3063066645731
               ],
               [
                -83.0917911602947,
                42.30588017246521
               ],
               [
                -83.09294952251459,
                42.3054621492233
               ]
              ]
             ],
             "type": "Polygon"
            },
            "id": "262",
            "properties": {},
            "type": "Feature"
           },
           {
            "bbox": [
             -83.02559500301341,
             42.350609325426,
             -83.024675455936,
             42.3522470022627
            ],
            "geometry": {
             "coordinates": [
              [
               [
                -83.024675455936,
                42.350609325426
               ],
               [
                -83.0255270129787,
                42.3517886097004
               ],
               [
                -83.02559144948859,
                42.351889351444704
               ],
               [
                -83.02559500301341,
                42.3518961722267
               ],
               [
                -83.02557216569029,
                42.351925844342205
               ],
               [
                -83.0247364611373,
                42.3522470022627
               ],
               [
                -83.024714434045,
                42.352238947584205
               ],
               [
                -83.024675455936,
                42.350609325426
               ]
              ]
             ],
             "type": "Polygon"
            },
            "id": "263",
            "properties": {},
            "type": "Feature"
           },
           {
            "bbox": [
             -83.1465407961664,
             42.2916957044961,
             -83.1455733292886,
             42.2928933215692
            ],
            "geometry": {
             "coordinates": [
              [
               [
                -83.14650972836,
                42.2916957044961
               ],
               [
                -83.1465407961664,
                42.292565818906
               ],
               [
                -83.1455733292886,
                42.2928933215692
               ],
               [
                -83.14592238217101,
                42.291865709899504
               ],
               [
                -83.14650972836,
                42.2916957044961
               ]
              ]
             ],
             "type": "Polygon"
            },
            "id": "264",
            "properties": {},
            "type": "Feature"
           },
           {
            "bbox": [
             -83.1002751913336,
             42.3312545096455,
             -83.0982700432848,
             42.337005768694404
            ],
            "geometry": {
             "coordinates": [
              [
               [
                -83.098522818684,
                42.3312545096455
               ],
               [
                -83.0985374119799,
                42.331264442869
               ],
               [
                -83.1002751913336,
                42.334214474682604
               ],
               [
                -83.1000269577007,
                42.335693769754
               ],
               [
                -83.0996045498687,
                42.337005768694404
               ],
               [
                -83.0982700432848,
                42.335688305146206
               ],
               [
                -83.098522818684,
                42.3312545096455
               ]
              ]
             ],
             "type": "Polygon"
            },
            "id": "265",
            "properties": {},
            "type": "Feature"
           },
           {
            "bbox": [
             -83.0803991717853,
             42.4085567147054,
             -83.0784848096642,
             42.4115074492841
            ],
            "geometry": {
             "coordinates": [
              [
               [
                -83.07947181048391,
                42.4085567147054
               ],
               [
                -83.07996805613121,
                42.40855676530229
               ],
               [
                -83.0803991717853,
                42.4100992085349
               ],
               [
                -83.0798923837247,
                42.4115074492841
               ],
               [
                -83.0784848096642,
                42.4109810354235
               ],
               [
                -83.0791532253601,
                42.4087409325594
               ],
               [
                -83.0792039197315,
                42.4086173220813
               ],
               [
                -83.07947181048391,
                42.4085567147054
               ]
              ]
             ],
             "type": "Polygon"
            },
            "id": "266",
            "properties": {},
            "type": "Feature"
           },
           {
            "bbox": [
             -83.1248468961812,
             42.4030048928569,
             -83.12116413733621,
             42.403617585129105
            ],
            "geometry": {
             "coordinates": [
              [
               [
                -83.1244924961169,
                42.4030048928569
               ],
               [
                -83.1248468961812,
                42.403617585129105
               ],
               [
                -83.12116413733621,
                42.4035305277258
               ],
               [
                -83.1211770838866,
                42.40306746983521
               ],
               [
                -83.1244924961169,
                42.4030048928569
               ]
              ]
             ],
             "type": "Polygon"
            },
            "id": "267",
            "properties": {},
            "type": "Feature"
           },
           {
            "bbox": [
             -83.04033305158642,
             42.368749670658495,
             -83.0375611599612,
             42.3702581566534
            ],
            "geometry": {
             "coordinates": [
              [
               [
                -83.04033305158642,
                42.368749670658495
               ],
               [
                -83.0389315985276,
                42.3702581566534
               ],
               [
                -83.0375611599612,
                42.37013294726471
               ],
               [
                -83.0382955906534,
                42.3693612700973
               ],
               [
                -83.04033305158642,
                42.368749670658495
               ]
              ]
             ],
             "type": "Polygon"
            },
            "id": "268",
            "properties": {},
            "type": "Feature"
           },
           {
            "bbox": [
             -83.07790389856551,
             42.3222139474257,
             -83.07579112742592,
             42.3244272533285
            ],
            "geometry": {
             "coordinates": [
              [
               [
                -83.07790389856551,
                42.3222139474257
               ],
               [
                -83.07626055274841,
                42.3244272533285
               ],
               [
                -83.07579112742592,
                42.32351951816371
               ],
               [
                -83.07790389856551,
                42.3222139474257
               ]
              ]
             ],
             "type": "Polygon"
            },
            "id": "269",
            "properties": {},
            "type": "Feature"
           },
           {
            "bbox": [
             -83.10206670607191,
             42.339582488854,
             -83.0994782914703,
             42.3407695248508
            ],
            "geometry": {
             "coordinates": [
              [
               [
                -83.0994782914703,
                42.339582488854
               ],
               [
                -83.10206670607191,
                42.339634170207
               ],
               [
                -83.1003161443918,
                42.3407695248508
               ],
               [
                -83.0994782914703,
                42.339582488854
               ]
              ]
             ],
             "type": "Polygon"
            },
            "id": "270",
            "properties": {},
            "type": "Feature"
           },
           {
            "bbox": [
             -83.06471645854279,
             42.4142953421781,
             -83.064087244205,
             42.4156284986521
            ],
            "geometry": {
             "coordinates": [
              [
               [
                -83.06471645854279,
                42.4142953421781
               ],
               [
                -83.06448863090779,
                42.4156284986521
               ],
               [
                -83.0641088058862,
                42.4151941203961
               ],
               [
                -83.064087244205,
                42.415162476945895
               ],
               [
                -83.06471645854279,
                42.4142953421781
               ]
              ]
             ],
             "type": "Polygon"
            },
            "id": "271",
            "properties": {},
            "type": "Feature"
           },
           {
            "bbox": [
             -83.13348700086571,
             42.2891469760791,
             -83.13123330043891,
             42.2904548454358
            ],
            "geometry": {
             "coordinates": [
              [
               [
                -83.13326048010671,
                42.2891469760791
               ],
               [
                -83.13348700086571,
                42.2900304740408
               ],
               [
                -83.1322440636798,
                42.2904548454358
               ],
               [
                -83.13123330043891,
                42.29016544514371
               ],
               [
                -83.13326048010671,
                42.2891469760791
               ]
              ]
             ],
             "type": "Polygon"
            },
            "id": "272",
            "properties": {},
            "type": "Feature"
           },
           {
            "bbox": [
             -83.1769676473969,
             42.3867164482796,
             -83.1768000531025,
             42.3882173189525
            ],
            "geometry": {
             "coordinates": [
              [
               [
                -83.1768000531025,
                42.3867164482796
               ],
               [
                -83.1768918547269,
                42.3871440506419
               ],
               [
                -83.17696214083091,
                42.3881177776763
               ],
               [
                -83.1769676473969,
                42.3882173189525
               ],
               [
                -83.1768492630965,
                42.387630483983
               ],
               [
                -83.17681746803929,
                42.3871622349213
               ],
               [
                -83.1768000531025,
                42.3867164482796
               ]
              ]
             ],
             "type": "Polygon"
            },
            "id": "273",
            "properties": {},
            "type": "Feature"
           },
           {
            "bbox": [
             -83.1250303244999,
             42.4463528562465,
             -83.1247441854501,
             42.4465069053469
            ],
            "geometry": {
             "coordinates": [
              [
               [
                -83.1249221327682,
                42.4463528562465
               ],
               [
                -83.1250303244999,
                42.446502235355794
               ],
               [
                -83.1248523647401,
                42.4465069053469
               ],
               [
                -83.1247441854501,
                42.44635692243279
               ],
               [
                -83.1249221327682,
                42.4463528562465
               ]
              ]
             ],
             "type": "Polygon"
            },
            "id": "274",
            "properties": {},
            "type": "Feature"
           },
           {
            "bbox": [
             -83.2501969805667,
             42.3849515278946,
             -83.2494009051636,
             42.3859828739443
            ],
            "geometry": {
             "coordinates": [
              [
               [
                -83.25008586590559,
                42.3849515278946
               ],
               [
                -83.2501969805667,
                42.3859828739443
               ],
               [
                -83.2494907759657,
                42.385728251901604
               ],
               [
                -83.249476147409,
                42.3857182558009
               ],
               [
                -83.2494009051636,
                42.385371975372706
               ],
               [
                -83.25008586590559,
                42.3849515278946
               ]
              ]
             ],
             "type": "Polygon"
            },
            "id": "275",
            "properties": {},
            "type": "Feature"
           },
           {
            "bbox": [
             -83.1165379305775,
             42.3511349974502,
             -83.1143838928298,
             42.3518530348505
            ],
            "geometry": {
             "coordinates": [
              [
               [
                -83.1143838928298,
                42.3511349974502
               ],
               [
                -83.11550953240109,
                42.3512763164444
               ],
               [
                -83.1165379305775,
                42.3518396307242
               ],
               [
                -83.1165379031124,
                42.3518410026244
               ],
               [
                -83.1159012713917,
                42.3518530348505
               ],
               [
                -83.1143838928298,
                42.3511349974502
               ]
              ]
             ],
             "type": "Polygon"
            },
            "id": "276",
            "properties": {},
            "type": "Feature"
           },
           {
            "bbox": [
             -83.03074254352791,
             42.337746406248705,
             -83.0280145600279,
             42.340192216705205
            ],
            "geometry": {
             "coordinates": [
              [
               [
                -83.0305264818246,
                42.337746406248705
               ],
               [
                -83.03074254352791,
                42.338886441865604
               ],
               [
                -83.0280289107218,
                42.340192216705205
               ],
               [
                -83.0280145600279,
                42.340171381705105
               ],
               [
                -83.0282717701689,
                42.3397347822132
               ],
               [
                -83.0288349879495,
                42.3390007516356
               ],
               [
                -83.0305264818246,
                42.337746406248705
               ]
              ]
             ],
             "type": "Polygon"
            },
            "id": "277",
            "properties": {},
            "type": "Feature"
           },
           {
            "bbox": [
             -83.1837186209673,
             42.3611431372323,
             -83.1836444720705,
             42.361160316686295
            ],
            "geometry": {
             "coordinates": [
              [
               [
                -83.1837077053068,
                42.3611431372323
               ],
               [
                -83.1837186209673,
                42.361152938622105
               ],
               [
                -83.1836444720705,
                42.361160316686295
               ],
               [
                -83.1837077053068,
                42.3611431372323
               ]
              ]
             ],
             "type": "Polygon"
            },
            "id": "278",
            "properties": {},
            "type": "Feature"
           },
           {
            "bbox": [
             -83.1732800108394,
             42.391546098495105,
             -83.171065718706,
             42.3930772300372
            ],
            "geometry": {
             "coordinates": [
              [
               [
                -83.171065718706,
                42.391546098495105
               ],
               [
                -83.1732248890836,
                42.3917004558784
               ],
               [
                -83.1732800108394,
                42.3930772300372
               ],
               [
                -83.1711108578349,
                42.3924751886356
               ],
               [
                -83.171065718706,
                42.391546098495105
               ]
              ]
             ],
             "type": "Polygon"
            },
            "id": "279",
            "properties": {},
            "type": "Feature"
           },
           {
            "bbox": [
             -82.985121320864,
             42.3868083107535,
             -82.9838487549431,
             42.3872662432188
            ],
            "geometry": {
             "coordinates": [
              [
               [
                -82.985121320864,
                42.3868083107535
               ],
               [
                -82.9838487549431,
                42.3872662432188
               ],
               [
                -82.983848777437,
                42.387265228038395
               ],
               [
                -82.985121320864,
                42.3868083107535
               ]
              ]
             ],
             "type": "Polygon"
            },
            "id": "280",
            "properties": {},
            "type": "Feature"
           },
           {
            "bbox": [
             -83.25031378670779,
             42.3573078593764,
             -83.250313769538,
             42.3573088197279
            ],
            "geometry": {
             "coordinates": [
              [
               -83.250313769538,
               42.3573088197279
              ],
              [
               -83.25031378670779,
               42.3573078593764
              ]
             ],
             "type": "LineString"
            },
            "id": "281",
            "properties": {},
            "type": "Feature"
           },
           {
            "bbox": [
             -83.0764371919855,
             42.31756363136579,
             -83.07524485424659,
             42.3186192857882
            ],
            "geometry": {
             "coordinates": [
              [
               [
                -83.07524485424659,
                42.31756363136579
               ],
               [
                -83.0764371919855,
                42.3182024344939
               ],
               [
                -83.07643717272059,
                42.3182033673796
               ],
               [
                -83.07554476028521,
                42.3186192857882
               ],
               [
                -83.07524485424659,
                42.31756363136579
               ]
              ]
             ],
             "type": "Polygon"
            },
            "id": "282",
            "properties": {},
            "type": "Feature"
           },
           {
            "bbox": [
             -83.04648767640741,
             42.369872258006296,
             -83.0431179377754,
             42.374881293832296
            ],
            "geometry": {
             "coordinates": [
              [
               [
                -83.0435624363992,
                42.369872258006296
               ],
               [
                -83.0449432233884,
                42.3719561948439
               ],
               [
                -83.04573822953292,
                42.373215951138604
               ],
               [
                -83.04636693073279,
                42.3742901647049
               ],
               [
                -83.04639724577,
                42.3744318558426
               ],
               [
                -83.04648767640741,
                42.374881293832296
               ],
               [
                -83.0431179377754,
                42.3700643198571
               ],
               [
                -83.0435624363992,
                42.369872258006296
               ]
              ]
             ],
             "type": "Polygon"
            },
            "id": "283",
            "properties": {},
            "type": "Feature"
           },
           {
            "bbox": [
             -83.09261600384941,
             42.3410593650217,
             -83.0913103514545,
             42.343945074628294
            ],
            "geometry": {
             "coordinates": [
              [
               [
                -83.0918869145922,
                42.3410593650217
               ],
               [
                -83.09261600384941,
                42.343945074628294
               ],
               [
                -83.09241221358059,
                42.3435980328352
               ],
               [
                -83.0919404409528,
                42.3427868088306
               ],
               [
                -83.0913103514545,
                42.3415768235068
               ],
               [
                -83.0918869145922,
                42.3410593650217
               ]
              ]
             ],
             "type": "Polygon"
            },
            "id": "284",
            "properties": {},
            "type": "Feature"
           },
           {
            "bbox": [
             -83.18156910198529,
             42.3699024710206,
             -83.1794393864578,
             42.3710200014532
            ],
            "geometry": {
             "coordinates": [
              [
               [
                -83.18156910198529,
                42.3699024710206
               ],
               [
                -83.1811636753133,
                42.3709833088991
               ],
               [
                -83.1802599243412,
                42.3710200014532
               ],
               [
                -83.1794393864578,
                42.3699894737709
               ],
               [
                -83.18156910198529,
                42.3699024710206
               ]
              ]
             ],
             "type": "Polygon"
            },
            "id": "285",
            "properties": {},
            "type": "Feature"
           },
           {
            "bbox": [
             -83.25935001502191,
             42.4428233054197,
             -83.25883913102,
             42.443249964533
            ],
            "geometry": {
             "coordinates": [
              [
               [
                -83.2588573821854,
                42.4428233054197
               ],
               [
                -83.25935001502191,
                42.443249964533
               ],
               [
                -83.2588500728535,
                42.4432347195444
               ],
               [
                -83.25883913102,
                42.443224925406
               ],
               [
                -83.2588573821854,
                42.4428233054197
               ]
              ]
             ],
             "type": "Polygon"
            },
            "id": "286",
            "properties": {},
            "type": "Feature"
           },
           {
            "bbox": [
             -83.26114116522871,
             42.378797385718705,
             -83.2610667435681,
             42.378948664935
            ],
            "geometry": {
             "coordinates": [
              [
               [
                -83.26114116522871,
                42.378797385718705
               ],
               [
                -83.26107185951109,
                42.378948664935
               ],
               [
                -83.2610667435681,
                42.37881954890079
               ],
               [
                -83.26114116522871,
                42.378797385718705
               ]
              ]
             ],
             "type": "Polygon"
            },
            "id": "287",
            "properties": {},
            "type": "Feature"
           },
           {
            "bbox": [
             -83.0478652991533,
             42.365901675896296,
             -83.04765646438631,
             42.3659877194755
            ],
            "geometry": {
             "coordinates": [
              [
               [
                -83.0478544260269,
                42.365901675896296
               ],
               [
                -83.0478652991533,
                42.365912532966
               ],
               [
                -83.04765646438631,
                42.3659877194755
               ],
               [
                -83.0478544260269,
                42.365901675896296
               ]
              ]
             ],
             "type": "Polygon"
            },
            "id": "288",
            "properties": {},
            "type": "Feature"
           },
           {
            "bbox": [
             -83.08662466954429,
             42.3693048677529,
             -83.08635269375141,
             42.3699341425862
            ],
            "geometry": {
             "coordinates": [
              [
               -83.08662466954429,
               42.3693048677529
              ],
              [
               -83.08635269375141,
               42.3699341425862
              ]
             ],
             "type": "LineString"
            },
            "id": "289",
            "properties": {},
            "type": "Feature"
           },
           {
            "bbox": [
             -83.0479030568997,
             42.371411647142104,
             -83.0471236287934,
             42.3727097387257
            ],
            "geometry": {
             "coordinates": [
              [
               [
                -83.0471236287934,
                42.371411647142104
               ],
               [
                -83.0479030568997,
                42.3727097387257
               ],
               [
                -83.0475408163375,
                42.372336732902205
               ],
               [
                -83.0471236287934,
                42.371411647142104
               ]
              ]
             ],
             "type": "Polygon"
            },
            "id": "290",
            "properties": {},
            "type": "Feature"
           },
           {
            "bbox": [
             -83.0336430233374,
             42.3374867704094,
             -83.0329700610682,
             42.3385129156617
            ],
            "geometry": {
             "coordinates": [
              [
               [
                -83.0336430233374,
                42.3374867704094
               ],
               [
                -83.0329700610682,
                42.3385129156617
               ],
               [
                -83.0333480668438,
                42.3376143523448
               ],
               [
                -83.0334800894688,
                42.3374947911014
               ],
               [
                -83.0336430233374,
                42.3374867704094
               ]
              ]
             ],
             "type": "Polygon"
            },
            "id": "291",
            "properties": {},
            "type": "Feature"
           },
           {
            "bbox": [
             -83.08002423789179,
             42.3569516386591,
             -83.0787812428472,
             42.358066822826
            ],
            "geometry": {
             "coordinates": [
              [
               [
                -83.07939596958241,
                42.3569516386591
               ],
               [
                -83.07974261896591,
                42.357188241626396
               ],
               [
                -83.0800107749165,
                42.3580018743926
               ],
               [
                -83.08002423789179,
                42.358066822826
               ],
               [
                -83.0787812428472,
                42.357333769869896
               ],
               [
                -83.07939596958241,
                42.3569516386591
               ]
              ]
             ],
             "type": "Polygon"
            },
            "id": "292",
            "properties": {},
            "type": "Feature"
           },
           {
            "bbox": [
             -83.0538786013047,
             42.374385774374396,
             -83.0528948701526,
             42.3746984862011
            ],
            "geometry": {
             "coordinates": [
              [
               [
                -83.0538786013047,
                42.374385774374396
               ],
               [
                -83.0538783202865,
                42.374399136525504
               ],
               [
                -83.0528948701526,
                42.3746984862011
               ],
               [
                -83.05358869154641,
                42.3744431288508
               ],
               [
                -83.0538786013047,
                42.374385774374396
               ]
              ]
             ],
             "type": "Polygon"
            },
            "id": "293",
            "properties": {},
            "type": "Feature"
           },
           {
            "bbox": [
             -83.11186738779641,
             42.3007124304697,
             -83.110693579005,
             42.3008061940816
            ],
            "geometry": {
             "coordinates": [
              [
               -83.110693579005,
               42.3008061940816
              ],
              [
               -83.11186738779641,
               42.3007124304697
              ]
             ],
             "type": "LineString"
            },
            "id": "294",
            "properties": {},
            "type": "Feature"
           },
           {
            "bbox": [
             -83.05865914667241,
             42.364936315448,
             -83.05616989087841,
             42.3690357747454
            ],
            "geometry": {
             "coordinates": [
              [
               [
                -83.0562459489795,
                42.364936315448
               ],
               [
                -83.05865914667241,
                42.368278049471996
               ],
               [
                -83.0584508182362,
                42.3690357747454
               ],
               [
                -83.05785130425409,
                42.368856926095
               ],
               [
                -83.05616989087841,
                42.366620355688205
               ],
               [
                -83.0561698943342,
                42.366620191062005
               ],
               [
                -83.0562459489795,
                42.364936315448
               ]
              ]
             ],
             "type": "Polygon"
            },
            "id": "295",
            "properties": {},
            "type": "Feature"
           },
           {
            "bbox": [
             -83.1483078280495,
             42.4459582233998,
             -83.147689281162,
             42.4459855091416
            ],
            "geometry": {
             "coordinates": [
              [
               [
                -83.147689281162,
                42.4459582233998
               ],
               [
                -83.1483078280495,
                42.445972209808005
               ],
               [
                -83.1480483319905,
                42.4459778534083
               ],
               [
                -83.1476924532292,
                42.4459855091416
               ],
               [
                -83.147689281162,
                42.4459582233998
               ]
              ]
             ],
             "type": "Polygon"
            },
            "id": "296",
            "properties": {},
            "type": "Feature"
           },
           {
            "bbox": [
             -83.2531481898578,
             42.443411587583206,
             -83.2518136529595,
             42.443446861450795
            ],
            "geometry": {
             "coordinates": [
              [
               -83.2518136529595,
               42.443446861450795
              ],
              [
               -83.2531481898578,
               42.443411587583206
              ]
             ],
             "type": "LineString"
            },
            "id": "297",
            "properties": {},
            "type": "Feature"
           },
           {
            "bbox": [
             -83.10097564436741,
             42.3255951629581,
             -83.0996029849992,
             42.3273933384989
            ],
            "geometry": {
             "coordinates": [
              [
               [
                -83.0996029849992,
                42.3255951629581
               ],
               [
                -83.10097564436741,
                42.3273933384989
               ],
               [
                -83.10044814697021,
                42.326777396757706
               ],
               [
                -83.0998439371012,
                42.325932507621204
               ],
               [
                -83.0996029849992,
                42.3255951629581
               ]
              ]
             ],
             "type": "Polygon"
            },
            "id": "298",
            "properties": {},
            "type": "Feature"
           },
           {
            "bbox": [
             -83.0032313088013,
             42.4488615601646,
             -83.0026967905891,
             42.448902050503996
            ],
            "geometry": {
             "coordinates": [
              [
               [
                -83.0032313088013,
                42.4488615601646
               ],
               [
                -83.0026967905891,
                42.448902050503996
               ],
               [
                -83.00269680739609,
                42.448901282258205
               ],
               [
                -83.0032313088013,
                42.4488615601646
               ]
              ]
             ],
             "type": "Polygon"
            },
            "id": "299",
            "properties": {},
            "type": "Feature"
           },
           {
            "bbox": [
             -83.1061142573075,
             42.3055094917113,
             -83.1050125680842,
             42.3059304980481
            ],
            "geometry": {
             "coordinates": [
              [
               [
                -83.1050125680842,
                42.3055094917113
               ],
               [
                -83.1061142573075,
                42.305513426297004
               ],
               [
                -83.10526694216449,
                42.305912154501
               ],
               [
                -83.1051593520728,
                42.3059304980481
               ],
               [
                -83.1050125680842,
                42.3055094917113
               ]
              ]
             ],
             "type": "Polygon"
            },
            "id": "300",
            "properties": {},
            "type": "Feature"
           },
           {
            "bbox": [
             -83.0827174018811,
             42.3125733332168,
             -83.0826769551289,
             42.3138218622029
            ],
            "geometry": {
             "coordinates": [
              [
               -83.0827174018811,
               42.3125733332168
              ],
              [
               -83.0826769551289,
               42.3138218622029
              ]
             ],
             "type": "LineString"
            },
            "id": "301",
            "properties": {},
            "type": "Feature"
           },
           {
            "bbox": [
             -83.23175615584151,
             42.3820047242177,
             -83.23175614935559,
             42.382005080918496
            ],
            "geometry": {
             "coordinates": [
              [
               -83.23175615584151,
               42.3820047242177
              ],
              [
               -83.23175614935559,
               42.382005080918496
              ]
             ],
             "type": "LineString"
            },
            "id": "302",
            "properties": {},
            "type": "Feature"
           },
           {
            "bbox": [
             -83.1321584888024,
             42.3218550492345,
             -83.1309283832917,
             42.3234308080339
            ],
            "geometry": {
             "coordinates": [
              [
               [
                -83.1309283832917,
                42.3218550492345
               ],
               [
                -83.1321584888024,
                42.3234222106969
               ],
               [
                -83.1321213363819,
                42.3234308080339
               ],
               [
                -83.1309283832917,
                42.3218550492345
               ]
              ]
             ],
             "type": "Polygon"
            },
            "id": "303",
            "properties": {},
            "type": "Feature"
           },
           {
            "bbox": [
             -83.1806824684769,
             42.358519234404,
             -83.1796941445109,
             42.3585373082556
            ],
            "geometry": {
             "coordinates": [
              [
               [
                -83.1806824684769,
                42.358519234404
               ],
               [
                -83.1806787657833,
                42.3585193603802
               ],
               [
                -83.1796941445109,
                42.3585373082556
               ],
               [
                -83.1806824684769,
                42.358519234404
               ]
              ]
             ],
             "type": "Polygon"
            },
            "id": "304",
            "properties": {},
            "type": "Feature"
           },
           {
            "bbox": [
             -83.0052453476689,
             42.4474823019554,
             -83.0048662032474,
             42.4488320045621
            ],
            "geometry": {
             "coordinates": [
              [
               [
                -83.0052069618071,
                42.4474823019554
               ],
               [
                -83.0052453476689,
                42.4487791046081
               ],
               [
                -83.00518517984399,
                42.4488191940215
               ],
               [
                -83.0048662032474,
                42.4488320045621
               ],
               [
                -83.0052069618071,
                42.4474823019554
               ]
              ]
             ],
             "type": "Polygon"
            },
            "id": "305",
            "properties": {},
            "type": "Feature"
           },
           {
            "bbox": [
             -83.031771947301,
             42.4153403069566,
             -83.030966789992,
             42.4169643095864
            ],
            "geometry": {
             "coordinates": [
              [
               [
                -83.031771947301,
                42.4153403069566
               ],
               [
                -83.030966789992,
                42.4169643095864
               ],
               [
                -83.0309670173584,
                42.4169536912613
               ],
               [
                -83.0314947428828,
                42.415832421725
               ],
               [
                -83.031771947301,
                42.4153403069566
               ]
              ]
             ],
             "type": "Polygon"
            },
            "id": "306",
            "properties": {},
            "type": "Feature"
           },
           {
            "bbox": [
             -83.0354635109433,
             42.42337526959321,
             -83.03523743462979,
             42.4233807717721
            ],
            "geometry": {
             "coordinates": [
              [
               -83.03523743462979,
               42.4233807717721
              ],
              [
               -83.0354635109433,
               42.42337526959321
              ]
             ],
             "type": "LineString"
            },
            "id": "307",
            "properties": {},
            "type": "Feature"
           },
           {
            "bbox": [
             -83.0571280541159,
             42.3685311224296,
             -83.05514161913321,
             42.3714011564132
            ],
            "geometry": {
             "coordinates": [
              [
               [
                -83.05514161913321,
                42.3685311224296
               ],
               [
                -83.05626004916591,
                42.3693776594527
               ],
               [
                -83.0571280541159,
                42.3714011564132
               ],
               [
                -83.0560898621295,
                42.3699036692727
               ],
               [
                -83.05514161913321,
                42.3685311224296
               ]
              ]
             ],
             "type": "Polygon"
            },
            "id": "308",
            "properties": {},
            "type": "Feature"
           },
           {
            "bbox": [
             -83.0322464405834,
             42.380519644085204,
             -83.0316288038734,
             42.3813593476346
            ],
            "geometry": {
             "coordinates": [
              [
               [
                -83.0322464405834,
                42.380519644085204
               ],
               [
                -83.0320266964702,
                42.3811018206257
               ],
               [
                -83.0316288038734,
                42.3813593476346
               ],
               [
                -83.0318945821883,
                42.380875031015
               ],
               [
                -83.0322464405834,
                42.380519644085204
               ]
              ]
             ],
             "type": "Polygon"
            },
            "id": "309",
            "properties": {},
            "type": "Feature"
           },
           {
            "bbox": [
             -83.102876021732,
             42.4469881775791,
             -83.1028760183951,
             42.446988342206296
            ],
            "geometry": {
             "coordinates": [
              [
               -83.102876021732,
               42.4469881775791
              ],
              [
               -83.1028760183951,
               42.446988342206296
              ]
             ],
             "type": "LineString"
            },
            "id": "310",
            "properties": {},
            "type": "Feature"
           },
           {
            "bbox": [
             -83.2764636935655,
             42.4000743006547,
             -83.2742419794357,
             42.400105653360896
            ],
            "geometry": {
             "coordinates": [
              [
               [
                -83.2764636935655,
                42.4000743006547
               ],
               [
                -83.2752190351615,
                42.400105653360896
               ],
               [
                -83.2742419794357,
                42.400079383211896
               ],
               [
                -83.2764636935655,
                42.4000743006547
               ]
              ]
             ],
             "type": "Polygon"
            },
            "id": "311",
            "properties": {},
            "type": "Feature"
           },
           {
            "bbox": [
             -83.043026470143,
             42.4190633550994,
             -83.0383386859487,
             42.420026645725
            ],
            "geometry": {
             "coordinates": [
              [
               [
                -83.043026470143,
                42.4190633550994
               ],
               [
                -83.0417096148205,
                42.420026645725
               ],
               [
                -83.0383386859487,
                42.419168757750896
               ],
               [
                -83.0383387099045,
                42.4191676328105
               ],
               [
                -83.0390730215195,
                42.4191243453179
               ],
               [
                -83.043026470143,
                42.4190633550994
               ]
              ]
             ],
             "type": "Polygon"
            },
            "id": "312",
            "properties": {},
            "type": "Feature"
           },
           {
            "bbox": [
             -83.16599088180209,
             42.2883549827524,
             -83.16534181948141,
             42.289625206294495
            ],
            "geometry": {
             "coordinates": [
              [
               -83.16599088180209,
               42.2883549827524
              ],
              [
               -83.16534181948141,
               42.289625206294495
              ]
             ],
             "type": "LineString"
            },
            "id": "313",
            "properties": {},
            "type": "Feature"
           },
           {
            "bbox": [
             -83.03758592878,
             42.3974788685349,
             -83.0342819309445,
             42.39757605394979
            ],
            "geometry": {
             "coordinates": [
              [
               [
                -83.03758592878,
                42.3974788685349
               ],
               [
                -83.0360997247831,
                42.3975454202986
               ],
               [
                -83.0349808525118,
                42.39757605394979
               ],
               [
                -83.0342928329991,
                42.3975439712566
               ],
               [
                -83.0342819309445,
                42.3975343201478
               ],
               [
                -83.03758592878,
                42.3974788685349
               ]
              ]
             ],
             "type": "Polygon"
            },
            "id": "314",
            "properties": {},
            "type": "Feature"
           },
           {
            "bbox": [
             -82.96270425984909,
             42.3594590150135,
             -82.9621247260258,
             42.360346120988396
            ],
            "geometry": {
             "coordinates": [
              [
               -82.9621247260258,
               42.3594590150135
              ],
              [
               -82.96270425984909,
               42.360346120988396
              ]
             ],
             "type": "LineString"
            },
            "id": "315",
            "properties": {},
            "type": "Feature"
           },
           {
            "bbox": [
             -83.1568053510277,
             42.333448107470495,
             -83.1568017390562,
             42.3334525918908
            ],
            "geometry": {
             "coordinates": [
              [
               -83.1568053510277,
               42.3334525918908
              ],
              [
               -83.1568017390562,
               42.333448107470495
              ]
             ],
             "type": "LineString"
            },
            "id": "316",
            "properties": {},
            "type": "Feature"
           },
           {
            "bbox": [
             -82.9706611220578,
             42.3596540375968,
             -82.969997752761,
             42.359863185194605
            ],
            "geometry": {
             "coordinates": [
              [
               -82.969997752761,
               42.359863185194605
              ],
              [
               -82.9706611220578,
               42.3596540375968
              ]
             ],
             "type": "LineString"
            },
            "id": "317",
            "properties": {},
            "type": "Feature"
           },
           {
            "bbox": [
             -83.04867846187629,
             42.3628053921279,
             -83.046586310584,
             42.363566430958706
            ],
            "geometry": {
             "coordinates": [
              [
               [
                -83.04867846187629,
                42.3628053921279
               ],
               [
                -83.04774509489671,
                42.3631938674018
               ],
               [
                -83.046586310584,
                42.363566430958706
               ],
               [
                -83.04867846187629,
                42.3628053921279
               ]
              ]
             ],
             "type": "Polygon"
            },
            "id": "318",
            "properties": {},
            "type": "Feature"
           },
           {
            "bbox": [
             -83.2269802488107,
             42.3818340253618,
             -83.2269582153016,
             42.3818439694866
            ],
            "geometry": {
             "coordinates": [
              [
               [
                -83.2269582153016,
                42.3818340253618
               ],
               [
                -83.2269802488107,
                42.3818436870757
               ],
               [
                -83.2269728403433,
                42.3818439694866
               ],
               [
                -83.2269582153016,
                42.3818340253618
               ]
              ]
             ],
             "type": "Polygon"
            },
            "id": "319",
            "properties": {},
            "type": "Feature"
           },
           {
            "bbox": [
             -83.03450510026491,
             42.3855104817544,
             -83.0325164951238,
             42.385549709024794
            ],
            "geometry": {
             "coordinates": [
              [
               [
                -83.0344793924826,
                42.3855104817544
               ],
               [
                -83.03450510026491,
                42.385520141892
               ],
               [
                -83.0336974353875,
                42.3855496079636
               ],
               [
                -83.0325164951238,
                42.385549709024794
               ],
               [
                -83.0344793924826,
                42.3855104817544
               ]
              ]
             ],
             "type": "Polygon"
            },
            "id": "320",
            "properties": {},
            "type": "Feature"
           },
           {
            "bbox": [
             -83.10705561808341,
             42.302009960394294,
             -83.1065731094588,
             42.302649471607296
            ],
            "geometry": {
             "coordinates": [
              [
               -83.10705561808341,
               42.302649471607296
              ],
              [
               -83.1065731094588,
               42.302009960394294
              ]
             ],
             "type": "LineString"
            },
            "id": "321",
            "properties": {},
            "type": "Feature"
           },
           {
            "bbox": [
             -83.1066896127642,
             42.295314562610294,
             -83.105253716819,
             42.296963489739596
            ],
            "geometry": {
             "coordinates": [
              [
               [
                -83.1066896127642,
                42.295314562610294
               ],
               [
                -83.1065935268717,
                42.296963489739596
               ],
               [
                -83.105253716819,
                42.295943947244396
               ],
               [
                -83.1066896127642,
                42.295314562610294
               ]
              ]
             ],
             "type": "Polygon"
            },
            "id": "322",
            "properties": {},
            "type": "Feature"
           },
           {
            "bbox": [
             -83.23669031801579,
             42.3785172193986,
             -83.234088557758,
             42.3813002566685
            ],
            "geometry": {
             "coordinates": [
              [
               [
                -83.234088557758,
                42.3785172193986
               ],
               [
                -83.2365910914413,
                42.3787022583262
               ],
               [
                -83.23669031801579,
                42.381195224125904
               ],
               [
                -83.2366551019622,
                42.3813002566685
               ],
               [
                -83.2341719591227,
                42.3790207063508
               ],
               [
                -83.234088557758,
                42.3785172193986
               ]
              ]
             ],
             "type": "Polygon"
            },
            "id": "323",
            "properties": {},
            "type": "Feature"
           },
           {
            "bbox": [
             -83.0094900059444,
             42.409212626154996,
             -83.00949000415379,
             42.4092127084673
            ],
            "geometry": {
             "coordinates": [
              [
               -83.00949000415379,
               42.4092127084673
              ],
              [
               -83.0094900059444,
               42.409212626154996
              ]
             ],
             "type": "LineString"
            },
            "id": "324",
            "properties": {},
            "type": "Feature"
           },
           {
            "bbox": [
             -83.04277939999692,
             42.35234173609879,
             -83.0407519404353,
             42.354264762522504
            ],
            "geometry": {
             "coordinates": [
              [
               [
                -83.042372475172,
                42.35234173609879
               ],
               [
                -83.04277939999692,
                42.3533925274417
               ],
               [
                -83.04076653166109,
                42.354264762522504
               ],
               [
                -83.0407519404353,
                42.354254904186796
               ],
               [
                -83.042372475172,
                42.35234173609879
               ]
              ]
             ],
             "type": "Polygon"
            },
            "id": "325",
            "properties": {},
            "type": "Feature"
           },
           {
            "bbox": [
             -83.1786392888317,
             42.3879929099331,
             -83.178493211793,
             42.3898619579118
            ],
            "geometry": {
             "coordinates": [
              [
               [
                -83.17851938216991,
                42.3879929099331
               ],
               [
                -83.1785303085022,
                42.3880023551187
               ],
               [
                -83.1786392888317,
                42.3898619579118
               ],
               [
                -83.178493211793,
                42.3880063580006
               ],
               [
                -83.17851938216991,
                42.3879929099331
               ]
              ]
             ],
             "type": "Polygon"
            },
            "id": "326",
            "properties": {},
            "type": "Feature"
           },
           {
            "bbox": [
             -83.1411219030207,
             42.291798757380796,
             -83.1411073137849,
             42.2918092887658
            ],
            "geometry": {
             "coordinates": [
              [
               [
                -83.1411073137849,
                42.291798757380796
               ],
               [
                -83.1411219030207,
                42.291808767441296
               ],
               [
                -83.14112189279899,
                42.2918092887658
               ],
               [
                -83.1411073137849,
                42.291798757380796
               ]
              ]
             ],
             "type": "Polygon"
            },
            "id": "327",
            "properties": {},
            "type": "Feature"
           },
           {
            "bbox": [
             -83.05353072704129,
             42.3764479114581,
             -83.0526729770063,
             42.3775504493185
            ],
            "geometry": {
             "coordinates": [
              [
               [
                -83.0526729770063,
                42.3764479114581
               ],
               [
                -83.05353072704129,
                42.3775504493185
               ],
               [
                -83.05282153446059,
                42.377127588543
               ],
               [
                -83.0526729770063,
                42.3764479114581
               ]
              ]
             ],
             "type": "Polygon"
            },
            "id": "328",
            "properties": {},
            "type": "Feature"
           },
           {
            "bbox": [
             -83.0393012362955,
             42.44460464676521,
             -83.0393012362955,
             42.44460464676521
            ],
            "geometry": {
             "coordinates": [
              -83.0393012362955,
              42.44460464676521
             ],
             "type": "Point"
            },
            "id": "329",
            "properties": {},
            "type": "Feature"
           },
           {
            "bbox": [
             -83.136978400166,
             42.2934927951825,
             -83.13640541430371,
             42.2936822005945
            ],
            "geometry": {
             "coordinates": [
              [
               [
                -83.136978400166,
                42.2934927951825
               ],
               [
                -83.13640541430371,
                42.2936822005945
               ],
               [
                -83.1364054159239,
                42.2936821182801
               ],
               [
                -83.136978400166,
                42.2934927951825
               ]
              ]
             ],
             "type": "Polygon"
            },
            "id": "330",
            "properties": {},
            "type": "Feature"
           },
           {
            "bbox": [
             -83.0362665563737,
             42.419243670369895,
             -83.03559209425491,
             42.4192593457328
            ],
            "geometry": {
             "coordinates": [
              [
               -83.0362665563737,
               42.419243670369895
              ],
              [
               -83.03559209425491,
               42.4192593457328
              ]
             ],
             "type": "LineString"
            },
            "id": "331",
            "properties": {},
            "type": "Feature"
           },
           {
            "bbox": [
             -83.1478933661833,
             42.372319463337895,
             -83.1478577502062,
             42.3736697349007
            ],
            "geometry": {
             "coordinates": [
              [
               [
                -83.1478577502062,
                42.372319463337895
               ],
               [
                -83.1478933661833,
                42.3733387825651
               ],
               [
                -83.147868398458,
                42.3736697349007
               ],
               [
                -83.14786598696591,
                42.373603679006
               ],
               [
                -83.1478577502062,
                42.372319463337895
               ]
              ]
             ],
             "type": "Polygon"
            },
            "id": "332",
            "properties": {},
            "type": "Feature"
           },
           {
            "bbox": [
             -83.1218893382519,
             42.3233767155825,
             -83.11986433401009,
             42.325172597796396
            ],
            "geometry": {
             "coordinates": [
              [
               [
                -83.1218893382519,
                42.3233767155825
               ],
               [
                -83.1209141701339,
                42.325172597796396
               ],
               [
                -83.11986433401009,
                42.323665117658294
               ],
               [
                -83.1218893382519,
                42.3233767155825
               ]
              ]
             ],
             "type": "Polygon"
            },
            "id": "333",
            "properties": {},
            "type": "Feature"
           },
           {
            "bbox": [
             -83.0126607938505,
             42.411924309479396,
             -83.01206055515429,
             42.4125949366607
            ],
            "geometry": {
             "coordinates": [
              [
               [
                -83.01206055515429,
                42.411924309479396
               ],
               [
                -83.0120751595034,
                42.411933979427296
               ],
               [
                -83.0126607938505,
                42.4125949366607
               ],
               [
                -83.01206055515429,
                42.411924309479396
               ]
              ]
             ],
             "type": "Polygon"
            },
            "id": "334",
            "properties": {},
            "type": "Feature"
           },
           {
            "bbox": [
             -83.04435181177558,
             42.3644062133663,
             -83.04435181177558,
             42.3644062133663
            ],
            "geometry": {
             "coordinates": [
              -83.04435181177558,
              42.3644062133663
             ],
             "type": "Point"
            },
            "id": "335",
            "properties": {},
            "type": "Feature"
           },
           {
            "bbox": [
             -83.12579980827441,
             42.2976106795595,
             -83.1245548991803,
             42.2981239757392
            ],
            "geometry": {
             "coordinates": [
              [
               [
                -83.12579980827441,
                42.2976106795595
               ],
               [
                -83.1248156791449,
                42.2980229836455
               ],
               [
                -83.1245548991803,
                42.2981239757392
               ],
               [
                -83.12579980827441,
                42.2976106795595
               ]
              ]
             ],
             "type": "Polygon"
            },
            "id": "336",
            "properties": {},
            "type": "Feature"
           },
           {
            "bbox": [
             -83.27853766364609,
             42.4427261870102,
             -83.27830029543671,
             42.442739529647206
            ],
            "geometry": {
             "coordinates": [
              [
               [
                -83.27853766364609,
                42.4427261870102
               ],
               [
                -83.27830029543671,
                42.442739529647206
               ],
               [
                -83.2783003026206,
                42.4427391180672
               ],
               [
                -83.27853766364609,
                42.4427261870102
               ]
              ]
             ],
             "type": "Polygon"
            },
            "id": "337",
            "properties": {},
            "type": "Feature"
           },
           {
            "bbox": [
             -83.13768110187951,
             42.3211091203103,
             -83.13768108352821,
             42.321110053206205
            ],
            "geometry": {
             "coordinates": [
              [
               -83.13768110187951,
               42.3211091203103
              ],
              [
               -83.13768108352821,
               42.321110053206205
              ]
             ],
             "type": "LineString"
            },
            "id": "338",
            "properties": {},
            "type": "Feature"
           },
           {
            "bbox": [
             -83.0547366665304,
             42.370873123231505,
             -83.05471490116359,
             42.370894122673896
            ],
            "geometry": {
             "coordinates": [
              [
               -83.05471490116359,
               42.370873123231505
              ],
              [
               -83.0547366665304,
               42.370894122673896
              ]
             ],
             "type": "LineString"
            },
            "id": "339",
            "properties": {},
            "type": "Feature"
           },
           {
            "bbox": [
             -83.14374759460529,
             42.2898689955067,
             -83.14263056930791,
             42.2912146828078
            ],
            "geometry": {
             "coordinates": [
              [
               [
                -83.14364012638141,
                42.2898689955067
               ],
               [
                -83.14374759460529,
                42.2907994884901
               ],
               [
                -83.1437475881635,
                42.290799817747796
               ],
               [
                -83.1437475811848,
                42.2908001744437
               ],
               [
                -83.14263056930791,
                42.2912146828078
               ],
               [
                -83.14364012638141,
                42.2898689955067
               ]
              ]
             ],
             "type": "Polygon"
            },
            "id": "340",
            "properties": {},
            "type": "Feature"
           }
          ],
          "type": "FeatureCollection"
         },
         "hovertemplate": "index=%{location}<br>inj/inc=%{z}<extra></extra>",
         "locations": [
          0,
          1,
          2,
          3,
          4,
          5,
          6,
          7,
          8,
          9,
          10,
          11,
          12,
          13,
          14,
          15,
          16,
          17,
          18,
          19,
          20,
          21,
          22,
          23,
          24,
          25,
          26,
          27,
          28,
          29,
          30,
          31,
          32,
          33,
          34,
          35,
          36,
          37,
          38,
          39,
          40,
          41,
          42,
          43,
          44,
          45,
          46,
          47,
          48,
          49,
          50,
          51,
          52,
          53,
          54,
          55,
          56,
          57,
          58,
          59,
          60,
          61,
          62,
          63,
          64,
          65,
          66,
          67,
          68,
          69,
          70,
          71,
          72,
          73,
          74,
          75,
          76,
          77,
          78,
          79,
          80,
          81,
          82,
          83,
          84,
          85,
          86,
          87,
          88,
          89,
          90,
          91,
          92,
          93,
          94,
          95,
          96,
          97,
          98,
          99,
          100,
          101,
          102,
          103,
          104,
          105,
          106,
          107,
          108,
          109,
          110,
          111,
          112,
          113,
          114,
          115,
          116,
          117,
          118,
          119,
          120,
          121,
          122,
          123,
          124,
          125,
          126,
          127,
          128,
          129,
          130,
          131,
          132,
          133,
          134,
          135,
          136,
          137,
          138,
          139,
          140,
          141,
          142,
          143,
          144,
          145,
          146,
          147,
          148,
          149,
          150,
          151,
          152,
          153,
          154,
          155,
          156,
          157,
          158,
          159,
          160,
          161,
          162,
          163,
          164,
          165,
          166,
          167,
          168,
          169,
          170,
          171,
          172,
          173,
          174,
          175,
          176,
          177,
          178,
          179,
          180,
          181,
          182,
          183,
          184,
          185,
          186,
          187,
          188,
          189,
          190,
          191,
          192,
          193,
          194,
          195,
          196,
          197,
          198,
          199,
          200,
          201,
          202,
          203,
          204,
          205,
          206,
          207,
          208,
          209,
          210,
          211,
          212,
          213,
          214,
          215,
          216,
          217,
          218,
          219,
          220,
          221,
          222,
          223,
          224,
          225,
          226,
          227,
          228,
          229,
          230,
          231,
          232,
          233,
          234,
          235,
          236,
          237,
          238,
          239,
          240,
          241,
          242,
          243,
          244,
          245,
          246,
          247,
          248,
          249,
          250,
          251,
          252,
          253,
          254,
          255,
          256,
          257,
          258,
          259,
          260,
          261,
          262,
          263,
          264,
          265,
          266,
          267,
          268,
          269,
          270,
          271,
          272,
          273,
          274,
          275,
          276,
          277,
          278,
          279,
          280,
          281,
          282,
          283,
          284,
          285,
          286,
          287,
          288,
          289,
          290,
          291,
          292,
          293,
          294,
          295,
          296,
          297,
          298,
          299,
          300,
          301,
          302,
          303,
          304,
          305,
          306,
          307,
          308,
          309,
          310,
          311,
          312,
          313,
          314,
          315,
          316,
          317,
          318,
          319,
          320,
          321,
          322,
          323,
          324,
          325,
          326,
          327,
          328,
          329,
          330,
          331,
          332,
          333,
          334,
          335,
          336,
          337,
          338,
          339,
          340
         ],
         "marker": {
          "opacity": 0.6
         },
         "name": "",
         "subplot": "mapbox",
         "type": "choroplethmapbox",
         "z": [
          0.011266511266511266,
          0.007749207467418105,
          0.021164021164021163,
          0.013105952944891837,
          0.009689922480620155,
          0.02112676056338028,
          0.009357811272233731,
          0.012848671205798374,
          0.009433962264150943,
          0.022058823529411766,
          0.011876484560570071,
          0.006224066390041493,
          0,
          0.025157232704402517,
          0,
          0.013039117352056168,
          0,
          0.012178619756427604,
          0,
          0,
          0,
          0.01155115511551155,
          0,
          0.005847953216374269,
          0,
          0.01588271227855834,
          0.017543859649122806,
          0.010917030567685589,
          0.006289308176100629,
          0.014084507042253521,
          0.01639344262295082,
          0.015873015873015872,
          0.008517887563884156,
          0,
          0.01098901098901099,
          0.002881844380403458,
          0,
          0,
          0.023255813953488372,
          0,
          0.017830609212481426,
          0,
          0,
          0,
          0,
          0,
          0,
          0.007633587786259542,
          0,
          0,
          0.003003003003003003,
          0.1111111111111111,
          0.010309278350515464,
          0,
          0.015555555555555555,
          0.023255813953488372,
          0,
          0,
          0,
          0,
          0,
          0,
          0.008771929824561403,
          0.006622516556291391,
          0.041666666666666664,
          0,
          0.006711409395973154,
          0,
          0.005988023952095809,
          0,
          0.014084507042253521,
          0,
          0,
          0.14285714285714285,
          0.0196078431372549,
          0.014084507042253521,
          0,
          0,
          0,
          0.0125,
          0,
          0.08333333333333333,
          0,
          0,
          0.03773584905660377,
          0,
          0.04081632653061224,
          0,
          0,
          0,
          0.013333333333333334,
          0,
          0.0033112582781456954,
          0,
          0,
          0,
          0,
          0,
          0,
          0,
          0,
          0,
          0,
          0.07142857142857142,
          0,
          0,
          0,
          0,
          0,
          0.0273972602739726,
          0,
          0,
          0,
          0,
          0,
          0,
          0,
          0.022727272727272728,
          0,
          0,
          0.02631578947368421,
          0,
          0,
          0,
          0.011363636363636364,
          0,
          0,
          0,
          0,
          0,
          0,
          0.013888888888888888,
          0,
          0.010309278350515464,
          0,
          0,
          0,
          0,
          0.03225806451612903,
          0,
          0,
          0,
          0,
          0,
          0,
          0.05263157894736842,
          0,
          0,
          0,
          0.0273972602739726,
          0.02040816326530612,
          0,
          0,
          0,
          0,
          0.125,
          0,
          0.06666666666666667,
          0,
          0.06896551724137931,
          0,
          0.047619047619047616,
          0,
          0,
          0,
          0.0297029702970297,
          0.03225806451612903,
          0,
          0,
          0,
          0,
          0,
          0,
          0,
          0.05263157894736842,
          0,
          0,
          0,
          0.06666666666666667,
          0.011235955056179775,
          0.047619047619047616,
          0.034482758620689655,
          0,
          0,
          0,
          0.041666666666666664,
          0,
          0,
          0,
          0.09523809523809523,
          0,
          0,
          0,
          0,
          0,
          0,
          0,
          0,
          0,
          0,
          0,
          0,
          0,
          0,
          0,
          0,
          0,
          0.03571428571428571,
          0,
          0.041666666666666664,
          0,
          0,
          0,
          0,
          0,
          0,
          0,
          0,
          0,
          0,
          0,
          0.02127659574468085,
          0,
          0,
          0.05555555555555555,
          0.021739130434782608,
          0,
          0,
          0,
          0,
          0,
          0.06666666666666667,
          0,
          0,
          0,
          0,
          0,
          0,
          0,
          0,
          0,
          0,
          0,
          0,
          0,
          0,
          0,
          0,
          0,
          0,
          0,
          0,
          0,
          0,
          0,
          0,
          0,
          0,
          0,
          0,
          0,
          0.07692307692307693,
          0.14285714285714285,
          0,
          0,
          0,
          0,
          0,
          0,
          0,
          0,
          0,
          0.1,
          0,
          0,
          0,
          0,
          0,
          0,
          0,
          0,
          0,
          0,
          0,
          0.09090909090909091,
          0.06666666666666667,
          0,
          0.06666666666666667,
          0,
          0,
          0.16666666666666666,
          0,
          0,
          0,
          0,
          0,
          0,
          0,
          0,
          0,
          0,
          0,
          0,
          0,
          0,
          0,
          0,
          0,
          0,
          0,
          0,
          0,
          0.14285714285714285,
          0,
          0.0625,
          0,
          0,
          0,
          0,
          0,
          0,
          0,
          0,
          0,
          0,
          0,
          0,
          0,
          0,
          0,
          0,
          0,
          0,
          0,
          0,
          0,
          0,
          0,
          0,
          0,
          0
         ]
        }
       ],
       "layout": {
        "coloraxis": {
         "colorbar": {
          "title": {
           "text": "inj/inc"
          }
         },
         "colorscale": [
          [
           0,
           "white"
          ],
          [
           1,
           "red"
          ]
         ]
        },
        "legend": {
         "tracegroupgap": 0
        },
        "mapbox": {
         "center": {
          "lat": 42.33,
          "lon": -83.05
         },
         "domain": {
          "x": [
           0,
           1
          ],
          "y": [
           0,
           1
          ]
         },
         "style": "open-street-map",
         "zoom": 9
        },
        "margin": {
         "t": 60
        },
        "template": {
         "data": {
          "bar": [
           {
            "error_x": {
             "color": "#2a3f5f"
            },
            "error_y": {
             "color": "#2a3f5f"
            },
            "marker": {
             "line": {
              "color": "#E5ECF6",
              "width": 0.5
             }
            },
            "type": "bar"
           }
          ],
          "barpolar": [
           {
            "marker": {
             "line": {
              "color": "#E5ECF6",
              "width": 0.5
             }
            },
            "type": "barpolar"
           }
          ],
          "carpet": [
           {
            "aaxis": {
             "endlinecolor": "#2a3f5f",
             "gridcolor": "white",
             "linecolor": "white",
             "minorgridcolor": "white",
             "startlinecolor": "#2a3f5f"
            },
            "baxis": {
             "endlinecolor": "#2a3f5f",
             "gridcolor": "white",
             "linecolor": "white",
             "minorgridcolor": "white",
             "startlinecolor": "#2a3f5f"
            },
            "type": "carpet"
           }
          ],
          "choropleth": [
           {
            "colorbar": {
             "outlinewidth": 0,
             "ticks": ""
            },
            "type": "choropleth"
           }
          ],
          "contour": [
           {
            "colorbar": {
             "outlinewidth": 0,
             "ticks": ""
            },
            "colorscale": [
             [
              0,
              "#0d0887"
             ],
             [
              0.1111111111111111,
              "#46039f"
             ],
             [
              0.2222222222222222,
              "#7201a8"
             ],
             [
              0.3333333333333333,
              "#9c179e"
             ],
             [
              0.4444444444444444,
              "#bd3786"
             ],
             [
              0.5555555555555556,
              "#d8576b"
             ],
             [
              0.6666666666666666,
              "#ed7953"
             ],
             [
              0.7777777777777778,
              "#fb9f3a"
             ],
             [
              0.8888888888888888,
              "#fdca26"
             ],
             [
              1,
              "#f0f921"
             ]
            ],
            "type": "contour"
           }
          ],
          "contourcarpet": [
           {
            "colorbar": {
             "outlinewidth": 0,
             "ticks": ""
            },
            "type": "contourcarpet"
           }
          ],
          "heatmap": [
           {
            "colorbar": {
             "outlinewidth": 0,
             "ticks": ""
            },
            "colorscale": [
             [
              0,
              "#0d0887"
             ],
             [
              0.1111111111111111,
              "#46039f"
             ],
             [
              0.2222222222222222,
              "#7201a8"
             ],
             [
              0.3333333333333333,
              "#9c179e"
             ],
             [
              0.4444444444444444,
              "#bd3786"
             ],
             [
              0.5555555555555556,
              "#d8576b"
             ],
             [
              0.6666666666666666,
              "#ed7953"
             ],
             [
              0.7777777777777778,
              "#fb9f3a"
             ],
             [
              0.8888888888888888,
              "#fdca26"
             ],
             [
              1,
              "#f0f921"
             ]
            ],
            "type": "heatmap"
           }
          ],
          "heatmapgl": [
           {
            "colorbar": {
             "outlinewidth": 0,
             "ticks": ""
            },
            "colorscale": [
             [
              0,
              "#0d0887"
             ],
             [
              0.1111111111111111,
              "#46039f"
             ],
             [
              0.2222222222222222,
              "#7201a8"
             ],
             [
              0.3333333333333333,
              "#9c179e"
             ],
             [
              0.4444444444444444,
              "#bd3786"
             ],
             [
              0.5555555555555556,
              "#d8576b"
             ],
             [
              0.6666666666666666,
              "#ed7953"
             ],
             [
              0.7777777777777778,
              "#fb9f3a"
             ],
             [
              0.8888888888888888,
              "#fdca26"
             ],
             [
              1,
              "#f0f921"
             ]
            ],
            "type": "heatmapgl"
           }
          ],
          "histogram": [
           {
            "marker": {
             "colorbar": {
              "outlinewidth": 0,
              "ticks": ""
             }
            },
            "type": "histogram"
           }
          ],
          "histogram2d": [
           {
            "colorbar": {
             "outlinewidth": 0,
             "ticks": ""
            },
            "colorscale": [
             [
              0,
              "#0d0887"
             ],
             [
              0.1111111111111111,
              "#46039f"
             ],
             [
              0.2222222222222222,
              "#7201a8"
             ],
             [
              0.3333333333333333,
              "#9c179e"
             ],
             [
              0.4444444444444444,
              "#bd3786"
             ],
             [
              0.5555555555555556,
              "#d8576b"
             ],
             [
              0.6666666666666666,
              "#ed7953"
             ],
             [
              0.7777777777777778,
              "#fb9f3a"
             ],
             [
              0.8888888888888888,
              "#fdca26"
             ],
             [
              1,
              "#f0f921"
             ]
            ],
            "type": "histogram2d"
           }
          ],
          "histogram2dcontour": [
           {
            "colorbar": {
             "outlinewidth": 0,
             "ticks": ""
            },
            "colorscale": [
             [
              0,
              "#0d0887"
             ],
             [
              0.1111111111111111,
              "#46039f"
             ],
             [
              0.2222222222222222,
              "#7201a8"
             ],
             [
              0.3333333333333333,
              "#9c179e"
             ],
             [
              0.4444444444444444,
              "#bd3786"
             ],
             [
              0.5555555555555556,
              "#d8576b"
             ],
             [
              0.6666666666666666,
              "#ed7953"
             ],
             [
              0.7777777777777778,
              "#fb9f3a"
             ],
             [
              0.8888888888888888,
              "#fdca26"
             ],
             [
              1,
              "#f0f921"
             ]
            ],
            "type": "histogram2dcontour"
           }
          ],
          "mesh3d": [
           {
            "colorbar": {
             "outlinewidth": 0,
             "ticks": ""
            },
            "type": "mesh3d"
           }
          ],
          "parcoords": [
           {
            "line": {
             "colorbar": {
              "outlinewidth": 0,
              "ticks": ""
             }
            },
            "type": "parcoords"
           }
          ],
          "pie": [
           {
            "automargin": true,
            "type": "pie"
           }
          ],
          "scatter": [
           {
            "marker": {
             "colorbar": {
              "outlinewidth": 0,
              "ticks": ""
             }
            },
            "type": "scatter"
           }
          ],
          "scatter3d": [
           {
            "line": {
             "colorbar": {
              "outlinewidth": 0,
              "ticks": ""
             }
            },
            "marker": {
             "colorbar": {
              "outlinewidth": 0,
              "ticks": ""
             }
            },
            "type": "scatter3d"
           }
          ],
          "scattercarpet": [
           {
            "marker": {
             "colorbar": {
              "outlinewidth": 0,
              "ticks": ""
             }
            },
            "type": "scattercarpet"
           }
          ],
          "scattergeo": [
           {
            "marker": {
             "colorbar": {
              "outlinewidth": 0,
              "ticks": ""
             }
            },
            "type": "scattergeo"
           }
          ],
          "scattergl": [
           {
            "marker": {
             "colorbar": {
              "outlinewidth": 0,
              "ticks": ""
             }
            },
            "type": "scattergl"
           }
          ],
          "scattermapbox": [
           {
            "marker": {
             "colorbar": {
              "outlinewidth": 0,
              "ticks": ""
             }
            },
            "type": "scattermapbox"
           }
          ],
          "scatterpolar": [
           {
            "marker": {
             "colorbar": {
              "outlinewidth": 0,
              "ticks": ""
             }
            },
            "type": "scatterpolar"
           }
          ],
          "scatterpolargl": [
           {
            "marker": {
             "colorbar": {
              "outlinewidth": 0,
              "ticks": ""
             }
            },
            "type": "scatterpolargl"
           }
          ],
          "scatterternary": [
           {
            "marker": {
             "colorbar": {
              "outlinewidth": 0,
              "ticks": ""
             }
            },
            "type": "scatterternary"
           }
          ],
          "surface": [
           {
            "colorbar": {
             "outlinewidth": 0,
             "ticks": ""
            },
            "colorscale": [
             [
              0,
              "#0d0887"
             ],
             [
              0.1111111111111111,
              "#46039f"
             ],
             [
              0.2222222222222222,
              "#7201a8"
             ],
             [
              0.3333333333333333,
              "#9c179e"
             ],
             [
              0.4444444444444444,
              "#bd3786"
             ],
             [
              0.5555555555555556,
              "#d8576b"
             ],
             [
              0.6666666666666666,
              "#ed7953"
             ],
             [
              0.7777777777777778,
              "#fb9f3a"
             ],
             [
              0.8888888888888888,
              "#fdca26"
             ],
             [
              1,
              "#f0f921"
             ]
            ],
            "type": "surface"
           }
          ],
          "table": [
           {
            "cells": {
             "fill": {
              "color": "#EBF0F8"
             },
             "line": {
              "color": "white"
             }
            },
            "header": {
             "fill": {
              "color": "#C8D4E3"
             },
             "line": {
              "color": "white"
             }
            },
            "type": "table"
           }
          ]
         },
         "layout": {
          "annotationdefaults": {
           "arrowcolor": "#2a3f5f",
           "arrowhead": 0,
           "arrowwidth": 1
          },
          "autotypenumbers": "strict",
          "coloraxis": {
           "colorbar": {
            "outlinewidth": 0,
            "ticks": ""
           }
          },
          "colorscale": {
           "diverging": [
            [
             0,
             "#8e0152"
            ],
            [
             0.1,
             "#c51b7d"
            ],
            [
             0.2,
             "#de77ae"
            ],
            [
             0.3,
             "#f1b6da"
            ],
            [
             0.4,
             "#fde0ef"
            ],
            [
             0.5,
             "#f7f7f7"
            ],
            [
             0.6,
             "#e6f5d0"
            ],
            [
             0.7,
             "#b8e186"
            ],
            [
             0.8,
             "#7fbc41"
            ],
            [
             0.9,
             "#4d9221"
            ],
            [
             1,
             "#276419"
            ]
           ],
           "sequential": [
            [
             0,
             "#0d0887"
            ],
            [
             0.1111111111111111,
             "#46039f"
            ],
            [
             0.2222222222222222,
             "#7201a8"
            ],
            [
             0.3333333333333333,
             "#9c179e"
            ],
            [
             0.4444444444444444,
             "#bd3786"
            ],
            [
             0.5555555555555556,
             "#d8576b"
            ],
            [
             0.6666666666666666,
             "#ed7953"
            ],
            [
             0.7777777777777778,
             "#fb9f3a"
            ],
            [
             0.8888888888888888,
             "#fdca26"
            ],
            [
             1,
             "#f0f921"
            ]
           ],
           "sequentialminus": [
            [
             0,
             "#0d0887"
            ],
            [
             0.1111111111111111,
             "#46039f"
            ],
            [
             0.2222222222222222,
             "#7201a8"
            ],
            [
             0.3333333333333333,
             "#9c179e"
            ],
            [
             0.4444444444444444,
             "#bd3786"
            ],
            [
             0.5555555555555556,
             "#d8576b"
            ],
            [
             0.6666666666666666,
             "#ed7953"
            ],
            [
             0.7777777777777778,
             "#fb9f3a"
            ],
            [
             0.8888888888888888,
             "#fdca26"
            ],
            [
             1,
             "#f0f921"
            ]
           ]
          },
          "colorway": [
           "#636efa",
           "#EF553B",
           "#00cc96",
           "#ab63fa",
           "#FFA15A",
           "#19d3f3",
           "#FF6692",
           "#B6E880",
           "#FF97FF",
           "#FECB52"
          ],
          "font": {
           "color": "#2a3f5f"
          },
          "geo": {
           "bgcolor": "white",
           "lakecolor": "white",
           "landcolor": "#E5ECF6",
           "showlakes": true,
           "showland": true,
           "subunitcolor": "white"
          },
          "hoverlabel": {
           "align": "left"
          },
          "hovermode": "closest",
          "mapbox": {
           "style": "light"
          },
          "paper_bgcolor": "white",
          "plot_bgcolor": "#E5ECF6",
          "polar": {
           "angularaxis": {
            "gridcolor": "white",
            "linecolor": "white",
            "ticks": ""
           },
           "bgcolor": "#E5ECF6",
           "radialaxis": {
            "gridcolor": "white",
            "linecolor": "white",
            "ticks": ""
           }
          },
          "scene": {
           "xaxis": {
            "backgroundcolor": "#E5ECF6",
            "gridcolor": "white",
            "gridwidth": 2,
            "linecolor": "white",
            "showbackground": true,
            "ticks": "",
            "zerolinecolor": "white"
           },
           "yaxis": {
            "backgroundcolor": "#E5ECF6",
            "gridcolor": "white",
            "gridwidth": 2,
            "linecolor": "white",
            "showbackground": true,
            "ticks": "",
            "zerolinecolor": "white"
           },
           "zaxis": {
            "backgroundcolor": "#E5ECF6",
            "gridcolor": "white",
            "gridwidth": 2,
            "linecolor": "white",
            "showbackground": true,
            "ticks": "",
            "zerolinecolor": "white"
           }
          },
          "shapedefaults": {
           "line": {
            "color": "#2a3f5f"
           }
          },
          "ternary": {
           "aaxis": {
            "gridcolor": "white",
            "linecolor": "white",
            "ticks": ""
           },
           "baxis": {
            "gridcolor": "white",
            "linecolor": "white",
            "ticks": ""
           },
           "bgcolor": "#E5ECF6",
           "caxis": {
            "gridcolor": "white",
            "linecolor": "white",
            "ticks": ""
           }
          },
          "title": {
           "x": 0.05
          },
          "xaxis": {
           "automargin": true,
           "gridcolor": "white",
           "linecolor": "white",
           "ticks": "",
           "title": {
            "standoff": 15
           },
           "zerolinecolor": "white",
           "zerolinewidth": 2
          },
          "yaxis": {
           "automargin": true,
           "gridcolor": "white",
           "linecolor": "white",
           "ticks": "",
           "title": {
            "standoff": 15
           },
           "zerolinecolor": "white",
           "zerolinewidth": 2
          }
         }
        }
       }
      }
     },
     "metadata": {}
    }
   ],
   "metadata": {}
  },
  {
   "cell_type": "code",
   "execution_count": 304,
   "source": [
    "dow_hour_counts = fire_inc.groupby(by=['DoW', 'hour'])['injury_or_fatality'].count().reset_index()\n",
    "dow_hour_counts = dow_hour_counts.pivot(index='DoW', columns='hour', values='injury_or_fatality')\n",
    "px.imshow(dow_hour_counts)"
   ],
   "outputs": [
    {
     "output_type": "display_data",
     "data": {
      "text/html": [
       "<div>                            <div id=\"5b301cc4-3219-43a4-919e-6419faaccef9\" class=\"plotly-graph-div\" style=\"height:525px; width:100%;\"></div>            <script type=\"text/javascript\">                require([\"plotly\"], function(Plotly) {                    window.PLOTLYENV=window.PLOTLYENV || {};                                    if (document.getElementById(\"5b301cc4-3219-43a4-919e-6419faaccef9\")) {                    Plotly.newPlot(                        \"5b301cc4-3219-43a4-919e-6419faaccef9\",                        [{\"coloraxis\": \"coloraxis\", \"hovertemplate\": \"hour: %{x}<br>DoW: %{y}<br>color: %{z}<extra></extra>\", \"name\": \"0\", \"type\": \"heatmap\", \"x\": [0, 1, 2, 3, 4, 5, 6, 7, 8, 9, 10, 11, 12, 13, 14, 15, 16, 17, 18, 19, 20, 21, 22, 23], \"xaxis\": \"x\", \"y\": [0, 1, 2, 3, 4, 5, 6], \"yaxis\": \"y\", \"z\": [[525, 464, 459, 398, 377, 305, 312, 237, 234, 211, 264, 271, 272, 322, 379, 395, 383, 412, 432, 460, 492, 485, 575, 516], [529, 494, 477, 395, 339, 292, 266, 262, 213, 225, 207, 227, 283, 340, 356, 380, 409, 386, 411, 475, 515, 511, 507, 573], [478, 451, 448, 396, 382, 327, 302, 260, 255, 223, 237, 237, 297, 317, 374, 397, 425, 396, 420, 468, 516, 508, 533, 504], [444, 434, 445, 464, 353, 349, 279, 254, 219, 214, 243, 276, 318, 365, 371, 376, 390, 469, 465, 476, 491, 476, 516, 508], [504, 490, 531, 400, 370, 318, 282, 268, 222, 208, 220, 250, 308, 359, 400, 401, 428, 460, 462, 440, 488, 530, 516, 500], [514, 502, 493, 416, 390, 390, 377, 389, 310, 256, 238, 213, 266, 330, 375, 383, 393, 406, 504, 451, 493, 473, 468, 531], [520, 550, 499, 454, 407, 432, 443, 408, 348, 293, 241, 235, 265, 290, 353, 412, 424, 453, 469, 456, 485, 486, 477, 483]]}],                        {\"coloraxis\": {\"colorscale\": [[0.0, \"#0d0887\"], [0.1111111111111111, \"#46039f\"], [0.2222222222222222, \"#7201a8\"], [0.3333333333333333, \"#9c179e\"], [0.4444444444444444, \"#bd3786\"], [0.5555555555555556, \"#d8576b\"], [0.6666666666666666, \"#ed7953\"], [0.7777777777777778, \"#fb9f3a\"], [0.8888888888888888, \"#fdca26\"], [1.0, \"#f0f921\"]]}, \"margin\": {\"t\": 60}, \"template\": {\"data\": {\"bar\": [{\"error_x\": {\"color\": \"#2a3f5f\"}, \"error_y\": {\"color\": \"#2a3f5f\"}, \"marker\": {\"line\": {\"color\": \"#E5ECF6\", \"width\": 0.5}}, \"type\": \"bar\"}], \"barpolar\": [{\"marker\": {\"line\": {\"color\": \"#E5ECF6\", \"width\": 0.5}}, \"type\": \"barpolar\"}], \"carpet\": [{\"aaxis\": {\"endlinecolor\": \"#2a3f5f\", \"gridcolor\": \"white\", \"linecolor\": \"white\", \"minorgridcolor\": \"white\", \"startlinecolor\": \"#2a3f5f\"}, \"baxis\": {\"endlinecolor\": \"#2a3f5f\", \"gridcolor\": \"white\", \"linecolor\": \"white\", \"minorgridcolor\": \"white\", \"startlinecolor\": \"#2a3f5f\"}, \"type\": \"carpet\"}], \"choropleth\": [{\"colorbar\": {\"outlinewidth\": 0, \"ticks\": \"\"}, \"type\": \"choropleth\"}], \"contour\": [{\"colorbar\": {\"outlinewidth\": 0, \"ticks\": \"\"}, \"colorscale\": [[0.0, \"#0d0887\"], [0.1111111111111111, \"#46039f\"], [0.2222222222222222, \"#7201a8\"], [0.3333333333333333, \"#9c179e\"], [0.4444444444444444, \"#bd3786\"], [0.5555555555555556, \"#d8576b\"], [0.6666666666666666, \"#ed7953\"], [0.7777777777777778, \"#fb9f3a\"], [0.8888888888888888, \"#fdca26\"], [1.0, \"#f0f921\"]], \"type\": \"contour\"}], \"contourcarpet\": [{\"colorbar\": {\"outlinewidth\": 0, \"ticks\": \"\"}, \"type\": \"contourcarpet\"}], \"heatmap\": [{\"colorbar\": {\"outlinewidth\": 0, \"ticks\": \"\"}, \"colorscale\": [[0.0, \"#0d0887\"], [0.1111111111111111, \"#46039f\"], [0.2222222222222222, \"#7201a8\"], [0.3333333333333333, \"#9c179e\"], [0.4444444444444444, \"#bd3786\"], [0.5555555555555556, \"#d8576b\"], [0.6666666666666666, \"#ed7953\"], [0.7777777777777778, \"#fb9f3a\"], [0.8888888888888888, \"#fdca26\"], [1.0, \"#f0f921\"]], \"type\": \"heatmap\"}], \"heatmapgl\": [{\"colorbar\": {\"outlinewidth\": 0, \"ticks\": \"\"}, \"colorscale\": [[0.0, \"#0d0887\"], [0.1111111111111111, \"#46039f\"], [0.2222222222222222, \"#7201a8\"], [0.3333333333333333, \"#9c179e\"], [0.4444444444444444, \"#bd3786\"], [0.5555555555555556, \"#d8576b\"], [0.6666666666666666, \"#ed7953\"], [0.7777777777777778, \"#fb9f3a\"], [0.8888888888888888, \"#fdca26\"], [1.0, \"#f0f921\"]], \"type\": \"heatmapgl\"}], \"histogram\": [{\"marker\": {\"colorbar\": {\"outlinewidth\": 0, \"ticks\": \"\"}}, \"type\": \"histogram\"}], \"histogram2d\": [{\"colorbar\": {\"outlinewidth\": 0, \"ticks\": \"\"}, \"colorscale\": [[0.0, \"#0d0887\"], [0.1111111111111111, \"#46039f\"], [0.2222222222222222, \"#7201a8\"], [0.3333333333333333, \"#9c179e\"], [0.4444444444444444, \"#bd3786\"], [0.5555555555555556, \"#d8576b\"], [0.6666666666666666, \"#ed7953\"], [0.7777777777777778, \"#fb9f3a\"], [0.8888888888888888, \"#fdca26\"], [1.0, \"#f0f921\"]], \"type\": \"histogram2d\"}], \"histogram2dcontour\": [{\"colorbar\": {\"outlinewidth\": 0, \"ticks\": \"\"}, \"colorscale\": [[0.0, \"#0d0887\"], [0.1111111111111111, \"#46039f\"], [0.2222222222222222, \"#7201a8\"], [0.3333333333333333, \"#9c179e\"], [0.4444444444444444, \"#bd3786\"], [0.5555555555555556, \"#d8576b\"], [0.6666666666666666, \"#ed7953\"], [0.7777777777777778, \"#fb9f3a\"], [0.8888888888888888, \"#fdca26\"], [1.0, \"#f0f921\"]], \"type\": \"histogram2dcontour\"}], \"mesh3d\": [{\"colorbar\": {\"outlinewidth\": 0, \"ticks\": \"\"}, \"type\": \"mesh3d\"}], \"parcoords\": [{\"line\": {\"colorbar\": {\"outlinewidth\": 0, \"ticks\": \"\"}}, \"type\": \"parcoords\"}], \"pie\": [{\"automargin\": true, \"type\": \"pie\"}], \"scatter\": [{\"marker\": {\"colorbar\": {\"outlinewidth\": 0, \"ticks\": \"\"}}, \"type\": \"scatter\"}], \"scatter3d\": [{\"line\": {\"colorbar\": {\"outlinewidth\": 0, \"ticks\": \"\"}}, \"marker\": {\"colorbar\": {\"outlinewidth\": 0, \"ticks\": \"\"}}, \"type\": \"scatter3d\"}], \"scattercarpet\": [{\"marker\": {\"colorbar\": {\"outlinewidth\": 0, \"ticks\": \"\"}}, \"type\": \"scattercarpet\"}], \"scattergeo\": [{\"marker\": {\"colorbar\": {\"outlinewidth\": 0, \"ticks\": \"\"}}, \"type\": \"scattergeo\"}], \"scattergl\": [{\"marker\": {\"colorbar\": {\"outlinewidth\": 0, \"ticks\": \"\"}}, \"type\": \"scattergl\"}], \"scattermapbox\": [{\"marker\": {\"colorbar\": {\"outlinewidth\": 0, \"ticks\": \"\"}}, \"type\": \"scattermapbox\"}], \"scatterpolar\": [{\"marker\": {\"colorbar\": {\"outlinewidth\": 0, \"ticks\": \"\"}}, \"type\": \"scatterpolar\"}], \"scatterpolargl\": [{\"marker\": {\"colorbar\": {\"outlinewidth\": 0, \"ticks\": \"\"}}, \"type\": \"scatterpolargl\"}], \"scatterternary\": [{\"marker\": {\"colorbar\": {\"outlinewidth\": 0, \"ticks\": \"\"}}, \"type\": \"scatterternary\"}], \"surface\": [{\"colorbar\": {\"outlinewidth\": 0, \"ticks\": \"\"}, \"colorscale\": [[0.0, \"#0d0887\"], [0.1111111111111111, \"#46039f\"], [0.2222222222222222, \"#7201a8\"], [0.3333333333333333, \"#9c179e\"], [0.4444444444444444, \"#bd3786\"], [0.5555555555555556, \"#d8576b\"], [0.6666666666666666, \"#ed7953\"], [0.7777777777777778, \"#fb9f3a\"], [0.8888888888888888, \"#fdca26\"], [1.0, \"#f0f921\"]], \"type\": \"surface\"}], \"table\": [{\"cells\": {\"fill\": {\"color\": \"#EBF0F8\"}, \"line\": {\"color\": \"white\"}}, \"header\": {\"fill\": {\"color\": \"#C8D4E3\"}, \"line\": {\"color\": \"white\"}}, \"type\": \"table\"}]}, \"layout\": {\"annotationdefaults\": {\"arrowcolor\": \"#2a3f5f\", \"arrowhead\": 0, \"arrowwidth\": 1}, \"autotypenumbers\": \"strict\", \"coloraxis\": {\"colorbar\": {\"outlinewidth\": 0, \"ticks\": \"\"}}, \"colorscale\": {\"diverging\": [[0, \"#8e0152\"], [0.1, \"#c51b7d\"], [0.2, \"#de77ae\"], [0.3, \"#f1b6da\"], [0.4, \"#fde0ef\"], [0.5, \"#f7f7f7\"], [0.6, \"#e6f5d0\"], [0.7, \"#b8e186\"], [0.8, \"#7fbc41\"], [0.9, \"#4d9221\"], [1, \"#276419\"]], \"sequential\": [[0.0, \"#0d0887\"], [0.1111111111111111, \"#46039f\"], [0.2222222222222222, \"#7201a8\"], [0.3333333333333333, \"#9c179e\"], [0.4444444444444444, \"#bd3786\"], [0.5555555555555556, \"#d8576b\"], [0.6666666666666666, \"#ed7953\"], [0.7777777777777778, \"#fb9f3a\"], [0.8888888888888888, \"#fdca26\"], [1.0, \"#f0f921\"]], \"sequentialminus\": [[0.0, \"#0d0887\"], [0.1111111111111111, \"#46039f\"], [0.2222222222222222, \"#7201a8\"], [0.3333333333333333, \"#9c179e\"], [0.4444444444444444, \"#bd3786\"], [0.5555555555555556, \"#d8576b\"], [0.6666666666666666, \"#ed7953\"], [0.7777777777777778, \"#fb9f3a\"], [0.8888888888888888, \"#fdca26\"], [1.0, \"#f0f921\"]]}, \"colorway\": [\"#636efa\", \"#EF553B\", \"#00cc96\", \"#ab63fa\", \"#FFA15A\", \"#19d3f3\", \"#FF6692\", \"#B6E880\", \"#FF97FF\", \"#FECB52\"], \"font\": {\"color\": \"#2a3f5f\"}, \"geo\": {\"bgcolor\": \"white\", \"lakecolor\": \"white\", \"landcolor\": \"#E5ECF6\", \"showlakes\": true, \"showland\": true, \"subunitcolor\": \"white\"}, \"hoverlabel\": {\"align\": \"left\"}, \"hovermode\": \"closest\", \"mapbox\": {\"style\": \"light\"}, \"paper_bgcolor\": \"white\", \"plot_bgcolor\": \"#E5ECF6\", \"polar\": {\"angularaxis\": {\"gridcolor\": \"white\", \"linecolor\": \"white\", \"ticks\": \"\"}, \"bgcolor\": \"#E5ECF6\", \"radialaxis\": {\"gridcolor\": \"white\", \"linecolor\": \"white\", \"ticks\": \"\"}}, \"scene\": {\"xaxis\": {\"backgroundcolor\": \"#E5ECF6\", \"gridcolor\": \"white\", \"gridwidth\": 2, \"linecolor\": \"white\", \"showbackground\": true, \"ticks\": \"\", \"zerolinecolor\": \"white\"}, \"yaxis\": {\"backgroundcolor\": \"#E5ECF6\", \"gridcolor\": \"white\", \"gridwidth\": 2, \"linecolor\": \"white\", \"showbackground\": true, \"ticks\": \"\", \"zerolinecolor\": \"white\"}, \"zaxis\": {\"backgroundcolor\": \"#E5ECF6\", \"gridcolor\": \"white\", \"gridwidth\": 2, \"linecolor\": \"white\", \"showbackground\": true, \"ticks\": \"\", \"zerolinecolor\": \"white\"}}, \"shapedefaults\": {\"line\": {\"color\": \"#2a3f5f\"}}, \"ternary\": {\"aaxis\": {\"gridcolor\": \"white\", \"linecolor\": \"white\", \"ticks\": \"\"}, \"baxis\": {\"gridcolor\": \"white\", \"linecolor\": \"white\", \"ticks\": \"\"}, \"bgcolor\": \"#E5ECF6\", \"caxis\": {\"gridcolor\": \"white\", \"linecolor\": \"white\", \"ticks\": \"\"}}, \"title\": {\"x\": 0.05}, \"xaxis\": {\"automargin\": true, \"gridcolor\": \"white\", \"linecolor\": \"white\", \"ticks\": \"\", \"title\": {\"standoff\": 15}, \"zerolinecolor\": \"white\", \"zerolinewidth\": 2}, \"yaxis\": {\"automargin\": true, \"gridcolor\": \"white\", \"linecolor\": \"white\", \"ticks\": \"\", \"title\": {\"standoff\": 15}, \"zerolinecolor\": \"white\", \"zerolinewidth\": 2}}}, \"xaxis\": {\"anchor\": \"y\", \"constrain\": \"domain\", \"domain\": [0.0, 1.0], \"scaleanchor\": \"y\", \"title\": {\"text\": \"hour\"}}, \"yaxis\": {\"anchor\": \"x\", \"autorange\": \"reversed\", \"constrain\": \"domain\", \"domain\": [0.0, 1.0], \"title\": {\"text\": \"DoW\"}}},                        {\"responsive\": true}                    ).then(function(){\n",
       "                            \n",
       "var gd = document.getElementById('5b301cc4-3219-43a4-919e-6419faaccef9');\n",
       "var x = new MutationObserver(function (mutations, observer) {{\n",
       "        var display = window.getComputedStyle(gd).display;\n",
       "        if (!display || display === 'none') {{\n",
       "            console.log([gd, 'removed!']);\n",
       "            Plotly.purge(gd);\n",
       "            observer.disconnect();\n",
       "        }}\n",
       "}});\n",
       "\n",
       "// Listen for the removal of the full notebook cells\n",
       "var notebookContainer = gd.closest('#notebook-container');\n",
       "if (notebookContainer) {{\n",
       "    x.observe(notebookContainer, {childList: true});\n",
       "}}\n",
       "\n",
       "// Listen for the clearing of the current output cell\n",
       "var outputEl = gd.closest('.output');\n",
       "if (outputEl) {{\n",
       "    x.observe(outputEl, {childList: true});\n",
       "}}\n",
       "\n",
       "                        })                };                });            </script>        </div>"
      ],
      "application/vnd.plotly.v1+json": {
       "config": {
        "plotlyServerURL": "https://plot.ly"
       },
       "data": [
        {
         "coloraxis": "coloraxis",
         "hovertemplate": "hour: %{x}<br>DoW: %{y}<br>color: %{z}<extra></extra>",
         "name": "0",
         "type": "heatmap",
         "x": [
          0,
          1,
          2,
          3,
          4,
          5,
          6,
          7,
          8,
          9,
          10,
          11,
          12,
          13,
          14,
          15,
          16,
          17,
          18,
          19,
          20,
          21,
          22,
          23
         ],
         "xaxis": "x",
         "y": [
          0,
          1,
          2,
          3,
          4,
          5,
          6
         ],
         "yaxis": "y",
         "z": [
          [
           525,
           464,
           459,
           398,
           377,
           305,
           312,
           237,
           234,
           211,
           264,
           271,
           272,
           322,
           379,
           395,
           383,
           412,
           432,
           460,
           492,
           485,
           575,
           516
          ],
          [
           529,
           494,
           477,
           395,
           339,
           292,
           266,
           262,
           213,
           225,
           207,
           227,
           283,
           340,
           356,
           380,
           409,
           386,
           411,
           475,
           515,
           511,
           507,
           573
          ],
          [
           478,
           451,
           448,
           396,
           382,
           327,
           302,
           260,
           255,
           223,
           237,
           237,
           297,
           317,
           374,
           397,
           425,
           396,
           420,
           468,
           516,
           508,
           533,
           504
          ],
          [
           444,
           434,
           445,
           464,
           353,
           349,
           279,
           254,
           219,
           214,
           243,
           276,
           318,
           365,
           371,
           376,
           390,
           469,
           465,
           476,
           491,
           476,
           516,
           508
          ],
          [
           504,
           490,
           531,
           400,
           370,
           318,
           282,
           268,
           222,
           208,
           220,
           250,
           308,
           359,
           400,
           401,
           428,
           460,
           462,
           440,
           488,
           530,
           516,
           500
          ],
          [
           514,
           502,
           493,
           416,
           390,
           390,
           377,
           389,
           310,
           256,
           238,
           213,
           266,
           330,
           375,
           383,
           393,
           406,
           504,
           451,
           493,
           473,
           468,
           531
          ],
          [
           520,
           550,
           499,
           454,
           407,
           432,
           443,
           408,
           348,
           293,
           241,
           235,
           265,
           290,
           353,
           412,
           424,
           453,
           469,
           456,
           485,
           486,
           477,
           483
          ]
         ]
        }
       ],
       "layout": {
        "coloraxis": {
         "colorscale": [
          [
           0,
           "#0d0887"
          ],
          [
           0.1111111111111111,
           "#46039f"
          ],
          [
           0.2222222222222222,
           "#7201a8"
          ],
          [
           0.3333333333333333,
           "#9c179e"
          ],
          [
           0.4444444444444444,
           "#bd3786"
          ],
          [
           0.5555555555555556,
           "#d8576b"
          ],
          [
           0.6666666666666666,
           "#ed7953"
          ],
          [
           0.7777777777777778,
           "#fb9f3a"
          ],
          [
           0.8888888888888888,
           "#fdca26"
          ],
          [
           1,
           "#f0f921"
          ]
         ]
        },
        "margin": {
         "t": 60
        },
        "template": {
         "data": {
          "bar": [
           {
            "error_x": {
             "color": "#2a3f5f"
            },
            "error_y": {
             "color": "#2a3f5f"
            },
            "marker": {
             "line": {
              "color": "#E5ECF6",
              "width": 0.5
             }
            },
            "type": "bar"
           }
          ],
          "barpolar": [
           {
            "marker": {
             "line": {
              "color": "#E5ECF6",
              "width": 0.5
             }
            },
            "type": "barpolar"
           }
          ],
          "carpet": [
           {
            "aaxis": {
             "endlinecolor": "#2a3f5f",
             "gridcolor": "white",
             "linecolor": "white",
             "minorgridcolor": "white",
             "startlinecolor": "#2a3f5f"
            },
            "baxis": {
             "endlinecolor": "#2a3f5f",
             "gridcolor": "white",
             "linecolor": "white",
             "minorgridcolor": "white",
             "startlinecolor": "#2a3f5f"
            },
            "type": "carpet"
           }
          ],
          "choropleth": [
           {
            "colorbar": {
             "outlinewidth": 0,
             "ticks": ""
            },
            "type": "choropleth"
           }
          ],
          "contour": [
           {
            "colorbar": {
             "outlinewidth": 0,
             "ticks": ""
            },
            "colorscale": [
             [
              0,
              "#0d0887"
             ],
             [
              0.1111111111111111,
              "#46039f"
             ],
             [
              0.2222222222222222,
              "#7201a8"
             ],
             [
              0.3333333333333333,
              "#9c179e"
             ],
             [
              0.4444444444444444,
              "#bd3786"
             ],
             [
              0.5555555555555556,
              "#d8576b"
             ],
             [
              0.6666666666666666,
              "#ed7953"
             ],
             [
              0.7777777777777778,
              "#fb9f3a"
             ],
             [
              0.8888888888888888,
              "#fdca26"
             ],
             [
              1,
              "#f0f921"
             ]
            ],
            "type": "contour"
           }
          ],
          "contourcarpet": [
           {
            "colorbar": {
             "outlinewidth": 0,
             "ticks": ""
            },
            "type": "contourcarpet"
           }
          ],
          "heatmap": [
           {
            "colorbar": {
             "outlinewidth": 0,
             "ticks": ""
            },
            "colorscale": [
             [
              0,
              "#0d0887"
             ],
             [
              0.1111111111111111,
              "#46039f"
             ],
             [
              0.2222222222222222,
              "#7201a8"
             ],
             [
              0.3333333333333333,
              "#9c179e"
             ],
             [
              0.4444444444444444,
              "#bd3786"
             ],
             [
              0.5555555555555556,
              "#d8576b"
             ],
             [
              0.6666666666666666,
              "#ed7953"
             ],
             [
              0.7777777777777778,
              "#fb9f3a"
             ],
             [
              0.8888888888888888,
              "#fdca26"
             ],
             [
              1,
              "#f0f921"
             ]
            ],
            "type": "heatmap"
           }
          ],
          "heatmapgl": [
           {
            "colorbar": {
             "outlinewidth": 0,
             "ticks": ""
            },
            "colorscale": [
             [
              0,
              "#0d0887"
             ],
             [
              0.1111111111111111,
              "#46039f"
             ],
             [
              0.2222222222222222,
              "#7201a8"
             ],
             [
              0.3333333333333333,
              "#9c179e"
             ],
             [
              0.4444444444444444,
              "#bd3786"
             ],
             [
              0.5555555555555556,
              "#d8576b"
             ],
             [
              0.6666666666666666,
              "#ed7953"
             ],
             [
              0.7777777777777778,
              "#fb9f3a"
             ],
             [
              0.8888888888888888,
              "#fdca26"
             ],
             [
              1,
              "#f0f921"
             ]
            ],
            "type": "heatmapgl"
           }
          ],
          "histogram": [
           {
            "marker": {
             "colorbar": {
              "outlinewidth": 0,
              "ticks": ""
             }
            },
            "type": "histogram"
           }
          ],
          "histogram2d": [
           {
            "colorbar": {
             "outlinewidth": 0,
             "ticks": ""
            },
            "colorscale": [
             [
              0,
              "#0d0887"
             ],
             [
              0.1111111111111111,
              "#46039f"
             ],
             [
              0.2222222222222222,
              "#7201a8"
             ],
             [
              0.3333333333333333,
              "#9c179e"
             ],
             [
              0.4444444444444444,
              "#bd3786"
             ],
             [
              0.5555555555555556,
              "#d8576b"
             ],
             [
              0.6666666666666666,
              "#ed7953"
             ],
             [
              0.7777777777777778,
              "#fb9f3a"
             ],
             [
              0.8888888888888888,
              "#fdca26"
             ],
             [
              1,
              "#f0f921"
             ]
            ],
            "type": "histogram2d"
           }
          ],
          "histogram2dcontour": [
           {
            "colorbar": {
             "outlinewidth": 0,
             "ticks": ""
            },
            "colorscale": [
             [
              0,
              "#0d0887"
             ],
             [
              0.1111111111111111,
              "#46039f"
             ],
             [
              0.2222222222222222,
              "#7201a8"
             ],
             [
              0.3333333333333333,
              "#9c179e"
             ],
             [
              0.4444444444444444,
              "#bd3786"
             ],
             [
              0.5555555555555556,
              "#d8576b"
             ],
             [
              0.6666666666666666,
              "#ed7953"
             ],
             [
              0.7777777777777778,
              "#fb9f3a"
             ],
             [
              0.8888888888888888,
              "#fdca26"
             ],
             [
              1,
              "#f0f921"
             ]
            ],
            "type": "histogram2dcontour"
           }
          ],
          "mesh3d": [
           {
            "colorbar": {
             "outlinewidth": 0,
             "ticks": ""
            },
            "type": "mesh3d"
           }
          ],
          "parcoords": [
           {
            "line": {
             "colorbar": {
              "outlinewidth": 0,
              "ticks": ""
             }
            },
            "type": "parcoords"
           }
          ],
          "pie": [
           {
            "automargin": true,
            "type": "pie"
           }
          ],
          "scatter": [
           {
            "marker": {
             "colorbar": {
              "outlinewidth": 0,
              "ticks": ""
             }
            },
            "type": "scatter"
           }
          ],
          "scatter3d": [
           {
            "line": {
             "colorbar": {
              "outlinewidth": 0,
              "ticks": ""
             }
            },
            "marker": {
             "colorbar": {
              "outlinewidth": 0,
              "ticks": ""
             }
            },
            "type": "scatter3d"
           }
          ],
          "scattercarpet": [
           {
            "marker": {
             "colorbar": {
              "outlinewidth": 0,
              "ticks": ""
             }
            },
            "type": "scattercarpet"
           }
          ],
          "scattergeo": [
           {
            "marker": {
             "colorbar": {
              "outlinewidth": 0,
              "ticks": ""
             }
            },
            "type": "scattergeo"
           }
          ],
          "scattergl": [
           {
            "marker": {
             "colorbar": {
              "outlinewidth": 0,
              "ticks": ""
             }
            },
            "type": "scattergl"
           }
          ],
          "scattermapbox": [
           {
            "marker": {
             "colorbar": {
              "outlinewidth": 0,
              "ticks": ""
             }
            },
            "type": "scattermapbox"
           }
          ],
          "scatterpolar": [
           {
            "marker": {
             "colorbar": {
              "outlinewidth": 0,
              "ticks": ""
             }
            },
            "type": "scatterpolar"
           }
          ],
          "scatterpolargl": [
           {
            "marker": {
             "colorbar": {
              "outlinewidth": 0,
              "ticks": ""
             }
            },
            "type": "scatterpolargl"
           }
          ],
          "scatterternary": [
           {
            "marker": {
             "colorbar": {
              "outlinewidth": 0,
              "ticks": ""
             }
            },
            "type": "scatterternary"
           }
          ],
          "surface": [
           {
            "colorbar": {
             "outlinewidth": 0,
             "ticks": ""
            },
            "colorscale": [
             [
              0,
              "#0d0887"
             ],
             [
              0.1111111111111111,
              "#46039f"
             ],
             [
              0.2222222222222222,
              "#7201a8"
             ],
             [
              0.3333333333333333,
              "#9c179e"
             ],
             [
              0.4444444444444444,
              "#bd3786"
             ],
             [
              0.5555555555555556,
              "#d8576b"
             ],
             [
              0.6666666666666666,
              "#ed7953"
             ],
             [
              0.7777777777777778,
              "#fb9f3a"
             ],
             [
              0.8888888888888888,
              "#fdca26"
             ],
             [
              1,
              "#f0f921"
             ]
            ],
            "type": "surface"
           }
          ],
          "table": [
           {
            "cells": {
             "fill": {
              "color": "#EBF0F8"
             },
             "line": {
              "color": "white"
             }
            },
            "header": {
             "fill": {
              "color": "#C8D4E3"
             },
             "line": {
              "color": "white"
             }
            },
            "type": "table"
           }
          ]
         },
         "layout": {
          "annotationdefaults": {
           "arrowcolor": "#2a3f5f",
           "arrowhead": 0,
           "arrowwidth": 1
          },
          "autotypenumbers": "strict",
          "coloraxis": {
           "colorbar": {
            "outlinewidth": 0,
            "ticks": ""
           }
          },
          "colorscale": {
           "diverging": [
            [
             0,
             "#8e0152"
            ],
            [
             0.1,
             "#c51b7d"
            ],
            [
             0.2,
             "#de77ae"
            ],
            [
             0.3,
             "#f1b6da"
            ],
            [
             0.4,
             "#fde0ef"
            ],
            [
             0.5,
             "#f7f7f7"
            ],
            [
             0.6,
             "#e6f5d0"
            ],
            [
             0.7,
             "#b8e186"
            ],
            [
             0.8,
             "#7fbc41"
            ],
            [
             0.9,
             "#4d9221"
            ],
            [
             1,
             "#276419"
            ]
           ],
           "sequential": [
            [
             0,
             "#0d0887"
            ],
            [
             0.1111111111111111,
             "#46039f"
            ],
            [
             0.2222222222222222,
             "#7201a8"
            ],
            [
             0.3333333333333333,
             "#9c179e"
            ],
            [
             0.4444444444444444,
             "#bd3786"
            ],
            [
             0.5555555555555556,
             "#d8576b"
            ],
            [
             0.6666666666666666,
             "#ed7953"
            ],
            [
             0.7777777777777778,
             "#fb9f3a"
            ],
            [
             0.8888888888888888,
             "#fdca26"
            ],
            [
             1,
             "#f0f921"
            ]
           ],
           "sequentialminus": [
            [
             0,
             "#0d0887"
            ],
            [
             0.1111111111111111,
             "#46039f"
            ],
            [
             0.2222222222222222,
             "#7201a8"
            ],
            [
             0.3333333333333333,
             "#9c179e"
            ],
            [
             0.4444444444444444,
             "#bd3786"
            ],
            [
             0.5555555555555556,
             "#d8576b"
            ],
            [
             0.6666666666666666,
             "#ed7953"
            ],
            [
             0.7777777777777778,
             "#fb9f3a"
            ],
            [
             0.8888888888888888,
             "#fdca26"
            ],
            [
             1,
             "#f0f921"
            ]
           ]
          },
          "colorway": [
           "#636efa",
           "#EF553B",
           "#00cc96",
           "#ab63fa",
           "#FFA15A",
           "#19d3f3",
           "#FF6692",
           "#B6E880",
           "#FF97FF",
           "#FECB52"
          ],
          "font": {
           "color": "#2a3f5f"
          },
          "geo": {
           "bgcolor": "white",
           "lakecolor": "white",
           "landcolor": "#E5ECF6",
           "showlakes": true,
           "showland": true,
           "subunitcolor": "white"
          },
          "hoverlabel": {
           "align": "left"
          },
          "hovermode": "closest",
          "mapbox": {
           "style": "light"
          },
          "paper_bgcolor": "white",
          "plot_bgcolor": "#E5ECF6",
          "polar": {
           "angularaxis": {
            "gridcolor": "white",
            "linecolor": "white",
            "ticks": ""
           },
           "bgcolor": "#E5ECF6",
           "radialaxis": {
            "gridcolor": "white",
            "linecolor": "white",
            "ticks": ""
           }
          },
          "scene": {
           "xaxis": {
            "backgroundcolor": "#E5ECF6",
            "gridcolor": "white",
            "gridwidth": 2,
            "linecolor": "white",
            "showbackground": true,
            "ticks": "",
            "zerolinecolor": "white"
           },
           "yaxis": {
            "backgroundcolor": "#E5ECF6",
            "gridcolor": "white",
            "gridwidth": 2,
            "linecolor": "white",
            "showbackground": true,
            "ticks": "",
            "zerolinecolor": "white"
           },
           "zaxis": {
            "backgroundcolor": "#E5ECF6",
            "gridcolor": "white",
            "gridwidth": 2,
            "linecolor": "white",
            "showbackground": true,
            "ticks": "",
            "zerolinecolor": "white"
           }
          },
          "shapedefaults": {
           "line": {
            "color": "#2a3f5f"
           }
          },
          "ternary": {
           "aaxis": {
            "gridcolor": "white",
            "linecolor": "white",
            "ticks": ""
           },
           "baxis": {
            "gridcolor": "white",
            "linecolor": "white",
            "ticks": ""
           },
           "bgcolor": "#E5ECF6",
           "caxis": {
            "gridcolor": "white",
            "linecolor": "white",
            "ticks": ""
           }
          },
          "title": {
           "x": 0.05
          },
          "xaxis": {
           "automargin": true,
           "gridcolor": "white",
           "linecolor": "white",
           "ticks": "",
           "title": {
            "standoff": 15
           },
           "zerolinecolor": "white",
           "zerolinewidth": 2
          },
          "yaxis": {
           "automargin": true,
           "gridcolor": "white",
           "linecolor": "white",
           "ticks": "",
           "title": {
            "standoff": 15
           },
           "zerolinecolor": "white",
           "zerolinewidth": 2
          }
         }
        },
        "xaxis": {
         "anchor": "y",
         "constrain": "domain",
         "domain": [
          0,
          1
         ],
         "scaleanchor": "y",
         "title": {
          "text": "hour"
         }
        },
        "yaxis": {
         "anchor": "x",
         "autorange": "reversed",
         "constrain": "domain",
         "domain": [
          0,
          1
         ],
         "title": {
          "text": "DoW"
         }
        }
       }
      }
     },
     "metadata": {}
    }
   ],
   "metadata": {}
  },
  {
   "cell_type": "code",
   "execution_count": 79,
   "source": [
    "fire_inc.head()"
   ],
   "outputs": [
    {
     "output_type": "execute_result",
     "data": {
      "text/plain": [
       "    injury_or_fatality             call_datetime          x          y  hour  \\\n",
       "6                    0 2017-01-04 00:10:07+00:00 -83.088720  42.426064     0   \n",
       "7                    1 2017-01-10 09:23:12+00:00 -83.082236  42.418395     9   \n",
       "8                    0 2017-01-14 08:03:22+00:00 -83.099447  42.443401     8   \n",
       "9                    0 2017-03-02 16:32:33+00:00 -83.135443  42.380273    16   \n",
       "10                   0 2017-03-06 20:32:38+00:00 -83.045696  42.407905    20   \n",
       "\n",
       "    day  DoY  DoW  week  month  ...      DoYx      DoYy      DoWx      DoWy  \\\n",
       "6     4    4    2     1      1  ...  0.068802  0.997630  0.974928 -0.222521   \n",
       "7    10   10    1     2      1  ...  0.171293  0.985220  0.781831  0.623490   \n",
       "8    14   14    5     2      1  ...  0.238673  0.971100 -0.974928 -0.222521   \n",
       "9     2   61    3     9      3  ...  0.867456  0.497513  0.433884 -0.900969   \n",
       "10    6   65    0    10      3  ...  0.899631  0.436651  0.000000  1.000000   \n",
       "\n",
       "       weekx     weeky  monthx        monthy  closest_stn  closest_light  \n",
       "6   0.118273  0.992981     0.5  8.660254e-01     0.015584       0.015269  \n",
       "7   0.234886  0.972023     0.5  8.660254e-01     0.022253       0.016398  \n",
       "8   0.234886  0.972023     0.5  8.660254e-01     0.011979       0.020578  \n",
       "9   0.875735  0.482792     1.0  6.123234e-17     0.013263       0.011673  \n",
       "10  0.926690  0.375828     1.0  6.123234e-17     0.016332       0.035715  \n",
       "\n",
       "[5 rows x 27 columns]"
      ],
      "text/html": [
       "<div>\n",
       "<style scoped>\n",
       "    .dataframe tbody tr th:only-of-type {\n",
       "        vertical-align: middle;\n",
       "    }\n",
       "\n",
       "    .dataframe tbody tr th {\n",
       "        vertical-align: top;\n",
       "    }\n",
       "\n",
       "    .dataframe thead th {\n",
       "        text-align: right;\n",
       "    }\n",
       "</style>\n",
       "<table border=\"1\" class=\"dataframe\">\n",
       "  <thead>\n",
       "    <tr style=\"text-align: right;\">\n",
       "      <th></th>\n",
       "      <th>injury_or_fatality</th>\n",
       "      <th>call_datetime</th>\n",
       "      <th>x</th>\n",
       "      <th>y</th>\n",
       "      <th>hour</th>\n",
       "      <th>day</th>\n",
       "      <th>DoY</th>\n",
       "      <th>DoW</th>\n",
       "      <th>week</th>\n",
       "      <th>month</th>\n",
       "      <th>...</th>\n",
       "      <th>DoYx</th>\n",
       "      <th>DoYy</th>\n",
       "      <th>DoWx</th>\n",
       "      <th>DoWy</th>\n",
       "      <th>weekx</th>\n",
       "      <th>weeky</th>\n",
       "      <th>monthx</th>\n",
       "      <th>monthy</th>\n",
       "      <th>closest_stn</th>\n",
       "      <th>closest_light</th>\n",
       "    </tr>\n",
       "  </thead>\n",
       "  <tbody>\n",
       "    <tr>\n",
       "      <th>6</th>\n",
       "      <td>0</td>\n",
       "      <td>2017-01-04 00:10:07+00:00</td>\n",
       "      <td>-83.088720</td>\n",
       "      <td>42.426064</td>\n",
       "      <td>0</td>\n",
       "      <td>4</td>\n",
       "      <td>4</td>\n",
       "      <td>2</td>\n",
       "      <td>1</td>\n",
       "      <td>1</td>\n",
       "      <td>...</td>\n",
       "      <td>0.068802</td>\n",
       "      <td>0.997630</td>\n",
       "      <td>0.974928</td>\n",
       "      <td>-0.222521</td>\n",
       "      <td>0.118273</td>\n",
       "      <td>0.992981</td>\n",
       "      <td>0.5</td>\n",
       "      <td>8.660254e-01</td>\n",
       "      <td>0.015584</td>\n",
       "      <td>0.015269</td>\n",
       "    </tr>\n",
       "    <tr>\n",
       "      <th>7</th>\n",
       "      <td>1</td>\n",
       "      <td>2017-01-10 09:23:12+00:00</td>\n",
       "      <td>-83.082236</td>\n",
       "      <td>42.418395</td>\n",
       "      <td>9</td>\n",
       "      <td>10</td>\n",
       "      <td>10</td>\n",
       "      <td>1</td>\n",
       "      <td>2</td>\n",
       "      <td>1</td>\n",
       "      <td>...</td>\n",
       "      <td>0.171293</td>\n",
       "      <td>0.985220</td>\n",
       "      <td>0.781831</td>\n",
       "      <td>0.623490</td>\n",
       "      <td>0.234886</td>\n",
       "      <td>0.972023</td>\n",
       "      <td>0.5</td>\n",
       "      <td>8.660254e-01</td>\n",
       "      <td>0.022253</td>\n",
       "      <td>0.016398</td>\n",
       "    </tr>\n",
       "    <tr>\n",
       "      <th>8</th>\n",
       "      <td>0</td>\n",
       "      <td>2017-01-14 08:03:22+00:00</td>\n",
       "      <td>-83.099447</td>\n",
       "      <td>42.443401</td>\n",
       "      <td>8</td>\n",
       "      <td>14</td>\n",
       "      <td>14</td>\n",
       "      <td>5</td>\n",
       "      <td>2</td>\n",
       "      <td>1</td>\n",
       "      <td>...</td>\n",
       "      <td>0.238673</td>\n",
       "      <td>0.971100</td>\n",
       "      <td>-0.974928</td>\n",
       "      <td>-0.222521</td>\n",
       "      <td>0.234886</td>\n",
       "      <td>0.972023</td>\n",
       "      <td>0.5</td>\n",
       "      <td>8.660254e-01</td>\n",
       "      <td>0.011979</td>\n",
       "      <td>0.020578</td>\n",
       "    </tr>\n",
       "    <tr>\n",
       "      <th>9</th>\n",
       "      <td>0</td>\n",
       "      <td>2017-03-02 16:32:33+00:00</td>\n",
       "      <td>-83.135443</td>\n",
       "      <td>42.380273</td>\n",
       "      <td>16</td>\n",
       "      <td>2</td>\n",
       "      <td>61</td>\n",
       "      <td>3</td>\n",
       "      <td>9</td>\n",
       "      <td>3</td>\n",
       "      <td>...</td>\n",
       "      <td>0.867456</td>\n",
       "      <td>0.497513</td>\n",
       "      <td>0.433884</td>\n",
       "      <td>-0.900969</td>\n",
       "      <td>0.875735</td>\n",
       "      <td>0.482792</td>\n",
       "      <td>1.0</td>\n",
       "      <td>6.123234e-17</td>\n",
       "      <td>0.013263</td>\n",
       "      <td>0.011673</td>\n",
       "    </tr>\n",
       "    <tr>\n",
       "      <th>10</th>\n",
       "      <td>0</td>\n",
       "      <td>2017-03-06 20:32:38+00:00</td>\n",
       "      <td>-83.045696</td>\n",
       "      <td>42.407905</td>\n",
       "      <td>20</td>\n",
       "      <td>6</td>\n",
       "      <td>65</td>\n",
       "      <td>0</td>\n",
       "      <td>10</td>\n",
       "      <td>3</td>\n",
       "      <td>...</td>\n",
       "      <td>0.899631</td>\n",
       "      <td>0.436651</td>\n",
       "      <td>0.000000</td>\n",
       "      <td>1.000000</td>\n",
       "      <td>0.926690</td>\n",
       "      <td>0.375828</td>\n",
       "      <td>1.0</td>\n",
       "      <td>6.123234e-17</td>\n",
       "      <td>0.016332</td>\n",
       "      <td>0.035715</td>\n",
       "    </tr>\n",
       "  </tbody>\n",
       "</table>\n",
       "<p>5 rows × 27 columns</p>\n",
       "</div>"
      ]
     },
     "metadata": {},
     "execution_count": 79
    }
   ],
   "metadata": {}
  },
  {
   "cell_type": "code",
   "execution_count": 303,
   "source": [
    "month_day_counts = fire_inc.groupby(by=['month', 'day'])['injury_or_fatality'].count().reset_index()\n",
    "month_day_counts = month_day_counts.pivot(index='month', columns='day', values='injury_or_fatality')\n",
    "px.imshow(month_day_counts)"
   ],
   "outputs": [
    {
     "output_type": "display_data",
     "data": {
      "text/html": [
       "<div>                            <div id=\"cadfebb0-bb22-4ac1-bc0c-132ee9e9576a\" class=\"plotly-graph-div\" style=\"height:525px; width:100%;\"></div>            <script type=\"text/javascript\">                require([\"plotly\"], function(Plotly) {                    window.PLOTLYENV=window.PLOTLYENV || {};                                    if (document.getElementById(\"cadfebb0-bb22-4ac1-bc0c-132ee9e9576a\")) {                    Plotly.newPlot(                        \"cadfebb0-bb22-4ac1-bc0c-132ee9e9576a\",                        [{\"coloraxis\": \"coloraxis\", \"hovertemplate\": \"day: %{x}<br>month: %{y}<br>color: %{z}<extra></extra>\", \"name\": \"0\", \"type\": \"heatmap\", \"x\": [1, 2, 3, 4, 5, 6, 7, 8, 9, 10, 11, 12, 13, 14, 15, 16, 17, 18, 19, 20, 21, 22, 23, 24, 25, 26, 27, 28, 29, 30, 31], \"xaxis\": \"x\", \"y\": [1, 2, 3, 4, 5, 6, 7, 8, 9, 10, 11, 12], \"yaxis\": \"y\", \"z\": [[196.0, 141.0, 153.0, 161.0, 166.0, 168.0, 166.0, 177.0, 139.0, 157.0, 201.0, 175.0, 165.0, 157.0, 145.0, 144.0, 127.0, 131.0, 137.0, 135.0, 178.0, 192.0, 162.0, 139.0, 106.0, 124.0, 141.0, 160.0, 133.0, 127.0, 166.0], [201.0, 190.0, 185.0, 138.0, 144.0, 147.0, 165.0, 139.0, 156.0, 169.0, 133.0, 179.0, 174.0, 155.0, 127.0, 124.0, 168.0, 151.0, 149.0, 177.0, 183.0, 151.0, 152.0, 228.0, 194.0, 143.0, 150.0, 162.0, null, null, null], [184.0, 262.0, 147.0, 137.0, 152.0, 118.0, 120.0, 302.0, 288.0, 263.0, 208.0, 162.0, 145.0, 134.0, 162.0, 160.0, 159.0, 197.0, 153.0, 151.0, 164.0, 165.0, 152.0, 171.0, 186.0, 132.0, 169.0, 166.0, 165.0, 151.0, 178.0], [146.0, 153.0, 152.0, 181.0, 128.0, 190.0, 223.0, 183.0, 188.0, 153.0, 141.0, 157.0, 155.0, 170.0, 326.0, 314.0, 205.0, 190.0, 156.0, 179.0, 170.0, 177.0, 158.0, 142.0, 164.0, 177.0, 192.0, 178.0, 167.0, 171.0, null], [222.0, 183.0, 167.0, 267.0, 243.0, 191.0, 167.0, 173.0, 163.0, 188.0, 176.0, 217.0, 176.0, 171.0, 182.0, 170.0, 185.0, 272.0, 220.0, 189.0, 166.0, 169.0, 196.0, 165.0, 158.0, 187.0, 184.0, 166.0, 223.0, 185.0, 226.0], [167.0, 160.0, 195.0, 193.0, 208.0, 175.0, 188.0, 206.0, 188.0, 236.0, 221.0, 199.0, 258.0, 174.0, 195.0, 214.0, 183.0, 197.0, 179.0, 183.0, 143.0, 203.0, 226.0, 196.0, 191.0, 196.0, 213.0, 190.0, 172.0, 206.0, null], [176.0, 209.0, 227.0, 225.0, 422.0, 265.0, 238.0, 205.0, 215.0, 188.0, 182.0, 216.0, 191.0, 202.0, 195.0, 185.0, 160.0, 166.0, 164.0, 211.0, 267.0, 238.0, 176.0, 168.0, 167.0, 184.0, 181.0, 184.0, 217.0, 221.0, 177.0], [193.0, 210.0, 188.0, 237.0, 193.0, 234.0, 208.0, 176.0, 201.0, 184.0, 201.0, 198.0, 159.0, 169.0, 161.0, 169.0, 149.0, 153.0, 150.0, 158.0, 173.0, 163.0, 143.0, 170.0, 209.0, 189.0, 208.0, 175.0, 185.0, 174.0, 153.0], [195.0, 185.0, 216.0, 217.0, 156.0, 186.0, 140.0, 176.0, 218.0, 171.0, 180.0, 190.0, 155.0, 174.0, 166.0, 164.0, 159.0, 181.0, 182.0, 211.0, 267.0, 243.0, 195.0, 203.0, 191.0, 184.0, 174.0, 199.0, 180.0, 166.0, null], [191.0, 191.0, 166.0, 195.0, 188.0, 203.0, 190.0, 254.0, 186.0, 171.0, 213.0, 194.0, 204.0, 157.0, 247.0, 152.0, 173.0, 163.0, 180.0, 226.0, 210.0, 209.0, 197.0, 223.0, 179.0, 174.0, 211.0, 179.0, 153.0, 155.0, 171.0], [162.0, 208.0, 177.0, 178.0, 189.0, 183.0, 170.0, 144.0, 163.0, 164.0, 187.0, 173.0, 188.0, 154.0, 186.0, 158.0, 162.0, 161.0, 178.0, 146.0, 156.0, 155.0, 194.0, 175.0, 177.0, 139.0, 205.0, 171.0, 163.0, 174.0, null], [147.0, 178.0, 160.0, 145.0, 171.0, 166.0, 170.0, 152.0, 168.0, 142.0, 126.0, 164.0, 138.0, 151.0, 134.0, 155.0, 134.0, 149.0, 154.0, 163.0, 153.0, 166.0, 143.0, 165.0, 193.0, 141.0, 159.0, 139.0, 146.0, 166.0, 141.0]]}],                        {\"coloraxis\": {\"colorscale\": [[0.0, \"#0d0887\"], [0.1111111111111111, \"#46039f\"], [0.2222222222222222, \"#7201a8\"], [0.3333333333333333, \"#9c179e\"], [0.4444444444444444, \"#bd3786\"], [0.5555555555555556, \"#d8576b\"], [0.6666666666666666, \"#ed7953\"], [0.7777777777777778, \"#fb9f3a\"], [0.8888888888888888, \"#fdca26\"], [1.0, \"#f0f921\"]]}, \"margin\": {\"t\": 60}, \"template\": {\"data\": {\"bar\": [{\"error_x\": {\"color\": \"#2a3f5f\"}, \"error_y\": {\"color\": \"#2a3f5f\"}, \"marker\": {\"line\": {\"color\": \"#E5ECF6\", \"width\": 0.5}}, \"type\": \"bar\"}], \"barpolar\": [{\"marker\": {\"line\": {\"color\": \"#E5ECF6\", \"width\": 0.5}}, \"type\": \"barpolar\"}], \"carpet\": [{\"aaxis\": {\"endlinecolor\": \"#2a3f5f\", \"gridcolor\": \"white\", \"linecolor\": \"white\", \"minorgridcolor\": \"white\", \"startlinecolor\": \"#2a3f5f\"}, \"baxis\": {\"endlinecolor\": \"#2a3f5f\", \"gridcolor\": \"white\", \"linecolor\": \"white\", \"minorgridcolor\": \"white\", \"startlinecolor\": \"#2a3f5f\"}, \"type\": \"carpet\"}], \"choropleth\": [{\"colorbar\": {\"outlinewidth\": 0, \"ticks\": \"\"}, \"type\": \"choropleth\"}], \"contour\": [{\"colorbar\": {\"outlinewidth\": 0, \"ticks\": \"\"}, \"colorscale\": [[0.0, \"#0d0887\"], [0.1111111111111111, \"#46039f\"], [0.2222222222222222, \"#7201a8\"], [0.3333333333333333, \"#9c179e\"], [0.4444444444444444, \"#bd3786\"], [0.5555555555555556, \"#d8576b\"], [0.6666666666666666, \"#ed7953\"], [0.7777777777777778, \"#fb9f3a\"], [0.8888888888888888, \"#fdca26\"], [1.0, \"#f0f921\"]], \"type\": \"contour\"}], \"contourcarpet\": [{\"colorbar\": {\"outlinewidth\": 0, \"ticks\": \"\"}, \"type\": \"contourcarpet\"}], \"heatmap\": [{\"colorbar\": {\"outlinewidth\": 0, \"ticks\": \"\"}, \"colorscale\": [[0.0, \"#0d0887\"], [0.1111111111111111, \"#46039f\"], [0.2222222222222222, \"#7201a8\"], [0.3333333333333333, \"#9c179e\"], [0.4444444444444444, \"#bd3786\"], [0.5555555555555556, \"#d8576b\"], [0.6666666666666666, \"#ed7953\"], [0.7777777777777778, \"#fb9f3a\"], [0.8888888888888888, \"#fdca26\"], [1.0, \"#f0f921\"]], \"type\": \"heatmap\"}], \"heatmapgl\": [{\"colorbar\": {\"outlinewidth\": 0, \"ticks\": \"\"}, \"colorscale\": [[0.0, \"#0d0887\"], [0.1111111111111111, \"#46039f\"], [0.2222222222222222, \"#7201a8\"], [0.3333333333333333, \"#9c179e\"], [0.4444444444444444, \"#bd3786\"], [0.5555555555555556, \"#d8576b\"], [0.6666666666666666, \"#ed7953\"], [0.7777777777777778, \"#fb9f3a\"], [0.8888888888888888, \"#fdca26\"], [1.0, \"#f0f921\"]], \"type\": \"heatmapgl\"}], \"histogram\": [{\"marker\": {\"colorbar\": {\"outlinewidth\": 0, \"ticks\": \"\"}}, \"type\": \"histogram\"}], \"histogram2d\": [{\"colorbar\": {\"outlinewidth\": 0, \"ticks\": \"\"}, \"colorscale\": [[0.0, \"#0d0887\"], [0.1111111111111111, \"#46039f\"], [0.2222222222222222, \"#7201a8\"], [0.3333333333333333, \"#9c179e\"], [0.4444444444444444, \"#bd3786\"], [0.5555555555555556, \"#d8576b\"], [0.6666666666666666, \"#ed7953\"], [0.7777777777777778, \"#fb9f3a\"], [0.8888888888888888, \"#fdca26\"], [1.0, \"#f0f921\"]], \"type\": \"histogram2d\"}], \"histogram2dcontour\": [{\"colorbar\": {\"outlinewidth\": 0, \"ticks\": \"\"}, \"colorscale\": [[0.0, \"#0d0887\"], [0.1111111111111111, \"#46039f\"], [0.2222222222222222, \"#7201a8\"], [0.3333333333333333, \"#9c179e\"], [0.4444444444444444, \"#bd3786\"], [0.5555555555555556, \"#d8576b\"], [0.6666666666666666, \"#ed7953\"], [0.7777777777777778, \"#fb9f3a\"], [0.8888888888888888, \"#fdca26\"], [1.0, \"#f0f921\"]], \"type\": \"histogram2dcontour\"}], \"mesh3d\": [{\"colorbar\": {\"outlinewidth\": 0, \"ticks\": \"\"}, \"type\": \"mesh3d\"}], \"parcoords\": [{\"line\": {\"colorbar\": {\"outlinewidth\": 0, \"ticks\": \"\"}}, \"type\": \"parcoords\"}], \"pie\": [{\"automargin\": true, \"type\": \"pie\"}], \"scatter\": [{\"marker\": {\"colorbar\": {\"outlinewidth\": 0, \"ticks\": \"\"}}, \"type\": \"scatter\"}], \"scatter3d\": [{\"line\": {\"colorbar\": {\"outlinewidth\": 0, \"ticks\": \"\"}}, \"marker\": {\"colorbar\": {\"outlinewidth\": 0, \"ticks\": \"\"}}, \"type\": \"scatter3d\"}], \"scattercarpet\": [{\"marker\": {\"colorbar\": {\"outlinewidth\": 0, \"ticks\": \"\"}}, \"type\": \"scattercarpet\"}], \"scattergeo\": [{\"marker\": {\"colorbar\": {\"outlinewidth\": 0, \"ticks\": \"\"}}, \"type\": \"scattergeo\"}], \"scattergl\": [{\"marker\": {\"colorbar\": {\"outlinewidth\": 0, \"ticks\": \"\"}}, \"type\": \"scattergl\"}], \"scattermapbox\": [{\"marker\": {\"colorbar\": {\"outlinewidth\": 0, \"ticks\": \"\"}}, \"type\": \"scattermapbox\"}], \"scatterpolar\": [{\"marker\": {\"colorbar\": {\"outlinewidth\": 0, \"ticks\": \"\"}}, \"type\": \"scatterpolar\"}], \"scatterpolargl\": [{\"marker\": {\"colorbar\": {\"outlinewidth\": 0, \"ticks\": \"\"}}, \"type\": \"scatterpolargl\"}], \"scatterternary\": [{\"marker\": {\"colorbar\": {\"outlinewidth\": 0, \"ticks\": \"\"}}, \"type\": \"scatterternary\"}], \"surface\": [{\"colorbar\": {\"outlinewidth\": 0, \"ticks\": \"\"}, \"colorscale\": [[0.0, \"#0d0887\"], [0.1111111111111111, \"#46039f\"], [0.2222222222222222, \"#7201a8\"], [0.3333333333333333, \"#9c179e\"], [0.4444444444444444, \"#bd3786\"], [0.5555555555555556, \"#d8576b\"], [0.6666666666666666, \"#ed7953\"], [0.7777777777777778, \"#fb9f3a\"], [0.8888888888888888, \"#fdca26\"], [1.0, \"#f0f921\"]], \"type\": \"surface\"}], \"table\": [{\"cells\": {\"fill\": {\"color\": \"#EBF0F8\"}, \"line\": {\"color\": \"white\"}}, \"header\": {\"fill\": {\"color\": \"#C8D4E3\"}, \"line\": {\"color\": \"white\"}}, \"type\": \"table\"}]}, \"layout\": {\"annotationdefaults\": {\"arrowcolor\": \"#2a3f5f\", \"arrowhead\": 0, \"arrowwidth\": 1}, \"autotypenumbers\": \"strict\", \"coloraxis\": {\"colorbar\": {\"outlinewidth\": 0, \"ticks\": \"\"}}, \"colorscale\": {\"diverging\": [[0, \"#8e0152\"], [0.1, \"#c51b7d\"], [0.2, \"#de77ae\"], [0.3, \"#f1b6da\"], [0.4, \"#fde0ef\"], [0.5, \"#f7f7f7\"], [0.6, \"#e6f5d0\"], [0.7, \"#b8e186\"], [0.8, \"#7fbc41\"], [0.9, \"#4d9221\"], [1, \"#276419\"]], \"sequential\": [[0.0, \"#0d0887\"], [0.1111111111111111, \"#46039f\"], [0.2222222222222222, \"#7201a8\"], [0.3333333333333333, \"#9c179e\"], [0.4444444444444444, \"#bd3786\"], [0.5555555555555556, \"#d8576b\"], [0.6666666666666666, \"#ed7953\"], [0.7777777777777778, \"#fb9f3a\"], [0.8888888888888888, \"#fdca26\"], [1.0, \"#f0f921\"]], \"sequentialminus\": [[0.0, \"#0d0887\"], [0.1111111111111111, \"#46039f\"], [0.2222222222222222, \"#7201a8\"], [0.3333333333333333, \"#9c179e\"], [0.4444444444444444, \"#bd3786\"], [0.5555555555555556, \"#d8576b\"], [0.6666666666666666, \"#ed7953\"], [0.7777777777777778, \"#fb9f3a\"], [0.8888888888888888, \"#fdca26\"], [1.0, \"#f0f921\"]]}, \"colorway\": [\"#636efa\", \"#EF553B\", \"#00cc96\", \"#ab63fa\", \"#FFA15A\", \"#19d3f3\", \"#FF6692\", \"#B6E880\", \"#FF97FF\", \"#FECB52\"], \"font\": {\"color\": \"#2a3f5f\"}, \"geo\": {\"bgcolor\": \"white\", \"lakecolor\": \"white\", \"landcolor\": \"#E5ECF6\", \"showlakes\": true, \"showland\": true, \"subunitcolor\": \"white\"}, \"hoverlabel\": {\"align\": \"left\"}, \"hovermode\": \"closest\", \"mapbox\": {\"style\": \"light\"}, \"paper_bgcolor\": \"white\", \"plot_bgcolor\": \"#E5ECF6\", \"polar\": {\"angularaxis\": {\"gridcolor\": \"white\", \"linecolor\": \"white\", \"ticks\": \"\"}, \"bgcolor\": \"#E5ECF6\", \"radialaxis\": {\"gridcolor\": \"white\", \"linecolor\": \"white\", \"ticks\": \"\"}}, \"scene\": {\"xaxis\": {\"backgroundcolor\": \"#E5ECF6\", \"gridcolor\": \"white\", \"gridwidth\": 2, \"linecolor\": \"white\", \"showbackground\": true, \"ticks\": \"\", \"zerolinecolor\": \"white\"}, \"yaxis\": {\"backgroundcolor\": \"#E5ECF6\", \"gridcolor\": \"white\", \"gridwidth\": 2, \"linecolor\": \"white\", \"showbackground\": true, \"ticks\": \"\", \"zerolinecolor\": \"white\"}, \"zaxis\": {\"backgroundcolor\": \"#E5ECF6\", \"gridcolor\": \"white\", \"gridwidth\": 2, \"linecolor\": \"white\", \"showbackground\": true, \"ticks\": \"\", \"zerolinecolor\": \"white\"}}, \"shapedefaults\": {\"line\": {\"color\": \"#2a3f5f\"}}, \"ternary\": {\"aaxis\": {\"gridcolor\": \"white\", \"linecolor\": \"white\", \"ticks\": \"\"}, \"baxis\": {\"gridcolor\": \"white\", \"linecolor\": \"white\", \"ticks\": \"\"}, \"bgcolor\": \"#E5ECF6\", \"caxis\": {\"gridcolor\": \"white\", \"linecolor\": \"white\", \"ticks\": \"\"}}, \"title\": {\"x\": 0.05}, \"xaxis\": {\"automargin\": true, \"gridcolor\": \"white\", \"linecolor\": \"white\", \"ticks\": \"\", \"title\": {\"standoff\": 15}, \"zerolinecolor\": \"white\", \"zerolinewidth\": 2}, \"yaxis\": {\"automargin\": true, \"gridcolor\": \"white\", \"linecolor\": \"white\", \"ticks\": \"\", \"title\": {\"standoff\": 15}, \"zerolinecolor\": \"white\", \"zerolinewidth\": 2}}}, \"xaxis\": {\"anchor\": \"y\", \"constrain\": \"domain\", \"domain\": [0.0, 1.0], \"scaleanchor\": \"y\", \"title\": {\"text\": \"day\"}}, \"yaxis\": {\"anchor\": \"x\", \"autorange\": \"reversed\", \"constrain\": \"domain\", \"domain\": [0.0, 1.0], \"title\": {\"text\": \"month\"}}},                        {\"responsive\": true}                    ).then(function(){\n",
       "                            \n",
       "var gd = document.getElementById('cadfebb0-bb22-4ac1-bc0c-132ee9e9576a');\n",
       "var x = new MutationObserver(function (mutations, observer) {{\n",
       "        var display = window.getComputedStyle(gd).display;\n",
       "        if (!display || display === 'none') {{\n",
       "            console.log([gd, 'removed!']);\n",
       "            Plotly.purge(gd);\n",
       "            observer.disconnect();\n",
       "        }}\n",
       "}});\n",
       "\n",
       "// Listen for the removal of the full notebook cells\n",
       "var notebookContainer = gd.closest('#notebook-container');\n",
       "if (notebookContainer) {{\n",
       "    x.observe(notebookContainer, {childList: true});\n",
       "}}\n",
       "\n",
       "// Listen for the clearing of the current output cell\n",
       "var outputEl = gd.closest('.output');\n",
       "if (outputEl) {{\n",
       "    x.observe(outputEl, {childList: true});\n",
       "}}\n",
       "\n",
       "                        })                };                });            </script>        </div>"
      ],
      "application/vnd.plotly.v1+json": {
       "config": {
        "plotlyServerURL": "https://plot.ly"
       },
       "data": [
        {
         "coloraxis": "coloraxis",
         "hovertemplate": "day: %{x}<br>month: %{y}<br>color: %{z}<extra></extra>",
         "name": "0",
         "type": "heatmap",
         "x": [
          1,
          2,
          3,
          4,
          5,
          6,
          7,
          8,
          9,
          10,
          11,
          12,
          13,
          14,
          15,
          16,
          17,
          18,
          19,
          20,
          21,
          22,
          23,
          24,
          25,
          26,
          27,
          28,
          29,
          30,
          31
         ],
         "xaxis": "x",
         "y": [
          1,
          2,
          3,
          4,
          5,
          6,
          7,
          8,
          9,
          10,
          11,
          12
         ],
         "yaxis": "y",
         "z": [
          [
           196,
           141,
           153,
           161,
           166,
           168,
           166,
           177,
           139,
           157,
           201,
           175,
           165,
           157,
           145,
           144,
           127,
           131,
           137,
           135,
           178,
           192,
           162,
           139,
           106,
           124,
           141,
           160,
           133,
           127,
           166
          ],
          [
           201,
           190,
           185,
           138,
           144,
           147,
           165,
           139,
           156,
           169,
           133,
           179,
           174,
           155,
           127,
           124,
           168,
           151,
           149,
           177,
           183,
           151,
           152,
           228,
           194,
           143,
           150,
           162,
           null,
           null,
           null
          ],
          [
           184,
           262,
           147,
           137,
           152,
           118,
           120,
           302,
           288,
           263,
           208,
           162,
           145,
           134,
           162,
           160,
           159,
           197,
           153,
           151,
           164,
           165,
           152,
           171,
           186,
           132,
           169,
           166,
           165,
           151,
           178
          ],
          [
           146,
           153,
           152,
           181,
           128,
           190,
           223,
           183,
           188,
           153,
           141,
           157,
           155,
           170,
           326,
           314,
           205,
           190,
           156,
           179,
           170,
           177,
           158,
           142,
           164,
           177,
           192,
           178,
           167,
           171,
           null
          ],
          [
           222,
           183,
           167,
           267,
           243,
           191,
           167,
           173,
           163,
           188,
           176,
           217,
           176,
           171,
           182,
           170,
           185,
           272,
           220,
           189,
           166,
           169,
           196,
           165,
           158,
           187,
           184,
           166,
           223,
           185,
           226
          ],
          [
           167,
           160,
           195,
           193,
           208,
           175,
           188,
           206,
           188,
           236,
           221,
           199,
           258,
           174,
           195,
           214,
           183,
           197,
           179,
           183,
           143,
           203,
           226,
           196,
           191,
           196,
           213,
           190,
           172,
           206,
           null
          ],
          [
           176,
           209,
           227,
           225,
           422,
           265,
           238,
           205,
           215,
           188,
           182,
           216,
           191,
           202,
           195,
           185,
           160,
           166,
           164,
           211,
           267,
           238,
           176,
           168,
           167,
           184,
           181,
           184,
           217,
           221,
           177
          ],
          [
           193,
           210,
           188,
           237,
           193,
           234,
           208,
           176,
           201,
           184,
           201,
           198,
           159,
           169,
           161,
           169,
           149,
           153,
           150,
           158,
           173,
           163,
           143,
           170,
           209,
           189,
           208,
           175,
           185,
           174,
           153
          ],
          [
           195,
           185,
           216,
           217,
           156,
           186,
           140,
           176,
           218,
           171,
           180,
           190,
           155,
           174,
           166,
           164,
           159,
           181,
           182,
           211,
           267,
           243,
           195,
           203,
           191,
           184,
           174,
           199,
           180,
           166,
           null
          ],
          [
           191,
           191,
           166,
           195,
           188,
           203,
           190,
           254,
           186,
           171,
           213,
           194,
           204,
           157,
           247,
           152,
           173,
           163,
           180,
           226,
           210,
           209,
           197,
           223,
           179,
           174,
           211,
           179,
           153,
           155,
           171
          ],
          [
           162,
           208,
           177,
           178,
           189,
           183,
           170,
           144,
           163,
           164,
           187,
           173,
           188,
           154,
           186,
           158,
           162,
           161,
           178,
           146,
           156,
           155,
           194,
           175,
           177,
           139,
           205,
           171,
           163,
           174,
           null
          ],
          [
           147,
           178,
           160,
           145,
           171,
           166,
           170,
           152,
           168,
           142,
           126,
           164,
           138,
           151,
           134,
           155,
           134,
           149,
           154,
           163,
           153,
           166,
           143,
           165,
           193,
           141,
           159,
           139,
           146,
           166,
           141
          ]
         ]
        }
       ],
       "layout": {
        "coloraxis": {
         "colorscale": [
          [
           0,
           "#0d0887"
          ],
          [
           0.1111111111111111,
           "#46039f"
          ],
          [
           0.2222222222222222,
           "#7201a8"
          ],
          [
           0.3333333333333333,
           "#9c179e"
          ],
          [
           0.4444444444444444,
           "#bd3786"
          ],
          [
           0.5555555555555556,
           "#d8576b"
          ],
          [
           0.6666666666666666,
           "#ed7953"
          ],
          [
           0.7777777777777778,
           "#fb9f3a"
          ],
          [
           0.8888888888888888,
           "#fdca26"
          ],
          [
           1,
           "#f0f921"
          ]
         ]
        },
        "margin": {
         "t": 60
        },
        "template": {
         "data": {
          "bar": [
           {
            "error_x": {
             "color": "#2a3f5f"
            },
            "error_y": {
             "color": "#2a3f5f"
            },
            "marker": {
             "line": {
              "color": "#E5ECF6",
              "width": 0.5
             }
            },
            "type": "bar"
           }
          ],
          "barpolar": [
           {
            "marker": {
             "line": {
              "color": "#E5ECF6",
              "width": 0.5
             }
            },
            "type": "barpolar"
           }
          ],
          "carpet": [
           {
            "aaxis": {
             "endlinecolor": "#2a3f5f",
             "gridcolor": "white",
             "linecolor": "white",
             "minorgridcolor": "white",
             "startlinecolor": "#2a3f5f"
            },
            "baxis": {
             "endlinecolor": "#2a3f5f",
             "gridcolor": "white",
             "linecolor": "white",
             "minorgridcolor": "white",
             "startlinecolor": "#2a3f5f"
            },
            "type": "carpet"
           }
          ],
          "choropleth": [
           {
            "colorbar": {
             "outlinewidth": 0,
             "ticks": ""
            },
            "type": "choropleth"
           }
          ],
          "contour": [
           {
            "colorbar": {
             "outlinewidth": 0,
             "ticks": ""
            },
            "colorscale": [
             [
              0,
              "#0d0887"
             ],
             [
              0.1111111111111111,
              "#46039f"
             ],
             [
              0.2222222222222222,
              "#7201a8"
             ],
             [
              0.3333333333333333,
              "#9c179e"
             ],
             [
              0.4444444444444444,
              "#bd3786"
             ],
             [
              0.5555555555555556,
              "#d8576b"
             ],
             [
              0.6666666666666666,
              "#ed7953"
             ],
             [
              0.7777777777777778,
              "#fb9f3a"
             ],
             [
              0.8888888888888888,
              "#fdca26"
             ],
             [
              1,
              "#f0f921"
             ]
            ],
            "type": "contour"
           }
          ],
          "contourcarpet": [
           {
            "colorbar": {
             "outlinewidth": 0,
             "ticks": ""
            },
            "type": "contourcarpet"
           }
          ],
          "heatmap": [
           {
            "colorbar": {
             "outlinewidth": 0,
             "ticks": ""
            },
            "colorscale": [
             [
              0,
              "#0d0887"
             ],
             [
              0.1111111111111111,
              "#46039f"
             ],
             [
              0.2222222222222222,
              "#7201a8"
             ],
             [
              0.3333333333333333,
              "#9c179e"
             ],
             [
              0.4444444444444444,
              "#bd3786"
             ],
             [
              0.5555555555555556,
              "#d8576b"
             ],
             [
              0.6666666666666666,
              "#ed7953"
             ],
             [
              0.7777777777777778,
              "#fb9f3a"
             ],
             [
              0.8888888888888888,
              "#fdca26"
             ],
             [
              1,
              "#f0f921"
             ]
            ],
            "type": "heatmap"
           }
          ],
          "heatmapgl": [
           {
            "colorbar": {
             "outlinewidth": 0,
             "ticks": ""
            },
            "colorscale": [
             [
              0,
              "#0d0887"
             ],
             [
              0.1111111111111111,
              "#46039f"
             ],
             [
              0.2222222222222222,
              "#7201a8"
             ],
             [
              0.3333333333333333,
              "#9c179e"
             ],
             [
              0.4444444444444444,
              "#bd3786"
             ],
             [
              0.5555555555555556,
              "#d8576b"
             ],
             [
              0.6666666666666666,
              "#ed7953"
             ],
             [
              0.7777777777777778,
              "#fb9f3a"
             ],
             [
              0.8888888888888888,
              "#fdca26"
             ],
             [
              1,
              "#f0f921"
             ]
            ],
            "type": "heatmapgl"
           }
          ],
          "histogram": [
           {
            "marker": {
             "colorbar": {
              "outlinewidth": 0,
              "ticks": ""
             }
            },
            "type": "histogram"
           }
          ],
          "histogram2d": [
           {
            "colorbar": {
             "outlinewidth": 0,
             "ticks": ""
            },
            "colorscale": [
             [
              0,
              "#0d0887"
             ],
             [
              0.1111111111111111,
              "#46039f"
             ],
             [
              0.2222222222222222,
              "#7201a8"
             ],
             [
              0.3333333333333333,
              "#9c179e"
             ],
             [
              0.4444444444444444,
              "#bd3786"
             ],
             [
              0.5555555555555556,
              "#d8576b"
             ],
             [
              0.6666666666666666,
              "#ed7953"
             ],
             [
              0.7777777777777778,
              "#fb9f3a"
             ],
             [
              0.8888888888888888,
              "#fdca26"
             ],
             [
              1,
              "#f0f921"
             ]
            ],
            "type": "histogram2d"
           }
          ],
          "histogram2dcontour": [
           {
            "colorbar": {
             "outlinewidth": 0,
             "ticks": ""
            },
            "colorscale": [
             [
              0,
              "#0d0887"
             ],
             [
              0.1111111111111111,
              "#46039f"
             ],
             [
              0.2222222222222222,
              "#7201a8"
             ],
             [
              0.3333333333333333,
              "#9c179e"
             ],
             [
              0.4444444444444444,
              "#bd3786"
             ],
             [
              0.5555555555555556,
              "#d8576b"
             ],
             [
              0.6666666666666666,
              "#ed7953"
             ],
             [
              0.7777777777777778,
              "#fb9f3a"
             ],
             [
              0.8888888888888888,
              "#fdca26"
             ],
             [
              1,
              "#f0f921"
             ]
            ],
            "type": "histogram2dcontour"
           }
          ],
          "mesh3d": [
           {
            "colorbar": {
             "outlinewidth": 0,
             "ticks": ""
            },
            "type": "mesh3d"
           }
          ],
          "parcoords": [
           {
            "line": {
             "colorbar": {
              "outlinewidth": 0,
              "ticks": ""
             }
            },
            "type": "parcoords"
           }
          ],
          "pie": [
           {
            "automargin": true,
            "type": "pie"
           }
          ],
          "scatter": [
           {
            "marker": {
             "colorbar": {
              "outlinewidth": 0,
              "ticks": ""
             }
            },
            "type": "scatter"
           }
          ],
          "scatter3d": [
           {
            "line": {
             "colorbar": {
              "outlinewidth": 0,
              "ticks": ""
             }
            },
            "marker": {
             "colorbar": {
              "outlinewidth": 0,
              "ticks": ""
             }
            },
            "type": "scatter3d"
           }
          ],
          "scattercarpet": [
           {
            "marker": {
             "colorbar": {
              "outlinewidth": 0,
              "ticks": ""
             }
            },
            "type": "scattercarpet"
           }
          ],
          "scattergeo": [
           {
            "marker": {
             "colorbar": {
              "outlinewidth": 0,
              "ticks": ""
             }
            },
            "type": "scattergeo"
           }
          ],
          "scattergl": [
           {
            "marker": {
             "colorbar": {
              "outlinewidth": 0,
              "ticks": ""
             }
            },
            "type": "scattergl"
           }
          ],
          "scattermapbox": [
           {
            "marker": {
             "colorbar": {
              "outlinewidth": 0,
              "ticks": ""
             }
            },
            "type": "scattermapbox"
           }
          ],
          "scatterpolar": [
           {
            "marker": {
             "colorbar": {
              "outlinewidth": 0,
              "ticks": ""
             }
            },
            "type": "scatterpolar"
           }
          ],
          "scatterpolargl": [
           {
            "marker": {
             "colorbar": {
              "outlinewidth": 0,
              "ticks": ""
             }
            },
            "type": "scatterpolargl"
           }
          ],
          "scatterternary": [
           {
            "marker": {
             "colorbar": {
              "outlinewidth": 0,
              "ticks": ""
             }
            },
            "type": "scatterternary"
           }
          ],
          "surface": [
           {
            "colorbar": {
             "outlinewidth": 0,
             "ticks": ""
            },
            "colorscale": [
             [
              0,
              "#0d0887"
             ],
             [
              0.1111111111111111,
              "#46039f"
             ],
             [
              0.2222222222222222,
              "#7201a8"
             ],
             [
              0.3333333333333333,
              "#9c179e"
             ],
             [
              0.4444444444444444,
              "#bd3786"
             ],
             [
              0.5555555555555556,
              "#d8576b"
             ],
             [
              0.6666666666666666,
              "#ed7953"
             ],
             [
              0.7777777777777778,
              "#fb9f3a"
             ],
             [
              0.8888888888888888,
              "#fdca26"
             ],
             [
              1,
              "#f0f921"
             ]
            ],
            "type": "surface"
           }
          ],
          "table": [
           {
            "cells": {
             "fill": {
              "color": "#EBF0F8"
             },
             "line": {
              "color": "white"
             }
            },
            "header": {
             "fill": {
              "color": "#C8D4E3"
             },
             "line": {
              "color": "white"
             }
            },
            "type": "table"
           }
          ]
         },
         "layout": {
          "annotationdefaults": {
           "arrowcolor": "#2a3f5f",
           "arrowhead": 0,
           "arrowwidth": 1
          },
          "autotypenumbers": "strict",
          "coloraxis": {
           "colorbar": {
            "outlinewidth": 0,
            "ticks": ""
           }
          },
          "colorscale": {
           "diverging": [
            [
             0,
             "#8e0152"
            ],
            [
             0.1,
             "#c51b7d"
            ],
            [
             0.2,
             "#de77ae"
            ],
            [
             0.3,
             "#f1b6da"
            ],
            [
             0.4,
             "#fde0ef"
            ],
            [
             0.5,
             "#f7f7f7"
            ],
            [
             0.6,
             "#e6f5d0"
            ],
            [
             0.7,
             "#b8e186"
            ],
            [
             0.8,
             "#7fbc41"
            ],
            [
             0.9,
             "#4d9221"
            ],
            [
             1,
             "#276419"
            ]
           ],
           "sequential": [
            [
             0,
             "#0d0887"
            ],
            [
             0.1111111111111111,
             "#46039f"
            ],
            [
             0.2222222222222222,
             "#7201a8"
            ],
            [
             0.3333333333333333,
             "#9c179e"
            ],
            [
             0.4444444444444444,
             "#bd3786"
            ],
            [
             0.5555555555555556,
             "#d8576b"
            ],
            [
             0.6666666666666666,
             "#ed7953"
            ],
            [
             0.7777777777777778,
             "#fb9f3a"
            ],
            [
             0.8888888888888888,
             "#fdca26"
            ],
            [
             1,
             "#f0f921"
            ]
           ],
           "sequentialminus": [
            [
             0,
             "#0d0887"
            ],
            [
             0.1111111111111111,
             "#46039f"
            ],
            [
             0.2222222222222222,
             "#7201a8"
            ],
            [
             0.3333333333333333,
             "#9c179e"
            ],
            [
             0.4444444444444444,
             "#bd3786"
            ],
            [
             0.5555555555555556,
             "#d8576b"
            ],
            [
             0.6666666666666666,
             "#ed7953"
            ],
            [
             0.7777777777777778,
             "#fb9f3a"
            ],
            [
             0.8888888888888888,
             "#fdca26"
            ],
            [
             1,
             "#f0f921"
            ]
           ]
          },
          "colorway": [
           "#636efa",
           "#EF553B",
           "#00cc96",
           "#ab63fa",
           "#FFA15A",
           "#19d3f3",
           "#FF6692",
           "#B6E880",
           "#FF97FF",
           "#FECB52"
          ],
          "font": {
           "color": "#2a3f5f"
          },
          "geo": {
           "bgcolor": "white",
           "lakecolor": "white",
           "landcolor": "#E5ECF6",
           "showlakes": true,
           "showland": true,
           "subunitcolor": "white"
          },
          "hoverlabel": {
           "align": "left"
          },
          "hovermode": "closest",
          "mapbox": {
           "style": "light"
          },
          "paper_bgcolor": "white",
          "plot_bgcolor": "#E5ECF6",
          "polar": {
           "angularaxis": {
            "gridcolor": "white",
            "linecolor": "white",
            "ticks": ""
           },
           "bgcolor": "#E5ECF6",
           "radialaxis": {
            "gridcolor": "white",
            "linecolor": "white",
            "ticks": ""
           }
          },
          "scene": {
           "xaxis": {
            "backgroundcolor": "#E5ECF6",
            "gridcolor": "white",
            "gridwidth": 2,
            "linecolor": "white",
            "showbackground": true,
            "ticks": "",
            "zerolinecolor": "white"
           },
           "yaxis": {
            "backgroundcolor": "#E5ECF6",
            "gridcolor": "white",
            "gridwidth": 2,
            "linecolor": "white",
            "showbackground": true,
            "ticks": "",
            "zerolinecolor": "white"
           },
           "zaxis": {
            "backgroundcolor": "#E5ECF6",
            "gridcolor": "white",
            "gridwidth": 2,
            "linecolor": "white",
            "showbackground": true,
            "ticks": "",
            "zerolinecolor": "white"
           }
          },
          "shapedefaults": {
           "line": {
            "color": "#2a3f5f"
           }
          },
          "ternary": {
           "aaxis": {
            "gridcolor": "white",
            "linecolor": "white",
            "ticks": ""
           },
           "baxis": {
            "gridcolor": "white",
            "linecolor": "white",
            "ticks": ""
           },
           "bgcolor": "#E5ECF6",
           "caxis": {
            "gridcolor": "white",
            "linecolor": "white",
            "ticks": ""
           }
          },
          "title": {
           "x": 0.05
          },
          "xaxis": {
           "automargin": true,
           "gridcolor": "white",
           "linecolor": "white",
           "ticks": "",
           "title": {
            "standoff": 15
           },
           "zerolinecolor": "white",
           "zerolinewidth": 2
          },
          "yaxis": {
           "automargin": true,
           "gridcolor": "white",
           "linecolor": "white",
           "ticks": "",
           "title": {
            "standoff": 15
           },
           "zerolinecolor": "white",
           "zerolinewidth": 2
          }
         }
        },
        "xaxis": {
         "anchor": "y",
         "constrain": "domain",
         "domain": [
          0,
          1
         ],
         "scaleanchor": "y",
         "title": {
          "text": "day"
         }
        },
        "yaxis": {
         "anchor": "x",
         "autorange": "reversed",
         "constrain": "domain",
         "domain": [
          0,
          1
         ],
         "title": {
          "text": "month"
         }
        }
       }
      }
     },
     "metadata": {}
    }
   ],
   "metadata": {}
  },
  {
   "cell_type": "code",
   "execution_count": 566,
   "source": [
    "y_col = 'injury_or_fatality'\n",
    "feature_cols = ['hourx', 'houry', 'dayx', 'dayy', 'DoYx', 'DoYy', 'DoWx', 'DoWy', 'weekx', 'weeky', 'monthx', 'monthy', 'closest_stn', 'closest_light']\n",
    "for cluster in geoDf.cluster.unique():\n",
    "    col = 'cluster_' + str(cluster)\n",
    "    feature_cols.append(col)\n",
    "    fire_inc[col] = fire_inc['cluster'].apply(lambda x: 1 if x == cluster else 0)\n",
    "X = fire_inc.loc[:, feature_cols]\n",
    "Y = fire_inc[y_col]\n",
    "X_train, X_test, y_train, y_test = train_test_split(X, Y, random_state=RANDOM_STATE)"
   ],
   "outputs": [],
   "metadata": {}
  },
  {
   "cell_type": "code",
   "execution_count": 567,
   "source": [
    "X_train.head()"
   ],
   "outputs": [
    {
     "output_type": "execute_result",
     "data": {
      "text/plain": [
       "          hourx         houry      dayx      dayy      DoYx      DoYy  \\\n",
       "66404 -1.000000 -1.836970e-16 -0.724793  0.688967  0.573772 -0.819015   \n",
       "58481  0.707107  7.071068e-01 -0.968077 -0.250653  0.790946  0.611886   \n",
       "14450  1.000000  6.123234e-17 -0.998717 -0.050649 -0.991114 -0.133015   \n",
       "3416   0.866025 -5.000000e-01  0.937752  0.347305  0.594727  0.803928   \n",
       "19810  0.258819  9.659258e-01  0.937752  0.347305  0.425000 -0.905193   \n",
       "\n",
       "           DoWx      DoWy     weekx     weeky  ...  cluster_6  cluster_3  \\\n",
       "66404 -0.781831  0.623490  0.606800 -0.794854  ...          0          0   \n",
       "58481  0.974928 -0.222521  0.812487  0.582979  ...          0          0   \n",
       "14450 -0.974928 -0.222521 -0.978556 -0.205979  ...          0          0   \n",
       "3416   0.000000  1.000000  0.652822  0.757511  ...          0          0   \n",
       "19810  0.974928 -0.222521  0.403123 -0.915146  ...          0          0   \n",
       "\n",
       "       cluster_12  cluster_16  cluster_14  cluster_1  cluster_19  cluster_2  \\\n",
       "66404           0           0           0          0           0          0   \n",
       "58481           0           1           0          0           0          0   \n",
       "14450           0           0           0          0           0          0   \n",
       "3416            1           0           0          0           0          0   \n",
       "19810           0           0           0          0           0          0   \n",
       "\n",
       "       cluster_17  cluster_5  \n",
       "66404           0          0  \n",
       "58481           0          0  \n",
       "14450           0          0  \n",
       "3416            0          0  \n",
       "19810           0          0  \n",
       "\n",
       "[5 rows x 34 columns]"
      ],
      "text/html": [
       "<div>\n",
       "<style scoped>\n",
       "    .dataframe tbody tr th:only-of-type {\n",
       "        vertical-align: middle;\n",
       "    }\n",
       "\n",
       "    .dataframe tbody tr th {\n",
       "        vertical-align: top;\n",
       "    }\n",
       "\n",
       "    .dataframe thead th {\n",
       "        text-align: right;\n",
       "    }\n",
       "</style>\n",
       "<table border=\"1\" class=\"dataframe\">\n",
       "  <thead>\n",
       "    <tr style=\"text-align: right;\">\n",
       "      <th></th>\n",
       "      <th>hourx</th>\n",
       "      <th>houry</th>\n",
       "      <th>dayx</th>\n",
       "      <th>dayy</th>\n",
       "      <th>DoYx</th>\n",
       "      <th>DoYy</th>\n",
       "      <th>DoWx</th>\n",
       "      <th>DoWy</th>\n",
       "      <th>weekx</th>\n",
       "      <th>weeky</th>\n",
       "      <th>...</th>\n",
       "      <th>cluster_6</th>\n",
       "      <th>cluster_3</th>\n",
       "      <th>cluster_12</th>\n",
       "      <th>cluster_16</th>\n",
       "      <th>cluster_14</th>\n",
       "      <th>cluster_1</th>\n",
       "      <th>cluster_19</th>\n",
       "      <th>cluster_2</th>\n",
       "      <th>cluster_17</th>\n",
       "      <th>cluster_5</th>\n",
       "    </tr>\n",
       "  </thead>\n",
       "  <tbody>\n",
       "    <tr>\n",
       "      <th>66404</th>\n",
       "      <td>-1.000000</td>\n",
       "      <td>-1.836970e-16</td>\n",
       "      <td>-0.724793</td>\n",
       "      <td>0.688967</td>\n",
       "      <td>0.573772</td>\n",
       "      <td>-0.819015</td>\n",
       "      <td>-0.781831</td>\n",
       "      <td>0.623490</td>\n",
       "      <td>0.606800</td>\n",
       "      <td>-0.794854</td>\n",
       "      <td>...</td>\n",
       "      <td>0</td>\n",
       "      <td>0</td>\n",
       "      <td>0</td>\n",
       "      <td>0</td>\n",
       "      <td>0</td>\n",
       "      <td>0</td>\n",
       "      <td>0</td>\n",
       "      <td>0</td>\n",
       "      <td>0</td>\n",
       "      <td>0</td>\n",
       "    </tr>\n",
       "    <tr>\n",
       "      <th>58481</th>\n",
       "      <td>0.707107</td>\n",
       "      <td>7.071068e-01</td>\n",
       "      <td>-0.968077</td>\n",
       "      <td>-0.250653</td>\n",
       "      <td>0.790946</td>\n",
       "      <td>0.611886</td>\n",
       "      <td>0.974928</td>\n",
       "      <td>-0.222521</td>\n",
       "      <td>0.812487</td>\n",
       "      <td>0.582979</td>\n",
       "      <td>...</td>\n",
       "      <td>0</td>\n",
       "      <td>0</td>\n",
       "      <td>0</td>\n",
       "      <td>1</td>\n",
       "      <td>0</td>\n",
       "      <td>0</td>\n",
       "      <td>0</td>\n",
       "      <td>0</td>\n",
       "      <td>0</td>\n",
       "      <td>0</td>\n",
       "    </tr>\n",
       "    <tr>\n",
       "      <th>14450</th>\n",
       "      <td>1.000000</td>\n",
       "      <td>6.123234e-17</td>\n",
       "      <td>-0.998717</td>\n",
       "      <td>-0.050649</td>\n",
       "      <td>-0.991114</td>\n",
       "      <td>-0.133015</td>\n",
       "      <td>-0.974928</td>\n",
       "      <td>-0.222521</td>\n",
       "      <td>-0.978556</td>\n",
       "      <td>-0.205979</td>\n",
       "      <td>...</td>\n",
       "      <td>0</td>\n",
       "      <td>0</td>\n",
       "      <td>0</td>\n",
       "      <td>0</td>\n",
       "      <td>0</td>\n",
       "      <td>0</td>\n",
       "      <td>0</td>\n",
       "      <td>0</td>\n",
       "      <td>0</td>\n",
       "      <td>0</td>\n",
       "    </tr>\n",
       "    <tr>\n",
       "      <th>3416</th>\n",
       "      <td>0.866025</td>\n",
       "      <td>-5.000000e-01</td>\n",
       "      <td>0.937752</td>\n",
       "      <td>0.347305</td>\n",
       "      <td>0.594727</td>\n",
       "      <td>0.803928</td>\n",
       "      <td>0.000000</td>\n",
       "      <td>1.000000</td>\n",
       "      <td>0.652822</td>\n",
       "      <td>0.757511</td>\n",
       "      <td>...</td>\n",
       "      <td>0</td>\n",
       "      <td>0</td>\n",
       "      <td>1</td>\n",
       "      <td>0</td>\n",
       "      <td>0</td>\n",
       "      <td>0</td>\n",
       "      <td>0</td>\n",
       "      <td>0</td>\n",
       "      <td>0</td>\n",
       "      <td>0</td>\n",
       "    </tr>\n",
       "    <tr>\n",
       "      <th>19810</th>\n",
       "      <td>0.258819</td>\n",
       "      <td>9.659258e-01</td>\n",
       "      <td>0.937752</td>\n",
       "      <td>0.347305</td>\n",
       "      <td>0.425000</td>\n",
       "      <td>-0.905193</td>\n",
       "      <td>0.974928</td>\n",
       "      <td>-0.222521</td>\n",
       "      <td>0.403123</td>\n",
       "      <td>-0.915146</td>\n",
       "      <td>...</td>\n",
       "      <td>0</td>\n",
       "      <td>0</td>\n",
       "      <td>0</td>\n",
       "      <td>0</td>\n",
       "      <td>0</td>\n",
       "      <td>0</td>\n",
       "      <td>0</td>\n",
       "      <td>0</td>\n",
       "      <td>0</td>\n",
       "      <td>0</td>\n",
       "    </tr>\n",
       "  </tbody>\n",
       "</table>\n",
       "<p>5 rows × 34 columns</p>\n",
       "</div>"
      ]
     },
     "metadata": {},
     "execution_count": 567
    }
   ],
   "metadata": {}
  },
  {
   "cell_type": "code",
   "execution_count": 568,
   "source": [
    "boost = xgb.XGBClassifier(use_label_encoder=False, objective=\"binary:logistic\",\n",
    "    n_estimators=1000,\n",
    "    max_depth=3,\n",
    "    learning_rate=0.1,\n",
    "    scale_pos_weight=80,\n",
    "    importance_type='total_gain',\n",
    "    random_state=RANDOM_STATE)\n",
    "boost.fit(X_train, y_train)"
   ],
   "outputs": [
    {
     "output_type": "stream",
     "name": "stdout",
     "text": [
      "[15:44:28] WARNING: /tmp/build/80754af9/xgboost-split_1619724447847/work/src/learner.cc:1061: Starting in XGBoost 1.3.0, the default evaluation metric used with the objective 'binary:logistic' was changed from 'error' to 'logloss'. Explicitly set eval_metric if you'd like to restore the old behavior.\n"
     ]
    },
    {
     "output_type": "execute_result",
     "data": {
      "text/plain": [
       "XGBClassifier(base_score=0.5, booster='gbtree', colsample_bylevel=1,\n",
       "              colsample_bynode=1, colsample_bytree=1, gamma=0, gpu_id=-1,\n",
       "              importance_type='total_gain', interaction_constraints='',\n",
       "              learning_rate=0.1, max_delta_step=0, max_depth=3,\n",
       "              min_child_weight=1, missing=nan, monotone_constraints='()',\n",
       "              n_estimators=1000, n_jobs=12, num_parallel_tree=1,\n",
       "              random_state=123, reg_alpha=0, reg_lambda=1, scale_pos_weight=80,\n",
       "              subsample=1, tree_method='exact', use_label_encoder=False,\n",
       "              validate_parameters=1, verbosity=None)"
      ]
     },
     "metadata": {},
     "execution_count": 568
    }
   ],
   "metadata": {}
  },
  {
   "cell_type": "code",
   "execution_count": 569,
   "source": [
    "boost.save_model(\"boost_model.json\")"
   ],
   "outputs": [],
   "metadata": {}
  },
  {
   "cell_type": "code",
   "execution_count": 536,
   "source": [
    "boost.feature_importances_"
   ],
   "outputs": [
    {
     "output_type": "execute_result",
     "data": {
      "text/plain": [
       "array([0.11759345, 0.09091716, 0.03634458, 0.03339631, 0.02023849,\n",
       "       0.00819576, 0.02029636, 0.00842122, 0.2651978 , 0.27551964,\n",
       "       0.00688711, 0.00564372, 0.00303866, 0.00461531, 0.00570828,\n",
       "       0.01004928, 0.00359507, 0.00735767, 0.01087043, 0.00663132,\n",
       "       0.00411851, 0.01642257, 0.00564882, 0.00982011, 0.00492709,\n",
       "       0.00353016, 0.        , 0.00744674, 0.00379057, 0.00377771],\n",
       "      dtype=float32)"
      ]
     },
     "metadata": {},
     "execution_count": 536
    }
   ],
   "metadata": {}
  },
  {
   "cell_type": "code",
   "execution_count": 570,
   "source": [
    "boost.get_booster().feature_names"
   ],
   "outputs": [
    {
     "output_type": "execute_result",
     "data": {
      "text/plain": [
       "['hourx',\n",
       " 'houry',\n",
       " 'dayx',\n",
       " 'dayy',\n",
       " 'DoYx',\n",
       " 'DoYy',\n",
       " 'DoWx',\n",
       " 'DoWy',\n",
       " 'weekx',\n",
       " 'weeky',\n",
       " 'monthx',\n",
       " 'monthy',\n",
       " 'closest_stn',\n",
       " 'closest_light',\n",
       " 'cluster_4',\n",
       " 'cluster_15',\n",
       " 'cluster_10',\n",
       " 'cluster_9',\n",
       " 'cluster_11',\n",
       " 'cluster_7',\n",
       " 'cluster_0',\n",
       " 'cluster_8',\n",
       " 'cluster_18',\n",
       " 'cluster_13',\n",
       " 'cluster_6',\n",
       " 'cluster_3',\n",
       " 'cluster_12',\n",
       " 'cluster_16',\n",
       " 'cluster_14',\n",
       " 'cluster_1',\n",
       " 'cluster_19',\n",
       " 'cluster_2',\n",
       " 'cluster_17',\n",
       " 'cluster_5']"
      ]
     },
     "metadata": {},
     "execution_count": 570
    }
   ],
   "metadata": {}
  },
  {
   "cell_type": "code",
   "execution_count": null,
   "source": [
    "cv = GridSearchCV(boost,\n",
    "    param_grid={'max_depth':[2,3],\n",
    "            'learning_rate':[ 0.1, 0.05],\n",
    "            'scale_pos_weight':[80, 100]},\n",
    "    scoring='roc_auc'\n",
    "    )\n",
    "cv.fit(X_train, y_train)"
   ],
   "outputs": [],
   "metadata": {}
  },
  {
   "cell_type": "code",
   "execution_count": 515,
   "source": [
    "cv.best_params_"
   ],
   "outputs": [
    {
     "output_type": "execute_result",
     "data": {
      "text/plain": [
       "{'learning_rate': 0.1, 'max_depth': 3, 'scale_pos_weight': 80}"
      ]
     },
     "metadata": {},
     "execution_count": 515
    }
   ],
   "metadata": {}
  },
  {
   "cell_type": "code",
   "execution_count": 516,
   "source": [
    "cv.best_score_"
   ],
   "outputs": [
    {
     "output_type": "execute_result",
     "data": {
      "text/plain": [
       "0.5498523637691932"
      ]
     },
     "metadata": {},
     "execution_count": 516
    }
   ],
   "metadata": {}
  },
  {
   "cell_type": "code",
   "execution_count": 575,
   "source": [
    "boost_train_pred_proba = boost.predict_proba(X_train)[:,1]\n",
    "get_model_metrics(y_train, boost_train_pred_proba, .35)"
   ],
   "outputs": [
    {
     "output_type": "stream",
     "name": "stdout",
     "text": [
      "---Confusion Matrix---\n",
      "[[TN  FP]\n",
      "[FN  TP]]\n",
      "[[40447  8088]\n",
      " [    0   512]]\n",
      "---   ---\n",
      "Accuracy: 0.835\n",
      "AUC: 0.993\n",
      "Precision: 0.06\n",
      "Recall: 1.0\n"
     ]
    }
   ],
   "metadata": {}
  },
  {
   "cell_type": "code",
   "execution_count": 576,
   "source": [
    "boost_test_pred_proba = boost.predict_proba(X_test)[:,1]\n",
    "get_model_metrics(y_test, boost_test_pred_proba, .35)"
   ],
   "outputs": [
    {
     "output_type": "stream",
     "name": "stdout",
     "text": [
      "---Confusion Matrix---\n",
      "[[TN  FP]\n",
      "[FN  TP]]\n",
      "[[13349  2816]\n",
      " [  135    50]]\n",
      "---   ---\n",
      "Accuracy: 0.82\n",
      "AUC: 0.566\n",
      "Precision: 0.017\n",
      "Recall: 0.27\n"
     ]
    }
   ],
   "metadata": {}
  },
  {
   "cell_type": "code",
   "execution_count": null,
   "source": [],
   "outputs": [],
   "metadata": {}
  },
  {
   "cell_type": "code",
   "execution_count": 283,
   "source": [
    "log_reg = sm.Logit(y_train, X_train).fit()"
   ],
   "outputs": [
    {
     "output_type": "stream",
     "name": "stdout",
     "text": [
      "Optimization terminated successfully.\n",
      "         Current function value: 0.180977\n",
      "         Iterations 11\n"
     ]
    }
   ],
   "metadata": {}
  },
  {
   "cell_type": "code",
   "execution_count": 284,
   "source": [
    "log_reg.summary()"
   ],
   "outputs": [
    {
     "output_type": "execute_result",
     "data": {
      "text/plain": [
       "<class 'statsmodels.iolib.summary.Summary'>\n",
       "\"\"\"\n",
       "                           Logit Regression Results                           \n",
       "==============================================================================\n",
       "Dep. Variable:     injury_or_fatality   No. Observations:                49047\n",
       "Model:                          Logit   Df Residuals:                    49036\n",
       "Method:                           MLE   Df Model:                           10\n",
       "Date:                Thu, 19 Aug 2021   Pseudo R-squ.:                  -2.120\n",
       "Time:                        17:12:24   Log-Likelihood:                -8876.4\n",
       "converged:                       True   LL-Null:                       -2845.2\n",
       "Covariance Type:            nonrobust   LLR p-value:                     1.000\n",
       "=================================================================================\n",
       "                    coef    std err          z      P>|z|      [0.025      0.975]\n",
       "---------------------------------------------------------------------------------\n",
       "cluster          -0.1132      0.002    -57.435      0.000      -0.117      -0.109\n",
       "DoYx              1.6615      0.642      2.589      0.010       0.404       2.919\n",
       "DoYy            -30.5565      0.919    -33.251      0.000     -32.358     -28.755\n",
       "DoWx              0.0236      0.029      0.811      0.418      -0.034       0.081\n",
       "DoWy             -0.1718      0.029     -5.832      0.000      -0.230      -0.114\n",
       "weekx            -2.3387      0.631     -3.707      0.000      -3.575      -1.102\n",
       "weeky            30.0102      0.904     33.180      0.000      28.237      31.783\n",
       "monthx            0.6772      0.181      3.739      0.000       0.322       1.032\n",
       "monthy            0.8143      0.188      4.337      0.000       0.446       1.182\n",
       "closest_stn    -187.7864      3.215    -58.411      0.000    -194.088    -181.485\n",
       "closest_light   187.8000      3.215     58.412      0.000     181.498     194.101\n",
       "=================================================================================\n",
       "\n",
       "Possibly complete quasi-separation: A fraction 0.22 of observations can be\n",
       "perfectly predicted. This might indicate that there is complete\n",
       "quasi-separation. In this case some parameters will not be identified.\n",
       "\"\"\""
      ],
      "text/html": [
       "<table class=\"simpletable\">\n",
       "<caption>Logit Regression Results</caption>\n",
       "<tr>\n",
       "  <th>Dep. Variable:</th>   <td>injury_or_fatality</td> <th>  No. Observations:  </th>  <td> 49047</td> \n",
       "</tr>\n",
       "<tr>\n",
       "  <th>Model:</th>                  <td>Logit</td>       <th>  Df Residuals:      </th>  <td> 49036</td> \n",
       "</tr>\n",
       "<tr>\n",
       "  <th>Method:</th>                  <td>MLE</td>        <th>  Df Model:          </th>  <td>    10</td> \n",
       "</tr>\n",
       "<tr>\n",
       "  <th>Date:</th>             <td>Thu, 19 Aug 2021</td>  <th>  Pseudo R-squ.:     </th>  <td>-2.120</td> \n",
       "</tr>\n",
       "<tr>\n",
       "  <th>Time:</th>                 <td>17:12:24</td>      <th>  Log-Likelihood:    </th> <td> -8876.4</td>\n",
       "</tr>\n",
       "<tr>\n",
       "  <th>converged:</th>              <td>True</td>        <th>  LL-Null:           </th> <td> -2845.2</td>\n",
       "</tr>\n",
       "<tr>\n",
       "  <th>Covariance Type:</th>      <td>nonrobust</td>     <th>  LLR p-value:       </th>  <td> 1.000</td> \n",
       "</tr>\n",
       "</table>\n",
       "<table class=\"simpletable\">\n",
       "<tr>\n",
       "        <td></td>           <th>coef</th>     <th>std err</th>      <th>z</th>      <th>P>|z|</th>  <th>[0.025</th>    <th>0.975]</th>  \n",
       "</tr>\n",
       "<tr>\n",
       "  <th>cluster</th>       <td>   -0.1132</td> <td>    0.002</td> <td>  -57.435</td> <td> 0.000</td> <td>   -0.117</td> <td>   -0.109</td>\n",
       "</tr>\n",
       "<tr>\n",
       "  <th>DoYx</th>          <td>    1.6615</td> <td>    0.642</td> <td>    2.589</td> <td> 0.010</td> <td>    0.404</td> <td>    2.919</td>\n",
       "</tr>\n",
       "<tr>\n",
       "  <th>DoYy</th>          <td>  -30.5565</td> <td>    0.919</td> <td>  -33.251</td> <td> 0.000</td> <td>  -32.358</td> <td>  -28.755</td>\n",
       "</tr>\n",
       "<tr>\n",
       "  <th>DoWx</th>          <td>    0.0236</td> <td>    0.029</td> <td>    0.811</td> <td> 0.418</td> <td>   -0.034</td> <td>    0.081</td>\n",
       "</tr>\n",
       "<tr>\n",
       "  <th>DoWy</th>          <td>   -0.1718</td> <td>    0.029</td> <td>   -5.832</td> <td> 0.000</td> <td>   -0.230</td> <td>   -0.114</td>\n",
       "</tr>\n",
       "<tr>\n",
       "  <th>weekx</th>         <td>   -2.3387</td> <td>    0.631</td> <td>   -3.707</td> <td> 0.000</td> <td>   -3.575</td> <td>   -1.102</td>\n",
       "</tr>\n",
       "<tr>\n",
       "  <th>weeky</th>         <td>   30.0102</td> <td>    0.904</td> <td>   33.180</td> <td> 0.000</td> <td>   28.237</td> <td>   31.783</td>\n",
       "</tr>\n",
       "<tr>\n",
       "  <th>monthx</th>        <td>    0.6772</td> <td>    0.181</td> <td>    3.739</td> <td> 0.000</td> <td>    0.322</td> <td>    1.032</td>\n",
       "</tr>\n",
       "<tr>\n",
       "  <th>monthy</th>        <td>    0.8143</td> <td>    0.188</td> <td>    4.337</td> <td> 0.000</td> <td>    0.446</td> <td>    1.182</td>\n",
       "</tr>\n",
       "<tr>\n",
       "  <th>closest_stn</th>   <td> -187.7864</td> <td>    3.215</td> <td>  -58.411</td> <td> 0.000</td> <td> -194.088</td> <td> -181.485</td>\n",
       "</tr>\n",
       "<tr>\n",
       "  <th>closest_light</th> <td>  187.8000</td> <td>    3.215</td> <td>   58.412</td> <td> 0.000</td> <td>  181.498</td> <td>  194.101</td>\n",
       "</tr>\n",
       "</table><br/><br/>Possibly complete quasi-separation: A fraction 0.22 of observations can be<br/>perfectly predicted. This might indicate that there is complete<br/>quasi-separation. In this case some parameters will not be identified."
      ]
     },
     "metadata": {},
     "execution_count": 284
    }
   ],
   "metadata": {}
  },
  {
   "cell_type": "code",
   "execution_count": 85,
   "source": [
    "#training w/ bagging\n",
    "RANDOM_STATE = 111\n",
    "startingX = 13\n",
    "y_col = 'injury_or_fatality'\n",
    "X = fire_inc.iloc[:, startingX:]\n",
    "Y = fire_inc[y_col]\n",
    "X_train, X_test, Y_train, Y_test = train_test_split(X, Y, random_state=RANDOM_STATE)\n",
    "\n",
    "batches = 1000\n",
    "batchSize = int(.1 * len(X_train) )\n",
    "recallThreshold = 0.5\n",
    "score = 0\n",
    "models = []\n",
    "for batch in range(0,batches):\n",
    "    X_batch_train, X_batch_test, Y_batch_train, Y_batch_test = train_test_split(\n",
    "                                                                    X_train,\n",
    "                                                                    Y_train,\n",
    "                                                                    train_size=batchSize,\n",
    "                                                                    test_size=batchSize)  #no random state so we get diff random batch\n",
    "    C = 1\n",
    "    linModel = LogisticRegression(random_state=RANDOM_STATE, C=C, penalty='l2', solver='liblinear', class_weight='balanced')\n",
    "    linModel.fit(X_batch_train, Y_batch_train)\n",
    "    \n",
    "    Y_batch_pred = linModel.predict(X_batch_test)\n",
    "    recall = metrics.recall_score(Y_batch_test, Y_batch_pred)\n",
    "\n",
    "    #want to maximize recall to find all injuries\n",
    "    if recall >= recallThreshold:\n",
    "        models.append(linModel)"
   ],
   "outputs": [],
   "metadata": {}
  },
  {
   "cell_type": "code",
   "execution_count": 151,
   "source": [
    "RANDOM_STATE = 111\n",
    "startingX = 13\n",
    "\n",
    "y_col = 'injury_or_fatality'\n",
    "pos = fire_inc[fire_inc[ycol] == 1]\n",
    "neg = fire_inc[fire_inc[ycol] == 0]\n",
    "X_pos = pos.iloc[:,startingX:]\n",
    "Y_pos = pos[y_col]\n",
    "X_neg = neg.iloc[:,startingX:]\n",
    "Y_neg = neg[y_col]\n",
    "X_train_pos, X_test_pos, Y_train_pos, Y_test_pos = train_test_split(X_pos, Y_pos, random_state=RANDOM_STATE)\n",
    "X_train_neg, X_test_neg, Y_train_neg, Y_test_neg = train_test_split(X_neg, Y_neg, random_state=RANDOM_STATE)\n",
    "\n",
    "batchSize = len(X_train_pos)\n",
    "batches = 10000\n",
    "score = 0\n",
    "models = []\n",
    "for batch in range(0,batches):\n",
    "    X_train_neg_batch, X_test_neg_batch, Y_train_neg_batch, Y_test_neg_batch = train_test_split(\n",
    "                                                                                X_train_neg,\n",
    "                                                                                Y_train_neg,\n",
    "                                                                                train_size=batchSize,                                                                                                                                                  test_size=batchSize)\n",
    "    X_batch = X_train_pos.append(X_train_neg_batch)\n",
    "    Y_batch = Y_train_pos.append(Y_train_neg_batch)\n",
    "    \n",
    "    C = 1\n",
    "    linModel = LogisticRegression(random_state=RANDOM_STATE, C=C, penalty='l2', solver='liblinear')\n",
    "    linModel.fit(X_batch, Y_batch)\n",
    "    \n",
    "    X_test_batch = X_train_pos.append(X_test_neg_batch)\n",
    "    Y_test_batch = Y_train_pos.append(Y_test_neg_batch)\n",
    "    score = linModel.score(X_test_batch, Y_test_batch)\n",
    "\n",
    "    if score >= .55:\n",
    "        models.append(linModel)\n",
    "\n",
    "X_test = X_test_pos.append(X_test_neg)\n",
    "Y_test = Y_test_pos.append(Y_test_neg)\n",
    "X_train = X_train_pos.append(X_train_neg)\n",
    "Y_train = Y_train_pos.append(Y_train_neg)"
   ],
   "outputs": [],
   "metadata": {}
  },
  {
   "cell_type": "code",
   "execution_count": 153,
   "source": [
    "#combine predictions from all models and avg probabilities\n",
    "Y_pred = pd.DataFrame(Y_test)\n",
    "cols = []\n",
    "for idx, model in enumerate(models):\n",
    "    pred = model.predict_proba(X_test)[:,1]\n",
    "    Y_pred['model' + str(idx)] = pred\n",
    "    cols.append('model' + str(idx))\n",
    "\n",
    "Y_pred['pred'] = Y_pred[cols].mean(axis=1)\n",
    "threshold = .5\n",
    "true_pos = len(Y_pred[(Y_pred['injury_or_fatality'] == 1) & (Y_pred['pred'] >= threshold)])\n",
    "true_neg = len(Y_pred[(Y_pred['injury_or_fatality'] == 0) & (Y_pred['pred'] < threshold)])\n",
    "false_pos = len(Y_pred[(Y_pred['injury_or_fatality'] == 0) & (Y_pred['pred'] >= threshold)])\n",
    "false_neg = len(Y_pred[(Y_pred['injury_or_fatality'] == 1) & (Y_pred['pred'] < threshold)])\n",
    "conf_matrix = np.array([[true_neg, false_pos], [false_neg, true_pos]])\n",
    "recall = true_pos / ( true_pos + false_neg )\n",
    "print(conf_matrix)\n",
    "print(recall)"
   ],
   "outputs": [
    {
     "output_type": "stream",
     "name": "stdout",
     "text": [
      "[[9132 7043]\n",
      " [  69  106]]\n",
      "0.6057142857142858\n"
     ]
    }
   ],
   "metadata": {}
  },
  {
   "cell_type": "code",
   "execution_count": 66,
   "source": [
    "models[1].coef_"
   ],
   "outputs": [
    {
     "output_type": "execute_result",
     "data": {
      "text/plain": [
       "array([[ 0.6641071 , -0.35628719, -0.22662935,  0.10758354, -1.74409824,\n",
       "         0.97414434,  0.0245776 , -0.2384062 ,  0.24592246,  0.44752147,\n",
       "         1.43156447, -1.9779298 ,  0.45479227,  0.92237486, -2.92432499,\n",
       "         1.39585009,  0.69807129,  0.3981502 ,  1.24850914, -0.8653115 ,\n",
       "         0.68643348, -2.32200818, -0.10862503,  1.00827726,  0.4810092 ,\n",
       "        -3.15185154,  0.30086039,  0.67322927, -0.20336876,  0.22082971,\n",
       "         0.32348243,  0.27459983]])"
      ]
     },
     "metadata": {},
     "execution_count": 66
    }
   ],
   "metadata": {}
  },
  {
   "cell_type": "code",
   "execution_count": 67,
   "source": [
    "X.columns"
   ],
   "outputs": [
    {
     "output_type": "execute_result",
     "data": {
      "text/plain": [
       "Index(['hourx', 'houry', 'dayx', 'dayy', 'DoYx', 'DoYy', 'DoWx', 'DoWy',\n",
       "       'weekx', 'weeky', 'monthx', 'monthy', 'cluster_0', 'cluster_1',\n",
       "       'cluster_2', 'cluster_3', 'cluster_4', 'cluster_5', 'cluster_6',\n",
       "       'cluster_7', 'cluster_8', 'cluster_9', 'cluster_10', 'cluster_11',\n",
       "       'cluster_12', 'cluster_13', 'cluster_14', 'cluster_15', 'cluster_16',\n",
       "       'cluster_17', 'cluster_18', 'cluster_19'],\n",
       "      dtype='object')"
      ]
     },
     "metadata": {},
     "execution_count": 67
    }
   ],
   "metadata": {}
  },
  {
   "cell_type": "code",
   "execution_count": 499,
   "source": [
    "##single logisitic regression w/o bagging\n",
    "C = 10\n",
    "linModel = LogisticRegression(random_state=RANDOM_STATE, C=C, penalty='l2', solver='liblinear', class_weight='balanced')\n",
    "linModel.fit(X_train, Y_train)\n",
    "Y_pred = linModel.predict(X_test)\n",
    "\n",
    "## [[TN  FP]\n",
    "#   [FN  TP]]\n",
    "get_model_metrics(y_train, linModel.predict_proba(X_train)[:,1])\n",
    "get_model_metrics(y_test, linModel.predict_proba(X_test)[:,1], .55)"
   ],
   "outputs": [
    {
     "output_type": "stream",
     "name": "stdout",
     "text": [
      "---Confusion Matrix---\n",
      "[[TN  FP]\n",
      "[FN  TP]]\n",
      "[[25726 22809]\n",
      " [  239   273]]\n",
      "---   ---\n",
      "Accuracy: 0.53\n",
      "AUC: 0.544\n",
      "Precision: 0.012\n",
      "Recall: 0.533\n",
      "---Confusion Matrix---\n",
      "[[TN  FP]\n",
      "[FN  TP]]\n",
      "[[14970  1195]\n",
      " [  165    20]]\n",
      "---   ---\n",
      "Accuracy: 0.917\n",
      "AUC: 0.5\n",
      "Precision: 0.016\n",
      "Recall: 0.108\n"
     ]
    }
   ],
   "metadata": {}
  },
  {
   "cell_type": "code",
   "execution_count": 275,
   "source": [
    "def get_model_metrics(y_true, y_pred_proba, threshold=0.5):\n",
    "    y_pred = (y_pred_proba > threshold).astype(int)\n",
    "    print(\"---Confusion Matrix---\")\n",
    "    print(\"\"\"[[TN  FP]\\n[FN  TP]]\"\"\")\n",
    "    print(metrics.confusion_matrix(y_true, y_pred))\n",
    "    print(\"---   ---\")\n",
    "    print(f'Accuracy: {round(metrics.accuracy_score(y_true, y_pred),3)}')\n",
    "    print(f'AUC: {round(metrics.roc_auc_score(y_true, y_pred_proba),3)}')\n",
    "    print(f'Precision: {round(metrics.precision_score(y_true, y_pred),3)}')\n",
    "    print(f'Recall: {round(metrics.recall_score(y_true, y_pred),3)}') "
   ],
   "outputs": [],
   "metadata": {}
  },
  {
   "cell_type": "code",
   "execution_count": 113,
   "source": [
    "(np.array([.4, .6]) > .5).astype(int)"
   ],
   "outputs": [
    {
     "output_type": "execute_result",
     "data": {
      "text/plain": [
       "array([0, 1])"
      ]
     },
     "metadata": {},
     "execution_count": 113
    }
   ],
   "metadata": {}
  },
  {
   "cell_type": "code",
   "execution_count": null,
   "source": [],
   "outputs": [],
   "metadata": {}
  },
  {
   "cell_type": "code",
   "execution_count": null,
   "source": [],
   "outputs": [],
   "metadata": {}
  }
 ],
 "metadata": {
  "kernelspec": {
   "name": "python3",
   "display_name": "Python 3.8.2 64-bit ('geo': conda)"
  },
  "language_info": {
   "codemirror_mode": {
    "name": "ipython",
    "version": 3
   },
   "file_extension": ".py",
   "mimetype": "text/x-python",
   "name": "python",
   "nbconvert_exporter": "python",
   "pygments_lexer": "ipython3",
   "version": "3.8.2"
  },
  "interpreter": {
   "hash": "6474c242f4b8706d918f54bc2357b8276d4d78591a11991ed513088f52a74687"
  }
 },
 "nbformat": 4,
 "nbformat_minor": 2
}