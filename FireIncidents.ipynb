{
 "cells": [
  {
   "cell_type": "code",
   "execution_count": 561,
   "source": [
    "import pandas as pd\n",
    "import numpy as np\n",
    "import sklearn\n",
    "from sklearn.cluster import DBSCAN\n",
    "from sklearn import metrics\n",
    "from sklearn.cluster import KMeans\n",
    "from sklearn.linear_model import LinearRegression,LogisticRegression\n",
    "from sklearn.preprocessing import StandardScaler, OneHotEncoder\n",
    "from sklearn.model_selection import train_test_split, GridSearchCV\n",
    "from sklearn.dummy import DummyClassifier\n",
    "from datetime import datetime\n",
    "import matplotlib.pyplot as plt\n",
    "import matplotlib.cm as cm\n",
    "import seaborn as sns\n",
    "import os\n",
    "from shapely.geometry import MultiPoint\n",
    "from shapely.geometry import Polygon\n",
    "import sys\n",
    "import plotly.express as px\n",
    "import geopandas as gpd\n",
    "import plotly\n",
    "import plotly.graph_objects as go\n",
    "from scipy.spatial import distance\n",
    "import statsmodels.api as sm\n",
    "import xgboost as xgb\n",
    "from urllib.request import urlopen\n",
    "import json\n",
    "import pickle\n",
    "from joblib import dump, load"
   ],
   "outputs": [],
   "metadata": {
    "scrolled": true
   }
  },
  {
   "cell_type": "code",
   "execution_count": 45,
   "source": [
    "# load data\n",
    "RANDOM_STATE = 123\n",
    "fire_df = pd.read_csv(r\"Fire_Incidents.csv\")\n",
    "green_light = pd.read_csv(r\"Project_Green_Light_Locations.csv\")\n",
    "green_light['live_date'] = pd.to_datetime(green_light['live_date'])\n",
    "dfd_locations = pd.read_csv(r\"DFD_Fire_Station_Locations.csv\")"
   ],
   "outputs": [],
   "metadata": {}
  },
  {
   "cell_type": "code",
   "execution_count": 3,
   "source": [
    "fire_df.head()"
   ],
   "outputs": [
    {
     "output_type": "execute_result",
     "data": {
      "text/plain": [
       "  exposure   incident_address incident_number  \\\n",
       "0       No   2409 TOWNSEND ST      16-0030216   \n",
       "1       No  7874 FRONTENAC ST      16-0030244   \n",
       "2       No  1881 E GRAND BLVD      16-0030266   \n",
       "3       No    1265 MELDRUM ST      16-0030301   \n",
       "4       No    17154 LAMONT ST      16-0031935   \n",
       "\n",
       "                                  incident_type_desc property_use engine_area  \\\n",
       "0  Building fire                                 ...          NaN         E09   \n",
       "1  Flood assessment                              ...          NaN         E09   \n",
       "2  Gas leak (natural gas or LPG)                 ...          NaN         E09   \n",
       "3  Swift water rescue                            ...          NaN         E09   \n",
       "4  Building fire                                 ...          NaN         E44   \n",
       "\n",
       "            call_datetime       dispatch_datetime        arrival_datetime  \\\n",
       "0  2016/09/29 11:46:41+00  2016/09/29 11:49:17+00  2016/09/29 11:55:11+00   \n",
       "1  2016/09/29 13:59:31+00  2016/09/29 14:06:17+00  2016/09/29 14:18:54+00   \n",
       "2  2016/09/29 16:19:25+00  2016/09/29 16:21:32+00  2016/09/29 16:30:24+00   \n",
       "3  2016/09/29 20:57:20+00  2016/09/29 21:00:09+00  2016/09/29 21:04:30+00   \n",
       "4  2016/10/12 00:00:14+00  2016/10/12 00:03:20+00  2016/10/12 00:07:08+00   \n",
       "\n",
       "         cleared_datetime  civilian_injury  civilian_fatality  fire_injury  \\\n",
       "0  2016/09/29 12:54:39+00                0                  0            0   \n",
       "1  2016/09/29 14:26:22+00                0                  0            0   \n",
       "2  2016/09/29 16:35:53+00                0                  0            0   \n",
       "3  2016/09/29 21:17:44+00                0                  0            0   \n",
       "4  2016/10/12 02:21:52+00                0                  0            0   \n",
       "\n",
       "   fire_fatality structure_status          x          y  oid  geom  \n",
       "0              0              NaN -83.005263  42.359048    1   NaN  \n",
       "1              0              NaN -83.028054  42.387677    2   NaN  \n",
       "2              0              NaN -83.038307  42.374396    3   NaN  \n",
       "3              0              NaN -83.011810  42.348770    4   NaN  \n",
       "4              0              NaN -83.053816  42.419416    5   NaN  "
      ],
      "text/html": [
       "<div>\n",
       "<style scoped>\n",
       "    .dataframe tbody tr th:only-of-type {\n",
       "        vertical-align: middle;\n",
       "    }\n",
       "\n",
       "    .dataframe tbody tr th {\n",
       "        vertical-align: top;\n",
       "    }\n",
       "\n",
       "    .dataframe thead th {\n",
       "        text-align: right;\n",
       "    }\n",
       "</style>\n",
       "<table border=\"1\" class=\"dataframe\">\n",
       "  <thead>\n",
       "    <tr style=\"text-align: right;\">\n",
       "      <th></th>\n",
       "      <th>exposure</th>\n",
       "      <th>incident_address</th>\n",
       "      <th>incident_number</th>\n",
       "      <th>incident_type_desc</th>\n",
       "      <th>property_use</th>\n",
       "      <th>engine_area</th>\n",
       "      <th>call_datetime</th>\n",
       "      <th>dispatch_datetime</th>\n",
       "      <th>arrival_datetime</th>\n",
       "      <th>cleared_datetime</th>\n",
       "      <th>civilian_injury</th>\n",
       "      <th>civilian_fatality</th>\n",
       "      <th>fire_injury</th>\n",
       "      <th>fire_fatality</th>\n",
       "      <th>structure_status</th>\n",
       "      <th>x</th>\n",
       "      <th>y</th>\n",
       "      <th>oid</th>\n",
       "      <th>geom</th>\n",
       "    </tr>\n",
       "  </thead>\n",
       "  <tbody>\n",
       "    <tr>\n",
       "      <th>0</th>\n",
       "      <td>No</td>\n",
       "      <td>2409 TOWNSEND ST</td>\n",
       "      <td>16-0030216</td>\n",
       "      <td>Building fire                                 ...</td>\n",
       "      <td>NaN</td>\n",
       "      <td>E09</td>\n",
       "      <td>2016/09/29 11:46:41+00</td>\n",
       "      <td>2016/09/29 11:49:17+00</td>\n",
       "      <td>2016/09/29 11:55:11+00</td>\n",
       "      <td>2016/09/29 12:54:39+00</td>\n",
       "      <td>0</td>\n",
       "      <td>0</td>\n",
       "      <td>0</td>\n",
       "      <td>0</td>\n",
       "      <td>NaN</td>\n",
       "      <td>-83.005263</td>\n",
       "      <td>42.359048</td>\n",
       "      <td>1</td>\n",
       "      <td>NaN</td>\n",
       "    </tr>\n",
       "    <tr>\n",
       "      <th>1</th>\n",
       "      <td>No</td>\n",
       "      <td>7874 FRONTENAC ST</td>\n",
       "      <td>16-0030244</td>\n",
       "      <td>Flood assessment                              ...</td>\n",
       "      <td>NaN</td>\n",
       "      <td>E09</td>\n",
       "      <td>2016/09/29 13:59:31+00</td>\n",
       "      <td>2016/09/29 14:06:17+00</td>\n",
       "      <td>2016/09/29 14:18:54+00</td>\n",
       "      <td>2016/09/29 14:26:22+00</td>\n",
       "      <td>0</td>\n",
       "      <td>0</td>\n",
       "      <td>0</td>\n",
       "      <td>0</td>\n",
       "      <td>NaN</td>\n",
       "      <td>-83.028054</td>\n",
       "      <td>42.387677</td>\n",
       "      <td>2</td>\n",
       "      <td>NaN</td>\n",
       "    </tr>\n",
       "    <tr>\n",
       "      <th>2</th>\n",
       "      <td>No</td>\n",
       "      <td>1881 E GRAND BLVD</td>\n",
       "      <td>16-0030266</td>\n",
       "      <td>Gas leak (natural gas or LPG)                 ...</td>\n",
       "      <td>NaN</td>\n",
       "      <td>E09</td>\n",
       "      <td>2016/09/29 16:19:25+00</td>\n",
       "      <td>2016/09/29 16:21:32+00</td>\n",
       "      <td>2016/09/29 16:30:24+00</td>\n",
       "      <td>2016/09/29 16:35:53+00</td>\n",
       "      <td>0</td>\n",
       "      <td>0</td>\n",
       "      <td>0</td>\n",
       "      <td>0</td>\n",
       "      <td>NaN</td>\n",
       "      <td>-83.038307</td>\n",
       "      <td>42.374396</td>\n",
       "      <td>3</td>\n",
       "      <td>NaN</td>\n",
       "    </tr>\n",
       "    <tr>\n",
       "      <th>3</th>\n",
       "      <td>No</td>\n",
       "      <td>1265 MELDRUM ST</td>\n",
       "      <td>16-0030301</td>\n",
       "      <td>Swift water rescue                            ...</td>\n",
       "      <td>NaN</td>\n",
       "      <td>E09</td>\n",
       "      <td>2016/09/29 20:57:20+00</td>\n",
       "      <td>2016/09/29 21:00:09+00</td>\n",
       "      <td>2016/09/29 21:04:30+00</td>\n",
       "      <td>2016/09/29 21:17:44+00</td>\n",
       "      <td>0</td>\n",
       "      <td>0</td>\n",
       "      <td>0</td>\n",
       "      <td>0</td>\n",
       "      <td>NaN</td>\n",
       "      <td>-83.011810</td>\n",
       "      <td>42.348770</td>\n",
       "      <td>4</td>\n",
       "      <td>NaN</td>\n",
       "    </tr>\n",
       "    <tr>\n",
       "      <th>4</th>\n",
       "      <td>No</td>\n",
       "      <td>17154 LAMONT ST</td>\n",
       "      <td>16-0031935</td>\n",
       "      <td>Building fire                                 ...</td>\n",
       "      <td>NaN</td>\n",
       "      <td>E44</td>\n",
       "      <td>2016/10/12 00:00:14+00</td>\n",
       "      <td>2016/10/12 00:03:20+00</td>\n",
       "      <td>2016/10/12 00:07:08+00</td>\n",
       "      <td>2016/10/12 02:21:52+00</td>\n",
       "      <td>0</td>\n",
       "      <td>0</td>\n",
       "      <td>0</td>\n",
       "      <td>0</td>\n",
       "      <td>NaN</td>\n",
       "      <td>-83.053816</td>\n",
       "      <td>42.419416</td>\n",
       "      <td>5</td>\n",
       "      <td>NaN</td>\n",
       "    </tr>\n",
       "  </tbody>\n",
       "</table>\n",
       "</div>"
      ]
     },
     "metadata": {},
     "execution_count": 3
    }
   ],
   "metadata": {}
  },
  {
   "cell_type": "code",
   "execution_count": 38,
   "source": [
    "# clean/transform data\n",
    "# long = x, lat = y\n",
    "fire_inc = fire_df.copy()\n",
    "fire_inc['call_datetime'] = pd.to_datetime(fire_inc['call_datetime'])\n",
    "fire_inc['injury_or_fatality'] = fire_inc.apply(\n",
    "                                    lambda x: 1 if (x['civilian_injury'] > 0) | \n",
    "                                    (x['civilian_fatality'] > 0) | (x['fire_injury'] > 0) |\n",
    "                                    (x['fire_fatality'] > 0) else 0, axis=1)\n",
    "\n",
    "fire_inc.dropna(subset=['x', 'y'], inplace=True)\n",
    "\n",
    "cols = ['injury_or_fatality','call_datetime', 'x', 'y']\n",
    "fire_inc = fire_inc[cols]"
   ],
   "outputs": [],
   "metadata": {}
  },
  {
   "cell_type": "code",
   "execution_count": null,
   "source": [
    "#update feature columns\n",
    "fire_inc['hour'] = fire_inc['call_datetime'].dt.hour\n",
    "fire_inc['day'] = fire_inc['call_datetime'].dt.day\n",
    "fire_inc['DoY'] = fire_inc['call_datetime'].dt.dayofyear\n",
    "fire_inc['DoW'] = fire_inc['call_datetime'].dt.dayofweek\n",
    "fire_inc['week'] = fire_inc['call_datetime'].dt.isocalendar().week\n",
    "fire_inc['month'] = fire_inc['call_datetime'].dt.month\n",
    "fire_inc['year'] = fire_inc['call_datetime'].dt.year\n",
    "fire_inc['yearMonth'] = fire_inc['year']*100 + fire_inc['month']\n",
    "fire_inc['weekend'] = fire_inc['DoW'].apply(\n",
    "    lambda x: 1 if (x == 0) | (x == 6) else 0)\n",
    "\n",
    "#filter to full years\n",
    "START = 2017\n",
    "END = 2019\n",
    "fire_inc = fire_inc[(fire_inc['year'] >= START) & (fire_inc['year'] <= END)]\n",
    "\n",
    "#use sin/cos functions to capture periodicity\n",
    "numPeriods = {'hour': 24, 'day': 31, 'DoY': 365, 'DoW': 7, 'week': 53, 'month': 12}\n",
    "for colName in ['hour','day','DoY','DoW','week','month']:\n",
    "    fire_inc[colName + 'x'] = np.sin(\n",
    "        2 * np.pi * fire_inc[colName] / numPeriods[colName])\n",
    "    fire_inc[colName + 'y'] = np.cos(\n",
    "        2 * np.pi * fire_inc[colName] / numPeriods[colName])\n",
    "\n",
    "fatal = fire_inc[fire_inc['injury_or_fatality'] == 1]\n",
    "dfs = {'fatal': fatal, 'all': fire_inc}"
   ],
   "outputs": [],
   "metadata": {}
  },
  {
   "cell_type": "code",
   "execution_count": 40,
   "source": [
    "##add closest fire station\n",
    "dfd_coords = np.array(list(zip(dfd_locations['X'], dfd_locations['Y'])))\n",
    "fire_inc['closest_stn'] = fire_inc.apply(\n",
    "    lambda x: distance.cdist(np.array([(x['x'], x['y'])]), dfd_coords).min(axis=1)[0], axis=1)"
   ],
   "outputs": [],
   "metadata": {}
  },
  {
   "cell_type": "code",
   "execution_count": 46,
   "source": [
    "green_light.head()"
   ],
   "outputs": [
    {
     "output_type": "execute_result",
     "data": {
      "text/plain": [
       "           X          Y                address business_name business_type  \\\n",
       "0 -83.199179  42.401723       15510 Fenkell St         Mobil        Retail   \n",
       "1 -83.159842  42.417175    8930 W McNichols Rd      Marathon        Retail   \n",
       "2 -83.197639  42.386789  15439 Schoolcraft Ave         Citgo        Retail   \n",
       "3 -83.004221  42.434677      11603 E 7 Mile Rd        Sunoco        Retail   \n",
       "4 -82.959684  42.405842       10601 E Outer Dr            BP        Retail   \n",
       "\n",
       "   precinct                 live_date  ObjectId  \n",
       "0         8 2016-01-01 05:00:00+00:00         1  \n",
       "1        12 2016-01-01 05:00:00+00:00         2  \n",
       "2         2 2016-01-01 05:00:00+00:00         3  \n",
       "3         9 2016-01-01 05:00:00+00:00         4  \n",
       "4         9 2016-01-01 05:00:00+00:00         5  "
      ],
      "text/html": [
       "<div>\n",
       "<style scoped>\n",
       "    .dataframe tbody tr th:only-of-type {\n",
       "        vertical-align: middle;\n",
       "    }\n",
       "\n",
       "    .dataframe tbody tr th {\n",
       "        vertical-align: top;\n",
       "    }\n",
       "\n",
       "    .dataframe thead th {\n",
       "        text-align: right;\n",
       "    }\n",
       "</style>\n",
       "<table border=\"1\" class=\"dataframe\">\n",
       "  <thead>\n",
       "    <tr style=\"text-align: right;\">\n",
       "      <th></th>\n",
       "      <th>X</th>\n",
       "      <th>Y</th>\n",
       "      <th>address</th>\n",
       "      <th>business_name</th>\n",
       "      <th>business_type</th>\n",
       "      <th>precinct</th>\n",
       "      <th>live_date</th>\n",
       "      <th>ObjectId</th>\n",
       "    </tr>\n",
       "  </thead>\n",
       "  <tbody>\n",
       "    <tr>\n",
       "      <th>0</th>\n",
       "      <td>-83.199179</td>\n",
       "      <td>42.401723</td>\n",
       "      <td>15510 Fenkell St</td>\n",
       "      <td>Mobil</td>\n",
       "      <td>Retail</td>\n",
       "      <td>8</td>\n",
       "      <td>2016-01-01 05:00:00+00:00</td>\n",
       "      <td>1</td>\n",
       "    </tr>\n",
       "    <tr>\n",
       "      <th>1</th>\n",
       "      <td>-83.159842</td>\n",
       "      <td>42.417175</td>\n",
       "      <td>8930 W McNichols Rd</td>\n",
       "      <td>Marathon</td>\n",
       "      <td>Retail</td>\n",
       "      <td>12</td>\n",
       "      <td>2016-01-01 05:00:00+00:00</td>\n",
       "      <td>2</td>\n",
       "    </tr>\n",
       "    <tr>\n",
       "      <th>2</th>\n",
       "      <td>-83.197639</td>\n",
       "      <td>42.386789</td>\n",
       "      <td>15439 Schoolcraft Ave</td>\n",
       "      <td>Citgo</td>\n",
       "      <td>Retail</td>\n",
       "      <td>2</td>\n",
       "      <td>2016-01-01 05:00:00+00:00</td>\n",
       "      <td>3</td>\n",
       "    </tr>\n",
       "    <tr>\n",
       "      <th>3</th>\n",
       "      <td>-83.004221</td>\n",
       "      <td>42.434677</td>\n",
       "      <td>11603 E 7 Mile Rd</td>\n",
       "      <td>Sunoco</td>\n",
       "      <td>Retail</td>\n",
       "      <td>9</td>\n",
       "      <td>2016-01-01 05:00:00+00:00</td>\n",
       "      <td>4</td>\n",
       "    </tr>\n",
       "    <tr>\n",
       "      <th>4</th>\n",
       "      <td>-82.959684</td>\n",
       "      <td>42.405842</td>\n",
       "      <td>10601 E Outer Dr</td>\n",
       "      <td>BP</td>\n",
       "      <td>Retail</td>\n",
       "      <td>9</td>\n",
       "      <td>2016-01-01 05:00:00+00:00</td>\n",
       "      <td>5</td>\n",
       "    </tr>\n",
       "  </tbody>\n",
       "</table>\n",
       "</div>"
      ]
     },
     "metadata": {},
     "execution_count": 46
    }
   ],
   "metadata": {}
  },
  {
   "cell_type": "code",
   "execution_count": 47,
   "source": [
    "##use function to find nearest greenlight - we need to filter lights to those that were live before incident\n",
    "def find_closest_green_light(inc_df, green_light_df):\n",
    "    live_lights = green_light_df[green_light_df['live_date'] < inc_df['call_datetime']]\n",
    "    light_coords = np.array(list(zip(live_lights['X'], live_lights['Y'])))\n",
    "    inc_coords = np.array([(inc_df['x'], inc_df['y'])])\n",
    "    min_dist = distance.cdist(inc_coords, light_coords).min(axis=1)[0]\n",
    "    return min_dist\n",
    "fire_inc['closest_light'] = fire_inc.apply(\n",
    "    lambda x: find_closest_green_light(x, green_light), axis=1)"
   ],
   "outputs": [],
   "metadata": {}
  },
  {
   "cell_type": "code",
   "execution_count": 530,
   "source": [
    "#Kmeans clustering on incidents\n",
    "CLUSTERS = 20 # num of fire stations in city\n",
    "clustering = KMeans(CLUSTERS)\n",
    "clustering.fit(fire_inc[['y', 'x']])\n",
    "fire_inc['cluster'] = clustering.labels_\n",
    "\n",
    "#one-hot encode cluster\n",
    "#fire_inc = pd.get_dummies(data=fire_inc, columns=['cluster'], prefix='cluster')\n"
   ],
   "outputs": [],
   "metadata": {}
  },
  {
   "cell_type": "code",
   "execution_count": 631,
   "source": [
    "#Kmeans clustering on injuries\n",
    "CLUSTERS = 25\n",
    "clustering = KMeans(CLUSTERS)\n",
    "clustering.fit(fire_inc[fire_inc['injury_or_fatality'] == 1][['y', 'x']])\n",
    "fire_inc['cluster'] = clustering.predict(fire_inc[['y', 'x']])"
   ],
   "outputs": [],
   "metadata": {}
  },
  {
   "cell_type": "code",
   "execution_count": 622,
   "source": [
    "##try using DBSCAN for clustering\n",
    "clustering = DBSCAN(eps=.0015, min_samples=6).fit(fire_inc[['y', 'x']])\n",
    "fire_inc['cluster'] = clustering.labels_\n"
   ],
   "outputs": [],
   "metadata": {}
  },
  {
   "cell_type": "code",
   "execution_count": 634,
   "source": [
    "##save clustering model\n",
    "dump(clustering, \"cluster_model.joblib\")"
   ],
   "outputs": [
    {
     "output_type": "execute_result",
     "data": {
      "text/plain": [
       "['cluster_model.joblib']"
      ]
     },
     "metadata": {},
     "execution_count": 634
    }
   ],
   "metadata": {}
  },
  {
   "cell_type": "code",
   "execution_count": 693,
   "source": [
    "#create polygon around each cluster so we an visualize it\n",
    "clusters = {'cluster': [], 'geometry': [], 'incident_count': [], 'inj_per_inc': [], 'inj': []}\n",
    "for cluster in fire_inc['cluster'].unique():\n",
    "    if cluster == -1:\n",
    "        continue\n",
    "    points = fire_inc[fire_inc['cluster'] == cluster]\n",
    "    clusterPoints = MultiPoint(list(zip(points['x'], points['y'])))\n",
    "    clusterPoly = clusterPoints.convex_hull\n",
    "    clusters['cluster'].append(cluster)\n",
    "    clusters['geometry'].append(clusterPoly)\n",
    "    clusters['incident_count'].append(len(points))\n",
    "    clusters['inj_per_inc'].append(\n",
    "                            len(points[points['injury_or_fatality'] == 1])/len(points)*1000)\n",
    "    clusters['inj'].append(len(points[points['injury_or_fatality'] == 1]))\n",
    "\n",
    "geoDf = gpd.GeoDataFrame(clusters, crs='EPSG:4326')\n",
    "geoDf"
   ],
   "outputs": [
    {
     "output_type": "execute_result",
     "data": {
      "text/plain": [
       "    cluster                                           geometry  \\\n",
       "0         7  POLYGON ((-83.09470 42.40837, -83.12084 42.415...   \n",
       "1        20  POLYGON ((-83.11483 42.34267, -83.12068 42.343...   \n",
       "2        23  POLYGON ((-83.03871 42.38548, -83.04303 42.389...   \n",
       "3        21  POLYGON ((-83.11435 42.29096, -83.11476 42.291...   \n",
       "4         0  POLYGON ((-83.22047 42.32873, -83.22519 42.328...   \n",
       "5        15  POLYGON ((-83.05422 42.40473, -83.06245 42.407...   \n",
       "6        19  POLYGON ((-83.16866 42.41005, -83.16875 42.410...   \n",
       "7         5  POLYGON ((-82.98713 42.39984, -82.98826 42.400...   \n",
       "8         9  POLYGON ((-83.09573 42.37473, -83.09837 42.374...   \n",
       "9         8  POLYGON ((-83.11877 42.29002, -83.12270 42.290...   \n",
       "10        2  POLYGON ((-82.99318 42.33364, -83.02425 42.334...   \n",
       "11       17  POLYGON ((-83.23510 42.40446, -83.24077 42.406...   \n",
       "12       10  POLYGON ((-82.97011 42.33919, -82.97627 42.343...   \n",
       "13        3  POLYGON ((-83.07443 42.31910, -83.07560 42.320...   \n",
       "14       22  POLYGON ((-83.23256 42.33232, -83.26224 42.341...   \n",
       "15       14  POLYGON ((-83.18509 42.25126, -83.16702 42.289...   \n",
       "16       11  POLYGON ((-83.22507 42.39602, -83.22880 42.396...   \n",
       "17       13  POLYGON ((-83.17944 42.36999, -83.18053 42.371...   \n",
       "18       18  POLYGON ((-83.15326 42.33330, -83.15680 42.333...   \n",
       "19       24  POLYGON ((-83.08905 42.36291, -83.09436 42.373...   \n",
       "20        1                        POINT (-127.91418 32.02636)   \n",
       "21        4  POLYGON ((-83.18116 42.37098, -83.18401 42.371...   \n",
       "22       16  POLYGON ((-82.93705 42.38936, -82.93746 42.389...   \n",
       "23        6  POLYGON ((-83.26548 42.36426, -83.26552 42.364...   \n",
       "24       12  POLYGON ((-83.00101 42.42105, -83.00412 42.421...   \n",
       "\n",
       "    incident_count  inj_per_inc  inj  \n",
       "0             2049    12.201074   25  \n",
       "1             2324    14.199656   33  \n",
       "2             1305    16.858238   22  \n",
       "3             1948    14.887064   29  \n",
       "4             2542     8.261212   21  \n",
       "5             2019     9.905894   20  \n",
       "6             3338     8.088676   27  \n",
       "7             4117    15.302405   63  \n",
       "8             2332    12.006861   28  \n",
       "9             2603    11.909335   31  \n",
       "10            4738     8.020262   38  \n",
       "11            2420    11.983471   29  \n",
       "12            2211    13.116237   29  \n",
       "13            6835     5.413314   37  \n",
       "14            2866     9.420796   27  \n",
       "15             937    12.806830   12  \n",
       "16            3588     8.082497   29  \n",
       "17            2544    13.364780   34  \n",
       "18            1931    12.946660   25  \n",
       "19            2448     6.127451   15  \n",
       "20             606    11.551155    7  \n",
       "21            3359    10.122060   34  \n",
       "22            3036    10.540184   32  \n",
       "23            1834    17.448201   32  \n",
       "24            1467    12.269939   18  "
      ],
      "text/html": [
       "<div>\n",
       "<style scoped>\n",
       "    .dataframe tbody tr th:only-of-type {\n",
       "        vertical-align: middle;\n",
       "    }\n",
       "\n",
       "    .dataframe tbody tr th {\n",
       "        vertical-align: top;\n",
       "    }\n",
       "\n",
       "    .dataframe thead th {\n",
       "        text-align: right;\n",
       "    }\n",
       "</style>\n",
       "<table border=\"1\" class=\"dataframe\">\n",
       "  <thead>\n",
       "    <tr style=\"text-align: right;\">\n",
       "      <th></th>\n",
       "      <th>cluster</th>\n",
       "      <th>geometry</th>\n",
       "      <th>incident_count</th>\n",
       "      <th>inj_per_inc</th>\n",
       "      <th>inj</th>\n",
       "    </tr>\n",
       "  </thead>\n",
       "  <tbody>\n",
       "    <tr>\n",
       "      <th>0</th>\n",
       "      <td>7</td>\n",
       "      <td>POLYGON ((-83.09470 42.40837, -83.12084 42.415...</td>\n",
       "      <td>2049</td>\n",
       "      <td>12.201074</td>\n",
       "      <td>25</td>\n",
       "    </tr>\n",
       "    <tr>\n",
       "      <th>1</th>\n",
       "      <td>20</td>\n",
       "      <td>POLYGON ((-83.11483 42.34267, -83.12068 42.343...</td>\n",
       "      <td>2324</td>\n",
       "      <td>14.199656</td>\n",
       "      <td>33</td>\n",
       "    </tr>\n",
       "    <tr>\n",
       "      <th>2</th>\n",
       "      <td>23</td>\n",
       "      <td>POLYGON ((-83.03871 42.38548, -83.04303 42.389...</td>\n",
       "      <td>1305</td>\n",
       "      <td>16.858238</td>\n",
       "      <td>22</td>\n",
       "    </tr>\n",
       "    <tr>\n",
       "      <th>3</th>\n",
       "      <td>21</td>\n",
       "      <td>POLYGON ((-83.11435 42.29096, -83.11476 42.291...</td>\n",
       "      <td>1948</td>\n",
       "      <td>14.887064</td>\n",
       "      <td>29</td>\n",
       "    </tr>\n",
       "    <tr>\n",
       "      <th>4</th>\n",
       "      <td>0</td>\n",
       "      <td>POLYGON ((-83.22047 42.32873, -83.22519 42.328...</td>\n",
       "      <td>2542</td>\n",
       "      <td>8.261212</td>\n",
       "      <td>21</td>\n",
       "    </tr>\n",
       "    <tr>\n",
       "      <th>5</th>\n",
       "      <td>15</td>\n",
       "      <td>POLYGON ((-83.05422 42.40473, -83.06245 42.407...</td>\n",
       "      <td>2019</td>\n",
       "      <td>9.905894</td>\n",
       "      <td>20</td>\n",
       "    </tr>\n",
       "    <tr>\n",
       "      <th>6</th>\n",
       "      <td>19</td>\n",
       "      <td>POLYGON ((-83.16866 42.41005, -83.16875 42.410...</td>\n",
       "      <td>3338</td>\n",
       "      <td>8.088676</td>\n",
       "      <td>27</td>\n",
       "    </tr>\n",
       "    <tr>\n",
       "      <th>7</th>\n",
       "      <td>5</td>\n",
       "      <td>POLYGON ((-82.98713 42.39984, -82.98826 42.400...</td>\n",
       "      <td>4117</td>\n",
       "      <td>15.302405</td>\n",
       "      <td>63</td>\n",
       "    </tr>\n",
       "    <tr>\n",
       "      <th>8</th>\n",
       "      <td>9</td>\n",
       "      <td>POLYGON ((-83.09573 42.37473, -83.09837 42.374...</td>\n",
       "      <td>2332</td>\n",
       "      <td>12.006861</td>\n",
       "      <td>28</td>\n",
       "    </tr>\n",
       "    <tr>\n",
       "      <th>9</th>\n",
       "      <td>8</td>\n",
       "      <td>POLYGON ((-83.11877 42.29002, -83.12270 42.290...</td>\n",
       "      <td>2603</td>\n",
       "      <td>11.909335</td>\n",
       "      <td>31</td>\n",
       "    </tr>\n",
       "    <tr>\n",
       "      <th>10</th>\n",
       "      <td>2</td>\n",
       "      <td>POLYGON ((-82.99318 42.33364, -83.02425 42.334...</td>\n",
       "      <td>4738</td>\n",
       "      <td>8.020262</td>\n",
       "      <td>38</td>\n",
       "    </tr>\n",
       "    <tr>\n",
       "      <th>11</th>\n",
       "      <td>17</td>\n",
       "      <td>POLYGON ((-83.23510 42.40446, -83.24077 42.406...</td>\n",
       "      <td>2420</td>\n",
       "      <td>11.983471</td>\n",
       "      <td>29</td>\n",
       "    </tr>\n",
       "    <tr>\n",
       "      <th>12</th>\n",
       "      <td>10</td>\n",
       "      <td>POLYGON ((-82.97011 42.33919, -82.97627 42.343...</td>\n",
       "      <td>2211</td>\n",
       "      <td>13.116237</td>\n",
       "      <td>29</td>\n",
       "    </tr>\n",
       "    <tr>\n",
       "      <th>13</th>\n",
       "      <td>3</td>\n",
       "      <td>POLYGON ((-83.07443 42.31910, -83.07560 42.320...</td>\n",
       "      <td>6835</td>\n",
       "      <td>5.413314</td>\n",
       "      <td>37</td>\n",
       "    </tr>\n",
       "    <tr>\n",
       "      <th>14</th>\n",
       "      <td>22</td>\n",
       "      <td>POLYGON ((-83.23256 42.33232, -83.26224 42.341...</td>\n",
       "      <td>2866</td>\n",
       "      <td>9.420796</td>\n",
       "      <td>27</td>\n",
       "    </tr>\n",
       "    <tr>\n",
       "      <th>15</th>\n",
       "      <td>14</td>\n",
       "      <td>POLYGON ((-83.18509 42.25126, -83.16702 42.289...</td>\n",
       "      <td>937</td>\n",
       "      <td>12.806830</td>\n",
       "      <td>12</td>\n",
       "    </tr>\n",
       "    <tr>\n",
       "      <th>16</th>\n",
       "      <td>11</td>\n",
       "      <td>POLYGON ((-83.22507 42.39602, -83.22880 42.396...</td>\n",
       "      <td>3588</td>\n",
       "      <td>8.082497</td>\n",
       "      <td>29</td>\n",
       "    </tr>\n",
       "    <tr>\n",
       "      <th>17</th>\n",
       "      <td>13</td>\n",
       "      <td>POLYGON ((-83.17944 42.36999, -83.18053 42.371...</td>\n",
       "      <td>2544</td>\n",
       "      <td>13.364780</td>\n",
       "      <td>34</td>\n",
       "    </tr>\n",
       "    <tr>\n",
       "      <th>18</th>\n",
       "      <td>18</td>\n",
       "      <td>POLYGON ((-83.15326 42.33330, -83.15680 42.333...</td>\n",
       "      <td>1931</td>\n",
       "      <td>12.946660</td>\n",
       "      <td>25</td>\n",
       "    </tr>\n",
       "    <tr>\n",
       "      <th>19</th>\n",
       "      <td>24</td>\n",
       "      <td>POLYGON ((-83.08905 42.36291, -83.09436 42.373...</td>\n",
       "      <td>2448</td>\n",
       "      <td>6.127451</td>\n",
       "      <td>15</td>\n",
       "    </tr>\n",
       "    <tr>\n",
       "      <th>20</th>\n",
       "      <td>1</td>\n",
       "      <td>POINT (-127.91418 32.02636)</td>\n",
       "      <td>606</td>\n",
       "      <td>11.551155</td>\n",
       "      <td>7</td>\n",
       "    </tr>\n",
       "    <tr>\n",
       "      <th>21</th>\n",
       "      <td>4</td>\n",
       "      <td>POLYGON ((-83.18116 42.37098, -83.18401 42.371...</td>\n",
       "      <td>3359</td>\n",
       "      <td>10.122060</td>\n",
       "      <td>34</td>\n",
       "    </tr>\n",
       "    <tr>\n",
       "      <th>22</th>\n",
       "      <td>16</td>\n",
       "      <td>POLYGON ((-82.93705 42.38936, -82.93746 42.389...</td>\n",
       "      <td>3036</td>\n",
       "      <td>10.540184</td>\n",
       "      <td>32</td>\n",
       "    </tr>\n",
       "    <tr>\n",
       "      <th>23</th>\n",
       "      <td>6</td>\n",
       "      <td>POLYGON ((-83.26548 42.36426, -83.26552 42.364...</td>\n",
       "      <td>1834</td>\n",
       "      <td>17.448201</td>\n",
       "      <td>32</td>\n",
       "    </tr>\n",
       "    <tr>\n",
       "      <th>24</th>\n",
       "      <td>12</td>\n",
       "      <td>POLYGON ((-83.00101 42.42105, -83.00412 42.421...</td>\n",
       "      <td>1467</td>\n",
       "      <td>12.269939</td>\n",
       "      <td>18</td>\n",
       "    </tr>\n",
       "  </tbody>\n",
       "</table>\n",
       "</div>"
      ]
     },
     "metadata": {},
     "execution_count": 693
    }
   ],
   "metadata": {
    "tags": []
   }
  },
  {
   "cell_type": "code",
   "execution_count": 700,
   "source": [
    "##create plotly figure of incident clusters\n",
    "\n",
    "fig = go.Figure()\n",
    "\n",
    "\n",
    "fig.add_trace(\n",
    "    go.Scattermapbox(\n",
    "        lat=dfd_locations['Y'],\n",
    "        lon=dfd_locations['X'],\n",
    "        marker={'size':5, 'color':'black'},\n",
    "        name='DFD Location'\n",
    "    )\n",
    ")\n",
    "fig.add_trace(\n",
    "    go.Choroplethmapbox(\n",
    "        geojson=geoDf.__geo_interface__,\n",
    "        locations=geoDf.cluster,\n",
    "        featureidkey=\"properties.cluster\",\n",
    "        ids=geoDf.index,\n",
    "        z=geoDf.inj_per_inc,\n",
    "        colorscale=[(0,\"white\"), (1,\"red\")],\n",
    "        marker={'opacity':.6},\n",
    "        name='Incident Cluster',\n",
    "    )\n",
    ")\n",
    "fig.update_layout(\n",
    "    mapbox=dict(\n",
    "        bearing=0,\n",
    "        center = {\"lat\": 42.33, \"lon\": -83.05},\n",
    "        pitch=0,\n",
    "        zoom=10,\n",
    "        style='light'\n",
    "    ),\n",
    "    mapbox_style=\"open-street-map\",\n",
    "    legend_title=\"Test\"\n",
    ")\n",
    "#fig = px.scatter_mapbox(dfd_locations, lat=\"Y\", lon=\"X\", mapbox_style=\"open-street-map\")\n",
    "fig.show()"
   ],
   "outputs": [
    {
     "output_type": "display_data",
     "data": {
      "text/html": [
       "<div>                            <div id=\"c2e39132-52fb-469b-a9e1-9569472c441b\" class=\"plotly-graph-div\" style=\"height:525px; width:100%;\"></div>            <script type=\"text/javascript\">                require([\"plotly\"], function(Plotly) {                    window.PLOTLYENV=window.PLOTLYENV || {};                                    if (document.getElementById(\"c2e39132-52fb-469b-a9e1-9569472c441b\")) {                    Plotly.newPlot(                        \"c2e39132-52fb-469b-a9e1-9569472c441b\",                        [{\"colorscale\": [[0, \"white\"], [1, \"red\"]], \"featureidkey\": \"properties.cluster\", \"geojson\": {\"bbox\": [-127.914179208738, 32.0263641962111, -82.91056883033009, 42.4682900842991], \"features\": [{\"bbox\": [-83.12994652653809, 42.408365293538104, -83.07878566833641, 42.447099515987], \"geometry\": {\"coordinates\": [[[-83.094700096981, 42.408365293538104], [-83.12084379563301, 42.4151229544488], [-83.1229986304076, 42.415716189892294], [-83.1285039773388, 42.417314635691106], [-83.1286214578347, 42.4173671262986], [-83.1298795735752, 42.4318110989292], [-83.12994652653809, 42.4463693748485], [-83.1297166569802, 42.446375710623705], [-83.1250303244999, 42.446502235355794], [-83.1248523647401, 42.4465069053469], [-83.1056188016509, 42.446956724599794], [-83.1028760183951, 42.446988342206296], [-83.0796099143528, 42.447099515987], [-83.07909155838759, 42.4470786337329], [-83.0790884270508, 42.44705082477], [-83.0789966500234, 42.446111880827296], [-83.07878566833641, 42.442871325741], [-83.0793229258446, 42.4346166337843], [-83.08032737909929, 42.4196879174152], [-83.0809563903495, 42.4146886959319], [-83.094700096981, 42.408365293538104]]], \"type\": \"Polygon\"}, \"id\": \"0\", \"properties\": {\"cluster\": 7, \"incident_count\": 2049, \"inj\": 25, \"inj_per_inc\": 12.201073694485116}, \"type\": \"Feature\"}, {\"bbox\": [-83.1366459830053, 42.3426716119735, -83.0900683520045, 42.3803235622265], \"geometry\": {\"coordinates\": [[[-83.1148273503523, 42.3426716119735], [-83.1206781676781, 42.343495351489295], [-83.124780260188, 42.3444554642547], [-83.13145389595749, 42.346152213905704], [-83.13248022737959, 42.347571777431504], [-83.1350359975092, 42.364678523920105], [-83.1366459830053, 42.375563700989204], [-83.1354426985216, 42.3802727201829], [-83.13538274266651, 42.380309723167294], [-83.1353454534458, 42.3803235622265], [-83.1304080722297, 42.3797333852561], [-83.11974310858379, 42.3780994454736], [-83.11091021399821, 42.3766826465026], [-83.0950726180585, 42.3740991197615], [-83.0945821181282, 42.373467377213395], [-83.09417672576491, 42.372837107761896], [-83.0916531230445, 42.3677329422458], [-83.0900683520045, 42.3645135774364], [-83.09019131672379, 42.3624814289364], [-83.0913532013477, 42.3575949346631], [-83.09243089157229, 42.3548309502386], [-83.09378903297551, 42.35191740278471], [-83.0945261802696, 42.3506041487351], [-83.1037283422327, 42.3461863519192], [-83.1114549152521, 42.343153053087896], [-83.1148273503523, 42.3426716119735]]], \"type\": \"Polygon\"}, \"id\": \"1\", \"properties\": {\"cluster\": 20, \"incident_count\": 2324, \"inj\": 33, \"inj_per_inc\": 14.199655765920827}, \"type\": \"Feature\"}, {\"bbox\": [-83.0499670447806, 42.385483243684895, -82.99519174262021, 42.4265842843339], \"geometry\": {\"coordinates\": [[[-83.038707650999, 42.385483243684895], [-83.04303169467191, 42.3891432692714], [-83.0498741410255, 42.405424343746795], [-83.0499670447806, 42.406286322517204], [-83.039929198793, 42.4236259497225], [-83.0386462988055, 42.4255973334731], [-83.0380811579515, 42.4263904020167], [-83.0374313552799, 42.426462144518], [-83.03587101041501, 42.4264987703972], [-83.0325539102657, 42.4265752233869], [-83.03214993289059, 42.4265842843339], [-83.0313907419184, 42.4265740759595], [-83.0276381416271, 42.4258841229926], [-83.0239269455485, 42.425167419246606], [-83.00900567511441, 42.4222787629227], [-83.00279441473191, 42.42089236181479], [-83.0003003871092, 42.4192541439974], [-82.99730575400021, 42.411742699468896], [-82.9967282443244, 42.4102134934069], [-82.99519174262021, 42.4042969375181], [-82.9951917522701, 42.404296498520395], [-82.9952796336763, 42.4031623944098], [-83.0240108374364, 42.389263560713], [-83.0285032112278, 42.3872909072341], [-83.0325164951238, 42.385549709024794], [-83.0344793924826, 42.3855104817544], [-83.038707650999, 42.385483243684895]]], \"type\": \"Polygon\"}, \"id\": \"2\", \"properties\": {\"cluster\": 23, \"incident_count\": 1305, \"inj\": 22, \"inj_per_inc\": 16.85823754789272}, \"type\": \"Feature\"}, {\"bbox\": [-83.1147580498418, 42.2909609996436, -83.07524485424659, 42.349048218469704], \"geometry\": {\"coordinates\": [[[-83.11435488085749, 42.2909609996436], [-83.11475572619679, 42.291801866434], [-83.1147580498418, 42.3073728071567], [-83.11475392560679, 42.3090550831941], [-83.11464784588779, 42.327451539190996], [-83.11461222861071, 42.331996570136795], [-83.1142219352279, 42.3396558544717], [-83.1129423549921, 42.342402598404796], [-83.1128968082894, 42.34246008453321], [-83.0960710925607, 42.349048218469704], [-83.0934213660295, 42.3474481127898], [-83.0806970619423, 42.3270158093873], [-83.0796449713765, 42.325303955466], [-83.07554476028521, 42.3186192857882], [-83.07524485424659, 42.31756363136579], [-83.0789311218968, 42.3134651892584], [-83.0917018139606, 42.3037356126744], [-83.10159482334359, 42.2975488198365], [-83.11435488085749, 42.2909609996436]]], \"type\": \"Polygon\"}, \"id\": \"3\", \"properties\": {\"cluster\": 21, \"incident_count\": 1948, \"inj\": 29, \"inj_per_inc\": 14.8870636550308}, \"type\": \"Feature\"}, {\"bbox\": [-83.2301896312219, 42.328729877434505, -83.1792968922727, 42.3780590223366], \"geometry\": {\"coordinates\": [[[-83.2204671771338, 42.328729877434505], [-83.22518679043779, 42.3289151155841], [-83.230116953541, 42.33196229449079], [-83.2301896312219, 42.3336599110847], [-83.2290896857285, 42.336174106007206], [-83.2258940834535, 42.343246830599206], [-83.2131489981562, 42.3707274416633], [-83.21198390870391, 42.372889131411796], [-83.21089101479029, 42.374545567137396], [-83.2085680793659, 42.3780590223366], [-83.2062114442431, 42.3775971538977], [-83.2001247244162, 42.3758996638947], [-83.19105963736541, 42.372980921739], [-83.1852105887633, 42.3710901511963], [-83.18156910198529, 42.3699024710206], [-83.1803393413879, 42.3666462160162], [-83.1792968922727, 42.3566608856936], [-83.1824764045621, 42.3511426435051], [-83.1960536942515, 42.3346272325247], [-83.2153555648693, 42.32894501167821], [-83.2204671771338, 42.328729877434505]]], \"type\": \"Polygon\"}, \"id\": \"4\", \"properties\": {\"cluster\": 0, \"incident_count\": 2542, \"inj\": 21, \"inj_per_inc\": 8.261211644374507}, \"type\": \"Feature\"}, {\"bbox\": [-83.0794356354248, 42.4047334918937, -83.03861909200809, 42.453521661839204], \"geometry\": {\"coordinates\": [[[-83.05422137841359, 42.4047334918937], [-83.062446600097, 42.407008236185796], [-83.0726769074827, 42.4104861324306], [-83.0774016760097, 42.4124978026395], [-83.07825936818679, 42.4138274342355], [-83.0792657140427, 42.4192620621272], [-83.0793551516545, 42.4213895062709], [-83.0794356354248, 42.423592128090704], [-83.0793361213819, 42.4329005616195], [-83.07931705134871, 42.434362790939396], [-83.0789243249022, 42.4402840606281], [-83.0778609878136, 42.447093339962], [-83.0696749394366, 42.453521661839204], [-83.0439548604739, 42.447771604896495], [-83.0403661941075, 42.4365218679237], [-83.0388757057183, 42.431003924082106], [-83.03872387218571, 42.429261297614296], [-83.03861909200809, 42.4268750733628], [-83.03864024781001, 42.4264034417535], [-83.04560423157349, 42.414001383416704], [-83.046589404633, 42.412251428030295], [-83.04831923604159, 42.4092597437213], [-83.0500787761717, 42.407133671976396], [-83.0512309930529, 42.4058804636149], [-83.05422137841359, 42.4047334918937]]], \"type\": \"Polygon\"}, \"id\": \"5\", \"properties\": {\"cluster\": 15, \"incident_count\": 2019, \"inj\": 20, \"inj_per_inc\": 9.905894006934126}, \"type\": \"Feature\"}, {\"bbox\": [-83.18828168686758, 42.4100544959445, -83.13042534142791, 42.461394504401795], \"geometry\": {\"coordinates\": [[[-83.16866305852429, 42.4100544959445], [-83.168748104868, 42.410061320606104], [-83.17082385592879, 42.410350327058], [-83.1742082968516, 42.4126988058309], [-83.17803812937879, 42.416565554837206], [-83.17985409367691, 42.4184529337026], [-83.1849405708648, 42.4240655191336], [-83.1862557638342, 42.4264033390546], [-83.1882436873541, 42.443333188288], [-83.18828168686758, 42.445047712356704], [-83.1526431349748, 42.461394504401795], [-83.13042534142791, 42.4463290537944], [-83.130426499647, 42.4173025551852], [-83.13160824729991, 42.4157944092274], [-83.1350851014737, 42.4124655775092], [-83.14161209597559, 42.410320737238706], [-83.1578887871056, 42.4101150743042], [-83.1676113003923, 42.4100546244742], [-83.16866305852429, 42.4100544959445]]], \"type\": \"Polygon\"}, \"id\": \"6\", \"properties\": {\"cluster\": 19, \"incident_count\": 3338, \"inj\": 27, \"inj_per_inc\": 8.088675853804673}, \"type\": \"Feature\"}, {\"bbox\": [-83.00048296123421, 42.3998404424591, -82.94074255301099, 42.450229319855794], \"geometry\": {\"coordinates\": [[[-82.98713225758641, 42.3998404424591], [-82.9882644862445, 42.4003818945318], [-82.98989494819921, 42.4016709027196], [-82.9946413425208, 42.4065922923841], [-82.99556145816959, 42.407862863531705], [-82.9962660765192, 42.4095041291691], [-82.9978485439393, 42.4133363903818], [-82.99818916352909, 42.414185952607], [-82.9987700611574, 42.4157328652915], [-83.00008386528829, 42.4193312116225], [-83.00046103521551, 42.421728065446], [-83.00048296123421, 42.422079949224], [-82.9994349306855, 42.427813830236296], [-82.9984263772476, 42.4330905119354], [-82.99731557171509, 42.4386289004047], [-82.99543297539759, 42.4479126936459], [-82.99519704455051, 42.4490357618252], [-82.9856649101441, 42.4495745556406], [-82.9488407120581, 42.4501902822696], [-82.9412834860098, 42.450229319855794], [-82.94074255301099, 42.4502236610294], [-82.9524149473855, 42.427078143365], [-82.9568025660774, 42.4188194625939], [-82.959571269702, 42.4136497257876], [-82.962338242656, 42.4087009454405], [-82.9658141531471, 42.4072879976339], [-82.9838582613814, 42.4003709594023], [-82.98713225758641, 42.3998404424591]]], \"type\": \"Polygon\"}, \"id\": \"7\", \"properties\": {\"cluster\": 5, \"incident_count\": 4117, \"inj\": 63, \"inj_per_inc\": 15.302404663589993}, \"type\": \"Feature\"}, {\"bbox\": [-83.1361455597831, 42.3747296647081, -83.0934660965939, 42.417351634208], \"geometry\": {\"coordinates\": [[[-83.09572601017071, 42.3747296647081], [-83.0983693301315, 42.3748832426431], [-83.1234469633157, 42.378724534333294], [-83.134991462025, 42.380629592714], [-83.1357004054542, 42.381094798347604], [-83.1359947630975, 42.3821235417478], [-83.136072199439, 42.3870202157182], [-83.1361455597831, 42.4101491377422], [-83.13391575987251, 42.41279114171439], [-83.13043778111779, 42.4167332984212], [-83.1293810490432, 42.417351634208], [-83.1229817447725, 42.415448508568296], [-83.1168796191595, 42.4135200751994], [-83.096458195447, 42.4045933952881], [-83.0934660965939, 42.390802150908], [-83.0941925327008, 42.3815032968773], [-83.0949287130924, 42.374985655519296], [-83.09498527016349, 42.37493474887629], [-83.0950971370626, 42.374894149433295], [-83.09572601017071, 42.3747296647081]]], \"type\": \"Polygon\"}, \"id\": \"8\", \"properties\": {\"cluster\": 9, \"incident_count\": 2332, \"inj\": 28, \"inj_per_inc\": 12.006861063464836}, \"type\": \"Feature\"}, {\"bbox\": [-83.1567549915394, 42.290024953260705, -83.1146861936975, 42.3449194316152], \"geometry\": {\"coordinates\": [[[-83.11877221593001, 42.290024953260705], [-83.1227009239765, 42.2907900933861], [-83.1265461031383, 42.291857576404], [-83.133191082123, 42.2949115155944], [-83.1565930894494, 42.3277983458704], [-83.1566822753575, 42.328731290857], [-83.1567549915394, 42.3295599106277], [-83.1567368276259, 42.3299248301572], [-83.1530811268472, 42.3330461149701], [-83.152445664108, 42.333579274982704], [-83.14362799843141, 42.3392272148733], [-83.1346376731043, 42.3449194316152], [-83.12558223709821, 42.3444964842781], [-83.1219575045826, 42.343714699492295], [-83.1176957949335, 42.3426012359055], [-83.1146861936975, 42.3403014671863], [-83.1147033675741, 42.3311402231098], [-83.1147910586766, 42.3090471500562], [-83.1150010612109, 42.2906257697596], [-83.11877221593001, 42.290024953260705]]], \"type\": \"Polygon\"}, \"id\": \"9\", \"properties\": {\"cluster\": 8, \"incident_count\": 2603, \"inj\": 31, \"inj_per_inc\": 11.909335382251248}, \"type\": \"Feature\"}, {\"bbox\": [-83.0423922501547, 42.3336372245911, -82.9795337319063, 42.403369722437205], \"geometry\": {\"coordinates\": [[[-82.9931811214287, 42.3336372245911], [-83.0242513271643, 42.3340232637258], [-83.025193577491, 42.335446867189496], [-83.0280289107218, 42.340192216705205], [-83.03105689130649, 42.3456370395089], [-83.0423922501547, 42.3678092850244], [-83.0417861902269, 42.3761377693464], [-83.0416764126927, 42.3762525233256], [-83.02998948168, 42.385827534939], [-83.0281396823095, 42.3871519803838], [-83.0199040969153, 42.3911955770022], [-83.00017598088559, 42.4007547358292], [-82.9947714571056, 42.403369722437205], [-82.98941853928459, 42.4009420425172], [-82.9864970895152, 42.399092735139604], [-82.9811109264613, 42.365842968941706], [-82.9795337319063, 42.3435516606749], [-82.97969761122509, 42.3395041899957], [-82.9931811214287, 42.3336372245911]]], \"type\": \"Polygon\"}, \"id\": \"10\", \"properties\": {\"cluster\": 2, \"incident_count\": 4738, \"inj\": 38, \"inj_per_inc\": 8.020261713803293}, \"type\": \"Feature\"}, {\"bbox\": [-83.28777091537759, 42.4044588426668, -83.23237800542499, 42.443927460004296], \"geometry\": {\"coordinates\": [[[-83.2351025572036, 42.4044588426668], [-83.2407721003822, 42.40608582066611], [-83.2462748119097, 42.408151910739], [-83.28272466304641, 42.4220462127122], [-83.28554768581921, 42.423295621531295], [-83.2872193898178, 42.426438917813705], [-83.28747886390708, 42.4319950410045], [-83.28777091537759, 42.4425234958539], [-83.2868586497122, 42.4425685944192], [-83.2394133476062, 42.443782785146205], [-83.23237800542499, 42.443927460004296], [-83.2327082655813, 42.4357509050257], [-83.23321145366909, 42.4253921488819], [-83.2341327169164, 42.4099479997951], [-83.2351025572036, 42.4044588426668]]], \"type\": \"Polygon\"}, \"id\": \"11\", \"properties\": {\"cluster\": 17, \"incident_count\": 2420, \"inj\": 29, \"inj_per_inc\": 11.983471074380166}, \"type\": \"Feature\"}, {\"bbox\": [-82.9863517216683, 42.3391871856802, -82.92996119190009, 42.4073689518366], \"geometry\": {\"coordinates\": [[[-82.9701123818183, 42.3391871856802], [-82.9762718633406, 42.3430021755261], [-82.9804482767386, 42.3630182802042], [-82.98468150275109, 42.3886142275014], [-82.9863517216683, 42.3991360053877], [-82.9781243900162, 42.4022802136533], [-82.9767066664747, 42.4027547387198], [-82.9622793449603, 42.4073689518366], [-82.9604871558815, 42.4067014985222], [-82.9535655377694, 42.40147526626029], [-82.93930966879259, 42.3904371346339], [-82.93791008547291, 42.3891474615004], [-82.92996119190009, 42.3603651629863], [-82.9701123818183, 42.3391871856802]]], \"type\": \"Polygon\"}, \"id\": \"12\", \"properties\": {\"cluster\": 10, \"incident_count\": 2211, \"inj\": 29, \"inj_per_inc\": 13.116236996834012}, \"type\": \"Feature\"}, {\"bbox\": [-83.0937175256099, 42.319097273688705, -83.0264538243338, 42.3678421524115], \"geometry\": {\"coordinates\": [[[-83.0744328681952, 42.319097273688705], [-83.0755997383038, 42.320253695950896], [-83.0801988924869, 42.326601846247], [-83.08422720688591, 42.33287446372999], [-83.0879551157953, 42.3390433452115], [-83.0889596872168, 42.340749614270294], [-83.0912709401865, 42.3447748351142], [-83.0937175256099, 42.351795160381705], [-83.0937175015589, 42.351796340211], [-83.090042217264, 42.3601813022379], [-83.0879633229194, 42.3614088366313], [-83.0847490443603, 42.363138865318], [-83.0492271920012, 42.3678421524115], [-83.0460300062355, 42.3676470352216], [-83.0435309925502, 42.3661172492391], [-83.0397705815508, 42.360910265293896], [-83.0372728736198, 42.3572533247337], [-83.0282717701689, 42.3397347822132], [-83.0264538243338, 42.33618884689229], [-83.02686831440609, 42.3330757986021], [-83.04073467189642, 42.3273623669381], [-83.0610070076362, 42.3218462436171], [-83.0744328681952, 42.319097273688705]]], \"type\": \"Polygon\"}, \"id\": \"13\", \"properties\": {\"cluster\": 3, \"incident_count\": 6835, \"inj\": 37, \"inj_per_inc\": 5.413313825896123}, \"type\": \"Feature\"}, {\"bbox\": [-83.2653605555359, 42.3323160527327, -83.21082728030851, 42.39697215231771], \"geometry\": {\"coordinates\": [[[-83.23255906820829, 42.3323160527327], [-83.2622375130118, 42.3417293785849], [-83.26379947517691, 42.3437746936135], [-83.2653497617802, 42.359075023407996], [-83.2653605555359, 42.3593022220425], [-83.2631039747587, 42.364920936732794], [-83.23125807987809, 42.39697215231771], [-83.22999207849159, 42.3967540203609], [-83.2225765190061, 42.3942964248804], [-83.2212961678305, 42.39284745459229], [-83.2124592430351, 42.3826116590528], [-83.21119030969909, 42.380971348902], [-83.211108842583, 42.380773118085706], [-83.21082728030851, 42.379386875432296], [-83.210963360901, 42.375835713782], [-83.21655936347359, 42.363601899657795], [-83.22333250640841, 42.3489931190609], [-83.2291101474909, 42.336878512329896], [-83.23131960559749, 42.3323376323177], [-83.23255906820829, 42.3323160527327]]], \"type\": \"Polygon\"}, \"id\": \"14\", \"properties\": {\"cluster\": 22, \"incident_count\": 2866, \"inj\": 27, \"inj_per_inc\": 9.42079553384508}, \"type\": \"Feature\"}, {\"bbox\": [-83.1850914735016, 42.2512619364321, -83.12412055912841, 42.2959518284631], \"geometry\": {\"coordinates\": [[[-83.1850914735016, 42.2512619364321], [-83.1670230959307, 42.289459133285206], [-83.1513024768947, 42.2959518284631], [-83.13388000081221, 42.2946552706732], [-83.1312226131669, 42.2938853616894], [-83.129441271793, 42.293119462868205], [-83.1263006943171, 42.2911854228634], [-83.1245934820639, 42.290044109513104], [-83.12412055912841, 42.2848275821559], [-83.12709958635429, 42.2822144790721], [-83.16120222830409, 42.2554994465495], [-83.1850914735016, 42.2512619364321]]], \"type\": \"Polygon\"}, \"id\": \"15\", \"properties\": {\"cluster\": 14, \"incident_count\": 937, \"inj\": 12, \"inj_per_inc\": 12.8068303094984}, \"type\": \"Feature\"}, {\"bbox\": [-83.2340285250678, 42.396024220510505, -83.1869462038405, 42.4450692173367], \"geometry\": {\"coordinates\": [[[-83.2250699448361, 42.396024220510505], [-83.2288041859214, 42.396719897038395], [-83.2300057589743, 42.397222562989796], [-83.2313001570913, 42.3983224636857], [-83.2326108133526, 42.4007713315502], [-83.233839426551, 42.4044814357675], [-83.23394258236421, 42.40491845900571], [-83.2340285250678, 42.406303757142794], [-83.23402802994241, 42.406331031023896], [-83.23314569876209, 42.422487891890896], [-83.2323523367972, 42.43413590078271], [-83.2317869313987, 42.436093561412704], [-83.22905623851659, 42.4426035701385], [-83.2264841863246, 42.4440548616535], [-83.2192870845331, 42.4445288138879], [-83.18860365302521, 42.4450692173367], [-83.18802477578991, 42.4406045840616], [-83.1869462038405, 42.430831848738606], [-83.18694620695459, 42.430831684108895], [-83.1874062901867, 42.4243285227661], [-83.1874690369972, 42.4237526098461], [-83.18969842095329, 42.421817343581296], [-83.1981090675712, 42.4147660633361], [-83.2033345834106, 42.4106114036581], [-83.21850545163659, 42.3986380788744], [-83.2203875207488, 42.3971662173046], [-83.2214574331757, 42.3963663001885], [-83.22269918886391, 42.3960873358955], [-83.2250699448361, 42.396024220510505]]], \"type\": \"Polygon\"}, \"id\": \"16\", \"properties\": {\"cluster\": 11, \"incident_count\": 3588, \"inj\": 29, \"inj_per_inc\": 8.082497212931996}, \"type\": \"Feature\"}, {\"bbox\": [-83.1805305618576, 42.3699894737709, -83.1362257988051, 42.4102762229811], \"geometry\": {\"coordinates\": [[[-83.1794393864578, 42.3699894737709], [-83.1805305618576, 42.3709957148066], [-83.1768492630965, 42.387630483983], [-83.17186601215009, 42.409498186132296], [-83.17086931056109, 42.409717787741606], [-83.16760397263741, 42.4098578301505], [-83.1610500679149, 42.4099959145558], [-83.1448356086603, 42.41024120303479], [-83.1416833345845, 42.4102762229811], [-83.1372389916488, 42.410101861846], [-83.13665211795269, 42.4100021998885], [-83.136475372317, 42.4099506400501], [-83.1363733684179, 42.4055456363673], [-83.1362257988051, 42.3876791624236], [-83.1366529184448, 42.3831008984299], [-83.1390905029352, 42.3788682520283], [-83.1403111039613, 42.3783491116072], [-83.15063395372991, 42.3759114474888], [-83.1596855707705, 42.3739030037075], [-83.1742553486544, 42.3707101023556], [-83.1794393864578, 42.3699894737709]]], \"type\": \"Polygon\"}, \"id\": \"17\", \"properties\": {\"cluster\": 13, \"incident_count\": 2544, \"inj\": 34, \"inj_per_inc\": 13.364779874213838}, \"type\": \"Feature\"}, {\"bbox\": [-83.1801753584412, 42.3332976153196, -83.1325879255162, 42.378466903591], \"geometry\": {\"coordinates\": [[[-83.1532611817316, 42.3332976153196], [-83.1568017390562, 42.333448107470495], [-83.1783539735424, 42.3515726325994], [-83.18003241251449, 42.3641026502601], [-83.18013480349049, 42.3649460789052], [-83.1801753584412, 42.366122467354295], [-83.17903422540991, 42.3683308171374], [-83.17299286182859, 42.3707329243859], [-83.139046575083, 42.378466903591], [-83.1371488143201, 42.3763433133204], [-83.1371090449543, 42.376295294869706], [-83.13671714169959, 42.37552141229], [-83.1325879255162, 42.3466150713964], [-83.14150873019129, 42.3407173654863], [-83.1501532191751, 42.33524559341279], [-83.1532611817316, 42.3332976153196]]], \"type\": \"Polygon\"}, \"id\": \"18\", \"properties\": {\"cluster\": 18, \"incident_count\": 1931, \"inj\": 25, \"inj_per_inc\": 12.94665976178146}, \"type\": \"Feature\"}, {\"bbox\": [-83.0944474360449, 42.362914682150794, -83.0423361088303, 42.41230786897479], \"geometry\": {\"coordinates\": [[[-83.0890537696883, 42.362914682150794], [-83.09435837296941, 42.3735493432375], [-83.0944474360449, 42.3742643282812], [-83.0942554572709, 42.3793245798513], [-83.0934994328716, 42.3888051945856], [-83.0931975016985, 42.390901698209], [-83.08151284528621, 42.41230786897479], [-83.0755155116297, 42.4114747506185], [-83.06420968044641, 42.4071697200613], [-83.0496698239408, 42.3979112231354], [-83.04262511544229, 42.3756755938395], [-83.0423361088303, 42.373596053446605], [-83.0431179377754, 42.3700643198571], [-83.0435624363992, 42.369872258006296], [-83.04710226691999, 42.368570218298295], [-83.0632566040872, 42.3661093088863], [-83.0699453751934, 42.3651519448261], [-83.08475899555691, 42.363194908981], [-83.0890537696883, 42.362914682150794]]], \"type\": \"Polygon\"}, \"id\": \"19\", \"properties\": {\"cluster\": 24, \"incident_count\": 2448, \"inj\": 15, \"inj_per_inc\": 6.127450980392156}, \"type\": \"Feature\"}, {\"bbox\": [-127.914179208738, 32.0263641962111, -127.914179208738, 32.0263641962111], \"geometry\": {\"coordinates\": [-127.914179208738, 32.0263641962111], \"type\": \"Point\"}, \"id\": \"20\", \"properties\": {\"cluster\": 1, \"incident_count\": 606, \"inj\": 7, \"inj_per_inc\": 11.55115511551155}, \"type\": \"Feature\"}, {\"bbox\": [-83.22268583774071, 42.3709833088991, -83.1721184808229, 42.424015022793704], \"geometry\": {\"coordinates\": [[[-83.1811636753133, 42.3709833088991], [-83.1840136383139, 42.3711700374076], [-83.1852935043519, 42.371402417899496], [-83.19098754325621, 42.373075020639895], [-83.20765166158671, 42.378574119378], [-83.2099267105559, 42.379845728092604], [-83.216212870131, 42.3870246943615], [-83.22130223502751, 42.3929203235036], [-83.2226725779887, 42.3945094761251], [-83.22268583774071, 42.394795982998], [-83.2167386520222, 42.399877889177105], [-83.21053294615541, 42.404869838660204], [-83.2044182191952, 42.4096954772933], [-83.1862713292655, 42.424015022793704], [-83.1823568092043, 42.4202661541431], [-83.17642301121909, 42.414445249298396], [-83.174189572337, 42.4121283832087], [-83.1721184808229, 42.409464642801396], [-83.17269782558759, 42.4062835802419], [-83.1745722922223, 42.3979141510255], [-83.1802095908691, 42.373863058977896], [-83.181156271576, 42.370983396253], [-83.1811636753133, 42.3709833088991]]], \"type\": \"Polygon\"}, \"id\": \"21\", \"properties\": {\"cluster\": 4, \"incident_count\": 3359, \"inj\": 34, \"inj_per_inc\": 10.12206013694552}, \"type\": \"Feature\"}, {\"bbox\": [-82.9611656617461, 42.389361164243105, -82.91056883033009, 42.4341499587436], \"geometry\": {\"coordinates\": [[[-82.9370499626004, 42.389361164243105], [-82.93746157646599, 42.389494046545295], [-82.9393462117724, 42.3906200205083], [-82.9419887760062, 42.3926066774393], [-82.94709742969201, 42.396546801476795], [-82.9594247619043, 42.406188764247105], [-82.9609091706688, 42.407530478021705], [-82.9611486170593, 42.408408848246495], [-82.9611656617461, 42.4088029745976], [-82.9610055306988, 42.410485858081294], [-82.95942814306541, 42.4135912794567], [-82.9529926213527, 42.4259443120145], [-82.9493165766907, 42.4328446494398], [-82.9483522836728, 42.4337043226081], [-82.9472454841453, 42.4341499587436], [-82.9425434956318, 42.434005616198604], [-82.9266715036079, 42.4272665967706], [-82.91776471818142, 42.4218892543813], [-82.9107740131223, 42.417162526401704], [-82.9107594559215, 42.417151444160204], [-82.91056883033009, 42.4169079235699], [-82.91311768762691, 42.4110035048292], [-82.9176593949489, 42.401548627920604], [-82.9190625168007, 42.3988494580586], [-82.92026878251541, 42.3971298866346], [-82.9222221154688, 42.394965207091495], [-82.92239929269479, 42.3948289726166], [-82.92322916519191, 42.3944879517279], [-82.9314495332725, 42.3912430713114], [-82.93439932198001, 42.3901588543254], [-82.9346343910562, 42.390079483787204], [-82.93635394548299, 42.3895220650305], [-82.9370499626004, 42.389361164243105]]], \"type\": \"Polygon\"}, \"id\": \"22\", \"properties\": {\"cluster\": 16, \"incident_count\": 3036, \"inj\": 32, \"inj_per_inc\": 10.540184453227932}, \"type\": \"Feature\"}, {\"bbox\": [-83.2870325274438, 42.364264741632105, -83.23118569863051, 42.4224322463704], \"geometry\": {\"coordinates\": [[[-83.265483951973, 42.364264741632105], [-83.2655236836315, 42.3643200137652], [-83.2743598400512, 42.379598086947496], [-83.2864786422048, 42.409321702599705], [-83.28660317458909, 42.4117543585524], [-83.2870325274438, 42.4220402149031], [-83.28558117039731, 42.4224322463704], [-83.2839203729757, 42.4220856596925], [-83.2776399180936, 42.41987537772071], [-83.26678083094359, 42.41584424430889], [-83.2561448163338, 42.4118421770456], [-83.2387354430501, 42.405264267856005], [-83.23375990375729, 42.4021311238546], [-83.23118569863051, 42.397083864760205], [-83.2631133044016, 42.3652305613088], [-83.2642657528903, 42.364304649244396], [-83.2643662103588, 42.3642739825101], [-83.265483951973, 42.364264741632105]]], \"type\": \"Polygon\"}, \"id\": \"23\", \"properties\": {\"cluster\": 6, \"incident_count\": 1834, \"inj\": 32, \"inj_per_inc\": 17.448200654307524}, \"type\": \"Feature\"}, {\"bbox\": [-83.043039652528, 42.4210497489902, -82.9954226121281, 42.4682900842991], \"geometry\": {\"coordinates\": [[[-83.0010092872343, 42.4210497489902], [-83.0041152690148, 42.4214704660239], [-83.0331696711576, 42.427229700205004], [-83.0376439939874, 42.429000054643396], [-83.043039652528, 42.4477670443611], [-83.03138299172142, 42.4682900842991], [-82.9954226121281, 42.4490578589354], [-82.99545215592221, 42.4487255319696], [-82.9974348736954, 42.438257887146605], [-83.0005130556676, 42.4227353860741], [-83.0010092872343, 42.4210497489902]]], \"type\": \"Polygon\"}, \"id\": \"24\", \"properties\": {\"cluster\": 12, \"incident_count\": 1467, \"inj\": 18, \"inj_per_inc\": 12.269938650306749}, \"type\": \"Feature\"}], \"type\": \"FeatureCollection\"}, \"ids\": [0, 1, 2, 3, 4, 5, 6, 7, 8, 9, 10, 11, 12, 13, 14, 15, 16, 17, 18, 19, 20, 21, 22, 23, 24], \"locations\": [7, 20, 23, 21, 0, 15, 19, 5, 9, 8, 2, 17, 10, 3, 22, 14, 11, 13, 18, 24, 1, 4, 16, 6, 12], \"marker\": {\"opacity\": 0.6}, \"name\": \"Incident Cluster\", \"type\": \"choroplethmapbox\", \"z\": [12.201073694485116, 14.199655765920827, 16.85823754789272, 14.8870636550308, 8.261211644374507, 9.905894006934126, 8.088675853804673, 15.302404663589993, 12.006861063464836, 11.909335382251248, 8.020261713803293, 11.983471074380166, 13.116236996834012, 5.413313825896123, 9.42079553384508, 12.8068303094984, 8.082497212931996, 13.364779874213838, 12.94665976178146, 6.127450980392156, 11.55115511551155, 10.12206013694552, 10.540184453227932, 17.448200654307524, 12.269938650306749]}],                        {\"legend\": {\"title\": {\"text\": \"Test\"}}, \"mapbox\": {\"bearing\": 0, \"center\": {\"lat\": 42.33, \"lon\": -83.05}, \"pitch\": 0, \"style\": \"open-street-map\", \"zoom\": 10}, \"template\": {\"data\": {\"bar\": [{\"error_x\": {\"color\": \"#2a3f5f\"}, \"error_y\": {\"color\": \"#2a3f5f\"}, \"marker\": {\"line\": {\"color\": \"#E5ECF6\", \"width\": 0.5}}, \"type\": \"bar\"}], \"barpolar\": [{\"marker\": {\"line\": {\"color\": \"#E5ECF6\", \"width\": 0.5}}, \"type\": \"barpolar\"}], \"carpet\": [{\"aaxis\": {\"endlinecolor\": \"#2a3f5f\", \"gridcolor\": \"white\", \"linecolor\": \"white\", \"minorgridcolor\": \"white\", \"startlinecolor\": \"#2a3f5f\"}, \"baxis\": {\"endlinecolor\": \"#2a3f5f\", \"gridcolor\": \"white\", \"linecolor\": \"white\", \"minorgridcolor\": \"white\", \"startlinecolor\": \"#2a3f5f\"}, \"type\": \"carpet\"}], \"choropleth\": [{\"colorbar\": {\"outlinewidth\": 0, \"ticks\": \"\"}, \"type\": \"choropleth\"}], \"contour\": [{\"colorbar\": {\"outlinewidth\": 0, \"ticks\": \"\"}, \"colorscale\": [[0.0, \"#0d0887\"], [0.1111111111111111, \"#46039f\"], [0.2222222222222222, \"#7201a8\"], [0.3333333333333333, \"#9c179e\"], [0.4444444444444444, \"#bd3786\"], [0.5555555555555556, \"#d8576b\"], [0.6666666666666666, \"#ed7953\"], [0.7777777777777778, \"#fb9f3a\"], [0.8888888888888888, \"#fdca26\"], [1.0, \"#f0f921\"]], \"type\": \"contour\"}], \"contourcarpet\": [{\"colorbar\": {\"outlinewidth\": 0, \"ticks\": \"\"}, \"type\": \"contourcarpet\"}], \"heatmap\": [{\"colorbar\": {\"outlinewidth\": 0, \"ticks\": \"\"}, \"colorscale\": [[0.0, \"#0d0887\"], [0.1111111111111111, \"#46039f\"], [0.2222222222222222, \"#7201a8\"], [0.3333333333333333, \"#9c179e\"], [0.4444444444444444, \"#bd3786\"], [0.5555555555555556, \"#d8576b\"], [0.6666666666666666, \"#ed7953\"], [0.7777777777777778, \"#fb9f3a\"], [0.8888888888888888, \"#fdca26\"], [1.0, \"#f0f921\"]], \"type\": \"heatmap\"}], \"heatmapgl\": [{\"colorbar\": {\"outlinewidth\": 0, \"ticks\": \"\"}, \"colorscale\": [[0.0, \"#0d0887\"], [0.1111111111111111, \"#46039f\"], [0.2222222222222222, \"#7201a8\"], [0.3333333333333333, \"#9c179e\"], [0.4444444444444444, \"#bd3786\"], [0.5555555555555556, \"#d8576b\"], [0.6666666666666666, \"#ed7953\"], [0.7777777777777778, \"#fb9f3a\"], [0.8888888888888888, \"#fdca26\"], [1.0, \"#f0f921\"]], \"type\": \"heatmapgl\"}], \"histogram\": [{\"marker\": {\"colorbar\": {\"outlinewidth\": 0, \"ticks\": \"\"}}, \"type\": \"histogram\"}], \"histogram2d\": [{\"colorbar\": {\"outlinewidth\": 0, \"ticks\": \"\"}, \"colorscale\": [[0.0, \"#0d0887\"], [0.1111111111111111, \"#46039f\"], [0.2222222222222222, \"#7201a8\"], [0.3333333333333333, \"#9c179e\"], [0.4444444444444444, \"#bd3786\"], [0.5555555555555556, \"#d8576b\"], [0.6666666666666666, \"#ed7953\"], [0.7777777777777778, \"#fb9f3a\"], [0.8888888888888888, \"#fdca26\"], [1.0, \"#f0f921\"]], \"type\": \"histogram2d\"}], \"histogram2dcontour\": [{\"colorbar\": {\"outlinewidth\": 0, \"ticks\": \"\"}, \"colorscale\": [[0.0, \"#0d0887\"], [0.1111111111111111, \"#46039f\"], [0.2222222222222222, \"#7201a8\"], [0.3333333333333333, \"#9c179e\"], [0.4444444444444444, \"#bd3786\"], [0.5555555555555556, \"#d8576b\"], [0.6666666666666666, \"#ed7953\"], [0.7777777777777778, \"#fb9f3a\"], [0.8888888888888888, \"#fdca26\"], [1.0, \"#f0f921\"]], \"type\": \"histogram2dcontour\"}], \"mesh3d\": [{\"colorbar\": {\"outlinewidth\": 0, \"ticks\": \"\"}, \"type\": \"mesh3d\"}], \"parcoords\": [{\"line\": {\"colorbar\": {\"outlinewidth\": 0, \"ticks\": \"\"}}, \"type\": \"parcoords\"}], \"pie\": [{\"automargin\": true, \"type\": \"pie\"}], \"scatter\": [{\"marker\": {\"colorbar\": {\"outlinewidth\": 0, \"ticks\": \"\"}}, \"type\": \"scatter\"}], \"scatter3d\": [{\"line\": {\"colorbar\": {\"outlinewidth\": 0, \"ticks\": \"\"}}, \"marker\": {\"colorbar\": {\"outlinewidth\": 0, \"ticks\": \"\"}}, \"type\": \"scatter3d\"}], \"scattercarpet\": [{\"marker\": {\"colorbar\": {\"outlinewidth\": 0, \"ticks\": \"\"}}, \"type\": \"scattercarpet\"}], \"scattergeo\": [{\"marker\": {\"colorbar\": {\"outlinewidth\": 0, \"ticks\": \"\"}}, \"type\": \"scattergeo\"}], \"scattergl\": [{\"marker\": {\"colorbar\": {\"outlinewidth\": 0, \"ticks\": \"\"}}, \"type\": \"scattergl\"}], \"scattermapbox\": [{\"marker\": {\"colorbar\": {\"outlinewidth\": 0, \"ticks\": \"\"}}, \"type\": \"scattermapbox\"}], \"scatterpolar\": [{\"marker\": {\"colorbar\": {\"outlinewidth\": 0, \"ticks\": \"\"}}, \"type\": \"scatterpolar\"}], \"scatterpolargl\": [{\"marker\": {\"colorbar\": {\"outlinewidth\": 0, \"ticks\": \"\"}}, \"type\": \"scatterpolargl\"}], \"scatterternary\": [{\"marker\": {\"colorbar\": {\"outlinewidth\": 0, \"ticks\": \"\"}}, \"type\": \"scatterternary\"}], \"surface\": [{\"colorbar\": {\"outlinewidth\": 0, \"ticks\": \"\"}, \"colorscale\": [[0.0, \"#0d0887\"], [0.1111111111111111, \"#46039f\"], [0.2222222222222222, \"#7201a8\"], [0.3333333333333333, \"#9c179e\"], [0.4444444444444444, \"#bd3786\"], [0.5555555555555556, \"#d8576b\"], [0.6666666666666666, \"#ed7953\"], [0.7777777777777778, \"#fb9f3a\"], [0.8888888888888888, \"#fdca26\"], [1.0, \"#f0f921\"]], \"type\": \"surface\"}], \"table\": [{\"cells\": {\"fill\": {\"color\": \"#EBF0F8\"}, \"line\": {\"color\": \"white\"}}, \"header\": {\"fill\": {\"color\": \"#C8D4E3\"}, \"line\": {\"color\": \"white\"}}, \"type\": \"table\"}]}, \"layout\": {\"annotationdefaults\": {\"arrowcolor\": \"#2a3f5f\", \"arrowhead\": 0, \"arrowwidth\": 1}, \"autotypenumbers\": \"strict\", \"coloraxis\": {\"colorbar\": {\"outlinewidth\": 0, \"ticks\": \"\"}}, \"colorscale\": {\"diverging\": [[0, \"#8e0152\"], [0.1, \"#c51b7d\"], [0.2, \"#de77ae\"], [0.3, \"#f1b6da\"], [0.4, \"#fde0ef\"], [0.5, \"#f7f7f7\"], [0.6, \"#e6f5d0\"], [0.7, \"#b8e186\"], [0.8, \"#7fbc41\"], [0.9, \"#4d9221\"], [1, \"#276419\"]], \"sequential\": [[0.0, \"#0d0887\"], [0.1111111111111111, \"#46039f\"], [0.2222222222222222, \"#7201a8\"], [0.3333333333333333, \"#9c179e\"], [0.4444444444444444, \"#bd3786\"], [0.5555555555555556, \"#d8576b\"], [0.6666666666666666, \"#ed7953\"], [0.7777777777777778, \"#fb9f3a\"], [0.8888888888888888, \"#fdca26\"], [1.0, \"#f0f921\"]], \"sequentialminus\": [[0.0, \"#0d0887\"], [0.1111111111111111, \"#46039f\"], [0.2222222222222222, \"#7201a8\"], [0.3333333333333333, \"#9c179e\"], [0.4444444444444444, \"#bd3786\"], [0.5555555555555556, \"#d8576b\"], [0.6666666666666666, \"#ed7953\"], [0.7777777777777778, \"#fb9f3a\"], [0.8888888888888888, \"#fdca26\"], [1.0, \"#f0f921\"]]}, \"colorway\": [\"#636efa\", \"#EF553B\", \"#00cc96\", \"#ab63fa\", \"#FFA15A\", \"#19d3f3\", \"#FF6692\", \"#B6E880\", \"#FF97FF\", \"#FECB52\"], \"font\": {\"color\": \"#2a3f5f\"}, \"geo\": {\"bgcolor\": \"white\", \"lakecolor\": \"white\", \"landcolor\": \"#E5ECF6\", \"showlakes\": true, \"showland\": true, \"subunitcolor\": \"white\"}, \"hoverlabel\": {\"align\": \"left\"}, \"hovermode\": \"closest\", \"mapbox\": {\"style\": \"light\"}, \"paper_bgcolor\": \"white\", \"plot_bgcolor\": \"#E5ECF6\", \"polar\": {\"angularaxis\": {\"gridcolor\": \"white\", \"linecolor\": \"white\", \"ticks\": \"\"}, \"bgcolor\": \"#E5ECF6\", \"radialaxis\": {\"gridcolor\": \"white\", \"linecolor\": \"white\", \"ticks\": \"\"}}, \"scene\": {\"xaxis\": {\"backgroundcolor\": \"#E5ECF6\", \"gridcolor\": \"white\", \"gridwidth\": 2, \"linecolor\": \"white\", \"showbackground\": true, \"ticks\": \"\", \"zerolinecolor\": \"white\"}, \"yaxis\": {\"backgroundcolor\": \"#E5ECF6\", \"gridcolor\": \"white\", \"gridwidth\": 2, \"linecolor\": \"white\", \"showbackground\": true, \"ticks\": \"\", \"zerolinecolor\": \"white\"}, \"zaxis\": {\"backgroundcolor\": \"#E5ECF6\", \"gridcolor\": \"white\", \"gridwidth\": 2, \"linecolor\": \"white\", \"showbackground\": true, \"ticks\": \"\", \"zerolinecolor\": \"white\"}}, \"shapedefaults\": {\"line\": {\"color\": \"#2a3f5f\"}}, \"ternary\": {\"aaxis\": {\"gridcolor\": \"white\", \"linecolor\": \"white\", \"ticks\": \"\"}, \"baxis\": {\"gridcolor\": \"white\", \"linecolor\": \"white\", \"ticks\": \"\"}, \"bgcolor\": \"#E5ECF6\", \"caxis\": {\"gridcolor\": \"white\", \"linecolor\": \"white\", \"ticks\": \"\"}}, \"title\": {\"x\": 0.05}, \"xaxis\": {\"automargin\": true, \"gridcolor\": \"white\", \"linecolor\": \"white\", \"ticks\": \"\", \"title\": {\"standoff\": 15}, \"zerolinecolor\": \"white\", \"zerolinewidth\": 2}, \"yaxis\": {\"automargin\": true, \"gridcolor\": \"white\", \"linecolor\": \"white\", \"ticks\": \"\", \"title\": {\"standoff\": 15}, \"zerolinecolor\": \"white\", \"zerolinewidth\": 2}}}},                        {\"responsive\": true}                    ).then(function(){\n",
       "                            \n",
       "var gd = document.getElementById('c2e39132-52fb-469b-a9e1-9569472c441b');\n",
       "var x = new MutationObserver(function (mutations, observer) {{\n",
       "        var display = window.getComputedStyle(gd).display;\n",
       "        if (!display || display === 'none') {{\n",
       "            console.log([gd, 'removed!']);\n",
       "            Plotly.purge(gd);\n",
       "            observer.disconnect();\n",
       "        }}\n",
       "}});\n",
       "\n",
       "// Listen for the removal of the full notebook cells\n",
       "var notebookContainer = gd.closest('#notebook-container');\n",
       "if (notebookContainer) {{\n",
       "    x.observe(notebookContainer, {childList: true});\n",
       "}}\n",
       "\n",
       "// Listen for the clearing of the current output cell\n",
       "var outputEl = gd.closest('.output');\n",
       "if (outputEl) {{\n",
       "    x.observe(outputEl, {childList: true});\n",
       "}}\n",
       "\n",
       "                        })                };                });            </script>        </div>"
      ],
      "application/vnd.plotly.v1+json": {
       "config": {
        "plotlyServerURL": "https://plot.ly"
       },
       "data": [
        {
         "colorscale": [
          [
           0,
           "white"
          ],
          [
           1,
           "red"
          ]
         ],
         "featureidkey": "properties.cluster",
         "geojson": {
          "bbox": [
           -127.914179208738,
           32.0263641962111,
           -82.91056883033009,
           42.4682900842991
          ],
          "features": [
           {
            "bbox": [
             -83.12994652653809,
             42.408365293538104,
             -83.07878566833641,
             42.447099515987
            ],
            "geometry": {
             "coordinates": [
              [
               [
                -83.094700096981,
                42.408365293538104
               ],
               [
                -83.12084379563301,
                42.4151229544488
               ],
               [
                -83.1229986304076,
                42.415716189892294
               ],
               [
                -83.1285039773388,
                42.417314635691106
               ],
               [
                -83.1286214578347,
                42.4173671262986
               ],
               [
                -83.1298795735752,
                42.4318110989292
               ],
               [
                -83.12994652653809,
                42.4463693748485
               ],
               [
                -83.1297166569802,
                42.446375710623705
               ],
               [
                -83.1250303244999,
                42.446502235355794
               ],
               [
                -83.1248523647401,
                42.4465069053469
               ],
               [
                -83.1056188016509,
                42.446956724599794
               ],
               [
                -83.1028760183951,
                42.446988342206296
               ],
               [
                -83.0796099143528,
                42.447099515987
               ],
               [
                -83.07909155838759,
                42.4470786337329
               ],
               [
                -83.0790884270508,
                42.44705082477
               ],
               [
                -83.0789966500234,
                42.446111880827296
               ],
               [
                -83.07878566833641,
                42.442871325741
               ],
               [
                -83.0793229258446,
                42.4346166337843
               ],
               [
                -83.08032737909929,
                42.4196879174152
               ],
               [
                -83.0809563903495,
                42.4146886959319
               ],
               [
                -83.094700096981,
                42.408365293538104
               ]
              ]
             ],
             "type": "Polygon"
            },
            "id": "0",
            "properties": {
             "cluster": 7,
             "incident_count": 2049,
             "inj": 25,
             "inj_per_inc": 12.201073694485116
            },
            "type": "Feature"
           },
           {
            "bbox": [
             -83.1366459830053,
             42.3426716119735,
             -83.0900683520045,
             42.3803235622265
            ],
            "geometry": {
             "coordinates": [
              [
               [
                -83.1148273503523,
                42.3426716119735
               ],
               [
                -83.1206781676781,
                42.343495351489295
               ],
               [
                -83.124780260188,
                42.3444554642547
               ],
               [
                -83.13145389595749,
                42.346152213905704
               ],
               [
                -83.13248022737959,
                42.347571777431504
               ],
               [
                -83.1350359975092,
                42.364678523920105
               ],
               [
                -83.1366459830053,
                42.375563700989204
               ],
               [
                -83.1354426985216,
                42.3802727201829
               ],
               [
                -83.13538274266651,
                42.380309723167294
               ],
               [
                -83.1353454534458,
                42.3803235622265
               ],
               [
                -83.1304080722297,
                42.3797333852561
               ],
               [
                -83.11974310858379,
                42.3780994454736
               ],
               [
                -83.11091021399821,
                42.3766826465026
               ],
               [
                -83.0950726180585,
                42.3740991197615
               ],
               [
                -83.0945821181282,
                42.373467377213395
               ],
               [
                -83.09417672576491,
                42.372837107761896
               ],
               [
                -83.0916531230445,
                42.3677329422458
               ],
               [
                -83.0900683520045,
                42.3645135774364
               ],
               [
                -83.09019131672379,
                42.3624814289364
               ],
               [
                -83.0913532013477,
                42.3575949346631
               ],
               [
                -83.09243089157229,
                42.3548309502386
               ],
               [
                -83.09378903297551,
                42.35191740278471
               ],
               [
                -83.0945261802696,
                42.3506041487351
               ],
               [
                -83.1037283422327,
                42.3461863519192
               ],
               [
                -83.1114549152521,
                42.343153053087896
               ],
               [
                -83.1148273503523,
                42.3426716119735
               ]
              ]
             ],
             "type": "Polygon"
            },
            "id": "1",
            "properties": {
             "cluster": 20,
             "incident_count": 2324,
             "inj": 33,
             "inj_per_inc": 14.199655765920827
            },
            "type": "Feature"
           },
           {
            "bbox": [
             -83.0499670447806,
             42.385483243684895,
             -82.99519174262021,
             42.4265842843339
            ],
            "geometry": {
             "coordinates": [
              [
               [
                -83.038707650999,
                42.385483243684895
               ],
               [
                -83.04303169467191,
                42.3891432692714
               ],
               [
                -83.0498741410255,
                42.405424343746795
               ],
               [
                -83.0499670447806,
                42.406286322517204
               ],
               [
                -83.039929198793,
                42.4236259497225
               ],
               [
                -83.0386462988055,
                42.4255973334731
               ],
               [
                -83.0380811579515,
                42.4263904020167
               ],
               [
                -83.0374313552799,
                42.426462144518
               ],
               [
                -83.03587101041501,
                42.4264987703972
               ],
               [
                -83.0325539102657,
                42.4265752233869
               ],
               [
                -83.03214993289059,
                42.4265842843339
               ],
               [
                -83.0313907419184,
                42.4265740759595
               ],
               [
                -83.0276381416271,
                42.4258841229926
               ],
               [
                -83.0239269455485,
                42.425167419246606
               ],
               [
                -83.00900567511441,
                42.4222787629227
               ],
               [
                -83.00279441473191,
                42.42089236181479
               ],
               [
                -83.0003003871092,
                42.4192541439974
               ],
               [
                -82.99730575400021,
                42.411742699468896
               ],
               [
                -82.9967282443244,
                42.4102134934069
               ],
               [
                -82.99519174262021,
                42.4042969375181
               ],
               [
                -82.9951917522701,
                42.404296498520395
               ],
               [
                -82.9952796336763,
                42.4031623944098
               ],
               [
                -83.0240108374364,
                42.389263560713
               ],
               [
                -83.0285032112278,
                42.3872909072341
               ],
               [
                -83.0325164951238,
                42.385549709024794
               ],
               [
                -83.0344793924826,
                42.3855104817544
               ],
               [
                -83.038707650999,
                42.385483243684895
               ]
              ]
             ],
             "type": "Polygon"
            },
            "id": "2",
            "properties": {
             "cluster": 23,
             "incident_count": 1305,
             "inj": 22,
             "inj_per_inc": 16.85823754789272
            },
            "type": "Feature"
           },
           {
            "bbox": [
             -83.1147580498418,
             42.2909609996436,
             -83.07524485424659,
             42.349048218469704
            ],
            "geometry": {
             "coordinates": [
              [
               [
                -83.11435488085749,
                42.2909609996436
               ],
               [
                -83.11475572619679,
                42.291801866434
               ],
               [
                -83.1147580498418,
                42.3073728071567
               ],
               [
                -83.11475392560679,
                42.3090550831941
               ],
               [
                -83.11464784588779,
                42.327451539190996
               ],
               [
                -83.11461222861071,
                42.331996570136795
               ],
               [
                -83.1142219352279,
                42.3396558544717
               ],
               [
                -83.1129423549921,
                42.342402598404796
               ],
               [
                -83.1128968082894,
                42.34246008453321
               ],
               [
                -83.0960710925607,
                42.349048218469704
               ],
               [
                -83.0934213660295,
                42.3474481127898
               ],
               [
                -83.0806970619423,
                42.3270158093873
               ],
               [
                -83.0796449713765,
                42.325303955466
               ],
               [
                -83.07554476028521,
                42.3186192857882
               ],
               [
                -83.07524485424659,
                42.31756363136579
               ],
               [
                -83.0789311218968,
                42.3134651892584
               ],
               [
                -83.0917018139606,
                42.3037356126744
               ],
               [
                -83.10159482334359,
                42.2975488198365
               ],
               [
                -83.11435488085749,
                42.2909609996436
               ]
              ]
             ],
             "type": "Polygon"
            },
            "id": "3",
            "properties": {
             "cluster": 21,
             "incident_count": 1948,
             "inj": 29,
             "inj_per_inc": 14.8870636550308
            },
            "type": "Feature"
           },
           {
            "bbox": [
             -83.2301896312219,
             42.328729877434505,
             -83.1792968922727,
             42.3780590223366
            ],
            "geometry": {
             "coordinates": [
              [
               [
                -83.2204671771338,
                42.328729877434505
               ],
               [
                -83.22518679043779,
                42.3289151155841
               ],
               [
                -83.230116953541,
                42.33196229449079
               ],
               [
                -83.2301896312219,
                42.3336599110847
               ],
               [
                -83.2290896857285,
                42.336174106007206
               ],
               [
                -83.2258940834535,
                42.343246830599206
               ],
               [
                -83.2131489981562,
                42.3707274416633
               ],
               [
                -83.21198390870391,
                42.372889131411796
               ],
               [
                -83.21089101479029,
                42.374545567137396
               ],
               [
                -83.2085680793659,
                42.3780590223366
               ],
               [
                -83.2062114442431,
                42.3775971538977
               ],
               [
                -83.2001247244162,
                42.3758996638947
               ],
               [
                -83.19105963736541,
                42.372980921739
               ],
               [
                -83.1852105887633,
                42.3710901511963
               ],
               [
                -83.18156910198529,
                42.3699024710206
               ],
               [
                -83.1803393413879,
                42.3666462160162
               ],
               [
                -83.1792968922727,
                42.3566608856936
               ],
               [
                -83.1824764045621,
                42.3511426435051
               ],
               [
                -83.1960536942515,
                42.3346272325247
               ],
               [
                -83.2153555648693,
                42.32894501167821
               ],
               [
                -83.2204671771338,
                42.328729877434505
               ]
              ]
             ],
             "type": "Polygon"
            },
            "id": "4",
            "properties": {
             "cluster": 0,
             "incident_count": 2542,
             "inj": 21,
             "inj_per_inc": 8.261211644374507
            },
            "type": "Feature"
           },
           {
            "bbox": [
             -83.0794356354248,
             42.4047334918937,
             -83.03861909200809,
             42.453521661839204
            ],
            "geometry": {
             "coordinates": [
              [
               [
                -83.05422137841359,
                42.4047334918937
               ],
               [
                -83.062446600097,
                42.407008236185796
               ],
               [
                -83.0726769074827,
                42.4104861324306
               ],
               [
                -83.0774016760097,
                42.4124978026395
               ],
               [
                -83.07825936818679,
                42.4138274342355
               ],
               [
                -83.0792657140427,
                42.4192620621272
               ],
               [
                -83.0793551516545,
                42.4213895062709
               ],
               [
                -83.0794356354248,
                42.423592128090704
               ],
               [
                -83.0793361213819,
                42.4329005616195
               ],
               [
                -83.07931705134871,
                42.434362790939396
               ],
               [
                -83.0789243249022,
                42.4402840606281
               ],
               [
                -83.0778609878136,
                42.447093339962
               ],
               [
                -83.0696749394366,
                42.453521661839204
               ],
               [
                -83.0439548604739,
                42.447771604896495
               ],
               [
                -83.0403661941075,
                42.4365218679237
               ],
               [
                -83.0388757057183,
                42.431003924082106
               ],
               [
                -83.03872387218571,
                42.429261297614296
               ],
               [
                -83.03861909200809,
                42.4268750733628
               ],
               [
                -83.03864024781001,
                42.4264034417535
               ],
               [
                -83.04560423157349,
                42.414001383416704
               ],
               [
                -83.046589404633,
                42.412251428030295
               ],
               [
                -83.04831923604159,
                42.4092597437213
               ],
               [
                -83.0500787761717,
                42.407133671976396
               ],
               [
                -83.0512309930529,
                42.4058804636149
               ],
               [
                -83.05422137841359,
                42.4047334918937
               ]
              ]
             ],
             "type": "Polygon"
            },
            "id": "5",
            "properties": {
             "cluster": 15,
             "incident_count": 2019,
             "inj": 20,
             "inj_per_inc": 9.905894006934126
            },
            "type": "Feature"
           },
           {
            "bbox": [
             -83.18828168686758,
             42.4100544959445,
             -83.13042534142791,
             42.461394504401795
            ],
            "geometry": {
             "coordinates": [
              [
               [
                -83.16866305852429,
                42.4100544959445
               ],
               [
                -83.168748104868,
                42.410061320606104
               ],
               [
                -83.17082385592879,
                42.410350327058
               ],
               [
                -83.1742082968516,
                42.4126988058309
               ],
               [
                -83.17803812937879,
                42.416565554837206
               ],
               [
                -83.17985409367691,
                42.4184529337026
               ],
               [
                -83.1849405708648,
                42.4240655191336
               ],
               [
                -83.1862557638342,
                42.4264033390546
               ],
               [
                -83.1882436873541,
                42.443333188288
               ],
               [
                -83.18828168686758,
                42.445047712356704
               ],
               [
                -83.1526431349748,
                42.461394504401795
               ],
               [
                -83.13042534142791,
                42.4463290537944
               ],
               [
                -83.130426499647,
                42.4173025551852
               ],
               [
                -83.13160824729991,
                42.4157944092274
               ],
               [
                -83.1350851014737,
                42.4124655775092
               ],
               [
                -83.14161209597559,
                42.410320737238706
               ],
               [
                -83.1578887871056,
                42.4101150743042
               ],
               [
                -83.1676113003923,
                42.4100546244742
               ],
               [
                -83.16866305852429,
                42.4100544959445
               ]
              ]
             ],
             "type": "Polygon"
            },
            "id": "6",
            "properties": {
             "cluster": 19,
             "incident_count": 3338,
             "inj": 27,
             "inj_per_inc": 8.088675853804673
            },
            "type": "Feature"
           },
           {
            "bbox": [
             -83.00048296123421,
             42.3998404424591,
             -82.94074255301099,
             42.450229319855794
            ],
            "geometry": {
             "coordinates": [
              [
               [
                -82.98713225758641,
                42.3998404424591
               ],
               [
                -82.9882644862445,
                42.4003818945318
               ],
               [
                -82.98989494819921,
                42.4016709027196
               ],
               [
                -82.9946413425208,
                42.4065922923841
               ],
               [
                -82.99556145816959,
                42.407862863531705
               ],
               [
                -82.9962660765192,
                42.4095041291691
               ],
               [
                -82.9978485439393,
                42.4133363903818
               ],
               [
                -82.99818916352909,
                42.414185952607
               ],
               [
                -82.9987700611574,
                42.4157328652915
               ],
               [
                -83.00008386528829,
                42.4193312116225
               ],
               [
                -83.00046103521551,
                42.421728065446
               ],
               [
                -83.00048296123421,
                42.422079949224
               ],
               [
                -82.9994349306855,
                42.427813830236296
               ],
               [
                -82.9984263772476,
                42.4330905119354
               ],
               [
                -82.99731557171509,
                42.4386289004047
               ],
               [
                -82.99543297539759,
                42.4479126936459
               ],
               [
                -82.99519704455051,
                42.4490357618252
               ],
               [
                -82.9856649101441,
                42.4495745556406
               ],
               [
                -82.9488407120581,
                42.4501902822696
               ],
               [
                -82.9412834860098,
                42.450229319855794
               ],
               [
                -82.94074255301099,
                42.4502236610294
               ],
               [
                -82.9524149473855,
                42.427078143365
               ],
               [
                -82.9568025660774,
                42.4188194625939
               ],
               [
                -82.959571269702,
                42.4136497257876
               ],
               [
                -82.962338242656,
                42.4087009454405
               ],
               [
                -82.9658141531471,
                42.4072879976339
               ],
               [
                -82.9838582613814,
                42.4003709594023
               ],
               [
                -82.98713225758641,
                42.3998404424591
               ]
              ]
             ],
             "type": "Polygon"
            },
            "id": "7",
            "properties": {
             "cluster": 5,
             "incident_count": 4117,
             "inj": 63,
             "inj_per_inc": 15.302404663589993
            },
            "type": "Feature"
           },
           {
            "bbox": [
             -83.1361455597831,
             42.3747296647081,
             -83.0934660965939,
             42.417351634208
            ],
            "geometry": {
             "coordinates": [
              [
               [
                -83.09572601017071,
                42.3747296647081
               ],
               [
                -83.0983693301315,
                42.3748832426431
               ],
               [
                -83.1234469633157,
                42.378724534333294
               ],
               [
                -83.134991462025,
                42.380629592714
               ],
               [
                -83.1357004054542,
                42.381094798347604
               ],
               [
                -83.1359947630975,
                42.3821235417478
               ],
               [
                -83.136072199439,
                42.3870202157182
               ],
               [
                -83.1361455597831,
                42.4101491377422
               ],
               [
                -83.13391575987251,
                42.41279114171439
               ],
               [
                -83.13043778111779,
                42.4167332984212
               ],
               [
                -83.1293810490432,
                42.417351634208
               ],
               [
                -83.1229817447725,
                42.415448508568296
               ],
               [
                -83.1168796191595,
                42.4135200751994
               ],
               [
                -83.096458195447,
                42.4045933952881
               ],
               [
                -83.0934660965939,
                42.390802150908
               ],
               [
                -83.0941925327008,
                42.3815032968773
               ],
               [
                -83.0949287130924,
                42.374985655519296
               ],
               [
                -83.09498527016349,
                42.37493474887629
               ],
               [
                -83.0950971370626,
                42.374894149433295
               ],
               [
                -83.09572601017071,
                42.3747296647081
               ]
              ]
             ],
             "type": "Polygon"
            },
            "id": "8",
            "properties": {
             "cluster": 9,
             "incident_count": 2332,
             "inj": 28,
             "inj_per_inc": 12.006861063464836
            },
            "type": "Feature"
           },
           {
            "bbox": [
             -83.1567549915394,
             42.290024953260705,
             -83.1146861936975,
             42.3449194316152
            ],
            "geometry": {
             "coordinates": [
              [
               [
                -83.11877221593001,
                42.290024953260705
               ],
               [
                -83.1227009239765,
                42.2907900933861
               ],
               [
                -83.1265461031383,
                42.291857576404
               ],
               [
                -83.133191082123,
                42.2949115155944
               ],
               [
                -83.1565930894494,
                42.3277983458704
               ],
               [
                -83.1566822753575,
                42.328731290857
               ],
               [
                -83.1567549915394,
                42.3295599106277
               ],
               [
                -83.1567368276259,
                42.3299248301572
               ],
               [
                -83.1530811268472,
                42.3330461149701
               ],
               [
                -83.152445664108,
                42.333579274982704
               ],
               [
                -83.14362799843141,
                42.3392272148733
               ],
               [
                -83.1346376731043,
                42.3449194316152
               ],
               [
                -83.12558223709821,
                42.3444964842781
               ],
               [
                -83.1219575045826,
                42.343714699492295
               ],
               [
                -83.1176957949335,
                42.3426012359055
               ],
               [
                -83.1146861936975,
                42.3403014671863
               ],
               [
                -83.1147033675741,
                42.3311402231098
               ],
               [
                -83.1147910586766,
                42.3090471500562
               ],
               [
                -83.1150010612109,
                42.2906257697596
               ],
               [
                -83.11877221593001,
                42.290024953260705
               ]
              ]
             ],
             "type": "Polygon"
            },
            "id": "9",
            "properties": {
             "cluster": 8,
             "incident_count": 2603,
             "inj": 31,
             "inj_per_inc": 11.909335382251248
            },
            "type": "Feature"
           },
           {
            "bbox": [
             -83.0423922501547,
             42.3336372245911,
             -82.9795337319063,
             42.403369722437205
            ],
            "geometry": {
             "coordinates": [
              [
               [
                -82.9931811214287,
                42.3336372245911
               ],
               [
                -83.0242513271643,
                42.3340232637258
               ],
               [
                -83.025193577491,
                42.335446867189496
               ],
               [
                -83.0280289107218,
                42.340192216705205
               ],
               [
                -83.03105689130649,
                42.3456370395089
               ],
               [
                -83.0423922501547,
                42.3678092850244
               ],
               [
                -83.0417861902269,
                42.3761377693464
               ],
               [
                -83.0416764126927,
                42.3762525233256
               ],
               [
                -83.02998948168,
                42.385827534939
               ],
               [
                -83.0281396823095,
                42.3871519803838
               ],
               [
                -83.0199040969153,
                42.3911955770022
               ],
               [
                -83.00017598088559,
                42.4007547358292
               ],
               [
                -82.9947714571056,
                42.403369722437205
               ],
               [
                -82.98941853928459,
                42.4009420425172
               ],
               [
                -82.9864970895152,
                42.399092735139604
               ],
               [
                -82.9811109264613,
                42.365842968941706
               ],
               [
                -82.9795337319063,
                42.3435516606749
               ],
               [
                -82.97969761122509,
                42.3395041899957
               ],
               [
                -82.9931811214287,
                42.3336372245911
               ]
              ]
             ],
             "type": "Polygon"
            },
            "id": "10",
            "properties": {
             "cluster": 2,
             "incident_count": 4738,
             "inj": 38,
             "inj_per_inc": 8.020261713803293
            },
            "type": "Feature"
           },
           {
            "bbox": [
             -83.28777091537759,
             42.4044588426668,
             -83.23237800542499,
             42.443927460004296
            ],
            "geometry": {
             "coordinates": [
              [
               [
                -83.2351025572036,
                42.4044588426668
               ],
               [
                -83.2407721003822,
                42.40608582066611
               ],
               [
                -83.2462748119097,
                42.408151910739
               ],
               [
                -83.28272466304641,
                42.4220462127122
               ],
               [
                -83.28554768581921,
                42.423295621531295
               ],
               [
                -83.2872193898178,
                42.426438917813705
               ],
               [
                -83.28747886390708,
                42.4319950410045
               ],
               [
                -83.28777091537759,
                42.4425234958539
               ],
               [
                -83.2868586497122,
                42.4425685944192
               ],
               [
                -83.2394133476062,
                42.443782785146205
               ],
               [
                -83.23237800542499,
                42.443927460004296
               ],
               [
                -83.2327082655813,
                42.4357509050257
               ],
               [
                -83.23321145366909,
                42.4253921488819
               ],
               [
                -83.2341327169164,
                42.4099479997951
               ],
               [
                -83.2351025572036,
                42.4044588426668
               ]
              ]
             ],
             "type": "Polygon"
            },
            "id": "11",
            "properties": {
             "cluster": 17,
             "incident_count": 2420,
             "inj": 29,
             "inj_per_inc": 11.983471074380166
            },
            "type": "Feature"
           },
           {
            "bbox": [
             -82.9863517216683,
             42.3391871856802,
             -82.92996119190009,
             42.4073689518366
            ],
            "geometry": {
             "coordinates": [
              [
               [
                -82.9701123818183,
                42.3391871856802
               ],
               [
                -82.9762718633406,
                42.3430021755261
               ],
               [
                -82.9804482767386,
                42.3630182802042
               ],
               [
                -82.98468150275109,
                42.3886142275014
               ],
               [
                -82.9863517216683,
                42.3991360053877
               ],
               [
                -82.9781243900162,
                42.4022802136533
               ],
               [
                -82.9767066664747,
                42.4027547387198
               ],
               [
                -82.9622793449603,
                42.4073689518366
               ],
               [
                -82.9604871558815,
                42.4067014985222
               ],
               [
                -82.9535655377694,
                42.40147526626029
               ],
               [
                -82.93930966879259,
                42.3904371346339
               ],
               [
                -82.93791008547291,
                42.3891474615004
               ],
               [
                -82.92996119190009,
                42.3603651629863
               ],
               [
                -82.9701123818183,
                42.3391871856802
               ]
              ]
             ],
             "type": "Polygon"
            },
            "id": "12",
            "properties": {
             "cluster": 10,
             "incident_count": 2211,
             "inj": 29,
             "inj_per_inc": 13.116236996834012
            },
            "type": "Feature"
           },
           {
            "bbox": [
             -83.0937175256099,
             42.319097273688705,
             -83.0264538243338,
             42.3678421524115
            ],
            "geometry": {
             "coordinates": [
              [
               [
                -83.0744328681952,
                42.319097273688705
               ],
               [
                -83.0755997383038,
                42.320253695950896
               ],
               [
                -83.0801988924869,
                42.326601846247
               ],
               [
                -83.08422720688591,
                42.33287446372999
               ],
               [
                -83.0879551157953,
                42.3390433452115
               ],
               [
                -83.0889596872168,
                42.340749614270294
               ],
               [
                -83.0912709401865,
                42.3447748351142
               ],
               [
                -83.0937175256099,
                42.351795160381705
               ],
               [
                -83.0937175015589,
                42.351796340211
               ],
               [
                -83.090042217264,
                42.3601813022379
               ],
               [
                -83.0879633229194,
                42.3614088366313
               ],
               [
                -83.0847490443603,
                42.363138865318
               ],
               [
                -83.0492271920012,
                42.3678421524115
               ],
               [
                -83.0460300062355,
                42.3676470352216
               ],
               [
                -83.0435309925502,
                42.3661172492391
               ],
               [
                -83.0397705815508,
                42.360910265293896
               ],
               [
                -83.0372728736198,
                42.3572533247337
               ],
               [
                -83.0282717701689,
                42.3397347822132
               ],
               [
                -83.0264538243338,
                42.33618884689229
               ],
               [
                -83.02686831440609,
                42.3330757986021
               ],
               [
                -83.04073467189642,
                42.3273623669381
               ],
               [
                -83.0610070076362,
                42.3218462436171
               ],
               [
                -83.0744328681952,
                42.319097273688705
               ]
              ]
             ],
             "type": "Polygon"
            },
            "id": "13",
            "properties": {
             "cluster": 3,
             "incident_count": 6835,
             "inj": 37,
             "inj_per_inc": 5.413313825896123
            },
            "type": "Feature"
           },
           {
            "bbox": [
             -83.2653605555359,
             42.3323160527327,
             -83.21082728030851,
             42.39697215231771
            ],
            "geometry": {
             "coordinates": [
              [
               [
                -83.23255906820829,
                42.3323160527327
               ],
               [
                -83.2622375130118,
                42.3417293785849
               ],
               [
                -83.26379947517691,
                42.3437746936135
               ],
               [
                -83.2653497617802,
                42.359075023407996
               ],
               [
                -83.2653605555359,
                42.3593022220425
               ],
               [
                -83.2631039747587,
                42.364920936732794
               ],
               [
                -83.23125807987809,
                42.39697215231771
               ],
               [
                -83.22999207849159,
                42.3967540203609
               ],
               [
                -83.2225765190061,
                42.3942964248804
               ],
               [
                -83.2212961678305,
                42.39284745459229
               ],
               [
                -83.2124592430351,
                42.3826116590528
               ],
               [
                -83.21119030969909,
                42.380971348902
               ],
               [
                -83.211108842583,
                42.380773118085706
               ],
               [
                -83.21082728030851,
                42.379386875432296
               ],
               [
                -83.210963360901,
                42.375835713782
               ],
               [
                -83.21655936347359,
                42.363601899657795
               ],
               [
                -83.22333250640841,
                42.3489931190609
               ],
               [
                -83.2291101474909,
                42.336878512329896
               ],
               [
                -83.23131960559749,
                42.3323376323177
               ],
               [
                -83.23255906820829,
                42.3323160527327
               ]
              ]
             ],
             "type": "Polygon"
            },
            "id": "14",
            "properties": {
             "cluster": 22,
             "incident_count": 2866,
             "inj": 27,
             "inj_per_inc": 9.42079553384508
            },
            "type": "Feature"
           },
           {
            "bbox": [
             -83.1850914735016,
             42.2512619364321,
             -83.12412055912841,
             42.2959518284631
            ],
            "geometry": {
             "coordinates": [
              [
               [
                -83.1850914735016,
                42.2512619364321
               ],
               [
                -83.1670230959307,
                42.289459133285206
               ],
               [
                -83.1513024768947,
                42.2959518284631
               ],
               [
                -83.13388000081221,
                42.2946552706732
               ],
               [
                -83.1312226131669,
                42.2938853616894
               ],
               [
                -83.129441271793,
                42.293119462868205
               ],
               [
                -83.1263006943171,
                42.2911854228634
               ],
               [
                -83.1245934820639,
                42.290044109513104
               ],
               [
                -83.12412055912841,
                42.2848275821559
               ],
               [
                -83.12709958635429,
                42.2822144790721
               ],
               [
                -83.16120222830409,
                42.2554994465495
               ],
               [
                -83.1850914735016,
                42.2512619364321
               ]
              ]
             ],
             "type": "Polygon"
            },
            "id": "15",
            "properties": {
             "cluster": 14,
             "incident_count": 937,
             "inj": 12,
             "inj_per_inc": 12.8068303094984
            },
            "type": "Feature"
           },
           {
            "bbox": [
             -83.2340285250678,
             42.396024220510505,
             -83.1869462038405,
             42.4450692173367
            ],
            "geometry": {
             "coordinates": [
              [
               [
                -83.2250699448361,
                42.396024220510505
               ],
               [
                -83.2288041859214,
                42.396719897038395
               ],
               [
                -83.2300057589743,
                42.397222562989796
               ],
               [
                -83.2313001570913,
                42.3983224636857
               ],
               [
                -83.2326108133526,
                42.4007713315502
               ],
               [
                -83.233839426551,
                42.4044814357675
               ],
               [
                -83.23394258236421,
                42.40491845900571
               ],
               [
                -83.2340285250678,
                42.406303757142794
               ],
               [
                -83.23402802994241,
                42.406331031023896
               ],
               [
                -83.23314569876209,
                42.422487891890896
               ],
               [
                -83.2323523367972,
                42.43413590078271
               ],
               [
                -83.2317869313987,
                42.436093561412704
               ],
               [
                -83.22905623851659,
                42.4426035701385
               ],
               [
                -83.2264841863246,
                42.4440548616535
               ],
               [
                -83.2192870845331,
                42.4445288138879
               ],
               [
                -83.18860365302521,
                42.4450692173367
               ],
               [
                -83.18802477578991,
                42.4406045840616
               ],
               [
                -83.1869462038405,
                42.430831848738606
               ],
               [
                -83.18694620695459,
                42.430831684108895
               ],
               [
                -83.1874062901867,
                42.4243285227661
               ],
               [
                -83.1874690369972,
                42.4237526098461
               ],
               [
                -83.18969842095329,
                42.421817343581296
               ],
               [
                -83.1981090675712,
                42.4147660633361
               ],
               [
                -83.2033345834106,
                42.4106114036581
               ],
               [
                -83.21850545163659,
                42.3986380788744
               ],
               [
                -83.2203875207488,
                42.3971662173046
               ],
               [
                -83.2214574331757,
                42.3963663001885
               ],
               [
                -83.22269918886391,
                42.3960873358955
               ],
               [
                -83.2250699448361,
                42.396024220510505
               ]
              ]
             ],
             "type": "Polygon"
            },
            "id": "16",
            "properties": {
             "cluster": 11,
             "incident_count": 3588,
             "inj": 29,
             "inj_per_inc": 8.082497212931996
            },
            "type": "Feature"
           },
           {
            "bbox": [
             -83.1805305618576,
             42.3699894737709,
             -83.1362257988051,
             42.4102762229811
            ],
            "geometry": {
             "coordinates": [
              [
               [
                -83.1794393864578,
                42.3699894737709
               ],
               [
                -83.1805305618576,
                42.3709957148066
               ],
               [
                -83.1768492630965,
                42.387630483983
               ],
               [
                -83.17186601215009,
                42.409498186132296
               ],
               [
                -83.17086931056109,
                42.409717787741606
               ],
               [
                -83.16760397263741,
                42.4098578301505
               ],
               [
                -83.1610500679149,
                42.4099959145558
               ],
               [
                -83.1448356086603,
                42.41024120303479
               ],
               [
                -83.1416833345845,
                42.4102762229811
               ],
               [
                -83.1372389916488,
                42.410101861846
               ],
               [
                -83.13665211795269,
                42.4100021998885
               ],
               [
                -83.136475372317,
                42.4099506400501
               ],
               [
                -83.1363733684179,
                42.4055456363673
               ],
               [
                -83.1362257988051,
                42.3876791624236
               ],
               [
                -83.1366529184448,
                42.3831008984299
               ],
               [
                -83.1390905029352,
                42.3788682520283
               ],
               [
                -83.1403111039613,
                42.3783491116072
               ],
               [
                -83.15063395372991,
                42.3759114474888
               ],
               [
                -83.1596855707705,
                42.3739030037075
               ],
               [
                -83.1742553486544,
                42.3707101023556
               ],
               [
                -83.1794393864578,
                42.3699894737709
               ]
              ]
             ],
             "type": "Polygon"
            },
            "id": "17",
            "properties": {
             "cluster": 13,
             "incident_count": 2544,
             "inj": 34,
             "inj_per_inc": 13.364779874213838
            },
            "type": "Feature"
           },
           {
            "bbox": [
             -83.1801753584412,
             42.3332976153196,
             -83.1325879255162,
             42.378466903591
            ],
            "geometry": {
             "coordinates": [
              [
               [
                -83.1532611817316,
                42.3332976153196
               ],
               [
                -83.1568017390562,
                42.333448107470495
               ],
               [
                -83.1783539735424,
                42.3515726325994
               ],
               [
                -83.18003241251449,
                42.3641026502601
               ],
               [
                -83.18013480349049,
                42.3649460789052
               ],
               [
                -83.1801753584412,
                42.366122467354295
               ],
               [
                -83.17903422540991,
                42.3683308171374
               ],
               [
                -83.17299286182859,
                42.3707329243859
               ],
               [
                -83.139046575083,
                42.378466903591
               ],
               [
                -83.1371488143201,
                42.3763433133204
               ],
               [
                -83.1371090449543,
                42.376295294869706
               ],
               [
                -83.13671714169959,
                42.37552141229
               ],
               [
                -83.1325879255162,
                42.3466150713964
               ],
               [
                -83.14150873019129,
                42.3407173654863
               ],
               [
                -83.1501532191751,
                42.33524559341279
               ],
               [
                -83.1532611817316,
                42.3332976153196
               ]
              ]
             ],
             "type": "Polygon"
            },
            "id": "18",
            "properties": {
             "cluster": 18,
             "incident_count": 1931,
             "inj": 25,
             "inj_per_inc": 12.94665976178146
            },
            "type": "Feature"
           },
           {
            "bbox": [
             -83.0944474360449,
             42.362914682150794,
             -83.0423361088303,
             42.41230786897479
            ],
            "geometry": {
             "coordinates": [
              [
               [
                -83.0890537696883,
                42.362914682150794
               ],
               [
                -83.09435837296941,
                42.3735493432375
               ],
               [
                -83.0944474360449,
                42.3742643282812
               ],
               [
                -83.0942554572709,
                42.3793245798513
               ],
               [
                -83.0934994328716,
                42.3888051945856
               ],
               [
                -83.0931975016985,
                42.390901698209
               ],
               [
                -83.08151284528621,
                42.41230786897479
               ],
               [
                -83.0755155116297,
                42.4114747506185
               ],
               [
                -83.06420968044641,
                42.4071697200613
               ],
               [
                -83.0496698239408,
                42.3979112231354
               ],
               [
                -83.04262511544229,
                42.3756755938395
               ],
               [
                -83.0423361088303,
                42.373596053446605
               ],
               [
                -83.0431179377754,
                42.3700643198571
               ],
               [
                -83.0435624363992,
                42.369872258006296
               ],
               [
                -83.04710226691999,
                42.368570218298295
               ],
               [
                -83.0632566040872,
                42.3661093088863
               ],
               [
                -83.0699453751934,
                42.3651519448261
               ],
               [
                -83.08475899555691,
                42.363194908981
               ],
               [
                -83.0890537696883,
                42.362914682150794
               ]
              ]
             ],
             "type": "Polygon"
            },
            "id": "19",
            "properties": {
             "cluster": 24,
             "incident_count": 2448,
             "inj": 15,
             "inj_per_inc": 6.127450980392156
            },
            "type": "Feature"
           },
           {
            "bbox": [
             -127.914179208738,
             32.0263641962111,
             -127.914179208738,
             32.0263641962111
            ],
            "geometry": {
             "coordinates": [
              -127.914179208738,
              32.0263641962111
             ],
             "type": "Point"
            },
            "id": "20",
            "properties": {
             "cluster": 1,
             "incident_count": 606,
             "inj": 7,
             "inj_per_inc": 11.55115511551155
            },
            "type": "Feature"
           },
           {
            "bbox": [
             -83.22268583774071,
             42.3709833088991,
             -83.1721184808229,
             42.424015022793704
            ],
            "geometry": {
             "coordinates": [
              [
               [
                -83.1811636753133,
                42.3709833088991
               ],
               [
                -83.1840136383139,
                42.3711700374076
               ],
               [
                -83.1852935043519,
                42.371402417899496
               ],
               [
                -83.19098754325621,
                42.373075020639895
               ],
               [
                -83.20765166158671,
                42.378574119378
               ],
               [
                -83.2099267105559,
                42.379845728092604
               ],
               [
                -83.216212870131,
                42.3870246943615
               ],
               [
                -83.22130223502751,
                42.3929203235036
               ],
               [
                -83.2226725779887,
                42.3945094761251
               ],
               [
                -83.22268583774071,
                42.394795982998
               ],
               [
                -83.2167386520222,
                42.399877889177105
               ],
               [
                -83.21053294615541,
                42.404869838660204
               ],
               [
                -83.2044182191952,
                42.4096954772933
               ],
               [
                -83.1862713292655,
                42.424015022793704
               ],
               [
                -83.1823568092043,
                42.4202661541431
               ],
               [
                -83.17642301121909,
                42.414445249298396
               ],
               [
                -83.174189572337,
                42.4121283832087
               ],
               [
                -83.1721184808229,
                42.409464642801396
               ],
               [
                -83.17269782558759,
                42.4062835802419
               ],
               [
                -83.1745722922223,
                42.3979141510255
               ],
               [
                -83.1802095908691,
                42.373863058977896
               ],
               [
                -83.181156271576,
                42.370983396253
               ],
               [
                -83.1811636753133,
                42.3709833088991
               ]
              ]
             ],
             "type": "Polygon"
            },
            "id": "21",
            "properties": {
             "cluster": 4,
             "incident_count": 3359,
             "inj": 34,
             "inj_per_inc": 10.12206013694552
            },
            "type": "Feature"
           },
           {
            "bbox": [
             -82.9611656617461,
             42.389361164243105,
             -82.91056883033009,
             42.4341499587436
            ],
            "geometry": {
             "coordinates": [
              [
               [
                -82.9370499626004,
                42.389361164243105
               ],
               [
                -82.93746157646599,
                42.389494046545295
               ],
               [
                -82.9393462117724,
                42.3906200205083
               ],
               [
                -82.9419887760062,
                42.3926066774393
               ],
               [
                -82.94709742969201,
                42.396546801476795
               ],
               [
                -82.9594247619043,
                42.406188764247105
               ],
               [
                -82.9609091706688,
                42.407530478021705
               ],
               [
                -82.9611486170593,
                42.408408848246495
               ],
               [
                -82.9611656617461,
                42.4088029745976
               ],
               [
                -82.9610055306988,
                42.410485858081294
               ],
               [
                -82.95942814306541,
                42.4135912794567
               ],
               [
                -82.9529926213527,
                42.4259443120145
               ],
               [
                -82.9493165766907,
                42.4328446494398
               ],
               [
                -82.9483522836728,
                42.4337043226081
               ],
               [
                -82.9472454841453,
                42.4341499587436
               ],
               [
                -82.9425434956318,
                42.434005616198604
               ],
               [
                -82.9266715036079,
                42.4272665967706
               ],
               [
                -82.91776471818142,
                42.4218892543813
               ],
               [
                -82.9107740131223,
                42.417162526401704
               ],
               [
                -82.9107594559215,
                42.417151444160204
               ],
               [
                -82.91056883033009,
                42.4169079235699
               ],
               [
                -82.91311768762691,
                42.4110035048292
               ],
               [
                -82.9176593949489,
                42.401548627920604
               ],
               [
                -82.9190625168007,
                42.3988494580586
               ],
               [
                -82.92026878251541,
                42.3971298866346
               ],
               [
                -82.9222221154688,
                42.394965207091495
               ],
               [
                -82.92239929269479,
                42.3948289726166
               ],
               [
                -82.92322916519191,
                42.3944879517279
               ],
               [
                -82.9314495332725,
                42.3912430713114
               ],
               [
                -82.93439932198001,
                42.3901588543254
               ],
               [
                -82.9346343910562,
                42.390079483787204
               ],
               [
                -82.93635394548299,
                42.3895220650305
               ],
               [
                -82.9370499626004,
                42.389361164243105
               ]
              ]
             ],
             "type": "Polygon"
            },
            "id": "22",
            "properties": {
             "cluster": 16,
             "incident_count": 3036,
             "inj": 32,
             "inj_per_inc": 10.540184453227932
            },
            "type": "Feature"
           },
           {
            "bbox": [
             -83.2870325274438,
             42.364264741632105,
             -83.23118569863051,
             42.4224322463704
            ],
            "geometry": {
             "coordinates": [
              [
               [
                -83.265483951973,
                42.364264741632105
               ],
               [
                -83.2655236836315,
                42.3643200137652
               ],
               [
                -83.2743598400512,
                42.379598086947496
               ],
               [
                -83.2864786422048,
                42.409321702599705
               ],
               [
                -83.28660317458909,
                42.4117543585524
               ],
               [
                -83.2870325274438,
                42.4220402149031
               ],
               [
                -83.28558117039731,
                42.4224322463704
               ],
               [
                -83.2839203729757,
                42.4220856596925
               ],
               [
                -83.2776399180936,
                42.41987537772071
               ],
               [
                -83.26678083094359,
                42.41584424430889
               ],
               [
                -83.2561448163338,
                42.4118421770456
               ],
               [
                -83.2387354430501,
                42.405264267856005
               ],
               [
                -83.23375990375729,
                42.4021311238546
               ],
               [
                -83.23118569863051,
                42.397083864760205
               ],
               [
                -83.2631133044016,
                42.3652305613088
               ],
               [
                -83.2642657528903,
                42.364304649244396
               ],
               [
                -83.2643662103588,
                42.3642739825101
               ],
               [
                -83.265483951973,
                42.364264741632105
               ]
              ]
             ],
             "type": "Polygon"
            },
            "id": "23",
            "properties": {
             "cluster": 6,
             "incident_count": 1834,
             "inj": 32,
             "inj_per_inc": 17.448200654307524
            },
            "type": "Feature"
           },
           {
            "bbox": [
             -83.043039652528,
             42.4210497489902,
             -82.9954226121281,
             42.4682900842991
            ],
            "geometry": {
             "coordinates": [
              [
               [
                -83.0010092872343,
                42.4210497489902
               ],
               [
                -83.0041152690148,
                42.4214704660239
               ],
               [
                -83.0331696711576,
                42.427229700205004
               ],
               [
                -83.0376439939874,
                42.429000054643396
               ],
               [
                -83.043039652528,
                42.4477670443611
               ],
               [
                -83.03138299172142,
                42.4682900842991
               ],
               [
                -82.9954226121281,
                42.4490578589354
               ],
               [
                -82.99545215592221,
                42.4487255319696
               ],
               [
                -82.9974348736954,
                42.438257887146605
               ],
               [
                -83.0005130556676,
                42.4227353860741
               ],
               [
                -83.0010092872343,
                42.4210497489902
               ]
              ]
             ],
             "type": "Polygon"
            },
            "id": "24",
            "properties": {
             "cluster": 12,
             "incident_count": 1467,
             "inj": 18,
             "inj_per_inc": 12.269938650306749
            },
            "type": "Feature"
           }
          ],
          "type": "FeatureCollection"
         },
         "ids": [
          0,
          1,
          2,
          3,
          4,
          5,
          6,
          7,
          8,
          9,
          10,
          11,
          12,
          13,
          14,
          15,
          16,
          17,
          18,
          19,
          20,
          21,
          22,
          23,
          24
         ],
         "locations": [
          7,
          20,
          23,
          21,
          0,
          15,
          19,
          5,
          9,
          8,
          2,
          17,
          10,
          3,
          22,
          14,
          11,
          13,
          18,
          24,
          1,
          4,
          16,
          6,
          12
         ],
         "marker": {
          "opacity": 0.6
         },
         "name": "Incident Cluster",
         "type": "choroplethmapbox",
         "z": [
          12.201073694485116,
          14.199655765920827,
          16.85823754789272,
          14.8870636550308,
          8.261211644374507,
          9.905894006934126,
          8.088675853804673,
          15.302404663589993,
          12.006861063464836,
          11.909335382251248,
          8.020261713803293,
          11.983471074380166,
          13.116236996834012,
          5.413313825896123,
          9.42079553384508,
          12.8068303094984,
          8.082497212931996,
          13.364779874213838,
          12.94665976178146,
          6.127450980392156,
          11.55115511551155,
          10.12206013694552,
          10.540184453227932,
          17.448200654307524,
          12.269938650306749
         ]
        }
       ],
       "layout": {
        "legend": {
         "title": {
          "text": "Test"
         }
        },
        "mapbox": {
         "bearing": 0,
         "center": {
          "lat": 42.33,
          "lon": -83.05
         },
         "pitch": 0,
         "style": "open-street-map",
         "zoom": 10
        },
        "template": {
         "data": {
          "bar": [
           {
            "error_x": {
             "color": "#2a3f5f"
            },
            "error_y": {
             "color": "#2a3f5f"
            },
            "marker": {
             "line": {
              "color": "#E5ECF6",
              "width": 0.5
             }
            },
            "type": "bar"
           }
          ],
          "barpolar": [
           {
            "marker": {
             "line": {
              "color": "#E5ECF6",
              "width": 0.5
             }
            },
            "type": "barpolar"
           }
          ],
          "carpet": [
           {
            "aaxis": {
             "endlinecolor": "#2a3f5f",
             "gridcolor": "white",
             "linecolor": "white",
             "minorgridcolor": "white",
             "startlinecolor": "#2a3f5f"
            },
            "baxis": {
             "endlinecolor": "#2a3f5f",
             "gridcolor": "white",
             "linecolor": "white",
             "minorgridcolor": "white",
             "startlinecolor": "#2a3f5f"
            },
            "type": "carpet"
           }
          ],
          "choropleth": [
           {
            "colorbar": {
             "outlinewidth": 0,
             "ticks": ""
            },
            "type": "choropleth"
           }
          ],
          "contour": [
           {
            "colorbar": {
             "outlinewidth": 0,
             "ticks": ""
            },
            "colorscale": [
             [
              0,
              "#0d0887"
             ],
             [
              0.1111111111111111,
              "#46039f"
             ],
             [
              0.2222222222222222,
              "#7201a8"
             ],
             [
              0.3333333333333333,
              "#9c179e"
             ],
             [
              0.4444444444444444,
              "#bd3786"
             ],
             [
              0.5555555555555556,
              "#d8576b"
             ],
             [
              0.6666666666666666,
              "#ed7953"
             ],
             [
              0.7777777777777778,
              "#fb9f3a"
             ],
             [
              0.8888888888888888,
              "#fdca26"
             ],
             [
              1,
              "#f0f921"
             ]
            ],
            "type": "contour"
           }
          ],
          "contourcarpet": [
           {
            "colorbar": {
             "outlinewidth": 0,
             "ticks": ""
            },
            "type": "contourcarpet"
           }
          ],
          "heatmap": [
           {
            "colorbar": {
             "outlinewidth": 0,
             "ticks": ""
            },
            "colorscale": [
             [
              0,
              "#0d0887"
             ],
             [
              0.1111111111111111,
              "#46039f"
             ],
             [
              0.2222222222222222,
              "#7201a8"
             ],
             [
              0.3333333333333333,
              "#9c179e"
             ],
             [
              0.4444444444444444,
              "#bd3786"
             ],
             [
              0.5555555555555556,
              "#d8576b"
             ],
             [
              0.6666666666666666,
              "#ed7953"
             ],
             [
              0.7777777777777778,
              "#fb9f3a"
             ],
             [
              0.8888888888888888,
              "#fdca26"
             ],
             [
              1,
              "#f0f921"
             ]
            ],
            "type": "heatmap"
           }
          ],
          "heatmapgl": [
           {
            "colorbar": {
             "outlinewidth": 0,
             "ticks": ""
            },
            "colorscale": [
             [
              0,
              "#0d0887"
             ],
             [
              0.1111111111111111,
              "#46039f"
             ],
             [
              0.2222222222222222,
              "#7201a8"
             ],
             [
              0.3333333333333333,
              "#9c179e"
             ],
             [
              0.4444444444444444,
              "#bd3786"
             ],
             [
              0.5555555555555556,
              "#d8576b"
             ],
             [
              0.6666666666666666,
              "#ed7953"
             ],
             [
              0.7777777777777778,
              "#fb9f3a"
             ],
             [
              0.8888888888888888,
              "#fdca26"
             ],
             [
              1,
              "#f0f921"
             ]
            ],
            "type": "heatmapgl"
           }
          ],
          "histogram": [
           {
            "marker": {
             "colorbar": {
              "outlinewidth": 0,
              "ticks": ""
             }
            },
            "type": "histogram"
           }
          ],
          "histogram2d": [
           {
            "colorbar": {
             "outlinewidth": 0,
             "ticks": ""
            },
            "colorscale": [
             [
              0,
              "#0d0887"
             ],
             [
              0.1111111111111111,
              "#46039f"
             ],
             [
              0.2222222222222222,
              "#7201a8"
             ],
             [
              0.3333333333333333,
              "#9c179e"
             ],
             [
              0.4444444444444444,
              "#bd3786"
             ],
             [
              0.5555555555555556,
              "#d8576b"
             ],
             [
              0.6666666666666666,
              "#ed7953"
             ],
             [
              0.7777777777777778,
              "#fb9f3a"
             ],
             [
              0.8888888888888888,
              "#fdca26"
             ],
             [
              1,
              "#f0f921"
             ]
            ],
            "type": "histogram2d"
           }
          ],
          "histogram2dcontour": [
           {
            "colorbar": {
             "outlinewidth": 0,
             "ticks": ""
            },
            "colorscale": [
             [
              0,
              "#0d0887"
             ],
             [
              0.1111111111111111,
              "#46039f"
             ],
             [
              0.2222222222222222,
              "#7201a8"
             ],
             [
              0.3333333333333333,
              "#9c179e"
             ],
             [
              0.4444444444444444,
              "#bd3786"
             ],
             [
              0.5555555555555556,
              "#d8576b"
             ],
             [
              0.6666666666666666,
              "#ed7953"
             ],
             [
              0.7777777777777778,
              "#fb9f3a"
             ],
             [
              0.8888888888888888,
              "#fdca26"
             ],
             [
              1,
              "#f0f921"
             ]
            ],
            "type": "histogram2dcontour"
           }
          ],
          "mesh3d": [
           {
            "colorbar": {
             "outlinewidth": 0,
             "ticks": ""
            },
            "type": "mesh3d"
           }
          ],
          "parcoords": [
           {
            "line": {
             "colorbar": {
              "outlinewidth": 0,
              "ticks": ""
             }
            },
            "type": "parcoords"
           }
          ],
          "pie": [
           {
            "automargin": true,
            "type": "pie"
           }
          ],
          "scatter": [
           {
            "marker": {
             "colorbar": {
              "outlinewidth": 0,
              "ticks": ""
             }
            },
            "type": "scatter"
           }
          ],
          "scatter3d": [
           {
            "line": {
             "colorbar": {
              "outlinewidth": 0,
              "ticks": ""
             }
            },
            "marker": {
             "colorbar": {
              "outlinewidth": 0,
              "ticks": ""
             }
            },
            "type": "scatter3d"
           }
          ],
          "scattercarpet": [
           {
            "marker": {
             "colorbar": {
              "outlinewidth": 0,
              "ticks": ""
             }
            },
            "type": "scattercarpet"
           }
          ],
          "scattergeo": [
           {
            "marker": {
             "colorbar": {
              "outlinewidth": 0,
              "ticks": ""
             }
            },
            "type": "scattergeo"
           }
          ],
          "scattergl": [
           {
            "marker": {
             "colorbar": {
              "outlinewidth": 0,
              "ticks": ""
             }
            },
            "type": "scattergl"
           }
          ],
          "scattermapbox": [
           {
            "marker": {
             "colorbar": {
              "outlinewidth": 0,
              "ticks": ""
             }
            },
            "type": "scattermapbox"
           }
          ],
          "scatterpolar": [
           {
            "marker": {
             "colorbar": {
              "outlinewidth": 0,
              "ticks": ""
             }
            },
            "type": "scatterpolar"
           }
          ],
          "scatterpolargl": [
           {
            "marker": {
             "colorbar": {
              "outlinewidth": 0,
              "ticks": ""
             }
            },
            "type": "scatterpolargl"
           }
          ],
          "scatterternary": [
           {
            "marker": {
             "colorbar": {
              "outlinewidth": 0,
              "ticks": ""
             }
            },
            "type": "scatterternary"
           }
          ],
          "surface": [
           {
            "colorbar": {
             "outlinewidth": 0,
             "ticks": ""
            },
            "colorscale": [
             [
              0,
              "#0d0887"
             ],
             [
              0.1111111111111111,
              "#46039f"
             ],
             [
              0.2222222222222222,
              "#7201a8"
             ],
             [
              0.3333333333333333,
              "#9c179e"
             ],
             [
              0.4444444444444444,
              "#bd3786"
             ],
             [
              0.5555555555555556,
              "#d8576b"
             ],
             [
              0.6666666666666666,
              "#ed7953"
             ],
             [
              0.7777777777777778,
              "#fb9f3a"
             ],
             [
              0.8888888888888888,
              "#fdca26"
             ],
             [
              1,
              "#f0f921"
             ]
            ],
            "type": "surface"
           }
          ],
          "table": [
           {
            "cells": {
             "fill": {
              "color": "#EBF0F8"
             },
             "line": {
              "color": "white"
             }
            },
            "header": {
             "fill": {
              "color": "#C8D4E3"
             },
             "line": {
              "color": "white"
             }
            },
            "type": "table"
           }
          ]
         },
         "layout": {
          "annotationdefaults": {
           "arrowcolor": "#2a3f5f",
           "arrowhead": 0,
           "arrowwidth": 1
          },
          "autotypenumbers": "strict",
          "coloraxis": {
           "colorbar": {
            "outlinewidth": 0,
            "ticks": ""
           }
          },
          "colorscale": {
           "diverging": [
            [
             0,
             "#8e0152"
            ],
            [
             0.1,
             "#c51b7d"
            ],
            [
             0.2,
             "#de77ae"
            ],
            [
             0.3,
             "#f1b6da"
            ],
            [
             0.4,
             "#fde0ef"
            ],
            [
             0.5,
             "#f7f7f7"
            ],
            [
             0.6,
             "#e6f5d0"
            ],
            [
             0.7,
             "#b8e186"
            ],
            [
             0.8,
             "#7fbc41"
            ],
            [
             0.9,
             "#4d9221"
            ],
            [
             1,
             "#276419"
            ]
           ],
           "sequential": [
            [
             0,
             "#0d0887"
            ],
            [
             0.1111111111111111,
             "#46039f"
            ],
            [
             0.2222222222222222,
             "#7201a8"
            ],
            [
             0.3333333333333333,
             "#9c179e"
            ],
            [
             0.4444444444444444,
             "#bd3786"
            ],
            [
             0.5555555555555556,
             "#d8576b"
            ],
            [
             0.6666666666666666,
             "#ed7953"
            ],
            [
             0.7777777777777778,
             "#fb9f3a"
            ],
            [
             0.8888888888888888,
             "#fdca26"
            ],
            [
             1,
             "#f0f921"
            ]
           ],
           "sequentialminus": [
            [
             0,
             "#0d0887"
            ],
            [
             0.1111111111111111,
             "#46039f"
            ],
            [
             0.2222222222222222,
             "#7201a8"
            ],
            [
             0.3333333333333333,
             "#9c179e"
            ],
            [
             0.4444444444444444,
             "#bd3786"
            ],
            [
             0.5555555555555556,
             "#d8576b"
            ],
            [
             0.6666666666666666,
             "#ed7953"
            ],
            [
             0.7777777777777778,
             "#fb9f3a"
            ],
            [
             0.8888888888888888,
             "#fdca26"
            ],
            [
             1,
             "#f0f921"
            ]
           ]
          },
          "colorway": [
           "#636efa",
           "#EF553B",
           "#00cc96",
           "#ab63fa",
           "#FFA15A",
           "#19d3f3",
           "#FF6692",
           "#B6E880",
           "#FF97FF",
           "#FECB52"
          ],
          "font": {
           "color": "#2a3f5f"
          },
          "geo": {
           "bgcolor": "white",
           "lakecolor": "white",
           "landcolor": "#E5ECF6",
           "showlakes": true,
           "showland": true,
           "subunitcolor": "white"
          },
          "hoverlabel": {
           "align": "left"
          },
          "hovermode": "closest",
          "mapbox": {
           "style": "light"
          },
          "paper_bgcolor": "white",
          "plot_bgcolor": "#E5ECF6",
          "polar": {
           "angularaxis": {
            "gridcolor": "white",
            "linecolor": "white",
            "ticks": ""
           },
           "bgcolor": "#E5ECF6",
           "radialaxis": {
            "gridcolor": "white",
            "linecolor": "white",
            "ticks": ""
           }
          },
          "scene": {
           "xaxis": {
            "backgroundcolor": "#E5ECF6",
            "gridcolor": "white",
            "gridwidth": 2,
            "linecolor": "white",
            "showbackground": true,
            "ticks": "",
            "zerolinecolor": "white"
           },
           "yaxis": {
            "backgroundcolor": "#E5ECF6",
            "gridcolor": "white",
            "gridwidth": 2,
            "linecolor": "white",
            "showbackground": true,
            "ticks": "",
            "zerolinecolor": "white"
           },
           "zaxis": {
            "backgroundcolor": "#E5ECF6",
            "gridcolor": "white",
            "gridwidth": 2,
            "linecolor": "white",
            "showbackground": true,
            "ticks": "",
            "zerolinecolor": "white"
           }
          },
          "shapedefaults": {
           "line": {
            "color": "#2a3f5f"
           }
          },
          "ternary": {
           "aaxis": {
            "gridcolor": "white",
            "linecolor": "white",
            "ticks": ""
           },
           "baxis": {
            "gridcolor": "white",
            "linecolor": "white",
            "ticks": ""
           },
           "bgcolor": "#E5ECF6",
           "caxis": {
            "gridcolor": "white",
            "linecolor": "white",
            "ticks": ""
           }
          },
          "title": {
           "x": 0.05
          },
          "xaxis": {
           "automargin": true,
           "gridcolor": "white",
           "linecolor": "white",
           "ticks": "",
           "title": {
            "standoff": 15
           },
           "zerolinecolor": "white",
           "zerolinewidth": 2
          },
          "yaxis": {
           "automargin": true,
           "gridcolor": "white",
           "linecolor": "white",
           "ticks": "",
           "title": {
            "standoff": 15
           },
           "zerolinecolor": "white",
           "zerolinewidth": 2
          }
         }
        }
       }
      }
     },
     "metadata": {}
    }
   ],
   "metadata": {}
  },
  {
   "cell_type": "code",
   "execution_count": null,
   "source": [
    "##testing - use plotly express function\n",
    "center = {\"lat\": 42.33, \"lon\": -83.05}\n",
    "fig = px.choropleth_mapbox(geoDf,\n",
    "                           geojson=geoDf.geometry,\n",
    "                           locations=geoDf.index,\n",
    "                           color=\"inj/inc\",\n",
    "                           mapbox_style=\"open-street-map\",\n",
    "                           color_continuous_scale=[(0,\"white\"), (1,\"red\")],\n",
    "                           center=center,\n",
    "                           opacity=.6,\n",
    "                           zoom=9)\n",
    "fig.show()"
   ],
   "outputs": [],
   "metadata": {}
  },
  {
   "cell_type": "code",
   "execution_count": 304,
   "source": [
    "##create heatmap of # of incidents by day of week vs hour of day\n",
    "dow_hour_counts = fire_inc.groupby(\n",
    "    by=['DoW', 'hour'])['injury_or_fatality'].count().reset_index()\n",
    "dow_hour_counts = dow_hour_counts.pivot(\n",
    "    index='DoW', columns='hour', values='injury_or_fatality')\n",
    "px.imshow(dow_hour_counts)"
   ],
   "outputs": [
    {
     "output_type": "display_data",
     "data": {
      "text/html": [
       "<div>                            <div id=\"5b301cc4-3219-43a4-919e-6419faaccef9\" class=\"plotly-graph-div\" style=\"height:525px; width:100%;\"></div>            <script type=\"text/javascript\">                require([\"plotly\"], function(Plotly) {                    window.PLOTLYENV=window.PLOTLYENV || {};                                    if (document.getElementById(\"5b301cc4-3219-43a4-919e-6419faaccef9\")) {                    Plotly.newPlot(                        \"5b301cc4-3219-43a4-919e-6419faaccef9\",                        [{\"coloraxis\": \"coloraxis\", \"hovertemplate\": \"hour: %{x}<br>DoW: %{y}<br>color: %{z}<extra></extra>\", \"name\": \"0\", \"type\": \"heatmap\", \"x\": [0, 1, 2, 3, 4, 5, 6, 7, 8, 9, 10, 11, 12, 13, 14, 15, 16, 17, 18, 19, 20, 21, 22, 23], \"xaxis\": \"x\", \"y\": [0, 1, 2, 3, 4, 5, 6], \"yaxis\": \"y\", \"z\": [[525, 464, 459, 398, 377, 305, 312, 237, 234, 211, 264, 271, 272, 322, 379, 395, 383, 412, 432, 460, 492, 485, 575, 516], [529, 494, 477, 395, 339, 292, 266, 262, 213, 225, 207, 227, 283, 340, 356, 380, 409, 386, 411, 475, 515, 511, 507, 573], [478, 451, 448, 396, 382, 327, 302, 260, 255, 223, 237, 237, 297, 317, 374, 397, 425, 396, 420, 468, 516, 508, 533, 504], [444, 434, 445, 464, 353, 349, 279, 254, 219, 214, 243, 276, 318, 365, 371, 376, 390, 469, 465, 476, 491, 476, 516, 508], [504, 490, 531, 400, 370, 318, 282, 268, 222, 208, 220, 250, 308, 359, 400, 401, 428, 460, 462, 440, 488, 530, 516, 500], [514, 502, 493, 416, 390, 390, 377, 389, 310, 256, 238, 213, 266, 330, 375, 383, 393, 406, 504, 451, 493, 473, 468, 531], [520, 550, 499, 454, 407, 432, 443, 408, 348, 293, 241, 235, 265, 290, 353, 412, 424, 453, 469, 456, 485, 486, 477, 483]]}],                        {\"coloraxis\": {\"colorscale\": [[0.0, \"#0d0887\"], [0.1111111111111111, \"#46039f\"], [0.2222222222222222, \"#7201a8\"], [0.3333333333333333, \"#9c179e\"], [0.4444444444444444, \"#bd3786\"], [0.5555555555555556, \"#d8576b\"], [0.6666666666666666, \"#ed7953\"], [0.7777777777777778, \"#fb9f3a\"], [0.8888888888888888, \"#fdca26\"], [1.0, \"#f0f921\"]]}, \"margin\": {\"t\": 60}, \"template\": {\"data\": {\"bar\": [{\"error_x\": {\"color\": \"#2a3f5f\"}, \"error_y\": {\"color\": \"#2a3f5f\"}, \"marker\": {\"line\": {\"color\": \"#E5ECF6\", \"width\": 0.5}}, \"type\": \"bar\"}], \"barpolar\": [{\"marker\": {\"line\": {\"color\": \"#E5ECF6\", \"width\": 0.5}}, \"type\": \"barpolar\"}], \"carpet\": [{\"aaxis\": {\"endlinecolor\": \"#2a3f5f\", \"gridcolor\": \"white\", \"linecolor\": \"white\", \"minorgridcolor\": \"white\", \"startlinecolor\": \"#2a3f5f\"}, \"baxis\": {\"endlinecolor\": \"#2a3f5f\", \"gridcolor\": \"white\", \"linecolor\": \"white\", \"minorgridcolor\": \"white\", \"startlinecolor\": \"#2a3f5f\"}, \"type\": \"carpet\"}], \"choropleth\": [{\"colorbar\": {\"outlinewidth\": 0, \"ticks\": \"\"}, \"type\": \"choropleth\"}], \"contour\": [{\"colorbar\": {\"outlinewidth\": 0, \"ticks\": \"\"}, \"colorscale\": [[0.0, \"#0d0887\"], [0.1111111111111111, \"#46039f\"], [0.2222222222222222, \"#7201a8\"], [0.3333333333333333, \"#9c179e\"], [0.4444444444444444, \"#bd3786\"], [0.5555555555555556, \"#d8576b\"], [0.6666666666666666, \"#ed7953\"], [0.7777777777777778, \"#fb9f3a\"], [0.8888888888888888, \"#fdca26\"], [1.0, \"#f0f921\"]], \"type\": \"contour\"}], \"contourcarpet\": [{\"colorbar\": {\"outlinewidth\": 0, \"ticks\": \"\"}, \"type\": \"contourcarpet\"}], \"heatmap\": [{\"colorbar\": {\"outlinewidth\": 0, \"ticks\": \"\"}, \"colorscale\": [[0.0, \"#0d0887\"], [0.1111111111111111, \"#46039f\"], [0.2222222222222222, \"#7201a8\"], [0.3333333333333333, \"#9c179e\"], [0.4444444444444444, \"#bd3786\"], [0.5555555555555556, \"#d8576b\"], [0.6666666666666666, \"#ed7953\"], [0.7777777777777778, \"#fb9f3a\"], [0.8888888888888888, \"#fdca26\"], [1.0, \"#f0f921\"]], \"type\": \"heatmap\"}], \"heatmapgl\": [{\"colorbar\": {\"outlinewidth\": 0, \"ticks\": \"\"}, \"colorscale\": [[0.0, \"#0d0887\"], [0.1111111111111111, \"#46039f\"], [0.2222222222222222, \"#7201a8\"], [0.3333333333333333, \"#9c179e\"], [0.4444444444444444, \"#bd3786\"], [0.5555555555555556, \"#d8576b\"], [0.6666666666666666, \"#ed7953\"], [0.7777777777777778, \"#fb9f3a\"], [0.8888888888888888, \"#fdca26\"], [1.0, \"#f0f921\"]], \"type\": \"heatmapgl\"}], \"histogram\": [{\"marker\": {\"colorbar\": {\"outlinewidth\": 0, \"ticks\": \"\"}}, \"type\": \"histogram\"}], \"histogram2d\": [{\"colorbar\": {\"outlinewidth\": 0, \"ticks\": \"\"}, \"colorscale\": [[0.0, \"#0d0887\"], [0.1111111111111111, \"#46039f\"], [0.2222222222222222, \"#7201a8\"], [0.3333333333333333, \"#9c179e\"], [0.4444444444444444, \"#bd3786\"], [0.5555555555555556, \"#d8576b\"], [0.6666666666666666, \"#ed7953\"], [0.7777777777777778, \"#fb9f3a\"], [0.8888888888888888, \"#fdca26\"], [1.0, \"#f0f921\"]], \"type\": \"histogram2d\"}], \"histogram2dcontour\": [{\"colorbar\": {\"outlinewidth\": 0, \"ticks\": \"\"}, \"colorscale\": [[0.0, \"#0d0887\"], [0.1111111111111111, \"#46039f\"], [0.2222222222222222, \"#7201a8\"], [0.3333333333333333, \"#9c179e\"], [0.4444444444444444, \"#bd3786\"], [0.5555555555555556, \"#d8576b\"], [0.6666666666666666, \"#ed7953\"], [0.7777777777777778, \"#fb9f3a\"], [0.8888888888888888, \"#fdca26\"], [1.0, \"#f0f921\"]], \"type\": \"histogram2dcontour\"}], \"mesh3d\": [{\"colorbar\": {\"outlinewidth\": 0, \"ticks\": \"\"}, \"type\": \"mesh3d\"}], \"parcoords\": [{\"line\": {\"colorbar\": {\"outlinewidth\": 0, \"ticks\": \"\"}}, \"type\": \"parcoords\"}], \"pie\": [{\"automargin\": true, \"type\": \"pie\"}], \"scatter\": [{\"marker\": {\"colorbar\": {\"outlinewidth\": 0, \"ticks\": \"\"}}, \"type\": \"scatter\"}], \"scatter3d\": [{\"line\": {\"colorbar\": {\"outlinewidth\": 0, \"ticks\": \"\"}}, \"marker\": {\"colorbar\": {\"outlinewidth\": 0, \"ticks\": \"\"}}, \"type\": \"scatter3d\"}], \"scattercarpet\": [{\"marker\": {\"colorbar\": {\"outlinewidth\": 0, \"ticks\": \"\"}}, \"type\": \"scattercarpet\"}], \"scattergeo\": [{\"marker\": {\"colorbar\": {\"outlinewidth\": 0, \"ticks\": \"\"}}, \"type\": \"scattergeo\"}], \"scattergl\": [{\"marker\": {\"colorbar\": {\"outlinewidth\": 0, \"ticks\": \"\"}}, \"type\": \"scattergl\"}], \"scattermapbox\": [{\"marker\": {\"colorbar\": {\"outlinewidth\": 0, \"ticks\": \"\"}}, \"type\": \"scattermapbox\"}], \"scatterpolar\": [{\"marker\": {\"colorbar\": {\"outlinewidth\": 0, \"ticks\": \"\"}}, \"type\": \"scatterpolar\"}], \"scatterpolargl\": [{\"marker\": {\"colorbar\": {\"outlinewidth\": 0, \"ticks\": \"\"}}, \"type\": \"scatterpolargl\"}], \"scatterternary\": [{\"marker\": {\"colorbar\": {\"outlinewidth\": 0, \"ticks\": \"\"}}, \"type\": \"scatterternary\"}], \"surface\": [{\"colorbar\": {\"outlinewidth\": 0, \"ticks\": \"\"}, \"colorscale\": [[0.0, \"#0d0887\"], [0.1111111111111111, \"#46039f\"], [0.2222222222222222, \"#7201a8\"], [0.3333333333333333, \"#9c179e\"], [0.4444444444444444, \"#bd3786\"], [0.5555555555555556, \"#d8576b\"], [0.6666666666666666, \"#ed7953\"], [0.7777777777777778, \"#fb9f3a\"], [0.8888888888888888, \"#fdca26\"], [1.0, \"#f0f921\"]], \"type\": \"surface\"}], \"table\": [{\"cells\": {\"fill\": {\"color\": \"#EBF0F8\"}, \"line\": {\"color\": \"white\"}}, \"header\": {\"fill\": {\"color\": \"#C8D4E3\"}, \"line\": {\"color\": \"white\"}}, \"type\": \"table\"}]}, \"layout\": {\"annotationdefaults\": {\"arrowcolor\": \"#2a3f5f\", \"arrowhead\": 0, \"arrowwidth\": 1}, \"autotypenumbers\": \"strict\", \"coloraxis\": {\"colorbar\": {\"outlinewidth\": 0, \"ticks\": \"\"}}, \"colorscale\": {\"diverging\": [[0, \"#8e0152\"], [0.1, \"#c51b7d\"], [0.2, \"#de77ae\"], [0.3, \"#f1b6da\"], [0.4, \"#fde0ef\"], [0.5, \"#f7f7f7\"], [0.6, \"#e6f5d0\"], [0.7, \"#b8e186\"], [0.8, \"#7fbc41\"], [0.9, \"#4d9221\"], [1, \"#276419\"]], \"sequential\": [[0.0, \"#0d0887\"], [0.1111111111111111, \"#46039f\"], [0.2222222222222222, \"#7201a8\"], [0.3333333333333333, \"#9c179e\"], [0.4444444444444444, \"#bd3786\"], [0.5555555555555556, \"#d8576b\"], [0.6666666666666666, \"#ed7953\"], [0.7777777777777778, \"#fb9f3a\"], [0.8888888888888888, \"#fdca26\"], [1.0, \"#f0f921\"]], \"sequentialminus\": [[0.0, \"#0d0887\"], [0.1111111111111111, \"#46039f\"], [0.2222222222222222, \"#7201a8\"], [0.3333333333333333, \"#9c179e\"], [0.4444444444444444, \"#bd3786\"], [0.5555555555555556, \"#d8576b\"], [0.6666666666666666, \"#ed7953\"], [0.7777777777777778, \"#fb9f3a\"], [0.8888888888888888, \"#fdca26\"], [1.0, \"#f0f921\"]]}, \"colorway\": [\"#636efa\", \"#EF553B\", \"#00cc96\", \"#ab63fa\", \"#FFA15A\", \"#19d3f3\", \"#FF6692\", \"#B6E880\", \"#FF97FF\", \"#FECB52\"], \"font\": {\"color\": \"#2a3f5f\"}, \"geo\": {\"bgcolor\": \"white\", \"lakecolor\": \"white\", \"landcolor\": \"#E5ECF6\", \"showlakes\": true, \"showland\": true, \"subunitcolor\": \"white\"}, \"hoverlabel\": {\"align\": \"left\"}, \"hovermode\": \"closest\", \"mapbox\": {\"style\": \"light\"}, \"paper_bgcolor\": \"white\", \"plot_bgcolor\": \"#E5ECF6\", \"polar\": {\"angularaxis\": {\"gridcolor\": \"white\", \"linecolor\": \"white\", \"ticks\": \"\"}, \"bgcolor\": \"#E5ECF6\", \"radialaxis\": {\"gridcolor\": \"white\", \"linecolor\": \"white\", \"ticks\": \"\"}}, \"scene\": {\"xaxis\": {\"backgroundcolor\": \"#E5ECF6\", \"gridcolor\": \"white\", \"gridwidth\": 2, \"linecolor\": \"white\", \"showbackground\": true, \"ticks\": \"\", \"zerolinecolor\": \"white\"}, \"yaxis\": {\"backgroundcolor\": \"#E5ECF6\", \"gridcolor\": \"white\", \"gridwidth\": 2, \"linecolor\": \"white\", \"showbackground\": true, \"ticks\": \"\", \"zerolinecolor\": \"white\"}, \"zaxis\": {\"backgroundcolor\": \"#E5ECF6\", \"gridcolor\": \"white\", \"gridwidth\": 2, \"linecolor\": \"white\", \"showbackground\": true, \"ticks\": \"\", \"zerolinecolor\": \"white\"}}, \"shapedefaults\": {\"line\": {\"color\": \"#2a3f5f\"}}, \"ternary\": {\"aaxis\": {\"gridcolor\": \"white\", \"linecolor\": \"white\", \"ticks\": \"\"}, \"baxis\": {\"gridcolor\": \"white\", \"linecolor\": \"white\", \"ticks\": \"\"}, \"bgcolor\": \"#E5ECF6\", \"caxis\": {\"gridcolor\": \"white\", \"linecolor\": \"white\", \"ticks\": \"\"}}, \"title\": {\"x\": 0.05}, \"xaxis\": {\"automargin\": true, \"gridcolor\": \"white\", \"linecolor\": \"white\", \"ticks\": \"\", \"title\": {\"standoff\": 15}, \"zerolinecolor\": \"white\", \"zerolinewidth\": 2}, \"yaxis\": {\"automargin\": true, \"gridcolor\": \"white\", \"linecolor\": \"white\", \"ticks\": \"\", \"title\": {\"standoff\": 15}, \"zerolinecolor\": \"white\", \"zerolinewidth\": 2}}}, \"xaxis\": {\"anchor\": \"y\", \"constrain\": \"domain\", \"domain\": [0.0, 1.0], \"scaleanchor\": \"y\", \"title\": {\"text\": \"hour\"}}, \"yaxis\": {\"anchor\": \"x\", \"autorange\": \"reversed\", \"constrain\": \"domain\", \"domain\": [0.0, 1.0], \"title\": {\"text\": \"DoW\"}}},                        {\"responsive\": true}                    ).then(function(){\n",
       "                            \n",
       "var gd = document.getElementById('5b301cc4-3219-43a4-919e-6419faaccef9');\n",
       "var x = new MutationObserver(function (mutations, observer) {{\n",
       "        var display = window.getComputedStyle(gd).display;\n",
       "        if (!display || display === 'none') {{\n",
       "            console.log([gd, 'removed!']);\n",
       "            Plotly.purge(gd);\n",
       "            observer.disconnect();\n",
       "        }}\n",
       "}});\n",
       "\n",
       "// Listen for the removal of the full notebook cells\n",
       "var notebookContainer = gd.closest('#notebook-container');\n",
       "if (notebookContainer) {{\n",
       "    x.observe(notebookContainer, {childList: true});\n",
       "}}\n",
       "\n",
       "// Listen for the clearing of the current output cell\n",
       "var outputEl = gd.closest('.output');\n",
       "if (outputEl) {{\n",
       "    x.observe(outputEl, {childList: true});\n",
       "}}\n",
       "\n",
       "                        })                };                });            </script>        </div>"
      ],
      "application/vnd.plotly.v1+json": {
       "config": {
        "plotlyServerURL": "https://plot.ly"
       },
       "data": [
        {
         "coloraxis": "coloraxis",
         "hovertemplate": "hour: %{x}<br>DoW: %{y}<br>color: %{z}<extra></extra>",
         "name": "0",
         "type": "heatmap",
         "x": [
          0,
          1,
          2,
          3,
          4,
          5,
          6,
          7,
          8,
          9,
          10,
          11,
          12,
          13,
          14,
          15,
          16,
          17,
          18,
          19,
          20,
          21,
          22,
          23
         ],
         "xaxis": "x",
         "y": [
          0,
          1,
          2,
          3,
          4,
          5,
          6
         ],
         "yaxis": "y",
         "z": [
          [
           525,
           464,
           459,
           398,
           377,
           305,
           312,
           237,
           234,
           211,
           264,
           271,
           272,
           322,
           379,
           395,
           383,
           412,
           432,
           460,
           492,
           485,
           575,
           516
          ],
          [
           529,
           494,
           477,
           395,
           339,
           292,
           266,
           262,
           213,
           225,
           207,
           227,
           283,
           340,
           356,
           380,
           409,
           386,
           411,
           475,
           515,
           511,
           507,
           573
          ],
          [
           478,
           451,
           448,
           396,
           382,
           327,
           302,
           260,
           255,
           223,
           237,
           237,
           297,
           317,
           374,
           397,
           425,
           396,
           420,
           468,
           516,
           508,
           533,
           504
          ],
          [
           444,
           434,
           445,
           464,
           353,
           349,
           279,
           254,
           219,
           214,
           243,
           276,
           318,
           365,
           371,
           376,
           390,
           469,
           465,
           476,
           491,
           476,
           516,
           508
          ],
          [
           504,
           490,
           531,
           400,
           370,
           318,
           282,
           268,
           222,
           208,
           220,
           250,
           308,
           359,
           400,
           401,
           428,
           460,
           462,
           440,
           488,
           530,
           516,
           500
          ],
          [
           514,
           502,
           493,
           416,
           390,
           390,
           377,
           389,
           310,
           256,
           238,
           213,
           266,
           330,
           375,
           383,
           393,
           406,
           504,
           451,
           493,
           473,
           468,
           531
          ],
          [
           520,
           550,
           499,
           454,
           407,
           432,
           443,
           408,
           348,
           293,
           241,
           235,
           265,
           290,
           353,
           412,
           424,
           453,
           469,
           456,
           485,
           486,
           477,
           483
          ]
         ]
        }
       ],
       "layout": {
        "coloraxis": {
         "colorscale": [
          [
           0,
           "#0d0887"
          ],
          [
           0.1111111111111111,
           "#46039f"
          ],
          [
           0.2222222222222222,
           "#7201a8"
          ],
          [
           0.3333333333333333,
           "#9c179e"
          ],
          [
           0.4444444444444444,
           "#bd3786"
          ],
          [
           0.5555555555555556,
           "#d8576b"
          ],
          [
           0.6666666666666666,
           "#ed7953"
          ],
          [
           0.7777777777777778,
           "#fb9f3a"
          ],
          [
           0.8888888888888888,
           "#fdca26"
          ],
          [
           1,
           "#f0f921"
          ]
         ]
        },
        "margin": {
         "t": 60
        },
        "template": {
         "data": {
          "bar": [
           {
            "error_x": {
             "color": "#2a3f5f"
            },
            "error_y": {
             "color": "#2a3f5f"
            },
            "marker": {
             "line": {
              "color": "#E5ECF6",
              "width": 0.5
             }
            },
            "type": "bar"
           }
          ],
          "barpolar": [
           {
            "marker": {
             "line": {
              "color": "#E5ECF6",
              "width": 0.5
             }
            },
            "type": "barpolar"
           }
          ],
          "carpet": [
           {
            "aaxis": {
             "endlinecolor": "#2a3f5f",
             "gridcolor": "white",
             "linecolor": "white",
             "minorgridcolor": "white",
             "startlinecolor": "#2a3f5f"
            },
            "baxis": {
             "endlinecolor": "#2a3f5f",
             "gridcolor": "white",
             "linecolor": "white",
             "minorgridcolor": "white",
             "startlinecolor": "#2a3f5f"
            },
            "type": "carpet"
           }
          ],
          "choropleth": [
           {
            "colorbar": {
             "outlinewidth": 0,
             "ticks": ""
            },
            "type": "choropleth"
           }
          ],
          "contour": [
           {
            "colorbar": {
             "outlinewidth": 0,
             "ticks": ""
            },
            "colorscale": [
             [
              0,
              "#0d0887"
             ],
             [
              0.1111111111111111,
              "#46039f"
             ],
             [
              0.2222222222222222,
              "#7201a8"
             ],
             [
              0.3333333333333333,
              "#9c179e"
             ],
             [
              0.4444444444444444,
              "#bd3786"
             ],
             [
              0.5555555555555556,
              "#d8576b"
             ],
             [
              0.6666666666666666,
              "#ed7953"
             ],
             [
              0.7777777777777778,
              "#fb9f3a"
             ],
             [
              0.8888888888888888,
              "#fdca26"
             ],
             [
              1,
              "#f0f921"
             ]
            ],
            "type": "contour"
           }
          ],
          "contourcarpet": [
           {
            "colorbar": {
             "outlinewidth": 0,
             "ticks": ""
            },
            "type": "contourcarpet"
           }
          ],
          "heatmap": [
           {
            "colorbar": {
             "outlinewidth": 0,
             "ticks": ""
            },
            "colorscale": [
             [
              0,
              "#0d0887"
             ],
             [
              0.1111111111111111,
              "#46039f"
             ],
             [
              0.2222222222222222,
              "#7201a8"
             ],
             [
              0.3333333333333333,
              "#9c179e"
             ],
             [
              0.4444444444444444,
              "#bd3786"
             ],
             [
              0.5555555555555556,
              "#d8576b"
             ],
             [
              0.6666666666666666,
              "#ed7953"
             ],
             [
              0.7777777777777778,
              "#fb9f3a"
             ],
             [
              0.8888888888888888,
              "#fdca26"
             ],
             [
              1,
              "#f0f921"
             ]
            ],
            "type": "heatmap"
           }
          ],
          "heatmapgl": [
           {
            "colorbar": {
             "outlinewidth": 0,
             "ticks": ""
            },
            "colorscale": [
             [
              0,
              "#0d0887"
             ],
             [
              0.1111111111111111,
              "#46039f"
             ],
             [
              0.2222222222222222,
              "#7201a8"
             ],
             [
              0.3333333333333333,
              "#9c179e"
             ],
             [
              0.4444444444444444,
              "#bd3786"
             ],
             [
              0.5555555555555556,
              "#d8576b"
             ],
             [
              0.6666666666666666,
              "#ed7953"
             ],
             [
              0.7777777777777778,
              "#fb9f3a"
             ],
             [
              0.8888888888888888,
              "#fdca26"
             ],
             [
              1,
              "#f0f921"
             ]
            ],
            "type": "heatmapgl"
           }
          ],
          "histogram": [
           {
            "marker": {
             "colorbar": {
              "outlinewidth": 0,
              "ticks": ""
             }
            },
            "type": "histogram"
           }
          ],
          "histogram2d": [
           {
            "colorbar": {
             "outlinewidth": 0,
             "ticks": ""
            },
            "colorscale": [
             [
              0,
              "#0d0887"
             ],
             [
              0.1111111111111111,
              "#46039f"
             ],
             [
              0.2222222222222222,
              "#7201a8"
             ],
             [
              0.3333333333333333,
              "#9c179e"
             ],
             [
              0.4444444444444444,
              "#bd3786"
             ],
             [
              0.5555555555555556,
              "#d8576b"
             ],
             [
              0.6666666666666666,
              "#ed7953"
             ],
             [
              0.7777777777777778,
              "#fb9f3a"
             ],
             [
              0.8888888888888888,
              "#fdca26"
             ],
             [
              1,
              "#f0f921"
             ]
            ],
            "type": "histogram2d"
           }
          ],
          "histogram2dcontour": [
           {
            "colorbar": {
             "outlinewidth": 0,
             "ticks": ""
            },
            "colorscale": [
             [
              0,
              "#0d0887"
             ],
             [
              0.1111111111111111,
              "#46039f"
             ],
             [
              0.2222222222222222,
              "#7201a8"
             ],
             [
              0.3333333333333333,
              "#9c179e"
             ],
             [
              0.4444444444444444,
              "#bd3786"
             ],
             [
              0.5555555555555556,
              "#d8576b"
             ],
             [
              0.6666666666666666,
              "#ed7953"
             ],
             [
              0.7777777777777778,
              "#fb9f3a"
             ],
             [
              0.8888888888888888,
              "#fdca26"
             ],
             [
              1,
              "#f0f921"
             ]
            ],
            "type": "histogram2dcontour"
           }
          ],
          "mesh3d": [
           {
            "colorbar": {
             "outlinewidth": 0,
             "ticks": ""
            },
            "type": "mesh3d"
           }
          ],
          "parcoords": [
           {
            "line": {
             "colorbar": {
              "outlinewidth": 0,
              "ticks": ""
             }
            },
            "type": "parcoords"
           }
          ],
          "pie": [
           {
            "automargin": true,
            "type": "pie"
           }
          ],
          "scatter": [
           {
            "marker": {
             "colorbar": {
              "outlinewidth": 0,
              "ticks": ""
             }
            },
            "type": "scatter"
           }
          ],
          "scatter3d": [
           {
            "line": {
             "colorbar": {
              "outlinewidth": 0,
              "ticks": ""
             }
            },
            "marker": {
             "colorbar": {
              "outlinewidth": 0,
              "ticks": ""
             }
            },
            "type": "scatter3d"
           }
          ],
          "scattercarpet": [
           {
            "marker": {
             "colorbar": {
              "outlinewidth": 0,
              "ticks": ""
             }
            },
            "type": "scattercarpet"
           }
          ],
          "scattergeo": [
           {
            "marker": {
             "colorbar": {
              "outlinewidth": 0,
              "ticks": ""
             }
            },
            "type": "scattergeo"
           }
          ],
          "scattergl": [
           {
            "marker": {
             "colorbar": {
              "outlinewidth": 0,
              "ticks": ""
             }
            },
            "type": "scattergl"
           }
          ],
          "scattermapbox": [
           {
            "marker": {
             "colorbar": {
              "outlinewidth": 0,
              "ticks": ""
             }
            },
            "type": "scattermapbox"
           }
          ],
          "scatterpolar": [
           {
            "marker": {
             "colorbar": {
              "outlinewidth": 0,
              "ticks": ""
             }
            },
            "type": "scatterpolar"
           }
          ],
          "scatterpolargl": [
           {
            "marker": {
             "colorbar": {
              "outlinewidth": 0,
              "ticks": ""
             }
            },
            "type": "scatterpolargl"
           }
          ],
          "scatterternary": [
           {
            "marker": {
             "colorbar": {
              "outlinewidth": 0,
              "ticks": ""
             }
            },
            "type": "scatterternary"
           }
          ],
          "surface": [
           {
            "colorbar": {
             "outlinewidth": 0,
             "ticks": ""
            },
            "colorscale": [
             [
              0,
              "#0d0887"
             ],
             [
              0.1111111111111111,
              "#46039f"
             ],
             [
              0.2222222222222222,
              "#7201a8"
             ],
             [
              0.3333333333333333,
              "#9c179e"
             ],
             [
              0.4444444444444444,
              "#bd3786"
             ],
             [
              0.5555555555555556,
              "#d8576b"
             ],
             [
              0.6666666666666666,
              "#ed7953"
             ],
             [
              0.7777777777777778,
              "#fb9f3a"
             ],
             [
              0.8888888888888888,
              "#fdca26"
             ],
             [
              1,
              "#f0f921"
             ]
            ],
            "type": "surface"
           }
          ],
          "table": [
           {
            "cells": {
             "fill": {
              "color": "#EBF0F8"
             },
             "line": {
              "color": "white"
             }
            },
            "header": {
             "fill": {
              "color": "#C8D4E3"
             },
             "line": {
              "color": "white"
             }
            },
            "type": "table"
           }
          ]
         },
         "layout": {
          "annotationdefaults": {
           "arrowcolor": "#2a3f5f",
           "arrowhead": 0,
           "arrowwidth": 1
          },
          "autotypenumbers": "strict",
          "coloraxis": {
           "colorbar": {
            "outlinewidth": 0,
            "ticks": ""
           }
          },
          "colorscale": {
           "diverging": [
            [
             0,
             "#8e0152"
            ],
            [
             0.1,
             "#c51b7d"
            ],
            [
             0.2,
             "#de77ae"
            ],
            [
             0.3,
             "#f1b6da"
            ],
            [
             0.4,
             "#fde0ef"
            ],
            [
             0.5,
             "#f7f7f7"
            ],
            [
             0.6,
             "#e6f5d0"
            ],
            [
             0.7,
             "#b8e186"
            ],
            [
             0.8,
             "#7fbc41"
            ],
            [
             0.9,
             "#4d9221"
            ],
            [
             1,
             "#276419"
            ]
           ],
           "sequential": [
            [
             0,
             "#0d0887"
            ],
            [
             0.1111111111111111,
             "#46039f"
            ],
            [
             0.2222222222222222,
             "#7201a8"
            ],
            [
             0.3333333333333333,
             "#9c179e"
            ],
            [
             0.4444444444444444,
             "#bd3786"
            ],
            [
             0.5555555555555556,
             "#d8576b"
            ],
            [
             0.6666666666666666,
             "#ed7953"
            ],
            [
             0.7777777777777778,
             "#fb9f3a"
            ],
            [
             0.8888888888888888,
             "#fdca26"
            ],
            [
             1,
             "#f0f921"
            ]
           ],
           "sequentialminus": [
            [
             0,
             "#0d0887"
            ],
            [
             0.1111111111111111,
             "#46039f"
            ],
            [
             0.2222222222222222,
             "#7201a8"
            ],
            [
             0.3333333333333333,
             "#9c179e"
            ],
            [
             0.4444444444444444,
             "#bd3786"
            ],
            [
             0.5555555555555556,
             "#d8576b"
            ],
            [
             0.6666666666666666,
             "#ed7953"
            ],
            [
             0.7777777777777778,
             "#fb9f3a"
            ],
            [
             0.8888888888888888,
             "#fdca26"
            ],
            [
             1,
             "#f0f921"
            ]
           ]
          },
          "colorway": [
           "#636efa",
           "#EF553B",
           "#00cc96",
           "#ab63fa",
           "#FFA15A",
           "#19d3f3",
           "#FF6692",
           "#B6E880",
           "#FF97FF",
           "#FECB52"
          ],
          "font": {
           "color": "#2a3f5f"
          },
          "geo": {
           "bgcolor": "white",
           "lakecolor": "white",
           "landcolor": "#E5ECF6",
           "showlakes": true,
           "showland": true,
           "subunitcolor": "white"
          },
          "hoverlabel": {
           "align": "left"
          },
          "hovermode": "closest",
          "mapbox": {
           "style": "light"
          },
          "paper_bgcolor": "white",
          "plot_bgcolor": "#E5ECF6",
          "polar": {
           "angularaxis": {
            "gridcolor": "white",
            "linecolor": "white",
            "ticks": ""
           },
           "bgcolor": "#E5ECF6",
           "radialaxis": {
            "gridcolor": "white",
            "linecolor": "white",
            "ticks": ""
           }
          },
          "scene": {
           "xaxis": {
            "backgroundcolor": "#E5ECF6",
            "gridcolor": "white",
            "gridwidth": 2,
            "linecolor": "white",
            "showbackground": true,
            "ticks": "",
            "zerolinecolor": "white"
           },
           "yaxis": {
            "backgroundcolor": "#E5ECF6",
            "gridcolor": "white",
            "gridwidth": 2,
            "linecolor": "white",
            "showbackground": true,
            "ticks": "",
            "zerolinecolor": "white"
           },
           "zaxis": {
            "backgroundcolor": "#E5ECF6",
            "gridcolor": "white",
            "gridwidth": 2,
            "linecolor": "white",
            "showbackground": true,
            "ticks": "",
            "zerolinecolor": "white"
           }
          },
          "shapedefaults": {
           "line": {
            "color": "#2a3f5f"
           }
          },
          "ternary": {
           "aaxis": {
            "gridcolor": "white",
            "linecolor": "white",
            "ticks": ""
           },
           "baxis": {
            "gridcolor": "white",
            "linecolor": "white",
            "ticks": ""
           },
           "bgcolor": "#E5ECF6",
           "caxis": {
            "gridcolor": "white",
            "linecolor": "white",
            "ticks": ""
           }
          },
          "title": {
           "x": 0.05
          },
          "xaxis": {
           "automargin": true,
           "gridcolor": "white",
           "linecolor": "white",
           "ticks": "",
           "title": {
            "standoff": 15
           },
           "zerolinecolor": "white",
           "zerolinewidth": 2
          },
          "yaxis": {
           "automargin": true,
           "gridcolor": "white",
           "linecolor": "white",
           "ticks": "",
           "title": {
            "standoff": 15
           },
           "zerolinecolor": "white",
           "zerolinewidth": 2
          }
         }
        },
        "xaxis": {
         "anchor": "y",
         "constrain": "domain",
         "domain": [
          0,
          1
         ],
         "scaleanchor": "y",
         "title": {
          "text": "hour"
         }
        },
        "yaxis": {
         "anchor": "x",
         "autorange": "reversed",
         "constrain": "domain",
         "domain": [
          0,
          1
         ],
         "title": {
          "text": "DoW"
         }
        }
       }
      }
     },
     "metadata": {}
    }
   ],
   "metadata": {}
  },
  {
   "cell_type": "code",
   "execution_count": 303,
   "source": [
    "##create heatmap of # of incidents by month and day of month\n",
    "month_day_counts = fire_inc.groupby(\n",
    "    by=['month', 'day'])['injury_or_fatality'].count().reset_index()\n",
    "month_day_counts = month_day_counts.pivot(\n",
    "    index='month', columns='day', values='injury_or_fatality')\n",
    "px.imshow(month_day_counts)"
   ],
   "outputs": [
    {
     "output_type": "display_data",
     "data": {
      "text/html": [
       "<div>                            <div id=\"cadfebb0-bb22-4ac1-bc0c-132ee9e9576a\" class=\"plotly-graph-div\" style=\"height:525px; width:100%;\"></div>            <script type=\"text/javascript\">                require([\"plotly\"], function(Plotly) {                    window.PLOTLYENV=window.PLOTLYENV || {};                                    if (document.getElementById(\"cadfebb0-bb22-4ac1-bc0c-132ee9e9576a\")) {                    Plotly.newPlot(                        \"cadfebb0-bb22-4ac1-bc0c-132ee9e9576a\",                        [{\"coloraxis\": \"coloraxis\", \"hovertemplate\": \"day: %{x}<br>month: %{y}<br>color: %{z}<extra></extra>\", \"name\": \"0\", \"type\": \"heatmap\", \"x\": [1, 2, 3, 4, 5, 6, 7, 8, 9, 10, 11, 12, 13, 14, 15, 16, 17, 18, 19, 20, 21, 22, 23, 24, 25, 26, 27, 28, 29, 30, 31], \"xaxis\": \"x\", \"y\": [1, 2, 3, 4, 5, 6, 7, 8, 9, 10, 11, 12], \"yaxis\": \"y\", \"z\": [[196.0, 141.0, 153.0, 161.0, 166.0, 168.0, 166.0, 177.0, 139.0, 157.0, 201.0, 175.0, 165.0, 157.0, 145.0, 144.0, 127.0, 131.0, 137.0, 135.0, 178.0, 192.0, 162.0, 139.0, 106.0, 124.0, 141.0, 160.0, 133.0, 127.0, 166.0], [201.0, 190.0, 185.0, 138.0, 144.0, 147.0, 165.0, 139.0, 156.0, 169.0, 133.0, 179.0, 174.0, 155.0, 127.0, 124.0, 168.0, 151.0, 149.0, 177.0, 183.0, 151.0, 152.0, 228.0, 194.0, 143.0, 150.0, 162.0, null, null, null], [184.0, 262.0, 147.0, 137.0, 152.0, 118.0, 120.0, 302.0, 288.0, 263.0, 208.0, 162.0, 145.0, 134.0, 162.0, 160.0, 159.0, 197.0, 153.0, 151.0, 164.0, 165.0, 152.0, 171.0, 186.0, 132.0, 169.0, 166.0, 165.0, 151.0, 178.0], [146.0, 153.0, 152.0, 181.0, 128.0, 190.0, 223.0, 183.0, 188.0, 153.0, 141.0, 157.0, 155.0, 170.0, 326.0, 314.0, 205.0, 190.0, 156.0, 179.0, 170.0, 177.0, 158.0, 142.0, 164.0, 177.0, 192.0, 178.0, 167.0, 171.0, null], [222.0, 183.0, 167.0, 267.0, 243.0, 191.0, 167.0, 173.0, 163.0, 188.0, 176.0, 217.0, 176.0, 171.0, 182.0, 170.0, 185.0, 272.0, 220.0, 189.0, 166.0, 169.0, 196.0, 165.0, 158.0, 187.0, 184.0, 166.0, 223.0, 185.0, 226.0], [167.0, 160.0, 195.0, 193.0, 208.0, 175.0, 188.0, 206.0, 188.0, 236.0, 221.0, 199.0, 258.0, 174.0, 195.0, 214.0, 183.0, 197.0, 179.0, 183.0, 143.0, 203.0, 226.0, 196.0, 191.0, 196.0, 213.0, 190.0, 172.0, 206.0, null], [176.0, 209.0, 227.0, 225.0, 422.0, 265.0, 238.0, 205.0, 215.0, 188.0, 182.0, 216.0, 191.0, 202.0, 195.0, 185.0, 160.0, 166.0, 164.0, 211.0, 267.0, 238.0, 176.0, 168.0, 167.0, 184.0, 181.0, 184.0, 217.0, 221.0, 177.0], [193.0, 210.0, 188.0, 237.0, 193.0, 234.0, 208.0, 176.0, 201.0, 184.0, 201.0, 198.0, 159.0, 169.0, 161.0, 169.0, 149.0, 153.0, 150.0, 158.0, 173.0, 163.0, 143.0, 170.0, 209.0, 189.0, 208.0, 175.0, 185.0, 174.0, 153.0], [195.0, 185.0, 216.0, 217.0, 156.0, 186.0, 140.0, 176.0, 218.0, 171.0, 180.0, 190.0, 155.0, 174.0, 166.0, 164.0, 159.0, 181.0, 182.0, 211.0, 267.0, 243.0, 195.0, 203.0, 191.0, 184.0, 174.0, 199.0, 180.0, 166.0, null], [191.0, 191.0, 166.0, 195.0, 188.0, 203.0, 190.0, 254.0, 186.0, 171.0, 213.0, 194.0, 204.0, 157.0, 247.0, 152.0, 173.0, 163.0, 180.0, 226.0, 210.0, 209.0, 197.0, 223.0, 179.0, 174.0, 211.0, 179.0, 153.0, 155.0, 171.0], [162.0, 208.0, 177.0, 178.0, 189.0, 183.0, 170.0, 144.0, 163.0, 164.0, 187.0, 173.0, 188.0, 154.0, 186.0, 158.0, 162.0, 161.0, 178.0, 146.0, 156.0, 155.0, 194.0, 175.0, 177.0, 139.0, 205.0, 171.0, 163.0, 174.0, null], [147.0, 178.0, 160.0, 145.0, 171.0, 166.0, 170.0, 152.0, 168.0, 142.0, 126.0, 164.0, 138.0, 151.0, 134.0, 155.0, 134.0, 149.0, 154.0, 163.0, 153.0, 166.0, 143.0, 165.0, 193.0, 141.0, 159.0, 139.0, 146.0, 166.0, 141.0]]}],                        {\"coloraxis\": {\"colorscale\": [[0.0, \"#0d0887\"], [0.1111111111111111, \"#46039f\"], [0.2222222222222222, \"#7201a8\"], [0.3333333333333333, \"#9c179e\"], [0.4444444444444444, \"#bd3786\"], [0.5555555555555556, \"#d8576b\"], [0.6666666666666666, \"#ed7953\"], [0.7777777777777778, \"#fb9f3a\"], [0.8888888888888888, \"#fdca26\"], [1.0, \"#f0f921\"]]}, \"margin\": {\"t\": 60}, \"template\": {\"data\": {\"bar\": [{\"error_x\": {\"color\": \"#2a3f5f\"}, \"error_y\": {\"color\": \"#2a3f5f\"}, \"marker\": {\"line\": {\"color\": \"#E5ECF6\", \"width\": 0.5}}, \"type\": \"bar\"}], \"barpolar\": [{\"marker\": {\"line\": {\"color\": \"#E5ECF6\", \"width\": 0.5}}, \"type\": \"barpolar\"}], \"carpet\": [{\"aaxis\": {\"endlinecolor\": \"#2a3f5f\", \"gridcolor\": \"white\", \"linecolor\": \"white\", \"minorgridcolor\": \"white\", \"startlinecolor\": \"#2a3f5f\"}, \"baxis\": {\"endlinecolor\": \"#2a3f5f\", \"gridcolor\": \"white\", \"linecolor\": \"white\", \"minorgridcolor\": \"white\", \"startlinecolor\": \"#2a3f5f\"}, \"type\": \"carpet\"}], \"choropleth\": [{\"colorbar\": {\"outlinewidth\": 0, \"ticks\": \"\"}, \"type\": \"choropleth\"}], \"contour\": [{\"colorbar\": {\"outlinewidth\": 0, \"ticks\": \"\"}, \"colorscale\": [[0.0, \"#0d0887\"], [0.1111111111111111, \"#46039f\"], [0.2222222222222222, \"#7201a8\"], [0.3333333333333333, \"#9c179e\"], [0.4444444444444444, \"#bd3786\"], [0.5555555555555556, \"#d8576b\"], [0.6666666666666666, \"#ed7953\"], [0.7777777777777778, \"#fb9f3a\"], [0.8888888888888888, \"#fdca26\"], [1.0, \"#f0f921\"]], \"type\": \"contour\"}], \"contourcarpet\": [{\"colorbar\": {\"outlinewidth\": 0, \"ticks\": \"\"}, \"type\": \"contourcarpet\"}], \"heatmap\": [{\"colorbar\": {\"outlinewidth\": 0, \"ticks\": \"\"}, \"colorscale\": [[0.0, \"#0d0887\"], [0.1111111111111111, \"#46039f\"], [0.2222222222222222, \"#7201a8\"], [0.3333333333333333, \"#9c179e\"], [0.4444444444444444, \"#bd3786\"], [0.5555555555555556, \"#d8576b\"], [0.6666666666666666, \"#ed7953\"], [0.7777777777777778, \"#fb9f3a\"], [0.8888888888888888, \"#fdca26\"], [1.0, \"#f0f921\"]], \"type\": \"heatmap\"}], \"heatmapgl\": [{\"colorbar\": {\"outlinewidth\": 0, \"ticks\": \"\"}, \"colorscale\": [[0.0, \"#0d0887\"], [0.1111111111111111, \"#46039f\"], [0.2222222222222222, \"#7201a8\"], [0.3333333333333333, \"#9c179e\"], [0.4444444444444444, \"#bd3786\"], [0.5555555555555556, \"#d8576b\"], [0.6666666666666666, \"#ed7953\"], [0.7777777777777778, \"#fb9f3a\"], [0.8888888888888888, \"#fdca26\"], [1.0, \"#f0f921\"]], \"type\": \"heatmapgl\"}], \"histogram\": [{\"marker\": {\"colorbar\": {\"outlinewidth\": 0, \"ticks\": \"\"}}, \"type\": \"histogram\"}], \"histogram2d\": [{\"colorbar\": {\"outlinewidth\": 0, \"ticks\": \"\"}, \"colorscale\": [[0.0, \"#0d0887\"], [0.1111111111111111, \"#46039f\"], [0.2222222222222222, \"#7201a8\"], [0.3333333333333333, \"#9c179e\"], [0.4444444444444444, \"#bd3786\"], [0.5555555555555556, \"#d8576b\"], [0.6666666666666666, \"#ed7953\"], [0.7777777777777778, \"#fb9f3a\"], [0.8888888888888888, \"#fdca26\"], [1.0, \"#f0f921\"]], \"type\": \"histogram2d\"}], \"histogram2dcontour\": [{\"colorbar\": {\"outlinewidth\": 0, \"ticks\": \"\"}, \"colorscale\": [[0.0, \"#0d0887\"], [0.1111111111111111, \"#46039f\"], [0.2222222222222222, \"#7201a8\"], [0.3333333333333333, \"#9c179e\"], [0.4444444444444444, \"#bd3786\"], [0.5555555555555556, \"#d8576b\"], [0.6666666666666666, \"#ed7953\"], [0.7777777777777778, \"#fb9f3a\"], [0.8888888888888888, \"#fdca26\"], [1.0, \"#f0f921\"]], \"type\": \"histogram2dcontour\"}], \"mesh3d\": [{\"colorbar\": {\"outlinewidth\": 0, \"ticks\": \"\"}, \"type\": \"mesh3d\"}], \"parcoords\": [{\"line\": {\"colorbar\": {\"outlinewidth\": 0, \"ticks\": \"\"}}, \"type\": \"parcoords\"}], \"pie\": [{\"automargin\": true, \"type\": \"pie\"}], \"scatter\": [{\"marker\": {\"colorbar\": {\"outlinewidth\": 0, \"ticks\": \"\"}}, \"type\": \"scatter\"}], \"scatter3d\": [{\"line\": {\"colorbar\": {\"outlinewidth\": 0, \"ticks\": \"\"}}, \"marker\": {\"colorbar\": {\"outlinewidth\": 0, \"ticks\": \"\"}}, \"type\": \"scatter3d\"}], \"scattercarpet\": [{\"marker\": {\"colorbar\": {\"outlinewidth\": 0, \"ticks\": \"\"}}, \"type\": \"scattercarpet\"}], \"scattergeo\": [{\"marker\": {\"colorbar\": {\"outlinewidth\": 0, \"ticks\": \"\"}}, \"type\": \"scattergeo\"}], \"scattergl\": [{\"marker\": {\"colorbar\": {\"outlinewidth\": 0, \"ticks\": \"\"}}, \"type\": \"scattergl\"}], \"scattermapbox\": [{\"marker\": {\"colorbar\": {\"outlinewidth\": 0, \"ticks\": \"\"}}, \"type\": \"scattermapbox\"}], \"scatterpolar\": [{\"marker\": {\"colorbar\": {\"outlinewidth\": 0, \"ticks\": \"\"}}, \"type\": \"scatterpolar\"}], \"scatterpolargl\": [{\"marker\": {\"colorbar\": {\"outlinewidth\": 0, \"ticks\": \"\"}}, \"type\": \"scatterpolargl\"}], \"scatterternary\": [{\"marker\": {\"colorbar\": {\"outlinewidth\": 0, \"ticks\": \"\"}}, \"type\": \"scatterternary\"}], \"surface\": [{\"colorbar\": {\"outlinewidth\": 0, \"ticks\": \"\"}, \"colorscale\": [[0.0, \"#0d0887\"], [0.1111111111111111, \"#46039f\"], [0.2222222222222222, \"#7201a8\"], [0.3333333333333333, \"#9c179e\"], [0.4444444444444444, \"#bd3786\"], [0.5555555555555556, \"#d8576b\"], [0.6666666666666666, \"#ed7953\"], [0.7777777777777778, \"#fb9f3a\"], [0.8888888888888888, \"#fdca26\"], [1.0, \"#f0f921\"]], \"type\": \"surface\"}], \"table\": [{\"cells\": {\"fill\": {\"color\": \"#EBF0F8\"}, \"line\": {\"color\": \"white\"}}, \"header\": {\"fill\": {\"color\": \"#C8D4E3\"}, \"line\": {\"color\": \"white\"}}, \"type\": \"table\"}]}, \"layout\": {\"annotationdefaults\": {\"arrowcolor\": \"#2a3f5f\", \"arrowhead\": 0, \"arrowwidth\": 1}, \"autotypenumbers\": \"strict\", \"coloraxis\": {\"colorbar\": {\"outlinewidth\": 0, \"ticks\": \"\"}}, \"colorscale\": {\"diverging\": [[0, \"#8e0152\"], [0.1, \"#c51b7d\"], [0.2, \"#de77ae\"], [0.3, \"#f1b6da\"], [0.4, \"#fde0ef\"], [0.5, \"#f7f7f7\"], [0.6, \"#e6f5d0\"], [0.7, \"#b8e186\"], [0.8, \"#7fbc41\"], [0.9, \"#4d9221\"], [1, \"#276419\"]], \"sequential\": [[0.0, \"#0d0887\"], [0.1111111111111111, \"#46039f\"], [0.2222222222222222, \"#7201a8\"], [0.3333333333333333, \"#9c179e\"], [0.4444444444444444, \"#bd3786\"], [0.5555555555555556, \"#d8576b\"], [0.6666666666666666, \"#ed7953\"], [0.7777777777777778, \"#fb9f3a\"], [0.8888888888888888, \"#fdca26\"], [1.0, \"#f0f921\"]], \"sequentialminus\": [[0.0, \"#0d0887\"], [0.1111111111111111, \"#46039f\"], [0.2222222222222222, \"#7201a8\"], [0.3333333333333333, \"#9c179e\"], [0.4444444444444444, \"#bd3786\"], [0.5555555555555556, \"#d8576b\"], [0.6666666666666666, \"#ed7953\"], [0.7777777777777778, \"#fb9f3a\"], [0.8888888888888888, \"#fdca26\"], [1.0, \"#f0f921\"]]}, \"colorway\": [\"#636efa\", \"#EF553B\", \"#00cc96\", \"#ab63fa\", \"#FFA15A\", \"#19d3f3\", \"#FF6692\", \"#B6E880\", \"#FF97FF\", \"#FECB52\"], \"font\": {\"color\": \"#2a3f5f\"}, \"geo\": {\"bgcolor\": \"white\", \"lakecolor\": \"white\", \"landcolor\": \"#E5ECF6\", \"showlakes\": true, \"showland\": true, \"subunitcolor\": \"white\"}, \"hoverlabel\": {\"align\": \"left\"}, \"hovermode\": \"closest\", \"mapbox\": {\"style\": \"light\"}, \"paper_bgcolor\": \"white\", \"plot_bgcolor\": \"#E5ECF6\", \"polar\": {\"angularaxis\": {\"gridcolor\": \"white\", \"linecolor\": \"white\", \"ticks\": \"\"}, \"bgcolor\": \"#E5ECF6\", \"radialaxis\": {\"gridcolor\": \"white\", \"linecolor\": \"white\", \"ticks\": \"\"}}, \"scene\": {\"xaxis\": {\"backgroundcolor\": \"#E5ECF6\", \"gridcolor\": \"white\", \"gridwidth\": 2, \"linecolor\": \"white\", \"showbackground\": true, \"ticks\": \"\", \"zerolinecolor\": \"white\"}, \"yaxis\": {\"backgroundcolor\": \"#E5ECF6\", \"gridcolor\": \"white\", \"gridwidth\": 2, \"linecolor\": \"white\", \"showbackground\": true, \"ticks\": \"\", \"zerolinecolor\": \"white\"}, \"zaxis\": {\"backgroundcolor\": \"#E5ECF6\", \"gridcolor\": \"white\", \"gridwidth\": 2, \"linecolor\": \"white\", \"showbackground\": true, \"ticks\": \"\", \"zerolinecolor\": \"white\"}}, \"shapedefaults\": {\"line\": {\"color\": \"#2a3f5f\"}}, \"ternary\": {\"aaxis\": {\"gridcolor\": \"white\", \"linecolor\": \"white\", \"ticks\": \"\"}, \"baxis\": {\"gridcolor\": \"white\", \"linecolor\": \"white\", \"ticks\": \"\"}, \"bgcolor\": \"#E5ECF6\", \"caxis\": {\"gridcolor\": \"white\", \"linecolor\": \"white\", \"ticks\": \"\"}}, \"title\": {\"x\": 0.05}, \"xaxis\": {\"automargin\": true, \"gridcolor\": \"white\", \"linecolor\": \"white\", \"ticks\": \"\", \"title\": {\"standoff\": 15}, \"zerolinecolor\": \"white\", \"zerolinewidth\": 2}, \"yaxis\": {\"automargin\": true, \"gridcolor\": \"white\", \"linecolor\": \"white\", \"ticks\": \"\", \"title\": {\"standoff\": 15}, \"zerolinecolor\": \"white\", \"zerolinewidth\": 2}}}, \"xaxis\": {\"anchor\": \"y\", \"constrain\": \"domain\", \"domain\": [0.0, 1.0], \"scaleanchor\": \"y\", \"title\": {\"text\": \"day\"}}, \"yaxis\": {\"anchor\": \"x\", \"autorange\": \"reversed\", \"constrain\": \"domain\", \"domain\": [0.0, 1.0], \"title\": {\"text\": \"month\"}}},                        {\"responsive\": true}                    ).then(function(){\n",
       "                            \n",
       "var gd = document.getElementById('cadfebb0-bb22-4ac1-bc0c-132ee9e9576a');\n",
       "var x = new MutationObserver(function (mutations, observer) {{\n",
       "        var display = window.getComputedStyle(gd).display;\n",
       "        if (!display || display === 'none') {{\n",
       "            console.log([gd, 'removed!']);\n",
       "            Plotly.purge(gd);\n",
       "            observer.disconnect();\n",
       "        }}\n",
       "}});\n",
       "\n",
       "// Listen for the removal of the full notebook cells\n",
       "var notebookContainer = gd.closest('#notebook-container');\n",
       "if (notebookContainer) {{\n",
       "    x.observe(notebookContainer, {childList: true});\n",
       "}}\n",
       "\n",
       "// Listen for the clearing of the current output cell\n",
       "var outputEl = gd.closest('.output');\n",
       "if (outputEl) {{\n",
       "    x.observe(outputEl, {childList: true});\n",
       "}}\n",
       "\n",
       "                        })                };                });            </script>        </div>"
      ],
      "application/vnd.plotly.v1+json": {
       "config": {
        "plotlyServerURL": "https://plot.ly"
       },
       "data": [
        {
         "coloraxis": "coloraxis",
         "hovertemplate": "day: %{x}<br>month: %{y}<br>color: %{z}<extra></extra>",
         "name": "0",
         "type": "heatmap",
         "x": [
          1,
          2,
          3,
          4,
          5,
          6,
          7,
          8,
          9,
          10,
          11,
          12,
          13,
          14,
          15,
          16,
          17,
          18,
          19,
          20,
          21,
          22,
          23,
          24,
          25,
          26,
          27,
          28,
          29,
          30,
          31
         ],
         "xaxis": "x",
         "y": [
          1,
          2,
          3,
          4,
          5,
          6,
          7,
          8,
          9,
          10,
          11,
          12
         ],
         "yaxis": "y",
         "z": [
          [
           196,
           141,
           153,
           161,
           166,
           168,
           166,
           177,
           139,
           157,
           201,
           175,
           165,
           157,
           145,
           144,
           127,
           131,
           137,
           135,
           178,
           192,
           162,
           139,
           106,
           124,
           141,
           160,
           133,
           127,
           166
          ],
          [
           201,
           190,
           185,
           138,
           144,
           147,
           165,
           139,
           156,
           169,
           133,
           179,
           174,
           155,
           127,
           124,
           168,
           151,
           149,
           177,
           183,
           151,
           152,
           228,
           194,
           143,
           150,
           162,
           null,
           null,
           null
          ],
          [
           184,
           262,
           147,
           137,
           152,
           118,
           120,
           302,
           288,
           263,
           208,
           162,
           145,
           134,
           162,
           160,
           159,
           197,
           153,
           151,
           164,
           165,
           152,
           171,
           186,
           132,
           169,
           166,
           165,
           151,
           178
          ],
          [
           146,
           153,
           152,
           181,
           128,
           190,
           223,
           183,
           188,
           153,
           141,
           157,
           155,
           170,
           326,
           314,
           205,
           190,
           156,
           179,
           170,
           177,
           158,
           142,
           164,
           177,
           192,
           178,
           167,
           171,
           null
          ],
          [
           222,
           183,
           167,
           267,
           243,
           191,
           167,
           173,
           163,
           188,
           176,
           217,
           176,
           171,
           182,
           170,
           185,
           272,
           220,
           189,
           166,
           169,
           196,
           165,
           158,
           187,
           184,
           166,
           223,
           185,
           226
          ],
          [
           167,
           160,
           195,
           193,
           208,
           175,
           188,
           206,
           188,
           236,
           221,
           199,
           258,
           174,
           195,
           214,
           183,
           197,
           179,
           183,
           143,
           203,
           226,
           196,
           191,
           196,
           213,
           190,
           172,
           206,
           null
          ],
          [
           176,
           209,
           227,
           225,
           422,
           265,
           238,
           205,
           215,
           188,
           182,
           216,
           191,
           202,
           195,
           185,
           160,
           166,
           164,
           211,
           267,
           238,
           176,
           168,
           167,
           184,
           181,
           184,
           217,
           221,
           177
          ],
          [
           193,
           210,
           188,
           237,
           193,
           234,
           208,
           176,
           201,
           184,
           201,
           198,
           159,
           169,
           161,
           169,
           149,
           153,
           150,
           158,
           173,
           163,
           143,
           170,
           209,
           189,
           208,
           175,
           185,
           174,
           153
          ],
          [
           195,
           185,
           216,
           217,
           156,
           186,
           140,
           176,
           218,
           171,
           180,
           190,
           155,
           174,
           166,
           164,
           159,
           181,
           182,
           211,
           267,
           243,
           195,
           203,
           191,
           184,
           174,
           199,
           180,
           166,
           null
          ],
          [
           191,
           191,
           166,
           195,
           188,
           203,
           190,
           254,
           186,
           171,
           213,
           194,
           204,
           157,
           247,
           152,
           173,
           163,
           180,
           226,
           210,
           209,
           197,
           223,
           179,
           174,
           211,
           179,
           153,
           155,
           171
          ],
          [
           162,
           208,
           177,
           178,
           189,
           183,
           170,
           144,
           163,
           164,
           187,
           173,
           188,
           154,
           186,
           158,
           162,
           161,
           178,
           146,
           156,
           155,
           194,
           175,
           177,
           139,
           205,
           171,
           163,
           174,
           null
          ],
          [
           147,
           178,
           160,
           145,
           171,
           166,
           170,
           152,
           168,
           142,
           126,
           164,
           138,
           151,
           134,
           155,
           134,
           149,
           154,
           163,
           153,
           166,
           143,
           165,
           193,
           141,
           159,
           139,
           146,
           166,
           141
          ]
         ]
        }
       ],
       "layout": {
        "coloraxis": {
         "colorscale": [
          [
           0,
           "#0d0887"
          ],
          [
           0.1111111111111111,
           "#46039f"
          ],
          [
           0.2222222222222222,
           "#7201a8"
          ],
          [
           0.3333333333333333,
           "#9c179e"
          ],
          [
           0.4444444444444444,
           "#bd3786"
          ],
          [
           0.5555555555555556,
           "#d8576b"
          ],
          [
           0.6666666666666666,
           "#ed7953"
          ],
          [
           0.7777777777777778,
           "#fb9f3a"
          ],
          [
           0.8888888888888888,
           "#fdca26"
          ],
          [
           1,
           "#f0f921"
          ]
         ]
        },
        "margin": {
         "t": 60
        },
        "template": {
         "data": {
          "bar": [
           {
            "error_x": {
             "color": "#2a3f5f"
            },
            "error_y": {
             "color": "#2a3f5f"
            },
            "marker": {
             "line": {
              "color": "#E5ECF6",
              "width": 0.5
             }
            },
            "type": "bar"
           }
          ],
          "barpolar": [
           {
            "marker": {
             "line": {
              "color": "#E5ECF6",
              "width": 0.5
             }
            },
            "type": "barpolar"
           }
          ],
          "carpet": [
           {
            "aaxis": {
             "endlinecolor": "#2a3f5f",
             "gridcolor": "white",
             "linecolor": "white",
             "minorgridcolor": "white",
             "startlinecolor": "#2a3f5f"
            },
            "baxis": {
             "endlinecolor": "#2a3f5f",
             "gridcolor": "white",
             "linecolor": "white",
             "minorgridcolor": "white",
             "startlinecolor": "#2a3f5f"
            },
            "type": "carpet"
           }
          ],
          "choropleth": [
           {
            "colorbar": {
             "outlinewidth": 0,
             "ticks": ""
            },
            "type": "choropleth"
           }
          ],
          "contour": [
           {
            "colorbar": {
             "outlinewidth": 0,
             "ticks": ""
            },
            "colorscale": [
             [
              0,
              "#0d0887"
             ],
             [
              0.1111111111111111,
              "#46039f"
             ],
             [
              0.2222222222222222,
              "#7201a8"
             ],
             [
              0.3333333333333333,
              "#9c179e"
             ],
             [
              0.4444444444444444,
              "#bd3786"
             ],
             [
              0.5555555555555556,
              "#d8576b"
             ],
             [
              0.6666666666666666,
              "#ed7953"
             ],
             [
              0.7777777777777778,
              "#fb9f3a"
             ],
             [
              0.8888888888888888,
              "#fdca26"
             ],
             [
              1,
              "#f0f921"
             ]
            ],
            "type": "contour"
           }
          ],
          "contourcarpet": [
           {
            "colorbar": {
             "outlinewidth": 0,
             "ticks": ""
            },
            "type": "contourcarpet"
           }
          ],
          "heatmap": [
           {
            "colorbar": {
             "outlinewidth": 0,
             "ticks": ""
            },
            "colorscale": [
             [
              0,
              "#0d0887"
             ],
             [
              0.1111111111111111,
              "#46039f"
             ],
             [
              0.2222222222222222,
              "#7201a8"
             ],
             [
              0.3333333333333333,
              "#9c179e"
             ],
             [
              0.4444444444444444,
              "#bd3786"
             ],
             [
              0.5555555555555556,
              "#d8576b"
             ],
             [
              0.6666666666666666,
              "#ed7953"
             ],
             [
              0.7777777777777778,
              "#fb9f3a"
             ],
             [
              0.8888888888888888,
              "#fdca26"
             ],
             [
              1,
              "#f0f921"
             ]
            ],
            "type": "heatmap"
           }
          ],
          "heatmapgl": [
           {
            "colorbar": {
             "outlinewidth": 0,
             "ticks": ""
            },
            "colorscale": [
             [
              0,
              "#0d0887"
             ],
             [
              0.1111111111111111,
              "#46039f"
             ],
             [
              0.2222222222222222,
              "#7201a8"
             ],
             [
              0.3333333333333333,
              "#9c179e"
             ],
             [
              0.4444444444444444,
              "#bd3786"
             ],
             [
              0.5555555555555556,
              "#d8576b"
             ],
             [
              0.6666666666666666,
              "#ed7953"
             ],
             [
              0.7777777777777778,
              "#fb9f3a"
             ],
             [
              0.8888888888888888,
              "#fdca26"
             ],
             [
              1,
              "#f0f921"
             ]
            ],
            "type": "heatmapgl"
           }
          ],
          "histogram": [
           {
            "marker": {
             "colorbar": {
              "outlinewidth": 0,
              "ticks": ""
             }
            },
            "type": "histogram"
           }
          ],
          "histogram2d": [
           {
            "colorbar": {
             "outlinewidth": 0,
             "ticks": ""
            },
            "colorscale": [
             [
              0,
              "#0d0887"
             ],
             [
              0.1111111111111111,
              "#46039f"
             ],
             [
              0.2222222222222222,
              "#7201a8"
             ],
             [
              0.3333333333333333,
              "#9c179e"
             ],
             [
              0.4444444444444444,
              "#bd3786"
             ],
             [
              0.5555555555555556,
              "#d8576b"
             ],
             [
              0.6666666666666666,
              "#ed7953"
             ],
             [
              0.7777777777777778,
              "#fb9f3a"
             ],
             [
              0.8888888888888888,
              "#fdca26"
             ],
             [
              1,
              "#f0f921"
             ]
            ],
            "type": "histogram2d"
           }
          ],
          "histogram2dcontour": [
           {
            "colorbar": {
             "outlinewidth": 0,
             "ticks": ""
            },
            "colorscale": [
             [
              0,
              "#0d0887"
             ],
             [
              0.1111111111111111,
              "#46039f"
             ],
             [
              0.2222222222222222,
              "#7201a8"
             ],
             [
              0.3333333333333333,
              "#9c179e"
             ],
             [
              0.4444444444444444,
              "#bd3786"
             ],
             [
              0.5555555555555556,
              "#d8576b"
             ],
             [
              0.6666666666666666,
              "#ed7953"
             ],
             [
              0.7777777777777778,
              "#fb9f3a"
             ],
             [
              0.8888888888888888,
              "#fdca26"
             ],
             [
              1,
              "#f0f921"
             ]
            ],
            "type": "histogram2dcontour"
           }
          ],
          "mesh3d": [
           {
            "colorbar": {
             "outlinewidth": 0,
             "ticks": ""
            },
            "type": "mesh3d"
           }
          ],
          "parcoords": [
           {
            "line": {
             "colorbar": {
              "outlinewidth": 0,
              "ticks": ""
             }
            },
            "type": "parcoords"
           }
          ],
          "pie": [
           {
            "automargin": true,
            "type": "pie"
           }
          ],
          "scatter": [
           {
            "marker": {
             "colorbar": {
              "outlinewidth": 0,
              "ticks": ""
             }
            },
            "type": "scatter"
           }
          ],
          "scatter3d": [
           {
            "line": {
             "colorbar": {
              "outlinewidth": 0,
              "ticks": ""
             }
            },
            "marker": {
             "colorbar": {
              "outlinewidth": 0,
              "ticks": ""
             }
            },
            "type": "scatter3d"
           }
          ],
          "scattercarpet": [
           {
            "marker": {
             "colorbar": {
              "outlinewidth": 0,
              "ticks": ""
             }
            },
            "type": "scattercarpet"
           }
          ],
          "scattergeo": [
           {
            "marker": {
             "colorbar": {
              "outlinewidth": 0,
              "ticks": ""
             }
            },
            "type": "scattergeo"
           }
          ],
          "scattergl": [
           {
            "marker": {
             "colorbar": {
              "outlinewidth": 0,
              "ticks": ""
             }
            },
            "type": "scattergl"
           }
          ],
          "scattermapbox": [
           {
            "marker": {
             "colorbar": {
              "outlinewidth": 0,
              "ticks": ""
             }
            },
            "type": "scattermapbox"
           }
          ],
          "scatterpolar": [
           {
            "marker": {
             "colorbar": {
              "outlinewidth": 0,
              "ticks": ""
             }
            },
            "type": "scatterpolar"
           }
          ],
          "scatterpolargl": [
           {
            "marker": {
             "colorbar": {
              "outlinewidth": 0,
              "ticks": ""
             }
            },
            "type": "scatterpolargl"
           }
          ],
          "scatterternary": [
           {
            "marker": {
             "colorbar": {
              "outlinewidth": 0,
              "ticks": ""
             }
            },
            "type": "scatterternary"
           }
          ],
          "surface": [
           {
            "colorbar": {
             "outlinewidth": 0,
             "ticks": ""
            },
            "colorscale": [
             [
              0,
              "#0d0887"
             ],
             [
              0.1111111111111111,
              "#46039f"
             ],
             [
              0.2222222222222222,
              "#7201a8"
             ],
             [
              0.3333333333333333,
              "#9c179e"
             ],
             [
              0.4444444444444444,
              "#bd3786"
             ],
             [
              0.5555555555555556,
              "#d8576b"
             ],
             [
              0.6666666666666666,
              "#ed7953"
             ],
             [
              0.7777777777777778,
              "#fb9f3a"
             ],
             [
              0.8888888888888888,
              "#fdca26"
             ],
             [
              1,
              "#f0f921"
             ]
            ],
            "type": "surface"
           }
          ],
          "table": [
           {
            "cells": {
             "fill": {
              "color": "#EBF0F8"
             },
             "line": {
              "color": "white"
             }
            },
            "header": {
             "fill": {
              "color": "#C8D4E3"
             },
             "line": {
              "color": "white"
             }
            },
            "type": "table"
           }
          ]
         },
         "layout": {
          "annotationdefaults": {
           "arrowcolor": "#2a3f5f",
           "arrowhead": 0,
           "arrowwidth": 1
          },
          "autotypenumbers": "strict",
          "coloraxis": {
           "colorbar": {
            "outlinewidth": 0,
            "ticks": ""
           }
          },
          "colorscale": {
           "diverging": [
            [
             0,
             "#8e0152"
            ],
            [
             0.1,
             "#c51b7d"
            ],
            [
             0.2,
             "#de77ae"
            ],
            [
             0.3,
             "#f1b6da"
            ],
            [
             0.4,
             "#fde0ef"
            ],
            [
             0.5,
             "#f7f7f7"
            ],
            [
             0.6,
             "#e6f5d0"
            ],
            [
             0.7,
             "#b8e186"
            ],
            [
             0.8,
             "#7fbc41"
            ],
            [
             0.9,
             "#4d9221"
            ],
            [
             1,
             "#276419"
            ]
           ],
           "sequential": [
            [
             0,
             "#0d0887"
            ],
            [
             0.1111111111111111,
             "#46039f"
            ],
            [
             0.2222222222222222,
             "#7201a8"
            ],
            [
             0.3333333333333333,
             "#9c179e"
            ],
            [
             0.4444444444444444,
             "#bd3786"
            ],
            [
             0.5555555555555556,
             "#d8576b"
            ],
            [
             0.6666666666666666,
             "#ed7953"
            ],
            [
             0.7777777777777778,
             "#fb9f3a"
            ],
            [
             0.8888888888888888,
             "#fdca26"
            ],
            [
             1,
             "#f0f921"
            ]
           ],
           "sequentialminus": [
            [
             0,
             "#0d0887"
            ],
            [
             0.1111111111111111,
             "#46039f"
            ],
            [
             0.2222222222222222,
             "#7201a8"
            ],
            [
             0.3333333333333333,
             "#9c179e"
            ],
            [
             0.4444444444444444,
             "#bd3786"
            ],
            [
             0.5555555555555556,
             "#d8576b"
            ],
            [
             0.6666666666666666,
             "#ed7953"
            ],
            [
             0.7777777777777778,
             "#fb9f3a"
            ],
            [
             0.8888888888888888,
             "#fdca26"
            ],
            [
             1,
             "#f0f921"
            ]
           ]
          },
          "colorway": [
           "#636efa",
           "#EF553B",
           "#00cc96",
           "#ab63fa",
           "#FFA15A",
           "#19d3f3",
           "#FF6692",
           "#B6E880",
           "#FF97FF",
           "#FECB52"
          ],
          "font": {
           "color": "#2a3f5f"
          },
          "geo": {
           "bgcolor": "white",
           "lakecolor": "white",
           "landcolor": "#E5ECF6",
           "showlakes": true,
           "showland": true,
           "subunitcolor": "white"
          },
          "hoverlabel": {
           "align": "left"
          },
          "hovermode": "closest",
          "mapbox": {
           "style": "light"
          },
          "paper_bgcolor": "white",
          "plot_bgcolor": "#E5ECF6",
          "polar": {
           "angularaxis": {
            "gridcolor": "white",
            "linecolor": "white",
            "ticks": ""
           },
           "bgcolor": "#E5ECF6",
           "radialaxis": {
            "gridcolor": "white",
            "linecolor": "white",
            "ticks": ""
           }
          },
          "scene": {
           "xaxis": {
            "backgroundcolor": "#E5ECF6",
            "gridcolor": "white",
            "gridwidth": 2,
            "linecolor": "white",
            "showbackground": true,
            "ticks": "",
            "zerolinecolor": "white"
           },
           "yaxis": {
            "backgroundcolor": "#E5ECF6",
            "gridcolor": "white",
            "gridwidth": 2,
            "linecolor": "white",
            "showbackground": true,
            "ticks": "",
            "zerolinecolor": "white"
           },
           "zaxis": {
            "backgroundcolor": "#E5ECF6",
            "gridcolor": "white",
            "gridwidth": 2,
            "linecolor": "white",
            "showbackground": true,
            "ticks": "",
            "zerolinecolor": "white"
           }
          },
          "shapedefaults": {
           "line": {
            "color": "#2a3f5f"
           }
          },
          "ternary": {
           "aaxis": {
            "gridcolor": "white",
            "linecolor": "white",
            "ticks": ""
           },
           "baxis": {
            "gridcolor": "white",
            "linecolor": "white",
            "ticks": ""
           },
           "bgcolor": "#E5ECF6",
           "caxis": {
            "gridcolor": "white",
            "linecolor": "white",
            "ticks": ""
           }
          },
          "title": {
           "x": 0.05
          },
          "xaxis": {
           "automargin": true,
           "gridcolor": "white",
           "linecolor": "white",
           "ticks": "",
           "title": {
            "standoff": 15
           },
           "zerolinecolor": "white",
           "zerolinewidth": 2
          },
          "yaxis": {
           "automargin": true,
           "gridcolor": "white",
           "linecolor": "white",
           "ticks": "",
           "title": {
            "standoff": 15
           },
           "zerolinecolor": "white",
           "zerolinewidth": 2
          }
         }
        },
        "xaxis": {
         "anchor": "y",
         "constrain": "domain",
         "domain": [
          0,
          1
         ],
         "scaleanchor": "y",
         "title": {
          "text": "day"
         }
        },
        "yaxis": {
         "anchor": "x",
         "autorange": "reversed",
         "constrain": "domain",
         "domain": [
          0,
          1
         ],
         "title": {
          "text": "month"
         }
        }
       }
      }
     },
     "metadata": {}
    }
   ],
   "metadata": {}
  },
  {
   "cell_type": "code",
   "execution_count": 692,
   "source": [
    "##create training/test sets\n",
    "y_col = 'injury_or_fatality'\n",
    "feature_cols = ['hourx', 'houry', 'dayx', 'dayy', 'DoYx', 'DoYy', 'DoWx',\n",
    "    'DoWy', 'weekx', 'weeky', 'monthx', 'monthy', 'closest_stn', 'closest_light']\n",
    "for cluster in geoDf.cluster.unique():  ##add one-hot cols for clusters\n",
    "    col = 'cluster_' + str(cluster)\n",
    "    feature_cols.append(col)\n",
    "    fire_inc[col] = fire_inc['cluster'].apply(lambda x: 1 if x == cluster else 0)\n",
    "X = fire_inc.loc[:, feature_cols]\n",
    "Y = fire_inc[y_col]\n",
    "X_train, X_test, y_train, y_test = train_test_split(X, Y, random_state=RANDOM_STATE)"
   ],
   "outputs": [],
   "metadata": {}
  },
  {
   "cell_type": "code",
   "execution_count": 641,
   "source": [
    "X_train.head()"
   ],
   "outputs": [
    {
     "output_type": "execute_result",
     "data": {
      "text/plain": [
       "          hourx         houry      dayx      dayy      DoYx      DoYy  \\\n",
       "66404 -1.000000 -1.836970e-16 -0.724793  0.688967  0.573772 -0.819015   \n",
       "58481  0.707107  7.071068e-01 -0.968077 -0.250653  0.790946  0.611886   \n",
       "14450  1.000000  6.123234e-17 -0.998717 -0.050649 -0.991114 -0.133015   \n",
       "3416   0.866025 -5.000000e-01  0.937752  0.347305  0.594727  0.803928   \n",
       "19810  0.258819  9.659258e-01  0.937752  0.347305  0.425000 -0.905193   \n",
       "\n",
       "           DoWx      DoWy     weekx     weeky  ...  cluster_14  cluster_11  \\\n",
       "66404 -0.781831  0.623490  0.606800 -0.794854  ...           0           0   \n",
       "58481  0.974928 -0.222521  0.812487  0.582979  ...           0           0   \n",
       "14450 -0.974928 -0.222521 -0.978556 -0.205979  ...           0           0   \n",
       "3416   0.000000  1.000000  0.652822  0.757511  ...           0           0   \n",
       "19810  0.974928 -0.222521  0.403123 -0.915146  ...           0           0   \n",
       "\n",
       "       cluster_13  cluster_18  cluster_24  cluster_1  cluster_4  cluster_16  \\\n",
       "66404           0           0           0          0          0           0   \n",
       "58481           0           0           0          0          0           0   \n",
       "14450           0           0           0          0          0           0   \n",
       "3416            0           0           0          0          0           0   \n",
       "19810           0           0           0          0          0           0   \n",
       "\n",
       "       cluster_6  cluster_12  \n",
       "66404          0           0  \n",
       "58481          0           0  \n",
       "14450          0           0  \n",
       "3416           0           0  \n",
       "19810          0           0  \n",
       "\n",
       "[5 rows x 39 columns]"
      ],
      "text/html": [
       "<div>\n",
       "<style scoped>\n",
       "    .dataframe tbody tr th:only-of-type {\n",
       "        vertical-align: middle;\n",
       "    }\n",
       "\n",
       "    .dataframe tbody tr th {\n",
       "        vertical-align: top;\n",
       "    }\n",
       "\n",
       "    .dataframe thead th {\n",
       "        text-align: right;\n",
       "    }\n",
       "</style>\n",
       "<table border=\"1\" class=\"dataframe\">\n",
       "  <thead>\n",
       "    <tr style=\"text-align: right;\">\n",
       "      <th></th>\n",
       "      <th>hourx</th>\n",
       "      <th>houry</th>\n",
       "      <th>dayx</th>\n",
       "      <th>dayy</th>\n",
       "      <th>DoYx</th>\n",
       "      <th>DoYy</th>\n",
       "      <th>DoWx</th>\n",
       "      <th>DoWy</th>\n",
       "      <th>weekx</th>\n",
       "      <th>weeky</th>\n",
       "      <th>...</th>\n",
       "      <th>cluster_14</th>\n",
       "      <th>cluster_11</th>\n",
       "      <th>cluster_13</th>\n",
       "      <th>cluster_18</th>\n",
       "      <th>cluster_24</th>\n",
       "      <th>cluster_1</th>\n",
       "      <th>cluster_4</th>\n",
       "      <th>cluster_16</th>\n",
       "      <th>cluster_6</th>\n",
       "      <th>cluster_12</th>\n",
       "    </tr>\n",
       "  </thead>\n",
       "  <tbody>\n",
       "    <tr>\n",
       "      <th>66404</th>\n",
       "      <td>-1.000000</td>\n",
       "      <td>-1.836970e-16</td>\n",
       "      <td>-0.724793</td>\n",
       "      <td>0.688967</td>\n",
       "      <td>0.573772</td>\n",
       "      <td>-0.819015</td>\n",
       "      <td>-0.781831</td>\n",
       "      <td>0.623490</td>\n",
       "      <td>0.606800</td>\n",
       "      <td>-0.794854</td>\n",
       "      <td>...</td>\n",
       "      <td>0</td>\n",
       "      <td>0</td>\n",
       "      <td>0</td>\n",
       "      <td>0</td>\n",
       "      <td>0</td>\n",
       "      <td>0</td>\n",
       "      <td>0</td>\n",
       "      <td>0</td>\n",
       "      <td>0</td>\n",
       "      <td>0</td>\n",
       "    </tr>\n",
       "    <tr>\n",
       "      <th>58481</th>\n",
       "      <td>0.707107</td>\n",
       "      <td>7.071068e-01</td>\n",
       "      <td>-0.968077</td>\n",
       "      <td>-0.250653</td>\n",
       "      <td>0.790946</td>\n",
       "      <td>0.611886</td>\n",
       "      <td>0.974928</td>\n",
       "      <td>-0.222521</td>\n",
       "      <td>0.812487</td>\n",
       "      <td>0.582979</td>\n",
       "      <td>...</td>\n",
       "      <td>0</td>\n",
       "      <td>0</td>\n",
       "      <td>0</td>\n",
       "      <td>0</td>\n",
       "      <td>0</td>\n",
       "      <td>0</td>\n",
       "      <td>0</td>\n",
       "      <td>0</td>\n",
       "      <td>0</td>\n",
       "      <td>0</td>\n",
       "    </tr>\n",
       "    <tr>\n",
       "      <th>14450</th>\n",
       "      <td>1.000000</td>\n",
       "      <td>6.123234e-17</td>\n",
       "      <td>-0.998717</td>\n",
       "      <td>-0.050649</td>\n",
       "      <td>-0.991114</td>\n",
       "      <td>-0.133015</td>\n",
       "      <td>-0.974928</td>\n",
       "      <td>-0.222521</td>\n",
       "      <td>-0.978556</td>\n",
       "      <td>-0.205979</td>\n",
       "      <td>...</td>\n",
       "      <td>0</td>\n",
       "      <td>0</td>\n",
       "      <td>0</td>\n",
       "      <td>0</td>\n",
       "      <td>0</td>\n",
       "      <td>0</td>\n",
       "      <td>0</td>\n",
       "      <td>0</td>\n",
       "      <td>0</td>\n",
       "      <td>0</td>\n",
       "    </tr>\n",
       "    <tr>\n",
       "      <th>3416</th>\n",
       "      <td>0.866025</td>\n",
       "      <td>-5.000000e-01</td>\n",
       "      <td>0.937752</td>\n",
       "      <td>0.347305</td>\n",
       "      <td>0.594727</td>\n",
       "      <td>0.803928</td>\n",
       "      <td>0.000000</td>\n",
       "      <td>1.000000</td>\n",
       "      <td>0.652822</td>\n",
       "      <td>0.757511</td>\n",
       "      <td>...</td>\n",
       "      <td>0</td>\n",
       "      <td>0</td>\n",
       "      <td>0</td>\n",
       "      <td>0</td>\n",
       "      <td>0</td>\n",
       "      <td>0</td>\n",
       "      <td>0</td>\n",
       "      <td>0</td>\n",
       "      <td>0</td>\n",
       "      <td>0</td>\n",
       "    </tr>\n",
       "    <tr>\n",
       "      <th>19810</th>\n",
       "      <td>0.258819</td>\n",
       "      <td>9.659258e-01</td>\n",
       "      <td>0.937752</td>\n",
       "      <td>0.347305</td>\n",
       "      <td>0.425000</td>\n",
       "      <td>-0.905193</td>\n",
       "      <td>0.974928</td>\n",
       "      <td>-0.222521</td>\n",
       "      <td>0.403123</td>\n",
       "      <td>-0.915146</td>\n",
       "      <td>...</td>\n",
       "      <td>0</td>\n",
       "      <td>0</td>\n",
       "      <td>0</td>\n",
       "      <td>0</td>\n",
       "      <td>0</td>\n",
       "      <td>0</td>\n",
       "      <td>0</td>\n",
       "      <td>0</td>\n",
       "      <td>0</td>\n",
       "      <td>0</td>\n",
       "    </tr>\n",
       "  </tbody>\n",
       "</table>\n",
       "<p>5 rows × 39 columns</p>\n",
       "</div>"
      ]
     },
     "metadata": {},
     "execution_count": 641
    }
   ],
   "metadata": {}
  },
  {
   "cell_type": "code",
   "execution_count": 654,
   "source": [
    "##train XGBoost model\n",
    "boost = xgb.XGBClassifier(use_label_encoder=False, objective=\"binary:logistic\",\n",
    "    n_estimators=1000,\n",
    "    max_depth=3,\n",
    "    learning_rate=0.1,\n",
    "    scale_pos_weight=80,\n",
    "    importance_type='total_gain',\n",
    "    random_state=RANDOM_STATE)\n",
    "boost.fit(X_train, y_train)"
   ],
   "outputs": [
    {
     "output_type": "stream",
     "name": "stdout",
     "text": [
      "[16:22:14] WARNING: /tmp/build/80754af9/xgboost-split_1619724447847/work/src/learner.cc:1061: Starting in XGBoost 1.3.0, the default evaluation metric used with the objective 'binary:logistic' was changed from 'error' to 'logloss'. Explicitly set eval_metric if you'd like to restore the old behavior.\n"
     ]
    },
    {
     "output_type": "execute_result",
     "data": {
      "text/plain": [
       "XGBClassifier(base_score=0.5, booster='gbtree', colsample_bylevel=1,\n",
       "              colsample_bynode=1, colsample_bytree=1, gamma=0, gpu_id=-1,\n",
       "              importance_type='total_gain', interaction_constraints='',\n",
       "              learning_rate=0.1, max_delta_step=0, max_depth=3,\n",
       "              min_child_weight=1, missing=nan, monotone_constraints='()',\n",
       "              n_estimators=1000, n_jobs=12, num_parallel_tree=1,\n",
       "              random_state=123, reg_alpha=0, reg_lambda=1, scale_pos_weight=80,\n",
       "              subsample=1, tree_method='exact', use_label_encoder=False,\n",
       "              validate_parameters=1, verbosity=None)"
      ]
     },
     "metadata": {},
     "execution_count": 654
    }
   ],
   "metadata": {}
  },
  {
   "cell_type": "code",
   "execution_count": 663,
   "source": [
    "##save boosting model\n",
    "boost.save_model(\"boost_model.json\")"
   ],
   "outputs": [],
   "metadata": {}
  },
  {
   "cell_type": "code",
   "execution_count": 677,
   "source": [
    "##load saved boosting model\n",
    "#model = load(\"boost_model.joblib\")\n",
    "x = xgb.XGBClassifier()\n",
    "x.load_model(\"boost_model.json\")\n"
   ],
   "outputs": [],
   "metadata": {}
  },
  {
   "cell_type": "code",
   "execution_count": null,
   "source": [
    "##testing - cross validation for optimal params\n",
    "cv = GridSearchCV(boost,\n",
    "    param_grid={'max_depth':[2,3],\n",
    "            'learning_rate':[ 0.1, 0.05],\n",
    "            'scale_pos_weight':[80, 100]},\n",
    "    scoring='roc_auc'\n",
    "    )\n",
    "cv.fit(X_train, y_train)"
   ],
   "outputs": [],
   "metadata": {}
  },
  {
   "cell_type": "code",
   "execution_count": 515,
   "source": [
    "cv.best_params_"
   ],
   "outputs": [
    {
     "output_type": "execute_result",
     "data": {
      "text/plain": [
       "{'learning_rate': 0.1, 'max_depth': 3, 'scale_pos_weight': 80}"
      ]
     },
     "metadata": {},
     "execution_count": 515
    }
   ],
   "metadata": {}
  },
  {
   "cell_type": "code",
   "execution_count": 516,
   "source": [
    "cv.best_score_"
   ],
   "outputs": [
    {
     "output_type": "execute_result",
     "data": {
      "text/plain": [
       "0.5498523637691932"
      ]
     },
     "metadata": {},
     "execution_count": 516
    }
   ],
   "metadata": {}
  },
  {
   "cell_type": "code",
   "execution_count": 644,
   "source": [
    "boost_train_pred_proba = boost.predict_proba(X_train)[:,1]\n",
    "get_model_metrics(y_train, boost_train_pred_proba, .35)"
   ],
   "outputs": [
    {
     "output_type": "stream",
     "name": "stdout",
     "text": [
      "---Confusion Matrix---\n",
      "[[TN  FP]\n",
      "[FN  TP]]\n",
      "[[40709  7826]\n",
      " [    0   512]]\n",
      "---   ---\n",
      "Accuracy: 0.84\n",
      "AUC: 0.993\n",
      "Precision: 0.061\n",
      "Recall: 1.0\n"
     ]
    }
   ],
   "metadata": {}
  },
  {
   "cell_type": "code",
   "execution_count": 645,
   "source": [
    "boost_test_pred_proba = boost.predict_proba(X_test)[:,1]\n",
    "get_model_metrics(y_test, boost_test_pred_proba, .35)"
   ],
   "outputs": [
    {
     "output_type": "stream",
     "name": "stdout",
     "text": [
      "---Confusion Matrix---\n",
      "[[TN  FP]\n",
      "[FN  TP]]\n",
      "[[13478  2687]\n",
      " [  139    46]]\n",
      "---   ---\n",
      "Accuracy: 0.827\n",
      "AUC: 0.582\n",
      "Precision: 0.017\n",
      "Recall: 0.249\n"
     ]
    }
   ],
   "metadata": {}
  },
  {
   "cell_type": "code",
   "execution_count": 283,
   "source": [
    "##testing - try logistic regression\n",
    "log_reg = sm.Logit(y_train, X_train).fit()"
   ],
   "outputs": [
    {
     "output_type": "stream",
     "name": "stdout",
     "text": [
      "Optimization terminated successfully.\n",
      "         Current function value: 0.180977\n",
      "         Iterations 11\n"
     ]
    }
   ],
   "metadata": {}
  },
  {
   "cell_type": "code",
   "execution_count": 284,
   "source": [
    "log_reg.summary()"
   ],
   "outputs": [
    {
     "output_type": "execute_result",
     "data": {
      "text/plain": [
       "<class 'statsmodels.iolib.summary.Summary'>\n",
       "\"\"\"\n",
       "                           Logit Regression Results                           \n",
       "==============================================================================\n",
       "Dep. Variable:     injury_or_fatality   No. Observations:                49047\n",
       "Model:                          Logit   Df Residuals:                    49036\n",
       "Method:                           MLE   Df Model:                           10\n",
       "Date:                Thu, 19 Aug 2021   Pseudo R-squ.:                  -2.120\n",
       "Time:                        17:12:24   Log-Likelihood:                -8876.4\n",
       "converged:                       True   LL-Null:                       -2845.2\n",
       "Covariance Type:            nonrobust   LLR p-value:                     1.000\n",
       "=================================================================================\n",
       "                    coef    std err          z      P>|z|      [0.025      0.975]\n",
       "---------------------------------------------------------------------------------\n",
       "cluster          -0.1132      0.002    -57.435      0.000      -0.117      -0.109\n",
       "DoYx              1.6615      0.642      2.589      0.010       0.404       2.919\n",
       "DoYy            -30.5565      0.919    -33.251      0.000     -32.358     -28.755\n",
       "DoWx              0.0236      0.029      0.811      0.418      -0.034       0.081\n",
       "DoWy             -0.1718      0.029     -5.832      0.000      -0.230      -0.114\n",
       "weekx            -2.3387      0.631     -3.707      0.000      -3.575      -1.102\n",
       "weeky            30.0102      0.904     33.180      0.000      28.237      31.783\n",
       "monthx            0.6772      0.181      3.739      0.000       0.322       1.032\n",
       "monthy            0.8143      0.188      4.337      0.000       0.446       1.182\n",
       "closest_stn    -187.7864      3.215    -58.411      0.000    -194.088    -181.485\n",
       "closest_light   187.8000      3.215     58.412      0.000     181.498     194.101\n",
       "=================================================================================\n",
       "\n",
       "Possibly complete quasi-separation: A fraction 0.22 of observations can be\n",
       "perfectly predicted. This might indicate that there is complete\n",
       "quasi-separation. In this case some parameters will not be identified.\n",
       "\"\"\""
      ],
      "text/html": [
       "<table class=\"simpletable\">\n",
       "<caption>Logit Regression Results</caption>\n",
       "<tr>\n",
       "  <th>Dep. Variable:</th>   <td>injury_or_fatality</td> <th>  No. Observations:  </th>  <td> 49047</td> \n",
       "</tr>\n",
       "<tr>\n",
       "  <th>Model:</th>                  <td>Logit</td>       <th>  Df Residuals:      </th>  <td> 49036</td> \n",
       "</tr>\n",
       "<tr>\n",
       "  <th>Method:</th>                  <td>MLE</td>        <th>  Df Model:          </th>  <td>    10</td> \n",
       "</tr>\n",
       "<tr>\n",
       "  <th>Date:</th>             <td>Thu, 19 Aug 2021</td>  <th>  Pseudo R-squ.:     </th>  <td>-2.120</td> \n",
       "</tr>\n",
       "<tr>\n",
       "  <th>Time:</th>                 <td>17:12:24</td>      <th>  Log-Likelihood:    </th> <td> -8876.4</td>\n",
       "</tr>\n",
       "<tr>\n",
       "  <th>converged:</th>              <td>True</td>        <th>  LL-Null:           </th> <td> -2845.2</td>\n",
       "</tr>\n",
       "<tr>\n",
       "  <th>Covariance Type:</th>      <td>nonrobust</td>     <th>  LLR p-value:       </th>  <td> 1.000</td> \n",
       "</tr>\n",
       "</table>\n",
       "<table class=\"simpletable\">\n",
       "<tr>\n",
       "        <td></td>           <th>coef</th>     <th>std err</th>      <th>z</th>      <th>P>|z|</th>  <th>[0.025</th>    <th>0.975]</th>  \n",
       "</tr>\n",
       "<tr>\n",
       "  <th>cluster</th>       <td>   -0.1132</td> <td>    0.002</td> <td>  -57.435</td> <td> 0.000</td> <td>   -0.117</td> <td>   -0.109</td>\n",
       "</tr>\n",
       "<tr>\n",
       "  <th>DoYx</th>          <td>    1.6615</td> <td>    0.642</td> <td>    2.589</td> <td> 0.010</td> <td>    0.404</td> <td>    2.919</td>\n",
       "</tr>\n",
       "<tr>\n",
       "  <th>DoYy</th>          <td>  -30.5565</td> <td>    0.919</td> <td>  -33.251</td> <td> 0.000</td> <td>  -32.358</td> <td>  -28.755</td>\n",
       "</tr>\n",
       "<tr>\n",
       "  <th>DoWx</th>          <td>    0.0236</td> <td>    0.029</td> <td>    0.811</td> <td> 0.418</td> <td>   -0.034</td> <td>    0.081</td>\n",
       "</tr>\n",
       "<tr>\n",
       "  <th>DoWy</th>          <td>   -0.1718</td> <td>    0.029</td> <td>   -5.832</td> <td> 0.000</td> <td>   -0.230</td> <td>   -0.114</td>\n",
       "</tr>\n",
       "<tr>\n",
       "  <th>weekx</th>         <td>   -2.3387</td> <td>    0.631</td> <td>   -3.707</td> <td> 0.000</td> <td>   -3.575</td> <td>   -1.102</td>\n",
       "</tr>\n",
       "<tr>\n",
       "  <th>weeky</th>         <td>   30.0102</td> <td>    0.904</td> <td>   33.180</td> <td> 0.000</td> <td>   28.237</td> <td>   31.783</td>\n",
       "</tr>\n",
       "<tr>\n",
       "  <th>monthx</th>        <td>    0.6772</td> <td>    0.181</td> <td>    3.739</td> <td> 0.000</td> <td>    0.322</td> <td>    1.032</td>\n",
       "</tr>\n",
       "<tr>\n",
       "  <th>monthy</th>        <td>    0.8143</td> <td>    0.188</td> <td>    4.337</td> <td> 0.000</td> <td>    0.446</td> <td>    1.182</td>\n",
       "</tr>\n",
       "<tr>\n",
       "  <th>closest_stn</th>   <td> -187.7864</td> <td>    3.215</td> <td>  -58.411</td> <td> 0.000</td> <td> -194.088</td> <td> -181.485</td>\n",
       "</tr>\n",
       "<tr>\n",
       "  <th>closest_light</th> <td>  187.8000</td> <td>    3.215</td> <td>   58.412</td> <td> 0.000</td> <td>  181.498</td> <td>  194.101</td>\n",
       "</tr>\n",
       "</table><br/><br/>Possibly complete quasi-separation: A fraction 0.22 of observations can be<br/>perfectly predicted. This might indicate that there is complete<br/>quasi-separation. In this case some parameters will not be identified."
      ]
     },
     "metadata": {},
     "execution_count": 284
    }
   ],
   "metadata": {}
  },
  {
   "cell_type": "code",
   "execution_count": 85,
   "source": [
    "#TESTING - DO NOT USE - training w/ bagging\n",
    "RANDOM_STATE = 111\n",
    "startingX = 13\n",
    "y_col = 'injury_or_fatality'\n",
    "X = fire_inc.iloc[:, startingX:]\n",
    "Y = fire_inc[y_col]\n",
    "X_train, X_test, Y_train, Y_test = train_test_split(X, Y, random_state=RANDOM_STATE)\n",
    "\n",
    "batches = 1000\n",
    "batchSize = int(.1 * len(X_train) )\n",
    "recallThreshold = 0.5\n",
    "score = 0\n",
    "models = []\n",
    "for batch in range(0,batches):\n",
    "    X_batch_train, X_batch_test, Y_batch_train, Y_batch_test = train_test_split(\n",
    "                                                                    X_train,\n",
    "                                                                    Y_train,\n",
    "                                                                    train_size=batchSize,\n",
    "                                                                    test_size=batchSize)  #no random state so we get diff random batch\n",
    "    C = 1\n",
    "    linModel = LogisticRegression(random_state=RANDOM_STATE, C=C, penalty='l2', solver='liblinear', class_weight='balanced')\n",
    "    linModel.fit(X_batch_train, Y_batch_train)\n",
    "    \n",
    "    Y_batch_pred = linModel.predict(X_batch_test)\n",
    "    recall = metrics.recall_score(Y_batch_test, Y_batch_pred)\n",
    "\n",
    "    #want to maximize recall to find all injuries\n",
    "    if recall >= recallThreshold:\n",
    "        models.append(linModel)\n",
    "RANDOM_STATE = 111\n",
    "startingX = 13\n",
    "\n",
    "y_col = 'injury_or_fatality'\n",
    "pos = fire_inc[fire_inc[ycol] == 1]\n",
    "neg = fire_inc[fire_inc[ycol] == 0]\n",
    "X_pos = pos.iloc[:,startingX:]\n",
    "Y_pos = pos[y_col]\n",
    "X_neg = neg.iloc[:,startingX:]\n",
    "Y_neg = neg[y_col]\n",
    "X_train_pos, X_test_pos, Y_train_pos, Y_test_pos = train_test_split(X_pos, Y_pos, random_state=RANDOM_STATE)\n",
    "X_train_neg, X_test_neg, Y_train_neg, Y_test_neg = train_test_split(X_neg, Y_neg, random_state=RANDOM_STATE)\n",
    "\n",
    "batchSize = len(X_train_pos)\n",
    "batches = 10000\n",
    "score = 0\n",
    "models = []\n",
    "for batch in range(0,batches):\n",
    "    X_train_neg_batch, X_test_neg_batch, Y_train_neg_batch, Y_test_neg_batch = train_test_split(\n",
    "                                                                                X_train_neg,\n",
    "                                                                                Y_train_neg,\n",
    "                                                                                train_size=batchSize,                                                                                                                                                  test_size=batchSize)\n",
    "    X_batch = X_train_pos.append(X_train_neg_batch)\n",
    "    Y_batch = Y_train_pos.append(Y_train_neg_batch)\n",
    "    \n",
    "    C = 1\n",
    "    linModel = LogisticRegression(random_state=RANDOM_STATE, C=C, penalty='l2', solver='liblinear')\n",
    "    linModel.fit(X_batch, Y_batch)\n",
    "    \n",
    "    X_test_batch = X_train_pos.append(X_test_neg_batch)\n",
    "    Y_test_batch = Y_train_pos.append(Y_test_neg_batch)\n",
    "    score = linModel.score(X_test_batch, Y_test_batch)\n",
    "\n",
    "    if score >= .55:\n",
    "        models.append(linModel)\n",
    "\n",
    "X_test = X_test_pos.append(X_test_neg)\n",
    "Y_test = Y_test_pos.append(Y_test_neg)\n",
    "X_train = X_train_pos.append(X_train_neg)\n",
    "Y_train = Y_train_pos.append(Y_train_neg)\n",
    "#combine predictions from all models and avg probabilities\n",
    "Y_pred = pd.DataFrame(Y_test)\n",
    "cols = []\n",
    "for idx, model in enumerate(models):\n",
    "    pred = model.predict_proba(X_test)[:,1]\n",
    "    Y_pred['model' + str(idx)] = pred\n",
    "    cols.append('model' + str(idx))\n",
    "\n",
    "Y_pred['pred'] = Y_pred[cols].mean(axis=1)\n",
    "threshold = .5\n",
    "true_pos = len(Y_pred[(Y_pred['injury_or_fatality'] == 1) & (Y_pred['pred'] >= threshold)])\n",
    "true_neg = len(Y_pred[(Y_pred['injury_or_fatality'] == 0) & (Y_pred['pred'] < threshold)])\n",
    "false_pos = len(Y_pred[(Y_pred['injury_or_fatality'] == 0) & (Y_pred['pred'] >= threshold)])\n",
    "false_neg = len(Y_pred[(Y_pred['injury_or_fatality'] == 1) & (Y_pred['pred'] < threshold)])\n",
    "conf_matrix = np.array([[true_neg, false_pos], [false_neg, true_pos]])\n",
    "recall = true_pos / ( true_pos + false_neg )\n",
    "print(conf_matrix)\n",
    "print(recall)"
   ],
   "outputs": [],
   "metadata": {}
  },
  {
   "cell_type": "code",
   "execution_count": 499,
   "source": [
    "##single logisitic regression w/o bagging\n",
    "C = 10\n",
    "linModel = LogisticRegression(random_state=RANDOM_STATE, C=C, penalty='l2', solver='liblinear', class_weight='balanced')\n",
    "linModel.fit(X_train, Y_train)\n",
    "Y_pred = linModel.predict(X_test)\n",
    "\n",
    "## [[TN  FP]\n",
    "#   [FN  TP]]\n",
    "get_model_metrics(y_train, linModel.predict_proba(X_train)[:,1])\n",
    "get_model_metrics(y_test, linModel.predict_proba(X_test)[:,1], .55)"
   ],
   "outputs": [
    {
     "output_type": "stream",
     "name": "stdout",
     "text": [
      "---Confusion Matrix---\n",
      "[[TN  FP]\n",
      "[FN  TP]]\n",
      "[[25726 22809]\n",
      " [  239   273]]\n",
      "---   ---\n",
      "Accuracy: 0.53\n",
      "AUC: 0.544\n",
      "Precision: 0.012\n",
      "Recall: 0.533\n",
      "---Confusion Matrix---\n",
      "[[TN  FP]\n",
      "[FN  TP]]\n",
      "[[14970  1195]\n",
      " [  165    20]]\n",
      "---   ---\n",
      "Accuracy: 0.917\n",
      "AUC: 0.5\n",
      "Precision: 0.016\n",
      "Recall: 0.108\n"
     ]
    }
   ],
   "metadata": {}
  },
  {
   "cell_type": "code",
   "execution_count": 275,
   "source": [
    "def get_model_metrics(y_true, y_pred_proba, threshold=0.5):\n",
    "    \"\"\"Print out confusion matrix, accuracy, AUC, precision, and recall using\n",
    "    probability threshold\"\"\"\n",
    "    \n",
    "    y_pred = (y_pred_proba > threshold).astype(int)\n",
    "    print(\"---Confusion Matrix---\")\n",
    "    print(\"\"\"[[TN  FP]\\n[FN  TP]]\"\"\")\n",
    "    print(metrics.confusion_matrix(y_true, y_pred))\n",
    "    print(\"---   ---\")\n",
    "    print(f'Accuracy: {round(metrics.accuracy_score(y_true, y_pred),3)}')\n",
    "    print(f'AUC: {round(metrics.roc_auc_score(y_true, y_pred_proba),3)}')\n",
    "    print(f'Precision: {round(metrics.precision_score(y_true, y_pred),3)}')\n",
    "    print(f'Recall: {round(metrics.recall_score(y_true, y_pred),3)}') "
   ],
   "outputs": [],
   "metadata": {}
  }
 ],
 "metadata": {
  "kernelspec": {
   "name": "python3",
   "display_name": "Python 3.8.2 64-bit ('geo': conda)"
  },
  "language_info": {
   "codemirror_mode": {
    "name": "ipython",
    "version": 3
   },
   "file_extension": ".py",
   "mimetype": "text/x-python",
   "name": "python",
   "nbconvert_exporter": "python",
   "pygments_lexer": "ipython3",
   "version": "3.8.2"
  },
  "interpreter": {
   "hash": "6474c242f4b8706d918f54bc2357b8276d4d78591a11991ed513088f52a74687"
  }
 },
 "nbformat": 4,
 "nbformat_minor": 2
}